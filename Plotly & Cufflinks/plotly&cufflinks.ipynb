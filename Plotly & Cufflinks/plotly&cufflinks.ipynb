{
 "cells": [
  {
   "cell_type": "markdown",
   "source": [
    "## Plotly is interactive visualisation library\r\n",
    "## Cufflinks connects Plotly and Pandas\r\n",
    "\r\n",
    "Conda don't come with these so need to pip install these."
   ],
   "metadata": {}
  },
  {
   "cell_type": "code",
   "execution_count": 1,
   "source": [
    "import numpy as np\r\n",
    "import pandas as pd\r\n",
    "%matplotlib inline"
   ],
   "outputs": [],
   "metadata": {}
  },
  {
   "cell_type": "code",
   "execution_count": 2,
   "source": [
    "from plotly import __version__\r\n",
    "print(__version__)"
   ],
   "outputs": [
    {
     "output_type": "stream",
     "name": "stdout",
     "text": [
      "5.1.0\n"
     ]
    }
   ],
   "metadata": {}
  },
  {
   "cell_type": "code",
   "execution_count": 3,
   "source": [
    "import cufflinks as cf"
   ],
   "outputs": [],
   "metadata": {}
  },
  {
   "cell_type": "code",
   "execution_count": 4,
   "source": [
    "from plotly.offline import download_plotlyjs, init_notebook_mode, plot, iplot"
   ],
   "outputs": [],
   "metadata": {}
  },
  {
   "cell_type": "code",
   "execution_count": 5,
   "source": [
    "init_notebook_mode(connected= True) # will connect javascript to over notebook"
   ],
   "outputs": [
    {
     "output_type": "display_data",
     "data": {
      "text/html": [
       "        <script type=\"text/javascript\">\n",
       "        window.PlotlyConfig = {MathJaxConfig: 'local'};\n",
       "        if (window.MathJax) {MathJax.Hub.Config({SVG: {font: \"STIX-Web\"}});}\n",
       "        if (typeof require !== 'undefined') {\n",
       "        require.undef(\"plotly\");\n",
       "        requirejs.config({\n",
       "            paths: {\n",
       "                'plotly': ['https://cdn.plot.ly/plotly-2.2.0.min']\n",
       "            }\n",
       "        });\n",
       "        require(['plotly'], function(Plotly) {\n",
       "            window._Plotly = Plotly;\n",
       "        });\n",
       "        }\n",
       "        </script>\n",
       "        "
      ]
     },
     "metadata": {}
    }
   ],
   "metadata": {}
  },
  {
   "cell_type": "code",
   "execution_count": 6,
   "source": [
    "cf.go_offline()"
   ],
   "outputs": [
    {
     "output_type": "display_data",
     "data": {
      "text/html": [
       "        <script type=\"text/javascript\">\n",
       "        window.PlotlyConfig = {MathJaxConfig: 'local'};\n",
       "        if (window.MathJax) {MathJax.Hub.Config({SVG: {font: \"STIX-Web\"}});}\n",
       "        if (typeof require !== 'undefined') {\n",
       "        require.undef(\"plotly\");\n",
       "        requirejs.config({\n",
       "            paths: {\n",
       "                'plotly': ['https://cdn.plot.ly/plotly-2.2.0.min']\n",
       "            }\n",
       "        });\n",
       "        require(['plotly'], function(Plotly) {\n",
       "            window._Plotly = Plotly;\n",
       "        });\n",
       "        }\n",
       "        </script>\n",
       "        "
      ]
     },
     "metadata": {}
    }
   ],
   "metadata": {}
  },
  {
   "cell_type": "code",
   "execution_count": 7,
   "source": [
    "# DATA\r\n",
    "df = pd.DataFrame(np.random.randn(100,4), columns='A B C D'.split())\r\n",
    "df.head()"
   ],
   "outputs": [
    {
     "output_type": "execute_result",
     "data": {
      "text/plain": [
       "          A         B         C         D\n",
       "0  0.428608 -0.393260  0.208680  1.192705\n",
       "1 -0.241505  0.055646 -0.539969  0.682351\n",
       "2  0.803335  0.347802 -0.104514 -1.769998\n",
       "3 -0.454173  1.673413  0.680791 -0.440942\n",
       "4 -0.993267 -0.023030 -0.623706 -0.402756"
      ],
      "text/html": [
       "<div>\n",
       "<style scoped>\n",
       "    .dataframe tbody tr th:only-of-type {\n",
       "        vertical-align: middle;\n",
       "    }\n",
       "\n",
       "    .dataframe tbody tr th {\n",
       "        vertical-align: top;\n",
       "    }\n",
       "\n",
       "    .dataframe thead th {\n",
       "        text-align: right;\n",
       "    }\n",
       "</style>\n",
       "<table border=\"1\" class=\"dataframe\">\n",
       "  <thead>\n",
       "    <tr style=\"text-align: right;\">\n",
       "      <th></th>\n",
       "      <th>A</th>\n",
       "      <th>B</th>\n",
       "      <th>C</th>\n",
       "      <th>D</th>\n",
       "    </tr>\n",
       "  </thead>\n",
       "  <tbody>\n",
       "    <tr>\n",
       "      <th>0</th>\n",
       "      <td>0.428608</td>\n",
       "      <td>-0.393260</td>\n",
       "      <td>0.208680</td>\n",
       "      <td>1.192705</td>\n",
       "    </tr>\n",
       "    <tr>\n",
       "      <th>1</th>\n",
       "      <td>-0.241505</td>\n",
       "      <td>0.055646</td>\n",
       "      <td>-0.539969</td>\n",
       "      <td>0.682351</td>\n",
       "    </tr>\n",
       "    <tr>\n",
       "      <th>2</th>\n",
       "      <td>0.803335</td>\n",
       "      <td>0.347802</td>\n",
       "      <td>-0.104514</td>\n",
       "      <td>-1.769998</td>\n",
       "    </tr>\n",
       "    <tr>\n",
       "      <th>3</th>\n",
       "      <td>-0.454173</td>\n",
       "      <td>1.673413</td>\n",
       "      <td>0.680791</td>\n",
       "      <td>-0.440942</td>\n",
       "    </tr>\n",
       "    <tr>\n",
       "      <th>4</th>\n",
       "      <td>-0.993267</td>\n",
       "      <td>-0.023030</td>\n",
       "      <td>-0.623706</td>\n",
       "      <td>-0.402756</td>\n",
       "    </tr>\n",
       "  </tbody>\n",
       "</table>\n",
       "</div>"
      ]
     },
     "metadata": {},
     "execution_count": 7
    }
   ],
   "metadata": {}
  },
  {
   "cell_type": "code",
   "execution_count": 8,
   "source": [
    "df2 = pd.DataFrame({'Category':['A','B','C'], 'Values':[32,43,54]})\r\n",
    "df2"
   ],
   "outputs": [
    {
     "output_type": "execute_result",
     "data": {
      "text/plain": [
       "  Category  Values\n",
       "0        A      32\n",
       "1        B      43\n",
       "2        C      54"
      ],
      "text/html": [
       "<div>\n",
       "<style scoped>\n",
       "    .dataframe tbody tr th:only-of-type {\n",
       "        vertical-align: middle;\n",
       "    }\n",
       "\n",
       "    .dataframe tbody tr th {\n",
       "        vertical-align: top;\n",
       "    }\n",
       "\n",
       "    .dataframe thead th {\n",
       "        text-align: right;\n",
       "    }\n",
       "</style>\n",
       "<table border=\"1\" class=\"dataframe\">\n",
       "  <thead>\n",
       "    <tr style=\"text-align: right;\">\n",
       "      <th></th>\n",
       "      <th>Category</th>\n",
       "      <th>Values</th>\n",
       "    </tr>\n",
       "  </thead>\n",
       "  <tbody>\n",
       "    <tr>\n",
       "      <th>0</th>\n",
       "      <td>A</td>\n",
       "      <td>32</td>\n",
       "    </tr>\n",
       "    <tr>\n",
       "      <th>1</th>\n",
       "      <td>B</td>\n",
       "      <td>43</td>\n",
       "    </tr>\n",
       "    <tr>\n",
       "      <th>2</th>\n",
       "      <td>C</td>\n",
       "      <td>54</td>\n",
       "    </tr>\n",
       "  </tbody>\n",
       "</table>\n",
       "</div>"
      ]
     },
     "metadata": {},
     "execution_count": 8
    }
   ],
   "metadata": {}
  },
  {
   "cell_type": "code",
   "execution_count": 9,
   "source": [
    " df.plot()"
   ],
   "outputs": [
    {
     "output_type": "execute_result",
     "data": {
      "text/plain": [
       "<AxesSubplot:>"
      ]
     },
     "metadata": {},
     "execution_count": 9
    },
    {
     "output_type": "display_data",
     "data": {
      "text/plain": [
       "<Figure size 432x288 with 1 Axes>"
      ],
      "image/png": "[encoded data removed]"
     },
     "metadata": {
      "needs_background": "light"
     }
    }
   ],
   "metadata": {}
  },
  {
   "cell_type": "code",
   "execution_count": 10,
   "source": [
    "df.iplot()   # interactive plot(hover through the plot)"
   ],
   "outputs": [
    {
     "output_type": "display_data",
     "data": {
      "text/html": [
       "<div>                            <div id=\"a4118ffd-58d7-4a3f-86fc-4a3bd0867430\" class=\"plotly-graph-div\" style=\"height:525px; width:100%;\"></div>            <script type=\"text/javascript\">                require([\"plotly\"], function(Plotly) {                    window.PLOTLYENV=window.PLOTLYENV || {};\n",
       "                    window.PLOTLYENV.BASE_URL='https://plot.ly';                                    if (document.getElementById(\"a4118ffd-58d7-4a3f-86fc-4a3bd0867430\")) {                    Plotly.newPlot(                        \"a4118ffd-58d7-4a3f-86fc-4a3bd0867430\",                        [{\"line\":{\"color\":\"rgba(255, 153, 51, 1.0)\",\"dash\":\"solid\",\"shape\":\"linear\",\"width\":1.3},\"mode\":\"lines\",\"name\":\"A\",\"text\":\"\",\"type\":\"scatter\",\"x\":[0,1,2,3,4,5,6,7,8,9,10,11,12,13,14,15,16,17,18,19,20,21,22,23,24,25,26,27,28,29,30,31,32,33,34,35,36,37,38,39,40,41,42,43,44,45,46,47,48,49,50,51,52,53,54,55,56,57,58,59,60,61,62,63,64,65,66,67,68,69,70,71,72,73,74,75,76,77,78,79,80,81,82,83,84,85,86,87,88,89,90,91,92,93,94,95,96,97,98,99],\"y\":[0.42860790047642905,-0.24150461408966148,0.8033352317583001,-0.4541726165268112,-0.9932670897240472,-1.6407185774656428,1.0292734271511936,0.717201122535486,-0.8328302557547055,-0.29479504395009437,-0.7876330322200155,1.013825910413848,-0.6145438366960542,-0.42143338248421097,1.0861506220781272,1.520376664474774,-0.01777198223317564,-1.6643908381651553,0.08997243361014205,0.1814431345228801,-0.7291269758207538,0.30441811909622163,-0.3331215193748714,-2.443509759910543,1.4038049617436101,-0.5289496253542012,0.5762209244034456,1.7473983249450766,1.1750635751298635,0.3439285942573213,0.06695512250429193,-1.358152089819541,1.3259956980602265,0.9230291574367999,2.1274268735237967,0.01609166317697218,-0.008794112180982546,-0.13078079279846982,-0.9773233004907493,0.42408560898470316,0.4781801921439303,-1.2302375288956056,-2.215534588013989,-0.6173209910577786,0.6873014952127062,-0.20768023471795324,1.3807411511048835,1.5676923985995384,-1.3535828954722193,0.6688398215891643,-1.9417660542959037,0.6086396296874507,-1.6891089331095988,0.8404967201254736,-0.25611772522792703,0.5649218453129284,-1.2455400184288734,0.08511126958214074,-1.2445956780254495,0.693274162901264,-0.555786574996747,0.014188061775017123,0.5756404633679048,-0.07502021616099822,0.8196550337696089,0.14719285707343466,2.0721531962168656,-0.05089514477070536,0.9178935846337136,0.8082192273766469,-0.9342785145415695,-0.7892361220520734,-1.0528167075806287,-0.900300147200952,-0.06378348260655418,-1.4058717991735044,-0.04637611154553381,-0.45343802555693713,0.3609959799788183,-0.9321964504655148,1.9639263256216999,-0.8513017162060174,-1.177257530160419,0.25079731529057353,-0.6455488140585096,-0.3597892849349049,-0.3522676026628601,0.03400583986455085,-0.4119885784095581,-0.668910236483875,0.6638172609013666,-0.09892944489312143,-1.9553751667413874,1.0932030834818462,0.7807217842469781,0.8029768142523035,-1.2272581484898053,-0.6477754460806492,1.9529843160513334,-0.84237910998657]},{\"line\":{\"color\":\"rgba(55, 128, 191, 1.0)\",\"dash\":\"solid\",\"shape\":\"linear\",\"width\":1.3},\"mode\":\"lines\",\"name\":\"B\",\"text\":\"\",\"type\":\"scatter\",\"x\":[0,1,2,3,4,5,6,7,8,9,10,11,12,13,14,15,16,17,18,19,20,21,22,23,24,25,26,27,28,29,30,31,32,33,34,35,36,37,38,39,40,41,42,43,44,45,46,47,48,49,50,51,52,53,54,55,56,57,58,59,60,61,62,63,64,65,66,67,68,69,70,71,72,73,74,75,76,77,78,79,80,81,82,83,84,85,86,87,88,89,90,91,92,93,94,95,96,97,98,99],\"y\":[-0.39325974971391525,0.05564646570619147,0.34780196590089396,1.6734131674208959,-0.023029982837105743,1.0012476696632717,0.18703713105734537,1.262120083305586,-0.8113828042042744,-0.36389618183312794,0.3182825345578306,0.26561207372775414,-0.31710083987767906,0.3307012661878355,-0.3827743646829566,-0.07784500406315373,0.07184939550950868,1.8600532821137243,-1.3966157050739068,0.6640713923826992,-0.8492037274388488,-0.6263363686461829,1.6250038488954621,-0.5236195883778583,-2.16345391306942,1.3029655695823983,0.2283173236958734,1.7370577014233897,-0.029732253191304518,-2.0533396952947993,-0.0015571473203474543,1.1581858115689212,0.6129394841978791,2.784380155305771,-0.7314673000828203,0.3385127274541624,-0.7687161829470321,1.543242396773852,-0.717193509958402,0.37699569673225664,-1.2396619940727844,0.4550492681869588,-2.0543094997835243,1.3600779678873771,-1.244574082682165,-2.1843312309789535,-0.6296399403616632,0.2871687175955069,-1.8976766970498358,-1.746810132351409,1.1721777502639719,0.12975308001389982,-0.906679091917525,-0.8235255560578126,1.629416680723812,-0.3258256193559577,0.3183405316268972,0.19960564744461226,-2.350317827213011,0.5704819720769283,-0.572177939912174,0.47504228909483914,0.9978013795099565,0.03284178097168736,1.7998520265955422,1.1791578061649604,0.6725374757403919,-0.18452181673013568,-1.3271976219839603,-1.4712235163192122,1.5058786374354427,0.20716152593826656,-0.8002141505754706,-0.23591613710914958,0.4176022846377921,-0.7322776036272107,-0.7501160039715231,0.2246809529639941,0.49107947550493974,-1.366060904827018,-1.873047410185736,0.5962151440823994,0.17473240351086952,-0.25176512171647975,0.8296301643863834,-0.17204697391626958,1.524750974056855,1.4053490752537185,-1.2809051231732484,0.49433207086912184,0.13477043390008417,-0.7369883578766098,-1.6833329347466606,-1.1611543228587384,0.16417302030913833,-2.55392965531275,0.554411998328491,0.9248809515936174,0.07974476121974629,1.244761109401404]},{\"line\":{\"color\":\"rgba(50, 171, 96, 1.0)\",\"dash\":\"solid\",\"shape\":\"linear\",\"width\":1.3},\"mode\":\"lines\",\"name\":\"C\",\"text\":\"\",\"type\":\"scatter\",\"x\":[0,1,2,3,4,5,6,7,8,9,10,11,12,13,14,15,16,17,18,19,20,21,22,23,24,25,26,27,28,29,30,31,32,33,34,35,36,37,38,39,40,41,42,43,44,45,46,47,48,49,50,51,52,53,54,55,56,57,58,59,60,61,62,63,64,65,66,67,68,69,70,71,72,73,74,75,76,77,78,79,80,81,82,83,84,85,86,87,88,89,90,91,92,93,94,95,96,97,98,99],\"y\":[0.20867975771520808,-0.539968732680375,-0.10451406860936421,0.6807906941541452,-0.6237061132537227,1.1645819493681946,-0.20319634501381628,-1.8719734890851034,0.19006397038468342,0.7426829780297319,1.5866853683306084,-0.8830991836928733,1.329381939728609,-0.36910943637848315,-0.1259704216318707,0.7599399179503843,0.2570493559742786,1.0102501201538379,-0.8301636846246374,0.9098700533567373,1.272308317853795,0.27644901365821556,-0.5307842275179776,0.6928510797756365,-0.7467081888636957,1.0864734312542663,-0.4088395415896088,-1.3297602651780072,-1.441235068785222,-0.15212789644905217,0.9578071542227202,-0.07460142157038534,0.5113698014381537,-0.7585669417479952,-1.7210677610542262,0.6458738210296548,-0.7221738362033334,-0.09708844896140927,0.34294090340127364,-1.0737713509953322,-1.3205133194548362,0.4033547123960727,0.06702499803391719,-0.3894870046425358,0.5545246926764152,-0.3936172349445884,0.5204415204166847,-2.296869709022682,-1.0722455437645189,-0.0076908262706479645,-0.8497611342012257,-0.5418473928237962,0.6825865011945559,1.528074978722198,0.7421162493465568,-1.0501963591592836,1.5291754301353226,0.9965167862689587,-0.8002793081334799,1.1160758258201309,2.416553937349119,-0.7323025322245335,1.045911989237607,-2.3075278310782483,-0.11065972894159559,1.6167179621416072,-1.5706737901917416,-0.176117048077122,0.4745874051396574,-0.461148688308992,-0.1907540082939412,0.2099327698711436,-1.2321302971466992,0.6032727936313779,1.4648497803732206,0.3072917431775034,1.0415220041526154,0.15940004078617948,-0.8020956078401368,-0.5019052846097677,-0.8158122916130118,0.9735286018887148,0.49382864652704367,-0.149893623001522,0.7465151638614091,1.41789646851737,0.42684270812646524,-1.9110647146667514,-1.1593244688815125,-0.8502884309003719,-0.4656426710483235,1.7640395575750731,-0.7333153880908555,-0.6169666283105139,-1.4096884439956874,-0.3822792755757565,2.1510015077400606,-0.480261706871716,-0.5583127368388549,-0.332192650314338]},{\"line\":{\"color\":\"rgba(128, 0, 128, 1.0)\",\"dash\":\"solid\",\"shape\":\"linear\",\"width\":1.3},\"mode\":\"lines\",\"name\":\"D\",\"text\":\"\",\"type\":\"scatter\",\"x\":[0,1,2,3,4,5,6,7,8,9,10,11,12,13,14,15,16,17,18,19,20,21,22,23,24,25,26,27,28,29,30,31,32,33,34,35,36,37,38,39,40,41,42,43,44,45,46,47,48,49,50,51,52,53,54,55,56,57,58,59,60,61,62,63,64,65,66,67,68,69,70,71,72,73,74,75,76,77,78,79,80,81,82,83,84,85,86,87,88,89,90,91,92,93,94,95,96,97,98,99],\"y\":[1.1927052467737471,0.6823505953261061,-1.7699977924906336,-0.4409417245274874,-0.4027560996259744,1.3855538454435494,0.25941520948138114,0.45409670225836857,-1.828238319014977,-0.2430449199174727,0.2647028823015733,1.4415053080261364,1.073705430987225,0.4866361960213816,1.4824416894323167,0.07105310534559514,0.13215237042095185,-1.2120350758827654,0.6581602382531442,-0.7675070609238718,0.9668208021638547,-0.7946618684229247,1.7144331828714836,0.6183624129108227,0.32792919874517806,-1.4384318058696666,-1.896424554138019,1.3936239781195967,-0.5608297156821659,0.6174363013840861,-0.3920373006091651,0.9361108376422885,-1.215021028570566,0.8401590571870553,2.3185983729391744,0.2455730696322708,0.19536172069491808,1.4623879346019342,1.6091859374219266,-1.1194909687215293,-1.2857377279485118,0.9585464930884179,-2.0409079776428296,-0.3516153660537357,1.1247468667742029,-0.6225409273299736,-0.881020925119876,-0.6288513210560867,1.0181706822135164,0.43486023954956127,1.0735404839177463,-0.8360456949946155,-1.3071731796213288,-0.07262526518920134,0.5259937944952808,0.7758932426331349,-1.2246509725047636,0.7812189441750645,-0.9343539498244041,-0.1670384776565554,1.090640883944806,-1.2034828032498064,0.25473828806871673,0.8635343083832683,0.3625951607961471,-0.2195462221424108,-0.7390148935282446,0.2050754290124465,-0.5872703781784867,0.6724208793894313,0.4445472943607837,0.6485431478865128,-0.013995098131496525,-1.8286239296369833,0.4379298665364222,0.36020393470459283,-0.055472205298219925,-0.9817455885806337,-1.0867258660214782,0.9792867549289266,-0.39095614962872743,-1.2431321852725168,0.6483194288423902,-0.7920970509807383,-0.3546536488679633,-1.6103360489908431,1.3053501829720535,1.145556735167566,-0.6264207226268598,-0.21363957491562746,-0.6847452297725517,1.2131865236514339,-1.7478252431183574,1.209465948879976,0.43519122902619073,-0.15306143209734444,-1.3114763939089504,-0.2031965018915055,-1.5469322006075121,0.45462915216522054]}],                        {\"legend\":{\"bgcolor\":\"#F5F6F9\",\"font\":{\"color\":\"#4D5663\"}},\"paper_bgcolor\":\"#F5F6F9\",\"plot_bgcolor\":\"#F5F6F9\",\"template\":{\"data\":{\"bar\":[{\"error_x\":{\"color\":\"#2a3f5f\"},\"error_y\":{\"color\":\"#2a3f5f\"},\"marker\":{\"line\":{\"color\":\"#E5ECF6\",\"width\":0.5},\"pattern\":{\"fillmode\":\"overlay\",\"size\":10,\"solidity\":0.2}},\"type\":\"bar\"}],\"barpolar\":[{\"marker\":{\"line\":{\"color\":\"#E5ECF6\",\"width\":0.5},\"pattern\":{\"fillmode\":\"overlay\",\"size\":10,\"solidity\":0.2}},\"type\":\"barpolar\"}],\"carpet\":[{\"aaxis\":{\"endlinecolor\":\"#2a3f5f\",\"gridcolor\":\"white\",\"linecolor\":\"white\",\"minorgridcolor\":\"white\",\"startlinecolor\":\"#2a3f5f\"},\"baxis\":{\"endlinecolor\":\"#2a3f5f\",\"gridcolor\":\"white\",\"linecolor\":\"white\",\"minorgridcolor\":\"white\",\"startlinecolor\":\"#2a3f5f\"},\"type\":\"carpet\"}],\"choropleth\":[{\"colorbar\":{\"outlinewidth\":0,\"ticks\":\"\"},\"type\":\"choropleth\"}],\"contour\":[{\"colorbar\":{\"outlinewidth\":0,\"ticks\":\"\"},\"colorscale\":[[0.0,\"#0d0887\"],[0.1111111111111111,\"#46039f\"],[0.2222222222222222,\"#7201a8\"],[0.3333333333333333,\"#9c179e\"],[0.4444444444444444,\"#bd3786\"],[0.5555555555555556,\"#d8576b\"],[0.6666666666666666,\"#ed7953\"],[0.7777777777777778,\"#fb9f3a\"],[0.8888888888888888,\"#fdca26\"],[1.0,\"#f0f921\"]],\"type\":\"contour\"}],\"contourcarpet\":[{\"colorbar\":{\"outlinewidth\":0,\"ticks\":\"\"},\"type\":\"contourcarpet\"}],\"heatmap\":[{\"colorbar\":{\"outlinewidth\":0,\"ticks\":\"\"},\"colorscale\":[[0.0,\"#0d0887\"],[0.1111111111111111,\"#46039f\"],[0.2222222222222222,\"#7201a8\"],[0.3333333333333333,\"#9c179e\"],[0.4444444444444444,\"#bd3786\"],[0.5555555555555556,\"#d8576b\"],[0.6666666666666666,\"#ed7953\"],[0.7777777777777778,\"#fb9f3a\"],[0.8888888888888888,\"#fdca26\"],[1.0,\"#f0f921\"]],\"type\":\"heatmap\"}],\"heatmapgl\":[{\"colorbar\":{\"outlinewidth\":0,\"ticks\":\"\"},\"colorscale\":[[0.0,\"#0d0887\"],[0.1111111111111111,\"#46039f\"],[0.2222222222222222,\"#7201a8\"],[0.3333333333333333,\"#9c179e\"],[0.4444444444444444,\"#bd3786\"],[0.5555555555555556,\"#d8576b\"],[0.6666666666666666,\"#ed7953\"],[0.7777777777777778,\"#fb9f3a\"],[0.8888888888888888,\"#fdca26\"],[1.0,\"#f0f921\"]],\"type\":\"heatmapgl\"}],\"histogram\":[{\"marker\":{\"pattern\":{\"fillmode\":\"overlay\",\"size\":10,\"solidity\":0.2}},\"type\":\"histogram\"}],\"histogram2d\":[{\"colorbar\":{\"outlinewidth\":0,\"ticks\":\"\"},\"colorscale\":[[0.0,\"#0d0887\"],[0.1111111111111111,\"#46039f\"],[0.2222222222222222,\"#7201a8\"],[0.3333333333333333,\"#9c179e\"],[0.4444444444444444,\"#bd3786\"],[0.5555555555555556,\"#d8576b\"],[0.6666666666666666,\"#ed7953\"],[0.7777777777777778,\"#fb9f3a\"],[0.8888888888888888,\"#fdca26\"],[1.0,\"#f0f921\"]],\"type\":\"histogram2d\"}],\"histogram2dcontour\":[{\"colorbar\":{\"outlinewidth\":0,\"ticks\":\"\"},\"colorscale\":[[0.0,\"#0d0887\"],[0.1111111111111111,\"#46039f\"],[0.2222222222222222,\"#7201a8\"],[0.3333333333333333,\"#9c179e\"],[0.4444444444444444,\"#bd3786\"],[0.5555555555555556,\"#d8576b\"],[0.6666666666666666,\"#ed7953\"],[0.7777777777777778,\"#fb9f3a\"],[0.8888888888888888,\"#fdca26\"],[1.0,\"#f0f921\"]],\"type\":\"histogram2dcontour\"}],\"mesh3d\":[{\"colorbar\":{\"outlinewidth\":0,\"ticks\":\"\"},\"type\":\"mesh3d\"}],\"parcoords\":[{\"line\":{\"colorbar\":{\"outlinewidth\":0,\"ticks\":\"\"}},\"type\":\"parcoords\"}],\"pie\":[{\"automargin\":true,\"type\":\"pie\"}],\"scatter\":[{\"marker\":{\"colorbar\":{\"outlinewidth\":0,\"ticks\":\"\"}},\"type\":\"scatter\"}],\"scatter3d\":[{\"line\":{\"colorbar\":{\"outlinewidth\":0,\"ticks\":\"\"}},\"marker\":{\"colorbar\":{\"outlinewidth\":0,\"ticks\":\"\"}},\"type\":\"scatter3d\"}],\"scattercarpet\":[{\"marker\":{\"colorbar\":{\"outlinewidth\":0,\"ticks\":\"\"}},\"type\":\"scattercarpet\"}],\"scattergeo\":[{\"marker\":{\"colorbar\":{\"outlinewidth\":0,\"ticks\":\"\"}},\"type\":\"scattergeo\"}],\"scattergl\":[{\"marker\":{\"colorbar\":{\"outlinewidth\":0,\"ticks\":\"\"}},\"type\":\"scattergl\"}],\"scattermapbox\":[{\"marker\":{\"colorbar\":{\"outlinewidth\":0,\"ticks\":\"\"}},\"type\":\"scattermapbox\"}],\"scatterpolar\":[{\"marker\":{\"colorbar\":{\"outlinewidth\":0,\"ticks\":\"\"}},\"type\":\"scatterpolar\"}],\"scatterpolargl\":[{\"marker\":{\"colorbar\":{\"outlinewidth\":0,\"ticks\":\"\"}},\"type\":\"scatterpolargl\"}],\"scatterternary\":[{\"marker\":{\"colorbar\":{\"outlinewidth\":0,\"ticks\":\"\"}},\"type\":\"scatterternary\"}],\"surface\":[{\"colorbar\":{\"outlinewidth\":0,\"ticks\":\"\"},\"colorscale\":[[0.0,\"#0d0887\"],[0.1111111111111111,\"#46039f\"],[0.2222222222222222,\"#7201a8\"],[0.3333333333333333,\"#9c179e\"],[0.4444444444444444,\"#bd3786\"],[0.5555555555555556,\"#d8576b\"],[0.6666666666666666,\"#ed7953\"],[0.7777777777777778,\"#fb9f3a\"],[0.8888888888888888,\"#fdca26\"],[1.0,\"#f0f921\"]],\"type\":\"surface\"}],\"table\":[{\"cells\":{\"fill\":{\"color\":\"#EBF0F8\"},\"line\":{\"color\":\"white\"}},\"header\":{\"fill\":{\"color\":\"#C8D4E3\"},\"line\":{\"color\":\"white\"}},\"type\":\"table\"}]},\"layout\":{\"annotationdefaults\":{\"arrowcolor\":\"#2a3f5f\",\"arrowhead\":0,\"arrowwidth\":1},\"autotypenumbers\":\"strict\",\"coloraxis\":{\"colorbar\":{\"outlinewidth\":0,\"ticks\":\"\"}},\"colorscale\":{\"diverging\":[[0,\"#8e0152\"],[0.1,\"#c51b7d\"],[0.2,\"#de77ae\"],[0.3,\"#f1b6da\"],[0.4,\"#fde0ef\"],[0.5,\"#f7f7f7\"],[0.6,\"#e6f5d0\"],[0.7,\"#b8e186\"],[0.8,\"#7fbc41\"],[0.9,\"#4d9221\"],[1,\"#276419\"]],\"sequential\":[[0.0,\"#0d0887\"],[0.1111111111111111,\"#46039f\"],[0.2222222222222222,\"#7201a8\"],[0.3333333333333333,\"#9c179e\"],[0.4444444444444444,\"#bd3786\"],[0.5555555555555556,\"#d8576b\"],[0.6666666666666666,\"#ed7953\"],[0.7777777777777778,\"#fb9f3a\"],[0.8888888888888888,\"#fdca26\"],[1.0,\"#f0f921\"]],\"sequentialminus\":[[0.0,\"#0d0887\"],[0.1111111111111111,\"#46039f\"],[0.2222222222222222,\"#7201a8\"],[0.3333333333333333,\"#9c179e\"],[0.4444444444444444,\"#bd3786\"],[0.5555555555555556,\"#d8576b\"],[0.6666666666666666,\"#ed7953\"],[0.7777777777777778,\"#fb9f3a\"],[0.8888888888888888,\"#fdca26\"],[1.0,\"#f0f921\"]]},\"colorway\":[\"#636efa\",\"#EF553B\",\"#00cc96\",\"#ab63fa\",\"#FFA15A\",\"#19d3f3\",\"#FF6692\",\"#B6E880\",\"#FF97FF\",\"#FECB52\"],\"font\":{\"color\":\"#2a3f5f\"},\"geo\":{\"bgcolor\":\"white\",\"lakecolor\":\"white\",\"landcolor\":\"#E5ECF6\",\"showlakes\":true,\"showland\":true,\"subunitcolor\":\"white\"},\"hoverlabel\":{\"align\":\"left\"},\"hovermode\":\"closest\",\"mapbox\":{\"style\":\"light\"},\"paper_bgcolor\":\"white\",\"plot_bgcolor\":\"#E5ECF6\",\"polar\":{\"angularaxis\":{\"gridcolor\":\"white\",\"linecolor\":\"white\",\"ticks\":\"\"},\"bgcolor\":\"#E5ECF6\",\"radialaxis\":{\"gridcolor\":\"white\",\"linecolor\":\"white\",\"ticks\":\"\"}},\"scene\":{\"xaxis\":{\"backgroundcolor\":\"#E5ECF6\",\"gridcolor\":\"white\",\"gridwidth\":2,\"linecolor\":\"white\",\"showbackground\":true,\"ticks\":\"\",\"zerolinecolor\":\"white\"},\"yaxis\":{\"backgroundcolor\":\"#E5ECF6\",\"gridcolor\":\"white\",\"gridwidth\":2,\"linecolor\":\"white\",\"showbackground\":true,\"ticks\":\"\",\"zerolinecolor\":\"white\"},\"zaxis\":{\"backgroundcolor\":\"#E5ECF6\",\"gridcolor\":\"white\",\"gridwidth\":2,\"linecolor\":\"white\",\"showbackground\":true,\"ticks\":\"\",\"zerolinecolor\":\"white\"}},\"shapedefaults\":{\"line\":{\"color\":\"#2a3f5f\"}},\"ternary\":{\"aaxis\":{\"gridcolor\":\"white\",\"linecolor\":\"white\",\"ticks\":\"\"},\"baxis\":{\"gridcolor\":\"white\",\"linecolor\":\"white\",\"ticks\":\"\"},\"bgcolor\":\"#E5ECF6\",\"caxis\":{\"gridcolor\":\"white\",\"linecolor\":\"white\",\"ticks\":\"\"}},\"title\":{\"x\":0.05},\"xaxis\":{\"automargin\":true,\"gridcolor\":\"white\",\"linecolor\":\"white\",\"ticks\":\"\",\"title\":{\"standoff\":15},\"zerolinecolor\":\"white\",\"zerolinewidth\":2},\"yaxis\":{\"automargin\":true,\"gridcolor\":\"white\",\"linecolor\":\"white\",\"ticks\":\"\",\"title\":{\"standoff\":15},\"zerolinecolor\":\"white\",\"zerolinewidth\":2}}},\"title\":{\"font\":{\"color\":\"#4D5663\"}},\"xaxis\":{\"gridcolor\":\"#E1E5ED\",\"showgrid\":true,\"tickfont\":{\"color\":\"#4D5663\"},\"title\":{\"font\":{\"color\":\"#4D5663\"},\"text\":\"\"},\"zerolinecolor\":\"#E1E5ED\"},\"yaxis\":{\"gridcolor\":\"#E1E5ED\",\"showgrid\":true,\"tickfont\":{\"color\":\"#4D5663\"},\"title\":{\"font\":{\"color\":\"#4D5663\"},\"text\":\"\"},\"zerolinecolor\":\"#E1E5ED\"}},                        {\"showLink\": true, \"linkText\": \"Export to plot.ly\", \"plotlyServerURL\": \"https://plot.ly\", \"responsive\": true}                    ).then(function(){\n",
       "                            \n",
       "var gd = document.getElementById('a4118ffd-58d7-4a3f-86fc-4a3bd0867430');\n",
       "var x = new MutationObserver(function (mutations, observer) {{\n",
       "        var display = window.getComputedStyle(gd).display;\n",
       "        if (!display || display === 'none') {{\n",
       "            console.log([gd, 'removed!']);\n",
       "            Plotly.purge(gd);\n",
       "            observer.disconnect();\n",
       "        }}\n",
       "}});\n",
       "\n",
       "// Listen for the removal of the full notebook cells\n",
       "var notebookContainer = gd.closest('#notebook-container');\n",
       "if (notebookContainer) {{\n",
       "    x.observe(notebookContainer, {childList: true});\n",
       "}}\n",
       "\n",
       "// Listen for the clearing of the current output cell\n",
       "var outputEl = gd.closest('.output');\n",
       "if (outputEl) {{\n",
       "    x.observe(outputEl, {childList: true});\n",
       "}}\n",
       "\n",
       "                        })                };                });            </script>        </div>"
      ],
      "application/vnd.plotly.v1+json": {
       "config": {
        "linkText": "Export to plot.ly",
        "plotlyServerURL": "https://plot.ly",
        "showLink": true
       },
       "data": [
        {
         "line": {
          "color": "rgba(255, 153, 51, 1.0)",
          "dash": "solid",
          "shape": "linear",
          "width": 1.3
         },
         "mode": "lines",
         "name": "A",
         "text": "",
         "type": "scatter",
         "x": [
          0,
          1,
          2,
          3,
          4,
          5,
          6,
          7,
          8,
          9,
          10,
          11,
          12,
          13,
          14,
          15,
          16,
          17,
          18,
          19,
          20,
          21,
          22,
          23,
          24,
          25,
          26,
          27,
          28,
          29,
          30,
          31,
          32,
          33,
          34,
          35,
          36,
          37,
          38,
          39,
          40,
          41,
          42,
          43,
          44,
          45,
          46,
          47,
          48,
          49,
          50,
          51,
          52,
          53,
          54,
          55,
          56,
          57,
          58,
          59,
          60,
          61,
          62,
          63,
          64,
          65,
          66,
          67,
          68,
          69,
          70,
          71,
          72,
          73,
          74,
          75,
          76,
          77,
          78,
          79,
          80,
          81,
          82,
          83,
          84,
          85,
          86,
          87,
          88,
          89,
          90,
          91,
          92,
          93,
          94,
          95,
          96,
          97,
          98,
          99
         ],
         "y": [
          0.42860790047642905,
          -0.24150461408966148,
          0.8033352317583001,
          -0.4541726165268112,
          -0.9932670897240472,
          -1.6407185774656428,
          1.0292734271511936,
          0.717201122535486,
          -0.8328302557547055,
          -0.29479504395009437,
          -0.7876330322200155,
          1.013825910413848,
          -0.6145438366960542,
          -0.42143338248421097,
          1.0861506220781272,
          1.520376664474774,
          -0.01777198223317564,
          -1.6643908381651553,
          0.08997243361014205,
          0.1814431345228801,
          -0.7291269758207538,
          0.30441811909622163,
          -0.3331215193748714,
          -2.443509759910543,
          1.4038049617436101,
          -0.5289496253542012,
          0.5762209244034456,
          1.7473983249450766,
          1.1750635751298635,
          0.3439285942573213,
          0.06695512250429193,
          -1.358152089819541,
          1.3259956980602265,
          0.9230291574367999,
          2.1274268735237967,
          0.01609166317697218,
          -0.008794112180982546,
          -0.13078079279846982,
          -0.9773233004907493,
          0.42408560898470316,
          0.4781801921439303,
          -1.2302375288956056,
          -2.215534588013989,
          -0.6173209910577786,
          0.6873014952127062,
          -0.20768023471795324,
          1.3807411511048835,
          1.5676923985995384,
          -1.3535828954722193,
          0.6688398215891643,
          -1.9417660542959037,
          0.6086396296874507,
          -1.6891089331095988,
          0.8404967201254736,
          -0.25611772522792703,
          0.5649218453129284,
          -1.2455400184288734,
          0.08511126958214074,
          -1.2445956780254495,
          0.693274162901264,
          -0.555786574996747,
          0.014188061775017123,
          0.5756404633679048,
          -0.07502021616099822,
          0.8196550337696089,
          0.14719285707343466,
          2.0721531962168656,
          -0.05089514477070536,
          0.9178935846337136,
          0.8082192273766469,
          -0.9342785145415695,
          -0.7892361220520734,
          -1.0528167075806287,
          -0.900300147200952,
          -0.06378348260655418,
          -1.4058717991735044,
          -0.04637611154553381,
          -0.45343802555693713,
          0.3609959799788183,
          -0.9321964504655148,
          1.9639263256216999,
          -0.8513017162060174,
          -1.177257530160419,
          0.25079731529057353,
          -0.6455488140585096,
          -0.3597892849349049,
          -0.3522676026628601,
          0.03400583986455085,
          -0.4119885784095581,
          -0.668910236483875,
          0.6638172609013666,
          -0.09892944489312143,
          -1.9553751667413874,
          1.0932030834818462,
          0.7807217842469781,
          0.8029768142523035,
          -1.2272581484898053,
          -0.6477754460806492,
          1.9529843160513334,
          -0.84237910998657
         ]
        },
        {
         "line": {
          "color": "rgba(55, 128, 191, 1.0)",
          "dash": "solid",
          "shape": "linear",
          "width": 1.3
         },
         "mode": "lines",
         "name": "B",
         "text": "",
         "type": "scatter",
         "x": [
          0,
          1,
          2,
          3,
          4,
          5,
          6,
          7,
          8,
          9,
          10,
          11,
          12,
          13,
          14,
          15,
          16,
          17,
          18,
          19,
          20,
          21,
          22,
          23,
          24,
          25,
          26,
          27,
          28,
          29,
          30,
          31,
          32,
          33,
          34,
          35,
          36,
          37,
          38,
          39,
          40,
          41,
          42,
          43,
          44,
          45,
          46,
          47,
          48,
          49,
          50,
          51,
          52,
          53,
          54,
          55,
          56,
          57,
          58,
          59,
          60,
          61,
          62,
          63,
          64,
          65,
          66,
          67,
          68,
          69,
          70,
          71,
          72,
          73,
          74,
          75,
          76,
          77,
          78,
          79,
          80,
          81,
          82,
          83,
          84,
          85,
          86,
          87,
          88,
          89,
          90,
          91,
          92,
          93,
          94,
          95,
          96,
          97,
          98,
          99
         ],
         "y": [
          -0.39325974971391525,
          0.05564646570619147,
          0.34780196590089396,
          1.6734131674208959,
          -0.023029982837105743,
          1.0012476696632717,
          0.18703713105734537,
          1.262120083305586,
          -0.8113828042042744,
          -0.36389618183312794,
          0.3182825345578306,
          0.26561207372775414,
          -0.31710083987767906,
          0.3307012661878355,
          -0.3827743646829566,
          -0.07784500406315373,
          0.07184939550950868,
          1.8600532821137243,
          -1.3966157050739068,
          0.6640713923826992,
          -0.8492037274388488,
          -0.6263363686461829,
          1.6250038488954621,
          -0.5236195883778583,
          -2.16345391306942,
          1.3029655695823983,
          0.2283173236958734,
          1.7370577014233897,
          -0.029732253191304518,
          -2.0533396952947993,
          -0.0015571473203474543,
          1.1581858115689212,
          0.6129394841978791,
          2.784380155305771,
          -0.7314673000828203,
          0.3385127274541624,
          -0.7687161829470321,
          1.543242396773852,
          -0.717193509958402,
          0.37699569673225664,
          -1.2396619940727844,
          0.4550492681869588,
          -2.0543094997835243,
          1.3600779678873771,
          -1.244574082682165,
          -2.1843312309789535,
          -0.6296399403616632,
          0.2871687175955069,
          -1.8976766970498358,
          -1.746810132351409,
          1.1721777502639719,
          0.12975308001389982,
          -0.906679091917525,
          -0.8235255560578126,
          1.629416680723812,
          -0.3258256193559577,
          0.3183405316268972,
          0.19960564744461226,
          -2.350317827213011,
          0.5704819720769283,
          -0.572177939912174,
          0.47504228909483914,
          0.9978013795099565,
          0.03284178097168736,
          1.7998520265955422,
          1.1791578061649604,
          0.6725374757403919,
          -0.18452181673013568,
          -1.3271976219839603,
          -1.4712235163192122,
          1.5058786374354427,
          0.20716152593826656,
          -0.8002141505754706,
          -0.23591613710914958,
          0.4176022846377921,
          -0.7322776036272107,
          -0.7501160039715231,
          0.2246809529639941,
          0.49107947550493974,
          -1.366060904827018,
          -1.873047410185736,
          0.5962151440823994,
          0.17473240351086952,
          -0.25176512171647975,
          0.8296301643863834,
          -0.17204697391626958,
          1.524750974056855,
          1.4053490752537185,
          -1.2809051231732484,
          0.49433207086912184,
          0.13477043390008417,
          -0.7369883578766098,
          -1.6833329347466606,
          -1.1611543228587384,
          0.16417302030913833,
          -2.55392965531275,
          0.554411998328491,
          0.9248809515936174,
          0.07974476121974629,
          1.244761109401404
         ]
        },
        {
         "line": {
          "color": "rgba(50, 171, 96, 1.0)",
          "dash": "solid",
          "shape": "linear",
          "width": 1.3
         },
         "mode": "lines",
         "name": "C",
         "text": "",
         "type": "scatter",
         "x": [
          0,
          1,
          2,
          3,
          4,
          5,
          6,
          7,
          8,
          9,
          10,
          11,
          12,
          13,
          14,
          15,
          16,
          17,
          18,
          19,
          20,
          21,
          22,
          23,
          24,
          25,
          26,
          27,
          28,
          29,
          30,
          31,
          32,
          33,
          34,
          35,
          36,
          37,
          38,
          39,
          40,
          41,
          42,
          43,
          44,
          45,
          46,
          47,
          48,
          49,
          50,
          51,
          52,
          53,
          54,
          55,
          56,
          57,
          58,
          59,
          60,
          61,
          62,
          63,
          64,
          65,
          66,
          67,
          68,
          69,
          70,
          71,
          72,
          73,
          74,
          75,
          76,
          77,
          78,
          79,
          80,
          81,
          82,
          83,
          84,
          85,
          86,
          87,
          88,
          89,
          90,
          91,
          92,
          93,
          94,
          95,
          96,
          97,
          98,
          99
         ],
         "y": [
          0.20867975771520808,
          -0.539968732680375,
          -0.10451406860936421,
          0.6807906941541452,
          -0.6237061132537227,
          1.1645819493681946,
          -0.20319634501381628,
          -1.8719734890851034,
          0.19006397038468342,
          0.7426829780297319,
          1.5866853683306084,
          -0.8830991836928733,
          1.329381939728609,
          -0.36910943637848315,
          -0.1259704216318707,
          0.7599399179503843,
          0.2570493559742786,
          1.0102501201538379,
          -0.8301636846246374,
          0.9098700533567373,
          1.272308317853795,
          0.27644901365821556,
          -0.5307842275179776,
          0.6928510797756365,
          -0.7467081888636957,
          1.0864734312542663,
          -0.4088395415896088,
          -1.3297602651780072,
          -1.441235068785222,
          -0.15212789644905217,
          0.9578071542227202,
          -0.07460142157038534,
          0.5113698014381537,
          -0.7585669417479952,
          -1.7210677610542262,
          0.6458738210296548,
          -0.7221738362033334,
          -0.09708844896140927,
          0.34294090340127364,
          -1.0737713509953322,
          -1.3205133194548362,
          0.4033547123960727,
          0.06702499803391719,
          -0.3894870046425358,
          0.5545246926764152,
          -0.3936172349445884,
          0.5204415204166847,
          -2.296869709022682,
          -1.0722455437645189,
          -0.0076908262706479645,
          -0.8497611342012257,
          -0.5418473928237962,
          0.6825865011945559,
          1.528074978722198,
          0.7421162493465568,
          -1.0501963591592836,
          1.5291754301353226,
          0.9965167862689587,
          -0.8002793081334799,
          1.1160758258201309,
          2.416553937349119,
          -0.7323025322245335,
          1.045911989237607,
          -2.3075278310782483,
          -0.11065972894159559,
          1.6167179621416072,
          -1.5706737901917416,
          -0.176117048077122,
          0.4745874051396574,
          -0.461148688308992,
          -0.1907540082939412,
          0.2099327698711436,
          -1.2321302971466992,
          0.6032727936313779,
          1.4648497803732206,
          0.3072917431775034,
          1.0415220041526154,
          0.15940004078617948,
          -0.8020956078401368,
          -0.5019052846097677,
          -0.8158122916130118,
          0.9735286018887148,
          0.49382864652704367,
          -0.149893623001522,
          0.7465151638614091,
          1.41789646851737,
          0.42684270812646524,
          -1.9110647146667514,
          -1.1593244688815125,
          -0.8502884309003719,
          -0.4656426710483235,
          1.7640395575750731,
          -0.7333153880908555,
          -0.6169666283105139,
          -1.4096884439956874,
          -0.3822792755757565,
          2.1510015077400606,
          -0.480261706871716,
          -0.5583127368388549,
          -0.332192650314338
         ]
        },
        {
         "line": {
          "color": "rgba(128, 0, 128, 1.0)",
          "dash": "solid",
          "shape": "linear",
          "width": 1.3
         },
         "mode": "lines",
         "name": "D",
         "text": "",
         "type": "scatter",
         "x": [
          0,
          1,
          2,
          3,
          4,
          5,
          6,
          7,
          8,
          9,
          10,
          11,
          12,
          13,
          14,
          15,
          16,
          17,
          18,
          19,
          20,
          21,
          22,
          23,
          24,
          25,
          26,
          27,
          28,
          29,
          30,
          31,
          32,
          33,
          34,
          35,
          36,
          37,
          38,
          39,
          40,
          41,
          42,
          43,
          44,
          45,
          46,
          47,
          48,
          49,
          50,
          51,
          52,
          53,
          54,
          55,
          56,
          57,
          58,
          59,
          60,
          61,
          62,
          63,
          64,
          65,
          66,
          67,
          68,
          69,
          70,
          71,
          72,
          73,
          74,
          75,
          76,
          77,
          78,
          79,
          80,
          81,
          82,
          83,
          84,
          85,
          86,
          87,
          88,
          89,
          90,
          91,
          92,
          93,
          94,
          95,
          96,
          97,
          98,
          99
         ],
         "y": [
          1.1927052467737471,
          0.6823505953261061,
          -1.7699977924906336,
          -0.4409417245274874,
          -0.4027560996259744,
          1.3855538454435494,
          0.25941520948138114,
          0.45409670225836857,
          -1.828238319014977,
          -0.2430449199174727,
          0.2647028823015733,
          1.4415053080261364,
          1.073705430987225,
          0.4866361960213816,
          1.4824416894323167,
          0.07105310534559514,
          0.13215237042095185,
          -1.2120350758827654,
          0.6581602382531442,
          -0.7675070609238718,
          0.9668208021638547,
          -0.7946618684229247,
          1.7144331828714836,
          0.6183624129108227,
          0.32792919874517806,
          -1.4384318058696666,
          -1.896424554138019,
          1.3936239781195967,
          -0.5608297156821659,
          0.6174363013840861,
          -0.3920373006091651,
          0.9361108376422885,
          -1.215021028570566,
          0.8401590571870553,
          2.3185983729391744,
          0.2455730696322708,
          0.19536172069491808,
          1.4623879346019342,
          1.6091859374219266,
          -1.1194909687215293,
          -1.2857377279485118,
          0.9585464930884179,
          -2.0409079776428296,
          -0.3516153660537357,
          1.1247468667742029,
          -0.6225409273299736,
          -0.881020925119876,
          -0.6288513210560867,
          1.0181706822135164,
          0.43486023954956127,
          1.0735404839177463,
          -0.8360456949946155,
          -1.3071731796213288,
          -0.07262526518920134,
          0.5259937944952808,
          0.7758932426331349,
          -1.2246509725047636,
          0.7812189441750645,
          -0.9343539498244041,
          -0.1670384776565554,
          1.090640883944806,
          -1.2034828032498064,
          0.25473828806871673,
          0.8635343083832683,
          0.3625951607961471,
          -0.2195462221424108,
          -0.7390148935282446,
          0.2050754290124465,
          -0.5872703781784867,
          0.6724208793894313,
          0.4445472943607837,
          0.6485431478865128,
          -0.013995098131496525,
          -1.8286239296369833,
          0.4379298665364222,
          0.36020393470459283,
          -0.055472205298219925,
          -0.9817455885806337,
          -1.0867258660214782,
          0.9792867549289266,
          -0.39095614962872743,
          -1.2431321852725168,
          0.6483194288423902,
          -0.7920970509807383,
          -0.3546536488679633,
          -1.6103360489908431,
          1.3053501829720535,
          1.145556735167566,
          -0.6264207226268598,
          -0.21363957491562746,
          -0.6847452297725517,
          1.2131865236514339,
          -1.7478252431183574,
          1.209465948879976,
          0.43519122902619073,
          -0.15306143209734444,
          -1.3114763939089504,
          -0.2031965018915055,
          -1.5469322006075121,
          0.45462915216522054
         ]
        }
       ],
       "layout": {
        "legend": {
         "bgcolor": "#F5F6F9",
         "font": {
          "color": "#4D5663"
         }
        },
        "paper_bgcolor": "#F5F6F9",
        "plot_bgcolor": "#F5F6F9",
        "template": {
         "data": {
          "bar": [
           {
            "error_x": {
             "color": "#2a3f5f"
            },
            "error_y": {
             "color": "#2a3f5f"
            },
            "marker": {
             "line": {
              "color": "#E5ECF6",
              "width": 0.5
             },
             "pattern": {
              "fillmode": "overlay",
              "size": 10,
              "solidity": 0.2
             }
            },
            "type": "bar"
           }
          ],
          "barpolar": [
           {
            "marker": {
             "line": {
              "color": "#E5ECF6",
              "width": 0.5
             },
             "pattern": {
              "fillmode": "overlay",
              "size": 10,
              "solidity": 0.2
             }
            },
            "type": "barpolar"
           }
          ],
          "carpet": [
           {
            "aaxis": {
             "endlinecolor": "#2a3f5f",
             "gridcolor": "white",
             "linecolor": "white",
             "minorgridcolor": "white",
             "startlinecolor": "#2a3f5f"
            },
            "baxis": {
             "endlinecolor": "#2a3f5f",
             "gridcolor": "white",
             "linecolor": "white",
             "minorgridcolor": "white",
             "startlinecolor": "#2a3f5f"
            },
            "type": "carpet"
           }
          ],
          "choropleth": [
           {
            "colorbar": {
             "outlinewidth": 0,
             "ticks": ""
            },
            "type": "choropleth"
           }
          ],
          "contour": [
           {
            "colorbar": {
             "outlinewidth": 0,
             "ticks": ""
            },
            "colorscale": [
             [
              0,
              "#0d0887"
             ],
             [
              0.1111111111111111,
              "#46039f"
             ],
             [
              0.2222222222222222,
              "#7201a8"
             ],
             [
              0.3333333333333333,
              "#9c179e"
             ],
             [
              0.4444444444444444,
              "#bd3786"
             ],
             [
              0.5555555555555556,
              "#d8576b"
             ],
             [
              0.6666666666666666,
              "#ed7953"
             ],
             [
              0.7777777777777778,
              "#fb9f3a"
             ],
             [
              0.8888888888888888,
              "#fdca26"
             ],
             [
              1,
              "#f0f921"
             ]
            ],
            "type": "contour"
           }
          ],
          "contourcarpet": [
           {
            "colorbar": {
             "outlinewidth": 0,
             "ticks": ""
            },
            "type": "contourcarpet"
           }
          ],
          "heatmap": [
           {
            "colorbar": {
             "outlinewidth": 0,
             "ticks": ""
            },
            "colorscale": [
             [
              0,
              "#0d0887"
             ],
             [
              0.1111111111111111,
              "#46039f"
             ],
             [
              0.2222222222222222,
              "#7201a8"
             ],
             [
              0.3333333333333333,
              "#9c179e"
             ],
             [
              0.4444444444444444,
              "#bd3786"
             ],
             [
              0.5555555555555556,
              "#d8576b"
             ],
             [
              0.6666666666666666,
              "#ed7953"
             ],
             [
              0.7777777777777778,
              "#fb9f3a"
             ],
             [
              0.8888888888888888,
              "#fdca26"
             ],
             [
              1,
              "#f0f921"
             ]
            ],
            "type": "heatmap"
           }
          ],
          "heatmapgl": [
           {
            "colorbar": {
             "outlinewidth": 0,
             "ticks": ""
            },
            "colorscale": [
             [
              0,
              "#0d0887"
             ],
             [
              0.1111111111111111,
              "#46039f"
             ],
             [
              0.2222222222222222,
              "#7201a8"
             ],
             [
              0.3333333333333333,
              "#9c179e"
             ],
             [
              0.4444444444444444,
              "#bd3786"
             ],
             [
              0.5555555555555556,
              "#d8576b"
             ],
             [
              0.6666666666666666,
              "#ed7953"
             ],
             [
              0.7777777777777778,
              "#fb9f3a"
             ],
             [
              0.8888888888888888,
              "#fdca26"
             ],
             [
              1,
              "#f0f921"
             ]
            ],
            "type": "heatmapgl"
           }
          ],
          "histogram": [
           {
            "marker": {
             "pattern": {
              "fillmode": "overlay",
              "size": 10,
              "solidity": 0.2
             }
            },
            "type": "histogram"
           }
          ],
          "histogram2d": [
           {
            "colorbar": {
             "outlinewidth": 0,
             "ticks": ""
            },
            "colorscale": [
             [
              0,
              "#0d0887"
             ],
             [
              0.1111111111111111,
              "#46039f"
             ],
             [
              0.2222222222222222,
              "#7201a8"
             ],
             [
              0.3333333333333333,
              "#9c179e"
             ],
             [
              0.4444444444444444,
              "#bd3786"
             ],
             [
              0.5555555555555556,
              "#d8576b"
             ],
             [
              0.6666666666666666,
              "#ed7953"
             ],
             [
              0.7777777777777778,
              "#fb9f3a"
             ],
             [
              0.8888888888888888,
              "#fdca26"
             ],
             [
              1,
              "#f0f921"
             ]
            ],
            "type": "histogram2d"
           }
          ],
          "histogram2dcontour": [
           {
            "colorbar": {
             "outlinewidth": 0,
             "ticks": ""
            },
            "colorscale": [
             [
              0,
              "#0d0887"
             ],
             [
              0.1111111111111111,
              "#46039f"
             ],
             [
              0.2222222222222222,
              "#7201a8"
             ],
             [
              0.3333333333333333,
              "#9c179e"
             ],
             [
              0.4444444444444444,
              "#bd3786"
             ],
             [
              0.5555555555555556,
              "#d8576b"
             ],
             [
              0.6666666666666666,
              "#ed7953"
             ],
             [
              0.7777777777777778,
              "#fb9f3a"
             ],
             [
              0.8888888888888888,
              "#fdca26"
             ],
             [
              1,
              "#f0f921"
             ]
            ],
            "type": "histogram2dcontour"
           }
          ],
          "mesh3d": [
           {
            "colorbar": {
             "outlinewidth": 0,
             "ticks": ""
            },
            "type": "mesh3d"
           }
          ],
          "parcoords": [
           {
            "line": {
             "colorbar": {
              "outlinewidth": 0,
              "ticks": ""
             }
            },
            "type": "parcoords"
           }
          ],
          "pie": [
           {
            "automargin": true,
            "type": "pie"
           }
          ],
          "scatter": [
           {
            "marker": {
             "colorbar": {
              "outlinewidth": 0,
              "ticks": ""
             }
            },
            "type": "scatter"
           }
          ],
          "scatter3d": [
           {
            "line": {
             "colorbar": {
              "outlinewidth": 0,
              "ticks": ""
             }
            },
            "marker": {
             "colorbar": {
              "outlinewidth": 0,
              "ticks": ""
             }
            },
            "type": "scatter3d"
           }
          ],
          "scattercarpet": [
           {
            "marker": {
             "colorbar": {
              "outlinewidth": 0,
              "ticks": ""
             }
            },
            "type": "scattercarpet"
           }
          ],
          "scattergeo": [
           {
            "marker": {
             "colorbar": {
              "outlinewidth": 0,
              "ticks": ""
             }
            },
            "type": "scattergeo"
           }
          ],
          "scattergl": [
           {
            "marker": {
             "colorbar": {
              "outlinewidth": 0,
              "ticks": ""
             }
            },
            "type": "scattergl"
           }
          ],
          "scattermapbox": [
           {
            "marker": {
             "colorbar": {
              "outlinewidth": 0,
              "ticks": ""
             }
            },
            "type": "scattermapbox"
           }
          ],
          "scatterpolar": [
           {
            "marker": {
             "colorbar": {
              "outlinewidth": 0,
              "ticks": ""
             }
            },
            "type": "scatterpolar"
           }
          ],
          "scatterpolargl": [
           {
            "marker": {
             "colorbar": {
              "outlinewidth": 0,
              "ticks": ""
             }
            },
            "type": "scatterpolargl"
           }
          ],
          "scatterternary": [
           {
            "marker": {
             "colorbar": {
              "outlinewidth": 0,
              "ticks": ""
             }
            },
            "type": "scatterternary"
           }
          ],
          "surface": [
           {
            "colorbar": {
             "outlinewidth": 0,
             "ticks": ""
            },
            "colorscale": [
             [
              0,
              "#0d0887"
             ],
             [
              0.1111111111111111,
              "#46039f"
             ],
             [
              0.2222222222222222,
              "#7201a8"
             ],
             [
              0.3333333333333333,
              "#9c179e"
             ],
             [
              0.4444444444444444,
              "#bd3786"
             ],
             [
              0.5555555555555556,
              "#d8576b"
             ],
             [
              0.6666666666666666,
              "#ed7953"
             ],
             [
              0.7777777777777778,
              "#fb9f3a"
             ],
             [
              0.8888888888888888,
              "#fdca26"
             ],
             [
              1,
              "#f0f921"
             ]
            ],
            "type": "surface"
           }
          ],
          "table": [
           {
            "cells": {
             "fill": {
              "color": "#EBF0F8"
             },
             "line": {
              "color": "white"
             }
            },
            "header": {
             "fill": {
              "color": "#C8D4E3"
             },
             "line": {
              "color": "white"
             }
            },
            "type": "table"
           }
          ]
         },
         "layout": {
          "annotationdefaults": {
           "arrowcolor": "#2a3f5f",
           "arrowhead": 0,
           "arrowwidth": 1
          },
          "autotypenumbers": "strict",
          "coloraxis": {
           "colorbar": {
            "outlinewidth": 0,
            "ticks": ""
           }
          },
          "colorscale": {
           "diverging": [
            [
             0,
             "#8e0152"
            ],
            [
             0.1,
             "#c51b7d"
            ],
            [
             0.2,
             "#de77ae"
            ],
            [
             0.3,
             "#f1b6da"
            ],
            [
             0.4,
             "#fde0ef"
            ],
            [
             0.5,
             "#f7f7f7"
            ],
            [
             0.6,
             "#e6f5d0"
            ],
            [
             0.7,
             "#b8e186"
            ],
            [
             0.8,
             "#7fbc41"
            ],
            [
             0.9,
             "#4d9221"
            ],
            [
             1,
             "#276419"
            ]
           ],
           "sequential": [
            [
             0,
             "#0d0887"
            ],
            [
             0.1111111111111111,
             "#46039f"
            ],
            [
             0.2222222222222222,
             "#7201a8"
            ],
            [
             0.3333333333333333,
             "#9c179e"
            ],
            [
             0.4444444444444444,
             "#bd3786"
            ],
            [
             0.5555555555555556,
             "#d8576b"
            ],
            [
             0.6666666666666666,
             "#ed7953"
            ],
            [
             0.7777777777777778,
             "#fb9f3a"
            ],
            [
             0.8888888888888888,
             "#fdca26"
            ],
            [
             1,
             "#f0f921"
            ]
           ],
           "sequentialminus": [
            [
             0,
             "#0d0887"
            ],
            [
             0.1111111111111111,
             "#46039f"
            ],
            [
             0.2222222222222222,
             "#7201a8"
            ],
            [
             0.3333333333333333,
             "#9c179e"
            ],
            [
             0.4444444444444444,
             "#bd3786"
            ],
            [
             0.5555555555555556,
             "#d8576b"
            ],
            [
             0.6666666666666666,
             "#ed7953"
            ],
            [
             0.7777777777777778,
             "#fb9f3a"
            ],
            [
             0.8888888888888888,
             "#fdca26"
            ],
            [
             1,
             "#f0f921"
            ]
           ]
          },
          "colorway": [
           "#636efa",
           "#EF553B",
           "#00cc96",
           "#ab63fa",
           "#FFA15A",
           "#19d3f3",
           "#FF6692",
           "#B6E880",
           "#FF97FF",
           "#FECB52"
          ],
          "font": {
           "color": "#2a3f5f"
          },
          "geo": {
           "bgcolor": "white",
           "lakecolor": "white",
           "landcolor": "#E5ECF6",
           "showlakes": true,
           "showland": true,
           "subunitcolor": "white"
          },
          "hoverlabel": {
           "align": "left"
          },
          "hovermode": "closest",
          "mapbox": {
           "style": "light"
          },
          "paper_bgcolor": "white",
          "plot_bgcolor": "#E5ECF6",
          "polar": {
           "angularaxis": {
            "gridcolor": "white",
            "linecolor": "white",
            "ticks": ""
           },
           "bgcolor": "#E5ECF6",
           "radialaxis": {
            "gridcolor": "white",
            "linecolor": "white",
            "ticks": ""
           }
          },
          "scene": {
           "xaxis": {
            "backgroundcolor": "#E5ECF6",
            "gridcolor": "white",
            "gridwidth": 2,
            "linecolor": "white",
            "showbackground": true,
            "ticks": "",
            "zerolinecolor": "white"
           },
           "yaxis": {
            "backgroundcolor": "#E5ECF6",
            "gridcolor": "white",
            "gridwidth": 2,
            "linecolor": "white",
            "showbackground": true,
            "ticks": "",
            "zerolinecolor": "white"
           },
           "zaxis": {
            "backgroundcolor": "#E5ECF6",
            "gridcolor": "white",
            "gridwidth": 2,
            "linecolor": "white",
            "showbackground": true,
            "ticks": "",
            "zerolinecolor": "white"
           }
          },
          "shapedefaults": {
           "line": {
            "color": "#2a3f5f"
           }
          },
          "ternary": {
           "aaxis": {
            "gridcolor": "white",
            "linecolor": "white",
            "ticks": ""
           },
           "baxis": {
            "gridcolor": "white",
            "linecolor": "white",
            "ticks": ""
           },
           "bgcolor": "#E5ECF6",
           "caxis": {
            "gridcolor": "white",
            "linecolor": "white",
            "ticks": ""
           }
          },
          "title": {
           "x": 0.05
          },
          "xaxis": {
           "automargin": true,
           "gridcolor": "white",
           "linecolor": "white",
           "ticks": "",
           "title": {
            "standoff": 15
           },
           "zerolinecolor": "white",
           "zerolinewidth": 2
          },
          "yaxis": {
           "automargin": true,
           "gridcolor": "white",
           "linecolor": "white",
           "ticks": "",
           "title": {
            "standoff": 15
           },
           "zerolinecolor": "white",
           "zerolinewidth": 2
          }
         }
        },
        "title": {
         "font": {
          "color": "#4D5663"
         }
        },
        "xaxis": {
         "gridcolor": "#E1E5ED",
         "showgrid": true,
         "tickfont": {
          "color": "#4D5663"
         },
         "title": {
          "font": {
           "color": "#4D5663"
          },
          "text": ""
         },
         "zerolinecolor": "#E1E5ED"
        },
        "yaxis": {
         "gridcolor": "#E1E5ED",
         "showgrid": true,
         "tickfont": {
          "color": "#4D5663"
         },
         "title": {
          "font": {
           "color": "#4D5663"
          },
          "text": ""
         },
         "zerolinecolor": "#E1E5ED"
        }
       }
      }
     },
     "metadata": {}
    }
   ],
   "metadata": {}
  },
  {
   "cell_type": "code",
   "execution_count": 14,
   "source": [
    "df.iplot(kind = 'scatter', x='A', y='B', mode='markers', size = 20) "
   ],
   "outputs": [
    {
     "output_type": "display_data",
     "data": {
      "text/html": [
       "<div>                            <div id=\"fcfd9c53-cc0e-40a0-9772-f5e413765527\" class=\"plotly-graph-div\" style=\"height:525px; width:100%;\"></div>            <script type=\"text/javascript\">                require([\"plotly\"], function(Plotly) {                    window.PLOTLYENV=window.PLOTLYENV || {};\n",
       "                    window.PLOTLYENV.BASE_URL='https://plot.ly';                                    if (document.getElementById(\"fcfd9c53-cc0e-40a0-9772-f5e413765527\")) {                    Plotly.newPlot(                        \"fcfd9c53-cc0e-40a0-9772-f5e413765527\",                        [{\"line\":{\"color\":\"rgba(255, 153, 51, 1.0)\",\"dash\":\"solid\",\"shape\":\"linear\",\"width\":1.3},\"marker\":{\"size\":20,\"symbol\":\"circle\"},\"mode\":\"markers\",\"name\":\"B\",\"text\":\"\",\"type\":\"scatter\",\"x\":[0.42860790047642905,-0.24150461408966148,0.8033352317583001,-0.4541726165268112,-0.9932670897240472,-1.6407185774656428,1.0292734271511936,0.717201122535486,-0.8328302557547055,-0.29479504395009437,-0.7876330322200155,1.013825910413848,-0.6145438366960542,-0.42143338248421097,1.0861506220781272,1.520376664474774,-0.01777198223317564,-1.6643908381651553,0.08997243361014205,0.1814431345228801,-0.7291269758207538,0.30441811909622163,-0.3331215193748714,-2.443509759910543,1.4038049617436101,-0.5289496253542012,0.5762209244034456,1.7473983249450766,1.1750635751298635,0.3439285942573213,0.06695512250429193,-1.358152089819541,1.3259956980602265,0.9230291574367999,2.1274268735237967,0.01609166317697218,-0.008794112180982546,-0.13078079279846982,-0.9773233004907493,0.42408560898470316,0.4781801921439303,-1.2302375288956056,-2.215534588013989,-0.6173209910577786,0.6873014952127062,-0.20768023471795324,1.3807411511048835,1.5676923985995384,-1.3535828954722193,0.6688398215891643,-1.9417660542959037,0.6086396296874507,-1.6891089331095988,0.8404967201254736,-0.25611772522792703,0.5649218453129284,-1.2455400184288734,0.08511126958214074,-1.2445956780254495,0.693274162901264,-0.555786574996747,0.014188061775017123,0.5756404633679048,-0.07502021616099822,0.8196550337696089,0.14719285707343466,2.0721531962168656,-0.05089514477070536,0.9178935846337136,0.8082192273766469,-0.9342785145415695,-0.7892361220520734,-1.0528167075806287,-0.900300147200952,-0.06378348260655418,-1.4058717991735044,-0.04637611154553381,-0.45343802555693713,0.3609959799788183,-0.9321964504655148,1.9639263256216999,-0.8513017162060174,-1.177257530160419,0.25079731529057353,-0.6455488140585096,-0.3597892849349049,-0.3522676026628601,0.03400583986455085,-0.4119885784095581,-0.668910236483875,0.6638172609013666,-0.09892944489312143,-1.9553751667413874,1.0932030834818462,0.7807217842469781,0.8029768142523035,-1.2272581484898053,-0.6477754460806492,1.9529843160513334,-0.84237910998657],\"y\":[-0.39325974971391525,0.05564646570619147,0.34780196590089396,1.6734131674208959,-0.023029982837105743,1.0012476696632717,0.18703713105734537,1.262120083305586,-0.8113828042042744,-0.36389618183312794,0.3182825345578306,0.26561207372775414,-0.31710083987767906,0.3307012661878355,-0.3827743646829566,-0.07784500406315373,0.07184939550950868,1.8600532821137243,-1.3966157050739068,0.6640713923826992,-0.8492037274388488,-0.6263363686461829,1.6250038488954621,-0.5236195883778583,-2.16345391306942,1.3029655695823983,0.2283173236958734,1.7370577014233897,-0.029732253191304518,-2.0533396952947993,-0.0015571473203474543,1.1581858115689212,0.6129394841978791,2.784380155305771,-0.7314673000828203,0.3385127274541624,-0.7687161829470321,1.543242396773852,-0.717193509958402,0.37699569673225664,-1.2396619940727844,0.4550492681869588,-2.0543094997835243,1.3600779678873771,-1.244574082682165,-2.1843312309789535,-0.6296399403616632,0.2871687175955069,-1.8976766970498358,-1.746810132351409,1.1721777502639719,0.12975308001389982,-0.906679091917525,-0.8235255560578126,1.629416680723812,-0.3258256193559577,0.3183405316268972,0.19960564744461226,-2.350317827213011,0.5704819720769283,-0.572177939912174,0.47504228909483914,0.9978013795099565,0.03284178097168736,1.7998520265955422,1.1791578061649604,0.6725374757403919,-0.18452181673013568,-1.3271976219839603,-1.4712235163192122,1.5058786374354427,0.20716152593826656,-0.8002141505754706,-0.23591613710914958,0.4176022846377921,-0.7322776036272107,-0.7501160039715231,0.2246809529639941,0.49107947550493974,-1.366060904827018,-1.873047410185736,0.5962151440823994,0.17473240351086952,-0.25176512171647975,0.8296301643863834,-0.17204697391626958,1.524750974056855,1.4053490752537185,-1.2809051231732484,0.49433207086912184,0.13477043390008417,-0.7369883578766098,-1.6833329347466606,-1.1611543228587384,0.16417302030913833,-2.55392965531275,0.554411998328491,0.9248809515936174,0.07974476121974629,1.244761109401404]}],                        {\"legend\":{\"bgcolor\":\"#F5F6F9\",\"font\":{\"color\":\"#4D5663\"}},\"paper_bgcolor\":\"#F5F6F9\",\"plot_bgcolor\":\"#F5F6F9\",\"template\":{\"data\":{\"bar\":[{\"error_x\":{\"color\":\"#2a3f5f\"},\"error_y\":{\"color\":\"#2a3f5f\"},\"marker\":{\"line\":{\"color\":\"#E5ECF6\",\"width\":0.5},\"pattern\":{\"fillmode\":\"overlay\",\"size\":10,\"solidity\":0.2}},\"type\":\"bar\"}],\"barpolar\":[{\"marker\":{\"line\":{\"color\":\"#E5ECF6\",\"width\":0.5},\"pattern\":{\"fillmode\":\"overlay\",\"size\":10,\"solidity\":0.2}},\"type\":\"barpolar\"}],\"carpet\":[{\"aaxis\":{\"endlinecolor\":\"#2a3f5f\",\"gridcolor\":\"white\",\"linecolor\":\"white\",\"minorgridcolor\":\"white\",\"startlinecolor\":\"#2a3f5f\"},\"baxis\":{\"endlinecolor\":\"#2a3f5f\",\"gridcolor\":\"white\",\"linecolor\":\"white\",\"minorgridcolor\":\"white\",\"startlinecolor\":\"#2a3f5f\"},\"type\":\"carpet\"}],\"choropleth\":[{\"colorbar\":{\"outlinewidth\":0,\"ticks\":\"\"},\"type\":\"choropleth\"}],\"contour\":[{\"colorbar\":{\"outlinewidth\":0,\"ticks\":\"\"},\"colorscale\":[[0.0,\"#0d0887\"],[0.1111111111111111,\"#46039f\"],[0.2222222222222222,\"#7201a8\"],[0.3333333333333333,\"#9c179e\"],[0.4444444444444444,\"#bd3786\"],[0.5555555555555556,\"#d8576b\"],[0.6666666666666666,\"#ed7953\"],[0.7777777777777778,\"#fb9f3a\"],[0.8888888888888888,\"#fdca26\"],[1.0,\"#f0f921\"]],\"type\":\"contour\"}],\"contourcarpet\":[{\"colorbar\":{\"outlinewidth\":0,\"ticks\":\"\"},\"type\":\"contourcarpet\"}],\"heatmap\":[{\"colorbar\":{\"outlinewidth\":0,\"ticks\":\"\"},\"colorscale\":[[0.0,\"#0d0887\"],[0.1111111111111111,\"#46039f\"],[0.2222222222222222,\"#7201a8\"],[0.3333333333333333,\"#9c179e\"],[0.4444444444444444,\"#bd3786\"],[0.5555555555555556,\"#d8576b\"],[0.6666666666666666,\"#ed7953\"],[0.7777777777777778,\"#fb9f3a\"],[0.8888888888888888,\"#fdca26\"],[1.0,\"#f0f921\"]],\"type\":\"heatmap\"}],\"heatmapgl\":[{\"colorbar\":{\"outlinewidth\":0,\"ticks\":\"\"},\"colorscale\":[[0.0,\"#0d0887\"],[0.1111111111111111,\"#46039f\"],[0.2222222222222222,\"#7201a8\"],[0.3333333333333333,\"#9c179e\"],[0.4444444444444444,\"#bd3786\"],[0.5555555555555556,\"#d8576b\"],[0.6666666666666666,\"#ed7953\"],[0.7777777777777778,\"#fb9f3a\"],[0.8888888888888888,\"#fdca26\"],[1.0,\"#f0f921\"]],\"type\":\"heatmapgl\"}],\"histogram\":[{\"marker\":{\"pattern\":{\"fillmode\":\"overlay\",\"size\":10,\"solidity\":0.2}},\"type\":\"histogram\"}],\"histogram2d\":[{\"colorbar\":{\"outlinewidth\":0,\"ticks\":\"\"},\"colorscale\":[[0.0,\"#0d0887\"],[0.1111111111111111,\"#46039f\"],[0.2222222222222222,\"#7201a8\"],[0.3333333333333333,\"#9c179e\"],[0.4444444444444444,\"#bd3786\"],[0.5555555555555556,\"#d8576b\"],[0.6666666666666666,\"#ed7953\"],[0.7777777777777778,\"#fb9f3a\"],[0.8888888888888888,\"#fdca26\"],[1.0,\"#f0f921\"]],\"type\":\"histogram2d\"}],\"histogram2dcontour\":[{\"colorbar\":{\"outlinewidth\":0,\"ticks\":\"\"},\"colorscale\":[[0.0,\"#0d0887\"],[0.1111111111111111,\"#46039f\"],[0.2222222222222222,\"#7201a8\"],[0.3333333333333333,\"#9c179e\"],[0.4444444444444444,\"#bd3786\"],[0.5555555555555556,\"#d8576b\"],[0.6666666666666666,\"#ed7953\"],[0.7777777777777778,\"#fb9f3a\"],[0.8888888888888888,\"#fdca26\"],[1.0,\"#f0f921\"]],\"type\":\"histogram2dcontour\"}],\"mesh3d\":[{\"colorbar\":{\"outlinewidth\":0,\"ticks\":\"\"},\"type\":\"mesh3d\"}],\"parcoords\":[{\"line\":{\"colorbar\":{\"outlinewidth\":0,\"ticks\":\"\"}},\"type\":\"parcoords\"}],\"pie\":[{\"automargin\":true,\"type\":\"pie\"}],\"scatter\":[{\"marker\":{\"colorbar\":{\"outlinewidth\":0,\"ticks\":\"\"}},\"type\":\"scatter\"}],\"scatter3d\":[{\"line\":{\"colorbar\":{\"outlinewidth\":0,\"ticks\":\"\"}},\"marker\":{\"colorbar\":{\"outlinewidth\":0,\"ticks\":\"\"}},\"type\":\"scatter3d\"}],\"scattercarpet\":[{\"marker\":{\"colorbar\":{\"outlinewidth\":0,\"ticks\":\"\"}},\"type\":\"scattercarpet\"}],\"scattergeo\":[{\"marker\":{\"colorbar\":{\"outlinewidth\":0,\"ticks\":\"\"}},\"type\":\"scattergeo\"}],\"scattergl\":[{\"marker\":{\"colorbar\":{\"outlinewidth\":0,\"ticks\":\"\"}},\"type\":\"scattergl\"}],\"scattermapbox\":[{\"marker\":{\"colorbar\":{\"outlinewidth\":0,\"ticks\":\"\"}},\"type\":\"scattermapbox\"}],\"scatterpolar\":[{\"marker\":{\"colorbar\":{\"outlinewidth\":0,\"ticks\":\"\"}},\"type\":\"scatterpolar\"}],\"scatterpolargl\":[{\"marker\":{\"colorbar\":{\"outlinewidth\":0,\"ticks\":\"\"}},\"type\":\"scatterpolargl\"}],\"scatterternary\":[{\"marker\":{\"colorbar\":{\"outlinewidth\":0,\"ticks\":\"\"}},\"type\":\"scatterternary\"}],\"surface\":[{\"colorbar\":{\"outlinewidth\":0,\"ticks\":\"\"},\"colorscale\":[[0.0,\"#0d0887\"],[0.1111111111111111,\"#46039f\"],[0.2222222222222222,\"#7201a8\"],[0.3333333333333333,\"#9c179e\"],[0.4444444444444444,\"#bd3786\"],[0.5555555555555556,\"#d8576b\"],[0.6666666666666666,\"#ed7953\"],[0.7777777777777778,\"#fb9f3a\"],[0.8888888888888888,\"#fdca26\"],[1.0,\"#f0f921\"]],\"type\":\"surface\"}],\"table\":[{\"cells\":{\"fill\":{\"color\":\"#EBF0F8\"},\"line\":{\"color\":\"white\"}},\"header\":{\"fill\":{\"color\":\"#C8D4E3\"},\"line\":{\"color\":\"white\"}},\"type\":\"table\"}]},\"layout\":{\"annotationdefaults\":{\"arrowcolor\":\"#2a3f5f\",\"arrowhead\":0,\"arrowwidth\":1},\"autotypenumbers\":\"strict\",\"coloraxis\":{\"colorbar\":{\"outlinewidth\":0,\"ticks\":\"\"}},\"colorscale\":{\"diverging\":[[0,\"#8e0152\"],[0.1,\"#c51b7d\"],[0.2,\"#de77ae\"],[0.3,\"#f1b6da\"],[0.4,\"#fde0ef\"],[0.5,\"#f7f7f7\"],[0.6,\"#e6f5d0\"],[0.7,\"#b8e186\"],[0.8,\"#7fbc41\"],[0.9,\"#4d9221\"],[1,\"#276419\"]],\"sequential\":[[0.0,\"#0d0887\"],[0.1111111111111111,\"#46039f\"],[0.2222222222222222,\"#7201a8\"],[0.3333333333333333,\"#9c179e\"],[0.4444444444444444,\"#bd3786\"],[0.5555555555555556,\"#d8576b\"],[0.6666666666666666,\"#ed7953\"],[0.7777777777777778,\"#fb9f3a\"],[0.8888888888888888,\"#fdca26\"],[1.0,\"#f0f921\"]],\"sequentialminus\":[[0.0,\"#0d0887\"],[0.1111111111111111,\"#46039f\"],[0.2222222222222222,\"#7201a8\"],[0.3333333333333333,\"#9c179e\"],[0.4444444444444444,\"#bd3786\"],[0.5555555555555556,\"#d8576b\"],[0.6666666666666666,\"#ed7953\"],[0.7777777777777778,\"#fb9f3a\"],[0.8888888888888888,\"#fdca26\"],[1.0,\"#f0f921\"]]},\"colorway\":[\"#636efa\",\"#EF553B\",\"#00cc96\",\"#ab63fa\",\"#FFA15A\",\"#19d3f3\",\"#FF6692\",\"#B6E880\",\"#FF97FF\",\"#FECB52\"],\"font\":{\"color\":\"#2a3f5f\"},\"geo\":{\"bgcolor\":\"white\",\"lakecolor\":\"white\",\"landcolor\":\"#E5ECF6\",\"showlakes\":true,\"showland\":true,\"subunitcolor\":\"white\"},\"hoverlabel\":{\"align\":\"left\"},\"hovermode\":\"closest\",\"mapbox\":{\"style\":\"light\"},\"paper_bgcolor\":\"white\",\"plot_bgcolor\":\"#E5ECF6\",\"polar\":{\"angularaxis\":{\"gridcolor\":\"white\",\"linecolor\":\"white\",\"ticks\":\"\"},\"bgcolor\":\"#E5ECF6\",\"radialaxis\":{\"gridcolor\":\"white\",\"linecolor\":\"white\",\"ticks\":\"\"}},\"scene\":{\"xaxis\":{\"backgroundcolor\":\"#E5ECF6\",\"gridcolor\":\"white\",\"gridwidth\":2,\"linecolor\":\"white\",\"showbackground\":true,\"ticks\":\"\",\"zerolinecolor\":\"white\"},\"yaxis\":{\"backgroundcolor\":\"#E5ECF6\",\"gridcolor\":\"white\",\"gridwidth\":2,\"linecolor\":\"white\",\"showbackground\":true,\"ticks\":\"\",\"zerolinecolor\":\"white\"},\"zaxis\":{\"backgroundcolor\":\"#E5ECF6\",\"gridcolor\":\"white\",\"gridwidth\":2,\"linecolor\":\"white\",\"showbackground\":true,\"ticks\":\"\",\"zerolinecolor\":\"white\"}},\"shapedefaults\":{\"line\":{\"color\":\"#2a3f5f\"}},\"ternary\":{\"aaxis\":{\"gridcolor\":\"white\",\"linecolor\":\"white\",\"ticks\":\"\"},\"baxis\":{\"gridcolor\":\"white\",\"linecolor\":\"white\",\"ticks\":\"\"},\"bgcolor\":\"#E5ECF6\",\"caxis\":{\"gridcolor\":\"white\",\"linecolor\":\"white\",\"ticks\":\"\"}},\"title\":{\"x\":0.05},\"xaxis\":{\"automargin\":true,\"gridcolor\":\"white\",\"linecolor\":\"white\",\"ticks\":\"\",\"title\":{\"standoff\":15},\"zerolinecolor\":\"white\",\"zerolinewidth\":2},\"yaxis\":{\"automargin\":true,\"gridcolor\":\"white\",\"linecolor\":\"white\",\"ticks\":\"\",\"title\":{\"standoff\":15},\"zerolinecolor\":\"white\",\"zerolinewidth\":2}}},\"title\":{\"font\":{\"color\":\"#4D5663\"}},\"xaxis\":{\"gridcolor\":\"#E1E5ED\",\"showgrid\":true,\"tickfont\":{\"color\":\"#4D5663\"},\"title\":{\"font\":{\"color\":\"#4D5663\"},\"text\":\"\"},\"zerolinecolor\":\"#E1E5ED\"},\"yaxis\":{\"gridcolor\":\"#E1E5ED\",\"showgrid\":true,\"tickfont\":{\"color\":\"#4D5663\"},\"title\":{\"font\":{\"color\":\"#4D5663\"},\"text\":\"\"},\"zerolinecolor\":\"#E1E5ED\"}},                        {\"showLink\": true, \"linkText\": \"Export to plot.ly\", \"plotlyServerURL\": \"https://plot.ly\", \"responsive\": true}                    ).then(function(){\n",
       "                            \n",
       "var gd = document.getElementById('fcfd9c53-cc0e-40a0-9772-f5e413765527');\n",
       "var x = new MutationObserver(function (mutations, observer) {{\n",
       "        var display = window.getComputedStyle(gd).display;\n",
       "        if (!display || display === 'none') {{\n",
       "            console.log([gd, 'removed!']);\n",
       "            Plotly.purge(gd);\n",
       "            observer.disconnect();\n",
       "        }}\n",
       "}});\n",
       "\n",
       "// Listen for the removal of the full notebook cells\n",
       "var notebookContainer = gd.closest('#notebook-container');\n",
       "if (notebookContainer) {{\n",
       "    x.observe(notebookContainer, {childList: true});\n",
       "}}\n",
       "\n",
       "// Listen for the clearing of the current output cell\n",
       "var outputEl = gd.closest('.output');\n",
       "if (outputEl) {{\n",
       "    x.observe(outputEl, {childList: true});\n",
       "}}\n",
       "\n",
       "                        })                };                });            </script>        </div>"
      ],
      "application/vnd.plotly.v1+json": {
       "config": {
        "linkText": "Export to plot.ly",
        "plotlyServerURL": "https://plot.ly",
        "showLink": true
       },
       "data": [
        {
         "line": {
          "color": "rgba(255, 153, 51, 1.0)",
          "dash": "solid",
          "shape": "linear",
          "width": 1.3
         },
         "marker": {
          "size": 20,
          "symbol": "circle"
         },
         "mode": "markers",
         "name": "B",
         "text": "",
         "type": "scatter",
         "x": [
          0.42860790047642905,
          -0.24150461408966148,
          0.8033352317583001,
          -0.4541726165268112,
          -0.9932670897240472,
          -1.6407185774656428,
          1.0292734271511936,
          0.717201122535486,
          -0.8328302557547055,
          -0.29479504395009437,
          -0.7876330322200155,
          1.013825910413848,
          -0.6145438366960542,
          -0.42143338248421097,
          1.0861506220781272,
          1.520376664474774,
          -0.01777198223317564,
          -1.6643908381651553,
          0.08997243361014205,
          0.1814431345228801,
          -0.7291269758207538,
          0.30441811909622163,
          -0.3331215193748714,
          -2.443509759910543,
          1.4038049617436101,
          -0.5289496253542012,
          0.5762209244034456,
          1.7473983249450766,
          1.1750635751298635,
          0.3439285942573213,
          0.06695512250429193,
          -1.358152089819541,
          1.3259956980602265,
          0.9230291574367999,
          2.1274268735237967,
          0.01609166317697218,
          -0.008794112180982546,
          -0.13078079279846982,
          -0.9773233004907493,
          0.42408560898470316,
          0.4781801921439303,
          -1.2302375288956056,
          -2.215534588013989,
          -0.6173209910577786,
          0.6873014952127062,
          -0.20768023471795324,
          1.3807411511048835,
          1.5676923985995384,
          -1.3535828954722193,
          0.6688398215891643,
          -1.9417660542959037,
          0.6086396296874507,
          -1.6891089331095988,
          0.8404967201254736,
          -0.25611772522792703,
          0.5649218453129284,
          -1.2455400184288734,
          0.08511126958214074,
          -1.2445956780254495,
          0.693274162901264,
          -0.555786574996747,
          0.014188061775017123,
          0.5756404633679048,
          -0.07502021616099822,
          0.8196550337696089,
          0.14719285707343466,
          2.0721531962168656,
          -0.05089514477070536,
          0.9178935846337136,
          0.8082192273766469,
          -0.9342785145415695,
          -0.7892361220520734,
          -1.0528167075806287,
          -0.900300147200952,
          -0.06378348260655418,
          -1.4058717991735044,
          -0.04637611154553381,
          -0.45343802555693713,
          0.3609959799788183,
          -0.9321964504655148,
          1.9639263256216999,
          -0.8513017162060174,
          -1.177257530160419,
          0.25079731529057353,
          -0.6455488140585096,
          -0.3597892849349049,
          -0.3522676026628601,
          0.03400583986455085,
          -0.4119885784095581,
          -0.668910236483875,
          0.6638172609013666,
          -0.09892944489312143,
          -1.9553751667413874,
          1.0932030834818462,
          0.7807217842469781,
          0.8029768142523035,
          -1.2272581484898053,
          -0.6477754460806492,
          1.9529843160513334,
          -0.84237910998657
         ],
         "y": [
          -0.39325974971391525,
          0.05564646570619147,
          0.34780196590089396,
          1.6734131674208959,
          -0.023029982837105743,
          1.0012476696632717,
          0.18703713105734537,
          1.262120083305586,
          -0.8113828042042744,
          -0.36389618183312794,
          0.3182825345578306,
          0.26561207372775414,
          -0.31710083987767906,
          0.3307012661878355,
          -0.3827743646829566,
          -0.07784500406315373,
          0.07184939550950868,
          1.8600532821137243,
          -1.3966157050739068,
          0.6640713923826992,
          -0.8492037274388488,
          -0.6263363686461829,
          1.6250038488954621,
          -0.5236195883778583,
          -2.16345391306942,
          1.3029655695823983,
          0.2283173236958734,
          1.7370577014233897,
          -0.029732253191304518,
          -2.0533396952947993,
          -0.0015571473203474543,
          1.1581858115689212,
          0.6129394841978791,
          2.784380155305771,
          -0.7314673000828203,
          0.3385127274541624,
          -0.7687161829470321,
          1.543242396773852,
          -0.717193509958402,
          0.37699569673225664,
          -1.2396619940727844,
          0.4550492681869588,
          -2.0543094997835243,
          1.3600779678873771,
          -1.244574082682165,
          -2.1843312309789535,
          -0.6296399403616632,
          0.2871687175955069,
          -1.8976766970498358,
          -1.746810132351409,
          1.1721777502639719,
          0.12975308001389982,
          -0.906679091917525,
          -0.8235255560578126,
          1.629416680723812,
          -0.3258256193559577,
          0.3183405316268972,
          0.19960564744461226,
          -2.350317827213011,
          0.5704819720769283,
          -0.572177939912174,
          0.47504228909483914,
          0.9978013795099565,
          0.03284178097168736,
          1.7998520265955422,
          1.1791578061649604,
          0.6725374757403919,
          -0.18452181673013568,
          -1.3271976219839603,
          -1.4712235163192122,
          1.5058786374354427,
          0.20716152593826656,
          -0.8002141505754706,
          -0.23591613710914958,
          0.4176022846377921,
          -0.7322776036272107,
          -0.7501160039715231,
          0.2246809529639941,
          0.49107947550493974,
          -1.366060904827018,
          -1.873047410185736,
          0.5962151440823994,
          0.17473240351086952,
          -0.25176512171647975,
          0.8296301643863834,
          -0.17204697391626958,
          1.524750974056855,
          1.4053490752537185,
          -1.2809051231732484,
          0.49433207086912184,
          0.13477043390008417,
          -0.7369883578766098,
          -1.6833329347466606,
          -1.1611543228587384,
          0.16417302030913833,
          -2.55392965531275,
          0.554411998328491,
          0.9248809515936174,
          0.07974476121974629,
          1.244761109401404
         ]
        }
       ],
       "layout": {
        "legend": {
         "bgcolor": "#F5F6F9",
         "font": {
          "color": "#4D5663"
         }
        },
        "paper_bgcolor": "#F5F6F9",
        "plot_bgcolor": "#F5F6F9",
        "template": {
         "data": {
          "bar": [
           {
            "error_x": {
             "color": "#2a3f5f"
            },
            "error_y": {
             "color": "#2a3f5f"
            },
            "marker": {
             "line": {
              "color": "#E5ECF6",
              "width": 0.5
             },
             "pattern": {
              "fillmode": "overlay",
              "size": 10,
              "solidity": 0.2
             }
            },
            "type": "bar"
           }
          ],
          "barpolar": [
           {
            "marker": {
             "line": {
              "color": "#E5ECF6",
              "width": 0.5
             },
             "pattern": {
              "fillmode": "overlay",
              "size": 10,
              "solidity": 0.2
             }
            },
            "type": "barpolar"
           }
          ],
          "carpet": [
           {
            "aaxis": {
             "endlinecolor": "#2a3f5f",
             "gridcolor": "white",
             "linecolor": "white",
             "minorgridcolor": "white",
             "startlinecolor": "#2a3f5f"
            },
            "baxis": {
             "endlinecolor": "#2a3f5f",
             "gridcolor": "white",
             "linecolor": "white",
             "minorgridcolor": "white",
             "startlinecolor": "#2a3f5f"
            },
            "type": "carpet"
           }
          ],
          "choropleth": [
           {
            "colorbar": {
             "outlinewidth": 0,
             "ticks": ""
            },
            "type": "choropleth"
           }
          ],
          "contour": [
           {
            "colorbar": {
             "outlinewidth": 0,
             "ticks": ""
            },
            "colorscale": [
             [
              0,
              "#0d0887"
             ],
             [
              0.1111111111111111,
              "#46039f"
             ],
             [
              0.2222222222222222,
              "#7201a8"
             ],
             [
              0.3333333333333333,
              "#9c179e"
             ],
             [
              0.4444444444444444,
              "#bd3786"
             ],
             [
              0.5555555555555556,
              "#d8576b"
             ],
             [
              0.6666666666666666,
              "#ed7953"
             ],
             [
              0.7777777777777778,
              "#fb9f3a"
             ],
             [
              0.8888888888888888,
              "#fdca26"
             ],
             [
              1,
              "#f0f921"
             ]
            ],
            "type": "contour"
           }
          ],
          "contourcarpet": [
           {
            "colorbar": {
             "outlinewidth": 0,
             "ticks": ""
            },
            "type": "contourcarpet"
           }
          ],
          "heatmap": [
           {
            "colorbar": {
             "outlinewidth": 0,
             "ticks": ""
            },
            "colorscale": [
             [
              0,
              "#0d0887"
             ],
             [
              0.1111111111111111,
              "#46039f"
             ],
             [
              0.2222222222222222,
              "#7201a8"
             ],
             [
              0.3333333333333333,
              "#9c179e"
             ],
             [
              0.4444444444444444,
              "#bd3786"
             ],
             [
              0.5555555555555556,
              "#d8576b"
             ],
             [
              0.6666666666666666,
              "#ed7953"
             ],
             [
              0.7777777777777778,
              "#fb9f3a"
             ],
             [
              0.8888888888888888,
              "#fdca26"
             ],
             [
              1,
              "#f0f921"
             ]
            ],
            "type": "heatmap"
           }
          ],
          "heatmapgl": [
           {
            "colorbar": {
             "outlinewidth": 0,
             "ticks": ""
            },
            "colorscale": [
             [
              0,
              "#0d0887"
             ],
             [
              0.1111111111111111,
              "#46039f"
             ],
             [
              0.2222222222222222,
              "#7201a8"
             ],
             [
              0.3333333333333333,
              "#9c179e"
             ],
             [
              0.4444444444444444,
              "#bd3786"
             ],
             [
              0.5555555555555556,
              "#d8576b"
             ],
             [
              0.6666666666666666,
              "#ed7953"
             ],
             [
              0.7777777777777778,
              "#fb9f3a"
             ],
             [
              0.8888888888888888,
              "#fdca26"
             ],
             [
              1,
              "#f0f921"
             ]
            ],
            "type": "heatmapgl"
           }
          ],
          "histogram": [
           {
            "marker": {
             "pattern": {
              "fillmode": "overlay",
              "size": 10,
              "solidity": 0.2
             }
            },
            "type": "histogram"
           }
          ],
          "histogram2d": [
           {
            "colorbar": {
             "outlinewidth": 0,
             "ticks": ""
            },
            "colorscale": [
             [
              0,
              "#0d0887"
             ],
             [
              0.1111111111111111,
              "#46039f"
             ],
             [
              0.2222222222222222,
              "#7201a8"
             ],
             [
              0.3333333333333333,
              "#9c179e"
             ],
             [
              0.4444444444444444,
              "#bd3786"
             ],
             [
              0.5555555555555556,
              "#d8576b"
             ],
             [
              0.6666666666666666,
              "#ed7953"
             ],
             [
              0.7777777777777778,
              "#fb9f3a"
             ],
             [
              0.8888888888888888,
              "#fdca26"
             ],
             [
              1,
              "#f0f921"
             ]
            ],
            "type": "histogram2d"
           }
          ],
          "histogram2dcontour": [
           {
            "colorbar": {
             "outlinewidth": 0,
             "ticks": ""
            },
            "colorscale": [
             [
              0,
              "#0d0887"
             ],
             [
              0.1111111111111111,
              "#46039f"
             ],
             [
              0.2222222222222222,
              "#7201a8"
             ],
             [
              0.3333333333333333,
              "#9c179e"
             ],
             [
              0.4444444444444444,
              "#bd3786"
             ],
             [
              0.5555555555555556,
              "#d8576b"
             ],
             [
              0.6666666666666666,
              "#ed7953"
             ],
             [
              0.7777777777777778,
              "#fb9f3a"
             ],
             [
              0.8888888888888888,
              "#fdca26"
             ],
             [
              1,
              "#f0f921"
             ]
            ],
            "type": "histogram2dcontour"
           }
          ],
          "mesh3d": [
           {
            "colorbar": {
             "outlinewidth": 0,
             "ticks": ""
            },
            "type": "mesh3d"
           }
          ],
          "parcoords": [
           {
            "line": {
             "colorbar": {
              "outlinewidth": 0,
              "ticks": ""
             }
            },
            "type": "parcoords"
           }
          ],
          "pie": [
           {
            "automargin": true,
            "type": "pie"
           }
          ],
          "scatter": [
           {
            "marker": {
             "colorbar": {
              "outlinewidth": 0,
              "ticks": ""
             }
            },
            "type": "scatter"
           }
          ],
          "scatter3d": [
           {
            "line": {
             "colorbar": {
              "outlinewidth": 0,
              "ticks": ""
             }
            },
            "marker": {
             "colorbar": {
              "outlinewidth": 0,
              "ticks": ""
             }
            },
            "type": "scatter3d"
           }
          ],
          "scattercarpet": [
           {
            "marker": {
             "colorbar": {
              "outlinewidth": 0,
              "ticks": ""
             }
            },
            "type": "scattercarpet"
           }
          ],
          "scattergeo": [
           {
            "marker": {
             "colorbar": {
              "outlinewidth": 0,
              "ticks": ""
             }
            },
            "type": "scattergeo"
           }
          ],
          "scattergl": [
           {
            "marker": {
             "colorbar": {
              "outlinewidth": 0,
              "ticks": ""
             }
            },
            "type": "scattergl"
           }
          ],
          "scattermapbox": [
           {
            "marker": {
             "colorbar": {
              "outlinewidth": 0,
              "ticks": ""
             }
            },
            "type": "scattermapbox"
           }
          ],
          "scatterpolar": [
           {
            "marker": {
             "colorbar": {
              "outlinewidth": 0,
              "ticks": ""
             }
            },
            "type": "scatterpolar"
           }
          ],
          "scatterpolargl": [
           {
            "marker": {
             "colorbar": {
              "outlinewidth": 0,
              "ticks": ""
             }
            },
            "type": "scatterpolargl"
           }
          ],
          "scatterternary": [
           {
            "marker": {
             "colorbar": {
              "outlinewidth": 0,
              "ticks": ""
             }
            },
            "type": "scatterternary"
           }
          ],
          "surface": [
           {
            "colorbar": {
             "outlinewidth": 0,
             "ticks": ""
            },
            "colorscale": [
             [
              0,
              "#0d0887"
             ],
             [
              0.1111111111111111,
              "#46039f"
             ],
             [
              0.2222222222222222,
              "#7201a8"
             ],
             [
              0.3333333333333333,
              "#9c179e"
             ],
             [
              0.4444444444444444,
              "#bd3786"
             ],
             [
              0.5555555555555556,
              "#d8576b"
             ],
             [
              0.6666666666666666,
              "#ed7953"
             ],
             [
              0.7777777777777778,
              "#fb9f3a"
             ],
             [
              0.8888888888888888,
              "#fdca26"
             ],
             [
              1,
              "#f0f921"
             ]
            ],
            "type": "surface"
           }
          ],
          "table": [
           {
            "cells": {
             "fill": {
              "color": "#EBF0F8"
             },
             "line": {
              "color": "white"
             }
            },
            "header": {
             "fill": {
              "color": "#C8D4E3"
             },
             "line": {
              "color": "white"
             }
            },
            "type": "table"
           }
          ]
         },
         "layout": {
          "annotationdefaults": {
           "arrowcolor": "#2a3f5f",
           "arrowhead": 0,
           "arrowwidth": 1
          },
          "autotypenumbers": "strict",
          "coloraxis": {
           "colorbar": {
            "outlinewidth": 0,
            "ticks": ""
           }
          },
          "colorscale": {
           "diverging": [
            [
             0,
             "#8e0152"
            ],
            [
             0.1,
             "#c51b7d"
            ],
            [
             0.2,
             "#de77ae"
            ],
            [
             0.3,
             "#f1b6da"
            ],
            [
             0.4,
             "#fde0ef"
            ],
            [
             0.5,
             "#f7f7f7"
            ],
            [
             0.6,
             "#e6f5d0"
            ],
            [
             0.7,
             "#b8e186"
            ],
            [
             0.8,
             "#7fbc41"
            ],
            [
             0.9,
             "#4d9221"
            ],
            [
             1,
             "#276419"
            ]
           ],
           "sequential": [
            [
             0,
             "#0d0887"
            ],
            [
             0.1111111111111111,
             "#46039f"
            ],
            [
             0.2222222222222222,
             "#7201a8"
            ],
            [
             0.3333333333333333,
             "#9c179e"
            ],
            [
             0.4444444444444444,
             "#bd3786"
            ],
            [
             0.5555555555555556,
             "#d8576b"
            ],
            [
             0.6666666666666666,
             "#ed7953"
            ],
            [
             0.7777777777777778,
             "#fb9f3a"
            ],
            [
             0.8888888888888888,
             "#fdca26"
            ],
            [
             1,
             "#f0f921"
            ]
           ],
           "sequentialminus": [
            [
             0,
             "#0d0887"
            ],
            [
             0.1111111111111111,
             "#46039f"
            ],
            [
             0.2222222222222222,
             "#7201a8"
            ],
            [
             0.3333333333333333,
             "#9c179e"
            ],
            [
             0.4444444444444444,
             "#bd3786"
            ],
            [
             0.5555555555555556,
             "#d8576b"
            ],
            [
             0.6666666666666666,
             "#ed7953"
            ],
            [
             0.7777777777777778,
             "#fb9f3a"
            ],
            [
             0.8888888888888888,
             "#fdca26"
            ],
            [
             1,
             "#f0f921"
            ]
           ]
          },
          "colorway": [
           "#636efa",
           "#EF553B",
           "#00cc96",
           "#ab63fa",
           "#FFA15A",
           "#19d3f3",
           "#FF6692",
           "#B6E880",
           "#FF97FF",
           "#FECB52"
          ],
          "font": {
           "color": "#2a3f5f"
          },
          "geo": {
           "bgcolor": "white",
           "lakecolor": "white",
           "landcolor": "#E5ECF6",
           "showlakes": true,
           "showland": true,
           "subunitcolor": "white"
          },
          "hoverlabel": {
           "align": "left"
          },
          "hovermode": "closest",
          "mapbox": {
           "style": "light"
          },
          "paper_bgcolor": "white",
          "plot_bgcolor": "#E5ECF6",
          "polar": {
           "angularaxis": {
            "gridcolor": "white",
            "linecolor": "white",
            "ticks": ""
           },
           "bgcolor": "#E5ECF6",
           "radialaxis": {
            "gridcolor": "white",
            "linecolor": "white",
            "ticks": ""
           }
          },
          "scene": {
           "xaxis": {
            "backgroundcolor": "#E5ECF6",
            "gridcolor": "white",
            "gridwidth": 2,
            "linecolor": "white",
            "showbackground": true,
            "ticks": "",
            "zerolinecolor": "white"
           },
           "yaxis": {
            "backgroundcolor": "#E5ECF6",
            "gridcolor": "white",
            "gridwidth": 2,
            "linecolor": "white",
            "showbackground": true,
            "ticks": "",
            "zerolinecolor": "white"
           },
           "zaxis": {
            "backgroundcolor": "#E5ECF6",
            "gridcolor": "white",
            "gridwidth": 2,
            "linecolor": "white",
            "showbackground": true,
            "ticks": "",
            "zerolinecolor": "white"
           }
          },
          "shapedefaults": {
           "line": {
            "color": "#2a3f5f"
           }
          },
          "ternary": {
           "aaxis": {
            "gridcolor": "white",
            "linecolor": "white",
            "ticks": ""
           },
           "baxis": {
            "gridcolor": "white",
            "linecolor": "white",
            "ticks": ""
           },
           "bgcolor": "#E5ECF6",
           "caxis": {
            "gridcolor": "white",
            "linecolor": "white",
            "ticks": ""
           }
          },
          "title": {
           "x": 0.05
          },
          "xaxis": {
           "automargin": true,
           "gridcolor": "white",
           "linecolor": "white",
           "ticks": "",
           "title": {
            "standoff": 15
           },
           "zerolinecolor": "white",
           "zerolinewidth": 2
          },
          "yaxis": {
           "automargin": true,
           "gridcolor": "white",
           "linecolor": "white",
           "ticks": "",
           "title": {
            "standoff": 15
           },
           "zerolinecolor": "white",
           "zerolinewidth": 2
          }
         }
        },
        "title": {
         "font": {
          "color": "#4D5663"
         }
        },
        "xaxis": {
         "gridcolor": "#E1E5ED",
         "showgrid": true,
         "tickfont": {
          "color": "#4D5663"
         },
         "title": {
          "font": {
           "color": "#4D5663"
          },
          "text": ""
         },
         "zerolinecolor": "#E1E5ED"
        },
        "yaxis": {
         "gridcolor": "#E1E5ED",
         "showgrid": true,
         "tickfont": {
          "color": "#4D5663"
         },
         "title": {
          "font": {
           "color": "#4D5663"
          },
          "text": ""
         },
         "zerolinecolor": "#E1E5ED"
        }
       }
      }
     },
     "metadata": {}
    }
   ],
   "metadata": {}
  },
  {
   "cell_type": "code",
   "execution_count": 15,
   "source": [
    "df2.iplot(kind='bar', x='Category', y='Values')"
   ],
   "outputs": [
    {
     "output_type": "display_data",
     "data": {
      "text/html": [
       "<div>                            <div id=\"054125ea-ae8e-47b2-93ca-6aaab6918029\" class=\"plotly-graph-div\" style=\"height:525px; width:100%;\"></div>            <script type=\"text/javascript\">                require([\"plotly\"], function(Plotly) {                    window.PLOTLYENV=window.PLOTLYENV || {};\n",
       "                    window.PLOTLYENV.BASE_URL='https://plot.ly';                                    if (document.getElementById(\"054125ea-ae8e-47b2-93ca-6aaab6918029\")) {                    Plotly.newPlot(                        \"054125ea-ae8e-47b2-93ca-6aaab6918029\",                        [{\"marker\":{\"color\":\"rgba(255, 153, 51, 0.6)\",\"line\":{\"color\":\"rgba(255, 153, 51, 1.0)\",\"width\":1}},\"name\":\"Values\",\"orientation\":\"v\",\"text\":\"\",\"type\":\"bar\",\"x\":[\"A\",\"B\",\"C\"],\"y\":[32,43,54]}],                        {\"legend\":{\"bgcolor\":\"#F5F6F9\",\"font\":{\"color\":\"#4D5663\"}},\"paper_bgcolor\":\"#F5F6F9\",\"plot_bgcolor\":\"#F5F6F9\",\"template\":{\"data\":{\"bar\":[{\"error_x\":{\"color\":\"#2a3f5f\"},\"error_y\":{\"color\":\"#2a3f5f\"},\"marker\":{\"line\":{\"color\":\"#E5ECF6\",\"width\":0.5},\"pattern\":{\"fillmode\":\"overlay\",\"size\":10,\"solidity\":0.2}},\"type\":\"bar\"}],\"barpolar\":[{\"marker\":{\"line\":{\"color\":\"#E5ECF6\",\"width\":0.5},\"pattern\":{\"fillmode\":\"overlay\",\"size\":10,\"solidity\":0.2}},\"type\":\"barpolar\"}],\"carpet\":[{\"aaxis\":{\"endlinecolor\":\"#2a3f5f\",\"gridcolor\":\"white\",\"linecolor\":\"white\",\"minorgridcolor\":\"white\",\"startlinecolor\":\"#2a3f5f\"},\"baxis\":{\"endlinecolor\":\"#2a3f5f\",\"gridcolor\":\"white\",\"linecolor\":\"white\",\"minorgridcolor\":\"white\",\"startlinecolor\":\"#2a3f5f\"},\"type\":\"carpet\"}],\"choropleth\":[{\"colorbar\":{\"outlinewidth\":0,\"ticks\":\"\"},\"type\":\"choropleth\"}],\"contour\":[{\"colorbar\":{\"outlinewidth\":0,\"ticks\":\"\"},\"colorscale\":[[0.0,\"#0d0887\"],[0.1111111111111111,\"#46039f\"],[0.2222222222222222,\"#7201a8\"],[0.3333333333333333,\"#9c179e\"],[0.4444444444444444,\"#bd3786\"],[0.5555555555555556,\"#d8576b\"],[0.6666666666666666,\"#ed7953\"],[0.7777777777777778,\"#fb9f3a\"],[0.8888888888888888,\"#fdca26\"],[1.0,\"#f0f921\"]],\"type\":\"contour\"}],\"contourcarpet\":[{\"colorbar\":{\"outlinewidth\":0,\"ticks\":\"\"},\"type\":\"contourcarpet\"}],\"heatmap\":[{\"colorbar\":{\"outlinewidth\":0,\"ticks\":\"\"},\"colorscale\":[[0.0,\"#0d0887\"],[0.1111111111111111,\"#46039f\"],[0.2222222222222222,\"#7201a8\"],[0.3333333333333333,\"#9c179e\"],[0.4444444444444444,\"#bd3786\"],[0.5555555555555556,\"#d8576b\"],[0.6666666666666666,\"#ed7953\"],[0.7777777777777778,\"#fb9f3a\"],[0.8888888888888888,\"#fdca26\"],[1.0,\"#f0f921\"]],\"type\":\"heatmap\"}],\"heatmapgl\":[{\"colorbar\":{\"outlinewidth\":0,\"ticks\":\"\"},\"colorscale\":[[0.0,\"#0d0887\"],[0.1111111111111111,\"#46039f\"],[0.2222222222222222,\"#7201a8\"],[0.3333333333333333,\"#9c179e\"],[0.4444444444444444,\"#bd3786\"],[0.5555555555555556,\"#d8576b\"],[0.6666666666666666,\"#ed7953\"],[0.7777777777777778,\"#fb9f3a\"],[0.8888888888888888,\"#fdca26\"],[1.0,\"#f0f921\"]],\"type\":\"heatmapgl\"}],\"histogram\":[{\"marker\":{\"pattern\":{\"fillmode\":\"overlay\",\"size\":10,\"solidity\":0.2}},\"type\":\"histogram\"}],\"histogram2d\":[{\"colorbar\":{\"outlinewidth\":0,\"ticks\":\"\"},\"colorscale\":[[0.0,\"#0d0887\"],[0.1111111111111111,\"#46039f\"],[0.2222222222222222,\"#7201a8\"],[0.3333333333333333,\"#9c179e\"],[0.4444444444444444,\"#bd3786\"],[0.5555555555555556,\"#d8576b\"],[0.6666666666666666,\"#ed7953\"],[0.7777777777777778,\"#fb9f3a\"],[0.8888888888888888,\"#fdca26\"],[1.0,\"#f0f921\"]],\"type\":\"histogram2d\"}],\"histogram2dcontour\":[{\"colorbar\":{\"outlinewidth\":0,\"ticks\":\"\"},\"colorscale\":[[0.0,\"#0d0887\"],[0.1111111111111111,\"#46039f\"],[0.2222222222222222,\"#7201a8\"],[0.3333333333333333,\"#9c179e\"],[0.4444444444444444,\"#bd3786\"],[0.5555555555555556,\"#d8576b\"],[0.6666666666666666,\"#ed7953\"],[0.7777777777777778,\"#fb9f3a\"],[0.8888888888888888,\"#fdca26\"],[1.0,\"#f0f921\"]],\"type\":\"histogram2dcontour\"}],\"mesh3d\":[{\"colorbar\":{\"outlinewidth\":0,\"ticks\":\"\"},\"type\":\"mesh3d\"}],\"parcoords\":[{\"line\":{\"colorbar\":{\"outlinewidth\":0,\"ticks\":\"\"}},\"type\":\"parcoords\"}],\"pie\":[{\"automargin\":true,\"type\":\"pie\"}],\"scatter\":[{\"marker\":{\"colorbar\":{\"outlinewidth\":0,\"ticks\":\"\"}},\"type\":\"scatter\"}],\"scatter3d\":[{\"line\":{\"colorbar\":{\"outlinewidth\":0,\"ticks\":\"\"}},\"marker\":{\"colorbar\":{\"outlinewidth\":0,\"ticks\":\"\"}},\"type\":\"scatter3d\"}],\"scattercarpet\":[{\"marker\":{\"colorbar\":{\"outlinewidth\":0,\"ticks\":\"\"}},\"type\":\"scattercarpet\"}],\"scattergeo\":[{\"marker\":{\"colorbar\":{\"outlinewidth\":0,\"ticks\":\"\"}},\"type\":\"scattergeo\"}],\"scattergl\":[{\"marker\":{\"colorbar\":{\"outlinewidth\":0,\"ticks\":\"\"}},\"type\":\"scattergl\"}],\"scattermapbox\":[{\"marker\":{\"colorbar\":{\"outlinewidth\":0,\"ticks\":\"\"}},\"type\":\"scattermapbox\"}],\"scatterpolar\":[{\"marker\":{\"colorbar\":{\"outlinewidth\":0,\"ticks\":\"\"}},\"type\":\"scatterpolar\"}],\"scatterpolargl\":[{\"marker\":{\"colorbar\":{\"outlinewidth\":0,\"ticks\":\"\"}},\"type\":\"scatterpolargl\"}],\"scatterternary\":[{\"marker\":{\"colorbar\":{\"outlinewidth\":0,\"ticks\":\"\"}},\"type\":\"scatterternary\"}],\"surface\":[{\"colorbar\":{\"outlinewidth\":0,\"ticks\":\"\"},\"colorscale\":[[0.0,\"#0d0887\"],[0.1111111111111111,\"#46039f\"],[0.2222222222222222,\"#7201a8\"],[0.3333333333333333,\"#9c179e\"],[0.4444444444444444,\"#bd3786\"],[0.5555555555555556,\"#d8576b\"],[0.6666666666666666,\"#ed7953\"],[0.7777777777777778,\"#fb9f3a\"],[0.8888888888888888,\"#fdca26\"],[1.0,\"#f0f921\"]],\"type\":\"surface\"}],\"table\":[{\"cells\":{\"fill\":{\"color\":\"#EBF0F8\"},\"line\":{\"color\":\"white\"}},\"header\":{\"fill\":{\"color\":\"#C8D4E3\"},\"line\":{\"color\":\"white\"}},\"type\":\"table\"}]},\"layout\":{\"annotationdefaults\":{\"arrowcolor\":\"#2a3f5f\",\"arrowhead\":0,\"arrowwidth\":1},\"autotypenumbers\":\"strict\",\"coloraxis\":{\"colorbar\":{\"outlinewidth\":0,\"ticks\":\"\"}},\"colorscale\":{\"diverging\":[[0,\"#8e0152\"],[0.1,\"#c51b7d\"],[0.2,\"#de77ae\"],[0.3,\"#f1b6da\"],[0.4,\"#fde0ef\"],[0.5,\"#f7f7f7\"],[0.6,\"#e6f5d0\"],[0.7,\"#b8e186\"],[0.8,\"#7fbc41\"],[0.9,\"#4d9221\"],[1,\"#276419\"]],\"sequential\":[[0.0,\"#0d0887\"],[0.1111111111111111,\"#46039f\"],[0.2222222222222222,\"#7201a8\"],[0.3333333333333333,\"#9c179e\"],[0.4444444444444444,\"#bd3786\"],[0.5555555555555556,\"#d8576b\"],[0.6666666666666666,\"#ed7953\"],[0.7777777777777778,\"#fb9f3a\"],[0.8888888888888888,\"#fdca26\"],[1.0,\"#f0f921\"]],\"sequentialminus\":[[0.0,\"#0d0887\"],[0.1111111111111111,\"#46039f\"],[0.2222222222222222,\"#7201a8\"],[0.3333333333333333,\"#9c179e\"],[0.4444444444444444,\"#bd3786\"],[0.5555555555555556,\"#d8576b\"],[0.6666666666666666,\"#ed7953\"],[0.7777777777777778,\"#fb9f3a\"],[0.8888888888888888,\"#fdca26\"],[1.0,\"#f0f921\"]]},\"colorway\":[\"#636efa\",\"#EF553B\",\"#00cc96\",\"#ab63fa\",\"#FFA15A\",\"#19d3f3\",\"#FF6692\",\"#B6E880\",\"#FF97FF\",\"#FECB52\"],\"font\":{\"color\":\"#2a3f5f\"},\"geo\":{\"bgcolor\":\"white\",\"lakecolor\":\"white\",\"landcolor\":\"#E5ECF6\",\"showlakes\":true,\"showland\":true,\"subunitcolor\":\"white\"},\"hoverlabel\":{\"align\":\"left\"},\"hovermode\":\"closest\",\"mapbox\":{\"style\":\"light\"},\"paper_bgcolor\":\"white\",\"plot_bgcolor\":\"#E5ECF6\",\"polar\":{\"angularaxis\":{\"gridcolor\":\"white\",\"linecolor\":\"white\",\"ticks\":\"\"},\"bgcolor\":\"#E5ECF6\",\"radialaxis\":{\"gridcolor\":\"white\",\"linecolor\":\"white\",\"ticks\":\"\"}},\"scene\":{\"xaxis\":{\"backgroundcolor\":\"#E5ECF6\",\"gridcolor\":\"white\",\"gridwidth\":2,\"linecolor\":\"white\",\"showbackground\":true,\"ticks\":\"\",\"zerolinecolor\":\"white\"},\"yaxis\":{\"backgroundcolor\":\"#E5ECF6\",\"gridcolor\":\"white\",\"gridwidth\":2,\"linecolor\":\"white\",\"showbackground\":true,\"ticks\":\"\",\"zerolinecolor\":\"white\"},\"zaxis\":{\"backgroundcolor\":\"#E5ECF6\",\"gridcolor\":\"white\",\"gridwidth\":2,\"linecolor\":\"white\",\"showbackground\":true,\"ticks\":\"\",\"zerolinecolor\":\"white\"}},\"shapedefaults\":{\"line\":{\"color\":\"#2a3f5f\"}},\"ternary\":{\"aaxis\":{\"gridcolor\":\"white\",\"linecolor\":\"white\",\"ticks\":\"\"},\"baxis\":{\"gridcolor\":\"white\",\"linecolor\":\"white\",\"ticks\":\"\"},\"bgcolor\":\"#E5ECF6\",\"caxis\":{\"gridcolor\":\"white\",\"linecolor\":\"white\",\"ticks\":\"\"}},\"title\":{\"x\":0.05},\"xaxis\":{\"automargin\":true,\"gridcolor\":\"white\",\"linecolor\":\"white\",\"ticks\":\"\",\"title\":{\"standoff\":15},\"zerolinecolor\":\"white\",\"zerolinewidth\":2},\"yaxis\":{\"automargin\":true,\"gridcolor\":\"white\",\"linecolor\":\"white\",\"ticks\":\"\",\"title\":{\"standoff\":15},\"zerolinecolor\":\"white\",\"zerolinewidth\":2}}},\"title\":{\"font\":{\"color\":\"#4D5663\"}},\"xaxis\":{\"gridcolor\":\"#E1E5ED\",\"showgrid\":true,\"tickfont\":{\"color\":\"#4D5663\"},\"title\":{\"font\":{\"color\":\"#4D5663\"},\"text\":\"\"},\"zerolinecolor\":\"#E1E5ED\"},\"yaxis\":{\"gridcolor\":\"#E1E5ED\",\"showgrid\":true,\"tickfont\":{\"color\":\"#4D5663\"},\"title\":{\"font\":{\"color\":\"#4D5663\"},\"text\":\"\"},\"zerolinecolor\":\"#E1E5ED\"}},                        {\"showLink\": true, \"linkText\": \"Export to plot.ly\", \"plotlyServerURL\": \"https://plot.ly\", \"responsive\": true}                    ).then(function(){\n",
       "                            \n",
       "var gd = document.getElementById('054125ea-ae8e-47b2-93ca-6aaab6918029');\n",
       "var x = new MutationObserver(function (mutations, observer) {{\n",
       "        var display = window.getComputedStyle(gd).display;\n",
       "        if (!display || display === 'none') {{\n",
       "            console.log([gd, 'removed!']);\n",
       "            Plotly.purge(gd);\n",
       "            observer.disconnect();\n",
       "        }}\n",
       "}});\n",
       "\n",
       "// Listen for the removal of the full notebook cells\n",
       "var notebookContainer = gd.closest('#notebook-container');\n",
       "if (notebookContainer) {{\n",
       "    x.observe(notebookContainer, {childList: true});\n",
       "}}\n",
       "\n",
       "// Listen for the clearing of the current output cell\n",
       "var outputEl = gd.closest('.output');\n",
       "if (outputEl) {{\n",
       "    x.observe(outputEl, {childList: true});\n",
       "}}\n",
       "\n",
       "                        })                };                });            </script>        </div>"
      ],
      "application/vnd.plotly.v1+json": {
       "config": {
        "linkText": "Export to plot.ly",
        "plotlyServerURL": "https://plot.ly",
        "showLink": true
       },
       "data": [
        {
         "marker": {
          "color": "rgba(255, 153, 51, 0.6)",
          "line": {
           "color": "rgba(255, 153, 51, 1.0)",
           "width": 1
          }
         },
         "name": "Values",
         "orientation": "v",
         "text": "",
         "type": "bar",
         "x": [
          "A",
          "B",
          "C"
         ],
         "y": [
          32,
          43,
          54
         ]
        }
       ],
       "layout": {
        "legend": {
         "bgcolor": "#F5F6F9",
         "font": {
          "color": "#4D5663"
         }
        },
        "paper_bgcolor": "#F5F6F9",
        "plot_bgcolor": "#F5F6F9",
        "template": {
         "data": {
          "bar": [
           {
            "error_x": {
             "color": "#2a3f5f"
            },
            "error_y": {
             "color": "#2a3f5f"
            },
            "marker": {
             "line": {
              "color": "#E5ECF6",
              "width": 0.5
             },
             "pattern": {
              "fillmode": "overlay",
              "size": 10,
              "solidity": 0.2
             }
            },
            "type": "bar"
           }
          ],
          "barpolar": [
           {
            "marker": {
             "line": {
              "color": "#E5ECF6",
              "width": 0.5
             },
             "pattern": {
              "fillmode": "overlay",
              "size": 10,
              "solidity": 0.2
             }
            },
            "type": "barpolar"
           }
          ],
          "carpet": [
           {
            "aaxis": {
             "endlinecolor": "#2a3f5f",
             "gridcolor": "white",
             "linecolor": "white",
             "minorgridcolor": "white",
             "startlinecolor": "#2a3f5f"
            },
            "baxis": {
             "endlinecolor": "#2a3f5f",
             "gridcolor": "white",
             "linecolor": "white",
             "minorgridcolor": "white",
             "startlinecolor": "#2a3f5f"
            },
            "type": "carpet"
           }
          ],
          "choropleth": [
           {
            "colorbar": {
             "outlinewidth": 0,
             "ticks": ""
            },
            "type": "choropleth"
           }
          ],
          "contour": [
           {
            "colorbar": {
             "outlinewidth": 0,
             "ticks": ""
            },
            "colorscale": [
             [
              0,
              "#0d0887"
             ],
             [
              0.1111111111111111,
              "#46039f"
             ],
             [
              0.2222222222222222,
              "#7201a8"
             ],
             [
              0.3333333333333333,
              "#9c179e"
             ],
             [
              0.4444444444444444,
              "#bd3786"
             ],
             [
              0.5555555555555556,
              "#d8576b"
             ],
             [
              0.6666666666666666,
              "#ed7953"
             ],
             [
              0.7777777777777778,
              "#fb9f3a"
             ],
             [
              0.8888888888888888,
              "#fdca26"
             ],
             [
              1,
              "#f0f921"
             ]
            ],
            "type": "contour"
           }
          ],
          "contourcarpet": [
           {
            "colorbar": {
             "outlinewidth": 0,
             "ticks": ""
            },
            "type": "contourcarpet"
           }
          ],
          "heatmap": [
           {
            "colorbar": {
             "outlinewidth": 0,
             "ticks": ""
            },
            "colorscale": [
             [
              0,
              "#0d0887"
             ],
             [
              0.1111111111111111,
              "#46039f"
             ],
             [
              0.2222222222222222,
              "#7201a8"
             ],
             [
              0.3333333333333333,
              "#9c179e"
             ],
             [
              0.4444444444444444,
              "#bd3786"
             ],
             [
              0.5555555555555556,
              "#d8576b"
             ],
             [
              0.6666666666666666,
              "#ed7953"
             ],
             [
              0.7777777777777778,
              "#fb9f3a"
             ],
             [
              0.8888888888888888,
              "#fdca26"
             ],
             [
              1,
              "#f0f921"
             ]
            ],
            "type": "heatmap"
           }
          ],
          "heatmapgl": [
           {
            "colorbar": {
             "outlinewidth": 0,
             "ticks": ""
            },
            "colorscale": [
             [
              0,
              "#0d0887"
             ],
             [
              0.1111111111111111,
              "#46039f"
             ],
             [
              0.2222222222222222,
              "#7201a8"
             ],
             [
              0.3333333333333333,
              "#9c179e"
             ],
             [
              0.4444444444444444,
              "#bd3786"
             ],
             [
              0.5555555555555556,
              "#d8576b"
             ],
             [
              0.6666666666666666,
              "#ed7953"
             ],
             [
              0.7777777777777778,
              "#fb9f3a"
             ],
             [
              0.8888888888888888,
              "#fdca26"
             ],
             [
              1,
              "#f0f921"
             ]
            ],
            "type": "heatmapgl"
           }
          ],
          "histogram": [
           {
            "marker": {
             "pattern": {
              "fillmode": "overlay",
              "size": 10,
              "solidity": 0.2
             }
            },
            "type": "histogram"
           }
          ],
          "histogram2d": [
           {
            "colorbar": {
             "outlinewidth": 0,
             "ticks": ""
            },
            "colorscale": [
             [
              0,
              "#0d0887"
             ],
             [
              0.1111111111111111,
              "#46039f"
             ],
             [
              0.2222222222222222,
              "#7201a8"
             ],
             [
              0.3333333333333333,
              "#9c179e"
             ],
             [
              0.4444444444444444,
              "#bd3786"
             ],
             [
              0.5555555555555556,
              "#d8576b"
             ],
             [
              0.6666666666666666,
              "#ed7953"
             ],
             [
              0.7777777777777778,
              "#fb9f3a"
             ],
             [
              0.8888888888888888,
              "#fdca26"
             ],
             [
              1,
              "#f0f921"
             ]
            ],
            "type": "histogram2d"
           }
          ],
          "histogram2dcontour": [
           {
            "colorbar": {
             "outlinewidth": 0,
             "ticks": ""
            },
            "colorscale": [
             [
              0,
              "#0d0887"
             ],
             [
              0.1111111111111111,
              "#46039f"
             ],
             [
              0.2222222222222222,
              "#7201a8"
             ],
             [
              0.3333333333333333,
              "#9c179e"
             ],
             [
              0.4444444444444444,
              "#bd3786"
             ],
             [
              0.5555555555555556,
              "#d8576b"
             ],
             [
              0.6666666666666666,
              "#ed7953"
             ],
             [
              0.7777777777777778,
              "#fb9f3a"
             ],
             [
              0.8888888888888888,
              "#fdca26"
             ],
             [
              1,
              "#f0f921"
             ]
            ],
            "type": "histogram2dcontour"
           }
          ],
          "mesh3d": [
           {
            "colorbar": {
             "outlinewidth": 0,
             "ticks": ""
            },
            "type": "mesh3d"
           }
          ],
          "parcoords": [
           {
            "line": {
             "colorbar": {
              "outlinewidth": 0,
              "ticks": ""
             }
            },
            "type": "parcoords"
           }
          ],
          "pie": [
           {
            "automargin": true,
            "type": "pie"
           }
          ],
          "scatter": [
           {
            "marker": {
             "colorbar": {
              "outlinewidth": 0,
              "ticks": ""
             }
            },
            "type": "scatter"
           }
          ],
          "scatter3d": [
           {
            "line": {
             "colorbar": {
              "outlinewidth": 0,
              "ticks": ""
             }
            },
            "marker": {
             "colorbar": {
              "outlinewidth": 0,
              "ticks": ""
             }
            },
            "type": "scatter3d"
           }
          ],
          "scattercarpet": [
           {
            "marker": {
             "colorbar": {
              "outlinewidth": 0,
              "ticks": ""
             }
            },
            "type": "scattercarpet"
           }
          ],
          "scattergeo": [
           {
            "marker": {
             "colorbar": {
              "outlinewidth": 0,
              "ticks": ""
             }
            },
            "type": "scattergeo"
           }
          ],
          "scattergl": [
           {
            "marker": {
             "colorbar": {
              "outlinewidth": 0,
              "ticks": ""
             }
            },
            "type": "scattergl"
           }
          ],
          "scattermapbox": [
           {
            "marker": {
             "colorbar": {
              "outlinewidth": 0,
              "ticks": ""
             }
            },
            "type": "scattermapbox"
           }
          ],
          "scatterpolar": [
           {
            "marker": {
             "colorbar": {
              "outlinewidth": 0,
              "ticks": ""
             }
            },
            "type": "scatterpolar"
           }
          ],
          "scatterpolargl": [
           {
            "marker": {
             "colorbar": {
              "outlinewidth": 0,
              "ticks": ""
             }
            },
            "type": "scatterpolargl"
           }
          ],
          "scatterternary": [
           {
            "marker": {
             "colorbar": {
              "outlinewidth": 0,
              "ticks": ""
             }
            },
            "type": "scatterternary"
           }
          ],
          "surface": [
           {
            "colorbar": {
             "outlinewidth": 0,
             "ticks": ""
            },
            "colorscale": [
             [
              0,
              "#0d0887"
             ],
             [
              0.1111111111111111,
              "#46039f"
             ],
             [
              0.2222222222222222,
              "#7201a8"
             ],
             [
              0.3333333333333333,
              "#9c179e"
             ],
             [
              0.4444444444444444,
              "#bd3786"
             ],
             [
              0.5555555555555556,
              "#d8576b"
             ],
             [
              0.6666666666666666,
              "#ed7953"
             ],
             [
              0.7777777777777778,
              "#fb9f3a"
             ],
             [
              0.8888888888888888,
              "#fdca26"
             ],
             [
              1,
              "#f0f921"
             ]
            ],
            "type": "surface"
           }
          ],
          "table": [
           {
            "cells": {
             "fill": {
              "color": "#EBF0F8"
             },
             "line": {
              "color": "white"
             }
            },
            "header": {
             "fill": {
              "color": "#C8D4E3"
             },
             "line": {
              "color": "white"
             }
            },
            "type": "table"
           }
          ]
         },
         "layout": {
          "annotationdefaults": {
           "arrowcolor": "#2a3f5f",
           "arrowhead": 0,
           "arrowwidth": 1
          },
          "autotypenumbers": "strict",
          "coloraxis": {
           "colorbar": {
            "outlinewidth": 0,
            "ticks": ""
           }
          },
          "colorscale": {
           "diverging": [
            [
             0,
             "#8e0152"
            ],
            [
             0.1,
             "#c51b7d"
            ],
            [
             0.2,
             "#de77ae"
            ],
            [
             0.3,
             "#f1b6da"
            ],
            [
             0.4,
             "#fde0ef"
            ],
            [
             0.5,
             "#f7f7f7"
            ],
            [
             0.6,
             "#e6f5d0"
            ],
            [
             0.7,
             "#b8e186"
            ],
            [
             0.8,
             "#7fbc41"
            ],
            [
             0.9,
             "#4d9221"
            ],
            [
             1,
             "#276419"
            ]
           ],
           "sequential": [
            [
             0,
             "#0d0887"
            ],
            [
             0.1111111111111111,
             "#46039f"
            ],
            [
             0.2222222222222222,
             "#7201a8"
            ],
            [
             0.3333333333333333,
             "#9c179e"
            ],
            [
             0.4444444444444444,
             "#bd3786"
            ],
            [
             0.5555555555555556,
             "#d8576b"
            ],
            [
             0.6666666666666666,
             "#ed7953"
            ],
            [
             0.7777777777777778,
             "#fb9f3a"
            ],
            [
             0.8888888888888888,
             "#fdca26"
            ],
            [
             1,
             "#f0f921"
            ]
           ],
           "sequentialminus": [
            [
             0,
             "#0d0887"
            ],
            [
             0.1111111111111111,
             "#46039f"
            ],
            [
             0.2222222222222222,
             "#7201a8"
            ],
            [
             0.3333333333333333,
             "#9c179e"
            ],
            [
             0.4444444444444444,
             "#bd3786"
            ],
            [
             0.5555555555555556,
             "#d8576b"
            ],
            [
             0.6666666666666666,
             "#ed7953"
            ],
            [
             0.7777777777777778,
             "#fb9f3a"
            ],
            [
             0.8888888888888888,
             "#fdca26"
            ],
            [
             1,
             "#f0f921"
            ]
           ]
          },
          "colorway": [
           "#636efa",
           "#EF553B",
           "#00cc96",
           "#ab63fa",
           "#FFA15A",
           "#19d3f3",
           "#FF6692",
           "#B6E880",
           "#FF97FF",
           "#FECB52"
          ],
          "font": {
           "color": "#2a3f5f"
          },
          "geo": {
           "bgcolor": "white",
           "lakecolor": "white",
           "landcolor": "#E5ECF6",
           "showlakes": true,
           "showland": true,
           "subunitcolor": "white"
          },
          "hoverlabel": {
           "align": "left"
          },
          "hovermode": "closest",
          "mapbox": {
           "style": "light"
          },
          "paper_bgcolor": "white",
          "plot_bgcolor": "#E5ECF6",
          "polar": {
           "angularaxis": {
            "gridcolor": "white",
            "linecolor": "white",
            "ticks": ""
           },
           "bgcolor": "#E5ECF6",
           "radialaxis": {
            "gridcolor": "white",
            "linecolor": "white",
            "ticks": ""
           }
          },
          "scene": {
           "xaxis": {
            "backgroundcolor": "#E5ECF6",
            "gridcolor": "white",
            "gridwidth": 2,
            "linecolor": "white",
            "showbackground": true,
            "ticks": "",
            "zerolinecolor": "white"
           },
           "yaxis": {
            "backgroundcolor": "#E5ECF6",
            "gridcolor": "white",
            "gridwidth": 2,
            "linecolor": "white",
            "showbackground": true,
            "ticks": "",
            "zerolinecolor": "white"
           },
           "zaxis": {
            "backgroundcolor": "#E5ECF6",
            "gridcolor": "white",
            "gridwidth": 2,
            "linecolor": "white",
            "showbackground": true,
            "ticks": "",
            "zerolinecolor": "white"
           }
          },
          "shapedefaults": {
           "line": {
            "color": "#2a3f5f"
           }
          },
          "ternary": {
           "aaxis": {
            "gridcolor": "white",
            "linecolor": "white",
            "ticks": ""
           },
           "baxis": {
            "gridcolor": "white",
            "linecolor": "white",
            "ticks": ""
           },
           "bgcolor": "#E5ECF6",
           "caxis": {
            "gridcolor": "white",
            "linecolor": "white",
            "ticks": ""
           }
          },
          "title": {
           "x": 0.05
          },
          "xaxis": {
           "automargin": true,
           "gridcolor": "white",
           "linecolor": "white",
           "ticks": "",
           "title": {
            "standoff": 15
           },
           "zerolinecolor": "white",
           "zerolinewidth": 2
          },
          "yaxis": {
           "automargin": true,
           "gridcolor": "white",
           "linecolor": "white",
           "ticks": "",
           "title": {
            "standoff": 15
           },
           "zerolinecolor": "white",
           "zerolinewidth": 2
          }
         }
        },
        "title": {
         "font": {
          "color": "#4D5663"
         }
        },
        "xaxis": {
         "gridcolor": "#E1E5ED",
         "showgrid": true,
         "tickfont": {
          "color": "#4D5663"
         },
         "title": {
          "font": {
           "color": "#4D5663"
          },
          "text": ""
         },
         "zerolinecolor": "#E1E5ED"
        },
        "yaxis": {
         "gridcolor": "#E1E5ED",
         "showgrid": true,
         "tickfont": {
          "color": "#4D5663"
         },
         "title": {
          "font": {
           "color": "#4D5663"
          },
          "text": ""
         },
         "zerolinecolor": "#E1E5ED"
        }
       }
      }
     },
     "metadata": {}
    }
   ],
   "metadata": {}
  },
  {
   "cell_type": "code",
   "execution_count": 16,
   "source": [
    "df.iplot(kind='bar')"
   ],
   "outputs": [
    {
     "output_type": "display_data",
     "data": {
      "text/html": [
       "<div>                            <div id=\"2de95152-e733-4afe-98d2-0b511ac6367c\" class=\"plotly-graph-div\" style=\"height:525px; width:100%;\"></div>            <script type=\"text/javascript\">                require([\"plotly\"], function(Plotly) {                    window.PLOTLYENV=window.PLOTLYENV || {};\n",
       "                    window.PLOTLYENV.BASE_URL='https://plot.ly';                                    if (document.getElementById(\"2de95152-e733-4afe-98d2-0b511ac6367c\")) {                    Plotly.newPlot(                        \"2de95152-e733-4afe-98d2-0b511ac6367c\",                        [{\"marker\":{\"color\":\"rgba(255, 153, 51, 0.6)\",\"line\":{\"color\":\"rgba(255, 153, 51, 1.0)\",\"width\":1}},\"name\":\"A\",\"orientation\":\"v\",\"text\":\"\",\"type\":\"bar\",\"x\":[0,1,2,3,4,5,6,7,8,9,10,11,12,13,14,15,16,17,18,19,20,21,22,23,24,25,26,27,28,29,30,31,32,33,34,35,36,37,38,39,40,41,42,43,44,45,46,47,48,49,50,51,52,53,54,55,56,57,58,59,60,61,62,63,64,65,66,67,68,69,70,71,72,73,74,75,76,77,78,79,80,81,82,83,84,85,86,87,88,89,90,91,92,93,94,95,96,97,98,99],\"y\":[0.42860790047642905,-0.24150461408966148,0.8033352317583001,-0.4541726165268112,-0.9932670897240472,-1.6407185774656428,1.0292734271511936,0.717201122535486,-0.8328302557547055,-0.29479504395009437,-0.7876330322200155,1.013825910413848,-0.6145438366960542,-0.42143338248421097,1.0861506220781272,1.520376664474774,-0.01777198223317564,-1.6643908381651553,0.08997243361014205,0.1814431345228801,-0.7291269758207538,0.30441811909622163,-0.3331215193748714,-2.443509759910543,1.4038049617436101,-0.5289496253542012,0.5762209244034456,1.7473983249450766,1.1750635751298635,0.3439285942573213,0.06695512250429193,-1.358152089819541,1.3259956980602265,0.9230291574367999,2.1274268735237967,0.01609166317697218,-0.008794112180982546,-0.13078079279846982,-0.9773233004907493,0.42408560898470316,0.4781801921439303,-1.2302375288956056,-2.215534588013989,-0.6173209910577786,0.6873014952127062,-0.20768023471795324,1.3807411511048835,1.5676923985995384,-1.3535828954722193,0.6688398215891643,-1.9417660542959037,0.6086396296874507,-1.6891089331095988,0.8404967201254736,-0.25611772522792703,0.5649218453129284,-1.2455400184288734,0.08511126958214074,-1.2445956780254495,0.693274162901264,-0.555786574996747,0.014188061775017123,0.5756404633679048,-0.07502021616099822,0.8196550337696089,0.14719285707343466,2.0721531962168656,-0.05089514477070536,0.9178935846337136,0.8082192273766469,-0.9342785145415695,-0.7892361220520734,-1.0528167075806287,-0.900300147200952,-0.06378348260655418,-1.4058717991735044,-0.04637611154553381,-0.45343802555693713,0.3609959799788183,-0.9321964504655148,1.9639263256216999,-0.8513017162060174,-1.177257530160419,0.25079731529057353,-0.6455488140585096,-0.3597892849349049,-0.3522676026628601,0.03400583986455085,-0.4119885784095581,-0.668910236483875,0.6638172609013666,-0.09892944489312143,-1.9553751667413874,1.0932030834818462,0.7807217842469781,0.8029768142523035,-1.2272581484898053,-0.6477754460806492,1.9529843160513334,-0.84237910998657]},{\"marker\":{\"color\":\"rgba(55, 128, 191, 0.6)\",\"line\":{\"color\":\"rgba(55, 128, 191, 1.0)\",\"width\":1}},\"name\":\"B\",\"orientation\":\"v\",\"text\":\"\",\"type\":\"bar\",\"x\":[0,1,2,3,4,5,6,7,8,9,10,11,12,13,14,15,16,17,18,19,20,21,22,23,24,25,26,27,28,29,30,31,32,33,34,35,36,37,38,39,40,41,42,43,44,45,46,47,48,49,50,51,52,53,54,55,56,57,58,59,60,61,62,63,64,65,66,67,68,69,70,71,72,73,74,75,76,77,78,79,80,81,82,83,84,85,86,87,88,89,90,91,92,93,94,95,96,97,98,99],\"y\":[-0.39325974971391525,0.05564646570619147,0.34780196590089396,1.6734131674208959,-0.023029982837105743,1.0012476696632717,0.18703713105734537,1.262120083305586,-0.8113828042042744,-0.36389618183312794,0.3182825345578306,0.26561207372775414,-0.31710083987767906,0.3307012661878355,-0.3827743646829566,-0.07784500406315373,0.07184939550950868,1.8600532821137243,-1.3966157050739068,0.6640713923826992,-0.8492037274388488,-0.6263363686461829,1.6250038488954621,-0.5236195883778583,-2.16345391306942,1.3029655695823983,0.2283173236958734,1.7370577014233897,-0.029732253191304518,-2.0533396952947993,-0.0015571473203474543,1.1581858115689212,0.6129394841978791,2.784380155305771,-0.7314673000828203,0.3385127274541624,-0.7687161829470321,1.543242396773852,-0.717193509958402,0.37699569673225664,-1.2396619940727844,0.4550492681869588,-2.0543094997835243,1.3600779678873771,-1.244574082682165,-2.1843312309789535,-0.6296399403616632,0.2871687175955069,-1.8976766970498358,-1.746810132351409,1.1721777502639719,0.12975308001389982,-0.906679091917525,-0.8235255560578126,1.629416680723812,-0.3258256193559577,0.3183405316268972,0.19960564744461226,-2.350317827213011,0.5704819720769283,-0.572177939912174,0.47504228909483914,0.9978013795099565,0.03284178097168736,1.7998520265955422,1.1791578061649604,0.6725374757403919,-0.18452181673013568,-1.3271976219839603,-1.4712235163192122,1.5058786374354427,0.20716152593826656,-0.8002141505754706,-0.23591613710914958,0.4176022846377921,-0.7322776036272107,-0.7501160039715231,0.2246809529639941,0.49107947550493974,-1.366060904827018,-1.873047410185736,0.5962151440823994,0.17473240351086952,-0.25176512171647975,0.8296301643863834,-0.17204697391626958,1.524750974056855,1.4053490752537185,-1.2809051231732484,0.49433207086912184,0.13477043390008417,-0.7369883578766098,-1.6833329347466606,-1.1611543228587384,0.16417302030913833,-2.55392965531275,0.554411998328491,0.9248809515936174,0.07974476121974629,1.244761109401404]},{\"marker\":{\"color\":\"rgba(50, 171, 96, 0.6)\",\"line\":{\"color\":\"rgba(50, 171, 96, 1.0)\",\"width\":1}},\"name\":\"C\",\"orientation\":\"v\",\"text\":\"\",\"type\":\"bar\",\"x\":[0,1,2,3,4,5,6,7,8,9,10,11,12,13,14,15,16,17,18,19,20,21,22,23,24,25,26,27,28,29,30,31,32,33,34,35,36,37,38,39,40,41,42,43,44,45,46,47,48,49,50,51,52,53,54,55,56,57,58,59,60,61,62,63,64,65,66,67,68,69,70,71,72,73,74,75,76,77,78,79,80,81,82,83,84,85,86,87,88,89,90,91,92,93,94,95,96,97,98,99],\"y\":[0.20867975771520808,-0.539968732680375,-0.10451406860936421,0.6807906941541452,-0.6237061132537227,1.1645819493681946,-0.20319634501381628,-1.8719734890851034,0.19006397038468342,0.7426829780297319,1.5866853683306084,-0.8830991836928733,1.329381939728609,-0.36910943637848315,-0.1259704216318707,0.7599399179503843,0.2570493559742786,1.0102501201538379,-0.8301636846246374,0.9098700533567373,1.272308317853795,0.27644901365821556,-0.5307842275179776,0.6928510797756365,-0.7467081888636957,1.0864734312542663,-0.4088395415896088,-1.3297602651780072,-1.441235068785222,-0.15212789644905217,0.9578071542227202,-0.07460142157038534,0.5113698014381537,-0.7585669417479952,-1.7210677610542262,0.6458738210296548,-0.7221738362033334,-0.09708844896140927,0.34294090340127364,-1.0737713509953322,-1.3205133194548362,0.4033547123960727,0.06702499803391719,-0.3894870046425358,0.5545246926764152,-0.3936172349445884,0.5204415204166847,-2.296869709022682,-1.0722455437645189,-0.0076908262706479645,-0.8497611342012257,-0.5418473928237962,0.6825865011945559,1.528074978722198,0.7421162493465568,-1.0501963591592836,1.5291754301353226,0.9965167862689587,-0.8002793081334799,1.1160758258201309,2.416553937349119,-0.7323025322245335,1.045911989237607,-2.3075278310782483,-0.11065972894159559,1.6167179621416072,-1.5706737901917416,-0.176117048077122,0.4745874051396574,-0.461148688308992,-0.1907540082939412,0.2099327698711436,-1.2321302971466992,0.6032727936313779,1.4648497803732206,0.3072917431775034,1.0415220041526154,0.15940004078617948,-0.8020956078401368,-0.5019052846097677,-0.8158122916130118,0.9735286018887148,0.49382864652704367,-0.149893623001522,0.7465151638614091,1.41789646851737,0.42684270812646524,-1.9110647146667514,-1.1593244688815125,-0.8502884309003719,-0.4656426710483235,1.7640395575750731,-0.7333153880908555,-0.6169666283105139,-1.4096884439956874,-0.3822792755757565,2.1510015077400606,-0.480261706871716,-0.5583127368388549,-0.332192650314338]},{\"marker\":{\"color\":\"rgba(128, 0, 128, 0.6)\",\"line\":{\"color\":\"rgba(128, 0, 128, 1.0)\",\"width\":1}},\"name\":\"D\",\"orientation\":\"v\",\"text\":\"\",\"type\":\"bar\",\"x\":[0,1,2,3,4,5,6,7,8,9,10,11,12,13,14,15,16,17,18,19,20,21,22,23,24,25,26,27,28,29,30,31,32,33,34,35,36,37,38,39,40,41,42,43,44,45,46,47,48,49,50,51,52,53,54,55,56,57,58,59,60,61,62,63,64,65,66,67,68,69,70,71,72,73,74,75,76,77,78,79,80,81,82,83,84,85,86,87,88,89,90,91,92,93,94,95,96,97,98,99],\"y\":[1.1927052467737471,0.6823505953261061,-1.7699977924906336,-0.4409417245274874,-0.4027560996259744,1.3855538454435494,0.25941520948138114,0.45409670225836857,-1.828238319014977,-0.2430449199174727,0.2647028823015733,1.4415053080261364,1.073705430987225,0.4866361960213816,1.4824416894323167,0.07105310534559514,0.13215237042095185,-1.2120350758827654,0.6581602382531442,-0.7675070609238718,0.9668208021638547,-0.7946618684229247,1.7144331828714836,0.6183624129108227,0.32792919874517806,-1.4384318058696666,-1.896424554138019,1.3936239781195967,-0.5608297156821659,0.6174363013840861,-0.3920373006091651,0.9361108376422885,-1.215021028570566,0.8401590571870553,2.3185983729391744,0.2455730696322708,0.19536172069491808,1.4623879346019342,1.6091859374219266,-1.1194909687215293,-1.2857377279485118,0.9585464930884179,-2.0409079776428296,-0.3516153660537357,1.1247468667742029,-0.6225409273299736,-0.881020925119876,-0.6288513210560867,1.0181706822135164,0.43486023954956127,1.0735404839177463,-0.8360456949946155,-1.3071731796213288,-0.07262526518920134,0.5259937944952808,0.7758932426331349,-1.2246509725047636,0.7812189441750645,-0.9343539498244041,-0.1670384776565554,1.090640883944806,-1.2034828032498064,0.25473828806871673,0.8635343083832683,0.3625951607961471,-0.2195462221424108,-0.7390148935282446,0.2050754290124465,-0.5872703781784867,0.6724208793894313,0.4445472943607837,0.6485431478865128,-0.013995098131496525,-1.8286239296369833,0.4379298665364222,0.36020393470459283,-0.055472205298219925,-0.9817455885806337,-1.0867258660214782,0.9792867549289266,-0.39095614962872743,-1.2431321852725168,0.6483194288423902,-0.7920970509807383,-0.3546536488679633,-1.6103360489908431,1.3053501829720535,1.145556735167566,-0.6264207226268598,-0.21363957491562746,-0.6847452297725517,1.2131865236514339,-1.7478252431183574,1.209465948879976,0.43519122902619073,-0.15306143209734444,-1.3114763939089504,-0.2031965018915055,-1.5469322006075121,0.45462915216522054]}],                        {\"legend\":{\"bgcolor\":\"#F5F6F9\",\"font\":{\"color\":\"#4D5663\"}},\"paper_bgcolor\":\"#F5F6F9\",\"plot_bgcolor\":\"#F5F6F9\",\"template\":{\"data\":{\"bar\":[{\"error_x\":{\"color\":\"#2a3f5f\"},\"error_y\":{\"color\":\"#2a3f5f\"},\"marker\":{\"line\":{\"color\":\"#E5ECF6\",\"width\":0.5},\"pattern\":{\"fillmode\":\"overlay\",\"size\":10,\"solidity\":0.2}},\"type\":\"bar\"}],\"barpolar\":[{\"marker\":{\"line\":{\"color\":\"#E5ECF6\",\"width\":0.5},\"pattern\":{\"fillmode\":\"overlay\",\"size\":10,\"solidity\":0.2}},\"type\":\"barpolar\"}],\"carpet\":[{\"aaxis\":{\"endlinecolor\":\"#2a3f5f\",\"gridcolor\":\"white\",\"linecolor\":\"white\",\"minorgridcolor\":\"white\",\"startlinecolor\":\"#2a3f5f\"},\"baxis\":{\"endlinecolor\":\"#2a3f5f\",\"gridcolor\":\"white\",\"linecolor\":\"white\",\"minorgridcolor\":\"white\",\"startlinecolor\":\"#2a3f5f\"},\"type\":\"carpet\"}],\"choropleth\":[{\"colorbar\":{\"outlinewidth\":0,\"ticks\":\"\"},\"type\":\"choropleth\"}],\"contour\":[{\"colorbar\":{\"outlinewidth\":0,\"ticks\":\"\"},\"colorscale\":[[0.0,\"#0d0887\"],[0.1111111111111111,\"#46039f\"],[0.2222222222222222,\"#7201a8\"],[0.3333333333333333,\"#9c179e\"],[0.4444444444444444,\"#bd3786\"],[0.5555555555555556,\"#d8576b\"],[0.6666666666666666,\"#ed7953\"],[0.7777777777777778,\"#fb9f3a\"],[0.8888888888888888,\"#fdca26\"],[1.0,\"#f0f921\"]],\"type\":\"contour\"}],\"contourcarpet\":[{\"colorbar\":{\"outlinewidth\":0,\"ticks\":\"\"},\"type\":\"contourcarpet\"}],\"heatmap\":[{\"colorbar\":{\"outlinewidth\":0,\"ticks\":\"\"},\"colorscale\":[[0.0,\"#0d0887\"],[0.1111111111111111,\"#46039f\"],[0.2222222222222222,\"#7201a8\"],[0.3333333333333333,\"#9c179e\"],[0.4444444444444444,\"#bd3786\"],[0.5555555555555556,\"#d8576b\"],[0.6666666666666666,\"#ed7953\"],[0.7777777777777778,\"#fb9f3a\"],[0.8888888888888888,\"#fdca26\"],[1.0,\"#f0f921\"]],\"type\":\"heatmap\"}],\"heatmapgl\":[{\"colorbar\":{\"outlinewidth\":0,\"ticks\":\"\"},\"colorscale\":[[0.0,\"#0d0887\"],[0.1111111111111111,\"#46039f\"],[0.2222222222222222,\"#7201a8\"],[0.3333333333333333,\"#9c179e\"],[0.4444444444444444,\"#bd3786\"],[0.5555555555555556,\"#d8576b\"],[0.6666666666666666,\"#ed7953\"],[0.7777777777777778,\"#fb9f3a\"],[0.8888888888888888,\"#fdca26\"],[1.0,\"#f0f921\"]],\"type\":\"heatmapgl\"}],\"histogram\":[{\"marker\":{\"pattern\":{\"fillmode\":\"overlay\",\"size\":10,\"solidity\":0.2}},\"type\":\"histogram\"}],\"histogram2d\":[{\"colorbar\":{\"outlinewidth\":0,\"ticks\":\"\"},\"colorscale\":[[0.0,\"#0d0887\"],[0.1111111111111111,\"#46039f\"],[0.2222222222222222,\"#7201a8\"],[0.3333333333333333,\"#9c179e\"],[0.4444444444444444,\"#bd3786\"],[0.5555555555555556,\"#d8576b\"],[0.6666666666666666,\"#ed7953\"],[0.7777777777777778,\"#fb9f3a\"],[0.8888888888888888,\"#fdca26\"],[1.0,\"#f0f921\"]],\"type\":\"histogram2d\"}],\"histogram2dcontour\":[{\"colorbar\":{\"outlinewidth\":0,\"ticks\":\"\"},\"colorscale\":[[0.0,\"#0d0887\"],[0.1111111111111111,\"#46039f\"],[0.2222222222222222,\"#7201a8\"],[0.3333333333333333,\"#9c179e\"],[0.4444444444444444,\"#bd3786\"],[0.5555555555555556,\"#d8576b\"],[0.6666666666666666,\"#ed7953\"],[0.7777777777777778,\"#fb9f3a\"],[0.8888888888888888,\"#fdca26\"],[1.0,\"#f0f921\"]],\"type\":\"histogram2dcontour\"}],\"mesh3d\":[{\"colorbar\":{\"outlinewidth\":0,\"ticks\":\"\"},\"type\":\"mesh3d\"}],\"parcoords\":[{\"line\":{\"colorbar\":{\"outlinewidth\":0,\"ticks\":\"\"}},\"type\":\"parcoords\"}],\"pie\":[{\"automargin\":true,\"type\":\"pie\"}],\"scatter\":[{\"marker\":{\"colorbar\":{\"outlinewidth\":0,\"ticks\":\"\"}},\"type\":\"scatter\"}],\"scatter3d\":[{\"line\":{\"colorbar\":{\"outlinewidth\":0,\"ticks\":\"\"}},\"marker\":{\"colorbar\":{\"outlinewidth\":0,\"ticks\":\"\"}},\"type\":\"scatter3d\"}],\"scattercarpet\":[{\"marker\":{\"colorbar\":{\"outlinewidth\":0,\"ticks\":\"\"}},\"type\":\"scattercarpet\"}],\"scattergeo\":[{\"marker\":{\"colorbar\":{\"outlinewidth\":0,\"ticks\":\"\"}},\"type\":\"scattergeo\"}],\"scattergl\":[{\"marker\":{\"colorbar\":{\"outlinewidth\":0,\"ticks\":\"\"}},\"type\":\"scattergl\"}],\"scattermapbox\":[{\"marker\":{\"colorbar\":{\"outlinewidth\":0,\"ticks\":\"\"}},\"type\":\"scattermapbox\"}],\"scatterpolar\":[{\"marker\":{\"colorbar\":{\"outlinewidth\":0,\"ticks\":\"\"}},\"type\":\"scatterpolar\"}],\"scatterpolargl\":[{\"marker\":{\"colorbar\":{\"outlinewidth\":0,\"ticks\":\"\"}},\"type\":\"scatterpolargl\"}],\"scatterternary\":[{\"marker\":{\"colorbar\":{\"outlinewidth\":0,\"ticks\":\"\"}},\"type\":\"scatterternary\"}],\"surface\":[{\"colorbar\":{\"outlinewidth\":0,\"ticks\":\"\"},\"colorscale\":[[0.0,\"#0d0887\"],[0.1111111111111111,\"#46039f\"],[0.2222222222222222,\"#7201a8\"],[0.3333333333333333,\"#9c179e\"],[0.4444444444444444,\"#bd3786\"],[0.5555555555555556,\"#d8576b\"],[0.6666666666666666,\"#ed7953\"],[0.7777777777777778,\"#fb9f3a\"],[0.8888888888888888,\"#fdca26\"],[1.0,\"#f0f921\"]],\"type\":\"surface\"}],\"table\":[{\"cells\":{\"fill\":{\"color\":\"#EBF0F8\"},\"line\":{\"color\":\"white\"}},\"header\":{\"fill\":{\"color\":\"#C8D4E3\"},\"line\":{\"color\":\"white\"}},\"type\":\"table\"}]},\"layout\":{\"annotationdefaults\":{\"arrowcolor\":\"#2a3f5f\",\"arrowhead\":0,\"arrowwidth\":1},\"autotypenumbers\":\"strict\",\"coloraxis\":{\"colorbar\":{\"outlinewidth\":0,\"ticks\":\"\"}},\"colorscale\":{\"diverging\":[[0,\"#8e0152\"],[0.1,\"#c51b7d\"],[0.2,\"#de77ae\"],[0.3,\"#f1b6da\"],[0.4,\"#fde0ef\"],[0.5,\"#f7f7f7\"],[0.6,\"#e6f5d0\"],[0.7,\"#b8e186\"],[0.8,\"#7fbc41\"],[0.9,\"#4d9221\"],[1,\"#276419\"]],\"sequential\":[[0.0,\"#0d0887\"],[0.1111111111111111,\"#46039f\"],[0.2222222222222222,\"#7201a8\"],[0.3333333333333333,\"#9c179e\"],[0.4444444444444444,\"#bd3786\"],[0.5555555555555556,\"#d8576b\"],[0.6666666666666666,\"#ed7953\"],[0.7777777777777778,\"#fb9f3a\"],[0.8888888888888888,\"#fdca26\"],[1.0,\"#f0f921\"]],\"sequentialminus\":[[0.0,\"#0d0887\"],[0.1111111111111111,\"#46039f\"],[0.2222222222222222,\"#7201a8\"],[0.3333333333333333,\"#9c179e\"],[0.4444444444444444,\"#bd3786\"],[0.5555555555555556,\"#d8576b\"],[0.6666666666666666,\"#ed7953\"],[0.7777777777777778,\"#fb9f3a\"],[0.8888888888888888,\"#fdca26\"],[1.0,\"#f0f921\"]]},\"colorway\":[\"#636efa\",\"#EF553B\",\"#00cc96\",\"#ab63fa\",\"#FFA15A\",\"#19d3f3\",\"#FF6692\",\"#B6E880\",\"#FF97FF\",\"#FECB52\"],\"font\":{\"color\":\"#2a3f5f\"},\"geo\":{\"bgcolor\":\"white\",\"lakecolor\":\"white\",\"landcolor\":\"#E5ECF6\",\"showlakes\":true,\"showland\":true,\"subunitcolor\":\"white\"},\"hoverlabel\":{\"align\":\"left\"},\"hovermode\":\"closest\",\"mapbox\":{\"style\":\"light\"},\"paper_bgcolor\":\"white\",\"plot_bgcolor\":\"#E5ECF6\",\"polar\":{\"angularaxis\":{\"gridcolor\":\"white\",\"linecolor\":\"white\",\"ticks\":\"\"},\"bgcolor\":\"#E5ECF6\",\"radialaxis\":{\"gridcolor\":\"white\",\"linecolor\":\"white\",\"ticks\":\"\"}},\"scene\":{\"xaxis\":{\"backgroundcolor\":\"#E5ECF6\",\"gridcolor\":\"white\",\"gridwidth\":2,\"linecolor\":\"white\",\"showbackground\":true,\"ticks\":\"\",\"zerolinecolor\":\"white\"},\"yaxis\":{\"backgroundcolor\":\"#E5ECF6\",\"gridcolor\":\"white\",\"gridwidth\":2,\"linecolor\":\"white\",\"showbackground\":true,\"ticks\":\"\",\"zerolinecolor\":\"white\"},\"zaxis\":{\"backgroundcolor\":\"#E5ECF6\",\"gridcolor\":\"white\",\"gridwidth\":2,\"linecolor\":\"white\",\"showbackground\":true,\"ticks\":\"\",\"zerolinecolor\":\"white\"}},\"shapedefaults\":{\"line\":{\"color\":\"#2a3f5f\"}},\"ternary\":{\"aaxis\":{\"gridcolor\":\"white\",\"linecolor\":\"white\",\"ticks\":\"\"},\"baxis\":{\"gridcolor\":\"white\",\"linecolor\":\"white\",\"ticks\":\"\"},\"bgcolor\":\"#E5ECF6\",\"caxis\":{\"gridcolor\":\"white\",\"linecolor\":\"white\",\"ticks\":\"\"}},\"title\":{\"x\":0.05},\"xaxis\":{\"automargin\":true,\"gridcolor\":\"white\",\"linecolor\":\"white\",\"ticks\":\"\",\"title\":{\"standoff\":15},\"zerolinecolor\":\"white\",\"zerolinewidth\":2},\"yaxis\":{\"automargin\":true,\"gridcolor\":\"white\",\"linecolor\":\"white\",\"ticks\":\"\",\"title\":{\"standoff\":15},\"zerolinecolor\":\"white\",\"zerolinewidth\":2}}},\"title\":{\"font\":{\"color\":\"#4D5663\"}},\"xaxis\":{\"gridcolor\":\"#E1E5ED\",\"showgrid\":true,\"tickfont\":{\"color\":\"#4D5663\"},\"title\":{\"font\":{\"color\":\"#4D5663\"},\"text\":\"\"},\"zerolinecolor\":\"#E1E5ED\"},\"yaxis\":{\"gridcolor\":\"#E1E5ED\",\"showgrid\":true,\"tickfont\":{\"color\":\"#4D5663\"},\"title\":{\"font\":{\"color\":\"#4D5663\"},\"text\":\"\"},\"zerolinecolor\":\"#E1E5ED\"}},                        {\"showLink\": true, \"linkText\": \"Export to plot.ly\", \"plotlyServerURL\": \"https://plot.ly\", \"responsive\": true}                    ).then(function(){\n",
       "                            \n",
       "var gd = document.getElementById('2de95152-e733-4afe-98d2-0b511ac6367c');\n",
       "var x = new MutationObserver(function (mutations, observer) {{\n",
       "        var display = window.getComputedStyle(gd).display;\n",
       "        if (!display || display === 'none') {{\n",
       "            console.log([gd, 'removed!']);\n",
       "            Plotly.purge(gd);\n",
       "            observer.disconnect();\n",
       "        }}\n",
       "}});\n",
       "\n",
       "// Listen for the removal of the full notebook cells\n",
       "var notebookContainer = gd.closest('#notebook-container');\n",
       "if (notebookContainer) {{\n",
       "    x.observe(notebookContainer, {childList: true});\n",
       "}}\n",
       "\n",
       "// Listen for the clearing of the current output cell\n",
       "var outputEl = gd.closest('.output');\n",
       "if (outputEl) {{\n",
       "    x.observe(outputEl, {childList: true});\n",
       "}}\n",
       "\n",
       "                        })                };                });            </script>        </div>"
      ],
      "application/vnd.plotly.v1+json": {
       "config": {
        "linkText": "Export to plot.ly",
        "plotlyServerURL": "https://plot.ly",
        "showLink": true
       },
       "data": [
        {
         "marker": {
          "color": "rgba(255, 153, 51, 0.6)",
          "line": {
           "color": "rgba(255, 153, 51, 1.0)",
           "width": 1
          }
         },
         "name": "A",
         "orientation": "v",
         "text": "",
         "type": "bar",
         "x": [
          0,
          1,
          2,
          3,
          4,
          5,
          6,
          7,
          8,
          9,
          10,
          11,
          12,
          13,
          14,
          15,
          16,
          17,
          18,
          19,
          20,
          21,
          22,
          23,
          24,
          25,
          26,
          27,
          28,
          29,
          30,
          31,
          32,
          33,
          34,
          35,
          36,
          37,
          38,
          39,
          40,
          41,
          42,
          43,
          44,
          45,
          46,
          47,
          48,
          49,
          50,
          51,
          52,
          53,
          54,
          55,
          56,
          57,
          58,
          59,
          60,
          61,
          62,
          63,
          64,
          65,
          66,
          67,
          68,
          69,
          70,
          71,
          72,
          73,
          74,
          75,
          76,
          77,
          78,
          79,
          80,
          81,
          82,
          83,
          84,
          85,
          86,
          87,
          88,
          89,
          90,
          91,
          92,
          93,
          94,
          95,
          96,
          97,
          98,
          99
         ],
         "y": [
          0.42860790047642905,
          -0.24150461408966148,
          0.8033352317583001,
          -0.4541726165268112,
          -0.9932670897240472,
          -1.6407185774656428,
          1.0292734271511936,
          0.717201122535486,
          -0.8328302557547055,
          -0.29479504395009437,
          -0.7876330322200155,
          1.013825910413848,
          -0.6145438366960542,
          -0.42143338248421097,
          1.0861506220781272,
          1.520376664474774,
          -0.01777198223317564,
          -1.6643908381651553,
          0.08997243361014205,
          0.1814431345228801,
          -0.7291269758207538,
          0.30441811909622163,
          -0.3331215193748714,
          -2.443509759910543,
          1.4038049617436101,
          -0.5289496253542012,
          0.5762209244034456,
          1.7473983249450766,
          1.1750635751298635,
          0.3439285942573213,
          0.06695512250429193,
          -1.358152089819541,
          1.3259956980602265,
          0.9230291574367999,
          2.1274268735237967,
          0.01609166317697218,
          -0.008794112180982546,
          -0.13078079279846982,
          -0.9773233004907493,
          0.42408560898470316,
          0.4781801921439303,
          -1.2302375288956056,
          -2.215534588013989,
          -0.6173209910577786,
          0.6873014952127062,
          -0.20768023471795324,
          1.3807411511048835,
          1.5676923985995384,
          -1.3535828954722193,
          0.6688398215891643,
          -1.9417660542959037,
          0.6086396296874507,
          -1.6891089331095988,
          0.8404967201254736,
          -0.25611772522792703,
          0.5649218453129284,
          -1.2455400184288734,
          0.08511126958214074,
          -1.2445956780254495,
          0.693274162901264,
          -0.555786574996747,
          0.014188061775017123,
          0.5756404633679048,
          -0.07502021616099822,
          0.8196550337696089,
          0.14719285707343466,
          2.0721531962168656,
          -0.05089514477070536,
          0.9178935846337136,
          0.8082192273766469,
          -0.9342785145415695,
          -0.7892361220520734,
          -1.0528167075806287,
          -0.900300147200952,
          -0.06378348260655418,
          -1.4058717991735044,
          -0.04637611154553381,
          -0.45343802555693713,
          0.3609959799788183,
          -0.9321964504655148,
          1.9639263256216999,
          -0.8513017162060174,
          -1.177257530160419,
          0.25079731529057353,
          -0.6455488140585096,
          -0.3597892849349049,
          -0.3522676026628601,
          0.03400583986455085,
          -0.4119885784095581,
          -0.668910236483875,
          0.6638172609013666,
          -0.09892944489312143,
          -1.9553751667413874,
          1.0932030834818462,
          0.7807217842469781,
          0.8029768142523035,
          -1.2272581484898053,
          -0.6477754460806492,
          1.9529843160513334,
          -0.84237910998657
         ]
        },
        {
         "marker": {
          "color": "rgba(55, 128, 191, 0.6)",
          "line": {
           "color": "rgba(55, 128, 191, 1.0)",
           "width": 1
          }
         },
         "name": "B",
         "orientation": "v",
         "text": "",
         "type": "bar",
         "x": [
          0,
          1,
          2,
          3,
          4,
          5,
          6,
          7,
          8,
          9,
          10,
          11,
          12,
          13,
          14,
          15,
          16,
          17,
          18,
          19,
          20,
          21,
          22,
          23,
          24,
          25,
          26,
          27,
          28,
          29,
          30,
          31,
          32,
          33,
          34,
          35,
          36,
          37,
          38,
          39,
          40,
          41,
          42,
          43,
          44,
          45,
          46,
          47,
          48,
          49,
          50,
          51,
          52,
          53,
          54,
          55,
          56,
          57,
          58,
          59,
          60,
          61,
          62,
          63,
          64,
          65,
          66,
          67,
          68,
          69,
          70,
          71,
          72,
          73,
          74,
          75,
          76,
          77,
          78,
          79,
          80,
          81,
          82,
          83,
          84,
          85,
          86,
          87,
          88,
          89,
          90,
          91,
          92,
          93,
          94,
          95,
          96,
          97,
          98,
          99
         ],
         "y": [
          -0.39325974971391525,
          0.05564646570619147,
          0.34780196590089396,
          1.6734131674208959,
          -0.023029982837105743,
          1.0012476696632717,
          0.18703713105734537,
          1.262120083305586,
          -0.8113828042042744,
          -0.36389618183312794,
          0.3182825345578306,
          0.26561207372775414,
          -0.31710083987767906,
          0.3307012661878355,
          -0.3827743646829566,
          -0.07784500406315373,
          0.07184939550950868,
          1.8600532821137243,
          -1.3966157050739068,
          0.6640713923826992,
          -0.8492037274388488,
          -0.6263363686461829,
          1.6250038488954621,
          -0.5236195883778583,
          -2.16345391306942,
          1.3029655695823983,
          0.2283173236958734,
          1.7370577014233897,
          -0.029732253191304518,
          -2.0533396952947993,
          -0.0015571473203474543,
          1.1581858115689212,
          0.6129394841978791,
          2.784380155305771,
          -0.7314673000828203,
          0.3385127274541624,
          -0.7687161829470321,
          1.543242396773852,
          -0.717193509958402,
          0.37699569673225664,
          -1.2396619940727844,
          0.4550492681869588,
          -2.0543094997835243,
          1.3600779678873771,
          -1.244574082682165,
          -2.1843312309789535,
          -0.6296399403616632,
          0.2871687175955069,
          -1.8976766970498358,
          -1.746810132351409,
          1.1721777502639719,
          0.12975308001389982,
          -0.906679091917525,
          -0.8235255560578126,
          1.629416680723812,
          -0.3258256193559577,
          0.3183405316268972,
          0.19960564744461226,
          -2.350317827213011,
          0.5704819720769283,
          -0.572177939912174,
          0.47504228909483914,
          0.9978013795099565,
          0.03284178097168736,
          1.7998520265955422,
          1.1791578061649604,
          0.6725374757403919,
          -0.18452181673013568,
          -1.3271976219839603,
          -1.4712235163192122,
          1.5058786374354427,
          0.20716152593826656,
          -0.8002141505754706,
          -0.23591613710914958,
          0.4176022846377921,
          -0.7322776036272107,
          -0.7501160039715231,
          0.2246809529639941,
          0.49107947550493974,
          -1.366060904827018,
          -1.873047410185736,
          0.5962151440823994,
          0.17473240351086952,
          -0.25176512171647975,
          0.8296301643863834,
          -0.17204697391626958,
          1.524750974056855,
          1.4053490752537185,
          -1.2809051231732484,
          0.49433207086912184,
          0.13477043390008417,
          -0.7369883578766098,
          -1.6833329347466606,
          -1.1611543228587384,
          0.16417302030913833,
          -2.55392965531275,
          0.554411998328491,
          0.9248809515936174,
          0.07974476121974629,
          1.244761109401404
         ]
        },
        {
         "marker": {
          "color": "rgba(50, 171, 96, 0.6)",
          "line": {
           "color": "rgba(50, 171, 96, 1.0)",
           "width": 1
          }
         },
         "name": "C",
         "orientation": "v",
         "text": "",
         "type": "bar",
         "x": [
          0,
          1,
          2,
          3,
          4,
          5,
          6,
          7,
          8,
          9,
          10,
          11,
          12,
          13,
          14,
          15,
          16,
          17,
          18,
          19,
          20,
          21,
          22,
          23,
          24,
          25,
          26,
          27,
          28,
          29,
          30,
          31,
          32,
          33,
          34,
          35,
          36,
          37,
          38,
          39,
          40,
          41,
          42,
          43,
          44,
          45,
          46,
          47,
          48,
          49,
          50,
          51,
          52,
          53,
          54,
          55,
          56,
          57,
          58,
          59,
          60,
          61,
          62,
          63,
          64,
          65,
          66,
          67,
          68,
          69,
          70,
          71,
          72,
          73,
          74,
          75,
          76,
          77,
          78,
          79,
          80,
          81,
          82,
          83,
          84,
          85,
          86,
          87,
          88,
          89,
          90,
          91,
          92,
          93,
          94,
          95,
          96,
          97,
          98,
          99
         ],
         "y": [
          0.20867975771520808,
          -0.539968732680375,
          -0.10451406860936421,
          0.6807906941541452,
          -0.6237061132537227,
          1.1645819493681946,
          -0.20319634501381628,
          -1.8719734890851034,
          0.19006397038468342,
          0.7426829780297319,
          1.5866853683306084,
          -0.8830991836928733,
          1.329381939728609,
          -0.36910943637848315,
          -0.1259704216318707,
          0.7599399179503843,
          0.2570493559742786,
          1.0102501201538379,
          -0.8301636846246374,
          0.9098700533567373,
          1.272308317853795,
          0.27644901365821556,
          -0.5307842275179776,
          0.6928510797756365,
          -0.7467081888636957,
          1.0864734312542663,
          -0.4088395415896088,
          -1.3297602651780072,
          -1.441235068785222,
          -0.15212789644905217,
          0.9578071542227202,
          -0.07460142157038534,
          0.5113698014381537,
          -0.7585669417479952,
          -1.7210677610542262,
          0.6458738210296548,
          -0.7221738362033334,
          -0.09708844896140927,
          0.34294090340127364,
          -1.0737713509953322,
          -1.3205133194548362,
          0.4033547123960727,
          0.06702499803391719,
          -0.3894870046425358,
          0.5545246926764152,
          -0.3936172349445884,
          0.5204415204166847,
          -2.296869709022682,
          -1.0722455437645189,
          -0.0076908262706479645,
          -0.8497611342012257,
          -0.5418473928237962,
          0.6825865011945559,
          1.528074978722198,
          0.7421162493465568,
          -1.0501963591592836,
          1.5291754301353226,
          0.9965167862689587,
          -0.8002793081334799,
          1.1160758258201309,
          2.416553937349119,
          -0.7323025322245335,
          1.045911989237607,
          -2.3075278310782483,
          -0.11065972894159559,
          1.6167179621416072,
          -1.5706737901917416,
          -0.176117048077122,
          0.4745874051396574,
          -0.461148688308992,
          -0.1907540082939412,
          0.2099327698711436,
          -1.2321302971466992,
          0.6032727936313779,
          1.4648497803732206,
          0.3072917431775034,
          1.0415220041526154,
          0.15940004078617948,
          -0.8020956078401368,
          -0.5019052846097677,
          -0.8158122916130118,
          0.9735286018887148,
          0.49382864652704367,
          -0.149893623001522,
          0.7465151638614091,
          1.41789646851737,
          0.42684270812646524,
          -1.9110647146667514,
          -1.1593244688815125,
          -0.8502884309003719,
          -0.4656426710483235,
          1.7640395575750731,
          -0.7333153880908555,
          -0.6169666283105139,
          -1.4096884439956874,
          -0.3822792755757565,
          2.1510015077400606,
          -0.480261706871716,
          -0.5583127368388549,
          -0.332192650314338
         ]
        },
        {
         "marker": {
          "color": "rgba(128, 0, 128, 0.6)",
          "line": {
           "color": "rgba(128, 0, 128, 1.0)",
           "width": 1
          }
         },
         "name": "D",
         "orientation": "v",
         "text": "",
         "type": "bar",
         "x": [
          0,
          1,
          2,
          3,
          4,
          5,
          6,
          7,
          8,
          9,
          10,
          11,
          12,
          13,
          14,
          15,
          16,
          17,
          18,
          19,
          20,
          21,
          22,
          23,
          24,
          25,
          26,
          27,
          28,
          29,
          30,
          31,
          32,
          33,
          34,
          35,
          36,
          37,
          38,
          39,
          40,
          41,
          42,
          43,
          44,
          45,
          46,
          47,
          48,
          49,
          50,
          51,
          52,
          53,
          54,
          55,
          56,
          57,
          58,
          59,
          60,
          61,
          62,
          63,
          64,
          65,
          66,
          67,
          68,
          69,
          70,
          71,
          72,
          73,
          74,
          75,
          76,
          77,
          78,
          79,
          80,
          81,
          82,
          83,
          84,
          85,
          86,
          87,
          88,
          89,
          90,
          91,
          92,
          93,
          94,
          95,
          96,
          97,
          98,
          99
         ],
         "y": [
          1.1927052467737471,
          0.6823505953261061,
          -1.7699977924906336,
          -0.4409417245274874,
          -0.4027560996259744,
          1.3855538454435494,
          0.25941520948138114,
          0.45409670225836857,
          -1.828238319014977,
          -0.2430449199174727,
          0.2647028823015733,
          1.4415053080261364,
          1.073705430987225,
          0.4866361960213816,
          1.4824416894323167,
          0.07105310534559514,
          0.13215237042095185,
          -1.2120350758827654,
          0.6581602382531442,
          -0.7675070609238718,
          0.9668208021638547,
          -0.7946618684229247,
          1.7144331828714836,
          0.6183624129108227,
          0.32792919874517806,
          -1.4384318058696666,
          -1.896424554138019,
          1.3936239781195967,
          -0.5608297156821659,
          0.6174363013840861,
          -0.3920373006091651,
          0.9361108376422885,
          -1.215021028570566,
          0.8401590571870553,
          2.3185983729391744,
          0.2455730696322708,
          0.19536172069491808,
          1.4623879346019342,
          1.6091859374219266,
          -1.1194909687215293,
          -1.2857377279485118,
          0.9585464930884179,
          -2.0409079776428296,
          -0.3516153660537357,
          1.1247468667742029,
          -0.6225409273299736,
          -0.881020925119876,
          -0.6288513210560867,
          1.0181706822135164,
          0.43486023954956127,
          1.0735404839177463,
          -0.8360456949946155,
          -1.3071731796213288,
          -0.07262526518920134,
          0.5259937944952808,
          0.7758932426331349,
          -1.2246509725047636,
          0.7812189441750645,
          -0.9343539498244041,
          -0.1670384776565554,
          1.090640883944806,
          -1.2034828032498064,
          0.25473828806871673,
          0.8635343083832683,
          0.3625951607961471,
          -0.2195462221424108,
          -0.7390148935282446,
          0.2050754290124465,
          -0.5872703781784867,
          0.6724208793894313,
          0.4445472943607837,
          0.6485431478865128,
          -0.013995098131496525,
          -1.8286239296369833,
          0.4379298665364222,
          0.36020393470459283,
          -0.055472205298219925,
          -0.9817455885806337,
          -1.0867258660214782,
          0.9792867549289266,
          -0.39095614962872743,
          -1.2431321852725168,
          0.6483194288423902,
          -0.7920970509807383,
          -0.3546536488679633,
          -1.6103360489908431,
          1.3053501829720535,
          1.145556735167566,
          -0.6264207226268598,
          -0.21363957491562746,
          -0.6847452297725517,
          1.2131865236514339,
          -1.7478252431183574,
          1.209465948879976,
          0.43519122902619073,
          -0.15306143209734444,
          -1.3114763939089504,
          -0.2031965018915055,
          -1.5469322006075121,
          0.45462915216522054
         ]
        }
       ],
       "layout": {
        "legend": {
         "bgcolor": "#F5F6F9",
         "font": {
          "color": "#4D5663"
         }
        },
        "paper_bgcolor": "#F5F6F9",
        "plot_bgcolor": "#F5F6F9",
        "template": {
         "data": {
          "bar": [
           {
            "error_x": {
             "color": "#2a3f5f"
            },
            "error_y": {
             "color": "#2a3f5f"
            },
            "marker": {
             "line": {
              "color": "#E5ECF6",
              "width": 0.5
             },
             "pattern": {
              "fillmode": "overlay",
              "size": 10,
              "solidity": 0.2
             }
            },
            "type": "bar"
           }
          ],
          "barpolar": [
           {
            "marker": {
             "line": {
              "color": "#E5ECF6",
              "width": 0.5
             },
             "pattern": {
              "fillmode": "overlay",
              "size": 10,
              "solidity": 0.2
             }
            },
            "type": "barpolar"
           }
          ],
          "carpet": [
           {
            "aaxis": {
             "endlinecolor": "#2a3f5f",
             "gridcolor": "white",
             "linecolor": "white",
             "minorgridcolor": "white",
             "startlinecolor": "#2a3f5f"
            },
            "baxis": {
             "endlinecolor": "#2a3f5f",
             "gridcolor": "white",
             "linecolor": "white",
             "minorgridcolor": "white",
             "startlinecolor": "#2a3f5f"
            },
            "type": "carpet"
           }
          ],
          "choropleth": [
           {
            "colorbar": {
             "outlinewidth": 0,
             "ticks": ""
            },
            "type": "choropleth"
           }
          ],
          "contour": [
           {
            "colorbar": {
             "outlinewidth": 0,
             "ticks": ""
            },
            "colorscale": [
             [
              0,
              "#0d0887"
             ],
             [
              0.1111111111111111,
              "#46039f"
             ],
             [
              0.2222222222222222,
              "#7201a8"
             ],
             [
              0.3333333333333333,
              "#9c179e"
             ],
             [
              0.4444444444444444,
              "#bd3786"
             ],
             [
              0.5555555555555556,
              "#d8576b"
             ],
             [
              0.6666666666666666,
              "#ed7953"
             ],
             [
              0.7777777777777778,
              "#fb9f3a"
             ],
             [
              0.8888888888888888,
              "#fdca26"
             ],
             [
              1,
              "#f0f921"
             ]
            ],
            "type": "contour"
           }
          ],
          "contourcarpet": [
           {
            "colorbar": {
             "outlinewidth": 0,
             "ticks": ""
            },
            "type": "contourcarpet"
           }
          ],
          "heatmap": [
           {
            "colorbar": {
             "outlinewidth": 0,
             "ticks": ""
            },
            "colorscale": [
             [
              0,
              "#0d0887"
             ],
             [
              0.1111111111111111,
              "#46039f"
             ],
             [
              0.2222222222222222,
              "#7201a8"
             ],
             [
              0.3333333333333333,
              "#9c179e"
             ],
             [
              0.4444444444444444,
              "#bd3786"
             ],
             [
              0.5555555555555556,
              "#d8576b"
             ],
             [
              0.6666666666666666,
              "#ed7953"
             ],
             [
              0.7777777777777778,
              "#fb9f3a"
             ],
             [
              0.8888888888888888,
              "#fdca26"
             ],
             [
              1,
              "#f0f921"
             ]
            ],
            "type": "heatmap"
           }
          ],
          "heatmapgl": [
           {
            "colorbar": {
             "outlinewidth": 0,
             "ticks": ""
            },
            "colorscale": [
             [
              0,
              "#0d0887"
             ],
             [
              0.1111111111111111,
              "#46039f"
             ],
             [
              0.2222222222222222,
              "#7201a8"
             ],
             [
              0.3333333333333333,
              "#9c179e"
             ],
             [
              0.4444444444444444,
              "#bd3786"
             ],
             [
              0.5555555555555556,
              "#d8576b"
             ],
             [
              0.6666666666666666,
              "#ed7953"
             ],
             [
              0.7777777777777778,
              "#fb9f3a"
             ],
             [
              0.8888888888888888,
              "#fdca26"
             ],
             [
              1,
              "#f0f921"
             ]
            ],
            "type": "heatmapgl"
           }
          ],
          "histogram": [
           {
            "marker": {
             "pattern": {
              "fillmode": "overlay",
              "size": 10,
              "solidity": 0.2
             }
            },
            "type": "histogram"
           }
          ],
          "histogram2d": [
           {
            "colorbar": {
             "outlinewidth": 0,
             "ticks": ""
            },
            "colorscale": [
             [
              0,
              "#0d0887"
             ],
             [
              0.1111111111111111,
              "#46039f"
             ],
             [
              0.2222222222222222,
              "#7201a8"
             ],
             [
              0.3333333333333333,
              "#9c179e"
             ],
             [
              0.4444444444444444,
              "#bd3786"
             ],
             [
              0.5555555555555556,
              "#d8576b"
             ],
             [
              0.6666666666666666,
              "#ed7953"
             ],
             [
              0.7777777777777778,
              "#fb9f3a"
             ],
             [
              0.8888888888888888,
              "#fdca26"
             ],
             [
              1,
              "#f0f921"
             ]
            ],
            "type": "histogram2d"
           }
          ],
          "histogram2dcontour": [
           {
            "colorbar": {
             "outlinewidth": 0,
             "ticks": ""
            },
            "colorscale": [
             [
              0,
              "#0d0887"
             ],
             [
              0.1111111111111111,
              "#46039f"
             ],
             [
              0.2222222222222222,
              "#7201a8"
             ],
             [
              0.3333333333333333,
              "#9c179e"
             ],
             [
              0.4444444444444444,
              "#bd3786"
             ],
             [
              0.5555555555555556,
              "#d8576b"
             ],
             [
              0.6666666666666666,
              "#ed7953"
             ],
             [
              0.7777777777777778,
              "#fb9f3a"
             ],
             [
              0.8888888888888888,
              "#fdca26"
             ],
             [
              1,
              "#f0f921"
             ]
            ],
            "type": "histogram2dcontour"
           }
          ],
          "mesh3d": [
           {
            "colorbar": {
             "outlinewidth": 0,
             "ticks": ""
            },
            "type": "mesh3d"
           }
          ],
          "parcoords": [
           {
            "line": {
             "colorbar": {
              "outlinewidth": 0,
              "ticks": ""
             }
            },
            "type": "parcoords"
           }
          ],
          "pie": [
           {
            "automargin": true,
            "type": "pie"
           }
          ],
          "scatter": [
           {
            "marker": {
             "colorbar": {
              "outlinewidth": 0,
              "ticks": ""
             }
            },
            "type": "scatter"
           }
          ],
          "scatter3d": [
           {
            "line": {
             "colorbar": {
              "outlinewidth": 0,
              "ticks": ""
             }
            },
            "marker": {
             "colorbar": {
              "outlinewidth": 0,
              "ticks": ""
             }
            },
            "type": "scatter3d"
           }
          ],
          "scattercarpet": [
           {
            "marker": {
             "colorbar": {
              "outlinewidth": 0,
              "ticks": ""
             }
            },
            "type": "scattercarpet"
           }
          ],
          "scattergeo": [
           {
            "marker": {
             "colorbar": {
              "outlinewidth": 0,
              "ticks": ""
             }
            },
            "type": "scattergeo"
           }
          ],
          "scattergl": [
           {
            "marker": {
             "colorbar": {
              "outlinewidth": 0,
              "ticks": ""
             }
            },
            "type": "scattergl"
           }
          ],
          "scattermapbox": [
           {
            "marker": {
             "colorbar": {
              "outlinewidth": 0,
              "ticks": ""
             }
            },
            "type": "scattermapbox"
           }
          ],
          "scatterpolar": [
           {
            "marker": {
             "colorbar": {
              "outlinewidth": 0,
              "ticks": ""
             }
            },
            "type": "scatterpolar"
           }
          ],
          "scatterpolargl": [
           {
            "marker": {
             "colorbar": {
              "outlinewidth": 0,
              "ticks": ""
             }
            },
            "type": "scatterpolargl"
           }
          ],
          "scatterternary": [
           {
            "marker": {
             "colorbar": {
              "outlinewidth": 0,
              "ticks": ""
             }
            },
            "type": "scatterternary"
           }
          ],
          "surface": [
           {
            "colorbar": {
             "outlinewidth": 0,
             "ticks": ""
            },
            "colorscale": [
             [
              0,
              "#0d0887"
             ],
             [
              0.1111111111111111,
              "#46039f"
             ],
             [
              0.2222222222222222,
              "#7201a8"
             ],
             [
              0.3333333333333333,
              "#9c179e"
             ],
             [
              0.4444444444444444,
              "#bd3786"
             ],
             [
              0.5555555555555556,
              "#d8576b"
             ],
             [
              0.6666666666666666,
              "#ed7953"
             ],
             [
              0.7777777777777778,
              "#fb9f3a"
             ],
             [
              0.8888888888888888,
              "#fdca26"
             ],
             [
              1,
              "#f0f921"
             ]
            ],
            "type": "surface"
           }
          ],
          "table": [
           {
            "cells": {
             "fill": {
              "color": "#EBF0F8"
             },
             "line": {
              "color": "white"
             }
            },
            "header": {
             "fill": {
              "color": "#C8D4E3"
             },
             "line": {
              "color": "white"
             }
            },
            "type": "table"
           }
          ]
         },
         "layout": {
          "annotationdefaults": {
           "arrowcolor": "#2a3f5f",
           "arrowhead": 0,
           "arrowwidth": 1
          },
          "autotypenumbers": "strict",
          "coloraxis": {
           "colorbar": {
            "outlinewidth": 0,
            "ticks": ""
           }
          },
          "colorscale": {
           "diverging": [
            [
             0,
             "#8e0152"
            ],
            [
             0.1,
             "#c51b7d"
            ],
            [
             0.2,
             "#de77ae"
            ],
            [
             0.3,
             "#f1b6da"
            ],
            [
             0.4,
             "#fde0ef"
            ],
            [
             0.5,
             "#f7f7f7"
            ],
            [
             0.6,
             "#e6f5d0"
            ],
            [
             0.7,
             "#b8e186"
            ],
            [
             0.8,
             "#7fbc41"
            ],
            [
             0.9,
             "#4d9221"
            ],
            [
             1,
             "#276419"
            ]
           ],
           "sequential": [
            [
             0,
             "#0d0887"
            ],
            [
             0.1111111111111111,
             "#46039f"
            ],
            [
             0.2222222222222222,
             "#7201a8"
            ],
            [
             0.3333333333333333,
             "#9c179e"
            ],
            [
             0.4444444444444444,
             "#bd3786"
            ],
            [
             0.5555555555555556,
             "#d8576b"
            ],
            [
             0.6666666666666666,
             "#ed7953"
            ],
            [
             0.7777777777777778,
             "#fb9f3a"
            ],
            [
             0.8888888888888888,
             "#fdca26"
            ],
            [
             1,
             "#f0f921"
            ]
           ],
           "sequentialminus": [
            [
             0,
             "#0d0887"
            ],
            [
             0.1111111111111111,
             "#46039f"
            ],
            [
             0.2222222222222222,
             "#7201a8"
            ],
            [
             0.3333333333333333,
             "#9c179e"
            ],
            [
             0.4444444444444444,
             "#bd3786"
            ],
            [
             0.5555555555555556,
             "#d8576b"
            ],
            [
             0.6666666666666666,
             "#ed7953"
            ],
            [
             0.7777777777777778,
             "#fb9f3a"
            ],
            [
             0.8888888888888888,
             "#fdca26"
            ],
            [
             1,
             "#f0f921"
            ]
           ]
          },
          "colorway": [
           "#636efa",
           "#EF553B",
           "#00cc96",
           "#ab63fa",
           "#FFA15A",
           "#19d3f3",
           "#FF6692",
           "#B6E880",
           "#FF97FF",
           "#FECB52"
          ],
          "font": {
           "color": "#2a3f5f"
          },
          "geo": {
           "bgcolor": "white",
           "lakecolor": "white",
           "landcolor": "#E5ECF6",
           "showlakes": true,
           "showland": true,
           "subunitcolor": "white"
          },
          "hoverlabel": {
           "align": "left"
          },
          "hovermode": "closest",
          "mapbox": {
           "style": "light"
          },
          "paper_bgcolor": "white",
          "plot_bgcolor": "#E5ECF6",
          "polar": {
           "angularaxis": {
            "gridcolor": "white",
            "linecolor": "white",
            "ticks": ""
           },
           "bgcolor": "#E5ECF6",
           "radialaxis": {
            "gridcolor": "white",
            "linecolor": "white",
            "ticks": ""
           }
          },
          "scene": {
           "xaxis": {
            "backgroundcolor": "#E5ECF6",
            "gridcolor": "white",
            "gridwidth": 2,
            "linecolor": "white",
            "showbackground": true,
            "ticks": "",
            "zerolinecolor": "white"
           },
           "yaxis": {
            "backgroundcolor": "#E5ECF6",
            "gridcolor": "white",
            "gridwidth": 2,
            "linecolor": "white",
            "showbackground": true,
            "ticks": "",
            "zerolinecolor": "white"
           },
           "zaxis": {
            "backgroundcolor": "#E5ECF6",
            "gridcolor": "white",
            "gridwidth": 2,
            "linecolor": "white",
            "showbackground": true,
            "ticks": "",
            "zerolinecolor": "white"
           }
          },
          "shapedefaults": {
           "line": {
            "color": "#2a3f5f"
           }
          },
          "ternary": {
           "aaxis": {
            "gridcolor": "white",
            "linecolor": "white",
            "ticks": ""
           },
           "baxis": {
            "gridcolor": "white",
            "linecolor": "white",
            "ticks": ""
           },
           "bgcolor": "#E5ECF6",
           "caxis": {
            "gridcolor": "white",
            "linecolor": "white",
            "ticks": ""
           }
          },
          "title": {
           "x": 0.05
          },
          "xaxis": {
           "automargin": true,
           "gridcolor": "white",
           "linecolor": "white",
           "ticks": "",
           "title": {
            "standoff": 15
           },
           "zerolinecolor": "white",
           "zerolinewidth": 2
          },
          "yaxis": {
           "automargin": true,
           "gridcolor": "white",
           "linecolor": "white",
           "ticks": "",
           "title": {
            "standoff": 15
           },
           "zerolinecolor": "white",
           "zerolinewidth": 2
          }
         }
        },
        "title": {
         "font": {
          "color": "#4D5663"
         }
        },
        "xaxis": {
         "gridcolor": "#E1E5ED",
         "showgrid": true,
         "tickfont": {
          "color": "#4D5663"
         },
         "title": {
          "font": {
           "color": "#4D5663"
          },
          "text": ""
         },
         "zerolinecolor": "#E1E5ED"
        },
        "yaxis": {
         "gridcolor": "#E1E5ED",
         "showgrid": true,
         "tickfont": {
          "color": "#4D5663"
         },
         "title": {
          "font": {
           "color": "#4D5663"
          },
          "text": ""
         },
         "zerolinecolor": "#E1E5ED"
        }
       }
      }
     },
     "metadata": {}
    }
   ],
   "metadata": {}
  },
  {
   "cell_type": "code",
   "execution_count": 18,
   "source": [
    "df.count().iplot(kind='bar')   # all 100 shows that they are evenly distributed."
   ],
   "outputs": [
    {
     "output_type": "display_data",
     "data": {
      "text/html": [
       "<div>                            <div id=\"749e7b37-063e-4012-83d8-d420476b5755\" class=\"plotly-graph-div\" style=\"height:525px; width:100%;\"></div>            <script type=\"text/javascript\">                require([\"plotly\"], function(Plotly) {                    window.PLOTLYENV=window.PLOTLYENV || {};\n",
       "                    window.PLOTLYENV.BASE_URL='https://plot.ly';                                    if (document.getElementById(\"749e7b37-063e-4012-83d8-d420476b5755\")) {                    Plotly.newPlot(                        \"749e7b37-063e-4012-83d8-d420476b5755\",                        [{\"marker\":{\"color\":\"rgba(255, 153, 51, 0.6)\",\"line\":{\"color\":\"rgba(255, 153, 51, 1.0)\",\"width\":1}},\"name\":\"None\",\"orientation\":\"v\",\"text\":\"\",\"type\":\"bar\",\"x\":[\"A\",\"B\",\"C\",\"D\"],\"y\":[100,100,100,100]}],                        {\"legend\":{\"bgcolor\":\"#F5F6F9\",\"font\":{\"color\":\"#4D5663\"}},\"paper_bgcolor\":\"#F5F6F9\",\"plot_bgcolor\":\"#F5F6F9\",\"template\":{\"data\":{\"bar\":[{\"error_x\":{\"color\":\"#2a3f5f\"},\"error_y\":{\"color\":\"#2a3f5f\"},\"marker\":{\"line\":{\"color\":\"#E5ECF6\",\"width\":0.5},\"pattern\":{\"fillmode\":\"overlay\",\"size\":10,\"solidity\":0.2}},\"type\":\"bar\"}],\"barpolar\":[{\"marker\":{\"line\":{\"color\":\"#E5ECF6\",\"width\":0.5},\"pattern\":{\"fillmode\":\"overlay\",\"size\":10,\"solidity\":0.2}},\"type\":\"barpolar\"}],\"carpet\":[{\"aaxis\":{\"endlinecolor\":\"#2a3f5f\",\"gridcolor\":\"white\",\"linecolor\":\"white\",\"minorgridcolor\":\"white\",\"startlinecolor\":\"#2a3f5f\"},\"baxis\":{\"endlinecolor\":\"#2a3f5f\",\"gridcolor\":\"white\",\"linecolor\":\"white\",\"minorgridcolor\":\"white\",\"startlinecolor\":\"#2a3f5f\"},\"type\":\"carpet\"}],\"choropleth\":[{\"colorbar\":{\"outlinewidth\":0,\"ticks\":\"\"},\"type\":\"choropleth\"}],\"contour\":[{\"colorbar\":{\"outlinewidth\":0,\"ticks\":\"\"},\"colorscale\":[[0.0,\"#0d0887\"],[0.1111111111111111,\"#46039f\"],[0.2222222222222222,\"#7201a8\"],[0.3333333333333333,\"#9c179e\"],[0.4444444444444444,\"#bd3786\"],[0.5555555555555556,\"#d8576b\"],[0.6666666666666666,\"#ed7953\"],[0.7777777777777778,\"#fb9f3a\"],[0.8888888888888888,\"#fdca26\"],[1.0,\"#f0f921\"]],\"type\":\"contour\"}],\"contourcarpet\":[{\"colorbar\":{\"outlinewidth\":0,\"ticks\":\"\"},\"type\":\"contourcarpet\"}],\"heatmap\":[{\"colorbar\":{\"outlinewidth\":0,\"ticks\":\"\"},\"colorscale\":[[0.0,\"#0d0887\"],[0.1111111111111111,\"#46039f\"],[0.2222222222222222,\"#7201a8\"],[0.3333333333333333,\"#9c179e\"],[0.4444444444444444,\"#bd3786\"],[0.5555555555555556,\"#d8576b\"],[0.6666666666666666,\"#ed7953\"],[0.7777777777777778,\"#fb9f3a\"],[0.8888888888888888,\"#fdca26\"],[1.0,\"#f0f921\"]],\"type\":\"heatmap\"}],\"heatmapgl\":[{\"colorbar\":{\"outlinewidth\":0,\"ticks\":\"\"},\"colorscale\":[[0.0,\"#0d0887\"],[0.1111111111111111,\"#46039f\"],[0.2222222222222222,\"#7201a8\"],[0.3333333333333333,\"#9c179e\"],[0.4444444444444444,\"#bd3786\"],[0.5555555555555556,\"#d8576b\"],[0.6666666666666666,\"#ed7953\"],[0.7777777777777778,\"#fb9f3a\"],[0.8888888888888888,\"#fdca26\"],[1.0,\"#f0f921\"]],\"type\":\"heatmapgl\"}],\"histogram\":[{\"marker\":{\"pattern\":{\"fillmode\":\"overlay\",\"size\":10,\"solidity\":0.2}},\"type\":\"histogram\"}],\"histogram2d\":[{\"colorbar\":{\"outlinewidth\":0,\"ticks\":\"\"},\"colorscale\":[[0.0,\"#0d0887\"],[0.1111111111111111,\"#46039f\"],[0.2222222222222222,\"#7201a8\"],[0.3333333333333333,\"#9c179e\"],[0.4444444444444444,\"#bd3786\"],[0.5555555555555556,\"#d8576b\"],[0.6666666666666666,\"#ed7953\"],[0.7777777777777778,\"#fb9f3a\"],[0.8888888888888888,\"#fdca26\"],[1.0,\"#f0f921\"]],\"type\":\"histogram2d\"}],\"histogram2dcontour\":[{\"colorbar\":{\"outlinewidth\":0,\"ticks\":\"\"},\"colorscale\":[[0.0,\"#0d0887\"],[0.1111111111111111,\"#46039f\"],[0.2222222222222222,\"#7201a8\"],[0.3333333333333333,\"#9c179e\"],[0.4444444444444444,\"#bd3786\"],[0.5555555555555556,\"#d8576b\"],[0.6666666666666666,\"#ed7953\"],[0.7777777777777778,\"#fb9f3a\"],[0.8888888888888888,\"#fdca26\"],[1.0,\"#f0f921\"]],\"type\":\"histogram2dcontour\"}],\"mesh3d\":[{\"colorbar\":{\"outlinewidth\":0,\"ticks\":\"\"},\"type\":\"mesh3d\"}],\"parcoords\":[{\"line\":{\"colorbar\":{\"outlinewidth\":0,\"ticks\":\"\"}},\"type\":\"parcoords\"}],\"pie\":[{\"automargin\":true,\"type\":\"pie\"}],\"scatter\":[{\"marker\":{\"colorbar\":{\"outlinewidth\":0,\"ticks\":\"\"}},\"type\":\"scatter\"}],\"scatter3d\":[{\"line\":{\"colorbar\":{\"outlinewidth\":0,\"ticks\":\"\"}},\"marker\":{\"colorbar\":{\"outlinewidth\":0,\"ticks\":\"\"}},\"type\":\"scatter3d\"}],\"scattercarpet\":[{\"marker\":{\"colorbar\":{\"outlinewidth\":0,\"ticks\":\"\"}},\"type\":\"scattercarpet\"}],\"scattergeo\":[{\"marker\":{\"colorbar\":{\"outlinewidth\":0,\"ticks\":\"\"}},\"type\":\"scattergeo\"}],\"scattergl\":[{\"marker\":{\"colorbar\":{\"outlinewidth\":0,\"ticks\":\"\"}},\"type\":\"scattergl\"}],\"scattermapbox\":[{\"marker\":{\"colorbar\":{\"outlinewidth\":0,\"ticks\":\"\"}},\"type\":\"scattermapbox\"}],\"scatterpolar\":[{\"marker\":{\"colorbar\":{\"outlinewidth\":0,\"ticks\":\"\"}},\"type\":\"scatterpolar\"}],\"scatterpolargl\":[{\"marker\":{\"colorbar\":{\"outlinewidth\":0,\"ticks\":\"\"}},\"type\":\"scatterpolargl\"}],\"scatterternary\":[{\"marker\":{\"colorbar\":{\"outlinewidth\":0,\"ticks\":\"\"}},\"type\":\"scatterternary\"}],\"surface\":[{\"colorbar\":{\"outlinewidth\":0,\"ticks\":\"\"},\"colorscale\":[[0.0,\"#0d0887\"],[0.1111111111111111,\"#46039f\"],[0.2222222222222222,\"#7201a8\"],[0.3333333333333333,\"#9c179e\"],[0.4444444444444444,\"#bd3786\"],[0.5555555555555556,\"#d8576b\"],[0.6666666666666666,\"#ed7953\"],[0.7777777777777778,\"#fb9f3a\"],[0.8888888888888888,\"#fdca26\"],[1.0,\"#f0f921\"]],\"type\":\"surface\"}],\"table\":[{\"cells\":{\"fill\":{\"color\":\"#EBF0F8\"},\"line\":{\"color\":\"white\"}},\"header\":{\"fill\":{\"color\":\"#C8D4E3\"},\"line\":{\"color\":\"white\"}},\"type\":\"table\"}]},\"layout\":{\"annotationdefaults\":{\"arrowcolor\":\"#2a3f5f\",\"arrowhead\":0,\"arrowwidth\":1},\"autotypenumbers\":\"strict\",\"coloraxis\":{\"colorbar\":{\"outlinewidth\":0,\"ticks\":\"\"}},\"colorscale\":{\"diverging\":[[0,\"#8e0152\"],[0.1,\"#c51b7d\"],[0.2,\"#de77ae\"],[0.3,\"#f1b6da\"],[0.4,\"#fde0ef\"],[0.5,\"#f7f7f7\"],[0.6,\"#e6f5d0\"],[0.7,\"#b8e186\"],[0.8,\"#7fbc41\"],[0.9,\"#4d9221\"],[1,\"#276419\"]],\"sequential\":[[0.0,\"#0d0887\"],[0.1111111111111111,\"#46039f\"],[0.2222222222222222,\"#7201a8\"],[0.3333333333333333,\"#9c179e\"],[0.4444444444444444,\"#bd3786\"],[0.5555555555555556,\"#d8576b\"],[0.6666666666666666,\"#ed7953\"],[0.7777777777777778,\"#fb9f3a\"],[0.8888888888888888,\"#fdca26\"],[1.0,\"#f0f921\"]],\"sequentialminus\":[[0.0,\"#0d0887\"],[0.1111111111111111,\"#46039f\"],[0.2222222222222222,\"#7201a8\"],[0.3333333333333333,\"#9c179e\"],[0.4444444444444444,\"#bd3786\"],[0.5555555555555556,\"#d8576b\"],[0.6666666666666666,\"#ed7953\"],[0.7777777777777778,\"#fb9f3a\"],[0.8888888888888888,\"#fdca26\"],[1.0,\"#f0f921\"]]},\"colorway\":[\"#636efa\",\"#EF553B\",\"#00cc96\",\"#ab63fa\",\"#FFA15A\",\"#19d3f3\",\"#FF6692\",\"#B6E880\",\"#FF97FF\",\"#FECB52\"],\"font\":{\"color\":\"#2a3f5f\"},\"geo\":{\"bgcolor\":\"white\",\"lakecolor\":\"white\",\"landcolor\":\"#E5ECF6\",\"showlakes\":true,\"showland\":true,\"subunitcolor\":\"white\"},\"hoverlabel\":{\"align\":\"left\"},\"hovermode\":\"closest\",\"mapbox\":{\"style\":\"light\"},\"paper_bgcolor\":\"white\",\"plot_bgcolor\":\"#E5ECF6\",\"polar\":{\"angularaxis\":{\"gridcolor\":\"white\",\"linecolor\":\"white\",\"ticks\":\"\"},\"bgcolor\":\"#E5ECF6\",\"radialaxis\":{\"gridcolor\":\"white\",\"linecolor\":\"white\",\"ticks\":\"\"}},\"scene\":{\"xaxis\":{\"backgroundcolor\":\"#E5ECF6\",\"gridcolor\":\"white\",\"gridwidth\":2,\"linecolor\":\"white\",\"showbackground\":true,\"ticks\":\"\",\"zerolinecolor\":\"white\"},\"yaxis\":{\"backgroundcolor\":\"#E5ECF6\",\"gridcolor\":\"white\",\"gridwidth\":2,\"linecolor\":\"white\",\"showbackground\":true,\"ticks\":\"\",\"zerolinecolor\":\"white\"},\"zaxis\":{\"backgroundcolor\":\"#E5ECF6\",\"gridcolor\":\"white\",\"gridwidth\":2,\"linecolor\":\"white\",\"showbackground\":true,\"ticks\":\"\",\"zerolinecolor\":\"white\"}},\"shapedefaults\":{\"line\":{\"color\":\"#2a3f5f\"}},\"ternary\":{\"aaxis\":{\"gridcolor\":\"white\",\"linecolor\":\"white\",\"ticks\":\"\"},\"baxis\":{\"gridcolor\":\"white\",\"linecolor\":\"white\",\"ticks\":\"\"},\"bgcolor\":\"#E5ECF6\",\"caxis\":{\"gridcolor\":\"white\",\"linecolor\":\"white\",\"ticks\":\"\"}},\"title\":{\"x\":0.05},\"xaxis\":{\"automargin\":true,\"gridcolor\":\"white\",\"linecolor\":\"white\",\"ticks\":\"\",\"title\":{\"standoff\":15},\"zerolinecolor\":\"white\",\"zerolinewidth\":2},\"yaxis\":{\"automargin\":true,\"gridcolor\":\"white\",\"linecolor\":\"white\",\"ticks\":\"\",\"title\":{\"standoff\":15},\"zerolinecolor\":\"white\",\"zerolinewidth\":2}}},\"title\":{\"font\":{\"color\":\"#4D5663\"}},\"xaxis\":{\"gridcolor\":\"#E1E5ED\",\"showgrid\":true,\"tickfont\":{\"color\":\"#4D5663\"},\"title\":{\"font\":{\"color\":\"#4D5663\"},\"text\":\"\"},\"zerolinecolor\":\"#E1E5ED\"},\"yaxis\":{\"gridcolor\":\"#E1E5ED\",\"showgrid\":true,\"tickfont\":{\"color\":\"#4D5663\"},\"title\":{\"font\":{\"color\":\"#4D5663\"},\"text\":\"\"},\"zerolinecolor\":\"#E1E5ED\"}},                        {\"showLink\": true, \"linkText\": \"Export to plot.ly\", \"plotlyServerURL\": \"https://plot.ly\", \"responsive\": true}                    ).then(function(){\n",
       "                            \n",
       "var gd = document.getElementById('749e7b37-063e-4012-83d8-d420476b5755');\n",
       "var x = new MutationObserver(function (mutations, observer) {{\n",
       "        var display = window.getComputedStyle(gd).display;\n",
       "        if (!display || display === 'none') {{\n",
       "            console.log([gd, 'removed!']);\n",
       "            Plotly.purge(gd);\n",
       "            observer.disconnect();\n",
       "        }}\n",
       "}});\n",
       "\n",
       "// Listen for the removal of the full notebook cells\n",
       "var notebookContainer = gd.closest('#notebook-container');\n",
       "if (notebookContainer) {{\n",
       "    x.observe(notebookContainer, {childList: true});\n",
       "}}\n",
       "\n",
       "// Listen for the clearing of the current output cell\n",
       "var outputEl = gd.closest('.output');\n",
       "if (outputEl) {{\n",
       "    x.observe(outputEl, {childList: true});\n",
       "}}\n",
       "\n",
       "                        })                };                });            </script>        </div>"
      ],
      "application/vnd.plotly.v1+json": {
       "config": {
        "linkText": "Export to plot.ly",
        "plotlyServerURL": "https://plot.ly",
        "showLink": true
       },
       "data": [
        {
         "marker": {
          "color": "rgba(255, 153, 51, 0.6)",
          "line": {
           "color": "rgba(255, 153, 51, 1.0)",
           "width": 1
          }
         },
         "name": "None",
         "orientation": "v",
         "text": "",
         "type": "bar",
         "x": [
          "A",
          "B",
          "C",
          "D"
         ],
         "y": [
          100,
          100,
          100,
          100
         ]
        }
       ],
       "layout": {
        "legend": {
         "bgcolor": "#F5F6F9",
         "font": {
          "color": "#4D5663"
         }
        },
        "paper_bgcolor": "#F5F6F9",
        "plot_bgcolor": "#F5F6F9",
        "template": {
         "data": {
          "bar": [
           {
            "error_x": {
             "color": "#2a3f5f"
            },
            "error_y": {
             "color": "#2a3f5f"
            },
            "marker": {
             "line": {
              "color": "#E5ECF6",
              "width": 0.5
             },
             "pattern": {
              "fillmode": "overlay",
              "size": 10,
              "solidity": 0.2
             }
            },
            "type": "bar"
           }
          ],
          "barpolar": [
           {
            "marker": {
             "line": {
              "color": "#E5ECF6",
              "width": 0.5
             },
             "pattern": {
              "fillmode": "overlay",
              "size": 10,
              "solidity": 0.2
             }
            },
            "type": "barpolar"
           }
          ],
          "carpet": [
           {
            "aaxis": {
             "endlinecolor": "#2a3f5f",
             "gridcolor": "white",
             "linecolor": "white",
             "minorgridcolor": "white",
             "startlinecolor": "#2a3f5f"
            },
            "baxis": {
             "endlinecolor": "#2a3f5f",
             "gridcolor": "white",
             "linecolor": "white",
             "minorgridcolor": "white",
             "startlinecolor": "#2a3f5f"
            },
            "type": "carpet"
           }
          ],
          "choropleth": [
           {
            "colorbar": {
             "outlinewidth": 0,
             "ticks": ""
            },
            "type": "choropleth"
           }
          ],
          "contour": [
           {
            "colorbar": {
             "outlinewidth": 0,
             "ticks": ""
            },
            "colorscale": [
             [
              0,
              "#0d0887"
             ],
             [
              0.1111111111111111,
              "#46039f"
             ],
             [
              0.2222222222222222,
              "#7201a8"
             ],
             [
              0.3333333333333333,
              "#9c179e"
             ],
             [
              0.4444444444444444,
              "#bd3786"
             ],
             [
              0.5555555555555556,
              "#d8576b"
             ],
             [
              0.6666666666666666,
              "#ed7953"
             ],
             [
              0.7777777777777778,
              "#fb9f3a"
             ],
             [
              0.8888888888888888,
              "#fdca26"
             ],
             [
              1,
              "#f0f921"
             ]
            ],
            "type": "contour"
           }
          ],
          "contourcarpet": [
           {
            "colorbar": {
             "outlinewidth": 0,
             "ticks": ""
            },
            "type": "contourcarpet"
           }
          ],
          "heatmap": [
           {
            "colorbar": {
             "outlinewidth": 0,
             "ticks": ""
            },
            "colorscale": [
             [
              0,
              "#0d0887"
             ],
             [
              0.1111111111111111,
              "#46039f"
             ],
             [
              0.2222222222222222,
              "#7201a8"
             ],
             [
              0.3333333333333333,
              "#9c179e"
             ],
             [
              0.4444444444444444,
              "#bd3786"
             ],
             [
              0.5555555555555556,
              "#d8576b"
             ],
             [
              0.6666666666666666,
              "#ed7953"
             ],
             [
              0.7777777777777778,
              "#fb9f3a"
             ],
             [
              0.8888888888888888,
              "#fdca26"
             ],
             [
              1,
              "#f0f921"
             ]
            ],
            "type": "heatmap"
           }
          ],
          "heatmapgl": [
           {
            "colorbar": {
             "outlinewidth": 0,
             "ticks": ""
            },
            "colorscale": [
             [
              0,
              "#0d0887"
             ],
             [
              0.1111111111111111,
              "#46039f"
             ],
             [
              0.2222222222222222,
              "#7201a8"
             ],
             [
              0.3333333333333333,
              "#9c179e"
             ],
             [
              0.4444444444444444,
              "#bd3786"
             ],
             [
              0.5555555555555556,
              "#d8576b"
             ],
             [
              0.6666666666666666,
              "#ed7953"
             ],
             [
              0.7777777777777778,
              "#fb9f3a"
             ],
             [
              0.8888888888888888,
              "#fdca26"
             ],
             [
              1,
              "#f0f921"
             ]
            ],
            "type": "heatmapgl"
           }
          ],
          "histogram": [
           {
            "marker": {
             "pattern": {
              "fillmode": "overlay",
              "size": 10,
              "solidity": 0.2
             }
            },
            "type": "histogram"
           }
          ],
          "histogram2d": [
           {
            "colorbar": {
             "outlinewidth": 0,
             "ticks": ""
            },
            "colorscale": [
             [
              0,
              "#0d0887"
             ],
             [
              0.1111111111111111,
              "#46039f"
             ],
             [
              0.2222222222222222,
              "#7201a8"
             ],
             [
              0.3333333333333333,
              "#9c179e"
             ],
             [
              0.4444444444444444,
              "#bd3786"
             ],
             [
              0.5555555555555556,
              "#d8576b"
             ],
             [
              0.6666666666666666,
              "#ed7953"
             ],
             [
              0.7777777777777778,
              "#fb9f3a"
             ],
             [
              0.8888888888888888,
              "#fdca26"
             ],
             [
              1,
              "#f0f921"
             ]
            ],
            "type": "histogram2d"
           }
          ],
          "histogram2dcontour": [
           {
            "colorbar": {
             "outlinewidth": 0,
             "ticks": ""
            },
            "colorscale": [
             [
              0,
              "#0d0887"
             ],
             [
              0.1111111111111111,
              "#46039f"
             ],
             [
              0.2222222222222222,
              "#7201a8"
             ],
             [
              0.3333333333333333,
              "#9c179e"
             ],
             [
              0.4444444444444444,
              "#bd3786"
             ],
             [
              0.5555555555555556,
              "#d8576b"
             ],
             [
              0.6666666666666666,
              "#ed7953"
             ],
             [
              0.7777777777777778,
              "#fb9f3a"
             ],
             [
              0.8888888888888888,
              "#fdca26"
             ],
             [
              1,
              "#f0f921"
             ]
            ],
            "type": "histogram2dcontour"
           }
          ],
          "mesh3d": [
           {
            "colorbar": {
             "outlinewidth": 0,
             "ticks": ""
            },
            "type": "mesh3d"
           }
          ],
          "parcoords": [
           {
            "line": {
             "colorbar": {
              "outlinewidth": 0,
              "ticks": ""
             }
            },
            "type": "parcoords"
           }
          ],
          "pie": [
           {
            "automargin": true,
            "type": "pie"
           }
          ],
          "scatter": [
           {
            "marker": {
             "colorbar": {
              "outlinewidth": 0,
              "ticks": ""
             }
            },
            "type": "scatter"
           }
          ],
          "scatter3d": [
           {
            "line": {
             "colorbar": {
              "outlinewidth": 0,
              "ticks": ""
             }
            },
            "marker": {
             "colorbar": {
              "outlinewidth": 0,
              "ticks": ""
             }
            },
            "type": "scatter3d"
           }
          ],
          "scattercarpet": [
           {
            "marker": {
             "colorbar": {
              "outlinewidth": 0,
              "ticks": ""
             }
            },
            "type": "scattercarpet"
           }
          ],
          "scattergeo": [
           {
            "marker": {
             "colorbar": {
              "outlinewidth": 0,
              "ticks": ""
             }
            },
            "type": "scattergeo"
           }
          ],
          "scattergl": [
           {
            "marker": {
             "colorbar": {
              "outlinewidth": 0,
              "ticks": ""
             }
            },
            "type": "scattergl"
           }
          ],
          "scattermapbox": [
           {
            "marker": {
             "colorbar": {
              "outlinewidth": 0,
              "ticks": ""
             }
            },
            "type": "scattermapbox"
           }
          ],
          "scatterpolar": [
           {
            "marker": {
             "colorbar": {
              "outlinewidth": 0,
              "ticks": ""
             }
            },
            "type": "scatterpolar"
           }
          ],
          "scatterpolargl": [
           {
            "marker": {
             "colorbar": {
              "outlinewidth": 0,
              "ticks": ""
             }
            },
            "type": "scatterpolargl"
           }
          ],
          "scatterternary": [
           {
            "marker": {
             "colorbar": {
              "outlinewidth": 0,
              "ticks": ""
             }
            },
            "type": "scatterternary"
           }
          ],
          "surface": [
           {
            "colorbar": {
             "outlinewidth": 0,
             "ticks": ""
            },
            "colorscale": [
             [
              0,
              "#0d0887"
             ],
             [
              0.1111111111111111,
              "#46039f"
             ],
             [
              0.2222222222222222,
              "#7201a8"
             ],
             [
              0.3333333333333333,
              "#9c179e"
             ],
             [
              0.4444444444444444,
              "#bd3786"
             ],
             [
              0.5555555555555556,
              "#d8576b"
             ],
             [
              0.6666666666666666,
              "#ed7953"
             ],
             [
              0.7777777777777778,
              "#fb9f3a"
             ],
             [
              0.8888888888888888,
              "#fdca26"
             ],
             [
              1,
              "#f0f921"
             ]
            ],
            "type": "surface"
           }
          ],
          "table": [
           {
            "cells": {
             "fill": {
              "color": "#EBF0F8"
             },
             "line": {
              "color": "white"
             }
            },
            "header": {
             "fill": {
              "color": "#C8D4E3"
             },
             "line": {
              "color": "white"
             }
            },
            "type": "table"
           }
          ]
         },
         "layout": {
          "annotationdefaults": {
           "arrowcolor": "#2a3f5f",
           "arrowhead": 0,
           "arrowwidth": 1
          },
          "autotypenumbers": "strict",
          "coloraxis": {
           "colorbar": {
            "outlinewidth": 0,
            "ticks": ""
           }
          },
          "colorscale": {
           "diverging": [
            [
             0,
             "#8e0152"
            ],
            [
             0.1,
             "#c51b7d"
            ],
            [
             0.2,
             "#de77ae"
            ],
            [
             0.3,
             "#f1b6da"
            ],
            [
             0.4,
             "#fde0ef"
            ],
            [
             0.5,
             "#f7f7f7"
            ],
            [
             0.6,
             "#e6f5d0"
            ],
            [
             0.7,
             "#b8e186"
            ],
            [
             0.8,
             "#7fbc41"
            ],
            [
             0.9,
             "#4d9221"
            ],
            [
             1,
             "#276419"
            ]
           ],
           "sequential": [
            [
             0,
             "#0d0887"
            ],
            [
             0.1111111111111111,
             "#46039f"
            ],
            [
             0.2222222222222222,
             "#7201a8"
            ],
            [
             0.3333333333333333,
             "#9c179e"
            ],
            [
             0.4444444444444444,
             "#bd3786"
            ],
            [
             0.5555555555555556,
             "#d8576b"
            ],
            [
             0.6666666666666666,
             "#ed7953"
            ],
            [
             0.7777777777777778,
             "#fb9f3a"
            ],
            [
             0.8888888888888888,
             "#fdca26"
            ],
            [
             1,
             "#f0f921"
            ]
           ],
           "sequentialminus": [
            [
             0,
             "#0d0887"
            ],
            [
             0.1111111111111111,
             "#46039f"
            ],
            [
             0.2222222222222222,
             "#7201a8"
            ],
            [
             0.3333333333333333,
             "#9c179e"
            ],
            [
             0.4444444444444444,
             "#bd3786"
            ],
            [
             0.5555555555555556,
             "#d8576b"
            ],
            [
             0.6666666666666666,
             "#ed7953"
            ],
            [
             0.7777777777777778,
             "#fb9f3a"
            ],
            [
             0.8888888888888888,
             "#fdca26"
            ],
            [
             1,
             "#f0f921"
            ]
           ]
          },
          "colorway": [
           "#636efa",
           "#EF553B",
           "#00cc96",
           "#ab63fa",
           "#FFA15A",
           "#19d3f3",
           "#FF6692",
           "#B6E880",
           "#FF97FF",
           "#FECB52"
          ],
          "font": {
           "color": "#2a3f5f"
          },
          "geo": {
           "bgcolor": "white",
           "lakecolor": "white",
           "landcolor": "#E5ECF6",
           "showlakes": true,
           "showland": true,
           "subunitcolor": "white"
          },
          "hoverlabel": {
           "align": "left"
          },
          "hovermode": "closest",
          "mapbox": {
           "style": "light"
          },
          "paper_bgcolor": "white",
          "plot_bgcolor": "#E5ECF6",
          "polar": {
           "angularaxis": {
            "gridcolor": "white",
            "linecolor": "white",
            "ticks": ""
           },
           "bgcolor": "#E5ECF6",
           "radialaxis": {
            "gridcolor": "white",
            "linecolor": "white",
            "ticks": ""
           }
          },
          "scene": {
           "xaxis": {
            "backgroundcolor": "#E5ECF6",
            "gridcolor": "white",
            "gridwidth": 2,
            "linecolor": "white",
            "showbackground": true,
            "ticks": "",
            "zerolinecolor": "white"
           },
           "yaxis": {
            "backgroundcolor": "#E5ECF6",
            "gridcolor": "white",
            "gridwidth": 2,
            "linecolor": "white",
            "showbackground": true,
            "ticks": "",
            "zerolinecolor": "white"
           },
           "zaxis": {
            "backgroundcolor": "#E5ECF6",
            "gridcolor": "white",
            "gridwidth": 2,
            "linecolor": "white",
            "showbackground": true,
            "ticks": "",
            "zerolinecolor": "white"
           }
          },
          "shapedefaults": {
           "line": {
            "color": "#2a3f5f"
           }
          },
          "ternary": {
           "aaxis": {
            "gridcolor": "white",
            "linecolor": "white",
            "ticks": ""
           },
           "baxis": {
            "gridcolor": "white",
            "linecolor": "white",
            "ticks": ""
           },
           "bgcolor": "#E5ECF6",
           "caxis": {
            "gridcolor": "white",
            "linecolor": "white",
            "ticks": ""
           }
          },
          "title": {
           "x": 0.05
          },
          "xaxis": {
           "automargin": true,
           "gridcolor": "white",
           "linecolor": "white",
           "ticks": "",
           "title": {
            "standoff": 15
           },
           "zerolinecolor": "white",
           "zerolinewidth": 2
          },
          "yaxis": {
           "automargin": true,
           "gridcolor": "white",
           "linecolor": "white",
           "ticks": "",
           "title": {
            "standoff": 15
           },
           "zerolinecolor": "white",
           "zerolinewidth": 2
          }
         }
        },
        "title": {
         "font": {
          "color": "#4D5663"
         }
        },
        "xaxis": {
         "gridcolor": "#E1E5ED",
         "showgrid": true,
         "tickfont": {
          "color": "#4D5663"
         },
         "title": {
          "font": {
           "color": "#4D5663"
          },
          "text": ""
         },
         "zerolinecolor": "#E1E5ED"
        },
        "yaxis": {
         "gridcolor": "#E1E5ED",
         "showgrid": true,
         "tickfont": {
          "color": "#4D5663"
         },
         "title": {
          "font": {
           "color": "#4D5663"
          },
          "text": ""
         },
         "zerolinecolor": "#E1E5ED"
        }
       }
      }
     },
     "metadata": {}
    }
   ],
   "metadata": {}
  },
  {
   "cell_type": "code",
   "execution_count": 19,
   "source": [
    "df.sum().iplot(kind='bar')"
   ],
   "outputs": [
    {
     "output_type": "display_data",
     "data": {
      "text/html": [
       "<div>                            <div id=\"0b187b2e-191d-4e88-b90f-f1b17f16a3e4\" class=\"plotly-graph-div\" style=\"height:525px; width:100%;\"></div>            <script type=\"text/javascript\">                require([\"plotly\"], function(Plotly) {                    window.PLOTLYENV=window.PLOTLYENV || {};\n",
       "                    window.PLOTLYENV.BASE_URL='https://plot.ly';                                    if (document.getElementById(\"0b187b2e-191d-4e88-b90f-f1b17f16a3e4\")) {                    Plotly.newPlot(                        \"0b187b2e-191d-4e88-b90f-f1b17f16a3e4\",                        [{\"marker\":{\"color\":\"rgba(255, 153, 51, 0.6)\",\"line\":{\"color\":\"rgba(255, 153, 51, 1.0)\",\"width\":1}},\"name\":\"None\",\"orientation\":\"v\",\"text\":\"\",\"type\":\"bar\",\"x\":[\"A\",\"B\",\"C\",\"D\"],\"y\":[-4.834909567618728,-2.7878550848270143,-1.201657700238965,0.22631813516352012]}],                        {\"legend\":{\"bgcolor\":\"#F5F6F9\",\"font\":{\"color\":\"#4D5663\"}},\"paper_bgcolor\":\"#F5F6F9\",\"plot_bgcolor\":\"#F5F6F9\",\"template\":{\"data\":{\"bar\":[{\"error_x\":{\"color\":\"#2a3f5f\"},\"error_y\":{\"color\":\"#2a3f5f\"},\"marker\":{\"line\":{\"color\":\"#E5ECF6\",\"width\":0.5},\"pattern\":{\"fillmode\":\"overlay\",\"size\":10,\"solidity\":0.2}},\"type\":\"bar\"}],\"barpolar\":[{\"marker\":{\"line\":{\"color\":\"#E5ECF6\",\"width\":0.5},\"pattern\":{\"fillmode\":\"overlay\",\"size\":10,\"solidity\":0.2}},\"type\":\"barpolar\"}],\"carpet\":[{\"aaxis\":{\"endlinecolor\":\"#2a3f5f\",\"gridcolor\":\"white\",\"linecolor\":\"white\",\"minorgridcolor\":\"white\",\"startlinecolor\":\"#2a3f5f\"},\"baxis\":{\"endlinecolor\":\"#2a3f5f\",\"gridcolor\":\"white\",\"linecolor\":\"white\",\"minorgridcolor\":\"white\",\"startlinecolor\":\"#2a3f5f\"},\"type\":\"carpet\"}],\"choropleth\":[{\"colorbar\":{\"outlinewidth\":0,\"ticks\":\"\"},\"type\":\"choropleth\"}],\"contour\":[{\"colorbar\":{\"outlinewidth\":0,\"ticks\":\"\"},\"colorscale\":[[0.0,\"#0d0887\"],[0.1111111111111111,\"#46039f\"],[0.2222222222222222,\"#7201a8\"],[0.3333333333333333,\"#9c179e\"],[0.4444444444444444,\"#bd3786\"],[0.5555555555555556,\"#d8576b\"],[0.6666666666666666,\"#ed7953\"],[0.7777777777777778,\"#fb9f3a\"],[0.8888888888888888,\"#fdca26\"],[1.0,\"#f0f921\"]],\"type\":\"contour\"}],\"contourcarpet\":[{\"colorbar\":{\"outlinewidth\":0,\"ticks\":\"\"},\"type\":\"contourcarpet\"}],\"heatmap\":[{\"colorbar\":{\"outlinewidth\":0,\"ticks\":\"\"},\"colorscale\":[[0.0,\"#0d0887\"],[0.1111111111111111,\"#46039f\"],[0.2222222222222222,\"#7201a8\"],[0.3333333333333333,\"#9c179e\"],[0.4444444444444444,\"#bd3786\"],[0.5555555555555556,\"#d8576b\"],[0.6666666666666666,\"#ed7953\"],[0.7777777777777778,\"#fb9f3a\"],[0.8888888888888888,\"#fdca26\"],[1.0,\"#f0f921\"]],\"type\":\"heatmap\"}],\"heatmapgl\":[{\"colorbar\":{\"outlinewidth\":0,\"ticks\":\"\"},\"colorscale\":[[0.0,\"#0d0887\"],[0.1111111111111111,\"#46039f\"],[0.2222222222222222,\"#7201a8\"],[0.3333333333333333,\"#9c179e\"],[0.4444444444444444,\"#bd3786\"],[0.5555555555555556,\"#d8576b\"],[0.6666666666666666,\"#ed7953\"],[0.7777777777777778,\"#fb9f3a\"],[0.8888888888888888,\"#fdca26\"],[1.0,\"#f0f921\"]],\"type\":\"heatmapgl\"}],\"histogram\":[{\"marker\":{\"pattern\":{\"fillmode\":\"overlay\",\"size\":10,\"solidity\":0.2}},\"type\":\"histogram\"}],\"histogram2d\":[{\"colorbar\":{\"outlinewidth\":0,\"ticks\":\"\"},\"colorscale\":[[0.0,\"#0d0887\"],[0.1111111111111111,\"#46039f\"],[0.2222222222222222,\"#7201a8\"],[0.3333333333333333,\"#9c179e\"],[0.4444444444444444,\"#bd3786\"],[0.5555555555555556,\"#d8576b\"],[0.6666666666666666,\"#ed7953\"],[0.7777777777777778,\"#fb9f3a\"],[0.8888888888888888,\"#fdca26\"],[1.0,\"#f0f921\"]],\"type\":\"histogram2d\"}],\"histogram2dcontour\":[{\"colorbar\":{\"outlinewidth\":0,\"ticks\":\"\"},\"colorscale\":[[0.0,\"#0d0887\"],[0.1111111111111111,\"#46039f\"],[0.2222222222222222,\"#7201a8\"],[0.3333333333333333,\"#9c179e\"],[0.4444444444444444,\"#bd3786\"],[0.5555555555555556,\"#d8576b\"],[0.6666666666666666,\"#ed7953\"],[0.7777777777777778,\"#fb9f3a\"],[0.8888888888888888,\"#fdca26\"],[1.0,\"#f0f921\"]],\"type\":\"histogram2dcontour\"}],\"mesh3d\":[{\"colorbar\":{\"outlinewidth\":0,\"ticks\":\"\"},\"type\":\"mesh3d\"}],\"parcoords\":[{\"line\":{\"colorbar\":{\"outlinewidth\":0,\"ticks\":\"\"}},\"type\":\"parcoords\"}],\"pie\":[{\"automargin\":true,\"type\":\"pie\"}],\"scatter\":[{\"marker\":{\"colorbar\":{\"outlinewidth\":0,\"ticks\":\"\"}},\"type\":\"scatter\"}],\"scatter3d\":[{\"line\":{\"colorbar\":{\"outlinewidth\":0,\"ticks\":\"\"}},\"marker\":{\"colorbar\":{\"outlinewidth\":0,\"ticks\":\"\"}},\"type\":\"scatter3d\"}],\"scattercarpet\":[{\"marker\":{\"colorbar\":{\"outlinewidth\":0,\"ticks\":\"\"}},\"type\":\"scattercarpet\"}],\"scattergeo\":[{\"marker\":{\"colorbar\":{\"outlinewidth\":0,\"ticks\":\"\"}},\"type\":\"scattergeo\"}],\"scattergl\":[{\"marker\":{\"colorbar\":{\"outlinewidth\":0,\"ticks\":\"\"}},\"type\":\"scattergl\"}],\"scattermapbox\":[{\"marker\":{\"colorbar\":{\"outlinewidth\":0,\"ticks\":\"\"}},\"type\":\"scattermapbox\"}],\"scatterpolar\":[{\"marker\":{\"colorbar\":{\"outlinewidth\":0,\"ticks\":\"\"}},\"type\":\"scatterpolar\"}],\"scatterpolargl\":[{\"marker\":{\"colorbar\":{\"outlinewidth\":0,\"ticks\":\"\"}},\"type\":\"scatterpolargl\"}],\"scatterternary\":[{\"marker\":{\"colorbar\":{\"outlinewidth\":0,\"ticks\":\"\"}},\"type\":\"scatterternary\"}],\"surface\":[{\"colorbar\":{\"outlinewidth\":0,\"ticks\":\"\"},\"colorscale\":[[0.0,\"#0d0887\"],[0.1111111111111111,\"#46039f\"],[0.2222222222222222,\"#7201a8\"],[0.3333333333333333,\"#9c179e\"],[0.4444444444444444,\"#bd3786\"],[0.5555555555555556,\"#d8576b\"],[0.6666666666666666,\"#ed7953\"],[0.7777777777777778,\"#fb9f3a\"],[0.8888888888888888,\"#fdca26\"],[1.0,\"#f0f921\"]],\"type\":\"surface\"}],\"table\":[{\"cells\":{\"fill\":{\"color\":\"#EBF0F8\"},\"line\":{\"color\":\"white\"}},\"header\":{\"fill\":{\"color\":\"#C8D4E3\"},\"line\":{\"color\":\"white\"}},\"type\":\"table\"}]},\"layout\":{\"annotationdefaults\":{\"arrowcolor\":\"#2a3f5f\",\"arrowhead\":0,\"arrowwidth\":1},\"autotypenumbers\":\"strict\",\"coloraxis\":{\"colorbar\":{\"outlinewidth\":0,\"ticks\":\"\"}},\"colorscale\":{\"diverging\":[[0,\"#8e0152\"],[0.1,\"#c51b7d\"],[0.2,\"#de77ae\"],[0.3,\"#f1b6da\"],[0.4,\"#fde0ef\"],[0.5,\"#f7f7f7\"],[0.6,\"#e6f5d0\"],[0.7,\"#b8e186\"],[0.8,\"#7fbc41\"],[0.9,\"#4d9221\"],[1,\"#276419\"]],\"sequential\":[[0.0,\"#0d0887\"],[0.1111111111111111,\"#46039f\"],[0.2222222222222222,\"#7201a8\"],[0.3333333333333333,\"#9c179e\"],[0.4444444444444444,\"#bd3786\"],[0.5555555555555556,\"#d8576b\"],[0.6666666666666666,\"#ed7953\"],[0.7777777777777778,\"#fb9f3a\"],[0.8888888888888888,\"#fdca26\"],[1.0,\"#f0f921\"]],\"sequentialminus\":[[0.0,\"#0d0887\"],[0.1111111111111111,\"#46039f\"],[0.2222222222222222,\"#7201a8\"],[0.3333333333333333,\"#9c179e\"],[0.4444444444444444,\"#bd3786\"],[0.5555555555555556,\"#d8576b\"],[0.6666666666666666,\"#ed7953\"],[0.7777777777777778,\"#fb9f3a\"],[0.8888888888888888,\"#fdca26\"],[1.0,\"#f0f921\"]]},\"colorway\":[\"#636efa\",\"#EF553B\",\"#00cc96\",\"#ab63fa\",\"#FFA15A\",\"#19d3f3\",\"#FF6692\",\"#B6E880\",\"#FF97FF\",\"#FECB52\"],\"font\":{\"color\":\"#2a3f5f\"},\"geo\":{\"bgcolor\":\"white\",\"lakecolor\":\"white\",\"landcolor\":\"#E5ECF6\",\"showlakes\":true,\"showland\":true,\"subunitcolor\":\"white\"},\"hoverlabel\":{\"align\":\"left\"},\"hovermode\":\"closest\",\"mapbox\":{\"style\":\"light\"},\"paper_bgcolor\":\"white\",\"plot_bgcolor\":\"#E5ECF6\",\"polar\":{\"angularaxis\":{\"gridcolor\":\"white\",\"linecolor\":\"white\",\"ticks\":\"\"},\"bgcolor\":\"#E5ECF6\",\"radialaxis\":{\"gridcolor\":\"white\",\"linecolor\":\"white\",\"ticks\":\"\"}},\"scene\":{\"xaxis\":{\"backgroundcolor\":\"#E5ECF6\",\"gridcolor\":\"white\",\"gridwidth\":2,\"linecolor\":\"white\",\"showbackground\":true,\"ticks\":\"\",\"zerolinecolor\":\"white\"},\"yaxis\":{\"backgroundcolor\":\"#E5ECF6\",\"gridcolor\":\"white\",\"gridwidth\":2,\"linecolor\":\"white\",\"showbackground\":true,\"ticks\":\"\",\"zerolinecolor\":\"white\"},\"zaxis\":{\"backgroundcolor\":\"#E5ECF6\",\"gridcolor\":\"white\",\"gridwidth\":2,\"linecolor\":\"white\",\"showbackground\":true,\"ticks\":\"\",\"zerolinecolor\":\"white\"}},\"shapedefaults\":{\"line\":{\"color\":\"#2a3f5f\"}},\"ternary\":{\"aaxis\":{\"gridcolor\":\"white\",\"linecolor\":\"white\",\"ticks\":\"\"},\"baxis\":{\"gridcolor\":\"white\",\"linecolor\":\"white\",\"ticks\":\"\"},\"bgcolor\":\"#E5ECF6\",\"caxis\":{\"gridcolor\":\"white\",\"linecolor\":\"white\",\"ticks\":\"\"}},\"title\":{\"x\":0.05},\"xaxis\":{\"automargin\":true,\"gridcolor\":\"white\",\"linecolor\":\"white\",\"ticks\":\"\",\"title\":{\"standoff\":15},\"zerolinecolor\":\"white\",\"zerolinewidth\":2},\"yaxis\":{\"automargin\":true,\"gridcolor\":\"white\",\"linecolor\":\"white\",\"ticks\":\"\",\"title\":{\"standoff\":15},\"zerolinecolor\":\"white\",\"zerolinewidth\":2}}},\"title\":{\"font\":{\"color\":\"#4D5663\"}},\"xaxis\":{\"gridcolor\":\"#E1E5ED\",\"showgrid\":true,\"tickfont\":{\"color\":\"#4D5663\"},\"title\":{\"font\":{\"color\":\"#4D5663\"},\"text\":\"\"},\"zerolinecolor\":\"#E1E5ED\"},\"yaxis\":{\"gridcolor\":\"#E1E5ED\",\"showgrid\":true,\"tickfont\":{\"color\":\"#4D5663\"},\"title\":{\"font\":{\"color\":\"#4D5663\"},\"text\":\"\"},\"zerolinecolor\":\"#E1E5ED\"}},                        {\"showLink\": true, \"linkText\": \"Export to plot.ly\", \"plotlyServerURL\": \"https://plot.ly\", \"responsive\": true}                    ).then(function(){\n",
       "                            \n",
       "var gd = document.getElementById('0b187b2e-191d-4e88-b90f-f1b17f16a3e4');\n",
       "var x = new MutationObserver(function (mutations, observer) {{\n",
       "        var display = window.getComputedStyle(gd).display;\n",
       "        if (!display || display === 'none') {{\n",
       "            console.log([gd, 'removed!']);\n",
       "            Plotly.purge(gd);\n",
       "            observer.disconnect();\n",
       "        }}\n",
       "}});\n",
       "\n",
       "// Listen for the removal of the full notebook cells\n",
       "var notebookContainer = gd.closest('#notebook-container');\n",
       "if (notebookContainer) {{\n",
       "    x.observe(notebookContainer, {childList: true});\n",
       "}}\n",
       "\n",
       "// Listen for the clearing of the current output cell\n",
       "var outputEl = gd.closest('.output');\n",
       "if (outputEl) {{\n",
       "    x.observe(outputEl, {childList: true});\n",
       "}}\n",
       "\n",
       "                        })                };                });            </script>        </div>"
      ],
      "application/vnd.plotly.v1+json": {
       "config": {
        "linkText": "Export to plot.ly",
        "plotlyServerURL": "https://plot.ly",
        "showLink": true
       },
       "data": [
        {
         "marker": {
          "color": "rgba(255, 153, 51, 0.6)",
          "line": {
           "color": "rgba(255, 153, 51, 1.0)",
           "width": 1
          }
         },
         "name": "None",
         "orientation": "v",
         "text": "",
         "type": "bar",
         "x": [
          "A",
          "B",
          "C",
          "D"
         ],
         "y": [
          -4.834909567618728,
          -2.7878550848270143,
          -1.201657700238965,
          0.22631813516352012
         ]
        }
       ],
       "layout": {
        "legend": {
         "bgcolor": "#F5F6F9",
         "font": {
          "color": "#4D5663"
         }
        },
        "paper_bgcolor": "#F5F6F9",
        "plot_bgcolor": "#F5F6F9",
        "template": {
         "data": {
          "bar": [
           {
            "error_x": {
             "color": "#2a3f5f"
            },
            "error_y": {
             "color": "#2a3f5f"
            },
            "marker": {
             "line": {
              "color": "#E5ECF6",
              "width": 0.5
             },
             "pattern": {
              "fillmode": "overlay",
              "size": 10,
              "solidity": 0.2
             }
            },
            "type": "bar"
           }
          ],
          "barpolar": [
           {
            "marker": {
             "line": {
              "color": "#E5ECF6",
              "width": 0.5
             },
             "pattern": {
              "fillmode": "overlay",
              "size": 10,
              "solidity": 0.2
             }
            },
            "type": "barpolar"
           }
          ],
          "carpet": [
           {
            "aaxis": {
             "endlinecolor": "#2a3f5f",
             "gridcolor": "white",
             "linecolor": "white",
             "minorgridcolor": "white",
             "startlinecolor": "#2a3f5f"
            },
            "baxis": {
             "endlinecolor": "#2a3f5f",
             "gridcolor": "white",
             "linecolor": "white",
             "minorgridcolor": "white",
             "startlinecolor": "#2a3f5f"
            },
            "type": "carpet"
           }
          ],
          "choropleth": [
           {
            "colorbar": {
             "outlinewidth": 0,
             "ticks": ""
            },
            "type": "choropleth"
           }
          ],
          "contour": [
           {
            "colorbar": {
             "outlinewidth": 0,
             "ticks": ""
            },
            "colorscale": [
             [
              0,
              "#0d0887"
             ],
             [
              0.1111111111111111,
              "#46039f"
             ],
             [
              0.2222222222222222,
              "#7201a8"
             ],
             [
              0.3333333333333333,
              "#9c179e"
             ],
             [
              0.4444444444444444,
              "#bd3786"
             ],
             [
              0.5555555555555556,
              "#d8576b"
             ],
             [
              0.6666666666666666,
              "#ed7953"
             ],
             [
              0.7777777777777778,
              "#fb9f3a"
             ],
             [
              0.8888888888888888,
              "#fdca26"
             ],
             [
              1,
              "#f0f921"
             ]
            ],
            "type": "contour"
           }
          ],
          "contourcarpet": [
           {
            "colorbar": {
             "outlinewidth": 0,
             "ticks": ""
            },
            "type": "contourcarpet"
           }
          ],
          "heatmap": [
           {
            "colorbar": {
             "outlinewidth": 0,
             "ticks": ""
            },
            "colorscale": [
             [
              0,
              "#0d0887"
             ],
             [
              0.1111111111111111,
              "#46039f"
             ],
             [
              0.2222222222222222,
              "#7201a8"
             ],
             [
              0.3333333333333333,
              "#9c179e"
             ],
             [
              0.4444444444444444,
              "#bd3786"
             ],
             [
              0.5555555555555556,
              "#d8576b"
             ],
             [
              0.6666666666666666,
              "#ed7953"
             ],
             [
              0.7777777777777778,
              "#fb9f3a"
             ],
             [
              0.8888888888888888,
              "#fdca26"
             ],
             [
              1,
              "#f0f921"
             ]
            ],
            "type": "heatmap"
           }
          ],
          "heatmapgl": [
           {
            "colorbar": {
             "outlinewidth": 0,
             "ticks": ""
            },
            "colorscale": [
             [
              0,
              "#0d0887"
             ],
             [
              0.1111111111111111,
              "#46039f"
             ],
             [
              0.2222222222222222,
              "#7201a8"
             ],
             [
              0.3333333333333333,
              "#9c179e"
             ],
             [
              0.4444444444444444,
              "#bd3786"
             ],
             [
              0.5555555555555556,
              "#d8576b"
             ],
             [
              0.6666666666666666,
              "#ed7953"
             ],
             [
              0.7777777777777778,
              "#fb9f3a"
             ],
             [
              0.8888888888888888,
              "#fdca26"
             ],
             [
              1,
              "#f0f921"
             ]
            ],
            "type": "heatmapgl"
           }
          ],
          "histogram": [
           {
            "marker": {
             "pattern": {
              "fillmode": "overlay",
              "size": 10,
              "solidity": 0.2
             }
            },
            "type": "histogram"
           }
          ],
          "histogram2d": [
           {
            "colorbar": {
             "outlinewidth": 0,
             "ticks": ""
            },
            "colorscale": [
             [
              0,
              "#0d0887"
             ],
             [
              0.1111111111111111,
              "#46039f"
             ],
             [
              0.2222222222222222,
              "#7201a8"
             ],
             [
              0.3333333333333333,
              "#9c179e"
             ],
             [
              0.4444444444444444,
              "#bd3786"
             ],
             [
              0.5555555555555556,
              "#d8576b"
             ],
             [
              0.6666666666666666,
              "#ed7953"
             ],
             [
              0.7777777777777778,
              "#fb9f3a"
             ],
             [
              0.8888888888888888,
              "#fdca26"
             ],
             [
              1,
              "#f0f921"
             ]
            ],
            "type": "histogram2d"
           }
          ],
          "histogram2dcontour": [
           {
            "colorbar": {
             "outlinewidth": 0,
             "ticks": ""
            },
            "colorscale": [
             [
              0,
              "#0d0887"
             ],
             [
              0.1111111111111111,
              "#46039f"
             ],
             [
              0.2222222222222222,
              "#7201a8"
             ],
             [
              0.3333333333333333,
              "#9c179e"
             ],
             [
              0.4444444444444444,
              "#bd3786"
             ],
             [
              0.5555555555555556,
              "#d8576b"
             ],
             [
              0.6666666666666666,
              "#ed7953"
             ],
             [
              0.7777777777777778,
              "#fb9f3a"
             ],
             [
              0.8888888888888888,
              "#fdca26"
             ],
             [
              1,
              "#f0f921"
             ]
            ],
            "type": "histogram2dcontour"
           }
          ],
          "mesh3d": [
           {
            "colorbar": {
             "outlinewidth": 0,
             "ticks": ""
            },
            "type": "mesh3d"
           }
          ],
          "parcoords": [
           {
            "line": {
             "colorbar": {
              "outlinewidth": 0,
              "ticks": ""
             }
            },
            "type": "parcoords"
           }
          ],
          "pie": [
           {
            "automargin": true,
            "type": "pie"
           }
          ],
          "scatter": [
           {
            "marker": {
             "colorbar": {
              "outlinewidth": 0,
              "ticks": ""
             }
            },
            "type": "scatter"
           }
          ],
          "scatter3d": [
           {
            "line": {
             "colorbar": {
              "outlinewidth": 0,
              "ticks": ""
             }
            },
            "marker": {
             "colorbar": {
              "outlinewidth": 0,
              "ticks": ""
             }
            },
            "type": "scatter3d"
           }
          ],
          "scattercarpet": [
           {
            "marker": {
             "colorbar": {
              "outlinewidth": 0,
              "ticks": ""
             }
            },
            "type": "scattercarpet"
           }
          ],
          "scattergeo": [
           {
            "marker": {
             "colorbar": {
              "outlinewidth": 0,
              "ticks": ""
             }
            },
            "type": "scattergeo"
           }
          ],
          "scattergl": [
           {
            "marker": {
             "colorbar": {
              "outlinewidth": 0,
              "ticks": ""
             }
            },
            "type": "scattergl"
           }
          ],
          "scattermapbox": [
           {
            "marker": {
             "colorbar": {
              "outlinewidth": 0,
              "ticks": ""
             }
            },
            "type": "scattermapbox"
           }
          ],
          "scatterpolar": [
           {
            "marker": {
             "colorbar": {
              "outlinewidth": 0,
              "ticks": ""
             }
            },
            "type": "scatterpolar"
           }
          ],
          "scatterpolargl": [
           {
            "marker": {
             "colorbar": {
              "outlinewidth": 0,
              "ticks": ""
             }
            },
            "type": "scatterpolargl"
           }
          ],
          "scatterternary": [
           {
            "marker": {
             "colorbar": {
              "outlinewidth": 0,
              "ticks": ""
             }
            },
            "type": "scatterternary"
           }
          ],
          "surface": [
           {
            "colorbar": {
             "outlinewidth": 0,
             "ticks": ""
            },
            "colorscale": [
             [
              0,
              "#0d0887"
             ],
             [
              0.1111111111111111,
              "#46039f"
             ],
             [
              0.2222222222222222,
              "#7201a8"
             ],
             [
              0.3333333333333333,
              "#9c179e"
             ],
             [
              0.4444444444444444,
              "#bd3786"
             ],
             [
              0.5555555555555556,
              "#d8576b"
             ],
             [
              0.6666666666666666,
              "#ed7953"
             ],
             [
              0.7777777777777778,
              "#fb9f3a"
             ],
             [
              0.8888888888888888,
              "#fdca26"
             ],
             [
              1,
              "#f0f921"
             ]
            ],
            "type": "surface"
           }
          ],
          "table": [
           {
            "cells": {
             "fill": {
              "color": "#EBF0F8"
             },
             "line": {
              "color": "white"
             }
            },
            "header": {
             "fill": {
              "color": "#C8D4E3"
             },
             "line": {
              "color": "white"
             }
            },
            "type": "table"
           }
          ]
         },
         "layout": {
          "annotationdefaults": {
           "arrowcolor": "#2a3f5f",
           "arrowhead": 0,
           "arrowwidth": 1
          },
          "autotypenumbers": "strict",
          "coloraxis": {
           "colorbar": {
            "outlinewidth": 0,
            "ticks": ""
           }
          },
          "colorscale": {
           "diverging": [
            [
             0,
             "#8e0152"
            ],
            [
             0.1,
             "#c51b7d"
            ],
            [
             0.2,
             "#de77ae"
            ],
            [
             0.3,
             "#f1b6da"
            ],
            [
             0.4,
             "#fde0ef"
            ],
            [
             0.5,
             "#f7f7f7"
            ],
            [
             0.6,
             "#e6f5d0"
            ],
            [
             0.7,
             "#b8e186"
            ],
            [
             0.8,
             "#7fbc41"
            ],
            [
             0.9,
             "#4d9221"
            ],
            [
             1,
             "#276419"
            ]
           ],
           "sequential": [
            [
             0,
             "#0d0887"
            ],
            [
             0.1111111111111111,
             "#46039f"
            ],
            [
             0.2222222222222222,
             "#7201a8"
            ],
            [
             0.3333333333333333,
             "#9c179e"
            ],
            [
             0.4444444444444444,
             "#bd3786"
            ],
            [
             0.5555555555555556,
             "#d8576b"
            ],
            [
             0.6666666666666666,
             "#ed7953"
            ],
            [
             0.7777777777777778,
             "#fb9f3a"
            ],
            [
             0.8888888888888888,
             "#fdca26"
            ],
            [
             1,
             "#f0f921"
            ]
           ],
           "sequentialminus": [
            [
             0,
             "#0d0887"
            ],
            [
             0.1111111111111111,
             "#46039f"
            ],
            [
             0.2222222222222222,
             "#7201a8"
            ],
            [
             0.3333333333333333,
             "#9c179e"
            ],
            [
             0.4444444444444444,
             "#bd3786"
            ],
            [
             0.5555555555555556,
             "#d8576b"
            ],
            [
             0.6666666666666666,
             "#ed7953"
            ],
            [
             0.7777777777777778,
             "#fb9f3a"
            ],
            [
             0.8888888888888888,
             "#fdca26"
            ],
            [
             1,
             "#f0f921"
            ]
           ]
          },
          "colorway": [
           "#636efa",
           "#EF553B",
           "#00cc96",
           "#ab63fa",
           "#FFA15A",
           "#19d3f3",
           "#FF6692",
           "#B6E880",
           "#FF97FF",
           "#FECB52"
          ],
          "font": {
           "color": "#2a3f5f"
          },
          "geo": {
           "bgcolor": "white",
           "lakecolor": "white",
           "landcolor": "#E5ECF6",
           "showlakes": true,
           "showland": true,
           "subunitcolor": "white"
          },
          "hoverlabel": {
           "align": "left"
          },
          "hovermode": "closest",
          "mapbox": {
           "style": "light"
          },
          "paper_bgcolor": "white",
          "plot_bgcolor": "#E5ECF6",
          "polar": {
           "angularaxis": {
            "gridcolor": "white",
            "linecolor": "white",
            "ticks": ""
           },
           "bgcolor": "#E5ECF6",
           "radialaxis": {
            "gridcolor": "white",
            "linecolor": "white",
            "ticks": ""
           }
          },
          "scene": {
           "xaxis": {
            "backgroundcolor": "#E5ECF6",
            "gridcolor": "white",
            "gridwidth": 2,
            "linecolor": "white",
            "showbackground": true,
            "ticks": "",
            "zerolinecolor": "white"
           },
           "yaxis": {
            "backgroundcolor": "#E5ECF6",
            "gridcolor": "white",
            "gridwidth": 2,
            "linecolor": "white",
            "showbackground": true,
            "ticks": "",
            "zerolinecolor": "white"
           },
           "zaxis": {
            "backgroundcolor": "#E5ECF6",
            "gridcolor": "white",
            "gridwidth": 2,
            "linecolor": "white",
            "showbackground": true,
            "ticks": "",
            "zerolinecolor": "white"
           }
          },
          "shapedefaults": {
           "line": {
            "color": "#2a3f5f"
           }
          },
          "ternary": {
           "aaxis": {
            "gridcolor": "white",
            "linecolor": "white",
            "ticks": ""
           },
           "baxis": {
            "gridcolor": "white",
            "linecolor": "white",
            "ticks": ""
           },
           "bgcolor": "#E5ECF6",
           "caxis": {
            "gridcolor": "white",
            "linecolor": "white",
            "ticks": ""
           }
          },
          "title": {
           "x": 0.05
          },
          "xaxis": {
           "automargin": true,
           "gridcolor": "white",
           "linecolor": "white",
           "ticks": "",
           "title": {
            "standoff": 15
           },
           "zerolinecolor": "white",
           "zerolinewidth": 2
          },
          "yaxis": {
           "automargin": true,
           "gridcolor": "white",
           "linecolor": "white",
           "ticks": "",
           "title": {
            "standoff": 15
           },
           "zerolinecolor": "white",
           "zerolinewidth": 2
          }
         }
        },
        "title": {
         "font": {
          "color": "#4D5663"
         }
        },
        "xaxis": {
         "gridcolor": "#E1E5ED",
         "showgrid": true,
         "tickfont": {
          "color": "#4D5663"
         },
         "title": {
          "font": {
           "color": "#4D5663"
          },
          "text": ""
         },
         "zerolinecolor": "#E1E5ED"
        },
        "yaxis": {
         "gridcolor": "#E1E5ED",
         "showgrid": true,
         "tickfont": {
          "color": "#4D5663"
         },
         "title": {
          "font": {
           "color": "#4D5663"
          },
          "text": ""
         },
         "zerolinecolor": "#E1E5ED"
        }
       }
      }
     },
     "metadata": {}
    }
   ],
   "metadata": {}
  },
  {
   "cell_type": "code",
   "execution_count": 20,
   "source": [
    "df.iplot(kind='box')   # click on A B C D to switch them on/off ie interactive"
   ],
   "outputs": [
    {
     "output_type": "display_data",
     "data": {
      "text/html": [
       "<div>                            <div id=\"8a08240f-ab46-40a1-9cca-987ee3ce9756\" class=\"plotly-graph-div\" style=\"height:525px; width:100%;\"></div>            <script type=\"text/javascript\">                require([\"plotly\"], function(Plotly) {                    window.PLOTLYENV=window.PLOTLYENV || {};\n",
       "                    window.PLOTLYENV.BASE_URL='https://plot.ly';                                    if (document.getElementById(\"8a08240f-ab46-40a1-9cca-987ee3ce9756\")) {                    Plotly.newPlot(                        \"8a08240f-ab46-40a1-9cca-987ee3ce9756\",                        [{\"boxpoints\":false,\"line\":{\"width\":1.3},\"marker\":{\"color\":\"rgba(255, 153, 51, 1.0)\"},\"name\":\"A\",\"orientation\":\"v\",\"type\":\"box\",\"y\":[0.42860790047642905,-0.24150461408966148,0.8033352317583001,-0.4541726165268112,-0.9932670897240472,-1.6407185774656428,1.0292734271511936,0.717201122535486,-0.8328302557547055,-0.29479504395009437,-0.7876330322200155,1.013825910413848,-0.6145438366960542,-0.42143338248421097,1.0861506220781272,1.520376664474774,-0.01777198223317564,-1.6643908381651553,0.08997243361014205,0.1814431345228801,-0.7291269758207538,0.30441811909622163,-0.3331215193748714,-2.443509759910543,1.4038049617436101,-0.5289496253542012,0.5762209244034456,1.7473983249450766,1.1750635751298635,0.3439285942573213,0.06695512250429193,-1.358152089819541,1.3259956980602265,0.9230291574367999,2.1274268735237967,0.01609166317697218,-0.008794112180982546,-0.13078079279846982,-0.9773233004907493,0.42408560898470316,0.4781801921439303,-1.2302375288956056,-2.215534588013989,-0.6173209910577786,0.6873014952127062,-0.20768023471795324,1.3807411511048835,1.5676923985995384,-1.3535828954722193,0.6688398215891643,-1.9417660542959037,0.6086396296874507,-1.6891089331095988,0.8404967201254736,-0.25611772522792703,0.5649218453129284,-1.2455400184288734,0.08511126958214074,-1.2445956780254495,0.693274162901264,-0.555786574996747,0.014188061775017123,0.5756404633679048,-0.07502021616099822,0.8196550337696089,0.14719285707343466,2.0721531962168656,-0.05089514477070536,0.9178935846337136,0.8082192273766469,-0.9342785145415695,-0.7892361220520734,-1.0528167075806287,-0.900300147200952,-0.06378348260655418,-1.4058717991735044,-0.04637611154553381,-0.45343802555693713,0.3609959799788183,-0.9321964504655148,1.9639263256216999,-0.8513017162060174,-1.177257530160419,0.25079731529057353,-0.6455488140585096,-0.3597892849349049,-0.3522676026628601,0.03400583986455085,-0.4119885784095581,-0.668910236483875,0.6638172609013666,-0.09892944489312143,-1.9553751667413874,1.0932030834818462,0.7807217842469781,0.8029768142523035,-1.2272581484898053,-0.6477754460806492,1.9529843160513334,-0.84237910998657]},{\"boxpoints\":false,\"line\":{\"width\":1.3},\"marker\":{\"color\":\"rgba(55, 128, 191, 1.0)\"},\"name\":\"B\",\"orientation\":\"v\",\"type\":\"box\",\"y\":[-0.39325974971391525,0.05564646570619147,0.34780196590089396,1.6734131674208959,-0.023029982837105743,1.0012476696632717,0.18703713105734537,1.262120083305586,-0.8113828042042744,-0.36389618183312794,0.3182825345578306,0.26561207372775414,-0.31710083987767906,0.3307012661878355,-0.3827743646829566,-0.07784500406315373,0.07184939550950868,1.8600532821137243,-1.3966157050739068,0.6640713923826992,-0.8492037274388488,-0.6263363686461829,1.6250038488954621,-0.5236195883778583,-2.16345391306942,1.3029655695823983,0.2283173236958734,1.7370577014233897,-0.029732253191304518,-2.0533396952947993,-0.0015571473203474543,1.1581858115689212,0.6129394841978791,2.784380155305771,-0.7314673000828203,0.3385127274541624,-0.7687161829470321,1.543242396773852,-0.717193509958402,0.37699569673225664,-1.2396619940727844,0.4550492681869588,-2.0543094997835243,1.3600779678873771,-1.244574082682165,-2.1843312309789535,-0.6296399403616632,0.2871687175955069,-1.8976766970498358,-1.746810132351409,1.1721777502639719,0.12975308001389982,-0.906679091917525,-0.8235255560578126,1.629416680723812,-0.3258256193559577,0.3183405316268972,0.19960564744461226,-2.350317827213011,0.5704819720769283,-0.572177939912174,0.47504228909483914,0.9978013795099565,0.03284178097168736,1.7998520265955422,1.1791578061649604,0.6725374757403919,-0.18452181673013568,-1.3271976219839603,-1.4712235163192122,1.5058786374354427,0.20716152593826656,-0.8002141505754706,-0.23591613710914958,0.4176022846377921,-0.7322776036272107,-0.7501160039715231,0.2246809529639941,0.49107947550493974,-1.366060904827018,-1.873047410185736,0.5962151440823994,0.17473240351086952,-0.25176512171647975,0.8296301643863834,-0.17204697391626958,1.524750974056855,1.4053490752537185,-1.2809051231732484,0.49433207086912184,0.13477043390008417,-0.7369883578766098,-1.6833329347466606,-1.1611543228587384,0.16417302030913833,-2.55392965531275,0.554411998328491,0.9248809515936174,0.07974476121974629,1.244761109401404]},{\"boxpoints\":false,\"line\":{\"width\":1.3},\"marker\":{\"color\":\"rgba(50, 171, 96, 1.0)\"},\"name\":\"C\",\"orientation\":\"v\",\"type\":\"box\",\"y\":[0.20867975771520808,-0.539968732680375,-0.10451406860936421,0.6807906941541452,-0.6237061132537227,1.1645819493681946,-0.20319634501381628,-1.8719734890851034,0.19006397038468342,0.7426829780297319,1.5866853683306084,-0.8830991836928733,1.329381939728609,-0.36910943637848315,-0.1259704216318707,0.7599399179503843,0.2570493559742786,1.0102501201538379,-0.8301636846246374,0.9098700533567373,1.272308317853795,0.27644901365821556,-0.5307842275179776,0.6928510797756365,-0.7467081888636957,1.0864734312542663,-0.4088395415896088,-1.3297602651780072,-1.441235068785222,-0.15212789644905217,0.9578071542227202,-0.07460142157038534,0.5113698014381537,-0.7585669417479952,-1.7210677610542262,0.6458738210296548,-0.7221738362033334,-0.09708844896140927,0.34294090340127364,-1.0737713509953322,-1.3205133194548362,0.4033547123960727,0.06702499803391719,-0.3894870046425358,0.5545246926764152,-0.3936172349445884,0.5204415204166847,-2.296869709022682,-1.0722455437645189,-0.0076908262706479645,-0.8497611342012257,-0.5418473928237962,0.6825865011945559,1.528074978722198,0.7421162493465568,-1.0501963591592836,1.5291754301353226,0.9965167862689587,-0.8002793081334799,1.1160758258201309,2.416553937349119,-0.7323025322245335,1.045911989237607,-2.3075278310782483,-0.11065972894159559,1.6167179621416072,-1.5706737901917416,-0.176117048077122,0.4745874051396574,-0.461148688308992,-0.1907540082939412,0.2099327698711436,-1.2321302971466992,0.6032727936313779,1.4648497803732206,0.3072917431775034,1.0415220041526154,0.15940004078617948,-0.8020956078401368,-0.5019052846097677,-0.8158122916130118,0.9735286018887148,0.49382864652704367,-0.149893623001522,0.7465151638614091,1.41789646851737,0.42684270812646524,-1.9110647146667514,-1.1593244688815125,-0.8502884309003719,-0.4656426710483235,1.7640395575750731,-0.7333153880908555,-0.6169666283105139,-1.4096884439956874,-0.3822792755757565,2.1510015077400606,-0.480261706871716,-0.5583127368388549,-0.332192650314338]},{\"boxpoints\":false,\"line\":{\"width\":1.3},\"marker\":{\"color\":\"rgba(128, 0, 128, 1.0)\"},\"name\":\"D\",\"orientation\":\"v\",\"type\":\"box\",\"y\":[1.1927052467737471,0.6823505953261061,-1.7699977924906336,-0.4409417245274874,-0.4027560996259744,1.3855538454435494,0.25941520948138114,0.45409670225836857,-1.828238319014977,-0.2430449199174727,0.2647028823015733,1.4415053080261364,1.073705430987225,0.4866361960213816,1.4824416894323167,0.07105310534559514,0.13215237042095185,-1.2120350758827654,0.6581602382531442,-0.7675070609238718,0.9668208021638547,-0.7946618684229247,1.7144331828714836,0.6183624129108227,0.32792919874517806,-1.4384318058696666,-1.896424554138019,1.3936239781195967,-0.5608297156821659,0.6174363013840861,-0.3920373006091651,0.9361108376422885,-1.215021028570566,0.8401590571870553,2.3185983729391744,0.2455730696322708,0.19536172069491808,1.4623879346019342,1.6091859374219266,-1.1194909687215293,-1.2857377279485118,0.9585464930884179,-2.0409079776428296,-0.3516153660537357,1.1247468667742029,-0.6225409273299736,-0.881020925119876,-0.6288513210560867,1.0181706822135164,0.43486023954956127,1.0735404839177463,-0.8360456949946155,-1.3071731796213288,-0.07262526518920134,0.5259937944952808,0.7758932426331349,-1.2246509725047636,0.7812189441750645,-0.9343539498244041,-0.1670384776565554,1.090640883944806,-1.2034828032498064,0.25473828806871673,0.8635343083832683,0.3625951607961471,-0.2195462221424108,-0.7390148935282446,0.2050754290124465,-0.5872703781784867,0.6724208793894313,0.4445472943607837,0.6485431478865128,-0.013995098131496525,-1.8286239296369833,0.4379298665364222,0.36020393470459283,-0.055472205298219925,-0.9817455885806337,-1.0867258660214782,0.9792867549289266,-0.39095614962872743,-1.2431321852725168,0.6483194288423902,-0.7920970509807383,-0.3546536488679633,-1.6103360489908431,1.3053501829720535,1.145556735167566,-0.6264207226268598,-0.21363957491562746,-0.6847452297725517,1.2131865236514339,-1.7478252431183574,1.209465948879976,0.43519122902619073,-0.15306143209734444,-1.3114763939089504,-0.2031965018915055,-1.5469322006075121,0.45462915216522054]}],                        {\"legend\":{\"bgcolor\":\"#F5F6F9\",\"font\":{\"color\":\"#4D5663\"}},\"paper_bgcolor\":\"#F5F6F9\",\"plot_bgcolor\":\"#F5F6F9\",\"template\":{\"data\":{\"bar\":[{\"error_x\":{\"color\":\"#2a3f5f\"},\"error_y\":{\"color\":\"#2a3f5f\"},\"marker\":{\"line\":{\"color\":\"#E5ECF6\",\"width\":0.5},\"pattern\":{\"fillmode\":\"overlay\",\"size\":10,\"solidity\":0.2}},\"type\":\"bar\"}],\"barpolar\":[{\"marker\":{\"line\":{\"color\":\"#E5ECF6\",\"width\":0.5},\"pattern\":{\"fillmode\":\"overlay\",\"size\":10,\"solidity\":0.2}},\"type\":\"barpolar\"}],\"carpet\":[{\"aaxis\":{\"endlinecolor\":\"#2a3f5f\",\"gridcolor\":\"white\",\"linecolor\":\"white\",\"minorgridcolor\":\"white\",\"startlinecolor\":\"#2a3f5f\"},\"baxis\":{\"endlinecolor\":\"#2a3f5f\",\"gridcolor\":\"white\",\"linecolor\":\"white\",\"minorgridcolor\":\"white\",\"startlinecolor\":\"#2a3f5f\"},\"type\":\"carpet\"}],\"choropleth\":[{\"colorbar\":{\"outlinewidth\":0,\"ticks\":\"\"},\"type\":\"choropleth\"}],\"contour\":[{\"colorbar\":{\"outlinewidth\":0,\"ticks\":\"\"},\"colorscale\":[[0.0,\"#0d0887\"],[0.1111111111111111,\"#46039f\"],[0.2222222222222222,\"#7201a8\"],[0.3333333333333333,\"#9c179e\"],[0.4444444444444444,\"#bd3786\"],[0.5555555555555556,\"#d8576b\"],[0.6666666666666666,\"#ed7953\"],[0.7777777777777778,\"#fb9f3a\"],[0.8888888888888888,\"#fdca26\"],[1.0,\"#f0f921\"]],\"type\":\"contour\"}],\"contourcarpet\":[{\"colorbar\":{\"outlinewidth\":0,\"ticks\":\"\"},\"type\":\"contourcarpet\"}],\"heatmap\":[{\"colorbar\":{\"outlinewidth\":0,\"ticks\":\"\"},\"colorscale\":[[0.0,\"#0d0887\"],[0.1111111111111111,\"#46039f\"],[0.2222222222222222,\"#7201a8\"],[0.3333333333333333,\"#9c179e\"],[0.4444444444444444,\"#bd3786\"],[0.5555555555555556,\"#d8576b\"],[0.6666666666666666,\"#ed7953\"],[0.7777777777777778,\"#fb9f3a\"],[0.8888888888888888,\"#fdca26\"],[1.0,\"#f0f921\"]],\"type\":\"heatmap\"}],\"heatmapgl\":[{\"colorbar\":{\"outlinewidth\":0,\"ticks\":\"\"},\"colorscale\":[[0.0,\"#0d0887\"],[0.1111111111111111,\"#46039f\"],[0.2222222222222222,\"#7201a8\"],[0.3333333333333333,\"#9c179e\"],[0.4444444444444444,\"#bd3786\"],[0.5555555555555556,\"#d8576b\"],[0.6666666666666666,\"#ed7953\"],[0.7777777777777778,\"#fb9f3a\"],[0.8888888888888888,\"#fdca26\"],[1.0,\"#f0f921\"]],\"type\":\"heatmapgl\"}],\"histogram\":[{\"marker\":{\"pattern\":{\"fillmode\":\"overlay\",\"size\":10,\"solidity\":0.2}},\"type\":\"histogram\"}],\"histogram2d\":[{\"colorbar\":{\"outlinewidth\":0,\"ticks\":\"\"},\"colorscale\":[[0.0,\"#0d0887\"],[0.1111111111111111,\"#46039f\"],[0.2222222222222222,\"#7201a8\"],[0.3333333333333333,\"#9c179e\"],[0.4444444444444444,\"#bd3786\"],[0.5555555555555556,\"#d8576b\"],[0.6666666666666666,\"#ed7953\"],[0.7777777777777778,\"#fb9f3a\"],[0.8888888888888888,\"#fdca26\"],[1.0,\"#f0f921\"]],\"type\":\"histogram2d\"}],\"histogram2dcontour\":[{\"colorbar\":{\"outlinewidth\":0,\"ticks\":\"\"},\"colorscale\":[[0.0,\"#0d0887\"],[0.1111111111111111,\"#46039f\"],[0.2222222222222222,\"#7201a8\"],[0.3333333333333333,\"#9c179e\"],[0.4444444444444444,\"#bd3786\"],[0.5555555555555556,\"#d8576b\"],[0.6666666666666666,\"#ed7953\"],[0.7777777777777778,\"#fb9f3a\"],[0.8888888888888888,\"#fdca26\"],[1.0,\"#f0f921\"]],\"type\":\"histogram2dcontour\"}],\"mesh3d\":[{\"colorbar\":{\"outlinewidth\":0,\"ticks\":\"\"},\"type\":\"mesh3d\"}],\"parcoords\":[{\"line\":{\"colorbar\":{\"outlinewidth\":0,\"ticks\":\"\"}},\"type\":\"parcoords\"}],\"pie\":[{\"automargin\":true,\"type\":\"pie\"}],\"scatter\":[{\"marker\":{\"colorbar\":{\"outlinewidth\":0,\"ticks\":\"\"}},\"type\":\"scatter\"}],\"scatter3d\":[{\"line\":{\"colorbar\":{\"outlinewidth\":0,\"ticks\":\"\"}},\"marker\":{\"colorbar\":{\"outlinewidth\":0,\"ticks\":\"\"}},\"type\":\"scatter3d\"}],\"scattercarpet\":[{\"marker\":{\"colorbar\":{\"outlinewidth\":0,\"ticks\":\"\"}},\"type\":\"scattercarpet\"}],\"scattergeo\":[{\"marker\":{\"colorbar\":{\"outlinewidth\":0,\"ticks\":\"\"}},\"type\":\"scattergeo\"}],\"scattergl\":[{\"marker\":{\"colorbar\":{\"outlinewidth\":0,\"ticks\":\"\"}},\"type\":\"scattergl\"}],\"scattermapbox\":[{\"marker\":{\"colorbar\":{\"outlinewidth\":0,\"ticks\":\"\"}},\"type\":\"scattermapbox\"}],\"scatterpolar\":[{\"marker\":{\"colorbar\":{\"outlinewidth\":0,\"ticks\":\"\"}},\"type\":\"scatterpolar\"}],\"scatterpolargl\":[{\"marker\":{\"colorbar\":{\"outlinewidth\":0,\"ticks\":\"\"}},\"type\":\"scatterpolargl\"}],\"scatterternary\":[{\"marker\":{\"colorbar\":{\"outlinewidth\":0,\"ticks\":\"\"}},\"type\":\"scatterternary\"}],\"surface\":[{\"colorbar\":{\"outlinewidth\":0,\"ticks\":\"\"},\"colorscale\":[[0.0,\"#0d0887\"],[0.1111111111111111,\"#46039f\"],[0.2222222222222222,\"#7201a8\"],[0.3333333333333333,\"#9c179e\"],[0.4444444444444444,\"#bd3786\"],[0.5555555555555556,\"#d8576b\"],[0.6666666666666666,\"#ed7953\"],[0.7777777777777778,\"#fb9f3a\"],[0.8888888888888888,\"#fdca26\"],[1.0,\"#f0f921\"]],\"type\":\"surface\"}],\"table\":[{\"cells\":{\"fill\":{\"color\":\"#EBF0F8\"},\"line\":{\"color\":\"white\"}},\"header\":{\"fill\":{\"color\":\"#C8D4E3\"},\"line\":{\"color\":\"white\"}},\"type\":\"table\"}]},\"layout\":{\"annotationdefaults\":{\"arrowcolor\":\"#2a3f5f\",\"arrowhead\":0,\"arrowwidth\":1},\"autotypenumbers\":\"strict\",\"coloraxis\":{\"colorbar\":{\"outlinewidth\":0,\"ticks\":\"\"}},\"colorscale\":{\"diverging\":[[0,\"#8e0152\"],[0.1,\"#c51b7d\"],[0.2,\"#de77ae\"],[0.3,\"#f1b6da\"],[0.4,\"#fde0ef\"],[0.5,\"#f7f7f7\"],[0.6,\"#e6f5d0\"],[0.7,\"#b8e186\"],[0.8,\"#7fbc41\"],[0.9,\"#4d9221\"],[1,\"#276419\"]],\"sequential\":[[0.0,\"#0d0887\"],[0.1111111111111111,\"#46039f\"],[0.2222222222222222,\"#7201a8\"],[0.3333333333333333,\"#9c179e\"],[0.4444444444444444,\"#bd3786\"],[0.5555555555555556,\"#d8576b\"],[0.6666666666666666,\"#ed7953\"],[0.7777777777777778,\"#fb9f3a\"],[0.8888888888888888,\"#fdca26\"],[1.0,\"#f0f921\"]],\"sequentialminus\":[[0.0,\"#0d0887\"],[0.1111111111111111,\"#46039f\"],[0.2222222222222222,\"#7201a8\"],[0.3333333333333333,\"#9c179e\"],[0.4444444444444444,\"#bd3786\"],[0.5555555555555556,\"#d8576b\"],[0.6666666666666666,\"#ed7953\"],[0.7777777777777778,\"#fb9f3a\"],[0.8888888888888888,\"#fdca26\"],[1.0,\"#f0f921\"]]},\"colorway\":[\"#636efa\",\"#EF553B\",\"#00cc96\",\"#ab63fa\",\"#FFA15A\",\"#19d3f3\",\"#FF6692\",\"#B6E880\",\"#FF97FF\",\"#FECB52\"],\"font\":{\"color\":\"#2a3f5f\"},\"geo\":{\"bgcolor\":\"white\",\"lakecolor\":\"white\",\"landcolor\":\"#E5ECF6\",\"showlakes\":true,\"showland\":true,\"subunitcolor\":\"white\"},\"hoverlabel\":{\"align\":\"left\"},\"hovermode\":\"closest\",\"mapbox\":{\"style\":\"light\"},\"paper_bgcolor\":\"white\",\"plot_bgcolor\":\"#E5ECF6\",\"polar\":{\"angularaxis\":{\"gridcolor\":\"white\",\"linecolor\":\"white\",\"ticks\":\"\"},\"bgcolor\":\"#E5ECF6\",\"radialaxis\":{\"gridcolor\":\"white\",\"linecolor\":\"white\",\"ticks\":\"\"}},\"scene\":{\"xaxis\":{\"backgroundcolor\":\"#E5ECF6\",\"gridcolor\":\"white\",\"gridwidth\":2,\"linecolor\":\"white\",\"showbackground\":true,\"ticks\":\"\",\"zerolinecolor\":\"white\"},\"yaxis\":{\"backgroundcolor\":\"#E5ECF6\",\"gridcolor\":\"white\",\"gridwidth\":2,\"linecolor\":\"white\",\"showbackground\":true,\"ticks\":\"\",\"zerolinecolor\":\"white\"},\"zaxis\":{\"backgroundcolor\":\"#E5ECF6\",\"gridcolor\":\"white\",\"gridwidth\":2,\"linecolor\":\"white\",\"showbackground\":true,\"ticks\":\"\",\"zerolinecolor\":\"white\"}},\"shapedefaults\":{\"line\":{\"color\":\"#2a3f5f\"}},\"ternary\":{\"aaxis\":{\"gridcolor\":\"white\",\"linecolor\":\"white\",\"ticks\":\"\"},\"baxis\":{\"gridcolor\":\"white\",\"linecolor\":\"white\",\"ticks\":\"\"},\"bgcolor\":\"#E5ECF6\",\"caxis\":{\"gridcolor\":\"white\",\"linecolor\":\"white\",\"ticks\":\"\"}},\"title\":{\"x\":0.05},\"xaxis\":{\"automargin\":true,\"gridcolor\":\"white\",\"linecolor\":\"white\",\"ticks\":\"\",\"title\":{\"standoff\":15},\"zerolinecolor\":\"white\",\"zerolinewidth\":2},\"yaxis\":{\"automargin\":true,\"gridcolor\":\"white\",\"linecolor\":\"white\",\"ticks\":\"\",\"title\":{\"standoff\":15},\"zerolinecolor\":\"white\",\"zerolinewidth\":2}}},\"title\":{\"font\":{\"color\":\"#4D5663\"}},\"xaxis\":{\"gridcolor\":\"#E1E5ED\",\"showgrid\":true,\"tickfont\":{\"color\":\"#4D5663\"},\"title\":{\"font\":{\"color\":\"#4D5663\"},\"text\":\"\"},\"zerolinecolor\":\"#E1E5ED\"},\"yaxis\":{\"gridcolor\":\"#E1E5ED\",\"showgrid\":true,\"tickfont\":{\"color\":\"#4D5663\"},\"title\":{\"font\":{\"color\":\"#4D5663\"},\"text\":\"\"},\"zerolinecolor\":\"#E1E5ED\"}},                        {\"showLink\": true, \"linkText\": \"Export to plot.ly\", \"plotlyServerURL\": \"https://plot.ly\", \"responsive\": true}                    ).then(function(){\n",
       "                            \n",
       "var gd = document.getElementById('8a08240f-ab46-40a1-9cca-987ee3ce9756');\n",
       "var x = new MutationObserver(function (mutations, observer) {{\n",
       "        var display = window.getComputedStyle(gd).display;\n",
       "        if (!display || display === 'none') {{\n",
       "            console.log([gd, 'removed!']);\n",
       "            Plotly.purge(gd);\n",
       "            observer.disconnect();\n",
       "        }}\n",
       "}});\n",
       "\n",
       "// Listen for the removal of the full notebook cells\n",
       "var notebookContainer = gd.closest('#notebook-container');\n",
       "if (notebookContainer) {{\n",
       "    x.observe(notebookContainer, {childList: true});\n",
       "}}\n",
       "\n",
       "// Listen for the clearing of the current output cell\n",
       "var outputEl = gd.closest('.output');\n",
       "if (outputEl) {{\n",
       "    x.observe(outputEl, {childList: true});\n",
       "}}\n",
       "\n",
       "                        })                };                });            </script>        </div>"
      ],
      "application/vnd.plotly.v1+json": {
       "config": {
        "linkText": "Export to plot.ly",
        "plotlyServerURL": "https://plot.ly",
        "showLink": true
       },
       "data": [
        {
         "boxpoints": false,
         "line": {
          "width": 1.3
         },
         "marker": {
          "color": "rgba(255, 153, 51, 1.0)"
         },
         "name": "A",
         "orientation": "v",
         "type": "box",
         "y": [
          0.42860790047642905,
          -0.24150461408966148,
          0.8033352317583001,
          -0.4541726165268112,
          -0.9932670897240472,
          -1.6407185774656428,
          1.0292734271511936,
          0.717201122535486,
          -0.8328302557547055,
          -0.29479504395009437,
          -0.7876330322200155,
          1.013825910413848,
          -0.6145438366960542,
          -0.42143338248421097,
          1.0861506220781272,
          1.520376664474774,
          -0.01777198223317564,
          -1.6643908381651553,
          0.08997243361014205,
          0.1814431345228801,
          -0.7291269758207538,
          0.30441811909622163,
          -0.3331215193748714,
          -2.443509759910543,
          1.4038049617436101,
          -0.5289496253542012,
          0.5762209244034456,
          1.7473983249450766,
          1.1750635751298635,
          0.3439285942573213,
          0.06695512250429193,
          -1.358152089819541,
          1.3259956980602265,
          0.9230291574367999,
          2.1274268735237967,
          0.01609166317697218,
          -0.008794112180982546,
          -0.13078079279846982,
          -0.9773233004907493,
          0.42408560898470316,
          0.4781801921439303,
          -1.2302375288956056,
          -2.215534588013989,
          -0.6173209910577786,
          0.6873014952127062,
          -0.20768023471795324,
          1.3807411511048835,
          1.5676923985995384,
          -1.3535828954722193,
          0.6688398215891643,
          -1.9417660542959037,
          0.6086396296874507,
          -1.6891089331095988,
          0.8404967201254736,
          -0.25611772522792703,
          0.5649218453129284,
          -1.2455400184288734,
          0.08511126958214074,
          -1.2445956780254495,
          0.693274162901264,
          -0.555786574996747,
          0.014188061775017123,
          0.5756404633679048,
          -0.07502021616099822,
          0.8196550337696089,
          0.14719285707343466,
          2.0721531962168656,
          -0.05089514477070536,
          0.9178935846337136,
          0.8082192273766469,
          -0.9342785145415695,
          -0.7892361220520734,
          -1.0528167075806287,
          -0.900300147200952,
          -0.06378348260655418,
          -1.4058717991735044,
          -0.04637611154553381,
          -0.45343802555693713,
          0.3609959799788183,
          -0.9321964504655148,
          1.9639263256216999,
          -0.8513017162060174,
          -1.177257530160419,
          0.25079731529057353,
          -0.6455488140585096,
          -0.3597892849349049,
          -0.3522676026628601,
          0.03400583986455085,
          -0.4119885784095581,
          -0.668910236483875,
          0.6638172609013666,
          -0.09892944489312143,
          -1.9553751667413874,
          1.0932030834818462,
          0.7807217842469781,
          0.8029768142523035,
          -1.2272581484898053,
          -0.6477754460806492,
          1.9529843160513334,
          -0.84237910998657
         ]
        },
        {
         "boxpoints": false,
         "line": {
          "width": 1.3
         },
         "marker": {
          "color": "rgba(55, 128, 191, 1.0)"
         },
         "name": "B",
         "orientation": "v",
         "type": "box",
         "y": [
          -0.39325974971391525,
          0.05564646570619147,
          0.34780196590089396,
          1.6734131674208959,
          -0.023029982837105743,
          1.0012476696632717,
          0.18703713105734537,
          1.262120083305586,
          -0.8113828042042744,
          -0.36389618183312794,
          0.3182825345578306,
          0.26561207372775414,
          -0.31710083987767906,
          0.3307012661878355,
          -0.3827743646829566,
          -0.07784500406315373,
          0.07184939550950868,
          1.8600532821137243,
          -1.3966157050739068,
          0.6640713923826992,
          -0.8492037274388488,
          -0.6263363686461829,
          1.6250038488954621,
          -0.5236195883778583,
          -2.16345391306942,
          1.3029655695823983,
          0.2283173236958734,
          1.7370577014233897,
          -0.029732253191304518,
          -2.0533396952947993,
          -0.0015571473203474543,
          1.1581858115689212,
          0.6129394841978791,
          2.784380155305771,
          -0.7314673000828203,
          0.3385127274541624,
          -0.7687161829470321,
          1.543242396773852,
          -0.717193509958402,
          0.37699569673225664,
          -1.2396619940727844,
          0.4550492681869588,
          -2.0543094997835243,
          1.3600779678873771,
          -1.244574082682165,
          -2.1843312309789535,
          -0.6296399403616632,
          0.2871687175955069,
          -1.8976766970498358,
          -1.746810132351409,
          1.1721777502639719,
          0.12975308001389982,
          -0.906679091917525,
          -0.8235255560578126,
          1.629416680723812,
          -0.3258256193559577,
          0.3183405316268972,
          0.19960564744461226,
          -2.350317827213011,
          0.5704819720769283,
          -0.572177939912174,
          0.47504228909483914,
          0.9978013795099565,
          0.03284178097168736,
          1.7998520265955422,
          1.1791578061649604,
          0.6725374757403919,
          -0.18452181673013568,
          -1.3271976219839603,
          -1.4712235163192122,
          1.5058786374354427,
          0.20716152593826656,
          -0.8002141505754706,
          -0.23591613710914958,
          0.4176022846377921,
          -0.7322776036272107,
          -0.7501160039715231,
          0.2246809529639941,
          0.49107947550493974,
          -1.366060904827018,
          -1.873047410185736,
          0.5962151440823994,
          0.17473240351086952,
          -0.25176512171647975,
          0.8296301643863834,
          -0.17204697391626958,
          1.524750974056855,
          1.4053490752537185,
          -1.2809051231732484,
          0.49433207086912184,
          0.13477043390008417,
          -0.7369883578766098,
          -1.6833329347466606,
          -1.1611543228587384,
          0.16417302030913833,
          -2.55392965531275,
          0.554411998328491,
          0.9248809515936174,
          0.07974476121974629,
          1.244761109401404
         ]
        },
        {
         "boxpoints": false,
         "line": {
          "width": 1.3
         },
         "marker": {
          "color": "rgba(50, 171, 96, 1.0)"
         },
         "name": "C",
         "orientation": "v",
         "type": "box",
         "y": [
          0.20867975771520808,
          -0.539968732680375,
          -0.10451406860936421,
          0.6807906941541452,
          -0.6237061132537227,
          1.1645819493681946,
          -0.20319634501381628,
          -1.8719734890851034,
          0.19006397038468342,
          0.7426829780297319,
          1.5866853683306084,
          -0.8830991836928733,
          1.329381939728609,
          -0.36910943637848315,
          -0.1259704216318707,
          0.7599399179503843,
          0.2570493559742786,
          1.0102501201538379,
          -0.8301636846246374,
          0.9098700533567373,
          1.272308317853795,
          0.27644901365821556,
          -0.5307842275179776,
          0.6928510797756365,
          -0.7467081888636957,
          1.0864734312542663,
          -0.4088395415896088,
          -1.3297602651780072,
          -1.441235068785222,
          -0.15212789644905217,
          0.9578071542227202,
          -0.07460142157038534,
          0.5113698014381537,
          -0.7585669417479952,
          -1.7210677610542262,
          0.6458738210296548,
          -0.7221738362033334,
          -0.09708844896140927,
          0.34294090340127364,
          -1.0737713509953322,
          -1.3205133194548362,
          0.4033547123960727,
          0.06702499803391719,
          -0.3894870046425358,
          0.5545246926764152,
          -0.3936172349445884,
          0.5204415204166847,
          -2.296869709022682,
          -1.0722455437645189,
          -0.0076908262706479645,
          -0.8497611342012257,
          -0.5418473928237962,
          0.6825865011945559,
          1.528074978722198,
          0.7421162493465568,
          -1.0501963591592836,
          1.5291754301353226,
          0.9965167862689587,
          -0.8002793081334799,
          1.1160758258201309,
          2.416553937349119,
          -0.7323025322245335,
          1.045911989237607,
          -2.3075278310782483,
          -0.11065972894159559,
          1.6167179621416072,
          -1.5706737901917416,
          -0.176117048077122,
          0.4745874051396574,
          -0.461148688308992,
          -0.1907540082939412,
          0.2099327698711436,
          -1.2321302971466992,
          0.6032727936313779,
          1.4648497803732206,
          0.3072917431775034,
          1.0415220041526154,
          0.15940004078617948,
          -0.8020956078401368,
          -0.5019052846097677,
          -0.8158122916130118,
          0.9735286018887148,
          0.49382864652704367,
          -0.149893623001522,
          0.7465151638614091,
          1.41789646851737,
          0.42684270812646524,
          -1.9110647146667514,
          -1.1593244688815125,
          -0.8502884309003719,
          -0.4656426710483235,
          1.7640395575750731,
          -0.7333153880908555,
          -0.6169666283105139,
          -1.4096884439956874,
          -0.3822792755757565,
          2.1510015077400606,
          -0.480261706871716,
          -0.5583127368388549,
          -0.332192650314338
         ]
        },
        {
         "boxpoints": false,
         "line": {
          "width": 1.3
         },
         "marker": {
          "color": "rgba(128, 0, 128, 1.0)"
         },
         "name": "D",
         "orientation": "v",
         "type": "box",
         "y": [
          1.1927052467737471,
          0.6823505953261061,
          -1.7699977924906336,
          -0.4409417245274874,
          -0.4027560996259744,
          1.3855538454435494,
          0.25941520948138114,
          0.45409670225836857,
          -1.828238319014977,
          -0.2430449199174727,
          0.2647028823015733,
          1.4415053080261364,
          1.073705430987225,
          0.4866361960213816,
          1.4824416894323167,
          0.07105310534559514,
          0.13215237042095185,
          -1.2120350758827654,
          0.6581602382531442,
          -0.7675070609238718,
          0.9668208021638547,
          -0.7946618684229247,
          1.7144331828714836,
          0.6183624129108227,
          0.32792919874517806,
          -1.4384318058696666,
          -1.896424554138019,
          1.3936239781195967,
          -0.5608297156821659,
          0.6174363013840861,
          -0.3920373006091651,
          0.9361108376422885,
          -1.215021028570566,
          0.8401590571870553,
          2.3185983729391744,
          0.2455730696322708,
          0.19536172069491808,
          1.4623879346019342,
          1.6091859374219266,
          -1.1194909687215293,
          -1.2857377279485118,
          0.9585464930884179,
          -2.0409079776428296,
          -0.3516153660537357,
          1.1247468667742029,
          -0.6225409273299736,
          -0.881020925119876,
          -0.6288513210560867,
          1.0181706822135164,
          0.43486023954956127,
          1.0735404839177463,
          -0.8360456949946155,
          -1.3071731796213288,
          -0.07262526518920134,
          0.5259937944952808,
          0.7758932426331349,
          -1.2246509725047636,
          0.7812189441750645,
          -0.9343539498244041,
          -0.1670384776565554,
          1.090640883944806,
          -1.2034828032498064,
          0.25473828806871673,
          0.8635343083832683,
          0.3625951607961471,
          -0.2195462221424108,
          -0.7390148935282446,
          0.2050754290124465,
          -0.5872703781784867,
          0.6724208793894313,
          0.4445472943607837,
          0.6485431478865128,
          -0.013995098131496525,
          -1.8286239296369833,
          0.4379298665364222,
          0.36020393470459283,
          -0.055472205298219925,
          -0.9817455885806337,
          -1.0867258660214782,
          0.9792867549289266,
          -0.39095614962872743,
          -1.2431321852725168,
          0.6483194288423902,
          -0.7920970509807383,
          -0.3546536488679633,
          -1.6103360489908431,
          1.3053501829720535,
          1.145556735167566,
          -0.6264207226268598,
          -0.21363957491562746,
          -0.6847452297725517,
          1.2131865236514339,
          -1.7478252431183574,
          1.209465948879976,
          0.43519122902619073,
          -0.15306143209734444,
          -1.3114763939089504,
          -0.2031965018915055,
          -1.5469322006075121,
          0.45462915216522054
         ]
        }
       ],
       "layout": {
        "legend": {
         "bgcolor": "#F5F6F9",
         "font": {
          "color": "#4D5663"
         }
        },
        "paper_bgcolor": "#F5F6F9",
        "plot_bgcolor": "#F5F6F9",
        "template": {
         "data": {
          "bar": [
           {
            "error_x": {
             "color": "#2a3f5f"
            },
            "error_y": {
             "color": "#2a3f5f"
            },
            "marker": {
             "line": {
              "color": "#E5ECF6",
              "width": 0.5
             },
             "pattern": {
              "fillmode": "overlay",
              "size": 10,
              "solidity": 0.2
             }
            },
            "type": "bar"
           }
          ],
          "barpolar": [
           {
            "marker": {
             "line": {
              "color": "#E5ECF6",
              "width": 0.5
             },
             "pattern": {
              "fillmode": "overlay",
              "size": 10,
              "solidity": 0.2
             }
            },
            "type": "barpolar"
           }
          ],
          "carpet": [
           {
            "aaxis": {
             "endlinecolor": "#2a3f5f",
             "gridcolor": "white",
             "linecolor": "white",
             "minorgridcolor": "white",
             "startlinecolor": "#2a3f5f"
            },
            "baxis": {
             "endlinecolor": "#2a3f5f",
             "gridcolor": "white",
             "linecolor": "white",
             "minorgridcolor": "white",
             "startlinecolor": "#2a3f5f"
            },
            "type": "carpet"
           }
          ],
          "choropleth": [
           {
            "colorbar": {
             "outlinewidth": 0,
             "ticks": ""
            },
            "type": "choropleth"
           }
          ],
          "contour": [
           {
            "colorbar": {
             "outlinewidth": 0,
             "ticks": ""
            },
            "colorscale": [
             [
              0,
              "#0d0887"
             ],
             [
              0.1111111111111111,
              "#46039f"
             ],
             [
              0.2222222222222222,
              "#7201a8"
             ],
             [
              0.3333333333333333,
              "#9c179e"
             ],
             [
              0.4444444444444444,
              "#bd3786"
             ],
             [
              0.5555555555555556,
              "#d8576b"
             ],
             [
              0.6666666666666666,
              "#ed7953"
             ],
             [
              0.7777777777777778,
              "#fb9f3a"
             ],
             [
              0.8888888888888888,
              "#fdca26"
             ],
             [
              1,
              "#f0f921"
             ]
            ],
            "type": "contour"
           }
          ],
          "contourcarpet": [
           {
            "colorbar": {
             "outlinewidth": 0,
             "ticks": ""
            },
            "type": "contourcarpet"
           }
          ],
          "heatmap": [
           {
            "colorbar": {
             "outlinewidth": 0,
             "ticks": ""
            },
            "colorscale": [
             [
              0,
              "#0d0887"
             ],
             [
              0.1111111111111111,
              "#46039f"
             ],
             [
              0.2222222222222222,
              "#7201a8"
             ],
             [
              0.3333333333333333,
              "#9c179e"
             ],
             [
              0.4444444444444444,
              "#bd3786"
             ],
             [
              0.5555555555555556,
              "#d8576b"
             ],
             [
              0.6666666666666666,
              "#ed7953"
             ],
             [
              0.7777777777777778,
              "#fb9f3a"
             ],
             [
              0.8888888888888888,
              "#fdca26"
             ],
             [
              1,
              "#f0f921"
             ]
            ],
            "type": "heatmap"
           }
          ],
          "heatmapgl": [
           {
            "colorbar": {
             "outlinewidth": 0,
             "ticks": ""
            },
            "colorscale": [
             [
              0,
              "#0d0887"
             ],
             [
              0.1111111111111111,
              "#46039f"
             ],
             [
              0.2222222222222222,
              "#7201a8"
             ],
             [
              0.3333333333333333,
              "#9c179e"
             ],
             [
              0.4444444444444444,
              "#bd3786"
             ],
             [
              0.5555555555555556,
              "#d8576b"
             ],
             [
              0.6666666666666666,
              "#ed7953"
             ],
             [
              0.7777777777777778,
              "#fb9f3a"
             ],
             [
              0.8888888888888888,
              "#fdca26"
             ],
             [
              1,
              "#f0f921"
             ]
            ],
            "type": "heatmapgl"
           }
          ],
          "histogram": [
           {
            "marker": {
             "pattern": {
              "fillmode": "overlay",
              "size": 10,
              "solidity": 0.2
             }
            },
            "type": "histogram"
           }
          ],
          "histogram2d": [
           {
            "colorbar": {
             "outlinewidth": 0,
             "ticks": ""
            },
            "colorscale": [
             [
              0,
              "#0d0887"
             ],
             [
              0.1111111111111111,
              "#46039f"
             ],
             [
              0.2222222222222222,
              "#7201a8"
             ],
             [
              0.3333333333333333,
              "#9c179e"
             ],
             [
              0.4444444444444444,
              "#bd3786"
             ],
             [
              0.5555555555555556,
              "#d8576b"
             ],
             [
              0.6666666666666666,
              "#ed7953"
             ],
             [
              0.7777777777777778,
              "#fb9f3a"
             ],
             [
              0.8888888888888888,
              "#fdca26"
             ],
             [
              1,
              "#f0f921"
             ]
            ],
            "type": "histogram2d"
           }
          ],
          "histogram2dcontour": [
           {
            "colorbar": {
             "outlinewidth": 0,
             "ticks": ""
            },
            "colorscale": [
             [
              0,
              "#0d0887"
             ],
             [
              0.1111111111111111,
              "#46039f"
             ],
             [
              0.2222222222222222,
              "#7201a8"
             ],
             [
              0.3333333333333333,
              "#9c179e"
             ],
             [
              0.4444444444444444,
              "#bd3786"
             ],
             [
              0.5555555555555556,
              "#d8576b"
             ],
             [
              0.6666666666666666,
              "#ed7953"
             ],
             [
              0.7777777777777778,
              "#fb9f3a"
             ],
             [
              0.8888888888888888,
              "#fdca26"
             ],
             [
              1,
              "#f0f921"
             ]
            ],
            "type": "histogram2dcontour"
           }
          ],
          "mesh3d": [
           {
            "colorbar": {
             "outlinewidth": 0,
             "ticks": ""
            },
            "type": "mesh3d"
           }
          ],
          "parcoords": [
           {
            "line": {
             "colorbar": {
              "outlinewidth": 0,
              "ticks": ""
             }
            },
            "type": "parcoords"
           }
          ],
          "pie": [
           {
            "automargin": true,
            "type": "pie"
           }
          ],
          "scatter": [
           {
            "marker": {
             "colorbar": {
              "outlinewidth": 0,
              "ticks": ""
             }
            },
            "type": "scatter"
           }
          ],
          "scatter3d": [
           {
            "line": {
             "colorbar": {
              "outlinewidth": 0,
              "ticks": ""
             }
            },
            "marker": {
             "colorbar": {
              "outlinewidth": 0,
              "ticks": ""
             }
            },
            "type": "scatter3d"
           }
          ],
          "scattercarpet": [
           {
            "marker": {
             "colorbar": {
              "outlinewidth": 0,
              "ticks": ""
             }
            },
            "type": "scattercarpet"
           }
          ],
          "scattergeo": [
           {
            "marker": {
             "colorbar": {
              "outlinewidth": 0,
              "ticks": ""
             }
            },
            "type": "scattergeo"
           }
          ],
          "scattergl": [
           {
            "marker": {
             "colorbar": {
              "outlinewidth": 0,
              "ticks": ""
             }
            },
            "type": "scattergl"
           }
          ],
          "scattermapbox": [
           {
            "marker": {
             "colorbar": {
              "outlinewidth": 0,
              "ticks": ""
             }
            },
            "type": "scattermapbox"
           }
          ],
          "scatterpolar": [
           {
            "marker": {
             "colorbar": {
              "outlinewidth": 0,
              "ticks": ""
             }
            },
            "type": "scatterpolar"
           }
          ],
          "scatterpolargl": [
           {
            "marker": {
             "colorbar": {
              "outlinewidth": 0,
              "ticks": ""
             }
            },
            "type": "scatterpolargl"
           }
          ],
          "scatterternary": [
           {
            "marker": {
             "colorbar": {
              "outlinewidth": 0,
              "ticks": ""
             }
            },
            "type": "scatterternary"
           }
          ],
          "surface": [
           {
            "colorbar": {
             "outlinewidth": 0,
             "ticks": ""
            },
            "colorscale": [
             [
              0,
              "#0d0887"
             ],
             [
              0.1111111111111111,
              "#46039f"
             ],
             [
              0.2222222222222222,
              "#7201a8"
             ],
             [
              0.3333333333333333,
              "#9c179e"
             ],
             [
              0.4444444444444444,
              "#bd3786"
             ],
             [
              0.5555555555555556,
              "#d8576b"
             ],
             [
              0.6666666666666666,
              "#ed7953"
             ],
             [
              0.7777777777777778,
              "#fb9f3a"
             ],
             [
              0.8888888888888888,
              "#fdca26"
             ],
             [
              1,
              "#f0f921"
             ]
            ],
            "type": "surface"
           }
          ],
          "table": [
           {
            "cells": {
             "fill": {
              "color": "#EBF0F8"
             },
             "line": {
              "color": "white"
             }
            },
            "header": {
             "fill": {
              "color": "#C8D4E3"
             },
             "line": {
              "color": "white"
             }
            },
            "type": "table"
           }
          ]
         },
         "layout": {
          "annotationdefaults": {
           "arrowcolor": "#2a3f5f",
           "arrowhead": 0,
           "arrowwidth": 1
          },
          "autotypenumbers": "strict",
          "coloraxis": {
           "colorbar": {
            "outlinewidth": 0,
            "ticks": ""
           }
          },
          "colorscale": {
           "diverging": [
            [
             0,
             "#8e0152"
            ],
            [
             0.1,
             "#c51b7d"
            ],
            [
             0.2,
             "#de77ae"
            ],
            [
             0.3,
             "#f1b6da"
            ],
            [
             0.4,
             "#fde0ef"
            ],
            [
             0.5,
             "#f7f7f7"
            ],
            [
             0.6,
             "#e6f5d0"
            ],
            [
             0.7,
             "#b8e186"
            ],
            [
             0.8,
             "#7fbc41"
            ],
            [
             0.9,
             "#4d9221"
            ],
            [
             1,
             "#276419"
            ]
           ],
           "sequential": [
            [
             0,
             "#0d0887"
            ],
            [
             0.1111111111111111,
             "#46039f"
            ],
            [
             0.2222222222222222,
             "#7201a8"
            ],
            [
             0.3333333333333333,
             "#9c179e"
            ],
            [
             0.4444444444444444,
             "#bd3786"
            ],
            [
             0.5555555555555556,
             "#d8576b"
            ],
            [
             0.6666666666666666,
             "#ed7953"
            ],
            [
             0.7777777777777778,
             "#fb9f3a"
            ],
            [
             0.8888888888888888,
             "#fdca26"
            ],
            [
             1,
             "#f0f921"
            ]
           ],
           "sequentialminus": [
            [
             0,
             "#0d0887"
            ],
            [
             0.1111111111111111,
             "#46039f"
            ],
            [
             0.2222222222222222,
             "#7201a8"
            ],
            [
             0.3333333333333333,
             "#9c179e"
            ],
            [
             0.4444444444444444,
             "#bd3786"
            ],
            [
             0.5555555555555556,
             "#d8576b"
            ],
            [
             0.6666666666666666,
             "#ed7953"
            ],
            [
             0.7777777777777778,
             "#fb9f3a"
            ],
            [
             0.8888888888888888,
             "#fdca26"
            ],
            [
             1,
             "#f0f921"
            ]
           ]
          },
          "colorway": [
           "#636efa",
           "#EF553B",
           "#00cc96",
           "#ab63fa",
           "#FFA15A",
           "#19d3f3",
           "#FF6692",
           "#B6E880",
           "#FF97FF",
           "#FECB52"
          ],
          "font": {
           "color": "#2a3f5f"
          },
          "geo": {
           "bgcolor": "white",
           "lakecolor": "white",
           "landcolor": "#E5ECF6",
           "showlakes": true,
           "showland": true,
           "subunitcolor": "white"
          },
          "hoverlabel": {
           "align": "left"
          },
          "hovermode": "closest",
          "mapbox": {
           "style": "light"
          },
          "paper_bgcolor": "white",
          "plot_bgcolor": "#E5ECF6",
          "polar": {
           "angularaxis": {
            "gridcolor": "white",
            "linecolor": "white",
            "ticks": ""
           },
           "bgcolor": "#E5ECF6",
           "radialaxis": {
            "gridcolor": "white",
            "linecolor": "white",
            "ticks": ""
           }
          },
          "scene": {
           "xaxis": {
            "backgroundcolor": "#E5ECF6",
            "gridcolor": "white",
            "gridwidth": 2,
            "linecolor": "white",
            "showbackground": true,
            "ticks": "",
            "zerolinecolor": "white"
           },
           "yaxis": {
            "backgroundcolor": "#E5ECF6",
            "gridcolor": "white",
            "gridwidth": 2,
            "linecolor": "white",
            "showbackground": true,
            "ticks": "",
            "zerolinecolor": "white"
           },
           "zaxis": {
            "backgroundcolor": "#E5ECF6",
            "gridcolor": "white",
            "gridwidth": 2,
            "linecolor": "white",
            "showbackground": true,
            "ticks": "",
            "zerolinecolor": "white"
           }
          },
          "shapedefaults": {
           "line": {
            "color": "#2a3f5f"
           }
          },
          "ternary": {
           "aaxis": {
            "gridcolor": "white",
            "linecolor": "white",
            "ticks": ""
           },
           "baxis": {
            "gridcolor": "white",
            "linecolor": "white",
            "ticks": ""
           },
           "bgcolor": "#E5ECF6",
           "caxis": {
            "gridcolor": "white",
            "linecolor": "white",
            "ticks": ""
           }
          },
          "title": {
           "x": 0.05
          },
          "xaxis": {
           "automargin": true,
           "gridcolor": "white",
           "linecolor": "white",
           "ticks": "",
           "title": {
            "standoff": 15
           },
           "zerolinecolor": "white",
           "zerolinewidth": 2
          },
          "yaxis": {
           "automargin": true,
           "gridcolor": "white",
           "linecolor": "white",
           "ticks": "",
           "title": {
            "standoff": 15
           },
           "zerolinecolor": "white",
           "zerolinewidth": 2
          }
         }
        },
        "title": {
         "font": {
          "color": "#4D5663"
         }
        },
        "xaxis": {
         "gridcolor": "#E1E5ED",
         "showgrid": true,
         "tickfont": {
          "color": "#4D5663"
         },
         "title": {
          "font": {
           "color": "#4D5663"
          },
          "text": ""
         },
         "zerolinecolor": "#E1E5ED"
        },
        "yaxis": {
         "gridcolor": "#E1E5ED",
         "showgrid": true,
         "tickfont": {
          "color": "#4D5663"
         },
         "title": {
          "font": {
           "color": "#4D5663"
          },
          "text": ""
         },
         "zerolinecolor": "#E1E5ED"
        }
       }
      }
     },
     "metadata": {}
    }
   ],
   "metadata": {}
  },
  {
   "cell_type": "code",
   "execution_count": 22,
   "source": [
    "df3 =  pd.DataFrame({'x':[1,2,3,4,5], 'y':[10,20,30,20,10], 'z':[500,400,300,200,100]})\r\n",
    "df3"
   ],
   "outputs": [
    {
     "output_type": "execute_result",
     "data": {
      "text/plain": [
       "   x   y    z\n",
       "0  1  10  500\n",
       "1  2  20  400\n",
       "2  3  30  300\n",
       "3  4  20  200\n",
       "4  5  10  100"
      ],
      "text/html": [
       "<div>\n",
       "<style scoped>\n",
       "    .dataframe tbody tr th:only-of-type {\n",
       "        vertical-align: middle;\n",
       "    }\n",
       "\n",
       "    .dataframe tbody tr th {\n",
       "        vertical-align: top;\n",
       "    }\n",
       "\n",
       "    .dataframe thead th {\n",
       "        text-align: right;\n",
       "    }\n",
       "</style>\n",
       "<table border=\"1\" class=\"dataframe\">\n",
       "  <thead>\n",
       "    <tr style=\"text-align: right;\">\n",
       "      <th></th>\n",
       "      <th>x</th>\n",
       "      <th>y</th>\n",
       "      <th>z</th>\n",
       "    </tr>\n",
       "  </thead>\n",
       "  <tbody>\n",
       "    <tr>\n",
       "      <th>0</th>\n",
       "      <td>1</td>\n",
       "      <td>10</td>\n",
       "      <td>500</td>\n",
       "    </tr>\n",
       "    <tr>\n",
       "      <th>1</th>\n",
       "      <td>2</td>\n",
       "      <td>20</td>\n",
       "      <td>400</td>\n",
       "    </tr>\n",
       "    <tr>\n",
       "      <th>2</th>\n",
       "      <td>3</td>\n",
       "      <td>30</td>\n",
       "      <td>300</td>\n",
       "    </tr>\n",
       "    <tr>\n",
       "      <th>3</th>\n",
       "      <td>4</td>\n",
       "      <td>20</td>\n",
       "      <td>200</td>\n",
       "    </tr>\n",
       "    <tr>\n",
       "      <th>4</th>\n",
       "      <td>5</td>\n",
       "      <td>10</td>\n",
       "      <td>100</td>\n",
       "    </tr>\n",
       "  </tbody>\n",
       "</table>\n",
       "</div>"
      ]
     },
     "metadata": {},
     "execution_count": 22
    }
   ],
   "metadata": {}
  },
  {
   "cell_type": "code",
   "execution_count": 24,
   "source": [
    "df3.iplot(kind='surface')"
   ],
   "outputs": [
    {
     "output_type": "display_data",
     "data": {
      "text/html": [
       "<div>                            <div id=\"94aeabfc-bace-41ea-9fc0-6524fe9f4bb1\" class=\"plotly-graph-div\" style=\"height:525px; width:100%;\"></div>            <script type=\"text/javascript\">                require([\"plotly\"], function(Plotly) {                    window.PLOTLYENV=window.PLOTLYENV || {};\n",
       "                    window.PLOTLYENV.BASE_URL='https://plot.ly';                                    if (document.getElementById(\"94aeabfc-bace-41ea-9fc0-6524fe9f4bb1\")) {                    Plotly.newPlot(                        \"94aeabfc-bace-41ea-9fc0-6524fe9f4bb1\",                        [{\"colorscale\":[[0.0,\"rgb(255, 153, 51)\"],[0.1111111111111111,\"rgb(55, 128, 191)\"],[0.2222222222222222,\"rgb(50, 171, 96)\"],[0.3333333333333333,\"rgb(128, 0, 128)\"],[0.4444444444444444,\"rgb(219, 64, 82)\"],[0.5555555555555556,\"rgb(0, 128, 128)\"],[0.6666666666666666,\"rgb(255, 255, 51)\"],[0.7777777777777778,\"rgb(128, 128, 0)\"],[0.8888888888888888,\"rgb(251, 128, 114)\"],[1.0,\"rgb(128, 177, 211)\"]],\"type\":\"surface\",\"x\":[0,1,2,3,4],\"y\":[\"x\",\"y\",\"z\"],\"z\":[[1,2,3,4,5],[10,20,30,20,10],[500,400,300,200,100]]}],                        {\"legend\":{\"bgcolor\":\"#F5F6F9\",\"font\":{\"color\":\"#4D5663\"}},\"paper_bgcolor\":\"#F5F6F9\",\"plot_bgcolor\":\"#F5F6F9\",\"template\":{\"data\":{\"bar\":[{\"error_x\":{\"color\":\"#2a3f5f\"},\"error_y\":{\"color\":\"#2a3f5f\"},\"marker\":{\"line\":{\"color\":\"#E5ECF6\",\"width\":0.5},\"pattern\":{\"fillmode\":\"overlay\",\"size\":10,\"solidity\":0.2}},\"type\":\"bar\"}],\"barpolar\":[{\"marker\":{\"line\":{\"color\":\"#E5ECF6\",\"width\":0.5},\"pattern\":{\"fillmode\":\"overlay\",\"size\":10,\"solidity\":0.2}},\"type\":\"barpolar\"}],\"carpet\":[{\"aaxis\":{\"endlinecolor\":\"#2a3f5f\",\"gridcolor\":\"white\",\"linecolor\":\"white\",\"minorgridcolor\":\"white\",\"startlinecolor\":\"#2a3f5f\"},\"baxis\":{\"endlinecolor\":\"#2a3f5f\",\"gridcolor\":\"white\",\"linecolor\":\"white\",\"minorgridcolor\":\"white\",\"startlinecolor\":\"#2a3f5f\"},\"type\":\"carpet\"}],\"choropleth\":[{\"colorbar\":{\"outlinewidth\":0,\"ticks\":\"\"},\"type\":\"choropleth\"}],\"contour\":[{\"colorbar\":{\"outlinewidth\":0,\"ticks\":\"\"},\"colorscale\":[[0.0,\"#0d0887\"],[0.1111111111111111,\"#46039f\"],[0.2222222222222222,\"#7201a8\"],[0.3333333333333333,\"#9c179e\"],[0.4444444444444444,\"#bd3786\"],[0.5555555555555556,\"#d8576b\"],[0.6666666666666666,\"#ed7953\"],[0.7777777777777778,\"#fb9f3a\"],[0.8888888888888888,\"#fdca26\"],[1.0,\"#f0f921\"]],\"type\":\"contour\"}],\"contourcarpet\":[{\"colorbar\":{\"outlinewidth\":0,\"ticks\":\"\"},\"type\":\"contourcarpet\"}],\"heatmap\":[{\"colorbar\":{\"outlinewidth\":0,\"ticks\":\"\"},\"colorscale\":[[0.0,\"#0d0887\"],[0.1111111111111111,\"#46039f\"],[0.2222222222222222,\"#7201a8\"],[0.3333333333333333,\"#9c179e\"],[0.4444444444444444,\"#bd3786\"],[0.5555555555555556,\"#d8576b\"],[0.6666666666666666,\"#ed7953\"],[0.7777777777777778,\"#fb9f3a\"],[0.8888888888888888,\"#fdca26\"],[1.0,\"#f0f921\"]],\"type\":\"heatmap\"}],\"heatmapgl\":[{\"colorbar\":{\"outlinewidth\":0,\"ticks\":\"\"},\"colorscale\":[[0.0,\"#0d0887\"],[0.1111111111111111,\"#46039f\"],[0.2222222222222222,\"#7201a8\"],[0.3333333333333333,\"#9c179e\"],[0.4444444444444444,\"#bd3786\"],[0.5555555555555556,\"#d8576b\"],[0.6666666666666666,\"#ed7953\"],[0.7777777777777778,\"#fb9f3a\"],[0.8888888888888888,\"#fdca26\"],[1.0,\"#f0f921\"]],\"type\":\"heatmapgl\"}],\"histogram\":[{\"marker\":{\"pattern\":{\"fillmode\":\"overlay\",\"size\":10,\"solidity\":0.2}},\"type\":\"histogram\"}],\"histogram2d\":[{\"colorbar\":{\"outlinewidth\":0,\"ticks\":\"\"},\"colorscale\":[[0.0,\"#0d0887\"],[0.1111111111111111,\"#46039f\"],[0.2222222222222222,\"#7201a8\"],[0.3333333333333333,\"#9c179e\"],[0.4444444444444444,\"#bd3786\"],[0.5555555555555556,\"#d8576b\"],[0.6666666666666666,\"#ed7953\"],[0.7777777777777778,\"#fb9f3a\"],[0.8888888888888888,\"#fdca26\"],[1.0,\"#f0f921\"]],\"type\":\"histogram2d\"}],\"histogram2dcontour\":[{\"colorbar\":{\"outlinewidth\":0,\"ticks\":\"\"},\"colorscale\":[[0.0,\"#0d0887\"],[0.1111111111111111,\"#46039f\"],[0.2222222222222222,\"#7201a8\"],[0.3333333333333333,\"#9c179e\"],[0.4444444444444444,\"#bd3786\"],[0.5555555555555556,\"#d8576b\"],[0.6666666666666666,\"#ed7953\"],[0.7777777777777778,\"#fb9f3a\"],[0.8888888888888888,\"#fdca26\"],[1.0,\"#f0f921\"]],\"type\":\"histogram2dcontour\"}],\"mesh3d\":[{\"colorbar\":{\"outlinewidth\":0,\"ticks\":\"\"},\"type\":\"mesh3d\"}],\"parcoords\":[{\"line\":{\"colorbar\":{\"outlinewidth\":0,\"ticks\":\"\"}},\"type\":\"parcoords\"}],\"pie\":[{\"automargin\":true,\"type\":\"pie\"}],\"scatter\":[{\"marker\":{\"colorbar\":{\"outlinewidth\":0,\"ticks\":\"\"}},\"type\":\"scatter\"}],\"scatter3d\":[{\"line\":{\"colorbar\":{\"outlinewidth\":0,\"ticks\":\"\"}},\"marker\":{\"colorbar\":{\"outlinewidth\":0,\"ticks\":\"\"}},\"type\":\"scatter3d\"}],\"scattercarpet\":[{\"marker\":{\"colorbar\":{\"outlinewidth\":0,\"ticks\":\"\"}},\"type\":\"scattercarpet\"}],\"scattergeo\":[{\"marker\":{\"colorbar\":{\"outlinewidth\":0,\"ticks\":\"\"}},\"type\":\"scattergeo\"}],\"scattergl\":[{\"marker\":{\"colorbar\":{\"outlinewidth\":0,\"ticks\":\"\"}},\"type\":\"scattergl\"}],\"scattermapbox\":[{\"marker\":{\"colorbar\":{\"outlinewidth\":0,\"ticks\":\"\"}},\"type\":\"scattermapbox\"}],\"scatterpolar\":[{\"marker\":{\"colorbar\":{\"outlinewidth\":0,\"ticks\":\"\"}},\"type\":\"scatterpolar\"}],\"scatterpolargl\":[{\"marker\":{\"colorbar\":{\"outlinewidth\":0,\"ticks\":\"\"}},\"type\":\"scatterpolargl\"}],\"scatterternary\":[{\"marker\":{\"colorbar\":{\"outlinewidth\":0,\"ticks\":\"\"}},\"type\":\"scatterternary\"}],\"surface\":[{\"colorbar\":{\"outlinewidth\":0,\"ticks\":\"\"},\"colorscale\":[[0.0,\"#0d0887\"],[0.1111111111111111,\"#46039f\"],[0.2222222222222222,\"#7201a8\"],[0.3333333333333333,\"#9c179e\"],[0.4444444444444444,\"#bd3786\"],[0.5555555555555556,\"#d8576b\"],[0.6666666666666666,\"#ed7953\"],[0.7777777777777778,\"#fb9f3a\"],[0.8888888888888888,\"#fdca26\"],[1.0,\"#f0f921\"]],\"type\":\"surface\"}],\"table\":[{\"cells\":{\"fill\":{\"color\":\"#EBF0F8\"},\"line\":{\"color\":\"white\"}},\"header\":{\"fill\":{\"color\":\"#C8D4E3\"},\"line\":{\"color\":\"white\"}},\"type\":\"table\"}]},\"layout\":{\"annotationdefaults\":{\"arrowcolor\":\"#2a3f5f\",\"arrowhead\":0,\"arrowwidth\":1},\"autotypenumbers\":\"strict\",\"coloraxis\":{\"colorbar\":{\"outlinewidth\":0,\"ticks\":\"\"}},\"colorscale\":{\"diverging\":[[0,\"#8e0152\"],[0.1,\"#c51b7d\"],[0.2,\"#de77ae\"],[0.3,\"#f1b6da\"],[0.4,\"#fde0ef\"],[0.5,\"#f7f7f7\"],[0.6,\"#e6f5d0\"],[0.7,\"#b8e186\"],[0.8,\"#7fbc41\"],[0.9,\"#4d9221\"],[1,\"#276419\"]],\"sequential\":[[0.0,\"#0d0887\"],[0.1111111111111111,\"#46039f\"],[0.2222222222222222,\"#7201a8\"],[0.3333333333333333,\"#9c179e\"],[0.4444444444444444,\"#bd3786\"],[0.5555555555555556,\"#d8576b\"],[0.6666666666666666,\"#ed7953\"],[0.7777777777777778,\"#fb9f3a\"],[0.8888888888888888,\"#fdca26\"],[1.0,\"#f0f921\"]],\"sequentialminus\":[[0.0,\"#0d0887\"],[0.1111111111111111,\"#46039f\"],[0.2222222222222222,\"#7201a8\"],[0.3333333333333333,\"#9c179e\"],[0.4444444444444444,\"#bd3786\"],[0.5555555555555556,\"#d8576b\"],[0.6666666666666666,\"#ed7953\"],[0.7777777777777778,\"#fb9f3a\"],[0.8888888888888888,\"#fdca26\"],[1.0,\"#f0f921\"]]},\"colorway\":[\"#636efa\",\"#EF553B\",\"#00cc96\",\"#ab63fa\",\"#FFA15A\",\"#19d3f3\",\"#FF6692\",\"#B6E880\",\"#FF97FF\",\"#FECB52\"],\"font\":{\"color\":\"#2a3f5f\"},\"geo\":{\"bgcolor\":\"white\",\"lakecolor\":\"white\",\"landcolor\":\"#E5ECF6\",\"showlakes\":true,\"showland\":true,\"subunitcolor\":\"white\"},\"hoverlabel\":{\"align\":\"left\"},\"hovermode\":\"closest\",\"mapbox\":{\"style\":\"light\"},\"paper_bgcolor\":\"white\",\"plot_bgcolor\":\"#E5ECF6\",\"polar\":{\"angularaxis\":{\"gridcolor\":\"white\",\"linecolor\":\"white\",\"ticks\":\"\"},\"bgcolor\":\"#E5ECF6\",\"radialaxis\":{\"gridcolor\":\"white\",\"linecolor\":\"white\",\"ticks\":\"\"}},\"scene\":{\"xaxis\":{\"backgroundcolor\":\"#E5ECF6\",\"gridcolor\":\"white\",\"gridwidth\":2,\"linecolor\":\"white\",\"showbackground\":true,\"ticks\":\"\",\"zerolinecolor\":\"white\"},\"yaxis\":{\"backgroundcolor\":\"#E5ECF6\",\"gridcolor\":\"white\",\"gridwidth\":2,\"linecolor\":\"white\",\"showbackground\":true,\"ticks\":\"\",\"zerolinecolor\":\"white\"},\"zaxis\":{\"backgroundcolor\":\"#E5ECF6\",\"gridcolor\":\"white\",\"gridwidth\":2,\"linecolor\":\"white\",\"showbackground\":true,\"ticks\":\"\",\"zerolinecolor\":\"white\"}},\"shapedefaults\":{\"line\":{\"color\":\"#2a3f5f\"}},\"ternary\":{\"aaxis\":{\"gridcolor\":\"white\",\"linecolor\":\"white\",\"ticks\":\"\"},\"baxis\":{\"gridcolor\":\"white\",\"linecolor\":\"white\",\"ticks\":\"\"},\"bgcolor\":\"#E5ECF6\",\"caxis\":{\"gridcolor\":\"white\",\"linecolor\":\"white\",\"ticks\":\"\"}},\"title\":{\"x\":0.05},\"xaxis\":{\"automargin\":true,\"gridcolor\":\"white\",\"linecolor\":\"white\",\"ticks\":\"\",\"title\":{\"standoff\":15},\"zerolinecolor\":\"white\",\"zerolinewidth\":2},\"yaxis\":{\"automargin\":true,\"gridcolor\":\"white\",\"linecolor\":\"white\",\"ticks\":\"\",\"title\":{\"standoff\":15},\"zerolinecolor\":\"white\",\"zerolinewidth\":2}}},\"title\":{\"font\":{\"color\":\"#4D5663\"}},\"xaxis\":{\"gridcolor\":\"#E1E5ED\",\"showgrid\":true,\"tickfont\":{\"color\":\"#4D5663\"},\"title\":{\"font\":{\"color\":\"#4D5663\"},\"text\":\"\"},\"zerolinecolor\":\"#E1E5ED\"},\"yaxis\":{\"gridcolor\":\"#E1E5ED\",\"showgrid\":true,\"tickfont\":{\"color\":\"#4D5663\"},\"title\":{\"font\":{\"color\":\"#4D5663\"},\"text\":\"\"},\"zerolinecolor\":\"#E1E5ED\"}},                        {\"showLink\": true, \"linkText\": \"Export to plot.ly\", \"plotlyServerURL\": \"https://plot.ly\", \"responsive\": true}                    ).then(function(){\n",
       "                            \n",
       "var gd = document.getElementById('94aeabfc-bace-41ea-9fc0-6524fe9f4bb1');\n",
       "var x = new MutationObserver(function (mutations, observer) {{\n",
       "        var display = window.getComputedStyle(gd).display;\n",
       "        if (!display || display === 'none') {{\n",
       "            console.log([gd, 'removed!']);\n",
       "            Plotly.purge(gd);\n",
       "            observer.disconnect();\n",
       "        }}\n",
       "}});\n",
       "\n",
       "// Listen for the removal of the full notebook cells\n",
       "var notebookContainer = gd.closest('#notebook-container');\n",
       "if (notebookContainer) {{\n",
       "    x.observe(notebookContainer, {childList: true});\n",
       "}}\n",
       "\n",
       "// Listen for the clearing of the current output cell\n",
       "var outputEl = gd.closest('.output');\n",
       "if (outputEl) {{\n",
       "    x.observe(outputEl, {childList: true});\n",
       "}}\n",
       "\n",
       "                        })                };                });            </script>        </div>"
      ],
      "application/vnd.plotly.v1+json": {
       "config": {
        "linkText": "Export to plot.ly",
        "plotlyServerURL": "https://plot.ly",
        "showLink": true
       },
       "data": [
        {
         "colorscale": [
          [
           0,
           "rgb(255, 153, 51)"
          ],
          [
           0.1111111111111111,
           "rgb(55, 128, 191)"
          ],
          [
           0.2222222222222222,
           "rgb(50, 171, 96)"
          ],
          [
           0.3333333333333333,
           "rgb(128, 0, 128)"
          ],
          [
           0.4444444444444444,
           "rgb(219, 64, 82)"
          ],
          [
           0.5555555555555556,
           "rgb(0, 128, 128)"
          ],
          [
           0.6666666666666666,
           "rgb(255, 255, 51)"
          ],
          [
           0.7777777777777778,
           "rgb(128, 128, 0)"
          ],
          [
           0.8888888888888888,
           "rgb(251, 128, 114)"
          ],
          [
           1,
           "rgb(128, 177, 211)"
          ]
         ],
         "type": "surface",
         "x": [
          0,
          1,
          2,
          3,
          4
         ],
         "y": [
          "x",
          "y",
          "z"
         ],
         "z": [
          [
           1,
           2,
           3,
           4,
           5
          ],
          [
           10,
           20,
           30,
           20,
           10
          ],
          [
           500,
           400,
           300,
           200,
           100
          ]
         ]
        }
       ],
       "layout": {
        "legend": {
         "bgcolor": "#F5F6F9",
         "font": {
          "color": "#4D5663"
         }
        },
        "paper_bgcolor": "#F5F6F9",
        "plot_bgcolor": "#F5F6F9",
        "template": {
         "data": {
          "bar": [
           {
            "error_x": {
             "color": "#2a3f5f"
            },
            "error_y": {
             "color": "#2a3f5f"
            },
            "marker": {
             "line": {
              "color": "#E5ECF6",
              "width": 0.5
             },
             "pattern": {
              "fillmode": "overlay",
              "size": 10,
              "solidity": 0.2
             }
            },
            "type": "bar"
           }
          ],
          "barpolar": [
           {
            "marker": {
             "line": {
              "color": "#E5ECF6",
              "width": 0.5
             },
             "pattern": {
              "fillmode": "overlay",
              "size": 10,
              "solidity": 0.2
             }
            },
            "type": "barpolar"
           }
          ],
          "carpet": [
           {
            "aaxis": {
             "endlinecolor": "#2a3f5f",
             "gridcolor": "white",
             "linecolor": "white",
             "minorgridcolor": "white",
             "startlinecolor": "#2a3f5f"
            },
            "baxis": {
             "endlinecolor": "#2a3f5f",
             "gridcolor": "white",
             "linecolor": "white",
             "minorgridcolor": "white",
             "startlinecolor": "#2a3f5f"
            },
            "type": "carpet"
           }
          ],
          "choropleth": [
           {
            "colorbar": {
             "outlinewidth": 0,
             "ticks": ""
            },
            "type": "choropleth"
           }
          ],
          "contour": [
           {
            "colorbar": {
             "outlinewidth": 0,
             "ticks": ""
            },
            "colorscale": [
             [
              0,
              "#0d0887"
             ],
             [
              0.1111111111111111,
              "#46039f"
             ],
             [
              0.2222222222222222,
              "#7201a8"
             ],
             [
              0.3333333333333333,
              "#9c179e"
             ],
             [
              0.4444444444444444,
              "#bd3786"
             ],
             [
              0.5555555555555556,
              "#d8576b"
             ],
             [
              0.6666666666666666,
              "#ed7953"
             ],
             [
              0.7777777777777778,
              "#fb9f3a"
             ],
             [
              0.8888888888888888,
              "#fdca26"
             ],
             [
              1,
              "#f0f921"
             ]
            ],
            "type": "contour"
           }
          ],
          "contourcarpet": [
           {
            "colorbar": {
             "outlinewidth": 0,
             "ticks": ""
            },
            "type": "contourcarpet"
           }
          ],
          "heatmap": [
           {
            "colorbar": {
             "outlinewidth": 0,
             "ticks": ""
            },
            "colorscale": [
             [
              0,
              "#0d0887"
             ],
             [
              0.1111111111111111,
              "#46039f"
             ],
             [
              0.2222222222222222,
              "#7201a8"
             ],
             [
              0.3333333333333333,
              "#9c179e"
             ],
             [
              0.4444444444444444,
              "#bd3786"
             ],
             [
              0.5555555555555556,
              "#d8576b"
             ],
             [
              0.6666666666666666,
              "#ed7953"
             ],
             [
              0.7777777777777778,
              "#fb9f3a"
             ],
             [
              0.8888888888888888,
              "#fdca26"
             ],
             [
              1,
              "#f0f921"
             ]
            ],
            "type": "heatmap"
           }
          ],
          "heatmapgl": [
           {
            "colorbar": {
             "outlinewidth": 0,
             "ticks": ""
            },
            "colorscale": [
             [
              0,
              "#0d0887"
             ],
             [
              0.1111111111111111,
              "#46039f"
             ],
             [
              0.2222222222222222,
              "#7201a8"
             ],
             [
              0.3333333333333333,
              "#9c179e"
             ],
             [
              0.4444444444444444,
              "#bd3786"
             ],
             [
              0.5555555555555556,
              "#d8576b"
             ],
             [
              0.6666666666666666,
              "#ed7953"
             ],
             [
              0.7777777777777778,
              "#fb9f3a"
             ],
             [
              0.8888888888888888,
              "#fdca26"
             ],
             [
              1,
              "#f0f921"
             ]
            ],
            "type": "heatmapgl"
           }
          ],
          "histogram": [
           {
            "marker": {
             "pattern": {
              "fillmode": "overlay",
              "size": 10,
              "solidity": 0.2
             }
            },
            "type": "histogram"
           }
          ],
          "histogram2d": [
           {
            "colorbar": {
             "outlinewidth": 0,
             "ticks": ""
            },
            "colorscale": [
             [
              0,
              "#0d0887"
             ],
             [
              0.1111111111111111,
              "#46039f"
             ],
             [
              0.2222222222222222,
              "#7201a8"
             ],
             [
              0.3333333333333333,
              "#9c179e"
             ],
             [
              0.4444444444444444,
              "#bd3786"
             ],
             [
              0.5555555555555556,
              "#d8576b"
             ],
             [
              0.6666666666666666,
              "#ed7953"
             ],
             [
              0.7777777777777778,
              "#fb9f3a"
             ],
             [
              0.8888888888888888,
              "#fdca26"
             ],
             [
              1,
              "#f0f921"
             ]
            ],
            "type": "histogram2d"
           }
          ],
          "histogram2dcontour": [
           {
            "colorbar": {
             "outlinewidth": 0,
             "ticks": ""
            },
            "colorscale": [
             [
              0,
              "#0d0887"
             ],
             [
              0.1111111111111111,
              "#46039f"
             ],
             [
              0.2222222222222222,
              "#7201a8"
             ],
             [
              0.3333333333333333,
              "#9c179e"
             ],
             [
              0.4444444444444444,
              "#bd3786"
             ],
             [
              0.5555555555555556,
              "#d8576b"
             ],
             [
              0.6666666666666666,
              "#ed7953"
             ],
             [
              0.7777777777777778,
              "#fb9f3a"
             ],
             [
              0.8888888888888888,
              "#fdca26"
             ],
             [
              1,
              "#f0f921"
             ]
            ],
            "type": "histogram2dcontour"
           }
          ],
          "mesh3d": [
           {
            "colorbar": {
             "outlinewidth": 0,
             "ticks": ""
            },
            "type": "mesh3d"
           }
          ],
          "parcoords": [
           {
            "line": {
             "colorbar": {
              "outlinewidth": 0,
              "ticks": ""
             }
            },
            "type": "parcoords"
           }
          ],
          "pie": [
           {
            "automargin": true,
            "type": "pie"
           }
          ],
          "scatter": [
           {
            "marker": {
             "colorbar": {
              "outlinewidth": 0,
              "ticks": ""
             }
            },
            "type": "scatter"
           }
          ],
          "scatter3d": [
           {
            "line": {
             "colorbar": {
              "outlinewidth": 0,
              "ticks": ""
             }
            },
            "marker": {
             "colorbar": {
              "outlinewidth": 0,
              "ticks": ""
             }
            },
            "type": "scatter3d"
           }
          ],
          "scattercarpet": [
           {
            "marker": {
             "colorbar": {
              "outlinewidth": 0,
              "ticks": ""
             }
            },
            "type": "scattercarpet"
           }
          ],
          "scattergeo": [
           {
            "marker": {
             "colorbar": {
              "outlinewidth": 0,
              "ticks": ""
             }
            },
            "type": "scattergeo"
           }
          ],
          "scattergl": [
           {
            "marker": {
             "colorbar": {
              "outlinewidth": 0,
              "ticks": ""
             }
            },
            "type": "scattergl"
           }
          ],
          "scattermapbox": [
           {
            "marker": {
             "colorbar": {
              "outlinewidth": 0,
              "ticks": ""
             }
            },
            "type": "scattermapbox"
           }
          ],
          "scatterpolar": [
           {
            "marker": {
             "colorbar": {
              "outlinewidth": 0,
              "ticks": ""
             }
            },
            "type": "scatterpolar"
           }
          ],
          "scatterpolargl": [
           {
            "marker": {
             "colorbar": {
              "outlinewidth": 0,
              "ticks": ""
             }
            },
            "type": "scatterpolargl"
           }
          ],
          "scatterternary": [
           {
            "marker": {
             "colorbar": {
              "outlinewidth": 0,
              "ticks": ""
             }
            },
            "type": "scatterternary"
           }
          ],
          "surface": [
           {
            "colorbar": {
             "outlinewidth": 0,
             "ticks": ""
            },
            "colorscale": [
             [
              0,
              "#0d0887"
             ],
             [
              0.1111111111111111,
              "#46039f"
             ],
             [
              0.2222222222222222,
              "#7201a8"
             ],
             [
              0.3333333333333333,
              "#9c179e"
             ],
             [
              0.4444444444444444,
              "#bd3786"
             ],
             [
              0.5555555555555556,
              "#d8576b"
             ],
             [
              0.6666666666666666,
              "#ed7953"
             ],
             [
              0.7777777777777778,
              "#fb9f3a"
             ],
             [
              0.8888888888888888,
              "#fdca26"
             ],
             [
              1,
              "#f0f921"
             ]
            ],
            "type": "surface"
           }
          ],
          "table": [
           {
            "cells": {
             "fill": {
              "color": "#EBF0F8"
             },
             "line": {
              "color": "white"
             }
            },
            "header": {
             "fill": {
              "color": "#C8D4E3"
             },
             "line": {
              "color": "white"
             }
            },
            "type": "table"
           }
          ]
         },
         "layout": {
          "annotationdefaults": {
           "arrowcolor": "#2a3f5f",
           "arrowhead": 0,
           "arrowwidth": 1
          },
          "autotypenumbers": "strict",
          "coloraxis": {
           "colorbar": {
            "outlinewidth": 0,
            "ticks": ""
           }
          },
          "colorscale": {
           "diverging": [
            [
             0,
             "#8e0152"
            ],
            [
             0.1,
             "#c51b7d"
            ],
            [
             0.2,
             "#de77ae"
            ],
            [
             0.3,
             "#f1b6da"
            ],
            [
             0.4,
             "#fde0ef"
            ],
            [
             0.5,
             "#f7f7f7"
            ],
            [
             0.6,
             "#e6f5d0"
            ],
            [
             0.7,
             "#b8e186"
            ],
            [
             0.8,
             "#7fbc41"
            ],
            [
             0.9,
             "#4d9221"
            ],
            [
             1,
             "#276419"
            ]
           ],
           "sequential": [
            [
             0,
             "#0d0887"
            ],
            [
             0.1111111111111111,
             "#46039f"
            ],
            [
             0.2222222222222222,
             "#7201a8"
            ],
            [
             0.3333333333333333,
             "#9c179e"
            ],
            [
             0.4444444444444444,
             "#bd3786"
            ],
            [
             0.5555555555555556,
             "#d8576b"
            ],
            [
             0.6666666666666666,
             "#ed7953"
            ],
            [
             0.7777777777777778,
             "#fb9f3a"
            ],
            [
             0.8888888888888888,
             "#fdca26"
            ],
            [
             1,
             "#f0f921"
            ]
           ],
           "sequentialminus": [
            [
             0,
             "#0d0887"
            ],
            [
             0.1111111111111111,
             "#46039f"
            ],
            [
             0.2222222222222222,
             "#7201a8"
            ],
            [
             0.3333333333333333,
             "#9c179e"
            ],
            [
             0.4444444444444444,
             "#bd3786"
            ],
            [
             0.5555555555555556,
             "#d8576b"
            ],
            [
             0.6666666666666666,
             "#ed7953"
            ],
            [
             0.7777777777777778,
             "#fb9f3a"
            ],
            [
             0.8888888888888888,
             "#fdca26"
            ],
            [
             1,
             "#f0f921"
            ]
           ]
          },
          "colorway": [
           "#636efa",
           "#EF553B",
           "#00cc96",
           "#ab63fa",
           "#FFA15A",
           "#19d3f3",
           "#FF6692",
           "#B6E880",
           "#FF97FF",
           "#FECB52"
          ],
          "font": {
           "color": "#2a3f5f"
          },
          "geo": {
           "bgcolor": "white",
           "lakecolor": "white",
           "landcolor": "#E5ECF6",
           "showlakes": true,
           "showland": true,
           "subunitcolor": "white"
          },
          "hoverlabel": {
           "align": "left"
          },
          "hovermode": "closest",
          "mapbox": {
           "style": "light"
          },
          "paper_bgcolor": "white",
          "plot_bgcolor": "#E5ECF6",
          "polar": {
           "angularaxis": {
            "gridcolor": "white",
            "linecolor": "white",
            "ticks": ""
           },
           "bgcolor": "#E5ECF6",
           "radialaxis": {
            "gridcolor": "white",
            "linecolor": "white",
            "ticks": ""
           }
          },
          "scene": {
           "xaxis": {
            "backgroundcolor": "#E5ECF6",
            "gridcolor": "white",
            "gridwidth": 2,
            "linecolor": "white",
            "showbackground": true,
            "ticks": "",
            "zerolinecolor": "white"
           },
           "yaxis": {
            "backgroundcolor": "#E5ECF6",
            "gridcolor": "white",
            "gridwidth": 2,
            "linecolor": "white",
            "showbackground": true,
            "ticks": "",
            "zerolinecolor": "white"
           },
           "zaxis": {
            "backgroundcolor": "#E5ECF6",
            "gridcolor": "white",
            "gridwidth": 2,
            "linecolor": "white",
            "showbackground": true,
            "ticks": "",
            "zerolinecolor": "white"
           }
          },
          "shapedefaults": {
           "line": {
            "color": "#2a3f5f"
           }
          },
          "ternary": {
           "aaxis": {
            "gridcolor": "white",
            "linecolor": "white",
            "ticks": ""
           },
           "baxis": {
            "gridcolor": "white",
            "linecolor": "white",
            "ticks": ""
           },
           "bgcolor": "#E5ECF6",
           "caxis": {
            "gridcolor": "white",
            "linecolor": "white",
            "ticks": ""
           }
          },
          "title": {
           "x": 0.05
          },
          "xaxis": {
           "automargin": true,
           "gridcolor": "white",
           "linecolor": "white",
           "ticks": "",
           "title": {
            "standoff": 15
           },
           "zerolinecolor": "white",
           "zerolinewidth": 2
          },
          "yaxis": {
           "automargin": true,
           "gridcolor": "white",
           "linecolor": "white",
           "ticks": "",
           "title": {
            "standoff": 15
           },
           "zerolinecolor": "white",
           "zerolinewidth": 2
          }
         }
        },
        "title": {
         "font": {
          "color": "#4D5663"
         }
        },
        "xaxis": {
         "gridcolor": "#E1E5ED",
         "showgrid": true,
         "tickfont": {
          "color": "#4D5663"
         },
         "title": {
          "font": {
           "color": "#4D5663"
          },
          "text": ""
         },
         "zerolinecolor": "#E1E5ED"
        },
        "yaxis": {
         "gridcolor": "#E1E5ED",
         "showgrid": true,
         "tickfont": {
          "color": "#4D5663"
         },
         "title": {
          "font": {
           "color": "#4D5663"
          },
          "text": ""
         },
         "zerolinecolor": "#E1E5ED"
        }
       }
      }
     },
     "metadata": {}
    }
   ],
   "metadata": {}
  },
  {
   "cell_type": "code",
   "execution_count": 30,
   "source": [
    "df4 =  pd.DataFrame({'x':[1,2,3,4,5], 'y':[10,20,30,20,10], 'z':[5,4,3,2,1]})\r\n",
    "df4.iplot(kind='surface', colorscale='rdylbu')"
   ],
   "outputs": [
    {
     "output_type": "display_data",
     "data": {
      "text/html": [
       "<div>                            <div id=\"1363a702-bd73-4761-bbfd-7195c9a5b54c\" class=\"plotly-graph-div\" style=\"height:525px; width:100%;\"></div>            <script type=\"text/javascript\">                require([\"plotly\"], function(Plotly) {                    window.PLOTLYENV=window.PLOTLYENV || {};\n",
       "                    window.PLOTLYENV.BASE_URL='https://plot.ly';                                    if (document.getElementById(\"1363a702-bd73-4761-bbfd-7195c9a5b54c\")) {                    Plotly.newPlot(                        \"1363a702-bd73-4761-bbfd-7195c9a5b54c\",                        [{\"colorscale\":[[0.0,\"rgb(165,0,38)\"],[0.1,\"rgb(215,48,39)\"],[0.2,\"rgb(244,109,67)\"],[0.3,\"rgb(253,174,97)\"],[0.4,\"rgb(254,224,144)\"],[0.5,\"rgb(255,255,191)\"],[0.6,\"rgb(224,243,248)\"],[0.7,\"rgb(171,217,233)\"],[0.8,\"rgb(116,173,209)\"],[0.9,\"rgb(69,117,180)\"],[1.0,\"rgb(49,54,149)\"]],\"type\":\"surface\",\"x\":[0,1,2,3,4],\"y\":[\"x\",\"y\",\"z\"],\"z\":[[1,2,3,4,5],[10,20,30,20,10],[5,4,3,2,1]]}],                        {\"legend\":{\"bgcolor\":\"#F5F6F9\",\"font\":{\"color\":\"#4D5663\"}},\"paper_bgcolor\":\"#F5F6F9\",\"plot_bgcolor\":\"#F5F6F9\",\"template\":{\"data\":{\"bar\":[{\"error_x\":{\"color\":\"#2a3f5f\"},\"error_y\":{\"color\":\"#2a3f5f\"},\"marker\":{\"line\":{\"color\":\"#E5ECF6\",\"width\":0.5},\"pattern\":{\"fillmode\":\"overlay\",\"size\":10,\"solidity\":0.2}},\"type\":\"bar\"}],\"barpolar\":[{\"marker\":{\"line\":{\"color\":\"#E5ECF6\",\"width\":0.5},\"pattern\":{\"fillmode\":\"overlay\",\"size\":10,\"solidity\":0.2}},\"type\":\"barpolar\"}],\"carpet\":[{\"aaxis\":{\"endlinecolor\":\"#2a3f5f\",\"gridcolor\":\"white\",\"linecolor\":\"white\",\"minorgridcolor\":\"white\",\"startlinecolor\":\"#2a3f5f\"},\"baxis\":{\"endlinecolor\":\"#2a3f5f\",\"gridcolor\":\"white\",\"linecolor\":\"white\",\"minorgridcolor\":\"white\",\"startlinecolor\":\"#2a3f5f\"},\"type\":\"carpet\"}],\"choropleth\":[{\"colorbar\":{\"outlinewidth\":0,\"ticks\":\"\"},\"type\":\"choropleth\"}],\"contour\":[{\"colorbar\":{\"outlinewidth\":0,\"ticks\":\"\"},\"colorscale\":[[0.0,\"#0d0887\"],[0.1111111111111111,\"#46039f\"],[0.2222222222222222,\"#7201a8\"],[0.3333333333333333,\"#9c179e\"],[0.4444444444444444,\"#bd3786\"],[0.5555555555555556,\"#d8576b\"],[0.6666666666666666,\"#ed7953\"],[0.7777777777777778,\"#fb9f3a\"],[0.8888888888888888,\"#fdca26\"],[1.0,\"#f0f921\"]],\"type\":\"contour\"}],\"contourcarpet\":[{\"colorbar\":{\"outlinewidth\":0,\"ticks\":\"\"},\"type\":\"contourcarpet\"}],\"heatmap\":[{\"colorbar\":{\"outlinewidth\":0,\"ticks\":\"\"},\"colorscale\":[[0.0,\"#0d0887\"],[0.1111111111111111,\"#46039f\"],[0.2222222222222222,\"#7201a8\"],[0.3333333333333333,\"#9c179e\"],[0.4444444444444444,\"#bd3786\"],[0.5555555555555556,\"#d8576b\"],[0.6666666666666666,\"#ed7953\"],[0.7777777777777778,\"#fb9f3a\"],[0.8888888888888888,\"#fdca26\"],[1.0,\"#f0f921\"]],\"type\":\"heatmap\"}],\"heatmapgl\":[{\"colorbar\":{\"outlinewidth\":0,\"ticks\":\"\"},\"colorscale\":[[0.0,\"#0d0887\"],[0.1111111111111111,\"#46039f\"],[0.2222222222222222,\"#7201a8\"],[0.3333333333333333,\"#9c179e\"],[0.4444444444444444,\"#bd3786\"],[0.5555555555555556,\"#d8576b\"],[0.6666666666666666,\"#ed7953\"],[0.7777777777777778,\"#fb9f3a\"],[0.8888888888888888,\"#fdca26\"],[1.0,\"#f0f921\"]],\"type\":\"heatmapgl\"}],\"histogram\":[{\"marker\":{\"pattern\":{\"fillmode\":\"overlay\",\"size\":10,\"solidity\":0.2}},\"type\":\"histogram\"}],\"histogram2d\":[{\"colorbar\":{\"outlinewidth\":0,\"ticks\":\"\"},\"colorscale\":[[0.0,\"#0d0887\"],[0.1111111111111111,\"#46039f\"],[0.2222222222222222,\"#7201a8\"],[0.3333333333333333,\"#9c179e\"],[0.4444444444444444,\"#bd3786\"],[0.5555555555555556,\"#d8576b\"],[0.6666666666666666,\"#ed7953\"],[0.7777777777777778,\"#fb9f3a\"],[0.8888888888888888,\"#fdca26\"],[1.0,\"#f0f921\"]],\"type\":\"histogram2d\"}],\"histogram2dcontour\":[{\"colorbar\":{\"outlinewidth\":0,\"ticks\":\"\"},\"colorscale\":[[0.0,\"#0d0887\"],[0.1111111111111111,\"#46039f\"],[0.2222222222222222,\"#7201a8\"],[0.3333333333333333,\"#9c179e\"],[0.4444444444444444,\"#bd3786\"],[0.5555555555555556,\"#d8576b\"],[0.6666666666666666,\"#ed7953\"],[0.7777777777777778,\"#fb9f3a\"],[0.8888888888888888,\"#fdca26\"],[1.0,\"#f0f921\"]],\"type\":\"histogram2dcontour\"}],\"mesh3d\":[{\"colorbar\":{\"outlinewidth\":0,\"ticks\":\"\"},\"type\":\"mesh3d\"}],\"parcoords\":[{\"line\":{\"colorbar\":{\"outlinewidth\":0,\"ticks\":\"\"}},\"type\":\"parcoords\"}],\"pie\":[{\"automargin\":true,\"type\":\"pie\"}],\"scatter\":[{\"marker\":{\"colorbar\":{\"outlinewidth\":0,\"ticks\":\"\"}},\"type\":\"scatter\"}],\"scatter3d\":[{\"line\":{\"colorbar\":{\"outlinewidth\":0,\"ticks\":\"\"}},\"marker\":{\"colorbar\":{\"outlinewidth\":0,\"ticks\":\"\"}},\"type\":\"scatter3d\"}],\"scattercarpet\":[{\"marker\":{\"colorbar\":{\"outlinewidth\":0,\"ticks\":\"\"}},\"type\":\"scattercarpet\"}],\"scattergeo\":[{\"marker\":{\"colorbar\":{\"outlinewidth\":0,\"ticks\":\"\"}},\"type\":\"scattergeo\"}],\"scattergl\":[{\"marker\":{\"colorbar\":{\"outlinewidth\":0,\"ticks\":\"\"}},\"type\":\"scattergl\"}],\"scattermapbox\":[{\"marker\":{\"colorbar\":{\"outlinewidth\":0,\"ticks\":\"\"}},\"type\":\"scattermapbox\"}],\"scatterpolar\":[{\"marker\":{\"colorbar\":{\"outlinewidth\":0,\"ticks\":\"\"}},\"type\":\"scatterpolar\"}],\"scatterpolargl\":[{\"marker\":{\"colorbar\":{\"outlinewidth\":0,\"ticks\":\"\"}},\"type\":\"scatterpolargl\"}],\"scatterternary\":[{\"marker\":{\"colorbar\":{\"outlinewidth\":0,\"ticks\":\"\"}},\"type\":\"scatterternary\"}],\"surface\":[{\"colorbar\":{\"outlinewidth\":0,\"ticks\":\"\"},\"colorscale\":[[0.0,\"#0d0887\"],[0.1111111111111111,\"#46039f\"],[0.2222222222222222,\"#7201a8\"],[0.3333333333333333,\"#9c179e\"],[0.4444444444444444,\"#bd3786\"],[0.5555555555555556,\"#d8576b\"],[0.6666666666666666,\"#ed7953\"],[0.7777777777777778,\"#fb9f3a\"],[0.8888888888888888,\"#fdca26\"],[1.0,\"#f0f921\"]],\"type\":\"surface\"}],\"table\":[{\"cells\":{\"fill\":{\"color\":\"#EBF0F8\"},\"line\":{\"color\":\"white\"}},\"header\":{\"fill\":{\"color\":\"#C8D4E3\"},\"line\":{\"color\":\"white\"}},\"type\":\"table\"}]},\"layout\":{\"annotationdefaults\":{\"arrowcolor\":\"#2a3f5f\",\"arrowhead\":0,\"arrowwidth\":1},\"autotypenumbers\":\"strict\",\"coloraxis\":{\"colorbar\":{\"outlinewidth\":0,\"ticks\":\"\"}},\"colorscale\":{\"diverging\":[[0,\"#8e0152\"],[0.1,\"#c51b7d\"],[0.2,\"#de77ae\"],[0.3,\"#f1b6da\"],[0.4,\"#fde0ef\"],[0.5,\"#f7f7f7\"],[0.6,\"#e6f5d0\"],[0.7,\"#b8e186\"],[0.8,\"#7fbc41\"],[0.9,\"#4d9221\"],[1,\"#276419\"]],\"sequential\":[[0.0,\"#0d0887\"],[0.1111111111111111,\"#46039f\"],[0.2222222222222222,\"#7201a8\"],[0.3333333333333333,\"#9c179e\"],[0.4444444444444444,\"#bd3786\"],[0.5555555555555556,\"#d8576b\"],[0.6666666666666666,\"#ed7953\"],[0.7777777777777778,\"#fb9f3a\"],[0.8888888888888888,\"#fdca26\"],[1.0,\"#f0f921\"]],\"sequentialminus\":[[0.0,\"#0d0887\"],[0.1111111111111111,\"#46039f\"],[0.2222222222222222,\"#7201a8\"],[0.3333333333333333,\"#9c179e\"],[0.4444444444444444,\"#bd3786\"],[0.5555555555555556,\"#d8576b\"],[0.6666666666666666,\"#ed7953\"],[0.7777777777777778,\"#fb9f3a\"],[0.8888888888888888,\"#fdca26\"],[1.0,\"#f0f921\"]]},\"colorway\":[\"#636efa\",\"#EF553B\",\"#00cc96\",\"#ab63fa\",\"#FFA15A\",\"#19d3f3\",\"#FF6692\",\"#B6E880\",\"#FF97FF\",\"#FECB52\"],\"font\":{\"color\":\"#2a3f5f\"},\"geo\":{\"bgcolor\":\"white\",\"lakecolor\":\"white\",\"landcolor\":\"#E5ECF6\",\"showlakes\":true,\"showland\":true,\"subunitcolor\":\"white\"},\"hoverlabel\":{\"align\":\"left\"},\"hovermode\":\"closest\",\"mapbox\":{\"style\":\"light\"},\"paper_bgcolor\":\"white\",\"plot_bgcolor\":\"#E5ECF6\",\"polar\":{\"angularaxis\":{\"gridcolor\":\"white\",\"linecolor\":\"white\",\"ticks\":\"\"},\"bgcolor\":\"#E5ECF6\",\"radialaxis\":{\"gridcolor\":\"white\",\"linecolor\":\"white\",\"ticks\":\"\"}},\"scene\":{\"xaxis\":{\"backgroundcolor\":\"#E5ECF6\",\"gridcolor\":\"white\",\"gridwidth\":2,\"linecolor\":\"white\",\"showbackground\":true,\"ticks\":\"\",\"zerolinecolor\":\"white\"},\"yaxis\":{\"backgroundcolor\":\"#E5ECF6\",\"gridcolor\":\"white\",\"gridwidth\":2,\"linecolor\":\"white\",\"showbackground\":true,\"ticks\":\"\",\"zerolinecolor\":\"white\"},\"zaxis\":{\"backgroundcolor\":\"#E5ECF6\",\"gridcolor\":\"white\",\"gridwidth\":2,\"linecolor\":\"white\",\"showbackground\":true,\"ticks\":\"\",\"zerolinecolor\":\"white\"}},\"shapedefaults\":{\"line\":{\"color\":\"#2a3f5f\"}},\"ternary\":{\"aaxis\":{\"gridcolor\":\"white\",\"linecolor\":\"white\",\"ticks\":\"\"},\"baxis\":{\"gridcolor\":\"white\",\"linecolor\":\"white\",\"ticks\":\"\"},\"bgcolor\":\"#E5ECF6\",\"caxis\":{\"gridcolor\":\"white\",\"linecolor\":\"white\",\"ticks\":\"\"}},\"title\":{\"x\":0.05},\"xaxis\":{\"automargin\":true,\"gridcolor\":\"white\",\"linecolor\":\"white\",\"ticks\":\"\",\"title\":{\"standoff\":15},\"zerolinecolor\":\"white\",\"zerolinewidth\":2},\"yaxis\":{\"automargin\":true,\"gridcolor\":\"white\",\"linecolor\":\"white\",\"ticks\":\"\",\"title\":{\"standoff\":15},\"zerolinecolor\":\"white\",\"zerolinewidth\":2}}},\"title\":{\"font\":{\"color\":\"#4D5663\"}},\"xaxis\":{\"gridcolor\":\"#E1E5ED\",\"showgrid\":true,\"tickfont\":{\"color\":\"#4D5663\"},\"title\":{\"font\":{\"color\":\"#4D5663\"},\"text\":\"\"},\"zerolinecolor\":\"#E1E5ED\"},\"yaxis\":{\"gridcolor\":\"#E1E5ED\",\"showgrid\":true,\"tickfont\":{\"color\":\"#4D5663\"},\"title\":{\"font\":{\"color\":\"#4D5663\"},\"text\":\"\"},\"zerolinecolor\":\"#E1E5ED\"}},                        {\"showLink\": true, \"linkText\": \"Export to plot.ly\", \"plotlyServerURL\": \"https://plot.ly\", \"responsive\": true}                    ).then(function(){\n",
       "                            \n",
       "var gd = document.getElementById('1363a702-bd73-4761-bbfd-7195c9a5b54c');\n",
       "var x = new MutationObserver(function (mutations, observer) {{\n",
       "        var display = window.getComputedStyle(gd).display;\n",
       "        if (!display || display === 'none') {{\n",
       "            console.log([gd, 'removed!']);\n",
       "            Plotly.purge(gd);\n",
       "            observer.disconnect();\n",
       "        }}\n",
       "}});\n",
       "\n",
       "// Listen for the removal of the full notebook cells\n",
       "var notebookContainer = gd.closest('#notebook-container');\n",
       "if (notebookContainer) {{\n",
       "    x.observe(notebookContainer, {childList: true});\n",
       "}}\n",
       "\n",
       "// Listen for the clearing of the current output cell\n",
       "var outputEl = gd.closest('.output');\n",
       "if (outputEl) {{\n",
       "    x.observe(outputEl, {childList: true});\n",
       "}}\n",
       "\n",
       "                        })                };                });            </script>        </div>"
      ],
      "application/vnd.plotly.v1+json": {
       "config": {
        "linkText": "Export to plot.ly",
        "plotlyServerURL": "https://plot.ly",
        "showLink": true
       },
       "data": [
        {
         "colorscale": [
          [
           0,
           "rgb(165,0,38)"
          ],
          [
           0.1,
           "rgb(215,48,39)"
          ],
          [
           0.2,
           "rgb(244,109,67)"
          ],
          [
           0.3,
           "rgb(253,174,97)"
          ],
          [
           0.4,
           "rgb(254,224,144)"
          ],
          [
           0.5,
           "rgb(255,255,191)"
          ],
          [
           0.6,
           "rgb(224,243,248)"
          ],
          [
           0.7,
           "rgb(171,217,233)"
          ],
          [
           0.8,
           "rgb(116,173,209)"
          ],
          [
           0.9,
           "rgb(69,117,180)"
          ],
          [
           1,
           "rgb(49,54,149)"
          ]
         ],
         "type": "surface",
         "x": [
          0,
          1,
          2,
          3,
          4
         ],
         "y": [
          "x",
          "y",
          "z"
         ],
         "z": [
          [
           1,
           2,
           3,
           4,
           5
          ],
          [
           10,
           20,
           30,
           20,
           10
          ],
          [
           5,
           4,
           3,
           2,
           1
          ]
         ]
        }
       ],
       "layout": {
        "legend": {
         "bgcolor": "#F5F6F9",
         "font": {
          "color": "#4D5663"
         }
        },
        "paper_bgcolor": "#F5F6F9",
        "plot_bgcolor": "#F5F6F9",
        "template": {
         "data": {
          "bar": [
           {
            "error_x": {
             "color": "#2a3f5f"
            },
            "error_y": {
             "color": "#2a3f5f"
            },
            "marker": {
             "line": {
              "color": "#E5ECF6",
              "width": 0.5
             },
             "pattern": {
              "fillmode": "overlay",
              "size": 10,
              "solidity": 0.2
             }
            },
            "type": "bar"
           }
          ],
          "barpolar": [
           {
            "marker": {
             "line": {
              "color": "#E5ECF6",
              "width": 0.5
             },
             "pattern": {
              "fillmode": "overlay",
              "size": 10,
              "solidity": 0.2
             }
            },
            "type": "barpolar"
           }
          ],
          "carpet": [
           {
            "aaxis": {
             "endlinecolor": "#2a3f5f",
             "gridcolor": "white",
             "linecolor": "white",
             "minorgridcolor": "white",
             "startlinecolor": "#2a3f5f"
            },
            "baxis": {
             "endlinecolor": "#2a3f5f",
             "gridcolor": "white",
             "linecolor": "white",
             "minorgridcolor": "white",
             "startlinecolor": "#2a3f5f"
            },
            "type": "carpet"
           }
          ],
          "choropleth": [
           {
            "colorbar": {
             "outlinewidth": 0,
             "ticks": ""
            },
            "type": "choropleth"
           }
          ],
          "contour": [
           {
            "colorbar": {
             "outlinewidth": 0,
             "ticks": ""
            },
            "colorscale": [
             [
              0,
              "#0d0887"
             ],
             [
              0.1111111111111111,
              "#46039f"
             ],
             [
              0.2222222222222222,
              "#7201a8"
             ],
             [
              0.3333333333333333,
              "#9c179e"
             ],
             [
              0.4444444444444444,
              "#bd3786"
             ],
             [
              0.5555555555555556,
              "#d8576b"
             ],
             [
              0.6666666666666666,
              "#ed7953"
             ],
             [
              0.7777777777777778,
              "#fb9f3a"
             ],
             [
              0.8888888888888888,
              "#fdca26"
             ],
             [
              1,
              "#f0f921"
             ]
            ],
            "type": "contour"
           }
          ],
          "contourcarpet": [
           {
            "colorbar": {
             "outlinewidth": 0,
             "ticks": ""
            },
            "type": "contourcarpet"
           }
          ],
          "heatmap": [
           {
            "colorbar": {
             "outlinewidth": 0,
             "ticks": ""
            },
            "colorscale": [
             [
              0,
              "#0d0887"
             ],
             [
              0.1111111111111111,
              "#46039f"
             ],
             [
              0.2222222222222222,
              "#7201a8"
             ],
             [
              0.3333333333333333,
              "#9c179e"
             ],
             [
              0.4444444444444444,
              "#bd3786"
             ],
             [
              0.5555555555555556,
              "#d8576b"
             ],
             [
              0.6666666666666666,
              "#ed7953"
             ],
             [
              0.7777777777777778,
              "#fb9f3a"
             ],
             [
              0.8888888888888888,
              "#fdca26"
             ],
             [
              1,
              "#f0f921"
             ]
            ],
            "type": "heatmap"
           }
          ],
          "heatmapgl": [
           {
            "colorbar": {
             "outlinewidth": 0,
             "ticks": ""
            },
            "colorscale": [
             [
              0,
              "#0d0887"
             ],
             [
              0.1111111111111111,
              "#46039f"
             ],
             [
              0.2222222222222222,
              "#7201a8"
             ],
             [
              0.3333333333333333,
              "#9c179e"
             ],
             [
              0.4444444444444444,
              "#bd3786"
             ],
             [
              0.5555555555555556,
              "#d8576b"
             ],
             [
              0.6666666666666666,
              "#ed7953"
             ],
             [
              0.7777777777777778,
              "#fb9f3a"
             ],
             [
              0.8888888888888888,
              "#fdca26"
             ],
             [
              1,
              "#f0f921"
             ]
            ],
            "type": "heatmapgl"
           }
          ],
          "histogram": [
           {
            "marker": {
             "pattern": {
              "fillmode": "overlay",
              "size": 10,
              "solidity": 0.2
             }
            },
            "type": "histogram"
           }
          ],
          "histogram2d": [
           {
            "colorbar": {
             "outlinewidth": 0,
             "ticks": ""
            },
            "colorscale": [
             [
              0,
              "#0d0887"
             ],
             [
              0.1111111111111111,
              "#46039f"
             ],
             [
              0.2222222222222222,
              "#7201a8"
             ],
             [
              0.3333333333333333,
              "#9c179e"
             ],
             [
              0.4444444444444444,
              "#bd3786"
             ],
             [
              0.5555555555555556,
              "#d8576b"
             ],
             [
              0.6666666666666666,
              "#ed7953"
             ],
             [
              0.7777777777777778,
              "#fb9f3a"
             ],
             [
              0.8888888888888888,
              "#fdca26"
             ],
             [
              1,
              "#f0f921"
             ]
            ],
            "type": "histogram2d"
           }
          ],
          "histogram2dcontour": [
           {
            "colorbar": {
             "outlinewidth": 0,
             "ticks": ""
            },
            "colorscale": [
             [
              0,
              "#0d0887"
             ],
             [
              0.1111111111111111,
              "#46039f"
             ],
             [
              0.2222222222222222,
              "#7201a8"
             ],
             [
              0.3333333333333333,
              "#9c179e"
             ],
             [
              0.4444444444444444,
              "#bd3786"
             ],
             [
              0.5555555555555556,
              "#d8576b"
             ],
             [
              0.6666666666666666,
              "#ed7953"
             ],
             [
              0.7777777777777778,
              "#fb9f3a"
             ],
             [
              0.8888888888888888,
              "#fdca26"
             ],
             [
              1,
              "#f0f921"
             ]
            ],
            "type": "histogram2dcontour"
           }
          ],
          "mesh3d": [
           {
            "colorbar": {
             "outlinewidth": 0,
             "ticks": ""
            },
            "type": "mesh3d"
           }
          ],
          "parcoords": [
           {
            "line": {
             "colorbar": {
              "outlinewidth": 0,
              "ticks": ""
             }
            },
            "type": "parcoords"
           }
          ],
          "pie": [
           {
            "automargin": true,
            "type": "pie"
           }
          ],
          "scatter": [
           {
            "marker": {
             "colorbar": {
              "outlinewidth": 0,
              "ticks": ""
             }
            },
            "type": "scatter"
           }
          ],
          "scatter3d": [
           {
            "line": {
             "colorbar": {
              "outlinewidth": 0,
              "ticks": ""
             }
            },
            "marker": {
             "colorbar": {
              "outlinewidth": 0,
              "ticks": ""
             }
            },
            "type": "scatter3d"
           }
          ],
          "scattercarpet": [
           {
            "marker": {
             "colorbar": {
              "outlinewidth": 0,
              "ticks": ""
             }
            },
            "type": "scattercarpet"
           }
          ],
          "scattergeo": [
           {
            "marker": {
             "colorbar": {
              "outlinewidth": 0,
              "ticks": ""
             }
            },
            "type": "scattergeo"
           }
          ],
          "scattergl": [
           {
            "marker": {
             "colorbar": {
              "outlinewidth": 0,
              "ticks": ""
             }
            },
            "type": "scattergl"
           }
          ],
          "scattermapbox": [
           {
            "marker": {
             "colorbar": {
              "outlinewidth": 0,
              "ticks": ""
             }
            },
            "type": "scattermapbox"
           }
          ],
          "scatterpolar": [
           {
            "marker": {
             "colorbar": {
              "outlinewidth": 0,
              "ticks": ""
             }
            },
            "type": "scatterpolar"
           }
          ],
          "scatterpolargl": [
           {
            "marker": {
             "colorbar": {
              "outlinewidth": 0,
              "ticks": ""
             }
            },
            "type": "scatterpolargl"
           }
          ],
          "scatterternary": [
           {
            "marker": {
             "colorbar": {
              "outlinewidth": 0,
              "ticks": ""
             }
            },
            "type": "scatterternary"
           }
          ],
          "surface": [
           {
            "colorbar": {
             "outlinewidth": 0,
             "ticks": ""
            },
            "colorscale": [
             [
              0,
              "#0d0887"
             ],
             [
              0.1111111111111111,
              "#46039f"
             ],
             [
              0.2222222222222222,
              "#7201a8"
             ],
             [
              0.3333333333333333,
              "#9c179e"
             ],
             [
              0.4444444444444444,
              "#bd3786"
             ],
             [
              0.5555555555555556,
              "#d8576b"
             ],
             [
              0.6666666666666666,
              "#ed7953"
             ],
             [
              0.7777777777777778,
              "#fb9f3a"
             ],
             [
              0.8888888888888888,
              "#fdca26"
             ],
             [
              1,
              "#f0f921"
             ]
            ],
            "type": "surface"
           }
          ],
          "table": [
           {
            "cells": {
             "fill": {
              "color": "#EBF0F8"
             },
             "line": {
              "color": "white"
             }
            },
            "header": {
             "fill": {
              "color": "#C8D4E3"
             },
             "line": {
              "color": "white"
             }
            },
            "type": "table"
           }
          ]
         },
         "layout": {
          "annotationdefaults": {
           "arrowcolor": "#2a3f5f",
           "arrowhead": 0,
           "arrowwidth": 1
          },
          "autotypenumbers": "strict",
          "coloraxis": {
           "colorbar": {
            "outlinewidth": 0,
            "ticks": ""
           }
          },
          "colorscale": {
           "diverging": [
            [
             0,
             "#8e0152"
            ],
            [
             0.1,
             "#c51b7d"
            ],
            [
             0.2,
             "#de77ae"
            ],
            [
             0.3,
             "#f1b6da"
            ],
            [
             0.4,
             "#fde0ef"
            ],
            [
             0.5,
             "#f7f7f7"
            ],
            [
             0.6,
             "#e6f5d0"
            ],
            [
             0.7,
             "#b8e186"
            ],
            [
             0.8,
             "#7fbc41"
            ],
            [
             0.9,
             "#4d9221"
            ],
            [
             1,
             "#276419"
            ]
           ],
           "sequential": [
            [
             0,
             "#0d0887"
            ],
            [
             0.1111111111111111,
             "#46039f"
            ],
            [
             0.2222222222222222,
             "#7201a8"
            ],
            [
             0.3333333333333333,
             "#9c179e"
            ],
            [
             0.4444444444444444,
             "#bd3786"
            ],
            [
             0.5555555555555556,
             "#d8576b"
            ],
            [
             0.6666666666666666,
             "#ed7953"
            ],
            [
             0.7777777777777778,
             "#fb9f3a"
            ],
            [
             0.8888888888888888,
             "#fdca26"
            ],
            [
             1,
             "#f0f921"
            ]
           ],
           "sequentialminus": [
            [
             0,
             "#0d0887"
            ],
            [
             0.1111111111111111,
             "#46039f"
            ],
            [
             0.2222222222222222,
             "#7201a8"
            ],
            [
             0.3333333333333333,
             "#9c179e"
            ],
            [
             0.4444444444444444,
             "#bd3786"
            ],
            [
             0.5555555555555556,
             "#d8576b"
            ],
            [
             0.6666666666666666,
             "#ed7953"
            ],
            [
             0.7777777777777778,
             "#fb9f3a"
            ],
            [
             0.8888888888888888,
             "#fdca26"
            ],
            [
             1,
             "#f0f921"
            ]
           ]
          },
          "colorway": [
           "#636efa",
           "#EF553B",
           "#00cc96",
           "#ab63fa",
           "#FFA15A",
           "#19d3f3",
           "#FF6692",
           "#B6E880",
           "#FF97FF",
           "#FECB52"
          ],
          "font": {
           "color": "#2a3f5f"
          },
          "geo": {
           "bgcolor": "white",
           "lakecolor": "white",
           "landcolor": "#E5ECF6",
           "showlakes": true,
           "showland": true,
           "subunitcolor": "white"
          },
          "hoverlabel": {
           "align": "left"
          },
          "hovermode": "closest",
          "mapbox": {
           "style": "light"
          },
          "paper_bgcolor": "white",
          "plot_bgcolor": "#E5ECF6",
          "polar": {
           "angularaxis": {
            "gridcolor": "white",
            "linecolor": "white",
            "ticks": ""
           },
           "bgcolor": "#E5ECF6",
           "radialaxis": {
            "gridcolor": "white",
            "linecolor": "white",
            "ticks": ""
           }
          },
          "scene": {
           "xaxis": {
            "backgroundcolor": "#E5ECF6",
            "gridcolor": "white",
            "gridwidth": 2,
            "linecolor": "white",
            "showbackground": true,
            "ticks": "",
            "zerolinecolor": "white"
           },
           "yaxis": {
            "backgroundcolor": "#E5ECF6",
            "gridcolor": "white",
            "gridwidth": 2,
            "linecolor": "white",
            "showbackground": true,
            "ticks": "",
            "zerolinecolor": "white"
           },
           "zaxis": {
            "backgroundcolor": "#E5ECF6",
            "gridcolor": "white",
            "gridwidth": 2,
            "linecolor": "white",
            "showbackground": true,
            "ticks": "",
            "zerolinecolor": "white"
           }
          },
          "shapedefaults": {
           "line": {
            "color": "#2a3f5f"
           }
          },
          "ternary": {
           "aaxis": {
            "gridcolor": "white",
            "linecolor": "white",
            "ticks": ""
           },
           "baxis": {
            "gridcolor": "white",
            "linecolor": "white",
            "ticks": ""
           },
           "bgcolor": "#E5ECF6",
           "caxis": {
            "gridcolor": "white",
            "linecolor": "white",
            "ticks": ""
           }
          },
          "title": {
           "x": 0.05
          },
          "xaxis": {
           "automargin": true,
           "gridcolor": "white",
           "linecolor": "white",
           "ticks": "",
           "title": {
            "standoff": 15
           },
           "zerolinecolor": "white",
           "zerolinewidth": 2
          },
          "yaxis": {
           "automargin": true,
           "gridcolor": "white",
           "linecolor": "white",
           "ticks": "",
           "title": {
            "standoff": 15
           },
           "zerolinecolor": "white",
           "zerolinewidth": 2
          }
         }
        },
        "title": {
         "font": {
          "color": "#4D5663"
         }
        },
        "xaxis": {
         "gridcolor": "#E1E5ED",
         "showgrid": true,
         "tickfont": {
          "color": "#4D5663"
         },
         "title": {
          "font": {
           "color": "#4D5663"
          },
          "text": ""
         },
         "zerolinecolor": "#E1E5ED"
        },
        "yaxis": {
         "gridcolor": "#E1E5ED",
         "showgrid": true,
         "tickfont": {
          "color": "#4D5663"
         },
         "title": {
          "font": {
           "color": "#4D5663"
          },
          "text": ""
         },
         "zerolinecolor": "#E1E5ED"
        }
       }
      }
     },
     "metadata": {}
    }
   ],
   "metadata": {}
  },
  {
   "cell_type": "code",
   "execution_count": 32,
   "source": [
    "df['A'].iplot(kind='hist', bins=50)"
   ],
   "outputs": [
    {
     "output_type": "display_data",
     "data": {
      "text/html": [
       "<div>                            <div id=\"38dd69e6-03a3-4a96-80cf-9d5f5d585e06\" class=\"plotly-graph-div\" style=\"height:525px; width:100%;\"></div>            <script type=\"text/javascript\">                require([\"plotly\"], function(Plotly) {                    window.PLOTLYENV=window.PLOTLYENV || {};\n",
       "                    window.PLOTLYENV.BASE_URL='https://plot.ly';                                    if (document.getElementById(\"38dd69e6-03a3-4a96-80cf-9d5f5d585e06\")) {                    Plotly.newPlot(                        \"38dd69e6-03a3-4a96-80cf-9d5f5d585e06\",                        [{\"histfunc\":\"count\",\"histnorm\":\"\",\"marker\":{\"color\":\"rgba(255, 153, 51, 1.0)\",\"line\":{\"color\":\"#4D5663\",\"width\":1.3}},\"name\":\"A\",\"nbinsx\":50,\"opacity\":0.8,\"orientation\":\"v\",\"type\":\"histogram\",\"x\":[0.42860790047642905,-0.24150461408966148,0.8033352317583001,-0.4541726165268112,-0.9932670897240472,-1.6407185774656428,1.0292734271511936,0.717201122535486,-0.8328302557547055,-0.29479504395009437,-0.7876330322200155,1.013825910413848,-0.6145438366960542,-0.42143338248421097,1.0861506220781272,1.520376664474774,-0.01777198223317564,-1.6643908381651553,0.08997243361014205,0.1814431345228801,-0.7291269758207538,0.30441811909622163,-0.3331215193748714,-2.443509759910543,1.4038049617436101,-0.5289496253542012,0.5762209244034456,1.7473983249450766,1.1750635751298635,0.3439285942573213,0.06695512250429193,-1.358152089819541,1.3259956980602265,0.9230291574367999,2.1274268735237967,0.01609166317697218,-0.008794112180982546,-0.13078079279846982,-0.9773233004907493,0.42408560898470316,0.4781801921439303,-1.2302375288956056,-2.215534588013989,-0.6173209910577786,0.6873014952127062,-0.20768023471795324,1.3807411511048835,1.5676923985995384,-1.3535828954722193,0.6688398215891643,-1.9417660542959037,0.6086396296874507,-1.6891089331095988,0.8404967201254736,-0.25611772522792703,0.5649218453129284,-1.2455400184288734,0.08511126958214074,-1.2445956780254495,0.693274162901264,-0.555786574996747,0.014188061775017123,0.5756404633679048,-0.07502021616099822,0.8196550337696089,0.14719285707343466,2.0721531962168656,-0.05089514477070536,0.9178935846337136,0.8082192273766469,-0.9342785145415695,-0.7892361220520734,-1.0528167075806287,-0.900300147200952,-0.06378348260655418,-1.4058717991735044,-0.04637611154553381,-0.45343802555693713,0.3609959799788183,-0.9321964504655148,1.9639263256216999,-0.8513017162060174,-1.177257530160419,0.25079731529057353,-0.6455488140585096,-0.3597892849349049,-0.3522676026628601,0.03400583986455085,-0.4119885784095581,-0.668910236483875,0.6638172609013666,-0.09892944489312143,-1.9553751667413874,1.0932030834818462,0.7807217842469781,0.8029768142523035,-1.2272581484898053,-0.6477754460806492,1.9529843160513334,-0.84237910998657]}],                        {\"barmode\":\"overlay\",\"legend\":{\"bgcolor\":\"#F5F6F9\",\"font\":{\"color\":\"#4D5663\"}},\"paper_bgcolor\":\"#F5F6F9\",\"plot_bgcolor\":\"#F5F6F9\",\"template\":{\"data\":{\"bar\":[{\"error_x\":{\"color\":\"#2a3f5f\"},\"error_y\":{\"color\":\"#2a3f5f\"},\"marker\":{\"line\":{\"color\":\"#E5ECF6\",\"width\":0.5},\"pattern\":{\"fillmode\":\"overlay\",\"size\":10,\"solidity\":0.2}},\"type\":\"bar\"}],\"barpolar\":[{\"marker\":{\"line\":{\"color\":\"#E5ECF6\",\"width\":0.5},\"pattern\":{\"fillmode\":\"overlay\",\"size\":10,\"solidity\":0.2}},\"type\":\"barpolar\"}],\"carpet\":[{\"aaxis\":{\"endlinecolor\":\"#2a3f5f\",\"gridcolor\":\"white\",\"linecolor\":\"white\",\"minorgridcolor\":\"white\",\"startlinecolor\":\"#2a3f5f\"},\"baxis\":{\"endlinecolor\":\"#2a3f5f\",\"gridcolor\":\"white\",\"linecolor\":\"white\",\"minorgridcolor\":\"white\",\"startlinecolor\":\"#2a3f5f\"},\"type\":\"carpet\"}],\"choropleth\":[{\"colorbar\":{\"outlinewidth\":0,\"ticks\":\"\"},\"type\":\"choropleth\"}],\"contour\":[{\"colorbar\":{\"outlinewidth\":0,\"ticks\":\"\"},\"colorscale\":[[0.0,\"#0d0887\"],[0.1111111111111111,\"#46039f\"],[0.2222222222222222,\"#7201a8\"],[0.3333333333333333,\"#9c179e\"],[0.4444444444444444,\"#bd3786\"],[0.5555555555555556,\"#d8576b\"],[0.6666666666666666,\"#ed7953\"],[0.7777777777777778,\"#fb9f3a\"],[0.8888888888888888,\"#fdca26\"],[1.0,\"#f0f921\"]],\"type\":\"contour\"}],\"contourcarpet\":[{\"colorbar\":{\"outlinewidth\":0,\"ticks\":\"\"},\"type\":\"contourcarpet\"}],\"heatmap\":[{\"colorbar\":{\"outlinewidth\":0,\"ticks\":\"\"},\"colorscale\":[[0.0,\"#0d0887\"],[0.1111111111111111,\"#46039f\"],[0.2222222222222222,\"#7201a8\"],[0.3333333333333333,\"#9c179e\"],[0.4444444444444444,\"#bd3786\"],[0.5555555555555556,\"#d8576b\"],[0.6666666666666666,\"#ed7953\"],[0.7777777777777778,\"#fb9f3a\"],[0.8888888888888888,\"#fdca26\"],[1.0,\"#f0f921\"]],\"type\":\"heatmap\"}],\"heatmapgl\":[{\"colorbar\":{\"outlinewidth\":0,\"ticks\":\"\"},\"colorscale\":[[0.0,\"#0d0887\"],[0.1111111111111111,\"#46039f\"],[0.2222222222222222,\"#7201a8\"],[0.3333333333333333,\"#9c179e\"],[0.4444444444444444,\"#bd3786\"],[0.5555555555555556,\"#d8576b\"],[0.6666666666666666,\"#ed7953\"],[0.7777777777777778,\"#fb9f3a\"],[0.8888888888888888,\"#fdca26\"],[1.0,\"#f0f921\"]],\"type\":\"heatmapgl\"}],\"histogram\":[{\"marker\":{\"pattern\":{\"fillmode\":\"overlay\",\"size\":10,\"solidity\":0.2}},\"type\":\"histogram\"}],\"histogram2d\":[{\"colorbar\":{\"outlinewidth\":0,\"ticks\":\"\"},\"colorscale\":[[0.0,\"#0d0887\"],[0.1111111111111111,\"#46039f\"],[0.2222222222222222,\"#7201a8\"],[0.3333333333333333,\"#9c179e\"],[0.4444444444444444,\"#bd3786\"],[0.5555555555555556,\"#d8576b\"],[0.6666666666666666,\"#ed7953\"],[0.7777777777777778,\"#fb9f3a\"],[0.8888888888888888,\"#fdca26\"],[1.0,\"#f0f921\"]],\"type\":\"histogram2d\"}],\"histogram2dcontour\":[{\"colorbar\":{\"outlinewidth\":0,\"ticks\":\"\"},\"colorscale\":[[0.0,\"#0d0887\"],[0.1111111111111111,\"#46039f\"],[0.2222222222222222,\"#7201a8\"],[0.3333333333333333,\"#9c179e\"],[0.4444444444444444,\"#bd3786\"],[0.5555555555555556,\"#d8576b\"],[0.6666666666666666,\"#ed7953\"],[0.7777777777777778,\"#fb9f3a\"],[0.8888888888888888,\"#fdca26\"],[1.0,\"#f0f921\"]],\"type\":\"histogram2dcontour\"}],\"mesh3d\":[{\"colorbar\":{\"outlinewidth\":0,\"ticks\":\"\"},\"type\":\"mesh3d\"}],\"parcoords\":[{\"line\":{\"colorbar\":{\"outlinewidth\":0,\"ticks\":\"\"}},\"type\":\"parcoords\"}],\"pie\":[{\"automargin\":true,\"type\":\"pie\"}],\"scatter\":[{\"marker\":{\"colorbar\":{\"outlinewidth\":0,\"ticks\":\"\"}},\"type\":\"scatter\"}],\"scatter3d\":[{\"line\":{\"colorbar\":{\"outlinewidth\":0,\"ticks\":\"\"}},\"marker\":{\"colorbar\":{\"outlinewidth\":0,\"ticks\":\"\"}},\"type\":\"scatter3d\"}],\"scattercarpet\":[{\"marker\":{\"colorbar\":{\"outlinewidth\":0,\"ticks\":\"\"}},\"type\":\"scattercarpet\"}],\"scattergeo\":[{\"marker\":{\"colorbar\":{\"outlinewidth\":0,\"ticks\":\"\"}},\"type\":\"scattergeo\"}],\"scattergl\":[{\"marker\":{\"colorbar\":{\"outlinewidth\":0,\"ticks\":\"\"}},\"type\":\"scattergl\"}],\"scattermapbox\":[{\"marker\":{\"colorbar\":{\"outlinewidth\":0,\"ticks\":\"\"}},\"type\":\"scattermapbox\"}],\"scatterpolar\":[{\"marker\":{\"colorbar\":{\"outlinewidth\":0,\"ticks\":\"\"}},\"type\":\"scatterpolar\"}],\"scatterpolargl\":[{\"marker\":{\"colorbar\":{\"outlinewidth\":0,\"ticks\":\"\"}},\"type\":\"scatterpolargl\"}],\"scatterternary\":[{\"marker\":{\"colorbar\":{\"outlinewidth\":0,\"ticks\":\"\"}},\"type\":\"scatterternary\"}],\"surface\":[{\"colorbar\":{\"outlinewidth\":0,\"ticks\":\"\"},\"colorscale\":[[0.0,\"#0d0887\"],[0.1111111111111111,\"#46039f\"],[0.2222222222222222,\"#7201a8\"],[0.3333333333333333,\"#9c179e\"],[0.4444444444444444,\"#bd3786\"],[0.5555555555555556,\"#d8576b\"],[0.6666666666666666,\"#ed7953\"],[0.7777777777777778,\"#fb9f3a\"],[0.8888888888888888,\"#fdca26\"],[1.0,\"#f0f921\"]],\"type\":\"surface\"}],\"table\":[{\"cells\":{\"fill\":{\"color\":\"#EBF0F8\"},\"line\":{\"color\":\"white\"}},\"header\":{\"fill\":{\"color\":\"#C8D4E3\"},\"line\":{\"color\":\"white\"}},\"type\":\"table\"}]},\"layout\":{\"annotationdefaults\":{\"arrowcolor\":\"#2a3f5f\",\"arrowhead\":0,\"arrowwidth\":1},\"autotypenumbers\":\"strict\",\"coloraxis\":{\"colorbar\":{\"outlinewidth\":0,\"ticks\":\"\"}},\"colorscale\":{\"diverging\":[[0,\"#8e0152\"],[0.1,\"#c51b7d\"],[0.2,\"#de77ae\"],[0.3,\"#f1b6da\"],[0.4,\"#fde0ef\"],[0.5,\"#f7f7f7\"],[0.6,\"#e6f5d0\"],[0.7,\"#b8e186\"],[0.8,\"#7fbc41\"],[0.9,\"#4d9221\"],[1,\"#276419\"]],\"sequential\":[[0.0,\"#0d0887\"],[0.1111111111111111,\"#46039f\"],[0.2222222222222222,\"#7201a8\"],[0.3333333333333333,\"#9c179e\"],[0.4444444444444444,\"#bd3786\"],[0.5555555555555556,\"#d8576b\"],[0.6666666666666666,\"#ed7953\"],[0.7777777777777778,\"#fb9f3a\"],[0.8888888888888888,\"#fdca26\"],[1.0,\"#f0f921\"]],\"sequentialminus\":[[0.0,\"#0d0887\"],[0.1111111111111111,\"#46039f\"],[0.2222222222222222,\"#7201a8\"],[0.3333333333333333,\"#9c179e\"],[0.4444444444444444,\"#bd3786\"],[0.5555555555555556,\"#d8576b\"],[0.6666666666666666,\"#ed7953\"],[0.7777777777777778,\"#fb9f3a\"],[0.8888888888888888,\"#fdca26\"],[1.0,\"#f0f921\"]]},\"colorway\":[\"#636efa\",\"#EF553B\",\"#00cc96\",\"#ab63fa\",\"#FFA15A\",\"#19d3f3\",\"#FF6692\",\"#B6E880\",\"#FF97FF\",\"#FECB52\"],\"font\":{\"color\":\"#2a3f5f\"},\"geo\":{\"bgcolor\":\"white\",\"lakecolor\":\"white\",\"landcolor\":\"#E5ECF6\",\"showlakes\":true,\"showland\":true,\"subunitcolor\":\"white\"},\"hoverlabel\":{\"align\":\"left\"},\"hovermode\":\"closest\",\"mapbox\":{\"style\":\"light\"},\"paper_bgcolor\":\"white\",\"plot_bgcolor\":\"#E5ECF6\",\"polar\":{\"angularaxis\":{\"gridcolor\":\"white\",\"linecolor\":\"white\",\"ticks\":\"\"},\"bgcolor\":\"#E5ECF6\",\"radialaxis\":{\"gridcolor\":\"white\",\"linecolor\":\"white\",\"ticks\":\"\"}},\"scene\":{\"xaxis\":{\"backgroundcolor\":\"#E5ECF6\",\"gridcolor\":\"white\",\"gridwidth\":2,\"linecolor\":\"white\",\"showbackground\":true,\"ticks\":\"\",\"zerolinecolor\":\"white\"},\"yaxis\":{\"backgroundcolor\":\"#E5ECF6\",\"gridcolor\":\"white\",\"gridwidth\":2,\"linecolor\":\"white\",\"showbackground\":true,\"ticks\":\"\",\"zerolinecolor\":\"white\"},\"zaxis\":{\"backgroundcolor\":\"#E5ECF6\",\"gridcolor\":\"white\",\"gridwidth\":2,\"linecolor\":\"white\",\"showbackground\":true,\"ticks\":\"\",\"zerolinecolor\":\"white\"}},\"shapedefaults\":{\"line\":{\"color\":\"#2a3f5f\"}},\"ternary\":{\"aaxis\":{\"gridcolor\":\"white\",\"linecolor\":\"white\",\"ticks\":\"\"},\"baxis\":{\"gridcolor\":\"white\",\"linecolor\":\"white\",\"ticks\":\"\"},\"bgcolor\":\"#E5ECF6\",\"caxis\":{\"gridcolor\":\"white\",\"linecolor\":\"white\",\"ticks\":\"\"}},\"title\":{\"x\":0.05},\"xaxis\":{\"automargin\":true,\"gridcolor\":\"white\",\"linecolor\":\"white\",\"ticks\":\"\",\"title\":{\"standoff\":15},\"zerolinecolor\":\"white\",\"zerolinewidth\":2},\"yaxis\":{\"automargin\":true,\"gridcolor\":\"white\",\"linecolor\":\"white\",\"ticks\":\"\",\"title\":{\"standoff\":15},\"zerolinecolor\":\"white\",\"zerolinewidth\":2}}},\"title\":{\"font\":{\"color\":\"#4D5663\"}},\"xaxis\":{\"gridcolor\":\"#E1E5ED\",\"showgrid\":true,\"tickfont\":{\"color\":\"#4D5663\"},\"title\":{\"font\":{\"color\":\"#4D5663\"},\"text\":\"\"},\"zerolinecolor\":\"#E1E5ED\"},\"yaxis\":{\"gridcolor\":\"#E1E5ED\",\"showgrid\":true,\"tickfont\":{\"color\":\"#4D5663\"},\"title\":{\"font\":{\"color\":\"#4D5663\"},\"text\":\"\"},\"zerolinecolor\":\"#E1E5ED\"}},                        {\"showLink\": true, \"linkText\": \"Export to plot.ly\", \"plotlyServerURL\": \"https://plot.ly\", \"responsive\": true}                    ).then(function(){\n",
       "                            \n",
       "var gd = document.getElementById('38dd69e6-03a3-4a96-80cf-9d5f5d585e06');\n",
       "var x = new MutationObserver(function (mutations, observer) {{\n",
       "        var display = window.getComputedStyle(gd).display;\n",
       "        if (!display || display === 'none') {{\n",
       "            console.log([gd, 'removed!']);\n",
       "            Plotly.purge(gd);\n",
       "            observer.disconnect();\n",
       "        }}\n",
       "}});\n",
       "\n",
       "// Listen for the removal of the full notebook cells\n",
       "var notebookContainer = gd.closest('#notebook-container');\n",
       "if (notebookContainer) {{\n",
       "    x.observe(notebookContainer, {childList: true});\n",
       "}}\n",
       "\n",
       "// Listen for the clearing of the current output cell\n",
       "var outputEl = gd.closest('.output');\n",
       "if (outputEl) {{\n",
       "    x.observe(outputEl, {childList: true});\n",
       "}}\n",
       "\n",
       "                        })                };                });            </script>        </div>"
      ],
      "application/vnd.plotly.v1+json": {
       "config": {
        "linkText": "Export to plot.ly",
        "plotlyServerURL": "https://plot.ly",
        "showLink": true
       },
       "data": [
        {
         "histfunc": "count",
         "histnorm": "",
         "marker": {
          "color": "rgba(255, 153, 51, 1.0)",
          "line": {
           "color": "#4D5663",
           "width": 1.3
          }
         },
         "name": "A",
         "nbinsx": 50,
         "opacity": 0.8,
         "orientation": "v",
         "type": "histogram",
         "x": [
          0.42860790047642905,
          -0.24150461408966148,
          0.8033352317583001,
          -0.4541726165268112,
          -0.9932670897240472,
          -1.6407185774656428,
          1.0292734271511936,
          0.717201122535486,
          -0.8328302557547055,
          -0.29479504395009437,
          -0.7876330322200155,
          1.013825910413848,
          -0.6145438366960542,
          -0.42143338248421097,
          1.0861506220781272,
          1.520376664474774,
          -0.01777198223317564,
          -1.6643908381651553,
          0.08997243361014205,
          0.1814431345228801,
          -0.7291269758207538,
          0.30441811909622163,
          -0.3331215193748714,
          -2.443509759910543,
          1.4038049617436101,
          -0.5289496253542012,
          0.5762209244034456,
          1.7473983249450766,
          1.1750635751298635,
          0.3439285942573213,
          0.06695512250429193,
          -1.358152089819541,
          1.3259956980602265,
          0.9230291574367999,
          2.1274268735237967,
          0.01609166317697218,
          -0.008794112180982546,
          -0.13078079279846982,
          -0.9773233004907493,
          0.42408560898470316,
          0.4781801921439303,
          -1.2302375288956056,
          -2.215534588013989,
          -0.6173209910577786,
          0.6873014952127062,
          -0.20768023471795324,
          1.3807411511048835,
          1.5676923985995384,
          -1.3535828954722193,
          0.6688398215891643,
          -1.9417660542959037,
          0.6086396296874507,
          -1.6891089331095988,
          0.8404967201254736,
          -0.25611772522792703,
          0.5649218453129284,
          -1.2455400184288734,
          0.08511126958214074,
          -1.2445956780254495,
          0.693274162901264,
          -0.555786574996747,
          0.014188061775017123,
          0.5756404633679048,
          -0.07502021616099822,
          0.8196550337696089,
          0.14719285707343466,
          2.0721531962168656,
          -0.05089514477070536,
          0.9178935846337136,
          0.8082192273766469,
          -0.9342785145415695,
          -0.7892361220520734,
          -1.0528167075806287,
          -0.900300147200952,
          -0.06378348260655418,
          -1.4058717991735044,
          -0.04637611154553381,
          -0.45343802555693713,
          0.3609959799788183,
          -0.9321964504655148,
          1.9639263256216999,
          -0.8513017162060174,
          -1.177257530160419,
          0.25079731529057353,
          -0.6455488140585096,
          -0.3597892849349049,
          -0.3522676026628601,
          0.03400583986455085,
          -0.4119885784095581,
          -0.668910236483875,
          0.6638172609013666,
          -0.09892944489312143,
          -1.9553751667413874,
          1.0932030834818462,
          0.7807217842469781,
          0.8029768142523035,
          -1.2272581484898053,
          -0.6477754460806492,
          1.9529843160513334,
          -0.84237910998657
         ]
        }
       ],
       "layout": {
        "barmode": "overlay",
        "legend": {
         "bgcolor": "#F5F6F9",
         "font": {
          "color": "#4D5663"
         }
        },
        "paper_bgcolor": "#F5F6F9",
        "plot_bgcolor": "#F5F6F9",
        "template": {
         "data": {
          "bar": [
           {
            "error_x": {
             "color": "#2a3f5f"
            },
            "error_y": {
             "color": "#2a3f5f"
            },
            "marker": {
             "line": {
              "color": "#E5ECF6",
              "width": 0.5
             },
             "pattern": {
              "fillmode": "overlay",
              "size": 10,
              "solidity": 0.2
             }
            },
            "type": "bar"
           }
          ],
          "barpolar": [
           {
            "marker": {
             "line": {
              "color": "#E5ECF6",
              "width": 0.5
             },
             "pattern": {
              "fillmode": "overlay",
              "size": 10,
              "solidity": 0.2
             }
            },
            "type": "barpolar"
           }
          ],
          "carpet": [
           {
            "aaxis": {
             "endlinecolor": "#2a3f5f",
             "gridcolor": "white",
             "linecolor": "white",
             "minorgridcolor": "white",
             "startlinecolor": "#2a3f5f"
            },
            "baxis": {
             "endlinecolor": "#2a3f5f",
             "gridcolor": "white",
             "linecolor": "white",
             "minorgridcolor": "white",
             "startlinecolor": "#2a3f5f"
            },
            "type": "carpet"
           }
          ],
          "choropleth": [
           {
            "colorbar": {
             "outlinewidth": 0,
             "ticks": ""
            },
            "type": "choropleth"
           }
          ],
          "contour": [
           {
            "colorbar": {
             "outlinewidth": 0,
             "ticks": ""
            },
            "colorscale": [
             [
              0,
              "#0d0887"
             ],
             [
              0.1111111111111111,
              "#46039f"
             ],
             [
              0.2222222222222222,
              "#7201a8"
             ],
             [
              0.3333333333333333,
              "#9c179e"
             ],
             [
              0.4444444444444444,
              "#bd3786"
             ],
             [
              0.5555555555555556,
              "#d8576b"
             ],
             [
              0.6666666666666666,
              "#ed7953"
             ],
             [
              0.7777777777777778,
              "#fb9f3a"
             ],
             [
              0.8888888888888888,
              "#fdca26"
             ],
             [
              1,
              "#f0f921"
             ]
            ],
            "type": "contour"
           }
          ],
          "contourcarpet": [
           {
            "colorbar": {
             "outlinewidth": 0,
             "ticks": ""
            },
            "type": "contourcarpet"
           }
          ],
          "heatmap": [
           {
            "colorbar": {
             "outlinewidth": 0,
             "ticks": ""
            },
            "colorscale": [
             [
              0,
              "#0d0887"
             ],
             [
              0.1111111111111111,
              "#46039f"
             ],
             [
              0.2222222222222222,
              "#7201a8"
             ],
             [
              0.3333333333333333,
              "#9c179e"
             ],
             [
              0.4444444444444444,
              "#bd3786"
             ],
             [
              0.5555555555555556,
              "#d8576b"
             ],
             [
              0.6666666666666666,
              "#ed7953"
             ],
             [
              0.7777777777777778,
              "#fb9f3a"
             ],
             [
              0.8888888888888888,
              "#fdca26"
             ],
             [
              1,
              "#f0f921"
             ]
            ],
            "type": "heatmap"
           }
          ],
          "heatmapgl": [
           {
            "colorbar": {
             "outlinewidth": 0,
             "ticks": ""
            },
            "colorscale": [
             [
              0,
              "#0d0887"
             ],
             [
              0.1111111111111111,
              "#46039f"
             ],
             [
              0.2222222222222222,
              "#7201a8"
             ],
             [
              0.3333333333333333,
              "#9c179e"
             ],
             [
              0.4444444444444444,
              "#bd3786"
             ],
             [
              0.5555555555555556,
              "#d8576b"
             ],
             [
              0.6666666666666666,
              "#ed7953"
             ],
             [
              0.7777777777777778,
              "#fb9f3a"
             ],
             [
              0.8888888888888888,
              "#fdca26"
             ],
             [
              1,
              "#f0f921"
             ]
            ],
            "type": "heatmapgl"
           }
          ],
          "histogram": [
           {
            "marker": {
             "pattern": {
              "fillmode": "overlay",
              "size": 10,
              "solidity": 0.2
             }
            },
            "type": "histogram"
           }
          ],
          "histogram2d": [
           {
            "colorbar": {
             "outlinewidth": 0,
             "ticks": ""
            },
            "colorscale": [
             [
              0,
              "#0d0887"
             ],
             [
              0.1111111111111111,
              "#46039f"
             ],
             [
              0.2222222222222222,
              "#7201a8"
             ],
             [
              0.3333333333333333,
              "#9c179e"
             ],
             [
              0.4444444444444444,
              "#bd3786"
             ],
             [
              0.5555555555555556,
              "#d8576b"
             ],
             [
              0.6666666666666666,
              "#ed7953"
             ],
             [
              0.7777777777777778,
              "#fb9f3a"
             ],
             [
              0.8888888888888888,
              "#fdca26"
             ],
             [
              1,
              "#f0f921"
             ]
            ],
            "type": "histogram2d"
           }
          ],
          "histogram2dcontour": [
           {
            "colorbar": {
             "outlinewidth": 0,
             "ticks": ""
            },
            "colorscale": [
             [
              0,
              "#0d0887"
             ],
             [
              0.1111111111111111,
              "#46039f"
             ],
             [
              0.2222222222222222,
              "#7201a8"
             ],
             [
              0.3333333333333333,
              "#9c179e"
             ],
             [
              0.4444444444444444,
              "#bd3786"
             ],
             [
              0.5555555555555556,
              "#d8576b"
             ],
             [
              0.6666666666666666,
              "#ed7953"
             ],
             [
              0.7777777777777778,
              "#fb9f3a"
             ],
             [
              0.8888888888888888,
              "#fdca26"
             ],
             [
              1,
              "#f0f921"
             ]
            ],
            "type": "histogram2dcontour"
           }
          ],
          "mesh3d": [
           {
            "colorbar": {
             "outlinewidth": 0,
             "ticks": ""
            },
            "type": "mesh3d"
           }
          ],
          "parcoords": [
           {
            "line": {
             "colorbar": {
              "outlinewidth": 0,
              "ticks": ""
             }
            },
            "type": "parcoords"
           }
          ],
          "pie": [
           {
            "automargin": true,
            "type": "pie"
           }
          ],
          "scatter": [
           {
            "marker": {
             "colorbar": {
              "outlinewidth": 0,
              "ticks": ""
             }
            },
            "type": "scatter"
           }
          ],
          "scatter3d": [
           {
            "line": {
             "colorbar": {
              "outlinewidth": 0,
              "ticks": ""
             }
            },
            "marker": {
             "colorbar": {
              "outlinewidth": 0,
              "ticks": ""
             }
            },
            "type": "scatter3d"
           }
          ],
          "scattercarpet": [
           {
            "marker": {
             "colorbar": {
              "outlinewidth": 0,
              "ticks": ""
             }
            },
            "type": "scattercarpet"
           }
          ],
          "scattergeo": [
           {
            "marker": {
             "colorbar": {
              "outlinewidth": 0,
              "ticks": ""
             }
            },
            "type": "scattergeo"
           }
          ],
          "scattergl": [
           {
            "marker": {
             "colorbar": {
              "outlinewidth": 0,
              "ticks": ""
             }
            },
            "type": "scattergl"
           }
          ],
          "scattermapbox": [
           {
            "marker": {
             "colorbar": {
              "outlinewidth": 0,
              "ticks": ""
             }
            },
            "type": "scattermapbox"
           }
          ],
          "scatterpolar": [
           {
            "marker": {
             "colorbar": {
              "outlinewidth": 0,
              "ticks": ""
             }
            },
            "type": "scatterpolar"
           }
          ],
          "scatterpolargl": [
           {
            "marker": {
             "colorbar": {
              "outlinewidth": 0,
              "ticks": ""
             }
            },
            "type": "scatterpolargl"
           }
          ],
          "scatterternary": [
           {
            "marker": {
             "colorbar": {
              "outlinewidth": 0,
              "ticks": ""
             }
            },
            "type": "scatterternary"
           }
          ],
          "surface": [
           {
            "colorbar": {
             "outlinewidth": 0,
             "ticks": ""
            },
            "colorscale": [
             [
              0,
              "#0d0887"
             ],
             [
              0.1111111111111111,
              "#46039f"
             ],
             [
              0.2222222222222222,
              "#7201a8"
             ],
             [
              0.3333333333333333,
              "#9c179e"
             ],
             [
              0.4444444444444444,
              "#bd3786"
             ],
             [
              0.5555555555555556,
              "#d8576b"
             ],
             [
              0.6666666666666666,
              "#ed7953"
             ],
             [
              0.7777777777777778,
              "#fb9f3a"
             ],
             [
              0.8888888888888888,
              "#fdca26"
             ],
             [
              1,
              "#f0f921"
             ]
            ],
            "type": "surface"
           }
          ],
          "table": [
           {
            "cells": {
             "fill": {
              "color": "#EBF0F8"
             },
             "line": {
              "color": "white"
             }
            },
            "header": {
             "fill": {
              "color": "#C8D4E3"
             },
             "line": {
              "color": "white"
             }
            },
            "type": "table"
           }
          ]
         },
         "layout": {
          "annotationdefaults": {
           "arrowcolor": "#2a3f5f",
           "arrowhead": 0,
           "arrowwidth": 1
          },
          "autotypenumbers": "strict",
          "coloraxis": {
           "colorbar": {
            "outlinewidth": 0,
            "ticks": ""
           }
          },
          "colorscale": {
           "diverging": [
            [
             0,
             "#8e0152"
            ],
            [
             0.1,
             "#c51b7d"
            ],
            [
             0.2,
             "#de77ae"
            ],
            [
             0.3,
             "#f1b6da"
            ],
            [
             0.4,
             "#fde0ef"
            ],
            [
             0.5,
             "#f7f7f7"
            ],
            [
             0.6,
             "#e6f5d0"
            ],
            [
             0.7,
             "#b8e186"
            ],
            [
             0.8,
             "#7fbc41"
            ],
            [
             0.9,
             "#4d9221"
            ],
            [
             1,
             "#276419"
            ]
           ],
           "sequential": [
            [
             0,
             "#0d0887"
            ],
            [
             0.1111111111111111,
             "#46039f"
            ],
            [
             0.2222222222222222,
             "#7201a8"
            ],
            [
             0.3333333333333333,
             "#9c179e"
            ],
            [
             0.4444444444444444,
             "#bd3786"
            ],
            [
             0.5555555555555556,
             "#d8576b"
            ],
            [
             0.6666666666666666,
             "#ed7953"
            ],
            [
             0.7777777777777778,
             "#fb9f3a"
            ],
            [
             0.8888888888888888,
             "#fdca26"
            ],
            [
             1,
             "#f0f921"
            ]
           ],
           "sequentialminus": [
            [
             0,
             "#0d0887"
            ],
            [
             0.1111111111111111,
             "#46039f"
            ],
            [
             0.2222222222222222,
             "#7201a8"
            ],
            [
             0.3333333333333333,
             "#9c179e"
            ],
            [
             0.4444444444444444,
             "#bd3786"
            ],
            [
             0.5555555555555556,
             "#d8576b"
            ],
            [
             0.6666666666666666,
             "#ed7953"
            ],
            [
             0.7777777777777778,
             "#fb9f3a"
            ],
            [
             0.8888888888888888,
             "#fdca26"
            ],
            [
             1,
             "#f0f921"
            ]
           ]
          },
          "colorway": [
           "#636efa",
           "#EF553B",
           "#00cc96",
           "#ab63fa",
           "#FFA15A",
           "#19d3f3",
           "#FF6692",
           "#B6E880",
           "#FF97FF",
           "#FECB52"
          ],
          "font": {
           "color": "#2a3f5f"
          },
          "geo": {
           "bgcolor": "white",
           "lakecolor": "white",
           "landcolor": "#E5ECF6",
           "showlakes": true,
           "showland": true,
           "subunitcolor": "white"
          },
          "hoverlabel": {
           "align": "left"
          },
          "hovermode": "closest",
          "mapbox": {
           "style": "light"
          },
          "paper_bgcolor": "white",
          "plot_bgcolor": "#E5ECF6",
          "polar": {
           "angularaxis": {
            "gridcolor": "white",
            "linecolor": "white",
            "ticks": ""
           },
           "bgcolor": "#E5ECF6",
           "radialaxis": {
            "gridcolor": "white",
            "linecolor": "white",
            "ticks": ""
           }
          },
          "scene": {
           "xaxis": {
            "backgroundcolor": "#E5ECF6",
            "gridcolor": "white",
            "gridwidth": 2,
            "linecolor": "white",
            "showbackground": true,
            "ticks": "",
            "zerolinecolor": "white"
           },
           "yaxis": {
            "backgroundcolor": "#E5ECF6",
            "gridcolor": "white",
            "gridwidth": 2,
            "linecolor": "white",
            "showbackground": true,
            "ticks": "",
            "zerolinecolor": "white"
           },
           "zaxis": {
            "backgroundcolor": "#E5ECF6",
            "gridcolor": "white",
            "gridwidth": 2,
            "linecolor": "white",
            "showbackground": true,
            "ticks": "",
            "zerolinecolor": "white"
           }
          },
          "shapedefaults": {
           "line": {
            "color": "#2a3f5f"
           }
          },
          "ternary": {
           "aaxis": {
            "gridcolor": "white",
            "linecolor": "white",
            "ticks": ""
           },
           "baxis": {
            "gridcolor": "white",
            "linecolor": "white",
            "ticks": ""
           },
           "bgcolor": "#E5ECF6",
           "caxis": {
            "gridcolor": "white",
            "linecolor": "white",
            "ticks": ""
           }
          },
          "title": {
           "x": 0.05
          },
          "xaxis": {
           "automargin": true,
           "gridcolor": "white",
           "linecolor": "white",
           "ticks": "",
           "title": {
            "standoff": 15
           },
           "zerolinecolor": "white",
           "zerolinewidth": 2
          },
          "yaxis": {
           "automargin": true,
           "gridcolor": "white",
           "linecolor": "white",
           "ticks": "",
           "title": {
            "standoff": 15
           },
           "zerolinecolor": "white",
           "zerolinewidth": 2
          }
         }
        },
        "title": {
         "font": {
          "color": "#4D5663"
         }
        },
        "xaxis": {
         "gridcolor": "#E1E5ED",
         "showgrid": true,
         "tickfont": {
          "color": "#4D5663"
         },
         "title": {
          "font": {
           "color": "#4D5663"
          },
          "text": ""
         },
         "zerolinecolor": "#E1E5ED"
        },
        "yaxis": {
         "gridcolor": "#E1E5ED",
         "showgrid": true,
         "tickfont": {
          "color": "#4D5663"
         },
         "title": {
          "font": {
           "color": "#4D5663"
          },
          "text": ""
         },
         "zerolinecolor": "#E1E5ED"
        }
       }
      }
     },
     "metadata": {}
    }
   ],
   "metadata": {}
  },
  {
   "cell_type": "code",
   "execution_count": 34,
   "source": [
    "df.iplot(kind='hist')    # can turn on and off A B C or D"
   ],
   "outputs": [
    {
     "output_type": "display_data",
     "data": {
      "text/html": [
       "<div>                            <div id=\"13dc75f3-8215-4727-9412-a77201ed9308\" class=\"plotly-graph-div\" style=\"height:525px; width:100%;\"></div>            <script type=\"text/javascript\">                require([\"plotly\"], function(Plotly) {                    window.PLOTLYENV=window.PLOTLYENV || {};\n",
       "                    window.PLOTLYENV.BASE_URL='https://plot.ly';                                    if (document.getElementById(\"13dc75f3-8215-4727-9412-a77201ed9308\")) {                    Plotly.newPlot(                        \"13dc75f3-8215-4727-9412-a77201ed9308\",                        [{\"histfunc\":\"count\",\"histnorm\":\"\",\"marker\":{\"color\":\"rgba(255, 153, 51, 1.0)\",\"line\":{\"color\":\"#4D5663\",\"width\":1.3}},\"name\":\"A\",\"opacity\":0.8,\"orientation\":\"v\",\"type\":\"histogram\",\"x\":[0.42860790047642905,-0.24150461408966148,0.8033352317583001,-0.4541726165268112,-0.9932670897240472,-1.6407185774656428,1.0292734271511936,0.717201122535486,-0.8328302557547055,-0.29479504395009437,-0.7876330322200155,1.013825910413848,-0.6145438366960542,-0.42143338248421097,1.0861506220781272,1.520376664474774,-0.01777198223317564,-1.6643908381651553,0.08997243361014205,0.1814431345228801,-0.7291269758207538,0.30441811909622163,-0.3331215193748714,-2.443509759910543,1.4038049617436101,-0.5289496253542012,0.5762209244034456,1.7473983249450766,1.1750635751298635,0.3439285942573213,0.06695512250429193,-1.358152089819541,1.3259956980602265,0.9230291574367999,2.1274268735237967,0.01609166317697218,-0.008794112180982546,-0.13078079279846982,-0.9773233004907493,0.42408560898470316,0.4781801921439303,-1.2302375288956056,-2.215534588013989,-0.6173209910577786,0.6873014952127062,-0.20768023471795324,1.3807411511048835,1.5676923985995384,-1.3535828954722193,0.6688398215891643,-1.9417660542959037,0.6086396296874507,-1.6891089331095988,0.8404967201254736,-0.25611772522792703,0.5649218453129284,-1.2455400184288734,0.08511126958214074,-1.2445956780254495,0.693274162901264,-0.555786574996747,0.014188061775017123,0.5756404633679048,-0.07502021616099822,0.8196550337696089,0.14719285707343466,2.0721531962168656,-0.05089514477070536,0.9178935846337136,0.8082192273766469,-0.9342785145415695,-0.7892361220520734,-1.0528167075806287,-0.900300147200952,-0.06378348260655418,-1.4058717991735044,-0.04637611154553381,-0.45343802555693713,0.3609959799788183,-0.9321964504655148,1.9639263256216999,-0.8513017162060174,-1.177257530160419,0.25079731529057353,-0.6455488140585096,-0.3597892849349049,-0.3522676026628601,0.03400583986455085,-0.4119885784095581,-0.668910236483875,0.6638172609013666,-0.09892944489312143,-1.9553751667413874,1.0932030834818462,0.7807217842469781,0.8029768142523035,-1.2272581484898053,-0.6477754460806492,1.9529843160513334,-0.84237910998657]},{\"histfunc\":\"count\",\"histnorm\":\"\",\"marker\":{\"color\":\"rgba(55, 128, 191, 1.0)\",\"line\":{\"color\":\"#4D5663\",\"width\":1.3}},\"name\":\"B\",\"opacity\":0.8,\"orientation\":\"v\",\"type\":\"histogram\",\"x\":[-0.39325974971391525,0.05564646570619147,0.34780196590089396,1.6734131674208959,-0.023029982837105743,1.0012476696632717,0.18703713105734537,1.262120083305586,-0.8113828042042744,-0.36389618183312794,0.3182825345578306,0.26561207372775414,-0.31710083987767906,0.3307012661878355,-0.3827743646829566,-0.07784500406315373,0.07184939550950868,1.8600532821137243,-1.3966157050739068,0.6640713923826992,-0.8492037274388488,-0.6263363686461829,1.6250038488954621,-0.5236195883778583,-2.16345391306942,1.3029655695823983,0.2283173236958734,1.7370577014233897,-0.029732253191304518,-2.0533396952947993,-0.0015571473203474543,1.1581858115689212,0.6129394841978791,2.784380155305771,-0.7314673000828203,0.3385127274541624,-0.7687161829470321,1.543242396773852,-0.717193509958402,0.37699569673225664,-1.2396619940727844,0.4550492681869588,-2.0543094997835243,1.3600779678873771,-1.244574082682165,-2.1843312309789535,-0.6296399403616632,0.2871687175955069,-1.8976766970498358,-1.746810132351409,1.1721777502639719,0.12975308001389982,-0.906679091917525,-0.8235255560578126,1.629416680723812,-0.3258256193559577,0.3183405316268972,0.19960564744461226,-2.350317827213011,0.5704819720769283,-0.572177939912174,0.47504228909483914,0.9978013795099565,0.03284178097168736,1.7998520265955422,1.1791578061649604,0.6725374757403919,-0.18452181673013568,-1.3271976219839603,-1.4712235163192122,1.5058786374354427,0.20716152593826656,-0.8002141505754706,-0.23591613710914958,0.4176022846377921,-0.7322776036272107,-0.7501160039715231,0.2246809529639941,0.49107947550493974,-1.366060904827018,-1.873047410185736,0.5962151440823994,0.17473240351086952,-0.25176512171647975,0.8296301643863834,-0.17204697391626958,1.524750974056855,1.4053490752537185,-1.2809051231732484,0.49433207086912184,0.13477043390008417,-0.7369883578766098,-1.6833329347466606,-1.1611543228587384,0.16417302030913833,-2.55392965531275,0.554411998328491,0.9248809515936174,0.07974476121974629,1.244761109401404]},{\"histfunc\":\"count\",\"histnorm\":\"\",\"marker\":{\"color\":\"rgba(50, 171, 96, 1.0)\",\"line\":{\"color\":\"#4D5663\",\"width\":1.3}},\"name\":\"C\",\"opacity\":0.8,\"orientation\":\"v\",\"type\":\"histogram\",\"x\":[0.20867975771520808,-0.539968732680375,-0.10451406860936421,0.6807906941541452,-0.6237061132537227,1.1645819493681946,-0.20319634501381628,-1.8719734890851034,0.19006397038468342,0.7426829780297319,1.5866853683306084,-0.8830991836928733,1.329381939728609,-0.36910943637848315,-0.1259704216318707,0.7599399179503843,0.2570493559742786,1.0102501201538379,-0.8301636846246374,0.9098700533567373,1.272308317853795,0.27644901365821556,-0.5307842275179776,0.6928510797756365,-0.7467081888636957,1.0864734312542663,-0.4088395415896088,-1.3297602651780072,-1.441235068785222,-0.15212789644905217,0.9578071542227202,-0.07460142157038534,0.5113698014381537,-0.7585669417479952,-1.7210677610542262,0.6458738210296548,-0.7221738362033334,-0.09708844896140927,0.34294090340127364,-1.0737713509953322,-1.3205133194548362,0.4033547123960727,0.06702499803391719,-0.3894870046425358,0.5545246926764152,-0.3936172349445884,0.5204415204166847,-2.296869709022682,-1.0722455437645189,-0.0076908262706479645,-0.8497611342012257,-0.5418473928237962,0.6825865011945559,1.528074978722198,0.7421162493465568,-1.0501963591592836,1.5291754301353226,0.9965167862689587,-0.8002793081334799,1.1160758258201309,2.416553937349119,-0.7323025322245335,1.045911989237607,-2.3075278310782483,-0.11065972894159559,1.6167179621416072,-1.5706737901917416,-0.176117048077122,0.4745874051396574,-0.461148688308992,-0.1907540082939412,0.2099327698711436,-1.2321302971466992,0.6032727936313779,1.4648497803732206,0.3072917431775034,1.0415220041526154,0.15940004078617948,-0.8020956078401368,-0.5019052846097677,-0.8158122916130118,0.9735286018887148,0.49382864652704367,-0.149893623001522,0.7465151638614091,1.41789646851737,0.42684270812646524,-1.9110647146667514,-1.1593244688815125,-0.8502884309003719,-0.4656426710483235,1.7640395575750731,-0.7333153880908555,-0.6169666283105139,-1.4096884439956874,-0.3822792755757565,2.1510015077400606,-0.480261706871716,-0.5583127368388549,-0.332192650314338]},{\"histfunc\":\"count\",\"histnorm\":\"\",\"marker\":{\"color\":\"rgba(128, 0, 128, 1.0)\",\"line\":{\"color\":\"#4D5663\",\"width\":1.3}},\"name\":\"D\",\"opacity\":0.8,\"orientation\":\"v\",\"type\":\"histogram\",\"x\":[1.1927052467737471,0.6823505953261061,-1.7699977924906336,-0.4409417245274874,-0.4027560996259744,1.3855538454435494,0.25941520948138114,0.45409670225836857,-1.828238319014977,-0.2430449199174727,0.2647028823015733,1.4415053080261364,1.073705430987225,0.4866361960213816,1.4824416894323167,0.07105310534559514,0.13215237042095185,-1.2120350758827654,0.6581602382531442,-0.7675070609238718,0.9668208021638547,-0.7946618684229247,1.7144331828714836,0.6183624129108227,0.32792919874517806,-1.4384318058696666,-1.896424554138019,1.3936239781195967,-0.5608297156821659,0.6174363013840861,-0.3920373006091651,0.9361108376422885,-1.215021028570566,0.8401590571870553,2.3185983729391744,0.2455730696322708,0.19536172069491808,1.4623879346019342,1.6091859374219266,-1.1194909687215293,-1.2857377279485118,0.9585464930884179,-2.0409079776428296,-0.3516153660537357,1.1247468667742029,-0.6225409273299736,-0.881020925119876,-0.6288513210560867,1.0181706822135164,0.43486023954956127,1.0735404839177463,-0.8360456949946155,-1.3071731796213288,-0.07262526518920134,0.5259937944952808,0.7758932426331349,-1.2246509725047636,0.7812189441750645,-0.9343539498244041,-0.1670384776565554,1.090640883944806,-1.2034828032498064,0.25473828806871673,0.8635343083832683,0.3625951607961471,-0.2195462221424108,-0.7390148935282446,0.2050754290124465,-0.5872703781784867,0.6724208793894313,0.4445472943607837,0.6485431478865128,-0.013995098131496525,-1.8286239296369833,0.4379298665364222,0.36020393470459283,-0.055472205298219925,-0.9817455885806337,-1.0867258660214782,0.9792867549289266,-0.39095614962872743,-1.2431321852725168,0.6483194288423902,-0.7920970509807383,-0.3546536488679633,-1.6103360489908431,1.3053501829720535,1.145556735167566,-0.6264207226268598,-0.21363957491562746,-0.6847452297725517,1.2131865236514339,-1.7478252431183574,1.209465948879976,0.43519122902619073,-0.15306143209734444,-1.3114763939089504,-0.2031965018915055,-1.5469322006075121,0.45462915216522054]}],                        {\"barmode\":\"overlay\",\"legend\":{\"bgcolor\":\"#F5F6F9\",\"font\":{\"color\":\"#4D5663\"}},\"paper_bgcolor\":\"#F5F6F9\",\"plot_bgcolor\":\"#F5F6F9\",\"template\":{\"data\":{\"bar\":[{\"error_x\":{\"color\":\"#2a3f5f\"},\"error_y\":{\"color\":\"#2a3f5f\"},\"marker\":{\"line\":{\"color\":\"#E5ECF6\",\"width\":0.5},\"pattern\":{\"fillmode\":\"overlay\",\"size\":10,\"solidity\":0.2}},\"type\":\"bar\"}],\"barpolar\":[{\"marker\":{\"line\":{\"color\":\"#E5ECF6\",\"width\":0.5},\"pattern\":{\"fillmode\":\"overlay\",\"size\":10,\"solidity\":0.2}},\"type\":\"barpolar\"}],\"carpet\":[{\"aaxis\":{\"endlinecolor\":\"#2a3f5f\",\"gridcolor\":\"white\",\"linecolor\":\"white\",\"minorgridcolor\":\"white\",\"startlinecolor\":\"#2a3f5f\"},\"baxis\":{\"endlinecolor\":\"#2a3f5f\",\"gridcolor\":\"white\",\"linecolor\":\"white\",\"minorgridcolor\":\"white\",\"startlinecolor\":\"#2a3f5f\"},\"type\":\"carpet\"}],\"choropleth\":[{\"colorbar\":{\"outlinewidth\":0,\"ticks\":\"\"},\"type\":\"choropleth\"}],\"contour\":[{\"colorbar\":{\"outlinewidth\":0,\"ticks\":\"\"},\"colorscale\":[[0.0,\"#0d0887\"],[0.1111111111111111,\"#46039f\"],[0.2222222222222222,\"#7201a8\"],[0.3333333333333333,\"#9c179e\"],[0.4444444444444444,\"#bd3786\"],[0.5555555555555556,\"#d8576b\"],[0.6666666666666666,\"#ed7953\"],[0.7777777777777778,\"#fb9f3a\"],[0.8888888888888888,\"#fdca26\"],[1.0,\"#f0f921\"]],\"type\":\"contour\"}],\"contourcarpet\":[{\"colorbar\":{\"outlinewidth\":0,\"ticks\":\"\"},\"type\":\"contourcarpet\"}],\"heatmap\":[{\"colorbar\":{\"outlinewidth\":0,\"ticks\":\"\"},\"colorscale\":[[0.0,\"#0d0887\"],[0.1111111111111111,\"#46039f\"],[0.2222222222222222,\"#7201a8\"],[0.3333333333333333,\"#9c179e\"],[0.4444444444444444,\"#bd3786\"],[0.5555555555555556,\"#d8576b\"],[0.6666666666666666,\"#ed7953\"],[0.7777777777777778,\"#fb9f3a\"],[0.8888888888888888,\"#fdca26\"],[1.0,\"#f0f921\"]],\"type\":\"heatmap\"}],\"heatmapgl\":[{\"colorbar\":{\"outlinewidth\":0,\"ticks\":\"\"},\"colorscale\":[[0.0,\"#0d0887\"],[0.1111111111111111,\"#46039f\"],[0.2222222222222222,\"#7201a8\"],[0.3333333333333333,\"#9c179e\"],[0.4444444444444444,\"#bd3786\"],[0.5555555555555556,\"#d8576b\"],[0.6666666666666666,\"#ed7953\"],[0.7777777777777778,\"#fb9f3a\"],[0.8888888888888888,\"#fdca26\"],[1.0,\"#f0f921\"]],\"type\":\"heatmapgl\"}],\"histogram\":[{\"marker\":{\"pattern\":{\"fillmode\":\"overlay\",\"size\":10,\"solidity\":0.2}},\"type\":\"histogram\"}],\"histogram2d\":[{\"colorbar\":{\"outlinewidth\":0,\"ticks\":\"\"},\"colorscale\":[[0.0,\"#0d0887\"],[0.1111111111111111,\"#46039f\"],[0.2222222222222222,\"#7201a8\"],[0.3333333333333333,\"#9c179e\"],[0.4444444444444444,\"#bd3786\"],[0.5555555555555556,\"#d8576b\"],[0.6666666666666666,\"#ed7953\"],[0.7777777777777778,\"#fb9f3a\"],[0.8888888888888888,\"#fdca26\"],[1.0,\"#f0f921\"]],\"type\":\"histogram2d\"}],\"histogram2dcontour\":[{\"colorbar\":{\"outlinewidth\":0,\"ticks\":\"\"},\"colorscale\":[[0.0,\"#0d0887\"],[0.1111111111111111,\"#46039f\"],[0.2222222222222222,\"#7201a8\"],[0.3333333333333333,\"#9c179e\"],[0.4444444444444444,\"#bd3786\"],[0.5555555555555556,\"#d8576b\"],[0.6666666666666666,\"#ed7953\"],[0.7777777777777778,\"#fb9f3a\"],[0.8888888888888888,\"#fdca26\"],[1.0,\"#f0f921\"]],\"type\":\"histogram2dcontour\"}],\"mesh3d\":[{\"colorbar\":{\"outlinewidth\":0,\"ticks\":\"\"},\"type\":\"mesh3d\"}],\"parcoords\":[{\"line\":{\"colorbar\":{\"outlinewidth\":0,\"ticks\":\"\"}},\"type\":\"parcoords\"}],\"pie\":[{\"automargin\":true,\"type\":\"pie\"}],\"scatter\":[{\"marker\":{\"colorbar\":{\"outlinewidth\":0,\"ticks\":\"\"}},\"type\":\"scatter\"}],\"scatter3d\":[{\"line\":{\"colorbar\":{\"outlinewidth\":0,\"ticks\":\"\"}},\"marker\":{\"colorbar\":{\"outlinewidth\":0,\"ticks\":\"\"}},\"type\":\"scatter3d\"}],\"scattercarpet\":[{\"marker\":{\"colorbar\":{\"outlinewidth\":0,\"ticks\":\"\"}},\"type\":\"scattercarpet\"}],\"scattergeo\":[{\"marker\":{\"colorbar\":{\"outlinewidth\":0,\"ticks\":\"\"}},\"type\":\"scattergeo\"}],\"scattergl\":[{\"marker\":{\"colorbar\":{\"outlinewidth\":0,\"ticks\":\"\"}},\"type\":\"scattergl\"}],\"scattermapbox\":[{\"marker\":{\"colorbar\":{\"outlinewidth\":0,\"ticks\":\"\"}},\"type\":\"scattermapbox\"}],\"scatterpolar\":[{\"marker\":{\"colorbar\":{\"outlinewidth\":0,\"ticks\":\"\"}},\"type\":\"scatterpolar\"}],\"scatterpolargl\":[{\"marker\":{\"colorbar\":{\"outlinewidth\":0,\"ticks\":\"\"}},\"type\":\"scatterpolargl\"}],\"scatterternary\":[{\"marker\":{\"colorbar\":{\"outlinewidth\":0,\"ticks\":\"\"}},\"type\":\"scatterternary\"}],\"surface\":[{\"colorbar\":{\"outlinewidth\":0,\"ticks\":\"\"},\"colorscale\":[[0.0,\"#0d0887\"],[0.1111111111111111,\"#46039f\"],[0.2222222222222222,\"#7201a8\"],[0.3333333333333333,\"#9c179e\"],[0.4444444444444444,\"#bd3786\"],[0.5555555555555556,\"#d8576b\"],[0.6666666666666666,\"#ed7953\"],[0.7777777777777778,\"#fb9f3a\"],[0.8888888888888888,\"#fdca26\"],[1.0,\"#f0f921\"]],\"type\":\"surface\"}],\"table\":[{\"cells\":{\"fill\":{\"color\":\"#EBF0F8\"},\"line\":{\"color\":\"white\"}},\"header\":{\"fill\":{\"color\":\"#C8D4E3\"},\"line\":{\"color\":\"white\"}},\"type\":\"table\"}]},\"layout\":{\"annotationdefaults\":{\"arrowcolor\":\"#2a3f5f\",\"arrowhead\":0,\"arrowwidth\":1},\"autotypenumbers\":\"strict\",\"coloraxis\":{\"colorbar\":{\"outlinewidth\":0,\"ticks\":\"\"}},\"colorscale\":{\"diverging\":[[0,\"#8e0152\"],[0.1,\"#c51b7d\"],[0.2,\"#de77ae\"],[0.3,\"#f1b6da\"],[0.4,\"#fde0ef\"],[0.5,\"#f7f7f7\"],[0.6,\"#e6f5d0\"],[0.7,\"#b8e186\"],[0.8,\"#7fbc41\"],[0.9,\"#4d9221\"],[1,\"#276419\"]],\"sequential\":[[0.0,\"#0d0887\"],[0.1111111111111111,\"#46039f\"],[0.2222222222222222,\"#7201a8\"],[0.3333333333333333,\"#9c179e\"],[0.4444444444444444,\"#bd3786\"],[0.5555555555555556,\"#d8576b\"],[0.6666666666666666,\"#ed7953\"],[0.7777777777777778,\"#fb9f3a\"],[0.8888888888888888,\"#fdca26\"],[1.0,\"#f0f921\"]],\"sequentialminus\":[[0.0,\"#0d0887\"],[0.1111111111111111,\"#46039f\"],[0.2222222222222222,\"#7201a8\"],[0.3333333333333333,\"#9c179e\"],[0.4444444444444444,\"#bd3786\"],[0.5555555555555556,\"#d8576b\"],[0.6666666666666666,\"#ed7953\"],[0.7777777777777778,\"#fb9f3a\"],[0.8888888888888888,\"#fdca26\"],[1.0,\"#f0f921\"]]},\"colorway\":[\"#636efa\",\"#EF553B\",\"#00cc96\",\"#ab63fa\",\"#FFA15A\",\"#19d3f3\",\"#FF6692\",\"#B6E880\",\"#FF97FF\",\"#FECB52\"],\"font\":{\"color\":\"#2a3f5f\"},\"geo\":{\"bgcolor\":\"white\",\"lakecolor\":\"white\",\"landcolor\":\"#E5ECF6\",\"showlakes\":true,\"showland\":true,\"subunitcolor\":\"white\"},\"hoverlabel\":{\"align\":\"left\"},\"hovermode\":\"closest\",\"mapbox\":{\"style\":\"light\"},\"paper_bgcolor\":\"white\",\"plot_bgcolor\":\"#E5ECF6\",\"polar\":{\"angularaxis\":{\"gridcolor\":\"white\",\"linecolor\":\"white\",\"ticks\":\"\"},\"bgcolor\":\"#E5ECF6\",\"radialaxis\":{\"gridcolor\":\"white\",\"linecolor\":\"white\",\"ticks\":\"\"}},\"scene\":{\"xaxis\":{\"backgroundcolor\":\"#E5ECF6\",\"gridcolor\":\"white\",\"gridwidth\":2,\"linecolor\":\"white\",\"showbackground\":true,\"ticks\":\"\",\"zerolinecolor\":\"white\"},\"yaxis\":{\"backgroundcolor\":\"#E5ECF6\",\"gridcolor\":\"white\",\"gridwidth\":2,\"linecolor\":\"white\",\"showbackground\":true,\"ticks\":\"\",\"zerolinecolor\":\"white\"},\"zaxis\":{\"backgroundcolor\":\"#E5ECF6\",\"gridcolor\":\"white\",\"gridwidth\":2,\"linecolor\":\"white\",\"showbackground\":true,\"ticks\":\"\",\"zerolinecolor\":\"white\"}},\"shapedefaults\":{\"line\":{\"color\":\"#2a3f5f\"}},\"ternary\":{\"aaxis\":{\"gridcolor\":\"white\",\"linecolor\":\"white\",\"ticks\":\"\"},\"baxis\":{\"gridcolor\":\"white\",\"linecolor\":\"white\",\"ticks\":\"\"},\"bgcolor\":\"#E5ECF6\",\"caxis\":{\"gridcolor\":\"white\",\"linecolor\":\"white\",\"ticks\":\"\"}},\"title\":{\"x\":0.05},\"xaxis\":{\"automargin\":true,\"gridcolor\":\"white\",\"linecolor\":\"white\",\"ticks\":\"\",\"title\":{\"standoff\":15},\"zerolinecolor\":\"white\",\"zerolinewidth\":2},\"yaxis\":{\"automargin\":true,\"gridcolor\":\"white\",\"linecolor\":\"white\",\"ticks\":\"\",\"title\":{\"standoff\":15},\"zerolinecolor\":\"white\",\"zerolinewidth\":2}}},\"title\":{\"font\":{\"color\":\"#4D5663\"}},\"xaxis\":{\"gridcolor\":\"#E1E5ED\",\"showgrid\":true,\"tickfont\":{\"color\":\"#4D5663\"},\"title\":{\"font\":{\"color\":\"#4D5663\"},\"text\":\"\"},\"zerolinecolor\":\"#E1E5ED\"},\"yaxis\":{\"gridcolor\":\"#E1E5ED\",\"showgrid\":true,\"tickfont\":{\"color\":\"#4D5663\"},\"title\":{\"font\":{\"color\":\"#4D5663\"},\"text\":\"\"},\"zerolinecolor\":\"#E1E5ED\"}},                        {\"showLink\": true, \"linkText\": \"Export to plot.ly\", \"plotlyServerURL\": \"https://plot.ly\", \"responsive\": true}                    ).then(function(){\n",
       "                            \n",
       "var gd = document.getElementById('13dc75f3-8215-4727-9412-a77201ed9308');\n",
       "var x = new MutationObserver(function (mutations, observer) {{\n",
       "        var display = window.getComputedStyle(gd).display;\n",
       "        if (!display || display === 'none') {{\n",
       "            console.log([gd, 'removed!']);\n",
       "            Plotly.purge(gd);\n",
       "            observer.disconnect();\n",
       "        }}\n",
       "}});\n",
       "\n",
       "// Listen for the removal of the full notebook cells\n",
       "var notebookContainer = gd.closest('#notebook-container');\n",
       "if (notebookContainer) {{\n",
       "    x.observe(notebookContainer, {childList: true});\n",
       "}}\n",
       "\n",
       "// Listen for the clearing of the current output cell\n",
       "var outputEl = gd.closest('.output');\n",
       "if (outputEl) {{\n",
       "    x.observe(outputEl, {childList: true});\n",
       "}}\n",
       "\n",
       "                        })                };                });            </script>        </div>"
      ],
      "application/vnd.plotly.v1+json": {
       "config": {
        "linkText": "Export to plot.ly",
        "plotlyServerURL": "https://plot.ly",
        "showLink": true
       },
       "data": [
        {
         "histfunc": "count",
         "histnorm": "",
         "marker": {
          "color": "rgba(255, 153, 51, 1.0)",
          "line": {
           "color": "#4D5663",
           "width": 1.3
          }
         },
         "name": "A",
         "opacity": 0.8,
         "orientation": "v",
         "type": "histogram",
         "x": [
          0.42860790047642905,
          -0.24150461408966148,
          0.8033352317583001,
          -0.4541726165268112,
          -0.9932670897240472,
          -1.6407185774656428,
          1.0292734271511936,
          0.717201122535486,
          -0.8328302557547055,
          -0.29479504395009437,
          -0.7876330322200155,
          1.013825910413848,
          -0.6145438366960542,
          -0.42143338248421097,
          1.0861506220781272,
          1.520376664474774,
          -0.01777198223317564,
          -1.6643908381651553,
          0.08997243361014205,
          0.1814431345228801,
          -0.7291269758207538,
          0.30441811909622163,
          -0.3331215193748714,
          -2.443509759910543,
          1.4038049617436101,
          -0.5289496253542012,
          0.5762209244034456,
          1.7473983249450766,
          1.1750635751298635,
          0.3439285942573213,
          0.06695512250429193,
          -1.358152089819541,
          1.3259956980602265,
          0.9230291574367999,
          2.1274268735237967,
          0.01609166317697218,
          -0.008794112180982546,
          -0.13078079279846982,
          -0.9773233004907493,
          0.42408560898470316,
          0.4781801921439303,
          -1.2302375288956056,
          -2.215534588013989,
          -0.6173209910577786,
          0.6873014952127062,
          -0.20768023471795324,
          1.3807411511048835,
          1.5676923985995384,
          -1.3535828954722193,
          0.6688398215891643,
          -1.9417660542959037,
          0.6086396296874507,
          -1.6891089331095988,
          0.8404967201254736,
          -0.25611772522792703,
          0.5649218453129284,
          -1.2455400184288734,
          0.08511126958214074,
          -1.2445956780254495,
          0.693274162901264,
          -0.555786574996747,
          0.014188061775017123,
          0.5756404633679048,
          -0.07502021616099822,
          0.8196550337696089,
          0.14719285707343466,
          2.0721531962168656,
          -0.05089514477070536,
          0.9178935846337136,
          0.8082192273766469,
          -0.9342785145415695,
          -0.7892361220520734,
          -1.0528167075806287,
          -0.900300147200952,
          -0.06378348260655418,
          -1.4058717991735044,
          -0.04637611154553381,
          -0.45343802555693713,
          0.3609959799788183,
          -0.9321964504655148,
          1.9639263256216999,
          -0.8513017162060174,
          -1.177257530160419,
          0.25079731529057353,
          -0.6455488140585096,
          -0.3597892849349049,
          -0.3522676026628601,
          0.03400583986455085,
          -0.4119885784095581,
          -0.668910236483875,
          0.6638172609013666,
          -0.09892944489312143,
          -1.9553751667413874,
          1.0932030834818462,
          0.7807217842469781,
          0.8029768142523035,
          -1.2272581484898053,
          -0.6477754460806492,
          1.9529843160513334,
          -0.84237910998657
         ]
        },
        {
         "histfunc": "count",
         "histnorm": "",
         "marker": {
          "color": "rgba(55, 128, 191, 1.0)",
          "line": {
           "color": "#4D5663",
           "width": 1.3
          }
         },
         "name": "B",
         "opacity": 0.8,
         "orientation": "v",
         "type": "histogram",
         "x": [
          -0.39325974971391525,
          0.05564646570619147,
          0.34780196590089396,
          1.6734131674208959,
          -0.023029982837105743,
          1.0012476696632717,
          0.18703713105734537,
          1.262120083305586,
          -0.8113828042042744,
          -0.36389618183312794,
          0.3182825345578306,
          0.26561207372775414,
          -0.31710083987767906,
          0.3307012661878355,
          -0.3827743646829566,
          -0.07784500406315373,
          0.07184939550950868,
          1.8600532821137243,
          -1.3966157050739068,
          0.6640713923826992,
          -0.8492037274388488,
          -0.6263363686461829,
          1.6250038488954621,
          -0.5236195883778583,
          -2.16345391306942,
          1.3029655695823983,
          0.2283173236958734,
          1.7370577014233897,
          -0.029732253191304518,
          -2.0533396952947993,
          -0.0015571473203474543,
          1.1581858115689212,
          0.6129394841978791,
          2.784380155305771,
          -0.7314673000828203,
          0.3385127274541624,
          -0.7687161829470321,
          1.543242396773852,
          -0.717193509958402,
          0.37699569673225664,
          -1.2396619940727844,
          0.4550492681869588,
          -2.0543094997835243,
          1.3600779678873771,
          -1.244574082682165,
          -2.1843312309789535,
          -0.6296399403616632,
          0.2871687175955069,
          -1.8976766970498358,
          -1.746810132351409,
          1.1721777502639719,
          0.12975308001389982,
          -0.906679091917525,
          -0.8235255560578126,
          1.629416680723812,
          -0.3258256193559577,
          0.3183405316268972,
          0.19960564744461226,
          -2.350317827213011,
          0.5704819720769283,
          -0.572177939912174,
          0.47504228909483914,
          0.9978013795099565,
          0.03284178097168736,
          1.7998520265955422,
          1.1791578061649604,
          0.6725374757403919,
          -0.18452181673013568,
          -1.3271976219839603,
          -1.4712235163192122,
          1.5058786374354427,
          0.20716152593826656,
          -0.8002141505754706,
          -0.23591613710914958,
          0.4176022846377921,
          -0.7322776036272107,
          -0.7501160039715231,
          0.2246809529639941,
          0.49107947550493974,
          -1.366060904827018,
          -1.873047410185736,
          0.5962151440823994,
          0.17473240351086952,
          -0.25176512171647975,
          0.8296301643863834,
          -0.17204697391626958,
          1.524750974056855,
          1.4053490752537185,
          -1.2809051231732484,
          0.49433207086912184,
          0.13477043390008417,
          -0.7369883578766098,
          -1.6833329347466606,
          -1.1611543228587384,
          0.16417302030913833,
          -2.55392965531275,
          0.554411998328491,
          0.9248809515936174,
          0.07974476121974629,
          1.244761109401404
         ]
        },
        {
         "histfunc": "count",
         "histnorm": "",
         "marker": {
          "color": "rgba(50, 171, 96, 1.0)",
          "line": {
           "color": "#4D5663",
           "width": 1.3
          }
         },
         "name": "C",
         "opacity": 0.8,
         "orientation": "v",
         "type": "histogram",
         "x": [
          0.20867975771520808,
          -0.539968732680375,
          -0.10451406860936421,
          0.6807906941541452,
          -0.6237061132537227,
          1.1645819493681946,
          -0.20319634501381628,
          -1.8719734890851034,
          0.19006397038468342,
          0.7426829780297319,
          1.5866853683306084,
          -0.8830991836928733,
          1.329381939728609,
          -0.36910943637848315,
          -0.1259704216318707,
          0.7599399179503843,
          0.2570493559742786,
          1.0102501201538379,
          -0.8301636846246374,
          0.9098700533567373,
          1.272308317853795,
          0.27644901365821556,
          -0.5307842275179776,
          0.6928510797756365,
          -0.7467081888636957,
          1.0864734312542663,
          -0.4088395415896088,
          -1.3297602651780072,
          -1.441235068785222,
          -0.15212789644905217,
          0.9578071542227202,
          -0.07460142157038534,
          0.5113698014381537,
          -0.7585669417479952,
          -1.7210677610542262,
          0.6458738210296548,
          -0.7221738362033334,
          -0.09708844896140927,
          0.34294090340127364,
          -1.0737713509953322,
          -1.3205133194548362,
          0.4033547123960727,
          0.06702499803391719,
          -0.3894870046425358,
          0.5545246926764152,
          -0.3936172349445884,
          0.5204415204166847,
          -2.296869709022682,
          -1.0722455437645189,
          -0.0076908262706479645,
          -0.8497611342012257,
          -0.5418473928237962,
          0.6825865011945559,
          1.528074978722198,
          0.7421162493465568,
          -1.0501963591592836,
          1.5291754301353226,
          0.9965167862689587,
          -0.8002793081334799,
          1.1160758258201309,
          2.416553937349119,
          -0.7323025322245335,
          1.045911989237607,
          -2.3075278310782483,
          -0.11065972894159559,
          1.6167179621416072,
          -1.5706737901917416,
          -0.176117048077122,
          0.4745874051396574,
          -0.461148688308992,
          -0.1907540082939412,
          0.2099327698711436,
          -1.2321302971466992,
          0.6032727936313779,
          1.4648497803732206,
          0.3072917431775034,
          1.0415220041526154,
          0.15940004078617948,
          -0.8020956078401368,
          -0.5019052846097677,
          -0.8158122916130118,
          0.9735286018887148,
          0.49382864652704367,
          -0.149893623001522,
          0.7465151638614091,
          1.41789646851737,
          0.42684270812646524,
          -1.9110647146667514,
          -1.1593244688815125,
          -0.8502884309003719,
          -0.4656426710483235,
          1.7640395575750731,
          -0.7333153880908555,
          -0.6169666283105139,
          -1.4096884439956874,
          -0.3822792755757565,
          2.1510015077400606,
          -0.480261706871716,
          -0.5583127368388549,
          -0.332192650314338
         ]
        },
        {
         "histfunc": "count",
         "histnorm": "",
         "marker": {
          "color": "rgba(128, 0, 128, 1.0)",
          "line": {
           "color": "#4D5663",
           "width": 1.3
          }
         },
         "name": "D",
         "opacity": 0.8,
         "orientation": "v",
         "type": "histogram",
         "x": [
          1.1927052467737471,
          0.6823505953261061,
          -1.7699977924906336,
          -0.4409417245274874,
          -0.4027560996259744,
          1.3855538454435494,
          0.25941520948138114,
          0.45409670225836857,
          -1.828238319014977,
          -0.2430449199174727,
          0.2647028823015733,
          1.4415053080261364,
          1.073705430987225,
          0.4866361960213816,
          1.4824416894323167,
          0.07105310534559514,
          0.13215237042095185,
          -1.2120350758827654,
          0.6581602382531442,
          -0.7675070609238718,
          0.9668208021638547,
          -0.7946618684229247,
          1.7144331828714836,
          0.6183624129108227,
          0.32792919874517806,
          -1.4384318058696666,
          -1.896424554138019,
          1.3936239781195967,
          -0.5608297156821659,
          0.6174363013840861,
          -0.3920373006091651,
          0.9361108376422885,
          -1.215021028570566,
          0.8401590571870553,
          2.3185983729391744,
          0.2455730696322708,
          0.19536172069491808,
          1.4623879346019342,
          1.6091859374219266,
          -1.1194909687215293,
          -1.2857377279485118,
          0.9585464930884179,
          -2.0409079776428296,
          -0.3516153660537357,
          1.1247468667742029,
          -0.6225409273299736,
          -0.881020925119876,
          -0.6288513210560867,
          1.0181706822135164,
          0.43486023954956127,
          1.0735404839177463,
          -0.8360456949946155,
          -1.3071731796213288,
          -0.07262526518920134,
          0.5259937944952808,
          0.7758932426331349,
          -1.2246509725047636,
          0.7812189441750645,
          -0.9343539498244041,
          -0.1670384776565554,
          1.090640883944806,
          -1.2034828032498064,
          0.25473828806871673,
          0.8635343083832683,
          0.3625951607961471,
          -0.2195462221424108,
          -0.7390148935282446,
          0.2050754290124465,
          -0.5872703781784867,
          0.6724208793894313,
          0.4445472943607837,
          0.6485431478865128,
          -0.013995098131496525,
          -1.8286239296369833,
          0.4379298665364222,
          0.36020393470459283,
          -0.055472205298219925,
          -0.9817455885806337,
          -1.0867258660214782,
          0.9792867549289266,
          -0.39095614962872743,
          -1.2431321852725168,
          0.6483194288423902,
          -0.7920970509807383,
          -0.3546536488679633,
          -1.6103360489908431,
          1.3053501829720535,
          1.145556735167566,
          -0.6264207226268598,
          -0.21363957491562746,
          -0.6847452297725517,
          1.2131865236514339,
          -1.7478252431183574,
          1.209465948879976,
          0.43519122902619073,
          -0.15306143209734444,
          -1.3114763939089504,
          -0.2031965018915055,
          -1.5469322006075121,
          0.45462915216522054
         ]
        }
       ],
       "layout": {
        "barmode": "overlay",
        "legend": {
         "bgcolor": "#F5F6F9",
         "font": {
          "color": "#4D5663"
         }
        },
        "paper_bgcolor": "#F5F6F9",
        "plot_bgcolor": "#F5F6F9",
        "template": {
         "data": {
          "bar": [
           {
            "error_x": {
             "color": "#2a3f5f"
            },
            "error_y": {
             "color": "#2a3f5f"
            },
            "marker": {
             "line": {
              "color": "#E5ECF6",
              "width": 0.5
             },
             "pattern": {
              "fillmode": "overlay",
              "size": 10,
              "solidity": 0.2
             }
            },
            "type": "bar"
           }
          ],
          "barpolar": [
           {
            "marker": {
             "line": {
              "color": "#E5ECF6",
              "width": 0.5
             },
             "pattern": {
              "fillmode": "overlay",
              "size": 10,
              "solidity": 0.2
             }
            },
            "type": "barpolar"
           }
          ],
          "carpet": [
           {
            "aaxis": {
             "endlinecolor": "#2a3f5f",
             "gridcolor": "white",
             "linecolor": "white",
             "minorgridcolor": "white",
             "startlinecolor": "#2a3f5f"
            },
            "baxis": {
             "endlinecolor": "#2a3f5f",
             "gridcolor": "white",
             "linecolor": "white",
             "minorgridcolor": "white",
             "startlinecolor": "#2a3f5f"
            },
            "type": "carpet"
           }
          ],
          "choropleth": [
           {
            "colorbar": {
             "outlinewidth": 0,
             "ticks": ""
            },
            "type": "choropleth"
           }
          ],
          "contour": [
           {
            "colorbar": {
             "outlinewidth": 0,
             "ticks": ""
            },
            "colorscale": [
             [
              0,
              "#0d0887"
             ],
             [
              0.1111111111111111,
              "#46039f"
             ],
             [
              0.2222222222222222,
              "#7201a8"
             ],
             [
              0.3333333333333333,
              "#9c179e"
             ],
             [
              0.4444444444444444,
              "#bd3786"
             ],
             [
              0.5555555555555556,
              "#d8576b"
             ],
             [
              0.6666666666666666,
              "#ed7953"
             ],
             [
              0.7777777777777778,
              "#fb9f3a"
             ],
             [
              0.8888888888888888,
              "#fdca26"
             ],
             [
              1,
              "#f0f921"
             ]
            ],
            "type": "contour"
           }
          ],
          "contourcarpet": [
           {
            "colorbar": {
             "outlinewidth": 0,
             "ticks": ""
            },
            "type": "contourcarpet"
           }
          ],
          "heatmap": [
           {
            "colorbar": {
             "outlinewidth": 0,
             "ticks": ""
            },
            "colorscale": [
             [
              0,
              "#0d0887"
             ],
             [
              0.1111111111111111,
              "#46039f"
             ],
             [
              0.2222222222222222,
              "#7201a8"
             ],
             [
              0.3333333333333333,
              "#9c179e"
             ],
             [
              0.4444444444444444,
              "#bd3786"
             ],
             [
              0.5555555555555556,
              "#d8576b"
             ],
             [
              0.6666666666666666,
              "#ed7953"
             ],
             [
              0.7777777777777778,
              "#fb9f3a"
             ],
             [
              0.8888888888888888,
              "#fdca26"
             ],
             [
              1,
              "#f0f921"
             ]
            ],
            "type": "heatmap"
           }
          ],
          "heatmapgl": [
           {
            "colorbar": {
             "outlinewidth": 0,
             "ticks": ""
            },
            "colorscale": [
             [
              0,
              "#0d0887"
             ],
             [
              0.1111111111111111,
              "#46039f"
             ],
             [
              0.2222222222222222,
              "#7201a8"
             ],
             [
              0.3333333333333333,
              "#9c179e"
             ],
             [
              0.4444444444444444,
              "#bd3786"
             ],
             [
              0.5555555555555556,
              "#d8576b"
             ],
             [
              0.6666666666666666,
              "#ed7953"
             ],
             [
              0.7777777777777778,
              "#fb9f3a"
             ],
             [
              0.8888888888888888,
              "#fdca26"
             ],
             [
              1,
              "#f0f921"
             ]
            ],
            "type": "heatmapgl"
           }
          ],
          "histogram": [
           {
            "marker": {
             "pattern": {
              "fillmode": "overlay",
              "size": 10,
              "solidity": 0.2
             }
            },
            "type": "histogram"
           }
          ],
          "histogram2d": [
           {
            "colorbar": {
             "outlinewidth": 0,
             "ticks": ""
            },
            "colorscale": [
             [
              0,
              "#0d0887"
             ],
             [
              0.1111111111111111,
              "#46039f"
             ],
             [
              0.2222222222222222,
              "#7201a8"
             ],
             [
              0.3333333333333333,
              "#9c179e"
             ],
             [
              0.4444444444444444,
              "#bd3786"
             ],
             [
              0.5555555555555556,
              "#d8576b"
             ],
             [
              0.6666666666666666,
              "#ed7953"
             ],
             [
              0.7777777777777778,
              "#fb9f3a"
             ],
             [
              0.8888888888888888,
              "#fdca26"
             ],
             [
              1,
              "#f0f921"
             ]
            ],
            "type": "histogram2d"
           }
          ],
          "histogram2dcontour": [
           {
            "colorbar": {
             "outlinewidth": 0,
             "ticks": ""
            },
            "colorscale": [
             [
              0,
              "#0d0887"
             ],
             [
              0.1111111111111111,
              "#46039f"
             ],
             [
              0.2222222222222222,
              "#7201a8"
             ],
             [
              0.3333333333333333,
              "#9c179e"
             ],
             [
              0.4444444444444444,
              "#bd3786"
             ],
             [
              0.5555555555555556,
              "#d8576b"
             ],
             [
              0.6666666666666666,
              "#ed7953"
             ],
             [
              0.7777777777777778,
              "#fb9f3a"
             ],
             [
              0.8888888888888888,
              "#fdca26"
             ],
             [
              1,
              "#f0f921"
             ]
            ],
            "type": "histogram2dcontour"
           }
          ],
          "mesh3d": [
           {
            "colorbar": {
             "outlinewidth": 0,
             "ticks": ""
            },
            "type": "mesh3d"
           }
          ],
          "parcoords": [
           {
            "line": {
             "colorbar": {
              "outlinewidth": 0,
              "ticks": ""
             }
            },
            "type": "parcoords"
           }
          ],
          "pie": [
           {
            "automargin": true,
            "type": "pie"
           }
          ],
          "scatter": [
           {
            "marker": {
             "colorbar": {
              "outlinewidth": 0,
              "ticks": ""
             }
            },
            "type": "scatter"
           }
          ],
          "scatter3d": [
           {
            "line": {
             "colorbar": {
              "outlinewidth": 0,
              "ticks": ""
             }
            },
            "marker": {
             "colorbar": {
              "outlinewidth": 0,
              "ticks": ""
             }
            },
            "type": "scatter3d"
           }
          ],
          "scattercarpet": [
           {
            "marker": {
             "colorbar": {
              "outlinewidth": 0,
              "ticks": ""
             }
            },
            "type": "scattercarpet"
           }
          ],
          "scattergeo": [
           {
            "marker": {
             "colorbar": {
              "outlinewidth": 0,
              "ticks": ""
             }
            },
            "type": "scattergeo"
           }
          ],
          "scattergl": [
           {
            "marker": {
             "colorbar": {
              "outlinewidth": 0,
              "ticks": ""
             }
            },
            "type": "scattergl"
           }
          ],
          "scattermapbox": [
           {
            "marker": {
             "colorbar": {
              "outlinewidth": 0,
              "ticks": ""
             }
            },
            "type": "scattermapbox"
           }
          ],
          "scatterpolar": [
           {
            "marker": {
             "colorbar": {
              "outlinewidth": 0,
              "ticks": ""
             }
            },
            "type": "scatterpolar"
           }
          ],
          "scatterpolargl": [
           {
            "marker": {
             "colorbar": {
              "outlinewidth": 0,
              "ticks": ""
             }
            },
            "type": "scatterpolargl"
           }
          ],
          "scatterternary": [
           {
            "marker": {
             "colorbar": {
              "outlinewidth": 0,
              "ticks": ""
             }
            },
            "type": "scatterternary"
           }
          ],
          "surface": [
           {
            "colorbar": {
             "outlinewidth": 0,
             "ticks": ""
            },
            "colorscale": [
             [
              0,
              "#0d0887"
             ],
             [
              0.1111111111111111,
              "#46039f"
             ],
             [
              0.2222222222222222,
              "#7201a8"
             ],
             [
              0.3333333333333333,
              "#9c179e"
             ],
             [
              0.4444444444444444,
              "#bd3786"
             ],
             [
              0.5555555555555556,
              "#d8576b"
             ],
             [
              0.6666666666666666,
              "#ed7953"
             ],
             [
              0.7777777777777778,
              "#fb9f3a"
             ],
             [
              0.8888888888888888,
              "#fdca26"
             ],
             [
              1,
              "#f0f921"
             ]
            ],
            "type": "surface"
           }
          ],
          "table": [
           {
            "cells": {
             "fill": {
              "color": "#EBF0F8"
             },
             "line": {
              "color": "white"
             }
            },
            "header": {
             "fill": {
              "color": "#C8D4E3"
             },
             "line": {
              "color": "white"
             }
            },
            "type": "table"
           }
          ]
         },
         "layout": {
          "annotationdefaults": {
           "arrowcolor": "#2a3f5f",
           "arrowhead": 0,
           "arrowwidth": 1
          },
          "autotypenumbers": "strict",
          "coloraxis": {
           "colorbar": {
            "outlinewidth": 0,
            "ticks": ""
           }
          },
          "colorscale": {
           "diverging": [
            [
             0,
             "#8e0152"
            ],
            [
             0.1,
             "#c51b7d"
            ],
            [
             0.2,
             "#de77ae"
            ],
            [
             0.3,
             "#f1b6da"
            ],
            [
             0.4,
             "#fde0ef"
            ],
            [
             0.5,
             "#f7f7f7"
            ],
            [
             0.6,
             "#e6f5d0"
            ],
            [
             0.7,
             "#b8e186"
            ],
            [
             0.8,
             "#7fbc41"
            ],
            [
             0.9,
             "#4d9221"
            ],
            [
             1,
             "#276419"
            ]
           ],
           "sequential": [
            [
             0,
             "#0d0887"
            ],
            [
             0.1111111111111111,
             "#46039f"
            ],
            [
             0.2222222222222222,
             "#7201a8"
            ],
            [
             0.3333333333333333,
             "#9c179e"
            ],
            [
             0.4444444444444444,
             "#bd3786"
            ],
            [
             0.5555555555555556,
             "#d8576b"
            ],
            [
             0.6666666666666666,
             "#ed7953"
            ],
            [
             0.7777777777777778,
             "#fb9f3a"
            ],
            [
             0.8888888888888888,
             "#fdca26"
            ],
            [
             1,
             "#f0f921"
            ]
           ],
           "sequentialminus": [
            [
             0,
             "#0d0887"
            ],
            [
             0.1111111111111111,
             "#46039f"
            ],
            [
             0.2222222222222222,
             "#7201a8"
            ],
            [
             0.3333333333333333,
             "#9c179e"
            ],
            [
             0.4444444444444444,
             "#bd3786"
            ],
            [
             0.5555555555555556,
             "#d8576b"
            ],
            [
             0.6666666666666666,
             "#ed7953"
            ],
            [
             0.7777777777777778,
             "#fb9f3a"
            ],
            [
             0.8888888888888888,
             "#fdca26"
            ],
            [
             1,
             "#f0f921"
            ]
           ]
          },
          "colorway": [
           "#636efa",
           "#EF553B",
           "#00cc96",
           "#ab63fa",
           "#FFA15A",
           "#19d3f3",
           "#FF6692",
           "#B6E880",
           "#FF97FF",
           "#FECB52"
          ],
          "font": {
           "color": "#2a3f5f"
          },
          "geo": {
           "bgcolor": "white",
           "lakecolor": "white",
           "landcolor": "#E5ECF6",
           "showlakes": true,
           "showland": true,
           "subunitcolor": "white"
          },
          "hoverlabel": {
           "align": "left"
          },
          "hovermode": "closest",
          "mapbox": {
           "style": "light"
          },
          "paper_bgcolor": "white",
          "plot_bgcolor": "#E5ECF6",
          "polar": {
           "angularaxis": {
            "gridcolor": "white",
            "linecolor": "white",
            "ticks": ""
           },
           "bgcolor": "#E5ECF6",
           "radialaxis": {
            "gridcolor": "white",
            "linecolor": "white",
            "ticks": ""
           }
          },
          "scene": {
           "xaxis": {
            "backgroundcolor": "#E5ECF6",
            "gridcolor": "white",
            "gridwidth": 2,
            "linecolor": "white",
            "showbackground": true,
            "ticks": "",
            "zerolinecolor": "white"
           },
           "yaxis": {
            "backgroundcolor": "#E5ECF6",
            "gridcolor": "white",
            "gridwidth": 2,
            "linecolor": "white",
            "showbackground": true,
            "ticks": "",
            "zerolinecolor": "white"
           },
           "zaxis": {
            "backgroundcolor": "#E5ECF6",
            "gridcolor": "white",
            "gridwidth": 2,
            "linecolor": "white",
            "showbackground": true,
            "ticks": "",
            "zerolinecolor": "white"
           }
          },
          "shapedefaults": {
           "line": {
            "color": "#2a3f5f"
           }
          },
          "ternary": {
           "aaxis": {
            "gridcolor": "white",
            "linecolor": "white",
            "ticks": ""
           },
           "baxis": {
            "gridcolor": "white",
            "linecolor": "white",
            "ticks": ""
           },
           "bgcolor": "#E5ECF6",
           "caxis": {
            "gridcolor": "white",
            "linecolor": "white",
            "ticks": ""
           }
          },
          "title": {
           "x": 0.05
          },
          "xaxis": {
           "automargin": true,
           "gridcolor": "white",
           "linecolor": "white",
           "ticks": "",
           "title": {
            "standoff": 15
           },
           "zerolinecolor": "white",
           "zerolinewidth": 2
          },
          "yaxis": {
           "automargin": true,
           "gridcolor": "white",
           "linecolor": "white",
           "ticks": "",
           "title": {
            "standoff": 15
           },
           "zerolinecolor": "white",
           "zerolinewidth": 2
          }
         }
        },
        "title": {
         "font": {
          "color": "#4D5663"
         }
        },
        "xaxis": {
         "gridcolor": "#E1E5ED",
         "showgrid": true,
         "tickfont": {
          "color": "#4D5663"
         },
         "title": {
          "font": {
           "color": "#4D5663"
          },
          "text": ""
         },
         "zerolinecolor": "#E1E5ED"
        },
        "yaxis": {
         "gridcolor": "#E1E5ED",
         "showgrid": true,
         "tickfont": {
          "color": "#4D5663"
         },
         "title": {
          "font": {
           "color": "#4D5663"
          },
          "text": ""
         },
         "zerolinecolor": "#E1E5ED"
        }
       }
      }
     },
     "metadata": {}
    }
   ],
   "metadata": {}
  },
  {
   "cell_type": "code",
   "execution_count": 36,
   "source": [
    "df[['A', 'B']].iplot(kind='spread')  # used for stock comparison"
   ],
   "outputs": [
    {
     "output_type": "stream",
     "name": "stderr",
     "text": [
      "C:\\Users\\Shashwat Gupta\\anaconda3\\lib\\site-packages\\cufflinks\\plotlytools.py:849: FutureWarning:\n",
      "\n",
      "The pandas.np module is deprecated and will be removed from pandas in a future version. Import numpy directly instead\n",
      "\n",
      "C:\\Users\\Shashwat Gupta\\anaconda3\\lib\\site-packages\\cufflinks\\plotlytools.py:850: FutureWarning:\n",
      "\n",
      "The pandas.np module is deprecated and will be removed from pandas in a future version. Import numpy directly instead\n",
      "\n"
     ]
    },
    {
     "output_type": "display_data",
     "data": {
      "text/html": [
       "<div>                            <div id=\"1d73000f-53e8-417a-bf2b-e66dff20121b\" class=\"plotly-graph-div\" style=\"height:525px; width:100%;\"></div>            <script type=\"text/javascript\">                require([\"plotly\"], function(Plotly) {                    window.PLOTLYENV=window.PLOTLYENV || {};\n",
       "                    window.PLOTLYENV.BASE_URL='https://plot.ly';                                    if (document.getElementById(\"1d73000f-53e8-417a-bf2b-e66dff20121b\")) {                    Plotly.newPlot(                        \"1d73000f-53e8-417a-bf2b-e66dff20121b\",                        [{\"line\":{\"color\":\"rgba(255, 153, 51, 1.0)\",\"dash\":\"solid\",\"shape\":\"linear\",\"width\":1.3},\"mode\":\"lines\",\"name\":\"A\",\"text\":\"\",\"type\":\"scatter\",\"x\":[0,1,2,3,4,5,6,7,8,9,10,11,12,13,14,15,16,17,18,19,20,21,22,23,24,25,26,27,28,29,30,31,32,33,34,35,36,37,38,39,40,41,42,43,44,45,46,47,48,49,50,51,52,53,54,55,56,57,58,59,60,61,62,63,64,65,66,67,68,69,70,71,72,73,74,75,76,77,78,79,80,81,82,83,84,85,86,87,88,89,90,91,92,93,94,95,96,97,98,99],\"y\":[0.42860790047642905,-0.24150461408966148,0.8033352317583001,-0.4541726165268112,-0.9932670897240472,-1.6407185774656428,1.0292734271511936,0.717201122535486,-0.8328302557547055,-0.29479504395009437,-0.7876330322200155,1.013825910413848,-0.6145438366960542,-0.42143338248421097,1.0861506220781272,1.520376664474774,-0.01777198223317564,-1.6643908381651553,0.08997243361014205,0.1814431345228801,-0.7291269758207538,0.30441811909622163,-0.3331215193748714,-2.443509759910543,1.4038049617436101,-0.5289496253542012,0.5762209244034456,1.7473983249450766,1.1750635751298635,0.3439285942573213,0.06695512250429193,-1.358152089819541,1.3259956980602265,0.9230291574367999,2.1274268735237967,0.01609166317697218,-0.008794112180982546,-0.13078079279846982,-0.9773233004907493,0.42408560898470316,0.4781801921439303,-1.2302375288956056,-2.215534588013989,-0.6173209910577786,0.6873014952127062,-0.20768023471795324,1.3807411511048835,1.5676923985995384,-1.3535828954722193,0.6688398215891643,-1.9417660542959037,0.6086396296874507,-1.6891089331095988,0.8404967201254736,-0.25611772522792703,0.5649218453129284,-1.2455400184288734,0.08511126958214074,-1.2445956780254495,0.693274162901264,-0.555786574996747,0.014188061775017123,0.5756404633679048,-0.07502021616099822,0.8196550337696089,0.14719285707343466,2.0721531962168656,-0.05089514477070536,0.9178935846337136,0.8082192273766469,-0.9342785145415695,-0.7892361220520734,-1.0528167075806287,-0.900300147200952,-0.06378348260655418,-1.4058717991735044,-0.04637611154553381,-0.45343802555693713,0.3609959799788183,-0.9321964504655148,1.9639263256216999,-0.8513017162060174,-1.177257530160419,0.25079731529057353,-0.6455488140585096,-0.3597892849349049,-0.3522676026628601,0.03400583986455085,-0.4119885784095581,-0.668910236483875,0.6638172609013666,-0.09892944489312143,-1.9553751667413874,1.0932030834818462,0.7807217842469781,0.8029768142523035,-1.2272581484898053,-0.6477754460806492,1.9529843160513334,-0.84237910998657]},{\"line\":{\"color\":\"rgba(55, 128, 191, 1.0)\",\"dash\":\"solid\",\"shape\":\"linear\",\"width\":1.3},\"mode\":\"lines\",\"name\":\"B\",\"text\":\"\",\"type\":\"scatter\",\"x\":[0,1,2,3,4,5,6,7,8,9,10,11,12,13,14,15,16,17,18,19,20,21,22,23,24,25,26,27,28,29,30,31,32,33,34,35,36,37,38,39,40,41,42,43,44,45,46,47,48,49,50,51,52,53,54,55,56,57,58,59,60,61,62,63,64,65,66,67,68,69,70,71,72,73,74,75,76,77,78,79,80,81,82,83,84,85,86,87,88,89,90,91,92,93,94,95,96,97,98,99],\"y\":[-0.39325974971391525,0.05564646570619147,0.34780196590089396,1.6734131674208959,-0.023029982837105743,1.0012476696632717,0.18703713105734537,1.262120083305586,-0.8113828042042744,-0.36389618183312794,0.3182825345578306,0.26561207372775414,-0.31710083987767906,0.3307012661878355,-0.3827743646829566,-0.07784500406315373,0.07184939550950868,1.8600532821137243,-1.3966157050739068,0.6640713923826992,-0.8492037274388488,-0.6263363686461829,1.6250038488954621,-0.5236195883778583,-2.16345391306942,1.3029655695823983,0.2283173236958734,1.7370577014233897,-0.029732253191304518,-2.0533396952947993,-0.0015571473203474543,1.1581858115689212,0.6129394841978791,2.784380155305771,-0.7314673000828203,0.3385127274541624,-0.7687161829470321,1.543242396773852,-0.717193509958402,0.37699569673225664,-1.2396619940727844,0.4550492681869588,-2.0543094997835243,1.3600779678873771,-1.244574082682165,-2.1843312309789535,-0.6296399403616632,0.2871687175955069,-1.8976766970498358,-1.746810132351409,1.1721777502639719,0.12975308001389982,-0.906679091917525,-0.8235255560578126,1.629416680723812,-0.3258256193559577,0.3183405316268972,0.19960564744461226,-2.350317827213011,0.5704819720769283,-0.572177939912174,0.47504228909483914,0.9978013795099565,0.03284178097168736,1.7998520265955422,1.1791578061649604,0.6725374757403919,-0.18452181673013568,-1.3271976219839603,-1.4712235163192122,1.5058786374354427,0.20716152593826656,-0.8002141505754706,-0.23591613710914958,0.4176022846377921,-0.7322776036272107,-0.7501160039715231,0.2246809529639941,0.49107947550493974,-1.366060904827018,-1.873047410185736,0.5962151440823994,0.17473240351086952,-0.25176512171647975,0.8296301643863834,-0.17204697391626958,1.524750974056855,1.4053490752537185,-1.2809051231732484,0.49433207086912184,0.13477043390008417,-0.7369883578766098,-1.6833329347466606,-1.1611543228587384,0.16417302030913833,-2.55392965531275,0.554411998328491,0.9248809515936174,0.07974476121974629,1.244761109401404]},{\"connectgaps\":false,\"fill\":\"tozeroy\",\"line\":{\"color\":\"green\",\"dash\":\"solid\",\"shape\":\"linear\",\"width\":0.5},\"mode\":\"lines\",\"name\":\"Spread\",\"showlegend\":false,\"type\":\"scatter\",\"x\":[0,1,2,3,4,5,6,7,8,9,10,11,12,13,14,15,16,17,18,19,20,21,22,23,24,25,26,27,28,29,30,31,32,33,34,35,36,37,38,39,40,41,42,43,44,45,46,47,48,49,50,51,52,53,54,55,56,57,58,59,60,61,62,63,64,65,66,67,68,69,70,71,72,73,74,75,76,77,78,79,80,81,82,83,84,85,86,87,88,89,90,91,92,93,94,95,96,97,98,99],\"xaxis\":\"x2\",\"y\":[0.8218676501903444,\"\",0.45553326585740617,\"\",\"\",\"\",0.8422362960938483,\"\",\"\",0.06910113788303357,\"\",0.748213836686094,\"\",\"\",1.4689249867610839,1.5982216685379278,\"\",\"\",1.4865881386840487,\"\",0.12007675161809495,0.9307544877424045,\"\",\"\",3.5672588748130303,\"\",0.3479036007075722,0.010340623521686965,1.204795828321168,2.3972682895521205,0.06851226982463939,\"\",0.7130562138623474,\"\",2.858894173606617,\"\",0.7599220707660496,\"\",\"\",0.04708991225244652,1.7178421862167148,\"\",\"\",\"\",1.9318755778948713,1.9766509962610004,2.0103810914665465,1.2805236810040315,0.5440938015776164,2.4156499539405734,\"\",0.4788865496735508,\"\",1.6640222761832861,\"\",0.8907474646688862,\"\",\"\",1.1057221491875615,0.12279219082433568,0.01639136491542703,\"\",\"\",\"\",\"\",\"\",1.3996157204764736,0.13362667195943032,2.245091206617674,2.279442743695859,\"\",\"\",\"\",\"\",\"\",\"\",0.7037398924259893,\"\",\"\",0.4338644543615032,3.836973735807436,\"\",\"\",0.5025624370070533,\"\",\"\",\"\",\"\",0.8689165447636904,\"\",0.5290468270012825,0.6380589129834884,\"\",2.254357406340585,0.6165487639378397,3.3569064695650535,\"\",\"\",1.873239554831587,\"\"],\"yaxis\":\"y2\"},{\"connectgaps\":false,\"fill\":\"tozeroy\",\"line\":{\"color\":\"red\",\"dash\":\"solid\",\"shape\":\"linear\",\"width\":0.5},\"mode\":\"lines\",\"name\":\"Spread\",\"showlegend\":false,\"type\":\"scatter\",\"x\":[0,1,2,3,4,5,6,7,8,9,10,11,12,13,14,15,16,17,18,19,20,21,22,23,24,25,26,27,28,29,30,31,32,33,34,35,36,37,38,39,40,41,42,43,44,45,46,47,48,49,50,51,52,53,54,55,56,57,58,59,60,61,62,63,64,65,66,67,68,69,70,71,72,73,74,75,76,77,78,79,80,81,82,83,84,85,86,87,88,89,90,91,92,93,94,95,96,97,98,99],\"xaxis\":\"x2\",\"y\":[\"\",-0.297151079795853,\"\",-2.127585783947707,-0.9702371068869414,-2.6419662471289147,\"\",-0.5449189607700999,-0.02144745155043104,\"\",-1.105915566777846,\"\",-0.2974429968183751,-0.7521346486720465,\"\",\"\",-0.08962137774268432,-3.5244441202788797,\"\",-0.4826282578598191,\"\",\"\",-1.9581253682703335,-1.9198901715326848,\"\",-1.8319151949365995,\"\",\"\",\"\",\"\",\"\",-2.516337901388462,\"\",-1.861350997868971,\"\",-0.3224210642771902,\"\",-1.6740231895723219,-0.2601297905323473,\"\",\"\",-1.6852867970825645,-0.16122508823046466,-1.9773989589451557,\"\",\"\",\"\",\"\",\"\",\"\",-3.1139438045598755,\"\",-0.7824298411920737,\"\",-1.885534405951739,\"\",-1.5638805500557706,-0.11449437786247152,\"\",\"\",\"\",-0.460854227319822,-0.42216091614205176,-0.10786199713268557,-0.9801969928259333,-1.0319649490915257,\"\",\"\",\"\",\"\",-2.4401571519770124,-0.9963976479903399,-0.2526025570051581,-0.6643840100918024,-0.4813857672443463,-0.6735941955462936,\"\",-0.6781189785209312,-0.13008349552612142,\"\",\"\",-1.4475168602884168,-1.3519899336712884,\"\",-1.475178978444893,-0.18774231101863534,-1.8770185767197152,-1.3713432353891677,\"\",-1.163242307352997,\"\",\"\",-0.2720422319947269,\"\",\"\",\"\",-1.7816701468182963,-1.5726563976742667,\"\",-2.087140219387974],\"yaxis\":\"y2\"}],                        {\"hovermode\":\"x\",\"legend\":{\"bgcolor\":\"#F5F6F9\",\"font\":{\"color\":\"#4D5663\"}},\"paper_bgcolor\":\"#F5F6F9\",\"plot_bgcolor\":\"#F5F6F9\",\"template\":{\"data\":{\"bar\":[{\"error_x\":{\"color\":\"#2a3f5f\"},\"error_y\":{\"color\":\"#2a3f5f\"},\"marker\":{\"line\":{\"color\":\"#E5ECF6\",\"width\":0.5},\"pattern\":{\"fillmode\":\"overlay\",\"size\":10,\"solidity\":0.2}},\"type\":\"bar\"}],\"barpolar\":[{\"marker\":{\"line\":{\"color\":\"#E5ECF6\",\"width\":0.5},\"pattern\":{\"fillmode\":\"overlay\",\"size\":10,\"solidity\":0.2}},\"type\":\"barpolar\"}],\"carpet\":[{\"aaxis\":{\"endlinecolor\":\"#2a3f5f\",\"gridcolor\":\"white\",\"linecolor\":\"white\",\"minorgridcolor\":\"white\",\"startlinecolor\":\"#2a3f5f\"},\"baxis\":{\"endlinecolor\":\"#2a3f5f\",\"gridcolor\":\"white\",\"linecolor\":\"white\",\"minorgridcolor\":\"white\",\"startlinecolor\":\"#2a3f5f\"},\"type\":\"carpet\"}],\"choropleth\":[{\"colorbar\":{\"outlinewidth\":0,\"ticks\":\"\"},\"type\":\"choropleth\"}],\"contour\":[{\"colorbar\":{\"outlinewidth\":0,\"ticks\":\"\"},\"colorscale\":[[0.0,\"#0d0887\"],[0.1111111111111111,\"#46039f\"],[0.2222222222222222,\"#7201a8\"],[0.3333333333333333,\"#9c179e\"],[0.4444444444444444,\"#bd3786\"],[0.5555555555555556,\"#d8576b\"],[0.6666666666666666,\"#ed7953\"],[0.7777777777777778,\"#fb9f3a\"],[0.8888888888888888,\"#fdca26\"],[1.0,\"#f0f921\"]],\"type\":\"contour\"}],\"contourcarpet\":[{\"colorbar\":{\"outlinewidth\":0,\"ticks\":\"\"},\"type\":\"contourcarpet\"}],\"heatmap\":[{\"colorbar\":{\"outlinewidth\":0,\"ticks\":\"\"},\"colorscale\":[[0.0,\"#0d0887\"],[0.1111111111111111,\"#46039f\"],[0.2222222222222222,\"#7201a8\"],[0.3333333333333333,\"#9c179e\"],[0.4444444444444444,\"#bd3786\"],[0.5555555555555556,\"#d8576b\"],[0.6666666666666666,\"#ed7953\"],[0.7777777777777778,\"#fb9f3a\"],[0.8888888888888888,\"#fdca26\"],[1.0,\"#f0f921\"]],\"type\":\"heatmap\"}],\"heatmapgl\":[{\"colorbar\":{\"outlinewidth\":0,\"ticks\":\"\"},\"colorscale\":[[0.0,\"#0d0887\"],[0.1111111111111111,\"#46039f\"],[0.2222222222222222,\"#7201a8\"],[0.3333333333333333,\"#9c179e\"],[0.4444444444444444,\"#bd3786\"],[0.5555555555555556,\"#d8576b\"],[0.6666666666666666,\"#ed7953\"],[0.7777777777777778,\"#fb9f3a\"],[0.8888888888888888,\"#fdca26\"],[1.0,\"#f0f921\"]],\"type\":\"heatmapgl\"}],\"histogram\":[{\"marker\":{\"pattern\":{\"fillmode\":\"overlay\",\"size\":10,\"solidity\":0.2}},\"type\":\"histogram\"}],\"histogram2d\":[{\"colorbar\":{\"outlinewidth\":0,\"ticks\":\"\"},\"colorscale\":[[0.0,\"#0d0887\"],[0.1111111111111111,\"#46039f\"],[0.2222222222222222,\"#7201a8\"],[0.3333333333333333,\"#9c179e\"],[0.4444444444444444,\"#bd3786\"],[0.5555555555555556,\"#d8576b\"],[0.6666666666666666,\"#ed7953\"],[0.7777777777777778,\"#fb9f3a\"],[0.8888888888888888,\"#fdca26\"],[1.0,\"#f0f921\"]],\"type\":\"histogram2d\"}],\"histogram2dcontour\":[{\"colorbar\":{\"outlinewidth\":0,\"ticks\":\"\"},\"colorscale\":[[0.0,\"#0d0887\"],[0.1111111111111111,\"#46039f\"],[0.2222222222222222,\"#7201a8\"],[0.3333333333333333,\"#9c179e\"],[0.4444444444444444,\"#bd3786\"],[0.5555555555555556,\"#d8576b\"],[0.6666666666666666,\"#ed7953\"],[0.7777777777777778,\"#fb9f3a\"],[0.8888888888888888,\"#fdca26\"],[1.0,\"#f0f921\"]],\"type\":\"histogram2dcontour\"}],\"mesh3d\":[{\"colorbar\":{\"outlinewidth\":0,\"ticks\":\"\"},\"type\":\"mesh3d\"}],\"parcoords\":[{\"line\":{\"colorbar\":{\"outlinewidth\":0,\"ticks\":\"\"}},\"type\":\"parcoords\"}],\"pie\":[{\"automargin\":true,\"type\":\"pie\"}],\"scatter\":[{\"marker\":{\"colorbar\":{\"outlinewidth\":0,\"ticks\":\"\"}},\"type\":\"scatter\"}],\"scatter3d\":[{\"line\":{\"colorbar\":{\"outlinewidth\":0,\"ticks\":\"\"}},\"marker\":{\"colorbar\":{\"outlinewidth\":0,\"ticks\":\"\"}},\"type\":\"scatter3d\"}],\"scattercarpet\":[{\"marker\":{\"colorbar\":{\"outlinewidth\":0,\"ticks\":\"\"}},\"type\":\"scattercarpet\"}],\"scattergeo\":[{\"marker\":{\"colorbar\":{\"outlinewidth\":0,\"ticks\":\"\"}},\"type\":\"scattergeo\"}],\"scattergl\":[{\"marker\":{\"colorbar\":{\"outlinewidth\":0,\"ticks\":\"\"}},\"type\":\"scattergl\"}],\"scattermapbox\":[{\"marker\":{\"colorbar\":{\"outlinewidth\":0,\"ticks\":\"\"}},\"type\":\"scattermapbox\"}],\"scatterpolar\":[{\"marker\":{\"colorbar\":{\"outlinewidth\":0,\"ticks\":\"\"}},\"type\":\"scatterpolar\"}],\"scatterpolargl\":[{\"marker\":{\"colorbar\":{\"outlinewidth\":0,\"ticks\":\"\"}},\"type\":\"scatterpolargl\"}],\"scatterternary\":[{\"marker\":{\"colorbar\":{\"outlinewidth\":0,\"ticks\":\"\"}},\"type\":\"scatterternary\"}],\"surface\":[{\"colorbar\":{\"outlinewidth\":0,\"ticks\":\"\"},\"colorscale\":[[0.0,\"#0d0887\"],[0.1111111111111111,\"#46039f\"],[0.2222222222222222,\"#7201a8\"],[0.3333333333333333,\"#9c179e\"],[0.4444444444444444,\"#bd3786\"],[0.5555555555555556,\"#d8576b\"],[0.6666666666666666,\"#ed7953\"],[0.7777777777777778,\"#fb9f3a\"],[0.8888888888888888,\"#fdca26\"],[1.0,\"#f0f921\"]],\"type\":\"surface\"}],\"table\":[{\"cells\":{\"fill\":{\"color\":\"#EBF0F8\"},\"line\":{\"color\":\"white\"}},\"header\":{\"fill\":{\"color\":\"#C8D4E3\"},\"line\":{\"color\":\"white\"}},\"type\":\"table\"}]},\"layout\":{\"annotationdefaults\":{\"arrowcolor\":\"#2a3f5f\",\"arrowhead\":0,\"arrowwidth\":1},\"autotypenumbers\":\"strict\",\"coloraxis\":{\"colorbar\":{\"outlinewidth\":0,\"ticks\":\"\"}},\"colorscale\":{\"diverging\":[[0,\"#8e0152\"],[0.1,\"#c51b7d\"],[0.2,\"#de77ae\"],[0.3,\"#f1b6da\"],[0.4,\"#fde0ef\"],[0.5,\"#f7f7f7\"],[0.6,\"#e6f5d0\"],[0.7,\"#b8e186\"],[0.8,\"#7fbc41\"],[0.9,\"#4d9221\"],[1,\"#276419\"]],\"sequential\":[[0.0,\"#0d0887\"],[0.1111111111111111,\"#46039f\"],[0.2222222222222222,\"#7201a8\"],[0.3333333333333333,\"#9c179e\"],[0.4444444444444444,\"#bd3786\"],[0.5555555555555556,\"#d8576b\"],[0.6666666666666666,\"#ed7953\"],[0.7777777777777778,\"#fb9f3a\"],[0.8888888888888888,\"#fdca26\"],[1.0,\"#f0f921\"]],\"sequentialminus\":[[0.0,\"#0d0887\"],[0.1111111111111111,\"#46039f\"],[0.2222222222222222,\"#7201a8\"],[0.3333333333333333,\"#9c179e\"],[0.4444444444444444,\"#bd3786\"],[0.5555555555555556,\"#d8576b\"],[0.6666666666666666,\"#ed7953\"],[0.7777777777777778,\"#fb9f3a\"],[0.8888888888888888,\"#fdca26\"],[1.0,\"#f0f921\"]]},\"colorway\":[\"#636efa\",\"#EF553B\",\"#00cc96\",\"#ab63fa\",\"#FFA15A\",\"#19d3f3\",\"#FF6692\",\"#B6E880\",\"#FF97FF\",\"#FECB52\"],\"font\":{\"color\":\"#2a3f5f\"},\"geo\":{\"bgcolor\":\"white\",\"lakecolor\":\"white\",\"landcolor\":\"#E5ECF6\",\"showlakes\":true,\"showland\":true,\"subunitcolor\":\"white\"},\"hoverlabel\":{\"align\":\"left\"},\"hovermode\":\"closest\",\"mapbox\":{\"style\":\"light\"},\"paper_bgcolor\":\"white\",\"plot_bgcolor\":\"#E5ECF6\",\"polar\":{\"angularaxis\":{\"gridcolor\":\"white\",\"linecolor\":\"white\",\"ticks\":\"\"},\"bgcolor\":\"#E5ECF6\",\"radialaxis\":{\"gridcolor\":\"white\",\"linecolor\":\"white\",\"ticks\":\"\"}},\"scene\":{\"xaxis\":{\"backgroundcolor\":\"#E5ECF6\",\"gridcolor\":\"white\",\"gridwidth\":2,\"linecolor\":\"white\",\"showbackground\":true,\"ticks\":\"\",\"zerolinecolor\":\"white\"},\"yaxis\":{\"backgroundcolor\":\"#E5ECF6\",\"gridcolor\":\"white\",\"gridwidth\":2,\"linecolor\":\"white\",\"showbackground\":true,\"ticks\":\"\",\"zerolinecolor\":\"white\"},\"zaxis\":{\"backgroundcolor\":\"#E5ECF6\",\"gridcolor\":\"white\",\"gridwidth\":2,\"linecolor\":\"white\",\"showbackground\":true,\"ticks\":\"\",\"zerolinecolor\":\"white\"}},\"shapedefaults\":{\"line\":{\"color\":\"#2a3f5f\"}},\"ternary\":{\"aaxis\":{\"gridcolor\":\"white\",\"linecolor\":\"white\",\"ticks\":\"\"},\"baxis\":{\"gridcolor\":\"white\",\"linecolor\":\"white\",\"ticks\":\"\"},\"bgcolor\":\"#E5ECF6\",\"caxis\":{\"gridcolor\":\"white\",\"linecolor\":\"white\",\"ticks\":\"\"}},\"title\":{\"x\":0.05},\"xaxis\":{\"automargin\":true,\"gridcolor\":\"white\",\"linecolor\":\"white\",\"ticks\":\"\",\"title\":{\"standoff\":15},\"zerolinecolor\":\"white\",\"zerolinewidth\":2},\"yaxis\":{\"automargin\":true,\"gridcolor\":\"white\",\"linecolor\":\"white\",\"ticks\":\"\",\"title\":{\"standoff\":15},\"zerolinecolor\":\"white\",\"zerolinewidth\":2}}},\"title\":{\"font\":{\"color\":\"#4D5663\"}},\"xaxis\":{\"gridcolor\":\"#E1E5ED\",\"showgrid\":true,\"tickfont\":{\"color\":\"#4D5663\"},\"title\":{\"font\":{\"color\":\"#4D5663\"},\"text\":\"\"},\"zerolinecolor\":\"#E1E5ED\"},\"xaxis2\":{\"anchor\":\"y2\",\"gridcolor\":\"#E1E5ED\",\"showgrid\":true,\"showticklabels\":false,\"tickfont\":{\"color\":\"#4D5663\"},\"title\":{\"font\":{\"color\":\"#4D5663\"},\"text\":\"\"},\"zerolinecolor\":\"#E1E5ED\"},\"yaxis\":{\"domain\":[0.3,1],\"gridcolor\":\"#E1E5ED\",\"showgrid\":true,\"tickfont\":{\"color\":\"#4D5663\"},\"title\":{\"font\":{\"color\":\"#4D5663\"},\"text\":\"\"},\"zerolinecolor\":\"#E1E5ED\"},\"yaxis2\":{\"domain\":[0,0.25],\"gridcolor\":\"#E1E5ED\",\"showgrid\":true,\"tickfont\":{\"color\":\"#4D5663\"},\"title\":{\"font\":{\"color\":\"#4D5663\"},\"text\":\"Spread\"},\"zerolinecolor\":\"#E1E5ED\"}},                        {\"showLink\": true, \"linkText\": \"Export to plot.ly\", \"plotlyServerURL\": \"https://plot.ly\", \"responsive\": true}                    ).then(function(){\n",
       "                            \n",
       "var gd = document.getElementById('1d73000f-53e8-417a-bf2b-e66dff20121b');\n",
       "var x = new MutationObserver(function (mutations, observer) {{\n",
       "        var display = window.getComputedStyle(gd).display;\n",
       "        if (!display || display === 'none') {{\n",
       "            console.log([gd, 'removed!']);\n",
       "            Plotly.purge(gd);\n",
       "            observer.disconnect();\n",
       "        }}\n",
       "}});\n",
       "\n",
       "// Listen for the removal of the full notebook cells\n",
       "var notebookContainer = gd.closest('#notebook-container');\n",
       "if (notebookContainer) {{\n",
       "    x.observe(notebookContainer, {childList: true});\n",
       "}}\n",
       "\n",
       "// Listen for the clearing of the current output cell\n",
       "var outputEl = gd.closest('.output');\n",
       "if (outputEl) {{\n",
       "    x.observe(outputEl, {childList: true});\n",
       "}}\n",
       "\n",
       "                        })                };                });            </script>        </div>"
      ],
      "application/vnd.plotly.v1+json": {
       "config": {
        "linkText": "Export to plot.ly",
        "plotlyServerURL": "https://plot.ly",
        "showLink": true
       },
       "data": [
        {
         "line": {
          "color": "rgba(255, 153, 51, 1.0)",
          "dash": "solid",
          "shape": "linear",
          "width": 1.3
         },
         "mode": "lines",
         "name": "A",
         "text": "",
         "type": "scatter",
         "x": [
          0,
          1,
          2,
          3,
          4,
          5,
          6,
          7,
          8,
          9,
          10,
          11,
          12,
          13,
          14,
          15,
          16,
          17,
          18,
          19,
          20,
          21,
          22,
          23,
          24,
          25,
          26,
          27,
          28,
          29,
          30,
          31,
          32,
          33,
          34,
          35,
          36,
          37,
          38,
          39,
          40,
          41,
          42,
          43,
          44,
          45,
          46,
          47,
          48,
          49,
          50,
          51,
          52,
          53,
          54,
          55,
          56,
          57,
          58,
          59,
          60,
          61,
          62,
          63,
          64,
          65,
          66,
          67,
          68,
          69,
          70,
          71,
          72,
          73,
          74,
          75,
          76,
          77,
          78,
          79,
          80,
          81,
          82,
          83,
          84,
          85,
          86,
          87,
          88,
          89,
          90,
          91,
          92,
          93,
          94,
          95,
          96,
          97,
          98,
          99
         ],
         "y": [
          0.42860790047642905,
          -0.24150461408966148,
          0.8033352317583001,
          -0.4541726165268112,
          -0.9932670897240472,
          -1.6407185774656428,
          1.0292734271511936,
          0.717201122535486,
          -0.8328302557547055,
          -0.29479504395009437,
          -0.7876330322200155,
          1.013825910413848,
          -0.6145438366960542,
          -0.42143338248421097,
          1.0861506220781272,
          1.520376664474774,
          -0.01777198223317564,
          -1.6643908381651553,
          0.08997243361014205,
          0.1814431345228801,
          -0.7291269758207538,
          0.30441811909622163,
          -0.3331215193748714,
          -2.443509759910543,
          1.4038049617436101,
          -0.5289496253542012,
          0.5762209244034456,
          1.7473983249450766,
          1.1750635751298635,
          0.3439285942573213,
          0.06695512250429193,
          -1.358152089819541,
          1.3259956980602265,
          0.9230291574367999,
          2.1274268735237967,
          0.01609166317697218,
          -0.008794112180982546,
          -0.13078079279846982,
          -0.9773233004907493,
          0.42408560898470316,
          0.4781801921439303,
          -1.2302375288956056,
          -2.215534588013989,
          -0.6173209910577786,
          0.6873014952127062,
          -0.20768023471795324,
          1.3807411511048835,
          1.5676923985995384,
          -1.3535828954722193,
          0.6688398215891643,
          -1.9417660542959037,
          0.6086396296874507,
          -1.6891089331095988,
          0.8404967201254736,
          -0.25611772522792703,
          0.5649218453129284,
          -1.2455400184288734,
          0.08511126958214074,
          -1.2445956780254495,
          0.693274162901264,
          -0.555786574996747,
          0.014188061775017123,
          0.5756404633679048,
          -0.07502021616099822,
          0.8196550337696089,
          0.14719285707343466,
          2.0721531962168656,
          -0.05089514477070536,
          0.9178935846337136,
          0.8082192273766469,
          -0.9342785145415695,
          -0.7892361220520734,
          -1.0528167075806287,
          -0.900300147200952,
          -0.06378348260655418,
          -1.4058717991735044,
          -0.04637611154553381,
          -0.45343802555693713,
          0.3609959799788183,
          -0.9321964504655148,
          1.9639263256216999,
          -0.8513017162060174,
          -1.177257530160419,
          0.25079731529057353,
          -0.6455488140585096,
          -0.3597892849349049,
          -0.3522676026628601,
          0.03400583986455085,
          -0.4119885784095581,
          -0.668910236483875,
          0.6638172609013666,
          -0.09892944489312143,
          -1.9553751667413874,
          1.0932030834818462,
          0.7807217842469781,
          0.8029768142523035,
          -1.2272581484898053,
          -0.6477754460806492,
          1.9529843160513334,
          -0.84237910998657
         ]
        },
        {
         "line": {
          "color": "rgba(55, 128, 191, 1.0)",
          "dash": "solid",
          "shape": "linear",
          "width": 1.3
         },
         "mode": "lines",
         "name": "B",
         "text": "",
         "type": "scatter",
         "x": [
          0,
          1,
          2,
          3,
          4,
          5,
          6,
          7,
          8,
          9,
          10,
          11,
          12,
          13,
          14,
          15,
          16,
          17,
          18,
          19,
          20,
          21,
          22,
          23,
          24,
          25,
          26,
          27,
          28,
          29,
          30,
          31,
          32,
          33,
          34,
          35,
          36,
          37,
          38,
          39,
          40,
          41,
          42,
          43,
          44,
          45,
          46,
          47,
          48,
          49,
          50,
          51,
          52,
          53,
          54,
          55,
          56,
          57,
          58,
          59,
          60,
          61,
          62,
          63,
          64,
          65,
          66,
          67,
          68,
          69,
          70,
          71,
          72,
          73,
          74,
          75,
          76,
          77,
          78,
          79,
          80,
          81,
          82,
          83,
          84,
          85,
          86,
          87,
          88,
          89,
          90,
          91,
          92,
          93,
          94,
          95,
          96,
          97,
          98,
          99
         ],
         "y": [
          -0.39325974971391525,
          0.05564646570619147,
          0.34780196590089396,
          1.6734131674208959,
          -0.023029982837105743,
          1.0012476696632717,
          0.18703713105734537,
          1.262120083305586,
          -0.8113828042042744,
          -0.36389618183312794,
          0.3182825345578306,
          0.26561207372775414,
          -0.31710083987767906,
          0.3307012661878355,
          -0.3827743646829566,
          -0.07784500406315373,
          0.07184939550950868,
          1.8600532821137243,
          -1.3966157050739068,
          0.6640713923826992,
          -0.8492037274388488,
          -0.6263363686461829,
          1.6250038488954621,
          -0.5236195883778583,
          -2.16345391306942,
          1.3029655695823983,
          0.2283173236958734,
          1.7370577014233897,
          -0.029732253191304518,
          -2.0533396952947993,
          -0.0015571473203474543,
          1.1581858115689212,
          0.6129394841978791,
          2.784380155305771,
          -0.7314673000828203,
          0.3385127274541624,
          -0.7687161829470321,
          1.543242396773852,
          -0.717193509958402,
          0.37699569673225664,
          -1.2396619940727844,
          0.4550492681869588,
          -2.0543094997835243,
          1.3600779678873771,
          -1.244574082682165,
          -2.1843312309789535,
          -0.6296399403616632,
          0.2871687175955069,
          -1.8976766970498358,
          -1.746810132351409,
          1.1721777502639719,
          0.12975308001389982,
          -0.906679091917525,
          -0.8235255560578126,
          1.629416680723812,
          -0.3258256193559577,
          0.3183405316268972,
          0.19960564744461226,
          -2.350317827213011,
          0.5704819720769283,
          -0.572177939912174,
          0.47504228909483914,
          0.9978013795099565,
          0.03284178097168736,
          1.7998520265955422,
          1.1791578061649604,
          0.6725374757403919,
          -0.18452181673013568,
          -1.3271976219839603,
          -1.4712235163192122,
          1.5058786374354427,
          0.20716152593826656,
          -0.8002141505754706,
          -0.23591613710914958,
          0.4176022846377921,
          -0.7322776036272107,
          -0.7501160039715231,
          0.2246809529639941,
          0.49107947550493974,
          -1.366060904827018,
          -1.873047410185736,
          0.5962151440823994,
          0.17473240351086952,
          -0.25176512171647975,
          0.8296301643863834,
          -0.17204697391626958,
          1.524750974056855,
          1.4053490752537185,
          -1.2809051231732484,
          0.49433207086912184,
          0.13477043390008417,
          -0.7369883578766098,
          -1.6833329347466606,
          -1.1611543228587384,
          0.16417302030913833,
          -2.55392965531275,
          0.554411998328491,
          0.9248809515936174,
          0.07974476121974629,
          1.244761109401404
         ]
        },
        {
         "connectgaps": false,
         "fill": "tozeroy",
         "line": {
          "color": "green",
          "dash": "solid",
          "shape": "linear",
          "width": 0.5
         },
         "mode": "lines",
         "name": "Spread",
         "showlegend": false,
         "type": "scatter",
         "x": [
          0,
          1,
          2,
          3,
          4,
          5,
          6,
          7,
          8,
          9,
          10,
          11,
          12,
          13,
          14,
          15,
          16,
          17,
          18,
          19,
          20,
          21,
          22,
          23,
          24,
          25,
          26,
          27,
          28,
          29,
          30,
          31,
          32,
          33,
          34,
          35,
          36,
          37,
          38,
          39,
          40,
          41,
          42,
          43,
          44,
          45,
          46,
          47,
          48,
          49,
          50,
          51,
          52,
          53,
          54,
          55,
          56,
          57,
          58,
          59,
          60,
          61,
          62,
          63,
          64,
          65,
          66,
          67,
          68,
          69,
          70,
          71,
          72,
          73,
          74,
          75,
          76,
          77,
          78,
          79,
          80,
          81,
          82,
          83,
          84,
          85,
          86,
          87,
          88,
          89,
          90,
          91,
          92,
          93,
          94,
          95,
          96,
          97,
          98,
          99
         ],
         "xaxis": "x2",
         "y": [
          0.8218676501903444,
          "",
          0.45553326585740617,
          "",
          "",
          "",
          0.8422362960938483,
          "",
          "",
          0.06910113788303357,
          "",
          0.748213836686094,
          "",
          "",
          1.4689249867610839,
          1.5982216685379278,
          "",
          "",
          1.4865881386840487,
          "",
          0.12007675161809495,
          0.9307544877424045,
          "",
          "",
          3.5672588748130303,
          "",
          0.3479036007075722,
          0.010340623521686965,
          1.204795828321168,
          2.3972682895521205,
          0.06851226982463939,
          "",
          0.7130562138623474,
          "",
          2.858894173606617,
          "",
          0.7599220707660496,
          "",
          "",
          0.04708991225244652,
          1.7178421862167148,
          "",
          "",
          "",
          1.9318755778948713,
          1.9766509962610004,
          2.0103810914665465,
          1.2805236810040315,
          0.5440938015776164,
          2.4156499539405734,
          "",
          0.4788865496735508,
          "",
          1.6640222761832861,
          "",
          0.8907474646688862,
          "",
          "",
          1.1057221491875615,
          0.12279219082433568,
          0.01639136491542703,
          "",
          "",
          "",
          "",
          "",
          1.3996157204764736,
          0.13362667195943032,
          2.245091206617674,
          2.279442743695859,
          "",
          "",
          "",
          "",
          "",
          "",
          0.7037398924259893,
          "",
          "",
          0.4338644543615032,
          3.836973735807436,
          "",
          "",
          0.5025624370070533,
          "",
          "",
          "",
          "",
          0.8689165447636904,
          "",
          0.5290468270012825,
          0.6380589129834884,
          "",
          2.254357406340585,
          0.6165487639378397,
          3.3569064695650535,
          "",
          "",
          1.873239554831587,
          ""
         ],
         "yaxis": "y2"
        },
        {
         "connectgaps": false,
         "fill": "tozeroy",
         "line": {
          "color": "red",
          "dash": "solid",
          "shape": "linear",
          "width": 0.5
         },
         "mode": "lines",
         "name": "Spread",
         "showlegend": false,
         "type": "scatter",
         "x": [
          0,
          1,
          2,
          3,
          4,
          5,
          6,
          7,
          8,
          9,
          10,
          11,
          12,
          13,
          14,
          15,
          16,
          17,
          18,
          19,
          20,
          21,
          22,
          23,
          24,
          25,
          26,
          27,
          28,
          29,
          30,
          31,
          32,
          33,
          34,
          35,
          36,
          37,
          38,
          39,
          40,
          41,
          42,
          43,
          44,
          45,
          46,
          47,
          48,
          49,
          50,
          51,
          52,
          53,
          54,
          55,
          56,
          57,
          58,
          59,
          60,
          61,
          62,
          63,
          64,
          65,
          66,
          67,
          68,
          69,
          70,
          71,
          72,
          73,
          74,
          75,
          76,
          77,
          78,
          79,
          80,
          81,
          82,
          83,
          84,
          85,
          86,
          87,
          88,
          89,
          90,
          91,
          92,
          93,
          94,
          95,
          96,
          97,
          98,
          99
         ],
         "xaxis": "x2",
         "y": [
          "",
          -0.297151079795853,
          "",
          -2.127585783947707,
          -0.9702371068869414,
          -2.6419662471289147,
          "",
          -0.5449189607700999,
          -0.02144745155043104,
          "",
          -1.105915566777846,
          "",
          -0.2974429968183751,
          -0.7521346486720465,
          "",
          "",
          -0.08962137774268432,
          -3.5244441202788797,
          "",
          -0.4826282578598191,
          "",
          "",
          -1.9581253682703335,
          -1.9198901715326848,
          "",
          -1.8319151949365995,
          "",
          "",
          "",
          "",
          "",
          -2.516337901388462,
          "",
          -1.861350997868971,
          "",
          -0.3224210642771902,
          "",
          -1.6740231895723219,
          -0.2601297905323473,
          "",
          "",
          -1.6852867970825645,
          -0.16122508823046466,
          -1.9773989589451557,
          "",
          "",
          "",
          "",
          "",
          "",
          -3.1139438045598755,
          "",
          -0.7824298411920737,
          "",
          -1.885534405951739,
          "",
          -1.5638805500557706,
          -0.11449437786247152,
          "",
          "",
          "",
          -0.460854227319822,
          -0.42216091614205176,
          -0.10786199713268557,
          -0.9801969928259333,
          -1.0319649490915257,
          "",
          "",
          "",
          "",
          -2.4401571519770124,
          -0.9963976479903399,
          -0.2526025570051581,
          -0.6643840100918024,
          -0.4813857672443463,
          -0.6735941955462936,
          "",
          -0.6781189785209312,
          -0.13008349552612142,
          "",
          "",
          -1.4475168602884168,
          -1.3519899336712884,
          "",
          -1.475178978444893,
          -0.18774231101863534,
          -1.8770185767197152,
          -1.3713432353891677,
          "",
          -1.163242307352997,
          "",
          "",
          -0.2720422319947269,
          "",
          "",
          "",
          -1.7816701468182963,
          -1.5726563976742667,
          "",
          -2.087140219387974
         ],
         "yaxis": "y2"
        }
       ],
       "layout": {
        "hovermode": "x",
        "legend": {
         "bgcolor": "#F5F6F9",
         "font": {
          "color": "#4D5663"
         }
        },
        "paper_bgcolor": "#F5F6F9",
        "plot_bgcolor": "#F5F6F9",
        "template": {
         "data": {
          "bar": [
           {
            "error_x": {
             "color": "#2a3f5f"
            },
            "error_y": {
             "color": "#2a3f5f"
            },
            "marker": {
             "line": {
              "color": "#E5ECF6",
              "width": 0.5
             },
             "pattern": {
              "fillmode": "overlay",
              "size": 10,
              "solidity": 0.2
             }
            },
            "type": "bar"
           }
          ],
          "barpolar": [
           {
            "marker": {
             "line": {
              "color": "#E5ECF6",
              "width": 0.5
             },
             "pattern": {
              "fillmode": "overlay",
              "size": 10,
              "solidity": 0.2
             }
            },
            "type": "barpolar"
           }
          ],
          "carpet": [
           {
            "aaxis": {
             "endlinecolor": "#2a3f5f",
             "gridcolor": "white",
             "linecolor": "white",
             "minorgridcolor": "white",
             "startlinecolor": "#2a3f5f"
            },
            "baxis": {
             "endlinecolor": "#2a3f5f",
             "gridcolor": "white",
             "linecolor": "white",
             "minorgridcolor": "white",
             "startlinecolor": "#2a3f5f"
            },
            "type": "carpet"
           }
          ],
          "choropleth": [
           {
            "colorbar": {
             "outlinewidth": 0,
             "ticks": ""
            },
            "type": "choropleth"
           }
          ],
          "contour": [
           {
            "colorbar": {
             "outlinewidth": 0,
             "ticks": ""
            },
            "colorscale": [
             [
              0,
              "#0d0887"
             ],
             [
              0.1111111111111111,
              "#46039f"
             ],
             [
              0.2222222222222222,
              "#7201a8"
             ],
             [
              0.3333333333333333,
              "#9c179e"
             ],
             [
              0.4444444444444444,
              "#bd3786"
             ],
             [
              0.5555555555555556,
              "#d8576b"
             ],
             [
              0.6666666666666666,
              "#ed7953"
             ],
             [
              0.7777777777777778,
              "#fb9f3a"
             ],
             [
              0.8888888888888888,
              "#fdca26"
             ],
             [
              1,
              "#f0f921"
             ]
            ],
            "type": "contour"
           }
          ],
          "contourcarpet": [
           {
            "colorbar": {
             "outlinewidth": 0,
             "ticks": ""
            },
            "type": "contourcarpet"
           }
          ],
          "heatmap": [
           {
            "colorbar": {
             "outlinewidth": 0,
             "ticks": ""
            },
            "colorscale": [
             [
              0,
              "#0d0887"
             ],
             [
              0.1111111111111111,
              "#46039f"
             ],
             [
              0.2222222222222222,
              "#7201a8"
             ],
             [
              0.3333333333333333,
              "#9c179e"
             ],
             [
              0.4444444444444444,
              "#bd3786"
             ],
             [
              0.5555555555555556,
              "#d8576b"
             ],
             [
              0.6666666666666666,
              "#ed7953"
             ],
             [
              0.7777777777777778,
              "#fb9f3a"
             ],
             [
              0.8888888888888888,
              "#fdca26"
             ],
             [
              1,
              "#f0f921"
             ]
            ],
            "type": "heatmap"
           }
          ],
          "heatmapgl": [
           {
            "colorbar": {
             "outlinewidth": 0,
             "ticks": ""
            },
            "colorscale": [
             [
              0,
              "#0d0887"
             ],
             [
              0.1111111111111111,
              "#46039f"
             ],
             [
              0.2222222222222222,
              "#7201a8"
             ],
             [
              0.3333333333333333,
              "#9c179e"
             ],
             [
              0.4444444444444444,
              "#bd3786"
             ],
             [
              0.5555555555555556,
              "#d8576b"
             ],
             [
              0.6666666666666666,
              "#ed7953"
             ],
             [
              0.7777777777777778,
              "#fb9f3a"
             ],
             [
              0.8888888888888888,
              "#fdca26"
             ],
             [
              1,
              "#f0f921"
             ]
            ],
            "type": "heatmapgl"
           }
          ],
          "histogram": [
           {
            "marker": {
             "pattern": {
              "fillmode": "overlay",
              "size": 10,
              "solidity": 0.2
             }
            },
            "type": "histogram"
           }
          ],
          "histogram2d": [
           {
            "colorbar": {
             "outlinewidth": 0,
             "ticks": ""
            },
            "colorscale": [
             [
              0,
              "#0d0887"
             ],
             [
              0.1111111111111111,
              "#46039f"
             ],
             [
              0.2222222222222222,
              "#7201a8"
             ],
             [
              0.3333333333333333,
              "#9c179e"
             ],
             [
              0.4444444444444444,
              "#bd3786"
             ],
             [
              0.5555555555555556,
              "#d8576b"
             ],
             [
              0.6666666666666666,
              "#ed7953"
             ],
             [
              0.7777777777777778,
              "#fb9f3a"
             ],
             [
              0.8888888888888888,
              "#fdca26"
             ],
             [
              1,
              "#f0f921"
             ]
            ],
            "type": "histogram2d"
           }
          ],
          "histogram2dcontour": [
           {
            "colorbar": {
             "outlinewidth": 0,
             "ticks": ""
            },
            "colorscale": [
             [
              0,
              "#0d0887"
             ],
             [
              0.1111111111111111,
              "#46039f"
             ],
             [
              0.2222222222222222,
              "#7201a8"
             ],
             [
              0.3333333333333333,
              "#9c179e"
             ],
             [
              0.4444444444444444,
              "#bd3786"
             ],
             [
              0.5555555555555556,
              "#d8576b"
             ],
             [
              0.6666666666666666,
              "#ed7953"
             ],
             [
              0.7777777777777778,
              "#fb9f3a"
             ],
             [
              0.8888888888888888,
              "#fdca26"
             ],
             [
              1,
              "#f0f921"
             ]
            ],
            "type": "histogram2dcontour"
           }
          ],
          "mesh3d": [
           {
            "colorbar": {
             "outlinewidth": 0,
             "ticks": ""
            },
            "type": "mesh3d"
           }
          ],
          "parcoords": [
           {
            "line": {
             "colorbar": {
              "outlinewidth": 0,
              "ticks": ""
             }
            },
            "type": "parcoords"
           }
          ],
          "pie": [
           {
            "automargin": true,
            "type": "pie"
           }
          ],
          "scatter": [
           {
            "marker": {
             "colorbar": {
              "outlinewidth": 0,
              "ticks": ""
             }
            },
            "type": "scatter"
           }
          ],
          "scatter3d": [
           {
            "line": {
             "colorbar": {
              "outlinewidth": 0,
              "ticks": ""
             }
            },
            "marker": {
             "colorbar": {
              "outlinewidth": 0,
              "ticks": ""
             }
            },
            "type": "scatter3d"
           }
          ],
          "scattercarpet": [
           {
            "marker": {
             "colorbar": {
              "outlinewidth": 0,
              "ticks": ""
             }
            },
            "type": "scattercarpet"
           }
          ],
          "scattergeo": [
           {
            "marker": {
             "colorbar": {
              "outlinewidth": 0,
              "ticks": ""
             }
            },
            "type": "scattergeo"
           }
          ],
          "scattergl": [
           {
            "marker": {
             "colorbar": {
              "outlinewidth": 0,
              "ticks": ""
             }
            },
            "type": "scattergl"
           }
          ],
          "scattermapbox": [
           {
            "marker": {
             "colorbar": {
              "outlinewidth": 0,
              "ticks": ""
             }
            },
            "type": "scattermapbox"
           }
          ],
          "scatterpolar": [
           {
            "marker": {
             "colorbar": {
              "outlinewidth": 0,
              "ticks": ""
             }
            },
            "type": "scatterpolar"
           }
          ],
          "scatterpolargl": [
           {
            "marker": {
             "colorbar": {
              "outlinewidth": 0,
              "ticks": ""
             }
            },
            "type": "scatterpolargl"
           }
          ],
          "scatterternary": [
           {
            "marker": {
             "colorbar": {
              "outlinewidth": 0,
              "ticks": ""
             }
            },
            "type": "scatterternary"
           }
          ],
          "surface": [
           {
            "colorbar": {
             "outlinewidth": 0,
             "ticks": ""
            },
            "colorscale": [
             [
              0,
              "#0d0887"
             ],
             [
              0.1111111111111111,
              "#46039f"
             ],
             [
              0.2222222222222222,
              "#7201a8"
             ],
             [
              0.3333333333333333,
              "#9c179e"
             ],
             [
              0.4444444444444444,
              "#bd3786"
             ],
             [
              0.5555555555555556,
              "#d8576b"
             ],
             [
              0.6666666666666666,
              "#ed7953"
             ],
             [
              0.7777777777777778,
              "#fb9f3a"
             ],
             [
              0.8888888888888888,
              "#fdca26"
             ],
             [
              1,
              "#f0f921"
             ]
            ],
            "type": "surface"
           }
          ],
          "table": [
           {
            "cells": {
             "fill": {
              "color": "#EBF0F8"
             },
             "line": {
              "color": "white"
             }
            },
            "header": {
             "fill": {
              "color": "#C8D4E3"
             },
             "line": {
              "color": "white"
             }
            },
            "type": "table"
           }
          ]
         },
         "layout": {
          "annotationdefaults": {
           "arrowcolor": "#2a3f5f",
           "arrowhead": 0,
           "arrowwidth": 1
          },
          "autotypenumbers": "strict",
          "coloraxis": {
           "colorbar": {
            "outlinewidth": 0,
            "ticks": ""
           }
          },
          "colorscale": {
           "diverging": [
            [
             0,
             "#8e0152"
            ],
            [
             0.1,
             "#c51b7d"
            ],
            [
             0.2,
             "#de77ae"
            ],
            [
             0.3,
             "#f1b6da"
            ],
            [
             0.4,
             "#fde0ef"
            ],
            [
             0.5,
             "#f7f7f7"
            ],
            [
             0.6,
             "#e6f5d0"
            ],
            [
             0.7,
             "#b8e186"
            ],
            [
             0.8,
             "#7fbc41"
            ],
            [
             0.9,
             "#4d9221"
            ],
            [
             1,
             "#276419"
            ]
           ],
           "sequential": [
            [
             0,
             "#0d0887"
            ],
            [
             0.1111111111111111,
             "#46039f"
            ],
            [
             0.2222222222222222,
             "#7201a8"
            ],
            [
             0.3333333333333333,
             "#9c179e"
            ],
            [
             0.4444444444444444,
             "#bd3786"
            ],
            [
             0.5555555555555556,
             "#d8576b"
            ],
            [
             0.6666666666666666,
             "#ed7953"
            ],
            [
             0.7777777777777778,
             "#fb9f3a"
            ],
            [
             0.8888888888888888,
             "#fdca26"
            ],
            [
             1,
             "#f0f921"
            ]
           ],
           "sequentialminus": [
            [
             0,
             "#0d0887"
            ],
            [
             0.1111111111111111,
             "#46039f"
            ],
            [
             0.2222222222222222,
             "#7201a8"
            ],
            [
             0.3333333333333333,
             "#9c179e"
            ],
            [
             0.4444444444444444,
             "#bd3786"
            ],
            [
             0.5555555555555556,
             "#d8576b"
            ],
            [
             0.6666666666666666,
             "#ed7953"
            ],
            [
             0.7777777777777778,
             "#fb9f3a"
            ],
            [
             0.8888888888888888,
             "#fdca26"
            ],
            [
             1,
             "#f0f921"
            ]
           ]
          },
          "colorway": [
           "#636efa",
           "#EF553B",
           "#00cc96",
           "#ab63fa",
           "#FFA15A",
           "#19d3f3",
           "#FF6692",
           "#B6E880",
           "#FF97FF",
           "#FECB52"
          ],
          "font": {
           "color": "#2a3f5f"
          },
          "geo": {
           "bgcolor": "white",
           "lakecolor": "white",
           "landcolor": "#E5ECF6",
           "showlakes": true,
           "showland": true,
           "subunitcolor": "white"
          },
          "hoverlabel": {
           "align": "left"
          },
          "hovermode": "closest",
          "mapbox": {
           "style": "light"
          },
          "paper_bgcolor": "white",
          "plot_bgcolor": "#E5ECF6",
          "polar": {
           "angularaxis": {
            "gridcolor": "white",
            "linecolor": "white",
            "ticks": ""
           },
           "bgcolor": "#E5ECF6",
           "radialaxis": {
            "gridcolor": "white",
            "linecolor": "white",
            "ticks": ""
           }
          },
          "scene": {
           "xaxis": {
            "backgroundcolor": "#E5ECF6",
            "gridcolor": "white",
            "gridwidth": 2,
            "linecolor": "white",
            "showbackground": true,
            "ticks": "",
            "zerolinecolor": "white"
           },
           "yaxis": {
            "backgroundcolor": "#E5ECF6",
            "gridcolor": "white",
            "gridwidth": 2,
            "linecolor": "white",
            "showbackground": true,
            "ticks": "",
            "zerolinecolor": "white"
           },
           "zaxis": {
            "backgroundcolor": "#E5ECF6",
            "gridcolor": "white",
            "gridwidth": 2,
            "linecolor": "white",
            "showbackground": true,
            "ticks": "",
            "zerolinecolor": "white"
           }
          },
          "shapedefaults": {
           "line": {
            "color": "#2a3f5f"
           }
          },
          "ternary": {
           "aaxis": {
            "gridcolor": "white",
            "linecolor": "white",
            "ticks": ""
           },
           "baxis": {
            "gridcolor": "white",
            "linecolor": "white",
            "ticks": ""
           },
           "bgcolor": "#E5ECF6",
           "caxis": {
            "gridcolor": "white",
            "linecolor": "white",
            "ticks": ""
           }
          },
          "title": {
           "x": 0.05
          },
          "xaxis": {
           "automargin": true,
           "gridcolor": "white",
           "linecolor": "white",
           "ticks": "",
           "title": {
            "standoff": 15
           },
           "zerolinecolor": "white",
           "zerolinewidth": 2
          },
          "yaxis": {
           "automargin": true,
           "gridcolor": "white",
           "linecolor": "white",
           "ticks": "",
           "title": {
            "standoff": 15
           },
           "zerolinecolor": "white",
           "zerolinewidth": 2
          }
         }
        },
        "title": {
         "font": {
          "color": "#4D5663"
         }
        },
        "xaxis": {
         "gridcolor": "#E1E5ED",
         "showgrid": true,
         "tickfont": {
          "color": "#4D5663"
         },
         "title": {
          "font": {
           "color": "#4D5663"
          },
          "text": ""
         },
         "zerolinecolor": "#E1E5ED"
        },
        "xaxis2": {
         "anchor": "y2",
         "gridcolor": "#E1E5ED",
         "showgrid": true,
         "showticklabels": false,
         "tickfont": {
          "color": "#4D5663"
         },
         "title": {
          "font": {
           "color": "#4D5663"
          },
          "text": ""
         },
         "zerolinecolor": "#E1E5ED"
        },
        "yaxis": {
         "domain": [
          0.3,
          1
         ],
         "gridcolor": "#E1E5ED",
         "showgrid": true,
         "tickfont": {
          "color": "#4D5663"
         },
         "title": {
          "font": {
           "color": "#4D5663"
          },
          "text": ""
         },
         "zerolinecolor": "#E1E5ED"
        },
        "yaxis2": {
         "domain": [
          0,
          0.25
         ],
         "gridcolor": "#E1E5ED",
         "showgrid": true,
         "tickfont": {
          "color": "#4D5663"
         },
         "title": {
          "font": {
           "color": "#4D5663"
          },
          "text": "Spread"
         },
         "zerolinecolor": "#E1E5ED"
        }
       }
      }
     },
     "metadata": {}
    }
   ],
   "metadata": {}
  },
  {
   "cell_type": "code",
   "execution_count": 38,
   "source": [
    "df.iplot(kind = 'bubble', x='A', y='B', size ='C') "
   ],
   "outputs": [
    {
     "output_type": "display_data",
     "data": {
      "text/html": [
       "<div>                            <div id=\"5b2817f4-c453-4e38-903f-9747542c2f44\" class=\"plotly-graph-div\" style=\"height:525px; width:100%;\"></div>            <script type=\"text/javascript\">                require([\"plotly\"], function(Plotly) {                    window.PLOTLYENV=window.PLOTLYENV || {};\n",
       "                    window.PLOTLYENV.BASE_URL='https://plot.ly';                                    if (document.getElementById(\"5b2817f4-c453-4e38-903f-9747542c2f44\")) {                    Plotly.newPlot(                        \"5b2817f4-c453-4e38-903f-9747542c2f44\",                        [{\"marker\":{\"color\":[\"rgb(255, 153, 51)\",\"rgb(55, 128, 191)\",\"rgb(50, 171, 96)\",\"rgb(128, 0, 128)\",\"rgb(219, 64, 82)\",\"rgb(0, 128, 128)\",\"rgb(255, 255, 51)\",\"rgb(128, 128, 0)\",\"rgb(251, 128, 114)\",\"rgb(128, 177, 211)\"],\"line\":{\"width\":1.3},\"size\":[65,49,58,75,47,85,56,21,64,76,94,42,88,53,58,76,66,82,43,80,87,66,49,75,45,83,52,32,30,57,81,59,71,44,24,74,45,58,68,38,32,69,62,52,72,52,71,12,38,60,42,49,75,93,76,38,93,81,43,84,112,45,82,12,58,95,27,57,70,51,56,65,34,73,91,67,82,64,43,50,43,81,71,57,76,90,69,20,36,42,50,98,45,47,31,52,106,50,49,53],\"symbol\":\"circle\"},\"mode\":\"markers\",\"text\":\"\",\"type\":\"scatter\",\"x\":[0.42860790047642905,-0.24150461408966148,0.8033352317583001,-0.4541726165268112,-0.9932670897240472,-1.6407185774656428,1.0292734271511936,0.717201122535486,-0.8328302557547055,-0.29479504395009437,-0.7876330322200155,1.013825910413848,-0.6145438366960542,-0.42143338248421097,1.0861506220781272,1.520376664474774,-0.01777198223317564,-1.6643908381651553,0.08997243361014205,0.1814431345228801,-0.7291269758207538,0.30441811909622163,-0.3331215193748714,-2.443509759910543,1.4038049617436101,-0.5289496253542012,0.5762209244034456,1.7473983249450766,1.1750635751298635,0.3439285942573213,0.06695512250429193,-1.358152089819541,1.3259956980602265,0.9230291574367999,2.1274268735237967,0.01609166317697218,-0.008794112180982546,-0.13078079279846982,-0.9773233004907493,0.42408560898470316,0.4781801921439303,-1.2302375288956056,-2.215534588013989,-0.6173209910577786,0.6873014952127062,-0.20768023471795324,1.3807411511048835,1.5676923985995384,-1.3535828954722193,0.6688398215891643,-1.9417660542959037,0.6086396296874507,-1.6891089331095988,0.8404967201254736,-0.25611772522792703,0.5649218453129284,-1.2455400184288734,0.08511126958214074,-1.2445956780254495,0.693274162901264,-0.555786574996747,0.014188061775017123,0.5756404633679048,-0.07502021616099822,0.8196550337696089,0.14719285707343466,2.0721531962168656,-0.05089514477070536,0.9178935846337136,0.8082192273766469,-0.9342785145415695,-0.7892361220520734,-1.0528167075806287,-0.900300147200952,-0.06378348260655418,-1.4058717991735044,-0.04637611154553381,-0.45343802555693713,0.3609959799788183,-0.9321964504655148,1.9639263256216999,-0.8513017162060174,-1.177257530160419,0.25079731529057353,-0.6455488140585096,-0.3597892849349049,-0.3522676026628601,0.03400583986455085,-0.4119885784095581,-0.668910236483875,0.6638172609013666,-0.09892944489312143,-1.9553751667413874,1.0932030834818462,0.7807217842469781,0.8029768142523035,-1.2272581484898053,-0.6477754460806492,1.9529843160513334,-0.84237910998657],\"y\":[-0.39325974971391525,0.05564646570619147,0.34780196590089396,1.6734131674208959,-0.023029982837105743,1.0012476696632717,0.18703713105734537,1.262120083305586,-0.8113828042042744,-0.36389618183312794,0.3182825345578306,0.26561207372775414,-0.31710083987767906,0.3307012661878355,-0.3827743646829566,-0.07784500406315373,0.07184939550950868,1.8600532821137243,-1.3966157050739068,0.6640713923826992,-0.8492037274388488,-0.6263363686461829,1.6250038488954621,-0.5236195883778583,-2.16345391306942,1.3029655695823983,0.2283173236958734,1.7370577014233897,-0.029732253191304518,-2.0533396952947993,-0.0015571473203474543,1.1581858115689212,0.6129394841978791,2.784380155305771,-0.7314673000828203,0.3385127274541624,-0.7687161829470321,1.543242396773852,-0.717193509958402,0.37699569673225664,-1.2396619940727844,0.4550492681869588,-2.0543094997835243,1.3600779678873771,-1.244574082682165,-2.1843312309789535,-0.6296399403616632,0.2871687175955069,-1.8976766970498358,-1.746810132351409,1.1721777502639719,0.12975308001389982,-0.906679091917525,-0.8235255560578126,1.629416680723812,-0.3258256193559577,0.3183405316268972,0.19960564744461226,-2.350317827213011,0.5704819720769283,-0.572177939912174,0.47504228909483914,0.9978013795099565,0.03284178097168736,1.7998520265955422,1.1791578061649604,0.6725374757403919,-0.18452181673013568,-1.3271976219839603,-1.4712235163192122,1.5058786374354427,0.20716152593826656,-0.8002141505754706,-0.23591613710914958,0.4176022846377921,-0.7322776036272107,-0.7501160039715231,0.2246809529639941,0.49107947550493974,-1.366060904827018,-1.873047410185736,0.5962151440823994,0.17473240351086952,-0.25176512171647975,0.8296301643863834,-0.17204697391626958,1.524750974056855,1.4053490752537185,-1.2809051231732484,0.49433207086912184,0.13477043390008417,-0.7369883578766098,-1.6833329347466606,-1.1611543228587384,0.16417302030913833,-2.55392965531275,0.554411998328491,0.9248809515936174,0.07974476121974629,1.244761109401404]}],                        {\"legend\":{\"bgcolor\":\"#F5F6F9\",\"font\":{\"color\":\"#4D5663\"}},\"paper_bgcolor\":\"#F5F6F9\",\"plot_bgcolor\":\"#F5F6F9\",\"template\":{\"data\":{\"bar\":[{\"error_x\":{\"color\":\"#2a3f5f\"},\"error_y\":{\"color\":\"#2a3f5f\"},\"marker\":{\"line\":{\"color\":\"#E5ECF6\",\"width\":0.5},\"pattern\":{\"fillmode\":\"overlay\",\"size\":10,\"solidity\":0.2}},\"type\":\"bar\"}],\"barpolar\":[{\"marker\":{\"line\":{\"color\":\"#E5ECF6\",\"width\":0.5},\"pattern\":{\"fillmode\":\"overlay\",\"size\":10,\"solidity\":0.2}},\"type\":\"barpolar\"}],\"carpet\":[{\"aaxis\":{\"endlinecolor\":\"#2a3f5f\",\"gridcolor\":\"white\",\"linecolor\":\"white\",\"minorgridcolor\":\"white\",\"startlinecolor\":\"#2a3f5f\"},\"baxis\":{\"endlinecolor\":\"#2a3f5f\",\"gridcolor\":\"white\",\"linecolor\":\"white\",\"minorgridcolor\":\"white\",\"startlinecolor\":\"#2a3f5f\"},\"type\":\"carpet\"}],\"choropleth\":[{\"colorbar\":{\"outlinewidth\":0,\"ticks\":\"\"},\"type\":\"choropleth\"}],\"contour\":[{\"colorbar\":{\"outlinewidth\":0,\"ticks\":\"\"},\"colorscale\":[[0.0,\"#0d0887\"],[0.1111111111111111,\"#46039f\"],[0.2222222222222222,\"#7201a8\"],[0.3333333333333333,\"#9c179e\"],[0.4444444444444444,\"#bd3786\"],[0.5555555555555556,\"#d8576b\"],[0.6666666666666666,\"#ed7953\"],[0.7777777777777778,\"#fb9f3a\"],[0.8888888888888888,\"#fdca26\"],[1.0,\"#f0f921\"]],\"type\":\"contour\"}],\"contourcarpet\":[{\"colorbar\":{\"outlinewidth\":0,\"ticks\":\"\"},\"type\":\"contourcarpet\"}],\"heatmap\":[{\"colorbar\":{\"outlinewidth\":0,\"ticks\":\"\"},\"colorscale\":[[0.0,\"#0d0887\"],[0.1111111111111111,\"#46039f\"],[0.2222222222222222,\"#7201a8\"],[0.3333333333333333,\"#9c179e\"],[0.4444444444444444,\"#bd3786\"],[0.5555555555555556,\"#d8576b\"],[0.6666666666666666,\"#ed7953\"],[0.7777777777777778,\"#fb9f3a\"],[0.8888888888888888,\"#fdca26\"],[1.0,\"#f0f921\"]],\"type\":\"heatmap\"}],\"heatmapgl\":[{\"colorbar\":{\"outlinewidth\":0,\"ticks\":\"\"},\"colorscale\":[[0.0,\"#0d0887\"],[0.1111111111111111,\"#46039f\"],[0.2222222222222222,\"#7201a8\"],[0.3333333333333333,\"#9c179e\"],[0.4444444444444444,\"#bd3786\"],[0.5555555555555556,\"#d8576b\"],[0.6666666666666666,\"#ed7953\"],[0.7777777777777778,\"#fb9f3a\"],[0.8888888888888888,\"#fdca26\"],[1.0,\"#f0f921\"]],\"type\":\"heatmapgl\"}],\"histogram\":[{\"marker\":{\"pattern\":{\"fillmode\":\"overlay\",\"size\":10,\"solidity\":0.2}},\"type\":\"histogram\"}],\"histogram2d\":[{\"colorbar\":{\"outlinewidth\":0,\"ticks\":\"\"},\"colorscale\":[[0.0,\"#0d0887\"],[0.1111111111111111,\"#46039f\"],[0.2222222222222222,\"#7201a8\"],[0.3333333333333333,\"#9c179e\"],[0.4444444444444444,\"#bd3786\"],[0.5555555555555556,\"#d8576b\"],[0.6666666666666666,\"#ed7953\"],[0.7777777777777778,\"#fb9f3a\"],[0.8888888888888888,\"#fdca26\"],[1.0,\"#f0f921\"]],\"type\":\"histogram2d\"}],\"histogram2dcontour\":[{\"colorbar\":{\"outlinewidth\":0,\"ticks\":\"\"},\"colorscale\":[[0.0,\"#0d0887\"],[0.1111111111111111,\"#46039f\"],[0.2222222222222222,\"#7201a8\"],[0.3333333333333333,\"#9c179e\"],[0.4444444444444444,\"#bd3786\"],[0.5555555555555556,\"#d8576b\"],[0.6666666666666666,\"#ed7953\"],[0.7777777777777778,\"#fb9f3a\"],[0.8888888888888888,\"#fdca26\"],[1.0,\"#f0f921\"]],\"type\":\"histogram2dcontour\"}],\"mesh3d\":[{\"colorbar\":{\"outlinewidth\":0,\"ticks\":\"\"},\"type\":\"mesh3d\"}],\"parcoords\":[{\"line\":{\"colorbar\":{\"outlinewidth\":0,\"ticks\":\"\"}},\"type\":\"parcoords\"}],\"pie\":[{\"automargin\":true,\"type\":\"pie\"}],\"scatter\":[{\"marker\":{\"colorbar\":{\"outlinewidth\":0,\"ticks\":\"\"}},\"type\":\"scatter\"}],\"scatter3d\":[{\"line\":{\"colorbar\":{\"outlinewidth\":0,\"ticks\":\"\"}},\"marker\":{\"colorbar\":{\"outlinewidth\":0,\"ticks\":\"\"}},\"type\":\"scatter3d\"}],\"scattercarpet\":[{\"marker\":{\"colorbar\":{\"outlinewidth\":0,\"ticks\":\"\"}},\"type\":\"scattercarpet\"}],\"scattergeo\":[{\"marker\":{\"colorbar\":{\"outlinewidth\":0,\"ticks\":\"\"}},\"type\":\"scattergeo\"}],\"scattergl\":[{\"marker\":{\"colorbar\":{\"outlinewidth\":0,\"ticks\":\"\"}},\"type\":\"scattergl\"}],\"scattermapbox\":[{\"marker\":{\"colorbar\":{\"outlinewidth\":0,\"ticks\":\"\"}},\"type\":\"scattermapbox\"}],\"scatterpolar\":[{\"marker\":{\"colorbar\":{\"outlinewidth\":0,\"ticks\":\"\"}},\"type\":\"scatterpolar\"}],\"scatterpolargl\":[{\"marker\":{\"colorbar\":{\"outlinewidth\":0,\"ticks\":\"\"}},\"type\":\"scatterpolargl\"}],\"scatterternary\":[{\"marker\":{\"colorbar\":{\"outlinewidth\":0,\"ticks\":\"\"}},\"type\":\"scatterternary\"}],\"surface\":[{\"colorbar\":{\"outlinewidth\":0,\"ticks\":\"\"},\"colorscale\":[[0.0,\"#0d0887\"],[0.1111111111111111,\"#46039f\"],[0.2222222222222222,\"#7201a8\"],[0.3333333333333333,\"#9c179e\"],[0.4444444444444444,\"#bd3786\"],[0.5555555555555556,\"#d8576b\"],[0.6666666666666666,\"#ed7953\"],[0.7777777777777778,\"#fb9f3a\"],[0.8888888888888888,\"#fdca26\"],[1.0,\"#f0f921\"]],\"type\":\"surface\"}],\"table\":[{\"cells\":{\"fill\":{\"color\":\"#EBF0F8\"},\"line\":{\"color\":\"white\"}},\"header\":{\"fill\":{\"color\":\"#C8D4E3\"},\"line\":{\"color\":\"white\"}},\"type\":\"table\"}]},\"layout\":{\"annotationdefaults\":{\"arrowcolor\":\"#2a3f5f\",\"arrowhead\":0,\"arrowwidth\":1},\"autotypenumbers\":\"strict\",\"coloraxis\":{\"colorbar\":{\"outlinewidth\":0,\"ticks\":\"\"}},\"colorscale\":{\"diverging\":[[0,\"#8e0152\"],[0.1,\"#c51b7d\"],[0.2,\"#de77ae\"],[0.3,\"#f1b6da\"],[0.4,\"#fde0ef\"],[0.5,\"#f7f7f7\"],[0.6,\"#e6f5d0\"],[0.7,\"#b8e186\"],[0.8,\"#7fbc41\"],[0.9,\"#4d9221\"],[1,\"#276419\"]],\"sequential\":[[0.0,\"#0d0887\"],[0.1111111111111111,\"#46039f\"],[0.2222222222222222,\"#7201a8\"],[0.3333333333333333,\"#9c179e\"],[0.4444444444444444,\"#bd3786\"],[0.5555555555555556,\"#d8576b\"],[0.6666666666666666,\"#ed7953\"],[0.7777777777777778,\"#fb9f3a\"],[0.8888888888888888,\"#fdca26\"],[1.0,\"#f0f921\"]],\"sequentialminus\":[[0.0,\"#0d0887\"],[0.1111111111111111,\"#46039f\"],[0.2222222222222222,\"#7201a8\"],[0.3333333333333333,\"#9c179e\"],[0.4444444444444444,\"#bd3786\"],[0.5555555555555556,\"#d8576b\"],[0.6666666666666666,\"#ed7953\"],[0.7777777777777778,\"#fb9f3a\"],[0.8888888888888888,\"#fdca26\"],[1.0,\"#f0f921\"]]},\"colorway\":[\"#636efa\",\"#EF553B\",\"#00cc96\",\"#ab63fa\",\"#FFA15A\",\"#19d3f3\",\"#FF6692\",\"#B6E880\",\"#FF97FF\",\"#FECB52\"],\"font\":{\"color\":\"#2a3f5f\"},\"geo\":{\"bgcolor\":\"white\",\"lakecolor\":\"white\",\"landcolor\":\"#E5ECF6\",\"showlakes\":true,\"showland\":true,\"subunitcolor\":\"white\"},\"hoverlabel\":{\"align\":\"left\"},\"hovermode\":\"closest\",\"mapbox\":{\"style\":\"light\"},\"paper_bgcolor\":\"white\",\"plot_bgcolor\":\"#E5ECF6\",\"polar\":{\"angularaxis\":{\"gridcolor\":\"white\",\"linecolor\":\"white\",\"ticks\":\"\"},\"bgcolor\":\"#E5ECF6\",\"radialaxis\":{\"gridcolor\":\"white\",\"linecolor\":\"white\",\"ticks\":\"\"}},\"scene\":{\"xaxis\":{\"backgroundcolor\":\"#E5ECF6\",\"gridcolor\":\"white\",\"gridwidth\":2,\"linecolor\":\"white\",\"showbackground\":true,\"ticks\":\"\",\"zerolinecolor\":\"white\"},\"yaxis\":{\"backgroundcolor\":\"#E5ECF6\",\"gridcolor\":\"white\",\"gridwidth\":2,\"linecolor\":\"white\",\"showbackground\":true,\"ticks\":\"\",\"zerolinecolor\":\"white\"},\"zaxis\":{\"backgroundcolor\":\"#E5ECF6\",\"gridcolor\":\"white\",\"gridwidth\":2,\"linecolor\":\"white\",\"showbackground\":true,\"ticks\":\"\",\"zerolinecolor\":\"white\"}},\"shapedefaults\":{\"line\":{\"color\":\"#2a3f5f\"}},\"ternary\":{\"aaxis\":{\"gridcolor\":\"white\",\"linecolor\":\"white\",\"ticks\":\"\"},\"baxis\":{\"gridcolor\":\"white\",\"linecolor\":\"white\",\"ticks\":\"\"},\"bgcolor\":\"#E5ECF6\",\"caxis\":{\"gridcolor\":\"white\",\"linecolor\":\"white\",\"ticks\":\"\"}},\"title\":{\"x\":0.05},\"xaxis\":{\"automargin\":true,\"gridcolor\":\"white\",\"linecolor\":\"white\",\"ticks\":\"\",\"title\":{\"standoff\":15},\"zerolinecolor\":\"white\",\"zerolinewidth\":2},\"yaxis\":{\"automargin\":true,\"gridcolor\":\"white\",\"linecolor\":\"white\",\"ticks\":\"\",\"title\":{\"standoff\":15},\"zerolinecolor\":\"white\",\"zerolinewidth\":2}}},\"title\":{\"font\":{\"color\":\"#4D5663\"}},\"xaxis\":{\"gridcolor\":\"#E1E5ED\",\"showgrid\":true,\"tickfont\":{\"color\":\"#4D5663\"},\"title\":{\"font\":{\"color\":\"#4D5663\"},\"text\":\"\"},\"zerolinecolor\":\"#E1E5ED\"},\"yaxis\":{\"gridcolor\":\"#E1E5ED\",\"showgrid\":true,\"tickfont\":{\"color\":\"#4D5663\"},\"title\":{\"font\":{\"color\":\"#4D5663\"},\"text\":\"\"},\"zerolinecolor\":\"#E1E5ED\"}},                        {\"showLink\": true, \"linkText\": \"Export to plot.ly\", \"plotlyServerURL\": \"https://plot.ly\", \"responsive\": true}                    ).then(function(){\n",
       "                            \n",
       "var gd = document.getElementById('5b2817f4-c453-4e38-903f-9747542c2f44');\n",
       "var x = new MutationObserver(function (mutations, observer) {{\n",
       "        var display = window.getComputedStyle(gd).display;\n",
       "        if (!display || display === 'none') {{\n",
       "            console.log([gd, 'removed!']);\n",
       "            Plotly.purge(gd);\n",
       "            observer.disconnect();\n",
       "        }}\n",
       "}});\n",
       "\n",
       "// Listen for the removal of the full notebook cells\n",
       "var notebookContainer = gd.closest('#notebook-container');\n",
       "if (notebookContainer) {{\n",
       "    x.observe(notebookContainer, {childList: true});\n",
       "}}\n",
       "\n",
       "// Listen for the clearing of the current output cell\n",
       "var outputEl = gd.closest('.output');\n",
       "if (outputEl) {{\n",
       "    x.observe(outputEl, {childList: true});\n",
       "}}\n",
       "\n",
       "                        })                };                });            </script>        </div>"
      ],
      "application/vnd.plotly.v1+json": {
       "config": {
        "linkText": "Export to plot.ly",
        "plotlyServerURL": "https://plot.ly",
        "showLink": true
       },
       "data": [
        {
         "marker": {
          "color": [
           "rgb(255, 153, 51)",
           "rgb(55, 128, 191)",
           "rgb(50, 171, 96)",
           "rgb(128, 0, 128)",
           "rgb(219, 64, 82)",
           "rgb(0, 128, 128)",
           "rgb(255, 255, 51)",
           "rgb(128, 128, 0)",
           "rgb(251, 128, 114)",
           "rgb(128, 177, 211)"
          ],
          "line": {
           "width": 1.3
          },
          "size": [
           65,
           49,
           58,
           75,
           47,
           85,
           56,
           21,
           64,
           76,
           94,
           42,
           88,
           53,
           58,
           76,
           66,
           82,
           43,
           80,
           87,
           66,
           49,
           75,
           45,
           83,
           52,
           32,
           30,
           57,
           81,
           59,
           71,
           44,
           24,
           74,
           45,
           58,
           68,
           38,
           32,
           69,
           62,
           52,
           72,
           52,
           71,
           12,
           38,
           60,
           42,
           49,
           75,
           93,
           76,
           38,
           93,
           81,
           43,
           84,
           112,
           45,
           82,
           12,
           58,
           95,
           27,
           57,
           70,
           51,
           56,
           65,
           34,
           73,
           91,
           67,
           82,
           64,
           43,
           50,
           43,
           81,
           71,
           57,
           76,
           90,
           69,
           20,
           36,
           42,
           50,
           98,
           45,
           47,
           31,
           52,
           106,
           50,
           49,
           53
          ],
          "symbol": "circle"
         },
         "mode": "markers",
         "text": "",
         "type": "scatter",
         "x": [
          0.42860790047642905,
          -0.24150461408966148,
          0.8033352317583001,
          -0.4541726165268112,
          -0.9932670897240472,
          -1.6407185774656428,
          1.0292734271511936,
          0.717201122535486,
          -0.8328302557547055,
          -0.29479504395009437,
          -0.7876330322200155,
          1.013825910413848,
          -0.6145438366960542,
          -0.42143338248421097,
          1.0861506220781272,
          1.520376664474774,
          -0.01777198223317564,
          -1.6643908381651553,
          0.08997243361014205,
          0.1814431345228801,
          -0.7291269758207538,
          0.30441811909622163,
          -0.3331215193748714,
          -2.443509759910543,
          1.4038049617436101,
          -0.5289496253542012,
          0.5762209244034456,
          1.7473983249450766,
          1.1750635751298635,
          0.3439285942573213,
          0.06695512250429193,
          -1.358152089819541,
          1.3259956980602265,
          0.9230291574367999,
          2.1274268735237967,
          0.01609166317697218,
          -0.008794112180982546,
          -0.13078079279846982,
          -0.9773233004907493,
          0.42408560898470316,
          0.4781801921439303,
          -1.2302375288956056,
          -2.215534588013989,
          -0.6173209910577786,
          0.6873014952127062,
          -0.20768023471795324,
          1.3807411511048835,
          1.5676923985995384,
          -1.3535828954722193,
          0.6688398215891643,
          -1.9417660542959037,
          0.6086396296874507,
          -1.6891089331095988,
          0.8404967201254736,
          -0.25611772522792703,
          0.5649218453129284,
          -1.2455400184288734,
          0.08511126958214074,
          -1.2445956780254495,
          0.693274162901264,
          -0.555786574996747,
          0.014188061775017123,
          0.5756404633679048,
          -0.07502021616099822,
          0.8196550337696089,
          0.14719285707343466,
          2.0721531962168656,
          -0.05089514477070536,
          0.9178935846337136,
          0.8082192273766469,
          -0.9342785145415695,
          -0.7892361220520734,
          -1.0528167075806287,
          -0.900300147200952,
          -0.06378348260655418,
          -1.4058717991735044,
          -0.04637611154553381,
          -0.45343802555693713,
          0.3609959799788183,
          -0.9321964504655148,
          1.9639263256216999,
          -0.8513017162060174,
          -1.177257530160419,
          0.25079731529057353,
          -0.6455488140585096,
          -0.3597892849349049,
          -0.3522676026628601,
          0.03400583986455085,
          -0.4119885784095581,
          -0.668910236483875,
          0.6638172609013666,
          -0.09892944489312143,
          -1.9553751667413874,
          1.0932030834818462,
          0.7807217842469781,
          0.8029768142523035,
          -1.2272581484898053,
          -0.6477754460806492,
          1.9529843160513334,
          -0.84237910998657
         ],
         "y": [
          -0.39325974971391525,
          0.05564646570619147,
          0.34780196590089396,
          1.6734131674208959,
          -0.023029982837105743,
          1.0012476696632717,
          0.18703713105734537,
          1.262120083305586,
          -0.8113828042042744,
          -0.36389618183312794,
          0.3182825345578306,
          0.26561207372775414,
          -0.31710083987767906,
          0.3307012661878355,
          -0.3827743646829566,
          -0.07784500406315373,
          0.07184939550950868,
          1.8600532821137243,
          -1.3966157050739068,
          0.6640713923826992,
          -0.8492037274388488,
          -0.6263363686461829,
          1.6250038488954621,
          -0.5236195883778583,
          -2.16345391306942,
          1.3029655695823983,
          0.2283173236958734,
          1.7370577014233897,
          -0.029732253191304518,
          -2.0533396952947993,
          -0.0015571473203474543,
          1.1581858115689212,
          0.6129394841978791,
          2.784380155305771,
          -0.7314673000828203,
          0.3385127274541624,
          -0.7687161829470321,
          1.543242396773852,
          -0.717193509958402,
          0.37699569673225664,
          -1.2396619940727844,
          0.4550492681869588,
          -2.0543094997835243,
          1.3600779678873771,
          -1.244574082682165,
          -2.1843312309789535,
          -0.6296399403616632,
          0.2871687175955069,
          -1.8976766970498358,
          -1.746810132351409,
          1.1721777502639719,
          0.12975308001389982,
          -0.906679091917525,
          -0.8235255560578126,
          1.629416680723812,
          -0.3258256193559577,
          0.3183405316268972,
          0.19960564744461226,
          -2.350317827213011,
          0.5704819720769283,
          -0.572177939912174,
          0.47504228909483914,
          0.9978013795099565,
          0.03284178097168736,
          1.7998520265955422,
          1.1791578061649604,
          0.6725374757403919,
          -0.18452181673013568,
          -1.3271976219839603,
          -1.4712235163192122,
          1.5058786374354427,
          0.20716152593826656,
          -0.8002141505754706,
          -0.23591613710914958,
          0.4176022846377921,
          -0.7322776036272107,
          -0.7501160039715231,
          0.2246809529639941,
          0.49107947550493974,
          -1.366060904827018,
          -1.873047410185736,
          0.5962151440823994,
          0.17473240351086952,
          -0.25176512171647975,
          0.8296301643863834,
          -0.17204697391626958,
          1.524750974056855,
          1.4053490752537185,
          -1.2809051231732484,
          0.49433207086912184,
          0.13477043390008417,
          -0.7369883578766098,
          -1.6833329347466606,
          -1.1611543228587384,
          0.16417302030913833,
          -2.55392965531275,
          0.554411998328491,
          0.9248809515936174,
          0.07974476121974629,
          1.244761109401404
         ]
        }
       ],
       "layout": {
        "legend": {
         "bgcolor": "#F5F6F9",
         "font": {
          "color": "#4D5663"
         }
        },
        "paper_bgcolor": "#F5F6F9",
        "plot_bgcolor": "#F5F6F9",
        "template": {
         "data": {
          "bar": [
           {
            "error_x": {
             "color": "#2a3f5f"
            },
            "error_y": {
             "color": "#2a3f5f"
            },
            "marker": {
             "line": {
              "color": "#E5ECF6",
              "width": 0.5
             },
             "pattern": {
              "fillmode": "overlay",
              "size": 10,
              "solidity": 0.2
             }
            },
            "type": "bar"
           }
          ],
          "barpolar": [
           {
            "marker": {
             "line": {
              "color": "#E5ECF6",
              "width": 0.5
             },
             "pattern": {
              "fillmode": "overlay",
              "size": 10,
              "solidity": 0.2
             }
            },
            "type": "barpolar"
           }
          ],
          "carpet": [
           {
            "aaxis": {
             "endlinecolor": "#2a3f5f",
             "gridcolor": "white",
             "linecolor": "white",
             "minorgridcolor": "white",
             "startlinecolor": "#2a3f5f"
            },
            "baxis": {
             "endlinecolor": "#2a3f5f",
             "gridcolor": "white",
             "linecolor": "white",
             "minorgridcolor": "white",
             "startlinecolor": "#2a3f5f"
            },
            "type": "carpet"
           }
          ],
          "choropleth": [
           {
            "colorbar": {
             "outlinewidth": 0,
             "ticks": ""
            },
            "type": "choropleth"
           }
          ],
          "contour": [
           {
            "colorbar": {
             "outlinewidth": 0,
             "ticks": ""
            },
            "colorscale": [
             [
              0,
              "#0d0887"
             ],
             [
              0.1111111111111111,
              "#46039f"
             ],
             [
              0.2222222222222222,
              "#7201a8"
             ],
             [
              0.3333333333333333,
              "#9c179e"
             ],
             [
              0.4444444444444444,
              "#bd3786"
             ],
             [
              0.5555555555555556,
              "#d8576b"
             ],
             [
              0.6666666666666666,
              "#ed7953"
             ],
             [
              0.7777777777777778,
              "#fb9f3a"
             ],
             [
              0.8888888888888888,
              "#fdca26"
             ],
             [
              1,
              "#f0f921"
             ]
            ],
            "type": "contour"
           }
          ],
          "contourcarpet": [
           {
            "colorbar": {
             "outlinewidth": 0,
             "ticks": ""
            },
            "type": "contourcarpet"
           }
          ],
          "heatmap": [
           {
            "colorbar": {
             "outlinewidth": 0,
             "ticks": ""
            },
            "colorscale": [
             [
              0,
              "#0d0887"
             ],
             [
              0.1111111111111111,
              "#46039f"
             ],
             [
              0.2222222222222222,
              "#7201a8"
             ],
             [
              0.3333333333333333,
              "#9c179e"
             ],
             [
              0.4444444444444444,
              "#bd3786"
             ],
             [
              0.5555555555555556,
              "#d8576b"
             ],
             [
              0.6666666666666666,
              "#ed7953"
             ],
             [
              0.7777777777777778,
              "#fb9f3a"
             ],
             [
              0.8888888888888888,
              "#fdca26"
             ],
             [
              1,
              "#f0f921"
             ]
            ],
            "type": "heatmap"
           }
          ],
          "heatmapgl": [
           {
            "colorbar": {
             "outlinewidth": 0,
             "ticks": ""
            },
            "colorscale": [
             [
              0,
              "#0d0887"
             ],
             [
              0.1111111111111111,
              "#46039f"
             ],
             [
              0.2222222222222222,
              "#7201a8"
             ],
             [
              0.3333333333333333,
              "#9c179e"
             ],
             [
              0.4444444444444444,
              "#bd3786"
             ],
             [
              0.5555555555555556,
              "#d8576b"
             ],
             [
              0.6666666666666666,
              "#ed7953"
             ],
             [
              0.7777777777777778,
              "#fb9f3a"
             ],
             [
              0.8888888888888888,
              "#fdca26"
             ],
             [
              1,
              "#f0f921"
             ]
            ],
            "type": "heatmapgl"
           }
          ],
          "histogram": [
           {
            "marker": {
             "pattern": {
              "fillmode": "overlay",
              "size": 10,
              "solidity": 0.2
             }
            },
            "type": "histogram"
           }
          ],
          "histogram2d": [
           {
            "colorbar": {
             "outlinewidth": 0,
             "ticks": ""
            },
            "colorscale": [
             [
              0,
              "#0d0887"
             ],
             [
              0.1111111111111111,
              "#46039f"
             ],
             [
              0.2222222222222222,
              "#7201a8"
             ],
             [
              0.3333333333333333,
              "#9c179e"
             ],
             [
              0.4444444444444444,
              "#bd3786"
             ],
             [
              0.5555555555555556,
              "#d8576b"
             ],
             [
              0.6666666666666666,
              "#ed7953"
             ],
             [
              0.7777777777777778,
              "#fb9f3a"
             ],
             [
              0.8888888888888888,
              "#fdca26"
             ],
             [
              1,
              "#f0f921"
             ]
            ],
            "type": "histogram2d"
           }
          ],
          "histogram2dcontour": [
           {
            "colorbar": {
             "outlinewidth": 0,
             "ticks": ""
            },
            "colorscale": [
             [
              0,
              "#0d0887"
             ],
             [
              0.1111111111111111,
              "#46039f"
             ],
             [
              0.2222222222222222,
              "#7201a8"
             ],
             [
              0.3333333333333333,
              "#9c179e"
             ],
             [
              0.4444444444444444,
              "#bd3786"
             ],
             [
              0.5555555555555556,
              "#d8576b"
             ],
             [
              0.6666666666666666,
              "#ed7953"
             ],
             [
              0.7777777777777778,
              "#fb9f3a"
             ],
             [
              0.8888888888888888,
              "#fdca26"
             ],
             [
              1,
              "#f0f921"
             ]
            ],
            "type": "histogram2dcontour"
           }
          ],
          "mesh3d": [
           {
            "colorbar": {
             "outlinewidth": 0,
             "ticks": ""
            },
            "type": "mesh3d"
           }
          ],
          "parcoords": [
           {
            "line": {
             "colorbar": {
              "outlinewidth": 0,
              "ticks": ""
             }
            },
            "type": "parcoords"
           }
          ],
          "pie": [
           {
            "automargin": true,
            "type": "pie"
           }
          ],
          "scatter": [
           {
            "marker": {
             "colorbar": {
              "outlinewidth": 0,
              "ticks": ""
             }
            },
            "type": "scatter"
           }
          ],
          "scatter3d": [
           {
            "line": {
             "colorbar": {
              "outlinewidth": 0,
              "ticks": ""
             }
            },
            "marker": {
             "colorbar": {
              "outlinewidth": 0,
              "ticks": ""
             }
            },
            "type": "scatter3d"
           }
          ],
          "scattercarpet": [
           {
            "marker": {
             "colorbar": {
              "outlinewidth": 0,
              "ticks": ""
             }
            },
            "type": "scattercarpet"
           }
          ],
          "scattergeo": [
           {
            "marker": {
             "colorbar": {
              "outlinewidth": 0,
              "ticks": ""
             }
            },
            "type": "scattergeo"
           }
          ],
          "scattergl": [
           {
            "marker": {
             "colorbar": {
              "outlinewidth": 0,
              "ticks": ""
             }
            },
            "type": "scattergl"
           }
          ],
          "scattermapbox": [
           {
            "marker": {
             "colorbar": {
              "outlinewidth": 0,
              "ticks": ""
             }
            },
            "type": "scattermapbox"
           }
          ],
          "scatterpolar": [
           {
            "marker": {
             "colorbar": {
              "outlinewidth": 0,
              "ticks": ""
             }
            },
            "type": "scatterpolar"
           }
          ],
          "scatterpolargl": [
           {
            "marker": {
             "colorbar": {
              "outlinewidth": 0,
              "ticks": ""
             }
            },
            "type": "scatterpolargl"
           }
          ],
          "scatterternary": [
           {
            "marker": {
             "colorbar": {
              "outlinewidth": 0,
              "ticks": ""
             }
            },
            "type": "scatterternary"
           }
          ],
          "surface": [
           {
            "colorbar": {
             "outlinewidth": 0,
             "ticks": ""
            },
            "colorscale": [
             [
              0,
              "#0d0887"
             ],
             [
              0.1111111111111111,
              "#46039f"
             ],
             [
              0.2222222222222222,
              "#7201a8"
             ],
             [
              0.3333333333333333,
              "#9c179e"
             ],
             [
              0.4444444444444444,
              "#bd3786"
             ],
             [
              0.5555555555555556,
              "#d8576b"
             ],
             [
              0.6666666666666666,
              "#ed7953"
             ],
             [
              0.7777777777777778,
              "#fb9f3a"
             ],
             [
              0.8888888888888888,
              "#fdca26"
             ],
             [
              1,
              "#f0f921"
             ]
            ],
            "type": "surface"
           }
          ],
          "table": [
           {
            "cells": {
             "fill": {
              "color": "#EBF0F8"
             },
             "line": {
              "color": "white"
             }
            },
            "header": {
             "fill": {
              "color": "#C8D4E3"
             },
             "line": {
              "color": "white"
             }
            },
            "type": "table"
           }
          ]
         },
         "layout": {
          "annotationdefaults": {
           "arrowcolor": "#2a3f5f",
           "arrowhead": 0,
           "arrowwidth": 1
          },
          "autotypenumbers": "strict",
          "coloraxis": {
           "colorbar": {
            "outlinewidth": 0,
            "ticks": ""
           }
          },
          "colorscale": {
           "diverging": [
            [
             0,
             "#8e0152"
            ],
            [
             0.1,
             "#c51b7d"
            ],
            [
             0.2,
             "#de77ae"
            ],
            [
             0.3,
             "#f1b6da"
            ],
            [
             0.4,
             "#fde0ef"
            ],
            [
             0.5,
             "#f7f7f7"
            ],
            [
             0.6,
             "#e6f5d0"
            ],
            [
             0.7,
             "#b8e186"
            ],
            [
             0.8,
             "#7fbc41"
            ],
            [
             0.9,
             "#4d9221"
            ],
            [
             1,
             "#276419"
            ]
           ],
           "sequential": [
            [
             0,
             "#0d0887"
            ],
            [
             0.1111111111111111,
             "#46039f"
            ],
            [
             0.2222222222222222,
             "#7201a8"
            ],
            [
             0.3333333333333333,
             "#9c179e"
            ],
            [
             0.4444444444444444,
             "#bd3786"
            ],
            [
             0.5555555555555556,
             "#d8576b"
            ],
            [
             0.6666666666666666,
             "#ed7953"
            ],
            [
             0.7777777777777778,
             "#fb9f3a"
            ],
            [
             0.8888888888888888,
             "#fdca26"
            ],
            [
             1,
             "#f0f921"
            ]
           ],
           "sequentialminus": [
            [
             0,
             "#0d0887"
            ],
            [
             0.1111111111111111,
             "#46039f"
            ],
            [
             0.2222222222222222,
             "#7201a8"
            ],
            [
             0.3333333333333333,
             "#9c179e"
            ],
            [
             0.4444444444444444,
             "#bd3786"
            ],
            [
             0.5555555555555556,
             "#d8576b"
            ],
            [
             0.6666666666666666,
             "#ed7953"
            ],
            [
             0.7777777777777778,
             "#fb9f3a"
            ],
            [
             0.8888888888888888,
             "#fdca26"
            ],
            [
             1,
             "#f0f921"
            ]
           ]
          },
          "colorway": [
           "#636efa",
           "#EF553B",
           "#00cc96",
           "#ab63fa",
           "#FFA15A",
           "#19d3f3",
           "#FF6692",
           "#B6E880",
           "#FF97FF",
           "#FECB52"
          ],
          "font": {
           "color": "#2a3f5f"
          },
          "geo": {
           "bgcolor": "white",
           "lakecolor": "white",
           "landcolor": "#E5ECF6",
           "showlakes": true,
           "showland": true,
           "subunitcolor": "white"
          },
          "hoverlabel": {
           "align": "left"
          },
          "hovermode": "closest",
          "mapbox": {
           "style": "light"
          },
          "paper_bgcolor": "white",
          "plot_bgcolor": "#E5ECF6",
          "polar": {
           "angularaxis": {
            "gridcolor": "white",
            "linecolor": "white",
            "ticks": ""
           },
           "bgcolor": "#E5ECF6",
           "radialaxis": {
            "gridcolor": "white",
            "linecolor": "white",
            "ticks": ""
           }
          },
          "scene": {
           "xaxis": {
            "backgroundcolor": "#E5ECF6",
            "gridcolor": "white",
            "gridwidth": 2,
            "linecolor": "white",
            "showbackground": true,
            "ticks": "",
            "zerolinecolor": "white"
           },
           "yaxis": {
            "backgroundcolor": "#E5ECF6",
            "gridcolor": "white",
            "gridwidth": 2,
            "linecolor": "white",
            "showbackground": true,
            "ticks": "",
            "zerolinecolor": "white"
           },
           "zaxis": {
            "backgroundcolor": "#E5ECF6",
            "gridcolor": "white",
            "gridwidth": 2,
            "linecolor": "white",
            "showbackground": true,
            "ticks": "",
            "zerolinecolor": "white"
           }
          },
          "shapedefaults": {
           "line": {
            "color": "#2a3f5f"
           }
          },
          "ternary": {
           "aaxis": {
            "gridcolor": "white",
            "linecolor": "white",
            "ticks": ""
           },
           "baxis": {
            "gridcolor": "white",
            "linecolor": "white",
            "ticks": ""
           },
           "bgcolor": "#E5ECF6",
           "caxis": {
            "gridcolor": "white",
            "linecolor": "white",
            "ticks": ""
           }
          },
          "title": {
           "x": 0.05
          },
          "xaxis": {
           "automargin": true,
           "gridcolor": "white",
           "linecolor": "white",
           "ticks": "",
           "title": {
            "standoff": 15
           },
           "zerolinecolor": "white",
           "zerolinewidth": 2
          },
          "yaxis": {
           "automargin": true,
           "gridcolor": "white",
           "linecolor": "white",
           "ticks": "",
           "title": {
            "standoff": 15
           },
           "zerolinecolor": "white",
           "zerolinewidth": 2
          }
         }
        },
        "title": {
         "font": {
          "color": "#4D5663"
         }
        },
        "xaxis": {
         "gridcolor": "#E1E5ED",
         "showgrid": true,
         "tickfont": {
          "color": "#4D5663"
         },
         "title": {
          "font": {
           "color": "#4D5663"
          },
          "text": ""
         },
         "zerolinecolor": "#E1E5ED"
        },
        "yaxis": {
         "gridcolor": "#E1E5ED",
         "showgrid": true,
         "tickfont": {
          "color": "#4D5663"
         },
         "title": {
          "font": {
           "color": "#4D5663"
          },
          "text": ""
         },
         "zerolinecolor": "#E1E5ED"
        }
       }
      }
     },
     "metadata": {}
    }
   ],
   "metadata": {}
  },
  {
   "cell_type": "code",
   "execution_count": 39,
   "source": [
    "df.scatter_matrix()   # similar to seaborn pairplot"
   ],
   "outputs": [
    {
     "output_type": "display_data",
     "data": {
      "text/html": [
       "<div>                            <div id=\"9535dd01-85ec-4bef-b4ea-afb3a302e9ea\" class=\"plotly-graph-div\" style=\"height:525px; width:100%;\"></div>            <script type=\"text/javascript\">                require([\"plotly\"], function(Plotly) {                    window.PLOTLYENV=window.PLOTLYENV || {};\n",
       "                    window.PLOTLYENV.BASE_URL='https://plot.ly';                                    if (document.getElementById(\"9535dd01-85ec-4bef-b4ea-afb3a302e9ea\")) {                    Plotly.newPlot(                        \"9535dd01-85ec-4bef-b4ea-afb3a302e9ea\",                        [{\"histfunc\":\"count\",\"histnorm\":\"\",\"marker\":{\"color\":\"rgba(255, 153, 51, 1.0)\",\"line\":{\"color\":\"#4D5663\",\"width\":1.3}},\"name\":\"A\",\"nbinsx\":10,\"opacity\":0.8,\"orientation\":\"v\",\"type\":\"histogram\",\"x\":[0.42860790047642905,-0.24150461408966148,0.8033352317583001,-0.4541726165268112,-0.9932670897240472,-1.6407185774656428,1.0292734271511936,0.717201122535486,-0.8328302557547055,-0.29479504395009437,-0.7876330322200155,1.013825910413848,-0.6145438366960542,-0.42143338248421097,1.0861506220781272,1.520376664474774,-0.01777198223317564,-1.6643908381651553,0.08997243361014205,0.1814431345228801,-0.7291269758207538,0.30441811909622163,-0.3331215193748714,-2.443509759910543,1.4038049617436101,-0.5289496253542012,0.5762209244034456,1.7473983249450766,1.1750635751298635,0.3439285942573213,0.06695512250429193,-1.358152089819541,1.3259956980602265,0.9230291574367999,2.1274268735237967,0.01609166317697218,-0.008794112180982546,-0.13078079279846982,-0.9773233004907493,0.42408560898470316,0.4781801921439303,-1.2302375288956056,-2.215534588013989,-0.6173209910577786,0.6873014952127062,-0.20768023471795324,1.3807411511048835,1.5676923985995384,-1.3535828954722193,0.6688398215891643,-1.9417660542959037,0.6086396296874507,-1.6891089331095988,0.8404967201254736,-0.25611772522792703,0.5649218453129284,-1.2455400184288734,0.08511126958214074,-1.2445956780254495,0.693274162901264,-0.555786574996747,0.014188061775017123,0.5756404633679048,-0.07502021616099822,0.8196550337696089,0.14719285707343466,2.0721531962168656,-0.05089514477070536,0.9178935846337136,0.8082192273766469,-0.9342785145415695,-0.7892361220520734,-1.0528167075806287,-0.900300147200952,-0.06378348260655418,-1.4058717991735044,-0.04637611154553381,-0.45343802555693713,0.3609959799788183,-0.9321964504655148,1.9639263256216999,-0.8513017162060174,-1.177257530160419,0.25079731529057353,-0.6455488140585096,-0.3597892849349049,-0.3522676026628601,0.03400583986455085,-0.4119885784095581,-0.668910236483875,0.6638172609013666,-0.09892944489312143,-1.9553751667413874,1.0932030834818462,0.7807217842469781,0.8029768142523035,-1.2272581484898053,-0.6477754460806492,1.9529843160513334,-0.84237910998657],\"xaxis\":\"x\",\"yaxis\":\"y\"},{\"line\":{\"color\":\"rgba(128, 128, 128, 1.0)\",\"dash\":\"solid\",\"shape\":\"linear\",\"width\":1.3},\"marker\":{\"size\":2,\"symbol\":\"circle\"},\"mode\":\"markers\",\"name\":\"A\",\"text\":\"\",\"type\":\"scatter\",\"x\":[-0.39325974971391525,0.05564646570619147,0.34780196590089396,1.6734131674208959,-0.023029982837105743,1.0012476696632717,0.18703713105734537,1.262120083305586,-0.8113828042042744,-0.36389618183312794,0.3182825345578306,0.26561207372775414,-0.31710083987767906,0.3307012661878355,-0.3827743646829566,-0.07784500406315373,0.07184939550950868,1.8600532821137243,-1.3966157050739068,0.6640713923826992,-0.8492037274388488,-0.6263363686461829,1.6250038488954621,-0.5236195883778583,-2.16345391306942,1.3029655695823983,0.2283173236958734,1.7370577014233897,-0.029732253191304518,-2.0533396952947993,-0.0015571473203474543,1.1581858115689212,0.6129394841978791,2.784380155305771,-0.7314673000828203,0.3385127274541624,-0.7687161829470321,1.543242396773852,-0.717193509958402,0.37699569673225664,-1.2396619940727844,0.4550492681869588,-2.0543094997835243,1.3600779678873771,-1.244574082682165,-2.1843312309789535,-0.6296399403616632,0.2871687175955069,-1.8976766970498358,-1.746810132351409,1.1721777502639719,0.12975308001389982,-0.906679091917525,-0.8235255560578126,1.629416680723812,-0.3258256193559577,0.3183405316268972,0.19960564744461226,-2.350317827213011,0.5704819720769283,-0.572177939912174,0.47504228909483914,0.9978013795099565,0.03284178097168736,1.7998520265955422,1.1791578061649604,0.6725374757403919,-0.18452181673013568,-1.3271976219839603,-1.4712235163192122,1.5058786374354427,0.20716152593826656,-0.8002141505754706,-0.23591613710914958,0.4176022846377921,-0.7322776036272107,-0.7501160039715231,0.2246809529639941,0.49107947550493974,-1.366060904827018,-1.873047410185736,0.5962151440823994,0.17473240351086952,-0.25176512171647975,0.8296301643863834,-0.17204697391626958,1.524750974056855,1.4053490752537185,-1.2809051231732484,0.49433207086912184,0.13477043390008417,-0.7369883578766098,-1.6833329347466606,-1.1611543228587384,0.16417302030913833,-2.55392965531275,0.554411998328491,0.9248809515936174,0.07974476121974629,1.244761109401404],\"xaxis\":\"x2\",\"y\":[0.42860790047642905,-0.24150461408966148,0.8033352317583001,-0.4541726165268112,-0.9932670897240472,-1.6407185774656428,1.0292734271511936,0.717201122535486,-0.8328302557547055,-0.29479504395009437,-0.7876330322200155,1.013825910413848,-0.6145438366960542,-0.42143338248421097,1.0861506220781272,1.520376664474774,-0.01777198223317564,-1.6643908381651553,0.08997243361014205,0.1814431345228801,-0.7291269758207538,0.30441811909622163,-0.3331215193748714,-2.443509759910543,1.4038049617436101,-0.5289496253542012,0.5762209244034456,1.7473983249450766,1.1750635751298635,0.3439285942573213,0.06695512250429193,-1.358152089819541,1.3259956980602265,0.9230291574367999,2.1274268735237967,0.01609166317697218,-0.008794112180982546,-0.13078079279846982,-0.9773233004907493,0.42408560898470316,0.4781801921439303,-1.2302375288956056,-2.215534588013989,-0.6173209910577786,0.6873014952127062,-0.20768023471795324,1.3807411511048835,1.5676923985995384,-1.3535828954722193,0.6688398215891643,-1.9417660542959037,0.6086396296874507,-1.6891089331095988,0.8404967201254736,-0.25611772522792703,0.5649218453129284,-1.2455400184288734,0.08511126958214074,-1.2445956780254495,0.693274162901264,-0.555786574996747,0.014188061775017123,0.5756404633679048,-0.07502021616099822,0.8196550337696089,0.14719285707343466,2.0721531962168656,-0.05089514477070536,0.9178935846337136,0.8082192273766469,-0.9342785145415695,-0.7892361220520734,-1.0528167075806287,-0.900300147200952,-0.06378348260655418,-1.4058717991735044,-0.04637611154553381,-0.45343802555693713,0.3609959799788183,-0.9321964504655148,1.9639263256216999,-0.8513017162060174,-1.177257530160419,0.25079731529057353,-0.6455488140585096,-0.3597892849349049,-0.3522676026628601,0.03400583986455085,-0.4119885784095581,-0.668910236483875,0.6638172609013666,-0.09892944489312143,-1.9553751667413874,1.0932030834818462,0.7807217842469781,0.8029768142523035,-1.2272581484898053,-0.6477754460806492,1.9529843160513334,-0.84237910998657],\"yaxis\":\"y2\"},{\"line\":{\"color\":\"rgba(128, 128, 128, 1.0)\",\"dash\":\"solid\",\"shape\":\"linear\",\"width\":1.3},\"marker\":{\"size\":2,\"symbol\":\"circle\"},\"mode\":\"markers\",\"name\":\"A\",\"text\":\"\",\"type\":\"scatter\",\"x\":[0.20867975771520808,-0.539968732680375,-0.10451406860936421,0.6807906941541452,-0.6237061132537227,1.1645819493681946,-0.20319634501381628,-1.8719734890851034,0.19006397038468342,0.7426829780297319,1.5866853683306084,-0.8830991836928733,1.329381939728609,-0.36910943637848315,-0.1259704216318707,0.7599399179503843,0.2570493559742786,1.0102501201538379,-0.8301636846246374,0.9098700533567373,1.272308317853795,0.27644901365821556,-0.5307842275179776,0.6928510797756365,-0.7467081888636957,1.0864734312542663,-0.4088395415896088,-1.3297602651780072,-1.441235068785222,-0.15212789644905217,0.9578071542227202,-0.07460142157038534,0.5113698014381537,-0.7585669417479952,-1.7210677610542262,0.6458738210296548,-0.7221738362033334,-0.09708844896140927,0.34294090340127364,-1.0737713509953322,-1.3205133194548362,0.4033547123960727,0.06702499803391719,-0.3894870046425358,0.5545246926764152,-0.3936172349445884,0.5204415204166847,-2.296869709022682,-1.0722455437645189,-0.0076908262706479645,-0.8497611342012257,-0.5418473928237962,0.6825865011945559,1.528074978722198,0.7421162493465568,-1.0501963591592836,1.5291754301353226,0.9965167862689587,-0.8002793081334799,1.1160758258201309,2.416553937349119,-0.7323025322245335,1.045911989237607,-2.3075278310782483,-0.11065972894159559,1.6167179621416072,-1.5706737901917416,-0.176117048077122,0.4745874051396574,-0.461148688308992,-0.1907540082939412,0.2099327698711436,-1.2321302971466992,0.6032727936313779,1.4648497803732206,0.3072917431775034,1.0415220041526154,0.15940004078617948,-0.8020956078401368,-0.5019052846097677,-0.8158122916130118,0.9735286018887148,0.49382864652704367,-0.149893623001522,0.7465151638614091,1.41789646851737,0.42684270812646524,-1.9110647146667514,-1.1593244688815125,-0.8502884309003719,-0.4656426710483235,1.7640395575750731,-0.7333153880908555,-0.6169666283105139,-1.4096884439956874,-0.3822792755757565,2.1510015077400606,-0.480261706871716,-0.5583127368388549,-0.332192650314338],\"xaxis\":\"x3\",\"y\":[0.42860790047642905,-0.24150461408966148,0.8033352317583001,-0.4541726165268112,-0.9932670897240472,-1.6407185774656428,1.0292734271511936,0.717201122535486,-0.8328302557547055,-0.29479504395009437,-0.7876330322200155,1.013825910413848,-0.6145438366960542,-0.42143338248421097,1.0861506220781272,1.520376664474774,-0.01777198223317564,-1.6643908381651553,0.08997243361014205,0.1814431345228801,-0.7291269758207538,0.30441811909622163,-0.3331215193748714,-2.443509759910543,1.4038049617436101,-0.5289496253542012,0.5762209244034456,1.7473983249450766,1.1750635751298635,0.3439285942573213,0.06695512250429193,-1.358152089819541,1.3259956980602265,0.9230291574367999,2.1274268735237967,0.01609166317697218,-0.008794112180982546,-0.13078079279846982,-0.9773233004907493,0.42408560898470316,0.4781801921439303,-1.2302375288956056,-2.215534588013989,-0.6173209910577786,0.6873014952127062,-0.20768023471795324,1.3807411511048835,1.5676923985995384,-1.3535828954722193,0.6688398215891643,-1.9417660542959037,0.6086396296874507,-1.6891089331095988,0.8404967201254736,-0.25611772522792703,0.5649218453129284,-1.2455400184288734,0.08511126958214074,-1.2445956780254495,0.693274162901264,-0.555786574996747,0.014188061775017123,0.5756404633679048,-0.07502021616099822,0.8196550337696089,0.14719285707343466,2.0721531962168656,-0.05089514477070536,0.9178935846337136,0.8082192273766469,-0.9342785145415695,-0.7892361220520734,-1.0528167075806287,-0.900300147200952,-0.06378348260655418,-1.4058717991735044,-0.04637611154553381,-0.45343802555693713,0.3609959799788183,-0.9321964504655148,1.9639263256216999,-0.8513017162060174,-1.177257530160419,0.25079731529057353,-0.6455488140585096,-0.3597892849349049,-0.3522676026628601,0.03400583986455085,-0.4119885784095581,-0.668910236483875,0.6638172609013666,-0.09892944489312143,-1.9553751667413874,1.0932030834818462,0.7807217842469781,0.8029768142523035,-1.2272581484898053,-0.6477754460806492,1.9529843160513334,-0.84237910998657],\"yaxis\":\"y3\"},{\"line\":{\"color\":\"rgba(128, 128, 128, 1.0)\",\"dash\":\"solid\",\"shape\":\"linear\",\"width\":1.3},\"marker\":{\"size\":2,\"symbol\":\"circle\"},\"mode\":\"markers\",\"name\":\"A\",\"text\":\"\",\"type\":\"scatter\",\"x\":[1.1927052467737471,0.6823505953261061,-1.7699977924906336,-0.4409417245274874,-0.4027560996259744,1.3855538454435494,0.25941520948138114,0.45409670225836857,-1.828238319014977,-0.2430449199174727,0.2647028823015733,1.4415053080261364,1.073705430987225,0.4866361960213816,1.4824416894323167,0.07105310534559514,0.13215237042095185,-1.2120350758827654,0.6581602382531442,-0.7675070609238718,0.9668208021638547,-0.7946618684229247,1.7144331828714836,0.6183624129108227,0.32792919874517806,-1.4384318058696666,-1.896424554138019,1.3936239781195967,-0.5608297156821659,0.6174363013840861,-0.3920373006091651,0.9361108376422885,-1.215021028570566,0.8401590571870553,2.3185983729391744,0.2455730696322708,0.19536172069491808,1.4623879346019342,1.6091859374219266,-1.1194909687215293,-1.2857377279485118,0.9585464930884179,-2.0409079776428296,-0.3516153660537357,1.1247468667742029,-0.6225409273299736,-0.881020925119876,-0.6288513210560867,1.0181706822135164,0.43486023954956127,1.0735404839177463,-0.8360456949946155,-1.3071731796213288,-0.07262526518920134,0.5259937944952808,0.7758932426331349,-1.2246509725047636,0.7812189441750645,-0.9343539498244041,-0.1670384776565554,1.090640883944806,-1.2034828032498064,0.25473828806871673,0.8635343083832683,0.3625951607961471,-0.2195462221424108,-0.7390148935282446,0.2050754290124465,-0.5872703781784867,0.6724208793894313,0.4445472943607837,0.6485431478865128,-0.013995098131496525,-1.8286239296369833,0.4379298665364222,0.36020393470459283,-0.055472205298219925,-0.9817455885806337,-1.0867258660214782,0.9792867549289266,-0.39095614962872743,-1.2431321852725168,0.6483194288423902,-0.7920970509807383,-0.3546536488679633,-1.6103360489908431,1.3053501829720535,1.145556735167566,-0.6264207226268598,-0.21363957491562746,-0.6847452297725517,1.2131865236514339,-1.7478252431183574,1.209465948879976,0.43519122902619073,-0.15306143209734444,-1.3114763939089504,-0.2031965018915055,-1.5469322006075121,0.45462915216522054],\"xaxis\":\"x4\",\"y\":[0.42860790047642905,-0.24150461408966148,0.8033352317583001,-0.4541726165268112,-0.9932670897240472,-1.6407185774656428,1.0292734271511936,0.717201122535486,-0.8328302557547055,-0.29479504395009437,-0.7876330322200155,1.013825910413848,-0.6145438366960542,-0.42143338248421097,1.0861506220781272,1.520376664474774,-0.01777198223317564,-1.6643908381651553,0.08997243361014205,0.1814431345228801,-0.7291269758207538,0.30441811909622163,-0.3331215193748714,-2.443509759910543,1.4038049617436101,-0.5289496253542012,0.5762209244034456,1.7473983249450766,1.1750635751298635,0.3439285942573213,0.06695512250429193,-1.358152089819541,1.3259956980602265,0.9230291574367999,2.1274268735237967,0.01609166317697218,-0.008794112180982546,-0.13078079279846982,-0.9773233004907493,0.42408560898470316,0.4781801921439303,-1.2302375288956056,-2.215534588013989,-0.6173209910577786,0.6873014952127062,-0.20768023471795324,1.3807411511048835,1.5676923985995384,-1.3535828954722193,0.6688398215891643,-1.9417660542959037,0.6086396296874507,-1.6891089331095988,0.8404967201254736,-0.25611772522792703,0.5649218453129284,-1.2455400184288734,0.08511126958214074,-1.2445956780254495,0.693274162901264,-0.555786574996747,0.014188061775017123,0.5756404633679048,-0.07502021616099822,0.8196550337696089,0.14719285707343466,2.0721531962168656,-0.05089514477070536,0.9178935846337136,0.8082192273766469,-0.9342785145415695,-0.7892361220520734,-1.0528167075806287,-0.900300147200952,-0.06378348260655418,-1.4058717991735044,-0.04637611154553381,-0.45343802555693713,0.3609959799788183,-0.9321964504655148,1.9639263256216999,-0.8513017162060174,-1.177257530160419,0.25079731529057353,-0.6455488140585096,-0.3597892849349049,-0.3522676026628601,0.03400583986455085,-0.4119885784095581,-0.668910236483875,0.6638172609013666,-0.09892944489312143,-1.9553751667413874,1.0932030834818462,0.7807217842469781,0.8029768142523035,-1.2272581484898053,-0.6477754460806492,1.9529843160513334,-0.84237910998657],\"yaxis\":\"y4\"},{\"line\":{\"color\":\"rgba(128, 128, 128, 1.0)\",\"dash\":\"solid\",\"shape\":\"linear\",\"width\":1.3},\"marker\":{\"size\":2,\"symbol\":\"circle\"},\"mode\":\"markers\",\"name\":\"B\",\"text\":\"\",\"type\":\"scatter\",\"x\":[0.42860790047642905,-0.24150461408966148,0.8033352317583001,-0.4541726165268112,-0.9932670897240472,-1.6407185774656428,1.0292734271511936,0.717201122535486,-0.8328302557547055,-0.29479504395009437,-0.7876330322200155,1.013825910413848,-0.6145438366960542,-0.42143338248421097,1.0861506220781272,1.520376664474774,-0.01777198223317564,-1.6643908381651553,0.08997243361014205,0.1814431345228801,-0.7291269758207538,0.30441811909622163,-0.3331215193748714,-2.443509759910543,1.4038049617436101,-0.5289496253542012,0.5762209244034456,1.7473983249450766,1.1750635751298635,0.3439285942573213,0.06695512250429193,-1.358152089819541,1.3259956980602265,0.9230291574367999,2.1274268735237967,0.01609166317697218,-0.008794112180982546,-0.13078079279846982,-0.9773233004907493,0.42408560898470316,0.4781801921439303,-1.2302375288956056,-2.215534588013989,-0.6173209910577786,0.6873014952127062,-0.20768023471795324,1.3807411511048835,1.5676923985995384,-1.3535828954722193,0.6688398215891643,-1.9417660542959037,0.6086396296874507,-1.6891089331095988,0.8404967201254736,-0.25611772522792703,0.5649218453129284,-1.2455400184288734,0.08511126958214074,-1.2445956780254495,0.693274162901264,-0.555786574996747,0.014188061775017123,0.5756404633679048,-0.07502021616099822,0.8196550337696089,0.14719285707343466,2.0721531962168656,-0.05089514477070536,0.9178935846337136,0.8082192273766469,-0.9342785145415695,-0.7892361220520734,-1.0528167075806287,-0.900300147200952,-0.06378348260655418,-1.4058717991735044,-0.04637611154553381,-0.45343802555693713,0.3609959799788183,-0.9321964504655148,1.9639263256216999,-0.8513017162060174,-1.177257530160419,0.25079731529057353,-0.6455488140585096,-0.3597892849349049,-0.3522676026628601,0.03400583986455085,-0.4119885784095581,-0.668910236483875,0.6638172609013666,-0.09892944489312143,-1.9553751667413874,1.0932030834818462,0.7807217842469781,0.8029768142523035,-1.2272581484898053,-0.6477754460806492,1.9529843160513334,-0.84237910998657],\"xaxis\":\"x5\",\"y\":[-0.39325974971391525,0.05564646570619147,0.34780196590089396,1.6734131674208959,-0.023029982837105743,1.0012476696632717,0.18703713105734537,1.262120083305586,-0.8113828042042744,-0.36389618183312794,0.3182825345578306,0.26561207372775414,-0.31710083987767906,0.3307012661878355,-0.3827743646829566,-0.07784500406315373,0.07184939550950868,1.8600532821137243,-1.3966157050739068,0.6640713923826992,-0.8492037274388488,-0.6263363686461829,1.6250038488954621,-0.5236195883778583,-2.16345391306942,1.3029655695823983,0.2283173236958734,1.7370577014233897,-0.029732253191304518,-2.0533396952947993,-0.0015571473203474543,1.1581858115689212,0.6129394841978791,2.784380155305771,-0.7314673000828203,0.3385127274541624,-0.7687161829470321,1.543242396773852,-0.717193509958402,0.37699569673225664,-1.2396619940727844,0.4550492681869588,-2.0543094997835243,1.3600779678873771,-1.244574082682165,-2.1843312309789535,-0.6296399403616632,0.2871687175955069,-1.8976766970498358,-1.746810132351409,1.1721777502639719,0.12975308001389982,-0.906679091917525,-0.8235255560578126,1.629416680723812,-0.3258256193559577,0.3183405316268972,0.19960564744461226,-2.350317827213011,0.5704819720769283,-0.572177939912174,0.47504228909483914,0.9978013795099565,0.03284178097168736,1.7998520265955422,1.1791578061649604,0.6725374757403919,-0.18452181673013568,-1.3271976219839603,-1.4712235163192122,1.5058786374354427,0.20716152593826656,-0.8002141505754706,-0.23591613710914958,0.4176022846377921,-0.7322776036272107,-0.7501160039715231,0.2246809529639941,0.49107947550493974,-1.366060904827018,-1.873047410185736,0.5962151440823994,0.17473240351086952,-0.25176512171647975,0.8296301643863834,-0.17204697391626958,1.524750974056855,1.4053490752537185,-1.2809051231732484,0.49433207086912184,0.13477043390008417,-0.7369883578766098,-1.6833329347466606,-1.1611543228587384,0.16417302030913833,-2.55392965531275,0.554411998328491,0.9248809515936174,0.07974476121974629,1.244761109401404],\"yaxis\":\"y5\"},{\"histfunc\":\"count\",\"histnorm\":\"\",\"marker\":{\"color\":\"rgba(55, 128, 191, 1.0)\",\"line\":{\"color\":\"#4D5663\",\"width\":1.3}},\"name\":\"B\",\"nbinsx\":10,\"opacity\":0.8,\"orientation\":\"v\",\"type\":\"histogram\",\"x\":[-0.39325974971391525,0.05564646570619147,0.34780196590089396,1.6734131674208959,-0.023029982837105743,1.0012476696632717,0.18703713105734537,1.262120083305586,-0.8113828042042744,-0.36389618183312794,0.3182825345578306,0.26561207372775414,-0.31710083987767906,0.3307012661878355,-0.3827743646829566,-0.07784500406315373,0.07184939550950868,1.8600532821137243,-1.3966157050739068,0.6640713923826992,-0.8492037274388488,-0.6263363686461829,1.6250038488954621,-0.5236195883778583,-2.16345391306942,1.3029655695823983,0.2283173236958734,1.7370577014233897,-0.029732253191304518,-2.0533396952947993,-0.0015571473203474543,1.1581858115689212,0.6129394841978791,2.784380155305771,-0.7314673000828203,0.3385127274541624,-0.7687161829470321,1.543242396773852,-0.717193509958402,0.37699569673225664,-1.2396619940727844,0.4550492681869588,-2.0543094997835243,1.3600779678873771,-1.244574082682165,-2.1843312309789535,-0.6296399403616632,0.2871687175955069,-1.8976766970498358,-1.746810132351409,1.1721777502639719,0.12975308001389982,-0.906679091917525,-0.8235255560578126,1.629416680723812,-0.3258256193559577,0.3183405316268972,0.19960564744461226,-2.350317827213011,0.5704819720769283,-0.572177939912174,0.47504228909483914,0.9978013795099565,0.03284178097168736,1.7998520265955422,1.1791578061649604,0.6725374757403919,-0.18452181673013568,-1.3271976219839603,-1.4712235163192122,1.5058786374354427,0.20716152593826656,-0.8002141505754706,-0.23591613710914958,0.4176022846377921,-0.7322776036272107,-0.7501160039715231,0.2246809529639941,0.49107947550493974,-1.366060904827018,-1.873047410185736,0.5962151440823994,0.17473240351086952,-0.25176512171647975,0.8296301643863834,-0.17204697391626958,1.524750974056855,1.4053490752537185,-1.2809051231732484,0.49433207086912184,0.13477043390008417,-0.7369883578766098,-1.6833329347466606,-1.1611543228587384,0.16417302030913833,-2.55392965531275,0.554411998328491,0.9248809515936174,0.07974476121974629,1.244761109401404],\"xaxis\":\"x6\",\"yaxis\":\"y6\"},{\"line\":{\"color\":\"rgba(128, 128, 128, 1.0)\",\"dash\":\"solid\",\"shape\":\"linear\",\"width\":1.3},\"marker\":{\"size\":2,\"symbol\":\"circle\"},\"mode\":\"markers\",\"name\":\"B\",\"text\":\"\",\"type\":\"scatter\",\"x\":[0.20867975771520808,-0.539968732680375,-0.10451406860936421,0.6807906941541452,-0.6237061132537227,1.1645819493681946,-0.20319634501381628,-1.8719734890851034,0.19006397038468342,0.7426829780297319,1.5866853683306084,-0.8830991836928733,1.329381939728609,-0.36910943637848315,-0.1259704216318707,0.7599399179503843,0.2570493559742786,1.0102501201538379,-0.8301636846246374,0.9098700533567373,1.272308317853795,0.27644901365821556,-0.5307842275179776,0.6928510797756365,-0.7467081888636957,1.0864734312542663,-0.4088395415896088,-1.3297602651780072,-1.441235068785222,-0.15212789644905217,0.9578071542227202,-0.07460142157038534,0.5113698014381537,-0.7585669417479952,-1.7210677610542262,0.6458738210296548,-0.7221738362033334,-0.09708844896140927,0.34294090340127364,-1.0737713509953322,-1.3205133194548362,0.4033547123960727,0.06702499803391719,-0.3894870046425358,0.5545246926764152,-0.3936172349445884,0.5204415204166847,-2.296869709022682,-1.0722455437645189,-0.0076908262706479645,-0.8497611342012257,-0.5418473928237962,0.6825865011945559,1.528074978722198,0.7421162493465568,-1.0501963591592836,1.5291754301353226,0.9965167862689587,-0.8002793081334799,1.1160758258201309,2.416553937349119,-0.7323025322245335,1.045911989237607,-2.3075278310782483,-0.11065972894159559,1.6167179621416072,-1.5706737901917416,-0.176117048077122,0.4745874051396574,-0.461148688308992,-0.1907540082939412,0.2099327698711436,-1.2321302971466992,0.6032727936313779,1.4648497803732206,0.3072917431775034,1.0415220041526154,0.15940004078617948,-0.8020956078401368,-0.5019052846097677,-0.8158122916130118,0.9735286018887148,0.49382864652704367,-0.149893623001522,0.7465151638614091,1.41789646851737,0.42684270812646524,-1.9110647146667514,-1.1593244688815125,-0.8502884309003719,-0.4656426710483235,1.7640395575750731,-0.7333153880908555,-0.6169666283105139,-1.4096884439956874,-0.3822792755757565,2.1510015077400606,-0.480261706871716,-0.5583127368388549,-0.332192650314338],\"xaxis\":\"x7\",\"y\":[-0.39325974971391525,0.05564646570619147,0.34780196590089396,1.6734131674208959,-0.023029982837105743,1.0012476696632717,0.18703713105734537,1.262120083305586,-0.8113828042042744,-0.36389618183312794,0.3182825345578306,0.26561207372775414,-0.31710083987767906,0.3307012661878355,-0.3827743646829566,-0.07784500406315373,0.07184939550950868,1.8600532821137243,-1.3966157050739068,0.6640713923826992,-0.8492037274388488,-0.6263363686461829,1.6250038488954621,-0.5236195883778583,-2.16345391306942,1.3029655695823983,0.2283173236958734,1.7370577014233897,-0.029732253191304518,-2.0533396952947993,-0.0015571473203474543,1.1581858115689212,0.6129394841978791,2.784380155305771,-0.7314673000828203,0.3385127274541624,-0.7687161829470321,1.543242396773852,-0.717193509958402,0.37699569673225664,-1.2396619940727844,0.4550492681869588,-2.0543094997835243,1.3600779678873771,-1.244574082682165,-2.1843312309789535,-0.6296399403616632,0.2871687175955069,-1.8976766970498358,-1.746810132351409,1.1721777502639719,0.12975308001389982,-0.906679091917525,-0.8235255560578126,1.629416680723812,-0.3258256193559577,0.3183405316268972,0.19960564744461226,-2.350317827213011,0.5704819720769283,-0.572177939912174,0.47504228909483914,0.9978013795099565,0.03284178097168736,1.7998520265955422,1.1791578061649604,0.6725374757403919,-0.18452181673013568,-1.3271976219839603,-1.4712235163192122,1.5058786374354427,0.20716152593826656,-0.8002141505754706,-0.23591613710914958,0.4176022846377921,-0.7322776036272107,-0.7501160039715231,0.2246809529639941,0.49107947550493974,-1.366060904827018,-1.873047410185736,0.5962151440823994,0.17473240351086952,-0.25176512171647975,0.8296301643863834,-0.17204697391626958,1.524750974056855,1.4053490752537185,-1.2809051231732484,0.49433207086912184,0.13477043390008417,-0.7369883578766098,-1.6833329347466606,-1.1611543228587384,0.16417302030913833,-2.55392965531275,0.554411998328491,0.9248809515936174,0.07974476121974629,1.244761109401404],\"yaxis\":\"y7\"},{\"line\":{\"color\":\"rgba(128, 128, 128, 1.0)\",\"dash\":\"solid\",\"shape\":\"linear\",\"width\":1.3},\"marker\":{\"size\":2,\"symbol\":\"circle\"},\"mode\":\"markers\",\"name\":\"B\",\"text\":\"\",\"type\":\"scatter\",\"x\":[1.1927052467737471,0.6823505953261061,-1.7699977924906336,-0.4409417245274874,-0.4027560996259744,1.3855538454435494,0.25941520948138114,0.45409670225836857,-1.828238319014977,-0.2430449199174727,0.2647028823015733,1.4415053080261364,1.073705430987225,0.4866361960213816,1.4824416894323167,0.07105310534559514,0.13215237042095185,-1.2120350758827654,0.6581602382531442,-0.7675070609238718,0.9668208021638547,-0.7946618684229247,1.7144331828714836,0.6183624129108227,0.32792919874517806,-1.4384318058696666,-1.896424554138019,1.3936239781195967,-0.5608297156821659,0.6174363013840861,-0.3920373006091651,0.9361108376422885,-1.215021028570566,0.8401590571870553,2.3185983729391744,0.2455730696322708,0.19536172069491808,1.4623879346019342,1.6091859374219266,-1.1194909687215293,-1.2857377279485118,0.9585464930884179,-2.0409079776428296,-0.3516153660537357,1.1247468667742029,-0.6225409273299736,-0.881020925119876,-0.6288513210560867,1.0181706822135164,0.43486023954956127,1.0735404839177463,-0.8360456949946155,-1.3071731796213288,-0.07262526518920134,0.5259937944952808,0.7758932426331349,-1.2246509725047636,0.7812189441750645,-0.9343539498244041,-0.1670384776565554,1.090640883944806,-1.2034828032498064,0.25473828806871673,0.8635343083832683,0.3625951607961471,-0.2195462221424108,-0.7390148935282446,0.2050754290124465,-0.5872703781784867,0.6724208793894313,0.4445472943607837,0.6485431478865128,-0.013995098131496525,-1.8286239296369833,0.4379298665364222,0.36020393470459283,-0.055472205298219925,-0.9817455885806337,-1.0867258660214782,0.9792867549289266,-0.39095614962872743,-1.2431321852725168,0.6483194288423902,-0.7920970509807383,-0.3546536488679633,-1.6103360489908431,1.3053501829720535,1.145556735167566,-0.6264207226268598,-0.21363957491562746,-0.6847452297725517,1.2131865236514339,-1.7478252431183574,1.209465948879976,0.43519122902619073,-0.15306143209734444,-1.3114763939089504,-0.2031965018915055,-1.5469322006075121,0.45462915216522054],\"xaxis\":\"x8\",\"y\":[-0.39325974971391525,0.05564646570619147,0.34780196590089396,1.6734131674208959,-0.023029982837105743,1.0012476696632717,0.18703713105734537,1.262120083305586,-0.8113828042042744,-0.36389618183312794,0.3182825345578306,0.26561207372775414,-0.31710083987767906,0.3307012661878355,-0.3827743646829566,-0.07784500406315373,0.07184939550950868,1.8600532821137243,-1.3966157050739068,0.6640713923826992,-0.8492037274388488,-0.6263363686461829,1.6250038488954621,-0.5236195883778583,-2.16345391306942,1.3029655695823983,0.2283173236958734,1.7370577014233897,-0.029732253191304518,-2.0533396952947993,-0.0015571473203474543,1.1581858115689212,0.6129394841978791,2.784380155305771,-0.7314673000828203,0.3385127274541624,-0.7687161829470321,1.543242396773852,-0.717193509958402,0.37699569673225664,-1.2396619940727844,0.4550492681869588,-2.0543094997835243,1.3600779678873771,-1.244574082682165,-2.1843312309789535,-0.6296399403616632,0.2871687175955069,-1.8976766970498358,-1.746810132351409,1.1721777502639719,0.12975308001389982,-0.906679091917525,-0.8235255560578126,1.629416680723812,-0.3258256193559577,0.3183405316268972,0.19960564744461226,-2.350317827213011,0.5704819720769283,-0.572177939912174,0.47504228909483914,0.9978013795099565,0.03284178097168736,1.7998520265955422,1.1791578061649604,0.6725374757403919,-0.18452181673013568,-1.3271976219839603,-1.4712235163192122,1.5058786374354427,0.20716152593826656,-0.8002141505754706,-0.23591613710914958,0.4176022846377921,-0.7322776036272107,-0.7501160039715231,0.2246809529639941,0.49107947550493974,-1.366060904827018,-1.873047410185736,0.5962151440823994,0.17473240351086952,-0.25176512171647975,0.8296301643863834,-0.17204697391626958,1.524750974056855,1.4053490752537185,-1.2809051231732484,0.49433207086912184,0.13477043390008417,-0.7369883578766098,-1.6833329347466606,-1.1611543228587384,0.16417302030913833,-2.55392965531275,0.554411998328491,0.9248809515936174,0.07974476121974629,1.244761109401404],\"yaxis\":\"y8\"},{\"line\":{\"color\":\"rgba(128, 128, 128, 1.0)\",\"dash\":\"solid\",\"shape\":\"linear\",\"width\":1.3},\"marker\":{\"size\":2,\"symbol\":\"circle\"},\"mode\":\"markers\",\"name\":\"C\",\"text\":\"\",\"type\":\"scatter\",\"x\":[0.42860790047642905,-0.24150461408966148,0.8033352317583001,-0.4541726165268112,-0.9932670897240472,-1.6407185774656428,1.0292734271511936,0.717201122535486,-0.8328302557547055,-0.29479504395009437,-0.7876330322200155,1.013825910413848,-0.6145438366960542,-0.42143338248421097,1.0861506220781272,1.520376664474774,-0.01777198223317564,-1.6643908381651553,0.08997243361014205,0.1814431345228801,-0.7291269758207538,0.30441811909622163,-0.3331215193748714,-2.443509759910543,1.4038049617436101,-0.5289496253542012,0.5762209244034456,1.7473983249450766,1.1750635751298635,0.3439285942573213,0.06695512250429193,-1.358152089819541,1.3259956980602265,0.9230291574367999,2.1274268735237967,0.01609166317697218,-0.008794112180982546,-0.13078079279846982,-0.9773233004907493,0.42408560898470316,0.4781801921439303,-1.2302375288956056,-2.215534588013989,-0.6173209910577786,0.6873014952127062,-0.20768023471795324,1.3807411511048835,1.5676923985995384,-1.3535828954722193,0.6688398215891643,-1.9417660542959037,0.6086396296874507,-1.6891089331095988,0.8404967201254736,-0.25611772522792703,0.5649218453129284,-1.2455400184288734,0.08511126958214074,-1.2445956780254495,0.693274162901264,-0.555786574996747,0.014188061775017123,0.5756404633679048,-0.07502021616099822,0.8196550337696089,0.14719285707343466,2.0721531962168656,-0.05089514477070536,0.9178935846337136,0.8082192273766469,-0.9342785145415695,-0.7892361220520734,-1.0528167075806287,-0.900300147200952,-0.06378348260655418,-1.4058717991735044,-0.04637611154553381,-0.45343802555693713,0.3609959799788183,-0.9321964504655148,1.9639263256216999,-0.8513017162060174,-1.177257530160419,0.25079731529057353,-0.6455488140585096,-0.3597892849349049,-0.3522676026628601,0.03400583986455085,-0.4119885784095581,-0.668910236483875,0.6638172609013666,-0.09892944489312143,-1.9553751667413874,1.0932030834818462,0.7807217842469781,0.8029768142523035,-1.2272581484898053,-0.6477754460806492,1.9529843160513334,-0.84237910998657],\"xaxis\":\"x9\",\"y\":[0.20867975771520808,-0.539968732680375,-0.10451406860936421,0.6807906941541452,-0.6237061132537227,1.1645819493681946,-0.20319634501381628,-1.8719734890851034,0.19006397038468342,0.7426829780297319,1.5866853683306084,-0.8830991836928733,1.329381939728609,-0.36910943637848315,-0.1259704216318707,0.7599399179503843,0.2570493559742786,1.0102501201538379,-0.8301636846246374,0.9098700533567373,1.272308317853795,0.27644901365821556,-0.5307842275179776,0.6928510797756365,-0.7467081888636957,1.0864734312542663,-0.4088395415896088,-1.3297602651780072,-1.441235068785222,-0.15212789644905217,0.9578071542227202,-0.07460142157038534,0.5113698014381537,-0.7585669417479952,-1.7210677610542262,0.6458738210296548,-0.7221738362033334,-0.09708844896140927,0.34294090340127364,-1.0737713509953322,-1.3205133194548362,0.4033547123960727,0.06702499803391719,-0.3894870046425358,0.5545246926764152,-0.3936172349445884,0.5204415204166847,-2.296869709022682,-1.0722455437645189,-0.0076908262706479645,-0.8497611342012257,-0.5418473928237962,0.6825865011945559,1.528074978722198,0.7421162493465568,-1.0501963591592836,1.5291754301353226,0.9965167862689587,-0.8002793081334799,1.1160758258201309,2.416553937349119,-0.7323025322245335,1.045911989237607,-2.3075278310782483,-0.11065972894159559,1.6167179621416072,-1.5706737901917416,-0.176117048077122,0.4745874051396574,-0.461148688308992,-0.1907540082939412,0.2099327698711436,-1.2321302971466992,0.6032727936313779,1.4648497803732206,0.3072917431775034,1.0415220041526154,0.15940004078617948,-0.8020956078401368,-0.5019052846097677,-0.8158122916130118,0.9735286018887148,0.49382864652704367,-0.149893623001522,0.7465151638614091,1.41789646851737,0.42684270812646524,-1.9110647146667514,-1.1593244688815125,-0.8502884309003719,-0.4656426710483235,1.7640395575750731,-0.7333153880908555,-0.6169666283105139,-1.4096884439956874,-0.3822792755757565,2.1510015077400606,-0.480261706871716,-0.5583127368388549,-0.332192650314338],\"yaxis\":\"y9\"},{\"line\":{\"color\":\"rgba(128, 128, 128, 1.0)\",\"dash\":\"solid\",\"shape\":\"linear\",\"width\":1.3},\"marker\":{\"size\":2,\"symbol\":\"circle\"},\"mode\":\"markers\",\"name\":\"C\",\"text\":\"\",\"type\":\"scatter\",\"x\":[-0.39325974971391525,0.05564646570619147,0.34780196590089396,1.6734131674208959,-0.023029982837105743,1.0012476696632717,0.18703713105734537,1.262120083305586,-0.8113828042042744,-0.36389618183312794,0.3182825345578306,0.26561207372775414,-0.31710083987767906,0.3307012661878355,-0.3827743646829566,-0.07784500406315373,0.07184939550950868,1.8600532821137243,-1.3966157050739068,0.6640713923826992,-0.8492037274388488,-0.6263363686461829,1.6250038488954621,-0.5236195883778583,-2.16345391306942,1.3029655695823983,0.2283173236958734,1.7370577014233897,-0.029732253191304518,-2.0533396952947993,-0.0015571473203474543,1.1581858115689212,0.6129394841978791,2.784380155305771,-0.7314673000828203,0.3385127274541624,-0.7687161829470321,1.543242396773852,-0.717193509958402,0.37699569673225664,-1.2396619940727844,0.4550492681869588,-2.0543094997835243,1.3600779678873771,-1.244574082682165,-2.1843312309789535,-0.6296399403616632,0.2871687175955069,-1.8976766970498358,-1.746810132351409,1.1721777502639719,0.12975308001389982,-0.906679091917525,-0.8235255560578126,1.629416680723812,-0.3258256193559577,0.3183405316268972,0.19960564744461226,-2.350317827213011,0.5704819720769283,-0.572177939912174,0.47504228909483914,0.9978013795099565,0.03284178097168736,1.7998520265955422,1.1791578061649604,0.6725374757403919,-0.18452181673013568,-1.3271976219839603,-1.4712235163192122,1.5058786374354427,0.20716152593826656,-0.8002141505754706,-0.23591613710914958,0.4176022846377921,-0.7322776036272107,-0.7501160039715231,0.2246809529639941,0.49107947550493974,-1.366060904827018,-1.873047410185736,0.5962151440823994,0.17473240351086952,-0.25176512171647975,0.8296301643863834,-0.17204697391626958,1.524750974056855,1.4053490752537185,-1.2809051231732484,0.49433207086912184,0.13477043390008417,-0.7369883578766098,-1.6833329347466606,-1.1611543228587384,0.16417302030913833,-2.55392965531275,0.554411998328491,0.9248809515936174,0.07974476121974629,1.244761109401404],\"xaxis\":\"x10\",\"y\":[0.20867975771520808,-0.539968732680375,-0.10451406860936421,0.6807906941541452,-0.6237061132537227,1.1645819493681946,-0.20319634501381628,-1.8719734890851034,0.19006397038468342,0.7426829780297319,1.5866853683306084,-0.8830991836928733,1.329381939728609,-0.36910943637848315,-0.1259704216318707,0.7599399179503843,0.2570493559742786,1.0102501201538379,-0.8301636846246374,0.9098700533567373,1.272308317853795,0.27644901365821556,-0.5307842275179776,0.6928510797756365,-0.7467081888636957,1.0864734312542663,-0.4088395415896088,-1.3297602651780072,-1.441235068785222,-0.15212789644905217,0.9578071542227202,-0.07460142157038534,0.5113698014381537,-0.7585669417479952,-1.7210677610542262,0.6458738210296548,-0.7221738362033334,-0.09708844896140927,0.34294090340127364,-1.0737713509953322,-1.3205133194548362,0.4033547123960727,0.06702499803391719,-0.3894870046425358,0.5545246926764152,-0.3936172349445884,0.5204415204166847,-2.296869709022682,-1.0722455437645189,-0.0076908262706479645,-0.8497611342012257,-0.5418473928237962,0.6825865011945559,1.528074978722198,0.7421162493465568,-1.0501963591592836,1.5291754301353226,0.9965167862689587,-0.8002793081334799,1.1160758258201309,2.416553937349119,-0.7323025322245335,1.045911989237607,-2.3075278310782483,-0.11065972894159559,1.6167179621416072,-1.5706737901917416,-0.176117048077122,0.4745874051396574,-0.461148688308992,-0.1907540082939412,0.2099327698711436,-1.2321302971466992,0.6032727936313779,1.4648497803732206,0.3072917431775034,1.0415220041526154,0.15940004078617948,-0.8020956078401368,-0.5019052846097677,-0.8158122916130118,0.9735286018887148,0.49382864652704367,-0.149893623001522,0.7465151638614091,1.41789646851737,0.42684270812646524,-1.9110647146667514,-1.1593244688815125,-0.8502884309003719,-0.4656426710483235,1.7640395575750731,-0.7333153880908555,-0.6169666283105139,-1.4096884439956874,-0.3822792755757565,2.1510015077400606,-0.480261706871716,-0.5583127368388549,-0.332192650314338],\"yaxis\":\"y10\"},{\"histfunc\":\"count\",\"histnorm\":\"\",\"marker\":{\"color\":\"rgba(50, 171, 96, 1.0)\",\"line\":{\"color\":\"#4D5663\",\"width\":1.3}},\"name\":\"C\",\"nbinsx\":10,\"opacity\":0.8,\"orientation\":\"v\",\"type\":\"histogram\",\"x\":[0.20867975771520808,-0.539968732680375,-0.10451406860936421,0.6807906941541452,-0.6237061132537227,1.1645819493681946,-0.20319634501381628,-1.8719734890851034,0.19006397038468342,0.7426829780297319,1.5866853683306084,-0.8830991836928733,1.329381939728609,-0.36910943637848315,-0.1259704216318707,0.7599399179503843,0.2570493559742786,1.0102501201538379,-0.8301636846246374,0.9098700533567373,1.272308317853795,0.27644901365821556,-0.5307842275179776,0.6928510797756365,-0.7467081888636957,1.0864734312542663,-0.4088395415896088,-1.3297602651780072,-1.441235068785222,-0.15212789644905217,0.9578071542227202,-0.07460142157038534,0.5113698014381537,-0.7585669417479952,-1.7210677610542262,0.6458738210296548,-0.7221738362033334,-0.09708844896140927,0.34294090340127364,-1.0737713509953322,-1.3205133194548362,0.4033547123960727,0.06702499803391719,-0.3894870046425358,0.5545246926764152,-0.3936172349445884,0.5204415204166847,-2.296869709022682,-1.0722455437645189,-0.0076908262706479645,-0.8497611342012257,-0.5418473928237962,0.6825865011945559,1.528074978722198,0.7421162493465568,-1.0501963591592836,1.5291754301353226,0.9965167862689587,-0.8002793081334799,1.1160758258201309,2.416553937349119,-0.7323025322245335,1.045911989237607,-2.3075278310782483,-0.11065972894159559,1.6167179621416072,-1.5706737901917416,-0.176117048077122,0.4745874051396574,-0.461148688308992,-0.1907540082939412,0.2099327698711436,-1.2321302971466992,0.6032727936313779,1.4648497803732206,0.3072917431775034,1.0415220041526154,0.15940004078617948,-0.8020956078401368,-0.5019052846097677,-0.8158122916130118,0.9735286018887148,0.49382864652704367,-0.149893623001522,0.7465151638614091,1.41789646851737,0.42684270812646524,-1.9110647146667514,-1.1593244688815125,-0.8502884309003719,-0.4656426710483235,1.7640395575750731,-0.7333153880908555,-0.6169666283105139,-1.4096884439956874,-0.3822792755757565,2.1510015077400606,-0.480261706871716,-0.5583127368388549,-0.332192650314338],\"xaxis\":\"x11\",\"yaxis\":\"y11\"},{\"line\":{\"color\":\"rgba(128, 128, 128, 1.0)\",\"dash\":\"solid\",\"shape\":\"linear\",\"width\":1.3},\"marker\":{\"size\":2,\"symbol\":\"circle\"},\"mode\":\"markers\",\"name\":\"C\",\"text\":\"\",\"type\":\"scatter\",\"x\":[1.1927052467737471,0.6823505953261061,-1.7699977924906336,-0.4409417245274874,-0.4027560996259744,1.3855538454435494,0.25941520948138114,0.45409670225836857,-1.828238319014977,-0.2430449199174727,0.2647028823015733,1.4415053080261364,1.073705430987225,0.4866361960213816,1.4824416894323167,0.07105310534559514,0.13215237042095185,-1.2120350758827654,0.6581602382531442,-0.7675070609238718,0.9668208021638547,-0.7946618684229247,1.7144331828714836,0.6183624129108227,0.32792919874517806,-1.4384318058696666,-1.896424554138019,1.3936239781195967,-0.5608297156821659,0.6174363013840861,-0.3920373006091651,0.9361108376422885,-1.215021028570566,0.8401590571870553,2.3185983729391744,0.2455730696322708,0.19536172069491808,1.4623879346019342,1.6091859374219266,-1.1194909687215293,-1.2857377279485118,0.9585464930884179,-2.0409079776428296,-0.3516153660537357,1.1247468667742029,-0.6225409273299736,-0.881020925119876,-0.6288513210560867,1.0181706822135164,0.43486023954956127,1.0735404839177463,-0.8360456949946155,-1.3071731796213288,-0.07262526518920134,0.5259937944952808,0.7758932426331349,-1.2246509725047636,0.7812189441750645,-0.9343539498244041,-0.1670384776565554,1.090640883944806,-1.2034828032498064,0.25473828806871673,0.8635343083832683,0.3625951607961471,-0.2195462221424108,-0.7390148935282446,0.2050754290124465,-0.5872703781784867,0.6724208793894313,0.4445472943607837,0.6485431478865128,-0.013995098131496525,-1.8286239296369833,0.4379298665364222,0.36020393470459283,-0.055472205298219925,-0.9817455885806337,-1.0867258660214782,0.9792867549289266,-0.39095614962872743,-1.2431321852725168,0.6483194288423902,-0.7920970509807383,-0.3546536488679633,-1.6103360489908431,1.3053501829720535,1.145556735167566,-0.6264207226268598,-0.21363957491562746,-0.6847452297725517,1.2131865236514339,-1.7478252431183574,1.209465948879976,0.43519122902619073,-0.15306143209734444,-1.3114763939089504,-0.2031965018915055,-1.5469322006075121,0.45462915216522054],\"xaxis\":\"x12\",\"y\":[0.20867975771520808,-0.539968732680375,-0.10451406860936421,0.6807906941541452,-0.6237061132537227,1.1645819493681946,-0.20319634501381628,-1.8719734890851034,0.19006397038468342,0.7426829780297319,1.5866853683306084,-0.8830991836928733,1.329381939728609,-0.36910943637848315,-0.1259704216318707,0.7599399179503843,0.2570493559742786,1.0102501201538379,-0.8301636846246374,0.9098700533567373,1.272308317853795,0.27644901365821556,-0.5307842275179776,0.6928510797756365,-0.7467081888636957,1.0864734312542663,-0.4088395415896088,-1.3297602651780072,-1.441235068785222,-0.15212789644905217,0.9578071542227202,-0.07460142157038534,0.5113698014381537,-0.7585669417479952,-1.7210677610542262,0.6458738210296548,-0.7221738362033334,-0.09708844896140927,0.34294090340127364,-1.0737713509953322,-1.3205133194548362,0.4033547123960727,0.06702499803391719,-0.3894870046425358,0.5545246926764152,-0.3936172349445884,0.5204415204166847,-2.296869709022682,-1.0722455437645189,-0.0076908262706479645,-0.8497611342012257,-0.5418473928237962,0.6825865011945559,1.528074978722198,0.7421162493465568,-1.0501963591592836,1.5291754301353226,0.9965167862689587,-0.8002793081334799,1.1160758258201309,2.416553937349119,-0.7323025322245335,1.045911989237607,-2.3075278310782483,-0.11065972894159559,1.6167179621416072,-1.5706737901917416,-0.176117048077122,0.4745874051396574,-0.461148688308992,-0.1907540082939412,0.2099327698711436,-1.2321302971466992,0.6032727936313779,1.4648497803732206,0.3072917431775034,1.0415220041526154,0.15940004078617948,-0.8020956078401368,-0.5019052846097677,-0.8158122916130118,0.9735286018887148,0.49382864652704367,-0.149893623001522,0.7465151638614091,1.41789646851737,0.42684270812646524,-1.9110647146667514,-1.1593244688815125,-0.8502884309003719,-0.4656426710483235,1.7640395575750731,-0.7333153880908555,-0.6169666283105139,-1.4096884439956874,-0.3822792755757565,2.1510015077400606,-0.480261706871716,-0.5583127368388549,-0.332192650314338],\"yaxis\":\"y12\"},{\"line\":{\"color\":\"rgba(128, 128, 128, 1.0)\",\"dash\":\"solid\",\"shape\":\"linear\",\"width\":1.3},\"marker\":{\"size\":2,\"symbol\":\"circle\"},\"mode\":\"markers\",\"name\":\"D\",\"text\":\"\",\"type\":\"scatter\",\"x\":[0.42860790047642905,-0.24150461408966148,0.8033352317583001,-0.4541726165268112,-0.9932670897240472,-1.6407185774656428,1.0292734271511936,0.717201122535486,-0.8328302557547055,-0.29479504395009437,-0.7876330322200155,1.013825910413848,-0.6145438366960542,-0.42143338248421097,1.0861506220781272,1.520376664474774,-0.01777198223317564,-1.6643908381651553,0.08997243361014205,0.1814431345228801,-0.7291269758207538,0.30441811909622163,-0.3331215193748714,-2.443509759910543,1.4038049617436101,-0.5289496253542012,0.5762209244034456,1.7473983249450766,1.1750635751298635,0.3439285942573213,0.06695512250429193,-1.358152089819541,1.3259956980602265,0.9230291574367999,2.1274268735237967,0.01609166317697218,-0.008794112180982546,-0.13078079279846982,-0.9773233004907493,0.42408560898470316,0.4781801921439303,-1.2302375288956056,-2.215534588013989,-0.6173209910577786,0.6873014952127062,-0.20768023471795324,1.3807411511048835,1.5676923985995384,-1.3535828954722193,0.6688398215891643,-1.9417660542959037,0.6086396296874507,-1.6891089331095988,0.8404967201254736,-0.25611772522792703,0.5649218453129284,-1.2455400184288734,0.08511126958214074,-1.2445956780254495,0.693274162901264,-0.555786574996747,0.014188061775017123,0.5756404633679048,-0.07502021616099822,0.8196550337696089,0.14719285707343466,2.0721531962168656,-0.05089514477070536,0.9178935846337136,0.8082192273766469,-0.9342785145415695,-0.7892361220520734,-1.0528167075806287,-0.900300147200952,-0.06378348260655418,-1.4058717991735044,-0.04637611154553381,-0.45343802555693713,0.3609959799788183,-0.9321964504655148,1.9639263256216999,-0.8513017162060174,-1.177257530160419,0.25079731529057353,-0.6455488140585096,-0.3597892849349049,-0.3522676026628601,0.03400583986455085,-0.4119885784095581,-0.668910236483875,0.6638172609013666,-0.09892944489312143,-1.9553751667413874,1.0932030834818462,0.7807217842469781,0.8029768142523035,-1.2272581484898053,-0.6477754460806492,1.9529843160513334,-0.84237910998657],\"xaxis\":\"x13\",\"y\":[1.1927052467737471,0.6823505953261061,-1.7699977924906336,-0.4409417245274874,-0.4027560996259744,1.3855538454435494,0.25941520948138114,0.45409670225836857,-1.828238319014977,-0.2430449199174727,0.2647028823015733,1.4415053080261364,1.073705430987225,0.4866361960213816,1.4824416894323167,0.07105310534559514,0.13215237042095185,-1.2120350758827654,0.6581602382531442,-0.7675070609238718,0.9668208021638547,-0.7946618684229247,1.7144331828714836,0.6183624129108227,0.32792919874517806,-1.4384318058696666,-1.896424554138019,1.3936239781195967,-0.5608297156821659,0.6174363013840861,-0.3920373006091651,0.9361108376422885,-1.215021028570566,0.8401590571870553,2.3185983729391744,0.2455730696322708,0.19536172069491808,1.4623879346019342,1.6091859374219266,-1.1194909687215293,-1.2857377279485118,0.9585464930884179,-2.0409079776428296,-0.3516153660537357,1.1247468667742029,-0.6225409273299736,-0.881020925119876,-0.6288513210560867,1.0181706822135164,0.43486023954956127,1.0735404839177463,-0.8360456949946155,-1.3071731796213288,-0.07262526518920134,0.5259937944952808,0.7758932426331349,-1.2246509725047636,0.7812189441750645,-0.9343539498244041,-0.1670384776565554,1.090640883944806,-1.2034828032498064,0.25473828806871673,0.8635343083832683,0.3625951607961471,-0.2195462221424108,-0.7390148935282446,0.2050754290124465,-0.5872703781784867,0.6724208793894313,0.4445472943607837,0.6485431478865128,-0.013995098131496525,-1.8286239296369833,0.4379298665364222,0.36020393470459283,-0.055472205298219925,-0.9817455885806337,-1.0867258660214782,0.9792867549289266,-0.39095614962872743,-1.2431321852725168,0.6483194288423902,-0.7920970509807383,-0.3546536488679633,-1.6103360489908431,1.3053501829720535,1.145556735167566,-0.6264207226268598,-0.21363957491562746,-0.6847452297725517,1.2131865236514339,-1.7478252431183574,1.209465948879976,0.43519122902619073,-0.15306143209734444,-1.3114763939089504,-0.2031965018915055,-1.5469322006075121,0.45462915216522054],\"yaxis\":\"y13\"},{\"line\":{\"color\":\"rgba(128, 128, 128, 1.0)\",\"dash\":\"solid\",\"shape\":\"linear\",\"width\":1.3},\"marker\":{\"size\":2,\"symbol\":\"circle\"},\"mode\":\"markers\",\"name\":\"D\",\"text\":\"\",\"type\":\"scatter\",\"x\":[-0.39325974971391525,0.05564646570619147,0.34780196590089396,1.6734131674208959,-0.023029982837105743,1.0012476696632717,0.18703713105734537,1.262120083305586,-0.8113828042042744,-0.36389618183312794,0.3182825345578306,0.26561207372775414,-0.31710083987767906,0.3307012661878355,-0.3827743646829566,-0.07784500406315373,0.07184939550950868,1.8600532821137243,-1.3966157050739068,0.6640713923826992,-0.8492037274388488,-0.6263363686461829,1.6250038488954621,-0.5236195883778583,-2.16345391306942,1.3029655695823983,0.2283173236958734,1.7370577014233897,-0.029732253191304518,-2.0533396952947993,-0.0015571473203474543,1.1581858115689212,0.6129394841978791,2.784380155305771,-0.7314673000828203,0.3385127274541624,-0.7687161829470321,1.543242396773852,-0.717193509958402,0.37699569673225664,-1.2396619940727844,0.4550492681869588,-2.0543094997835243,1.3600779678873771,-1.244574082682165,-2.1843312309789535,-0.6296399403616632,0.2871687175955069,-1.8976766970498358,-1.746810132351409,1.1721777502639719,0.12975308001389982,-0.906679091917525,-0.8235255560578126,1.629416680723812,-0.3258256193559577,0.3183405316268972,0.19960564744461226,-2.350317827213011,0.5704819720769283,-0.572177939912174,0.47504228909483914,0.9978013795099565,0.03284178097168736,1.7998520265955422,1.1791578061649604,0.6725374757403919,-0.18452181673013568,-1.3271976219839603,-1.4712235163192122,1.5058786374354427,0.20716152593826656,-0.8002141505754706,-0.23591613710914958,0.4176022846377921,-0.7322776036272107,-0.7501160039715231,0.2246809529639941,0.49107947550493974,-1.366060904827018,-1.873047410185736,0.5962151440823994,0.17473240351086952,-0.25176512171647975,0.8296301643863834,-0.17204697391626958,1.524750974056855,1.4053490752537185,-1.2809051231732484,0.49433207086912184,0.13477043390008417,-0.7369883578766098,-1.6833329347466606,-1.1611543228587384,0.16417302030913833,-2.55392965531275,0.554411998328491,0.9248809515936174,0.07974476121974629,1.244761109401404],\"xaxis\":\"x14\",\"y\":[1.1927052467737471,0.6823505953261061,-1.7699977924906336,-0.4409417245274874,-0.4027560996259744,1.3855538454435494,0.25941520948138114,0.45409670225836857,-1.828238319014977,-0.2430449199174727,0.2647028823015733,1.4415053080261364,1.073705430987225,0.4866361960213816,1.4824416894323167,0.07105310534559514,0.13215237042095185,-1.2120350758827654,0.6581602382531442,-0.7675070609238718,0.9668208021638547,-0.7946618684229247,1.7144331828714836,0.6183624129108227,0.32792919874517806,-1.4384318058696666,-1.896424554138019,1.3936239781195967,-0.5608297156821659,0.6174363013840861,-0.3920373006091651,0.9361108376422885,-1.215021028570566,0.8401590571870553,2.3185983729391744,0.2455730696322708,0.19536172069491808,1.4623879346019342,1.6091859374219266,-1.1194909687215293,-1.2857377279485118,0.9585464930884179,-2.0409079776428296,-0.3516153660537357,1.1247468667742029,-0.6225409273299736,-0.881020925119876,-0.6288513210560867,1.0181706822135164,0.43486023954956127,1.0735404839177463,-0.8360456949946155,-1.3071731796213288,-0.07262526518920134,0.5259937944952808,0.7758932426331349,-1.2246509725047636,0.7812189441750645,-0.9343539498244041,-0.1670384776565554,1.090640883944806,-1.2034828032498064,0.25473828806871673,0.8635343083832683,0.3625951607961471,-0.2195462221424108,-0.7390148935282446,0.2050754290124465,-0.5872703781784867,0.6724208793894313,0.4445472943607837,0.6485431478865128,-0.013995098131496525,-1.8286239296369833,0.4379298665364222,0.36020393470459283,-0.055472205298219925,-0.9817455885806337,-1.0867258660214782,0.9792867549289266,-0.39095614962872743,-1.2431321852725168,0.6483194288423902,-0.7920970509807383,-0.3546536488679633,-1.6103360489908431,1.3053501829720535,1.145556735167566,-0.6264207226268598,-0.21363957491562746,-0.6847452297725517,1.2131865236514339,-1.7478252431183574,1.209465948879976,0.43519122902619073,-0.15306143209734444,-1.3114763939089504,-0.2031965018915055,-1.5469322006075121,0.45462915216522054],\"yaxis\":\"y14\"},{\"line\":{\"color\":\"rgba(128, 128, 128, 1.0)\",\"dash\":\"solid\",\"shape\":\"linear\",\"width\":1.3},\"marker\":{\"size\":2,\"symbol\":\"circle\"},\"mode\":\"markers\",\"name\":\"D\",\"text\":\"\",\"type\":\"scatter\",\"x\":[0.20867975771520808,-0.539968732680375,-0.10451406860936421,0.6807906941541452,-0.6237061132537227,1.1645819493681946,-0.20319634501381628,-1.8719734890851034,0.19006397038468342,0.7426829780297319,1.5866853683306084,-0.8830991836928733,1.329381939728609,-0.36910943637848315,-0.1259704216318707,0.7599399179503843,0.2570493559742786,1.0102501201538379,-0.8301636846246374,0.9098700533567373,1.272308317853795,0.27644901365821556,-0.5307842275179776,0.6928510797756365,-0.7467081888636957,1.0864734312542663,-0.4088395415896088,-1.3297602651780072,-1.441235068785222,-0.15212789644905217,0.9578071542227202,-0.07460142157038534,0.5113698014381537,-0.7585669417479952,-1.7210677610542262,0.6458738210296548,-0.7221738362033334,-0.09708844896140927,0.34294090340127364,-1.0737713509953322,-1.3205133194548362,0.4033547123960727,0.06702499803391719,-0.3894870046425358,0.5545246926764152,-0.3936172349445884,0.5204415204166847,-2.296869709022682,-1.0722455437645189,-0.0076908262706479645,-0.8497611342012257,-0.5418473928237962,0.6825865011945559,1.528074978722198,0.7421162493465568,-1.0501963591592836,1.5291754301353226,0.9965167862689587,-0.8002793081334799,1.1160758258201309,2.416553937349119,-0.7323025322245335,1.045911989237607,-2.3075278310782483,-0.11065972894159559,1.6167179621416072,-1.5706737901917416,-0.176117048077122,0.4745874051396574,-0.461148688308992,-0.1907540082939412,0.2099327698711436,-1.2321302971466992,0.6032727936313779,1.4648497803732206,0.3072917431775034,1.0415220041526154,0.15940004078617948,-0.8020956078401368,-0.5019052846097677,-0.8158122916130118,0.9735286018887148,0.49382864652704367,-0.149893623001522,0.7465151638614091,1.41789646851737,0.42684270812646524,-1.9110647146667514,-1.1593244688815125,-0.8502884309003719,-0.4656426710483235,1.7640395575750731,-0.7333153880908555,-0.6169666283105139,-1.4096884439956874,-0.3822792755757565,2.1510015077400606,-0.480261706871716,-0.5583127368388549,-0.332192650314338],\"xaxis\":\"x15\",\"y\":[1.1927052467737471,0.6823505953261061,-1.7699977924906336,-0.4409417245274874,-0.4027560996259744,1.3855538454435494,0.25941520948138114,0.45409670225836857,-1.828238319014977,-0.2430449199174727,0.2647028823015733,1.4415053080261364,1.073705430987225,0.4866361960213816,1.4824416894323167,0.07105310534559514,0.13215237042095185,-1.2120350758827654,0.6581602382531442,-0.7675070609238718,0.9668208021638547,-0.7946618684229247,1.7144331828714836,0.6183624129108227,0.32792919874517806,-1.4384318058696666,-1.896424554138019,1.3936239781195967,-0.5608297156821659,0.6174363013840861,-0.3920373006091651,0.9361108376422885,-1.215021028570566,0.8401590571870553,2.3185983729391744,0.2455730696322708,0.19536172069491808,1.4623879346019342,1.6091859374219266,-1.1194909687215293,-1.2857377279485118,0.9585464930884179,-2.0409079776428296,-0.3516153660537357,1.1247468667742029,-0.6225409273299736,-0.881020925119876,-0.6288513210560867,1.0181706822135164,0.43486023954956127,1.0735404839177463,-0.8360456949946155,-1.3071731796213288,-0.07262526518920134,0.5259937944952808,0.7758932426331349,-1.2246509725047636,0.7812189441750645,-0.9343539498244041,-0.1670384776565554,1.090640883944806,-1.2034828032498064,0.25473828806871673,0.8635343083832683,0.3625951607961471,-0.2195462221424108,-0.7390148935282446,0.2050754290124465,-0.5872703781784867,0.6724208793894313,0.4445472943607837,0.6485431478865128,-0.013995098131496525,-1.8286239296369833,0.4379298665364222,0.36020393470459283,-0.055472205298219925,-0.9817455885806337,-1.0867258660214782,0.9792867549289266,-0.39095614962872743,-1.2431321852725168,0.6483194288423902,-0.7920970509807383,-0.3546536488679633,-1.6103360489908431,1.3053501829720535,1.145556735167566,-0.6264207226268598,-0.21363957491562746,-0.6847452297725517,1.2131865236514339,-1.7478252431183574,1.209465948879976,0.43519122902619073,-0.15306143209734444,-1.3114763939089504,-0.2031965018915055,-1.5469322006075121,0.45462915216522054],\"yaxis\":\"y15\"},{\"histfunc\":\"count\",\"histnorm\":\"\",\"marker\":{\"color\":\"rgba(128, 0, 128, 1.0)\",\"line\":{\"color\":\"#4D5663\",\"width\":1.3}},\"name\":\"D\",\"nbinsx\":10,\"opacity\":0.8,\"orientation\":\"v\",\"type\":\"histogram\",\"x\":[1.1927052467737471,0.6823505953261061,-1.7699977924906336,-0.4409417245274874,-0.4027560996259744,1.3855538454435494,0.25941520948138114,0.45409670225836857,-1.828238319014977,-0.2430449199174727,0.2647028823015733,1.4415053080261364,1.073705430987225,0.4866361960213816,1.4824416894323167,0.07105310534559514,0.13215237042095185,-1.2120350758827654,0.6581602382531442,-0.7675070609238718,0.9668208021638547,-0.7946618684229247,1.7144331828714836,0.6183624129108227,0.32792919874517806,-1.4384318058696666,-1.896424554138019,1.3936239781195967,-0.5608297156821659,0.6174363013840861,-0.3920373006091651,0.9361108376422885,-1.215021028570566,0.8401590571870553,2.3185983729391744,0.2455730696322708,0.19536172069491808,1.4623879346019342,1.6091859374219266,-1.1194909687215293,-1.2857377279485118,0.9585464930884179,-2.0409079776428296,-0.3516153660537357,1.1247468667742029,-0.6225409273299736,-0.881020925119876,-0.6288513210560867,1.0181706822135164,0.43486023954956127,1.0735404839177463,-0.8360456949946155,-1.3071731796213288,-0.07262526518920134,0.5259937944952808,0.7758932426331349,-1.2246509725047636,0.7812189441750645,-0.9343539498244041,-0.1670384776565554,1.090640883944806,-1.2034828032498064,0.25473828806871673,0.8635343083832683,0.3625951607961471,-0.2195462221424108,-0.7390148935282446,0.2050754290124465,-0.5872703781784867,0.6724208793894313,0.4445472943607837,0.6485431478865128,-0.013995098131496525,-1.8286239296369833,0.4379298665364222,0.36020393470459283,-0.055472205298219925,-0.9817455885806337,-1.0867258660214782,0.9792867549289266,-0.39095614962872743,-1.2431321852725168,0.6483194288423902,-0.7920970509807383,-0.3546536488679633,-1.6103360489908431,1.3053501829720535,1.145556735167566,-0.6264207226268598,-0.21363957491562746,-0.6847452297725517,1.2131865236514339,-1.7478252431183574,1.209465948879976,0.43519122902619073,-0.15306143209734444,-1.3114763939089504,-0.2031965018915055,-1.5469322006075121,0.45462915216522054],\"xaxis\":\"x16\",\"yaxis\":\"y16\"}],                        {\"bargap\":0.02,\"legend\":{\"bgcolor\":\"#F5F6F9\",\"font\":{\"color\":\"#4D5663\"}},\"paper_bgcolor\":\"#F5F6F9\",\"plot_bgcolor\":\"#F5F6F9\",\"showlegend\":false,\"template\":{\"data\":{\"bar\":[{\"error_x\":{\"color\":\"#2a3f5f\"},\"error_y\":{\"color\":\"#2a3f5f\"},\"marker\":{\"line\":{\"color\":\"#E5ECF6\",\"width\":0.5},\"pattern\":{\"fillmode\":\"overlay\",\"size\":10,\"solidity\":0.2}},\"type\":\"bar\"}],\"barpolar\":[{\"marker\":{\"line\":{\"color\":\"#E5ECF6\",\"width\":0.5},\"pattern\":{\"fillmode\":\"overlay\",\"size\":10,\"solidity\":0.2}},\"type\":\"barpolar\"}],\"carpet\":[{\"aaxis\":{\"endlinecolor\":\"#2a3f5f\",\"gridcolor\":\"white\",\"linecolor\":\"white\",\"minorgridcolor\":\"white\",\"startlinecolor\":\"#2a3f5f\"},\"baxis\":{\"endlinecolor\":\"#2a3f5f\",\"gridcolor\":\"white\",\"linecolor\":\"white\",\"minorgridcolor\":\"white\",\"startlinecolor\":\"#2a3f5f\"},\"type\":\"carpet\"}],\"choropleth\":[{\"colorbar\":{\"outlinewidth\":0,\"ticks\":\"\"},\"type\":\"choropleth\"}],\"contour\":[{\"colorbar\":{\"outlinewidth\":0,\"ticks\":\"\"},\"colorscale\":[[0.0,\"#0d0887\"],[0.1111111111111111,\"#46039f\"],[0.2222222222222222,\"#7201a8\"],[0.3333333333333333,\"#9c179e\"],[0.4444444444444444,\"#bd3786\"],[0.5555555555555556,\"#d8576b\"],[0.6666666666666666,\"#ed7953\"],[0.7777777777777778,\"#fb9f3a\"],[0.8888888888888888,\"#fdca26\"],[1.0,\"#f0f921\"]],\"type\":\"contour\"}],\"contourcarpet\":[{\"colorbar\":{\"outlinewidth\":0,\"ticks\":\"\"},\"type\":\"contourcarpet\"}],\"heatmap\":[{\"colorbar\":{\"outlinewidth\":0,\"ticks\":\"\"},\"colorscale\":[[0.0,\"#0d0887\"],[0.1111111111111111,\"#46039f\"],[0.2222222222222222,\"#7201a8\"],[0.3333333333333333,\"#9c179e\"],[0.4444444444444444,\"#bd3786\"],[0.5555555555555556,\"#d8576b\"],[0.6666666666666666,\"#ed7953\"],[0.7777777777777778,\"#fb9f3a\"],[0.8888888888888888,\"#fdca26\"],[1.0,\"#f0f921\"]],\"type\":\"heatmap\"}],\"heatmapgl\":[{\"colorbar\":{\"outlinewidth\":0,\"ticks\":\"\"},\"colorscale\":[[0.0,\"#0d0887\"],[0.1111111111111111,\"#46039f\"],[0.2222222222222222,\"#7201a8\"],[0.3333333333333333,\"#9c179e\"],[0.4444444444444444,\"#bd3786\"],[0.5555555555555556,\"#d8576b\"],[0.6666666666666666,\"#ed7953\"],[0.7777777777777778,\"#fb9f3a\"],[0.8888888888888888,\"#fdca26\"],[1.0,\"#f0f921\"]],\"type\":\"heatmapgl\"}],\"histogram\":[{\"marker\":{\"pattern\":{\"fillmode\":\"overlay\",\"size\":10,\"solidity\":0.2}},\"type\":\"histogram\"}],\"histogram2d\":[{\"colorbar\":{\"outlinewidth\":0,\"ticks\":\"\"},\"colorscale\":[[0.0,\"#0d0887\"],[0.1111111111111111,\"#46039f\"],[0.2222222222222222,\"#7201a8\"],[0.3333333333333333,\"#9c179e\"],[0.4444444444444444,\"#bd3786\"],[0.5555555555555556,\"#d8576b\"],[0.6666666666666666,\"#ed7953\"],[0.7777777777777778,\"#fb9f3a\"],[0.8888888888888888,\"#fdca26\"],[1.0,\"#f0f921\"]],\"type\":\"histogram2d\"}],\"histogram2dcontour\":[{\"colorbar\":{\"outlinewidth\":0,\"ticks\":\"\"},\"colorscale\":[[0.0,\"#0d0887\"],[0.1111111111111111,\"#46039f\"],[0.2222222222222222,\"#7201a8\"],[0.3333333333333333,\"#9c179e\"],[0.4444444444444444,\"#bd3786\"],[0.5555555555555556,\"#d8576b\"],[0.6666666666666666,\"#ed7953\"],[0.7777777777777778,\"#fb9f3a\"],[0.8888888888888888,\"#fdca26\"],[1.0,\"#f0f921\"]],\"type\":\"histogram2dcontour\"}],\"mesh3d\":[{\"colorbar\":{\"outlinewidth\":0,\"ticks\":\"\"},\"type\":\"mesh3d\"}],\"parcoords\":[{\"line\":{\"colorbar\":{\"outlinewidth\":0,\"ticks\":\"\"}},\"type\":\"parcoords\"}],\"pie\":[{\"automargin\":true,\"type\":\"pie\"}],\"scatter\":[{\"marker\":{\"colorbar\":{\"outlinewidth\":0,\"ticks\":\"\"}},\"type\":\"scatter\"}],\"scatter3d\":[{\"line\":{\"colorbar\":{\"outlinewidth\":0,\"ticks\":\"\"}},\"marker\":{\"colorbar\":{\"outlinewidth\":0,\"ticks\":\"\"}},\"type\":\"scatter3d\"}],\"scattercarpet\":[{\"marker\":{\"colorbar\":{\"outlinewidth\":0,\"ticks\":\"\"}},\"type\":\"scattercarpet\"}],\"scattergeo\":[{\"marker\":{\"colorbar\":{\"outlinewidth\":0,\"ticks\":\"\"}},\"type\":\"scattergeo\"}],\"scattergl\":[{\"marker\":{\"colorbar\":{\"outlinewidth\":0,\"ticks\":\"\"}},\"type\":\"scattergl\"}],\"scattermapbox\":[{\"marker\":{\"colorbar\":{\"outlinewidth\":0,\"ticks\":\"\"}},\"type\":\"scattermapbox\"}],\"scatterpolar\":[{\"marker\":{\"colorbar\":{\"outlinewidth\":0,\"ticks\":\"\"}},\"type\":\"scatterpolar\"}],\"scatterpolargl\":[{\"marker\":{\"colorbar\":{\"outlinewidth\":0,\"ticks\":\"\"}},\"type\":\"scatterpolargl\"}],\"scatterternary\":[{\"marker\":{\"colorbar\":{\"outlinewidth\":0,\"ticks\":\"\"}},\"type\":\"scatterternary\"}],\"surface\":[{\"colorbar\":{\"outlinewidth\":0,\"ticks\":\"\"},\"colorscale\":[[0.0,\"#0d0887\"],[0.1111111111111111,\"#46039f\"],[0.2222222222222222,\"#7201a8\"],[0.3333333333333333,\"#9c179e\"],[0.4444444444444444,\"#bd3786\"],[0.5555555555555556,\"#d8576b\"],[0.6666666666666666,\"#ed7953\"],[0.7777777777777778,\"#fb9f3a\"],[0.8888888888888888,\"#fdca26\"],[1.0,\"#f0f921\"]],\"type\":\"surface\"}],\"table\":[{\"cells\":{\"fill\":{\"color\":\"#EBF0F8\"},\"line\":{\"color\":\"white\"}},\"header\":{\"fill\":{\"color\":\"#C8D4E3\"},\"line\":{\"color\":\"white\"}},\"type\":\"table\"}]},\"layout\":{\"annotationdefaults\":{\"arrowcolor\":\"#2a3f5f\",\"arrowhead\":0,\"arrowwidth\":1},\"autotypenumbers\":\"strict\",\"coloraxis\":{\"colorbar\":{\"outlinewidth\":0,\"ticks\":\"\"}},\"colorscale\":{\"diverging\":[[0,\"#8e0152\"],[0.1,\"#c51b7d\"],[0.2,\"#de77ae\"],[0.3,\"#f1b6da\"],[0.4,\"#fde0ef\"],[0.5,\"#f7f7f7\"],[0.6,\"#e6f5d0\"],[0.7,\"#b8e186\"],[0.8,\"#7fbc41\"],[0.9,\"#4d9221\"],[1,\"#276419\"]],\"sequential\":[[0.0,\"#0d0887\"],[0.1111111111111111,\"#46039f\"],[0.2222222222222222,\"#7201a8\"],[0.3333333333333333,\"#9c179e\"],[0.4444444444444444,\"#bd3786\"],[0.5555555555555556,\"#d8576b\"],[0.6666666666666666,\"#ed7953\"],[0.7777777777777778,\"#fb9f3a\"],[0.8888888888888888,\"#fdca26\"],[1.0,\"#f0f921\"]],\"sequentialminus\":[[0.0,\"#0d0887\"],[0.1111111111111111,\"#46039f\"],[0.2222222222222222,\"#7201a8\"],[0.3333333333333333,\"#9c179e\"],[0.4444444444444444,\"#bd3786\"],[0.5555555555555556,\"#d8576b\"],[0.6666666666666666,\"#ed7953\"],[0.7777777777777778,\"#fb9f3a\"],[0.8888888888888888,\"#fdca26\"],[1.0,\"#f0f921\"]]},\"colorway\":[\"#636efa\",\"#EF553B\",\"#00cc96\",\"#ab63fa\",\"#FFA15A\",\"#19d3f3\",\"#FF6692\",\"#B6E880\",\"#FF97FF\",\"#FECB52\"],\"font\":{\"color\":\"#2a3f5f\"},\"geo\":{\"bgcolor\":\"white\",\"lakecolor\":\"white\",\"landcolor\":\"#E5ECF6\",\"showlakes\":true,\"showland\":true,\"subunitcolor\":\"white\"},\"hoverlabel\":{\"align\":\"left\"},\"hovermode\":\"closest\",\"mapbox\":{\"style\":\"light\"},\"paper_bgcolor\":\"white\",\"plot_bgcolor\":\"#E5ECF6\",\"polar\":{\"angularaxis\":{\"gridcolor\":\"white\",\"linecolor\":\"white\",\"ticks\":\"\"},\"bgcolor\":\"#E5ECF6\",\"radialaxis\":{\"gridcolor\":\"white\",\"linecolor\":\"white\",\"ticks\":\"\"}},\"scene\":{\"xaxis\":{\"backgroundcolor\":\"#E5ECF6\",\"gridcolor\":\"white\",\"gridwidth\":2,\"linecolor\":\"white\",\"showbackground\":true,\"ticks\":\"\",\"zerolinecolor\":\"white\"},\"yaxis\":{\"backgroundcolor\":\"#E5ECF6\",\"gridcolor\":\"white\",\"gridwidth\":2,\"linecolor\":\"white\",\"showbackground\":true,\"ticks\":\"\",\"zerolinecolor\":\"white\"},\"zaxis\":{\"backgroundcolor\":\"#E5ECF6\",\"gridcolor\":\"white\",\"gridwidth\":2,\"linecolor\":\"white\",\"showbackground\":true,\"ticks\":\"\",\"zerolinecolor\":\"white\"}},\"shapedefaults\":{\"line\":{\"color\":\"#2a3f5f\"}},\"ternary\":{\"aaxis\":{\"gridcolor\":\"white\",\"linecolor\":\"white\",\"ticks\":\"\"},\"baxis\":{\"gridcolor\":\"white\",\"linecolor\":\"white\",\"ticks\":\"\"},\"bgcolor\":\"#E5ECF6\",\"caxis\":{\"gridcolor\":\"white\",\"linecolor\":\"white\",\"ticks\":\"\"}},\"title\":{\"x\":0.05},\"xaxis\":{\"automargin\":true,\"gridcolor\":\"white\",\"linecolor\":\"white\",\"ticks\":\"\",\"title\":{\"standoff\":15},\"zerolinecolor\":\"white\",\"zerolinewidth\":2},\"yaxis\":{\"automargin\":true,\"gridcolor\":\"white\",\"linecolor\":\"white\",\"ticks\":\"\",\"title\":{\"standoff\":15},\"zerolinecolor\":\"white\",\"zerolinewidth\":2}}},\"title\":{\"font\":{\"color\":\"#4D5663\"}},\"xaxis\":{\"anchor\":\"y\",\"domain\":[0.0,0.2125],\"gridcolor\":\"#E1E5ED\",\"showgrid\":false,\"tickfont\":{\"color\":\"#4D5663\"},\"title\":{\"font\":{\"color\":\"#4D5663\"},\"text\":\"\"},\"zerolinecolor\":\"#E1E5ED\"},\"xaxis10\":{\"anchor\":\"y10\",\"domain\":[0.2625,0.475],\"gridcolor\":\"#E1E5ED\",\"showgrid\":false,\"tickfont\":{\"color\":\"#4D5663\"},\"title\":{\"font\":{\"color\":\"#4D5663\"},\"text\":\"\"},\"zerolinecolor\":\"#E1E5ED\"},\"xaxis11\":{\"anchor\":\"y11\",\"domain\":[0.525,0.7375],\"gridcolor\":\"#E1E5ED\",\"showgrid\":false,\"tickfont\":{\"color\":\"#4D5663\"},\"title\":{\"font\":{\"color\":\"#4D5663\"},\"text\":\"\"},\"zerolinecolor\":\"#E1E5ED\"},\"xaxis12\":{\"anchor\":\"y12\",\"domain\":[0.7875,1.0],\"gridcolor\":\"#E1E5ED\",\"showgrid\":false,\"tickfont\":{\"color\":\"#4D5663\"},\"title\":{\"font\":{\"color\":\"#4D5663\"},\"text\":\"\"},\"zerolinecolor\":\"#E1E5ED\"},\"xaxis13\":{\"anchor\":\"y13\",\"domain\":[0.0,0.2125],\"gridcolor\":\"#E1E5ED\",\"showgrid\":false,\"tickfont\":{\"color\":\"#4D5663\"},\"title\":{\"font\":{\"color\":\"#4D5663\"},\"text\":\"\"},\"zerolinecolor\":\"#E1E5ED\"},\"xaxis14\":{\"anchor\":\"y14\",\"domain\":[0.2625,0.475],\"gridcolor\":\"#E1E5ED\",\"showgrid\":false,\"tickfont\":{\"color\":\"#4D5663\"},\"title\":{\"font\":{\"color\":\"#4D5663\"},\"text\":\"\"},\"zerolinecolor\":\"#E1E5ED\"},\"xaxis15\":{\"anchor\":\"y15\",\"domain\":[0.525,0.7375],\"gridcolor\":\"#E1E5ED\",\"showgrid\":false,\"tickfont\":{\"color\":\"#4D5663\"},\"title\":{\"font\":{\"color\":\"#4D5663\"},\"text\":\"\"},\"zerolinecolor\":\"#E1E5ED\"},\"xaxis16\":{\"anchor\":\"y16\",\"domain\":[0.7875,1.0],\"gridcolor\":\"#E1E5ED\",\"showgrid\":false,\"tickfont\":{\"color\":\"#4D5663\"},\"title\":{\"font\":{\"color\":\"#4D5663\"},\"text\":\"\"},\"zerolinecolor\":\"#E1E5ED\"},\"xaxis2\":{\"anchor\":\"y2\",\"domain\":[0.2625,0.475],\"gridcolor\":\"#E1E5ED\",\"showgrid\":false,\"tickfont\":{\"color\":\"#4D5663\"},\"title\":{\"font\":{\"color\":\"#4D5663\"},\"text\":\"\"},\"zerolinecolor\":\"#E1E5ED\"},\"xaxis3\":{\"anchor\":\"y3\",\"domain\":[0.525,0.7375],\"gridcolor\":\"#E1E5ED\",\"showgrid\":false,\"tickfont\":{\"color\":\"#4D5663\"},\"title\":{\"font\":{\"color\":\"#4D5663\"},\"text\":\"\"},\"zerolinecolor\":\"#E1E5ED\"},\"xaxis4\":{\"anchor\":\"y4\",\"domain\":[0.7875,1.0],\"gridcolor\":\"#E1E5ED\",\"showgrid\":false,\"tickfont\":{\"color\":\"#4D5663\"},\"title\":{\"font\":{\"color\":\"#4D5663\"},\"text\":\"\"},\"zerolinecolor\":\"#E1E5ED\"},\"xaxis5\":{\"anchor\":\"y5\",\"domain\":[0.0,0.2125],\"gridcolor\":\"#E1E5ED\",\"showgrid\":false,\"tickfont\":{\"color\":\"#4D5663\"},\"title\":{\"font\":{\"color\":\"#4D5663\"},\"text\":\"\"},\"zerolinecolor\":\"#E1E5ED\"},\"xaxis6\":{\"anchor\":\"y6\",\"domain\":[0.2625,0.475],\"gridcolor\":\"#E1E5ED\",\"showgrid\":false,\"tickfont\":{\"color\":\"#4D5663\"},\"title\":{\"font\":{\"color\":\"#4D5663\"},\"text\":\"\"},\"zerolinecolor\":\"#E1E5ED\"},\"xaxis7\":{\"anchor\":\"y7\",\"domain\":[0.525,0.7375],\"gridcolor\":\"#E1E5ED\",\"showgrid\":false,\"tickfont\":{\"color\":\"#4D5663\"},\"title\":{\"font\":{\"color\":\"#4D5663\"},\"text\":\"\"},\"zerolinecolor\":\"#E1E5ED\"},\"xaxis8\":{\"anchor\":\"y8\",\"domain\":[0.7875,1.0],\"gridcolor\":\"#E1E5ED\",\"showgrid\":false,\"tickfont\":{\"color\":\"#4D5663\"},\"title\":{\"font\":{\"color\":\"#4D5663\"},\"text\":\"\"},\"zerolinecolor\":\"#E1E5ED\"},\"xaxis9\":{\"anchor\":\"y9\",\"domain\":[0.0,0.2125],\"gridcolor\":\"#E1E5ED\",\"showgrid\":false,\"tickfont\":{\"color\":\"#4D5663\"},\"title\":{\"font\":{\"color\":\"#4D5663\"},\"text\":\"\"},\"zerolinecolor\":\"#E1E5ED\"},\"yaxis\":{\"anchor\":\"x\",\"domain\":[0.8025,1.0],\"gridcolor\":\"#E1E5ED\",\"showgrid\":false,\"tickfont\":{\"color\":\"#4D5663\"},\"title\":{\"font\":{\"color\":\"#4D5663\"},\"text\":\"\"},\"zerolinecolor\":\"#E1E5ED\"},\"yaxis10\":{\"anchor\":\"x10\",\"domain\":[0.2675,0.465],\"gridcolor\":\"#E1E5ED\",\"showgrid\":false,\"tickfont\":{\"color\":\"#4D5663\"},\"title\":{\"font\":{\"color\":\"#4D5663\"},\"text\":\"\"},\"zerolinecolor\":\"#E1E5ED\"},\"yaxis11\":{\"anchor\":\"x11\",\"domain\":[0.2675,0.465],\"gridcolor\":\"#E1E5ED\",\"showgrid\":false,\"tickfont\":{\"color\":\"#4D5663\"},\"title\":{\"font\":{\"color\":\"#4D5663\"},\"text\":\"\"},\"zerolinecolor\":\"#E1E5ED\"},\"yaxis12\":{\"anchor\":\"x12\",\"domain\":[0.2675,0.465],\"gridcolor\":\"#E1E5ED\",\"showgrid\":false,\"tickfont\":{\"color\":\"#4D5663\"},\"title\":{\"font\":{\"color\":\"#4D5663\"},\"text\":\"\"},\"zerolinecolor\":\"#E1E5ED\"},\"yaxis13\":{\"anchor\":\"x13\",\"domain\":[0.0,0.1975],\"gridcolor\":\"#E1E5ED\",\"showgrid\":false,\"tickfont\":{\"color\":\"#4D5663\"},\"title\":{\"font\":{\"color\":\"#4D5663\"},\"text\":\"\"},\"zerolinecolor\":\"#E1E5ED\"},\"yaxis14\":{\"anchor\":\"x14\",\"domain\":[0.0,0.1975],\"gridcolor\":\"#E1E5ED\",\"showgrid\":false,\"tickfont\":{\"color\":\"#4D5663\"},\"title\":{\"font\":{\"color\":\"#4D5663\"},\"text\":\"\"},\"zerolinecolor\":\"#E1E5ED\"},\"yaxis15\":{\"anchor\":\"x15\",\"domain\":[0.0,0.1975],\"gridcolor\":\"#E1E5ED\",\"showgrid\":false,\"tickfont\":{\"color\":\"#4D5663\"},\"title\":{\"font\":{\"color\":\"#4D5663\"},\"text\":\"\"},\"zerolinecolor\":\"#E1E5ED\"},\"yaxis16\":{\"anchor\":\"x16\",\"domain\":[0.0,0.1975],\"gridcolor\":\"#E1E5ED\",\"showgrid\":false,\"tickfont\":{\"color\":\"#4D5663\"},\"title\":{\"font\":{\"color\":\"#4D5663\"},\"text\":\"\"},\"zerolinecolor\":\"#E1E5ED\"},\"yaxis2\":{\"anchor\":\"x2\",\"domain\":[0.8025,1.0],\"gridcolor\":\"#E1E5ED\",\"showgrid\":false,\"tickfont\":{\"color\":\"#4D5663\"},\"title\":{\"font\":{\"color\":\"#4D5663\"},\"text\":\"\"},\"zerolinecolor\":\"#E1E5ED\"},\"yaxis3\":{\"anchor\":\"x3\",\"domain\":[0.8025,1.0],\"gridcolor\":\"#E1E5ED\",\"showgrid\":false,\"tickfont\":{\"color\":\"#4D5663\"},\"title\":{\"font\":{\"color\":\"#4D5663\"},\"text\":\"\"},\"zerolinecolor\":\"#E1E5ED\"},\"yaxis4\":{\"anchor\":\"x4\",\"domain\":[0.8025,1.0],\"gridcolor\":\"#E1E5ED\",\"showgrid\":false,\"tickfont\":{\"color\":\"#4D5663\"},\"title\":{\"font\":{\"color\":\"#4D5663\"},\"text\":\"\"},\"zerolinecolor\":\"#E1E5ED\"},\"yaxis5\":{\"anchor\":\"x5\",\"domain\":[0.535,0.7325],\"gridcolor\":\"#E1E5ED\",\"showgrid\":false,\"tickfont\":{\"color\":\"#4D5663\"},\"title\":{\"font\":{\"color\":\"#4D5663\"},\"text\":\"\"},\"zerolinecolor\":\"#E1E5ED\"},\"yaxis6\":{\"anchor\":\"x6\",\"domain\":[0.535,0.7325],\"gridcolor\":\"#E1E5ED\",\"showgrid\":false,\"tickfont\":{\"color\":\"#4D5663\"},\"title\":{\"font\":{\"color\":\"#4D5663\"},\"text\":\"\"},\"zerolinecolor\":\"#E1E5ED\"},\"yaxis7\":{\"anchor\":\"x7\",\"domain\":[0.535,0.7325],\"gridcolor\":\"#E1E5ED\",\"showgrid\":false,\"tickfont\":{\"color\":\"#4D5663\"},\"title\":{\"font\":{\"color\":\"#4D5663\"},\"text\":\"\"},\"zerolinecolor\":\"#E1E5ED\"},\"yaxis8\":{\"anchor\":\"x8\",\"domain\":[0.535,0.7325],\"gridcolor\":\"#E1E5ED\",\"showgrid\":false,\"tickfont\":{\"color\":\"#4D5663\"},\"title\":{\"font\":{\"color\":\"#4D5663\"},\"text\":\"\"},\"zerolinecolor\":\"#E1E5ED\"},\"yaxis9\":{\"anchor\":\"x9\",\"domain\":[0.2675,0.465],\"gridcolor\":\"#E1E5ED\",\"showgrid\":false,\"tickfont\":{\"color\":\"#4D5663\"},\"title\":{\"font\":{\"color\":\"#4D5663\"},\"text\":\"\"},\"zerolinecolor\":\"#E1E5ED\"}},                        {\"showLink\": true, \"linkText\": \"Export to plot.ly\", \"plotlyServerURL\": \"https://plot.ly\", \"responsive\": true}                    ).then(function(){\n",
       "                            \n",
       "var gd = document.getElementById('9535dd01-85ec-4bef-b4ea-afb3a302e9ea');\n",
       "var x = new MutationObserver(function (mutations, observer) {{\n",
       "        var display = window.getComputedStyle(gd).display;\n",
       "        if (!display || display === 'none') {{\n",
       "            console.log([gd, 'removed!']);\n",
       "            Plotly.purge(gd);\n",
       "            observer.disconnect();\n",
       "        }}\n",
       "}});\n",
       "\n",
       "// Listen for the removal of the full notebook cells\n",
       "var notebookContainer = gd.closest('#notebook-container');\n",
       "if (notebookContainer) {{\n",
       "    x.observe(notebookContainer, {childList: true});\n",
       "}}\n",
       "\n",
       "// Listen for the clearing of the current output cell\n",
       "var outputEl = gd.closest('.output');\n",
       "if (outputEl) {{\n",
       "    x.observe(outputEl, {childList: true});\n",
       "}}\n",
       "\n",
       "                        })                };                });            </script>        </div>"
      ],
      "application/vnd.plotly.v1+json": {
       "config": {
        "linkText": "Export to plot.ly",
        "plotlyServerURL": "https://plot.ly",
        "showLink": true
       },
       "data": [
        {
         "histfunc": "count",
         "histnorm": "",
         "marker": {
          "color": "rgba(255, 153, 51, 1.0)",
          "line": {
           "color": "#4D5663",
           "width": 1.3
          }
         },
         "name": "A",
         "nbinsx": 10,
         "opacity": 0.8,
         "orientation": "v",
         "type": "histogram",
         "x": [
          0.42860790047642905,
          -0.24150461408966148,
          0.8033352317583001,
          -0.4541726165268112,
          -0.9932670897240472,
          -1.6407185774656428,
          1.0292734271511936,
          0.717201122535486,
          -0.8328302557547055,
          -0.29479504395009437,
          -0.7876330322200155,
          1.013825910413848,
          -0.6145438366960542,
          -0.42143338248421097,
          1.0861506220781272,
          1.520376664474774,
          -0.01777198223317564,
          -1.6643908381651553,
          0.08997243361014205,
          0.1814431345228801,
          -0.7291269758207538,
          0.30441811909622163,
          -0.3331215193748714,
          -2.443509759910543,
          1.4038049617436101,
          -0.5289496253542012,
          0.5762209244034456,
          1.7473983249450766,
          1.1750635751298635,
          0.3439285942573213,
          0.06695512250429193,
          -1.358152089819541,
          1.3259956980602265,
          0.9230291574367999,
          2.1274268735237967,
          0.01609166317697218,
          -0.008794112180982546,
          -0.13078079279846982,
          -0.9773233004907493,
          0.42408560898470316,
          0.4781801921439303,
          -1.2302375288956056,
          -2.215534588013989,
          -0.6173209910577786,
          0.6873014952127062,
          -0.20768023471795324,
          1.3807411511048835,
          1.5676923985995384,
          -1.3535828954722193,
          0.6688398215891643,
          -1.9417660542959037,
          0.6086396296874507,
          -1.6891089331095988,
          0.8404967201254736,
          -0.25611772522792703,
          0.5649218453129284,
          -1.2455400184288734,
          0.08511126958214074,
          -1.2445956780254495,
          0.693274162901264,
          -0.555786574996747,
          0.014188061775017123,
          0.5756404633679048,
          -0.07502021616099822,
          0.8196550337696089,
          0.14719285707343466,
          2.0721531962168656,
          -0.05089514477070536,
          0.9178935846337136,
          0.8082192273766469,
          -0.9342785145415695,
          -0.7892361220520734,
          -1.0528167075806287,
          -0.900300147200952,
          -0.06378348260655418,
          -1.4058717991735044,
          -0.04637611154553381,
          -0.45343802555693713,
          0.3609959799788183,
          -0.9321964504655148,
          1.9639263256216999,
          -0.8513017162060174,
          -1.177257530160419,
          0.25079731529057353,
          -0.6455488140585096,
          -0.3597892849349049,
          -0.3522676026628601,
          0.03400583986455085,
          -0.4119885784095581,
          -0.668910236483875,
          0.6638172609013666,
          -0.09892944489312143,
          -1.9553751667413874,
          1.0932030834818462,
          0.7807217842469781,
          0.8029768142523035,
          -1.2272581484898053,
          -0.6477754460806492,
          1.9529843160513334,
          -0.84237910998657
         ],
         "xaxis": "x",
         "yaxis": "y"
        },
        {
         "line": {
          "color": "rgba(128, 128, 128, 1.0)",
          "dash": "solid",
          "shape": "linear",
          "width": 1.3
         },
         "marker": {
          "size": 2,
          "symbol": "circle"
         },
         "mode": "markers",
         "name": "A",
         "text": "",
         "type": "scatter",
         "x": [
          -0.39325974971391525,
          0.05564646570619147,
          0.34780196590089396,
          1.6734131674208959,
          -0.023029982837105743,
          1.0012476696632717,
          0.18703713105734537,
          1.262120083305586,
          -0.8113828042042744,
          -0.36389618183312794,
          0.3182825345578306,
          0.26561207372775414,
          -0.31710083987767906,
          0.3307012661878355,
          -0.3827743646829566,
          -0.07784500406315373,
          0.07184939550950868,
          1.8600532821137243,
          -1.3966157050739068,
          0.6640713923826992,
          -0.8492037274388488,
          -0.6263363686461829,
          1.6250038488954621,
          -0.5236195883778583,
          -2.16345391306942,
          1.3029655695823983,
          0.2283173236958734,
          1.7370577014233897,
          -0.029732253191304518,
          -2.0533396952947993,
          -0.0015571473203474543,
          1.1581858115689212,
          0.6129394841978791,
          2.784380155305771,
          -0.7314673000828203,
          0.3385127274541624,
          -0.7687161829470321,
          1.543242396773852,
          -0.717193509958402,
          0.37699569673225664,
          -1.2396619940727844,
          0.4550492681869588,
          -2.0543094997835243,
          1.3600779678873771,
          -1.244574082682165,
          -2.1843312309789535,
          -0.6296399403616632,
          0.2871687175955069,
          -1.8976766970498358,
          -1.746810132351409,
          1.1721777502639719,
          0.12975308001389982,
          -0.906679091917525,
          -0.8235255560578126,
          1.629416680723812,
          -0.3258256193559577,
          0.3183405316268972,
          0.19960564744461226,
          -2.350317827213011,
          0.5704819720769283,
          -0.572177939912174,
          0.47504228909483914,
          0.9978013795099565,
          0.03284178097168736,
          1.7998520265955422,
          1.1791578061649604,
          0.6725374757403919,
          -0.18452181673013568,
          -1.3271976219839603,
          -1.4712235163192122,
          1.5058786374354427,
          0.20716152593826656,
          -0.8002141505754706,
          -0.23591613710914958,
          0.4176022846377921,
          -0.7322776036272107,
          -0.7501160039715231,
          0.2246809529639941,
          0.49107947550493974,
          -1.366060904827018,
          -1.873047410185736,
          0.5962151440823994,
          0.17473240351086952,
          -0.25176512171647975,
          0.8296301643863834,
          -0.17204697391626958,
          1.524750974056855,
          1.4053490752537185,
          -1.2809051231732484,
          0.49433207086912184,
          0.13477043390008417,
          -0.7369883578766098,
          -1.6833329347466606,
          -1.1611543228587384,
          0.16417302030913833,
          -2.55392965531275,
          0.554411998328491,
          0.9248809515936174,
          0.07974476121974629,
          1.244761109401404
         ],
         "xaxis": "x2",
         "y": [
          0.42860790047642905,
          -0.24150461408966148,
          0.8033352317583001,
          -0.4541726165268112,
          -0.9932670897240472,
          -1.6407185774656428,
          1.0292734271511936,
          0.717201122535486,
          -0.8328302557547055,
          -0.29479504395009437,
          -0.7876330322200155,
          1.013825910413848,
          -0.6145438366960542,
          -0.42143338248421097,
          1.0861506220781272,
          1.520376664474774,
          -0.01777198223317564,
          -1.6643908381651553,
          0.08997243361014205,
          0.1814431345228801,
          -0.7291269758207538,
          0.30441811909622163,
          -0.3331215193748714,
          -2.443509759910543,
          1.4038049617436101,
          -0.5289496253542012,
          0.5762209244034456,
          1.7473983249450766,
          1.1750635751298635,
          0.3439285942573213,
          0.06695512250429193,
          -1.358152089819541,
          1.3259956980602265,
          0.9230291574367999,
          2.1274268735237967,
          0.01609166317697218,
          -0.008794112180982546,
          -0.13078079279846982,
          -0.9773233004907493,
          0.42408560898470316,
          0.4781801921439303,
          -1.2302375288956056,
          -2.215534588013989,
          -0.6173209910577786,
          0.6873014952127062,
          -0.20768023471795324,
          1.3807411511048835,
          1.5676923985995384,
          -1.3535828954722193,
          0.6688398215891643,
          -1.9417660542959037,
          0.6086396296874507,
          -1.6891089331095988,
          0.8404967201254736,
          -0.25611772522792703,
          0.5649218453129284,
          -1.2455400184288734,
          0.08511126958214074,
          -1.2445956780254495,
          0.693274162901264,
          -0.555786574996747,
          0.014188061775017123,
          0.5756404633679048,
          -0.07502021616099822,
          0.8196550337696089,
          0.14719285707343466,
          2.0721531962168656,
          -0.05089514477070536,
          0.9178935846337136,
          0.8082192273766469,
          -0.9342785145415695,
          -0.7892361220520734,
          -1.0528167075806287,
          -0.900300147200952,
          -0.06378348260655418,
          -1.4058717991735044,
          -0.04637611154553381,
          -0.45343802555693713,
          0.3609959799788183,
          -0.9321964504655148,
          1.9639263256216999,
          -0.8513017162060174,
          -1.177257530160419,
          0.25079731529057353,
          -0.6455488140585096,
          -0.3597892849349049,
          -0.3522676026628601,
          0.03400583986455085,
          -0.4119885784095581,
          -0.668910236483875,
          0.6638172609013666,
          -0.09892944489312143,
          -1.9553751667413874,
          1.0932030834818462,
          0.7807217842469781,
          0.8029768142523035,
          -1.2272581484898053,
          -0.6477754460806492,
          1.9529843160513334,
          -0.84237910998657
         ],
         "yaxis": "y2"
        },
        {
         "line": {
          "color": "rgba(128, 128, 128, 1.0)",
          "dash": "solid",
          "shape": "linear",
          "width": 1.3
         },
         "marker": {
          "size": 2,
          "symbol": "circle"
         },
         "mode": "markers",
         "name": "A",
         "text": "",
         "type": "scatter",
         "x": [
          0.20867975771520808,
          -0.539968732680375,
          -0.10451406860936421,
          0.6807906941541452,
          -0.6237061132537227,
          1.1645819493681946,
          -0.20319634501381628,
          -1.8719734890851034,
          0.19006397038468342,
          0.7426829780297319,
          1.5866853683306084,
          -0.8830991836928733,
          1.329381939728609,
          -0.36910943637848315,
          -0.1259704216318707,
          0.7599399179503843,
          0.2570493559742786,
          1.0102501201538379,
          -0.8301636846246374,
          0.9098700533567373,
          1.272308317853795,
          0.27644901365821556,
          -0.5307842275179776,
          0.6928510797756365,
          -0.7467081888636957,
          1.0864734312542663,
          -0.4088395415896088,
          -1.3297602651780072,
          -1.441235068785222,
          -0.15212789644905217,
          0.9578071542227202,
          -0.07460142157038534,
          0.5113698014381537,
          -0.7585669417479952,
          -1.7210677610542262,
          0.6458738210296548,
          -0.7221738362033334,
          -0.09708844896140927,
          0.34294090340127364,
          -1.0737713509953322,
          -1.3205133194548362,
          0.4033547123960727,
          0.06702499803391719,
          -0.3894870046425358,
          0.5545246926764152,
          -0.3936172349445884,
          0.5204415204166847,
          -2.296869709022682,
          -1.0722455437645189,
          -0.0076908262706479645,
          -0.8497611342012257,
          -0.5418473928237962,
          0.6825865011945559,
          1.528074978722198,
          0.7421162493465568,
          -1.0501963591592836,
          1.5291754301353226,
          0.9965167862689587,
          -0.8002793081334799,
          1.1160758258201309,
          2.416553937349119,
          -0.7323025322245335,
          1.045911989237607,
          -2.3075278310782483,
          -0.11065972894159559,
          1.6167179621416072,
          -1.5706737901917416,
          -0.176117048077122,
          0.4745874051396574,
          -0.461148688308992,
          -0.1907540082939412,
          0.2099327698711436,
          -1.2321302971466992,
          0.6032727936313779,
          1.4648497803732206,
          0.3072917431775034,
          1.0415220041526154,
          0.15940004078617948,
          -0.8020956078401368,
          -0.5019052846097677,
          -0.8158122916130118,
          0.9735286018887148,
          0.49382864652704367,
          -0.149893623001522,
          0.7465151638614091,
          1.41789646851737,
          0.42684270812646524,
          -1.9110647146667514,
          -1.1593244688815125,
          -0.8502884309003719,
          -0.4656426710483235,
          1.7640395575750731,
          -0.7333153880908555,
          -0.6169666283105139,
          -1.4096884439956874,
          -0.3822792755757565,
          2.1510015077400606,
          -0.480261706871716,
          -0.5583127368388549,
          -0.332192650314338
         ],
         "xaxis": "x3",
         "y": [
          0.42860790047642905,
          -0.24150461408966148,
          0.8033352317583001,
          -0.4541726165268112,
          -0.9932670897240472,
          -1.6407185774656428,
          1.0292734271511936,
          0.717201122535486,
          -0.8328302557547055,
          -0.29479504395009437,
          -0.7876330322200155,
          1.013825910413848,
          -0.6145438366960542,
          -0.42143338248421097,
          1.0861506220781272,
          1.520376664474774,
          -0.01777198223317564,
          -1.6643908381651553,
          0.08997243361014205,
          0.1814431345228801,
          -0.7291269758207538,
          0.30441811909622163,
          -0.3331215193748714,
          -2.443509759910543,
          1.4038049617436101,
          -0.5289496253542012,
          0.5762209244034456,
          1.7473983249450766,
          1.1750635751298635,
          0.3439285942573213,
          0.06695512250429193,
          -1.358152089819541,
          1.3259956980602265,
          0.9230291574367999,
          2.1274268735237967,
          0.01609166317697218,
          -0.008794112180982546,
          -0.13078079279846982,
          -0.9773233004907493,
          0.42408560898470316,
          0.4781801921439303,
          -1.2302375288956056,
          -2.215534588013989,
          -0.6173209910577786,
          0.6873014952127062,
          -0.20768023471795324,
          1.3807411511048835,
          1.5676923985995384,
          -1.3535828954722193,
          0.6688398215891643,
          -1.9417660542959037,
          0.6086396296874507,
          -1.6891089331095988,
          0.8404967201254736,
          -0.25611772522792703,
          0.5649218453129284,
          -1.2455400184288734,
          0.08511126958214074,
          -1.2445956780254495,
          0.693274162901264,
          -0.555786574996747,
          0.014188061775017123,
          0.5756404633679048,
          -0.07502021616099822,
          0.8196550337696089,
          0.14719285707343466,
          2.0721531962168656,
          -0.05089514477070536,
          0.9178935846337136,
          0.8082192273766469,
          -0.9342785145415695,
          -0.7892361220520734,
          -1.0528167075806287,
          -0.900300147200952,
          -0.06378348260655418,
          -1.4058717991735044,
          -0.04637611154553381,
          -0.45343802555693713,
          0.3609959799788183,
          -0.9321964504655148,
          1.9639263256216999,
          -0.8513017162060174,
          -1.177257530160419,
          0.25079731529057353,
          -0.6455488140585096,
          -0.3597892849349049,
          -0.3522676026628601,
          0.03400583986455085,
          -0.4119885784095581,
          -0.668910236483875,
          0.6638172609013666,
          -0.09892944489312143,
          -1.9553751667413874,
          1.0932030834818462,
          0.7807217842469781,
          0.8029768142523035,
          -1.2272581484898053,
          -0.6477754460806492,
          1.9529843160513334,
          -0.84237910998657
         ],
         "yaxis": "y3"
        },
        {
         "line": {
          "color": "rgba(128, 128, 128, 1.0)",
          "dash": "solid",
          "shape": "linear",
          "width": 1.3
         },
         "marker": {
          "size": 2,
          "symbol": "circle"
         },
         "mode": "markers",
         "name": "A",
         "text": "",
         "type": "scatter",
         "x": [
          1.1927052467737471,
          0.6823505953261061,
          -1.7699977924906336,
          -0.4409417245274874,
          -0.4027560996259744,
          1.3855538454435494,
          0.25941520948138114,
          0.45409670225836857,
          -1.828238319014977,
          -0.2430449199174727,
          0.2647028823015733,
          1.4415053080261364,
          1.073705430987225,
          0.4866361960213816,
          1.4824416894323167,
          0.07105310534559514,
          0.13215237042095185,
          -1.2120350758827654,
          0.6581602382531442,
          -0.7675070609238718,
          0.9668208021638547,
          -0.7946618684229247,
          1.7144331828714836,
          0.6183624129108227,
          0.32792919874517806,
          -1.4384318058696666,
          -1.896424554138019,
          1.3936239781195967,
          -0.5608297156821659,
          0.6174363013840861,
          -0.3920373006091651,
          0.9361108376422885,
          -1.215021028570566,
          0.8401590571870553,
          2.3185983729391744,
          0.2455730696322708,
          0.19536172069491808,
          1.4623879346019342,
          1.6091859374219266,
          -1.1194909687215293,
          -1.2857377279485118,
          0.9585464930884179,
          -2.0409079776428296,
          -0.3516153660537357,
          1.1247468667742029,
          -0.6225409273299736,
          -0.881020925119876,
          -0.6288513210560867,
          1.0181706822135164,
          0.43486023954956127,
          1.0735404839177463,
          -0.8360456949946155,
          -1.3071731796213288,
          -0.07262526518920134,
          0.5259937944952808,
          0.7758932426331349,
          -1.2246509725047636,
          0.7812189441750645,
          -0.9343539498244041,
          -0.1670384776565554,
          1.090640883944806,
          -1.2034828032498064,
          0.25473828806871673,
          0.8635343083832683,
          0.3625951607961471,
          -0.2195462221424108,
          -0.7390148935282446,
          0.2050754290124465,
          -0.5872703781784867,
          0.6724208793894313,
          0.4445472943607837,
          0.6485431478865128,
          -0.013995098131496525,
          -1.8286239296369833,
          0.4379298665364222,
          0.36020393470459283,
          -0.055472205298219925,
          -0.9817455885806337,
          -1.0867258660214782,
          0.9792867549289266,
          -0.39095614962872743,
          -1.2431321852725168,
          0.6483194288423902,
          -0.7920970509807383,
          -0.3546536488679633,
          -1.6103360489908431,
          1.3053501829720535,
          1.145556735167566,
          -0.6264207226268598,
          -0.21363957491562746,
          -0.6847452297725517,
          1.2131865236514339,
          -1.7478252431183574,
          1.209465948879976,
          0.43519122902619073,
          -0.15306143209734444,
          -1.3114763939089504,
          -0.2031965018915055,
          -1.5469322006075121,
          0.45462915216522054
         ],
         "xaxis": "x4",
         "y": [
          0.42860790047642905,
          -0.24150461408966148,
          0.8033352317583001,
          -0.4541726165268112,
          -0.9932670897240472,
          -1.6407185774656428,
          1.0292734271511936,
          0.717201122535486,
          -0.8328302557547055,
          -0.29479504395009437,
          -0.7876330322200155,
          1.013825910413848,
          -0.6145438366960542,
          -0.42143338248421097,
          1.0861506220781272,
          1.520376664474774,
          -0.01777198223317564,
          -1.6643908381651553,
          0.08997243361014205,
          0.1814431345228801,
          -0.7291269758207538,
          0.30441811909622163,
          -0.3331215193748714,
          -2.443509759910543,
          1.4038049617436101,
          -0.5289496253542012,
          0.5762209244034456,
          1.7473983249450766,
          1.1750635751298635,
          0.3439285942573213,
          0.06695512250429193,
          -1.358152089819541,
          1.3259956980602265,
          0.9230291574367999,
          2.1274268735237967,
          0.01609166317697218,
          -0.008794112180982546,
          -0.13078079279846982,
          -0.9773233004907493,
          0.42408560898470316,
          0.4781801921439303,
          -1.2302375288956056,
          -2.215534588013989,
          -0.6173209910577786,
          0.6873014952127062,
          -0.20768023471795324,
          1.3807411511048835,
          1.5676923985995384,
          -1.3535828954722193,
          0.6688398215891643,
          -1.9417660542959037,
          0.6086396296874507,
          -1.6891089331095988,
          0.8404967201254736,
          -0.25611772522792703,
          0.5649218453129284,
          -1.2455400184288734,
          0.08511126958214074,
          -1.2445956780254495,
          0.693274162901264,
          -0.555786574996747,
          0.014188061775017123,
          0.5756404633679048,
          -0.07502021616099822,
          0.8196550337696089,
          0.14719285707343466,
          2.0721531962168656,
          -0.05089514477070536,
          0.9178935846337136,
          0.8082192273766469,
          -0.9342785145415695,
          -0.7892361220520734,
          -1.0528167075806287,
          -0.900300147200952,
          -0.06378348260655418,
          -1.4058717991735044,
          -0.04637611154553381,
          -0.45343802555693713,
          0.3609959799788183,
          -0.9321964504655148,
          1.9639263256216999,
          -0.8513017162060174,
          -1.177257530160419,
          0.25079731529057353,
          -0.6455488140585096,
          -0.3597892849349049,
          -0.3522676026628601,
          0.03400583986455085,
          -0.4119885784095581,
          -0.668910236483875,
          0.6638172609013666,
          -0.09892944489312143,
          -1.9553751667413874,
          1.0932030834818462,
          0.7807217842469781,
          0.8029768142523035,
          -1.2272581484898053,
          -0.6477754460806492,
          1.9529843160513334,
          -0.84237910998657
         ],
         "yaxis": "y4"
        },
        {
         "line": {
          "color": "rgba(128, 128, 128, 1.0)",
          "dash": "solid",
          "shape": "linear",
          "width": 1.3
         },
         "marker": {
          "size": 2,
          "symbol": "circle"
         },
         "mode": "markers",
         "name": "B",
         "text": "",
         "type": "scatter",
         "x": [
          0.42860790047642905,
          -0.24150461408966148,
          0.8033352317583001,
          -0.4541726165268112,
          -0.9932670897240472,
          -1.6407185774656428,
          1.0292734271511936,
          0.717201122535486,
          -0.8328302557547055,
          -0.29479504395009437,
          -0.7876330322200155,
          1.013825910413848,
          -0.6145438366960542,
          -0.42143338248421097,
          1.0861506220781272,
          1.520376664474774,
          -0.01777198223317564,
          -1.6643908381651553,
          0.08997243361014205,
          0.1814431345228801,
          -0.7291269758207538,
          0.30441811909622163,
          -0.3331215193748714,
          -2.443509759910543,
          1.4038049617436101,
          -0.5289496253542012,
          0.5762209244034456,
          1.7473983249450766,
          1.1750635751298635,
          0.3439285942573213,
          0.06695512250429193,
          -1.358152089819541,
          1.3259956980602265,
          0.9230291574367999,
          2.1274268735237967,
          0.01609166317697218,
          -0.008794112180982546,
          -0.13078079279846982,
          -0.9773233004907493,
          0.42408560898470316,
          0.4781801921439303,
          -1.2302375288956056,
          -2.215534588013989,
          -0.6173209910577786,
          0.6873014952127062,
          -0.20768023471795324,
          1.3807411511048835,
          1.5676923985995384,
          -1.3535828954722193,
          0.6688398215891643,
          -1.9417660542959037,
          0.6086396296874507,
          -1.6891089331095988,
          0.8404967201254736,
          -0.25611772522792703,
          0.5649218453129284,
          -1.2455400184288734,
          0.08511126958214074,
          -1.2445956780254495,
          0.693274162901264,
          -0.555786574996747,
          0.014188061775017123,
          0.5756404633679048,
          -0.07502021616099822,
          0.8196550337696089,
          0.14719285707343466,
          2.0721531962168656,
          -0.05089514477070536,
          0.9178935846337136,
          0.8082192273766469,
          -0.9342785145415695,
          -0.7892361220520734,
          -1.0528167075806287,
          -0.900300147200952,
          -0.06378348260655418,
          -1.4058717991735044,
          -0.04637611154553381,
          -0.45343802555693713,
          0.3609959799788183,
          -0.9321964504655148,
          1.9639263256216999,
          -0.8513017162060174,
          -1.177257530160419,
          0.25079731529057353,
          -0.6455488140585096,
          -0.3597892849349049,
          -0.3522676026628601,
          0.03400583986455085,
          -0.4119885784095581,
          -0.668910236483875,
          0.6638172609013666,
          -0.09892944489312143,
          -1.9553751667413874,
          1.0932030834818462,
          0.7807217842469781,
          0.8029768142523035,
          -1.2272581484898053,
          -0.6477754460806492,
          1.9529843160513334,
          -0.84237910998657
         ],
         "xaxis": "x5",
         "y": [
          -0.39325974971391525,
          0.05564646570619147,
          0.34780196590089396,
          1.6734131674208959,
          -0.023029982837105743,
          1.0012476696632717,
          0.18703713105734537,
          1.262120083305586,
          -0.8113828042042744,
          -0.36389618183312794,
          0.3182825345578306,
          0.26561207372775414,
          -0.31710083987767906,
          0.3307012661878355,
          -0.3827743646829566,
          -0.07784500406315373,
          0.07184939550950868,
          1.8600532821137243,
          -1.3966157050739068,
          0.6640713923826992,
          -0.8492037274388488,
          -0.6263363686461829,
          1.6250038488954621,
          -0.5236195883778583,
          -2.16345391306942,
          1.3029655695823983,
          0.2283173236958734,
          1.7370577014233897,
          -0.029732253191304518,
          -2.0533396952947993,
          -0.0015571473203474543,
          1.1581858115689212,
          0.6129394841978791,
          2.784380155305771,
          -0.7314673000828203,
          0.3385127274541624,
          -0.7687161829470321,
          1.543242396773852,
          -0.717193509958402,
          0.37699569673225664,
          -1.2396619940727844,
          0.4550492681869588,
          -2.0543094997835243,
          1.3600779678873771,
          -1.244574082682165,
          -2.1843312309789535,
          -0.6296399403616632,
          0.2871687175955069,
          -1.8976766970498358,
          -1.746810132351409,
          1.1721777502639719,
          0.12975308001389982,
          -0.906679091917525,
          -0.8235255560578126,
          1.629416680723812,
          -0.3258256193559577,
          0.3183405316268972,
          0.19960564744461226,
          -2.350317827213011,
          0.5704819720769283,
          -0.572177939912174,
          0.47504228909483914,
          0.9978013795099565,
          0.03284178097168736,
          1.7998520265955422,
          1.1791578061649604,
          0.6725374757403919,
          -0.18452181673013568,
          -1.3271976219839603,
          -1.4712235163192122,
          1.5058786374354427,
          0.20716152593826656,
          -0.8002141505754706,
          -0.23591613710914958,
          0.4176022846377921,
          -0.7322776036272107,
          -0.7501160039715231,
          0.2246809529639941,
          0.49107947550493974,
          -1.366060904827018,
          -1.873047410185736,
          0.5962151440823994,
          0.17473240351086952,
          -0.25176512171647975,
          0.8296301643863834,
          -0.17204697391626958,
          1.524750974056855,
          1.4053490752537185,
          -1.2809051231732484,
          0.49433207086912184,
          0.13477043390008417,
          -0.7369883578766098,
          -1.6833329347466606,
          -1.1611543228587384,
          0.16417302030913833,
          -2.55392965531275,
          0.554411998328491,
          0.9248809515936174,
          0.07974476121974629,
          1.244761109401404
         ],
         "yaxis": "y5"
        },
        {
         "histfunc": "count",
         "histnorm": "",
         "marker": {
          "color": "rgba(55, 128, 191, 1.0)",
          "line": {
           "color": "#4D5663",
           "width": 1.3
          }
         },
         "name": "B",
         "nbinsx": 10,
         "opacity": 0.8,
         "orientation": "v",
         "type": "histogram",
         "x": [
          -0.39325974971391525,
          0.05564646570619147,
          0.34780196590089396,
          1.6734131674208959,
          -0.023029982837105743,
          1.0012476696632717,
          0.18703713105734537,
          1.262120083305586,
          -0.8113828042042744,
          -0.36389618183312794,
          0.3182825345578306,
          0.26561207372775414,
          -0.31710083987767906,
          0.3307012661878355,
          -0.3827743646829566,
          -0.07784500406315373,
          0.07184939550950868,
          1.8600532821137243,
          -1.3966157050739068,
          0.6640713923826992,
          -0.8492037274388488,
          -0.6263363686461829,
          1.6250038488954621,
          -0.5236195883778583,
          -2.16345391306942,
          1.3029655695823983,
          0.2283173236958734,
          1.7370577014233897,
          -0.029732253191304518,
          -2.0533396952947993,
          -0.0015571473203474543,
          1.1581858115689212,
          0.6129394841978791,
          2.784380155305771,
          -0.7314673000828203,
          0.3385127274541624,
          -0.7687161829470321,
          1.543242396773852,
          -0.717193509958402,
          0.37699569673225664,
          -1.2396619940727844,
          0.4550492681869588,
          -2.0543094997835243,
          1.3600779678873771,
          -1.244574082682165,
          -2.1843312309789535,
          -0.6296399403616632,
          0.2871687175955069,
          -1.8976766970498358,
          -1.746810132351409,
          1.1721777502639719,
          0.12975308001389982,
          -0.906679091917525,
          -0.8235255560578126,
          1.629416680723812,
          -0.3258256193559577,
          0.3183405316268972,
          0.19960564744461226,
          -2.350317827213011,
          0.5704819720769283,
          -0.572177939912174,
          0.47504228909483914,
          0.9978013795099565,
          0.03284178097168736,
          1.7998520265955422,
          1.1791578061649604,
          0.6725374757403919,
          -0.18452181673013568,
          -1.3271976219839603,
          -1.4712235163192122,
          1.5058786374354427,
          0.20716152593826656,
          -0.8002141505754706,
          -0.23591613710914958,
          0.4176022846377921,
          -0.7322776036272107,
          -0.7501160039715231,
          0.2246809529639941,
          0.49107947550493974,
          -1.366060904827018,
          -1.873047410185736,
          0.5962151440823994,
          0.17473240351086952,
          -0.25176512171647975,
          0.8296301643863834,
          -0.17204697391626958,
          1.524750974056855,
          1.4053490752537185,
          -1.2809051231732484,
          0.49433207086912184,
          0.13477043390008417,
          -0.7369883578766098,
          -1.6833329347466606,
          -1.1611543228587384,
          0.16417302030913833,
          -2.55392965531275,
          0.554411998328491,
          0.9248809515936174,
          0.07974476121974629,
          1.244761109401404
         ],
         "xaxis": "x6",
         "yaxis": "y6"
        },
        {
         "line": {
          "color": "rgba(128, 128, 128, 1.0)",
          "dash": "solid",
          "shape": "linear",
          "width": 1.3
         },
         "marker": {
          "size": 2,
          "symbol": "circle"
         },
         "mode": "markers",
         "name": "B",
         "text": "",
         "type": "scatter",
         "x": [
          0.20867975771520808,
          -0.539968732680375,
          -0.10451406860936421,
          0.6807906941541452,
          -0.6237061132537227,
          1.1645819493681946,
          -0.20319634501381628,
          -1.8719734890851034,
          0.19006397038468342,
          0.7426829780297319,
          1.5866853683306084,
          -0.8830991836928733,
          1.329381939728609,
          -0.36910943637848315,
          -0.1259704216318707,
          0.7599399179503843,
          0.2570493559742786,
          1.0102501201538379,
          -0.8301636846246374,
          0.9098700533567373,
          1.272308317853795,
          0.27644901365821556,
          -0.5307842275179776,
          0.6928510797756365,
          -0.7467081888636957,
          1.0864734312542663,
          -0.4088395415896088,
          -1.3297602651780072,
          -1.441235068785222,
          -0.15212789644905217,
          0.9578071542227202,
          -0.07460142157038534,
          0.5113698014381537,
          -0.7585669417479952,
          -1.7210677610542262,
          0.6458738210296548,
          -0.7221738362033334,
          -0.09708844896140927,
          0.34294090340127364,
          -1.0737713509953322,
          -1.3205133194548362,
          0.4033547123960727,
          0.06702499803391719,
          -0.3894870046425358,
          0.5545246926764152,
          -0.3936172349445884,
          0.5204415204166847,
          -2.296869709022682,
          -1.0722455437645189,
          -0.0076908262706479645,
          -0.8497611342012257,
          -0.5418473928237962,
          0.6825865011945559,
          1.528074978722198,
          0.7421162493465568,
          -1.0501963591592836,
          1.5291754301353226,
          0.9965167862689587,
          -0.8002793081334799,
          1.1160758258201309,
          2.416553937349119,
          -0.7323025322245335,
          1.045911989237607,
          -2.3075278310782483,
          -0.11065972894159559,
          1.6167179621416072,
          -1.5706737901917416,
          -0.176117048077122,
          0.4745874051396574,
          -0.461148688308992,
          -0.1907540082939412,
          0.2099327698711436,
          -1.2321302971466992,
          0.6032727936313779,
          1.4648497803732206,
          0.3072917431775034,
          1.0415220041526154,
          0.15940004078617948,
          -0.8020956078401368,
          -0.5019052846097677,
          -0.8158122916130118,
          0.9735286018887148,
          0.49382864652704367,
          -0.149893623001522,
          0.7465151638614091,
          1.41789646851737,
          0.42684270812646524,
          -1.9110647146667514,
          -1.1593244688815125,
          -0.8502884309003719,
          -0.4656426710483235,
          1.7640395575750731,
          -0.7333153880908555,
          -0.6169666283105139,
          -1.4096884439956874,
          -0.3822792755757565,
          2.1510015077400606,
          -0.480261706871716,
          -0.5583127368388549,
          -0.332192650314338
         ],
         "xaxis": "x7",
         "y": [
          -0.39325974971391525,
          0.05564646570619147,
          0.34780196590089396,
          1.6734131674208959,
          -0.023029982837105743,
          1.0012476696632717,
          0.18703713105734537,
          1.262120083305586,
          -0.8113828042042744,
          -0.36389618183312794,
          0.3182825345578306,
          0.26561207372775414,
          -0.31710083987767906,
          0.3307012661878355,
          -0.3827743646829566,
          -0.07784500406315373,
          0.07184939550950868,
          1.8600532821137243,
          -1.3966157050739068,
          0.6640713923826992,
          -0.8492037274388488,
          -0.6263363686461829,
          1.6250038488954621,
          -0.5236195883778583,
          -2.16345391306942,
          1.3029655695823983,
          0.2283173236958734,
          1.7370577014233897,
          -0.029732253191304518,
          -2.0533396952947993,
          -0.0015571473203474543,
          1.1581858115689212,
          0.6129394841978791,
          2.784380155305771,
          -0.7314673000828203,
          0.3385127274541624,
          -0.7687161829470321,
          1.543242396773852,
          -0.717193509958402,
          0.37699569673225664,
          -1.2396619940727844,
          0.4550492681869588,
          -2.0543094997835243,
          1.3600779678873771,
          -1.244574082682165,
          -2.1843312309789535,
          -0.6296399403616632,
          0.2871687175955069,
          -1.8976766970498358,
          -1.746810132351409,
          1.1721777502639719,
          0.12975308001389982,
          -0.906679091917525,
          -0.8235255560578126,
          1.629416680723812,
          -0.3258256193559577,
          0.3183405316268972,
          0.19960564744461226,
          -2.350317827213011,
          0.5704819720769283,
          -0.572177939912174,
          0.47504228909483914,
          0.9978013795099565,
          0.03284178097168736,
          1.7998520265955422,
          1.1791578061649604,
          0.6725374757403919,
          -0.18452181673013568,
          -1.3271976219839603,
          -1.4712235163192122,
          1.5058786374354427,
          0.20716152593826656,
          -0.8002141505754706,
          -0.23591613710914958,
          0.4176022846377921,
          -0.7322776036272107,
          -0.7501160039715231,
          0.2246809529639941,
          0.49107947550493974,
          -1.366060904827018,
          -1.873047410185736,
          0.5962151440823994,
          0.17473240351086952,
          -0.25176512171647975,
          0.8296301643863834,
          -0.17204697391626958,
          1.524750974056855,
          1.4053490752537185,
          -1.2809051231732484,
          0.49433207086912184,
          0.13477043390008417,
          -0.7369883578766098,
          -1.6833329347466606,
          -1.1611543228587384,
          0.16417302030913833,
          -2.55392965531275,
          0.554411998328491,
          0.9248809515936174,
          0.07974476121974629,
          1.244761109401404
         ],
         "yaxis": "y7"
        },
        {
         "line": {
          "color": "rgba(128, 128, 128, 1.0)",
          "dash": "solid",
          "shape": "linear",
          "width": 1.3
         },
         "marker": {
          "size": 2,
          "symbol": "circle"
         },
         "mode": "markers",
         "name": "B",
         "text": "",
         "type": "scatter",
         "x": [
          1.1927052467737471,
          0.6823505953261061,
          -1.7699977924906336,
          -0.4409417245274874,
          -0.4027560996259744,
          1.3855538454435494,
          0.25941520948138114,
          0.45409670225836857,
          -1.828238319014977,
          -0.2430449199174727,
          0.2647028823015733,
          1.4415053080261364,
          1.073705430987225,
          0.4866361960213816,
          1.4824416894323167,
          0.07105310534559514,
          0.13215237042095185,
          -1.2120350758827654,
          0.6581602382531442,
          -0.7675070609238718,
          0.9668208021638547,
          -0.7946618684229247,
          1.7144331828714836,
          0.6183624129108227,
          0.32792919874517806,
          -1.4384318058696666,
          -1.896424554138019,
          1.3936239781195967,
          -0.5608297156821659,
          0.6174363013840861,
          -0.3920373006091651,
          0.9361108376422885,
          -1.215021028570566,
          0.8401590571870553,
          2.3185983729391744,
          0.2455730696322708,
          0.19536172069491808,
          1.4623879346019342,
          1.6091859374219266,
          -1.1194909687215293,
          -1.2857377279485118,
          0.9585464930884179,
          -2.0409079776428296,
          -0.3516153660537357,
          1.1247468667742029,
          -0.6225409273299736,
          -0.881020925119876,
          -0.6288513210560867,
          1.0181706822135164,
          0.43486023954956127,
          1.0735404839177463,
          -0.8360456949946155,
          -1.3071731796213288,
          -0.07262526518920134,
          0.5259937944952808,
          0.7758932426331349,
          -1.2246509725047636,
          0.7812189441750645,
          -0.9343539498244041,
          -0.1670384776565554,
          1.090640883944806,
          -1.2034828032498064,
          0.25473828806871673,
          0.8635343083832683,
          0.3625951607961471,
          -0.2195462221424108,
          -0.7390148935282446,
          0.2050754290124465,
          -0.5872703781784867,
          0.6724208793894313,
          0.4445472943607837,
          0.6485431478865128,
          -0.013995098131496525,
          -1.8286239296369833,
          0.4379298665364222,
          0.36020393470459283,
          -0.055472205298219925,
          -0.9817455885806337,
          -1.0867258660214782,
          0.9792867549289266,
          -0.39095614962872743,
          -1.2431321852725168,
          0.6483194288423902,
          -0.7920970509807383,
          -0.3546536488679633,
          -1.6103360489908431,
          1.3053501829720535,
          1.145556735167566,
          -0.6264207226268598,
          -0.21363957491562746,
          -0.6847452297725517,
          1.2131865236514339,
          -1.7478252431183574,
          1.209465948879976,
          0.43519122902619073,
          -0.15306143209734444,
          -1.3114763939089504,
          -0.2031965018915055,
          -1.5469322006075121,
          0.45462915216522054
         ],
         "xaxis": "x8",
         "y": [
          -0.39325974971391525,
          0.05564646570619147,
          0.34780196590089396,
          1.6734131674208959,
          -0.023029982837105743,
          1.0012476696632717,
          0.18703713105734537,
          1.262120083305586,
          -0.8113828042042744,
          -0.36389618183312794,
          0.3182825345578306,
          0.26561207372775414,
          -0.31710083987767906,
          0.3307012661878355,
          -0.3827743646829566,
          -0.07784500406315373,
          0.07184939550950868,
          1.8600532821137243,
          -1.3966157050739068,
          0.6640713923826992,
          -0.8492037274388488,
          -0.6263363686461829,
          1.6250038488954621,
          -0.5236195883778583,
          -2.16345391306942,
          1.3029655695823983,
          0.2283173236958734,
          1.7370577014233897,
          -0.029732253191304518,
          -2.0533396952947993,
          -0.0015571473203474543,
          1.1581858115689212,
          0.6129394841978791,
          2.784380155305771,
          -0.7314673000828203,
          0.3385127274541624,
          -0.7687161829470321,
          1.543242396773852,
          -0.717193509958402,
          0.37699569673225664,
          -1.2396619940727844,
          0.4550492681869588,
          -2.0543094997835243,
          1.3600779678873771,
          -1.244574082682165,
          -2.1843312309789535,
          -0.6296399403616632,
          0.2871687175955069,
          -1.8976766970498358,
          -1.746810132351409,
          1.1721777502639719,
          0.12975308001389982,
          -0.906679091917525,
          -0.8235255560578126,
          1.629416680723812,
          -0.3258256193559577,
          0.3183405316268972,
          0.19960564744461226,
          -2.350317827213011,
          0.5704819720769283,
          -0.572177939912174,
          0.47504228909483914,
          0.9978013795099565,
          0.03284178097168736,
          1.7998520265955422,
          1.1791578061649604,
          0.6725374757403919,
          -0.18452181673013568,
          -1.3271976219839603,
          -1.4712235163192122,
          1.5058786374354427,
          0.20716152593826656,
          -0.8002141505754706,
          -0.23591613710914958,
          0.4176022846377921,
          -0.7322776036272107,
          -0.7501160039715231,
          0.2246809529639941,
          0.49107947550493974,
          -1.366060904827018,
          -1.873047410185736,
          0.5962151440823994,
          0.17473240351086952,
          -0.25176512171647975,
          0.8296301643863834,
          -0.17204697391626958,
          1.524750974056855,
          1.4053490752537185,
          -1.2809051231732484,
          0.49433207086912184,
          0.13477043390008417,
          -0.7369883578766098,
          -1.6833329347466606,
          -1.1611543228587384,
          0.16417302030913833,
          -2.55392965531275,
          0.554411998328491,
          0.9248809515936174,
          0.07974476121974629,
          1.244761109401404
         ],
         "yaxis": "y8"
        },
        {
         "line": {
          "color": "rgba(128, 128, 128, 1.0)",
          "dash": "solid",
          "shape": "linear",
          "width": 1.3
         },
         "marker": {
          "size": 2,
          "symbol": "circle"
         },
         "mode": "markers",
         "name": "C",
         "text": "",
         "type": "scatter",
         "x": [
          0.42860790047642905,
          -0.24150461408966148,
          0.8033352317583001,
          -0.4541726165268112,
          -0.9932670897240472,
          -1.6407185774656428,
          1.0292734271511936,
          0.717201122535486,
          -0.8328302557547055,
          -0.29479504395009437,
          -0.7876330322200155,
          1.013825910413848,
          -0.6145438366960542,
          -0.42143338248421097,
          1.0861506220781272,
          1.520376664474774,
          -0.01777198223317564,
          -1.6643908381651553,
          0.08997243361014205,
          0.1814431345228801,
          -0.7291269758207538,
          0.30441811909622163,
          -0.3331215193748714,
          -2.443509759910543,
          1.4038049617436101,
          -0.5289496253542012,
          0.5762209244034456,
          1.7473983249450766,
          1.1750635751298635,
          0.3439285942573213,
          0.06695512250429193,
          -1.358152089819541,
          1.3259956980602265,
          0.9230291574367999,
          2.1274268735237967,
          0.01609166317697218,
          -0.008794112180982546,
          -0.13078079279846982,
          -0.9773233004907493,
          0.42408560898470316,
          0.4781801921439303,
          -1.2302375288956056,
          -2.215534588013989,
          -0.6173209910577786,
          0.6873014952127062,
          -0.20768023471795324,
          1.3807411511048835,
          1.5676923985995384,
          -1.3535828954722193,
          0.6688398215891643,
          -1.9417660542959037,
          0.6086396296874507,
          -1.6891089331095988,
          0.8404967201254736,
          -0.25611772522792703,
          0.5649218453129284,
          -1.2455400184288734,
          0.08511126958214074,
          -1.2445956780254495,
          0.693274162901264,
          -0.555786574996747,
          0.014188061775017123,
          0.5756404633679048,
          -0.07502021616099822,
          0.8196550337696089,
          0.14719285707343466,
          2.0721531962168656,
          -0.05089514477070536,
          0.9178935846337136,
          0.8082192273766469,
          -0.9342785145415695,
          -0.7892361220520734,
          -1.0528167075806287,
          -0.900300147200952,
          -0.06378348260655418,
          -1.4058717991735044,
          -0.04637611154553381,
          -0.45343802555693713,
          0.3609959799788183,
          -0.9321964504655148,
          1.9639263256216999,
          -0.8513017162060174,
          -1.177257530160419,
          0.25079731529057353,
          -0.6455488140585096,
          -0.3597892849349049,
          -0.3522676026628601,
          0.03400583986455085,
          -0.4119885784095581,
          -0.668910236483875,
          0.6638172609013666,
          -0.09892944489312143,
          -1.9553751667413874,
          1.0932030834818462,
          0.7807217842469781,
          0.8029768142523035,
          -1.2272581484898053,
          -0.6477754460806492,
          1.9529843160513334,
          -0.84237910998657
         ],
         "xaxis": "x9",
         "y": [
          0.20867975771520808,
          -0.539968732680375,
          -0.10451406860936421,
          0.6807906941541452,
          -0.6237061132537227,
          1.1645819493681946,
          -0.20319634501381628,
          -1.8719734890851034,
          0.19006397038468342,
          0.7426829780297319,
          1.5866853683306084,
          -0.8830991836928733,
          1.329381939728609,
          -0.36910943637848315,
          -0.1259704216318707,
          0.7599399179503843,
          0.2570493559742786,
          1.0102501201538379,
          -0.8301636846246374,
          0.9098700533567373,
          1.272308317853795,
          0.27644901365821556,
          -0.5307842275179776,
          0.6928510797756365,
          -0.7467081888636957,
          1.0864734312542663,
          -0.4088395415896088,
          -1.3297602651780072,
          -1.441235068785222,
          -0.15212789644905217,
          0.9578071542227202,
          -0.07460142157038534,
          0.5113698014381537,
          -0.7585669417479952,
          -1.7210677610542262,
          0.6458738210296548,
          -0.7221738362033334,
          -0.09708844896140927,
          0.34294090340127364,
          -1.0737713509953322,
          -1.3205133194548362,
          0.4033547123960727,
          0.06702499803391719,
          -0.3894870046425358,
          0.5545246926764152,
          -0.3936172349445884,
          0.5204415204166847,
          -2.296869709022682,
          -1.0722455437645189,
          -0.0076908262706479645,
          -0.8497611342012257,
          -0.5418473928237962,
          0.6825865011945559,
          1.528074978722198,
          0.7421162493465568,
          -1.0501963591592836,
          1.5291754301353226,
          0.9965167862689587,
          -0.8002793081334799,
          1.1160758258201309,
          2.416553937349119,
          -0.7323025322245335,
          1.045911989237607,
          -2.3075278310782483,
          -0.11065972894159559,
          1.6167179621416072,
          -1.5706737901917416,
          -0.176117048077122,
          0.4745874051396574,
          -0.461148688308992,
          -0.1907540082939412,
          0.2099327698711436,
          -1.2321302971466992,
          0.6032727936313779,
          1.4648497803732206,
          0.3072917431775034,
          1.0415220041526154,
          0.15940004078617948,
          -0.8020956078401368,
          -0.5019052846097677,
          -0.8158122916130118,
          0.9735286018887148,
          0.49382864652704367,
          -0.149893623001522,
          0.7465151638614091,
          1.41789646851737,
          0.42684270812646524,
          -1.9110647146667514,
          -1.1593244688815125,
          -0.8502884309003719,
          -0.4656426710483235,
          1.7640395575750731,
          -0.7333153880908555,
          -0.6169666283105139,
          -1.4096884439956874,
          -0.3822792755757565,
          2.1510015077400606,
          -0.480261706871716,
          -0.5583127368388549,
          -0.332192650314338
         ],
         "yaxis": "y9"
        },
        {
         "line": {
          "color": "rgba(128, 128, 128, 1.0)",
          "dash": "solid",
          "shape": "linear",
          "width": 1.3
         },
         "marker": {
          "size": 2,
          "symbol": "circle"
         },
         "mode": "markers",
         "name": "C",
         "text": "",
         "type": "scatter",
         "x": [
          -0.39325974971391525,
          0.05564646570619147,
          0.34780196590089396,
          1.6734131674208959,
          -0.023029982837105743,
          1.0012476696632717,
          0.18703713105734537,
          1.262120083305586,
          -0.8113828042042744,
          -0.36389618183312794,
          0.3182825345578306,
          0.26561207372775414,
          -0.31710083987767906,
          0.3307012661878355,
          -0.3827743646829566,
          -0.07784500406315373,
          0.07184939550950868,
          1.8600532821137243,
          -1.3966157050739068,
          0.6640713923826992,
          -0.8492037274388488,
          -0.6263363686461829,
          1.6250038488954621,
          -0.5236195883778583,
          -2.16345391306942,
          1.3029655695823983,
          0.2283173236958734,
          1.7370577014233897,
          -0.029732253191304518,
          -2.0533396952947993,
          -0.0015571473203474543,
          1.1581858115689212,
          0.6129394841978791,
          2.784380155305771,
          -0.7314673000828203,
          0.3385127274541624,
          -0.7687161829470321,
          1.543242396773852,
          -0.717193509958402,
          0.37699569673225664,
          -1.2396619940727844,
          0.4550492681869588,
          -2.0543094997835243,
          1.3600779678873771,
          -1.244574082682165,
          -2.1843312309789535,
          -0.6296399403616632,
          0.2871687175955069,
          -1.8976766970498358,
          -1.746810132351409,
          1.1721777502639719,
          0.12975308001389982,
          -0.906679091917525,
          -0.8235255560578126,
          1.629416680723812,
          -0.3258256193559577,
          0.3183405316268972,
          0.19960564744461226,
          -2.350317827213011,
          0.5704819720769283,
          -0.572177939912174,
          0.47504228909483914,
          0.9978013795099565,
          0.03284178097168736,
          1.7998520265955422,
          1.1791578061649604,
          0.6725374757403919,
          -0.18452181673013568,
          -1.3271976219839603,
          -1.4712235163192122,
          1.5058786374354427,
          0.20716152593826656,
          -0.8002141505754706,
          -0.23591613710914958,
          0.4176022846377921,
          -0.7322776036272107,
          -0.7501160039715231,
          0.2246809529639941,
          0.49107947550493974,
          -1.366060904827018,
          -1.873047410185736,
          0.5962151440823994,
          0.17473240351086952,
          -0.25176512171647975,
          0.8296301643863834,
          -0.17204697391626958,
          1.524750974056855,
          1.4053490752537185,
          -1.2809051231732484,
          0.49433207086912184,
          0.13477043390008417,
          -0.7369883578766098,
          -1.6833329347466606,
          -1.1611543228587384,
          0.16417302030913833,
          -2.55392965531275,
          0.554411998328491,
          0.9248809515936174,
          0.07974476121974629,
          1.244761109401404
         ],
         "xaxis": "x10",
         "y": [
          0.20867975771520808,
          -0.539968732680375,
          -0.10451406860936421,
          0.6807906941541452,
          -0.6237061132537227,
          1.1645819493681946,
          -0.20319634501381628,
          -1.8719734890851034,
          0.19006397038468342,
          0.7426829780297319,
          1.5866853683306084,
          -0.8830991836928733,
          1.329381939728609,
          -0.36910943637848315,
          -0.1259704216318707,
          0.7599399179503843,
          0.2570493559742786,
          1.0102501201538379,
          -0.8301636846246374,
          0.9098700533567373,
          1.272308317853795,
          0.27644901365821556,
          -0.5307842275179776,
          0.6928510797756365,
          -0.7467081888636957,
          1.0864734312542663,
          -0.4088395415896088,
          -1.3297602651780072,
          -1.441235068785222,
          -0.15212789644905217,
          0.9578071542227202,
          -0.07460142157038534,
          0.5113698014381537,
          -0.7585669417479952,
          -1.7210677610542262,
          0.6458738210296548,
          -0.7221738362033334,
          -0.09708844896140927,
          0.34294090340127364,
          -1.0737713509953322,
          -1.3205133194548362,
          0.4033547123960727,
          0.06702499803391719,
          -0.3894870046425358,
          0.5545246926764152,
          -0.3936172349445884,
          0.5204415204166847,
          -2.296869709022682,
          -1.0722455437645189,
          -0.0076908262706479645,
          -0.8497611342012257,
          -0.5418473928237962,
          0.6825865011945559,
          1.528074978722198,
          0.7421162493465568,
          -1.0501963591592836,
          1.5291754301353226,
          0.9965167862689587,
          -0.8002793081334799,
          1.1160758258201309,
          2.416553937349119,
          -0.7323025322245335,
          1.045911989237607,
          -2.3075278310782483,
          -0.11065972894159559,
          1.6167179621416072,
          -1.5706737901917416,
          -0.176117048077122,
          0.4745874051396574,
          -0.461148688308992,
          -0.1907540082939412,
          0.2099327698711436,
          -1.2321302971466992,
          0.6032727936313779,
          1.4648497803732206,
          0.3072917431775034,
          1.0415220041526154,
          0.15940004078617948,
          -0.8020956078401368,
          -0.5019052846097677,
          -0.8158122916130118,
          0.9735286018887148,
          0.49382864652704367,
          -0.149893623001522,
          0.7465151638614091,
          1.41789646851737,
          0.42684270812646524,
          -1.9110647146667514,
          -1.1593244688815125,
          -0.8502884309003719,
          -0.4656426710483235,
          1.7640395575750731,
          -0.7333153880908555,
          -0.6169666283105139,
          -1.4096884439956874,
          -0.3822792755757565,
          2.1510015077400606,
          -0.480261706871716,
          -0.5583127368388549,
          -0.332192650314338
         ],
         "yaxis": "y10"
        },
        {
         "histfunc": "count",
         "histnorm": "",
         "marker": {
          "color": "rgba(50, 171, 96, 1.0)",
          "line": {
           "color": "#4D5663",
           "width": 1.3
          }
         },
         "name": "C",
         "nbinsx": 10,
         "opacity": 0.8,
         "orientation": "v",
         "type": "histogram",
         "x": [
          0.20867975771520808,
          -0.539968732680375,
          -0.10451406860936421,
          0.6807906941541452,
          -0.6237061132537227,
          1.1645819493681946,
          -0.20319634501381628,
          -1.8719734890851034,
          0.19006397038468342,
          0.7426829780297319,
          1.5866853683306084,
          -0.8830991836928733,
          1.329381939728609,
          -0.36910943637848315,
          -0.1259704216318707,
          0.7599399179503843,
          0.2570493559742786,
          1.0102501201538379,
          -0.8301636846246374,
          0.9098700533567373,
          1.272308317853795,
          0.27644901365821556,
          -0.5307842275179776,
          0.6928510797756365,
          -0.7467081888636957,
          1.0864734312542663,
          -0.4088395415896088,
          -1.3297602651780072,
          -1.441235068785222,
          -0.15212789644905217,
          0.9578071542227202,
          -0.07460142157038534,
          0.5113698014381537,
          -0.7585669417479952,
          -1.7210677610542262,
          0.6458738210296548,
          -0.7221738362033334,
          -0.09708844896140927,
          0.34294090340127364,
          -1.0737713509953322,
          -1.3205133194548362,
          0.4033547123960727,
          0.06702499803391719,
          -0.3894870046425358,
          0.5545246926764152,
          -0.3936172349445884,
          0.5204415204166847,
          -2.296869709022682,
          -1.0722455437645189,
          -0.0076908262706479645,
          -0.8497611342012257,
          -0.5418473928237962,
          0.6825865011945559,
          1.528074978722198,
          0.7421162493465568,
          -1.0501963591592836,
          1.5291754301353226,
          0.9965167862689587,
          -0.8002793081334799,
          1.1160758258201309,
          2.416553937349119,
          -0.7323025322245335,
          1.045911989237607,
          -2.3075278310782483,
          -0.11065972894159559,
          1.6167179621416072,
          -1.5706737901917416,
          -0.176117048077122,
          0.4745874051396574,
          -0.461148688308992,
          -0.1907540082939412,
          0.2099327698711436,
          -1.2321302971466992,
          0.6032727936313779,
          1.4648497803732206,
          0.3072917431775034,
          1.0415220041526154,
          0.15940004078617948,
          -0.8020956078401368,
          -0.5019052846097677,
          -0.8158122916130118,
          0.9735286018887148,
          0.49382864652704367,
          -0.149893623001522,
          0.7465151638614091,
          1.41789646851737,
          0.42684270812646524,
          -1.9110647146667514,
          -1.1593244688815125,
          -0.8502884309003719,
          -0.4656426710483235,
          1.7640395575750731,
          -0.7333153880908555,
          -0.6169666283105139,
          -1.4096884439956874,
          -0.3822792755757565,
          2.1510015077400606,
          -0.480261706871716,
          -0.5583127368388549,
          -0.332192650314338
         ],
         "xaxis": "x11",
         "yaxis": "y11"
        },
        {
         "line": {
          "color": "rgba(128, 128, 128, 1.0)",
          "dash": "solid",
          "shape": "linear",
          "width": 1.3
         },
         "marker": {
          "size": 2,
          "symbol": "circle"
         },
         "mode": "markers",
         "name": "C",
         "text": "",
         "type": "scatter",
         "x": [
          1.1927052467737471,
          0.6823505953261061,
          -1.7699977924906336,
          -0.4409417245274874,
          -0.4027560996259744,
          1.3855538454435494,
          0.25941520948138114,
          0.45409670225836857,
          -1.828238319014977,
          -0.2430449199174727,
          0.2647028823015733,
          1.4415053080261364,
          1.073705430987225,
          0.4866361960213816,
          1.4824416894323167,
          0.07105310534559514,
          0.13215237042095185,
          -1.2120350758827654,
          0.6581602382531442,
          -0.7675070609238718,
          0.9668208021638547,
          -0.7946618684229247,
          1.7144331828714836,
          0.6183624129108227,
          0.32792919874517806,
          -1.4384318058696666,
          -1.896424554138019,
          1.3936239781195967,
          -0.5608297156821659,
          0.6174363013840861,
          -0.3920373006091651,
          0.9361108376422885,
          -1.215021028570566,
          0.8401590571870553,
          2.3185983729391744,
          0.2455730696322708,
          0.19536172069491808,
          1.4623879346019342,
          1.6091859374219266,
          -1.1194909687215293,
          -1.2857377279485118,
          0.9585464930884179,
          -2.0409079776428296,
          -0.3516153660537357,
          1.1247468667742029,
          -0.6225409273299736,
          -0.881020925119876,
          -0.6288513210560867,
          1.0181706822135164,
          0.43486023954956127,
          1.0735404839177463,
          -0.8360456949946155,
          -1.3071731796213288,
          -0.07262526518920134,
          0.5259937944952808,
          0.7758932426331349,
          -1.2246509725047636,
          0.7812189441750645,
          -0.9343539498244041,
          -0.1670384776565554,
          1.090640883944806,
          -1.2034828032498064,
          0.25473828806871673,
          0.8635343083832683,
          0.3625951607961471,
          -0.2195462221424108,
          -0.7390148935282446,
          0.2050754290124465,
          -0.5872703781784867,
          0.6724208793894313,
          0.4445472943607837,
          0.6485431478865128,
          -0.013995098131496525,
          -1.8286239296369833,
          0.4379298665364222,
          0.36020393470459283,
          -0.055472205298219925,
          -0.9817455885806337,
          -1.0867258660214782,
          0.9792867549289266,
          -0.39095614962872743,
          -1.2431321852725168,
          0.6483194288423902,
          -0.7920970509807383,
          -0.3546536488679633,
          -1.6103360489908431,
          1.3053501829720535,
          1.145556735167566,
          -0.6264207226268598,
          -0.21363957491562746,
          -0.6847452297725517,
          1.2131865236514339,
          -1.7478252431183574,
          1.209465948879976,
          0.43519122902619073,
          -0.15306143209734444,
          -1.3114763939089504,
          -0.2031965018915055,
          -1.5469322006075121,
          0.45462915216522054
         ],
         "xaxis": "x12",
         "y": [
          0.20867975771520808,
          -0.539968732680375,
          -0.10451406860936421,
          0.6807906941541452,
          -0.6237061132537227,
          1.1645819493681946,
          -0.20319634501381628,
          -1.8719734890851034,
          0.19006397038468342,
          0.7426829780297319,
          1.5866853683306084,
          -0.8830991836928733,
          1.329381939728609,
          -0.36910943637848315,
          -0.1259704216318707,
          0.7599399179503843,
          0.2570493559742786,
          1.0102501201538379,
          -0.8301636846246374,
          0.9098700533567373,
          1.272308317853795,
          0.27644901365821556,
          -0.5307842275179776,
          0.6928510797756365,
          -0.7467081888636957,
          1.0864734312542663,
          -0.4088395415896088,
          -1.3297602651780072,
          -1.441235068785222,
          -0.15212789644905217,
          0.9578071542227202,
          -0.07460142157038534,
          0.5113698014381537,
          -0.7585669417479952,
          -1.7210677610542262,
          0.6458738210296548,
          -0.7221738362033334,
          -0.09708844896140927,
          0.34294090340127364,
          -1.0737713509953322,
          -1.3205133194548362,
          0.4033547123960727,
          0.06702499803391719,
          -0.3894870046425358,
          0.5545246926764152,
          -0.3936172349445884,
          0.5204415204166847,
          -2.296869709022682,
          -1.0722455437645189,
          -0.0076908262706479645,
          -0.8497611342012257,
          -0.5418473928237962,
          0.6825865011945559,
          1.528074978722198,
          0.7421162493465568,
          -1.0501963591592836,
          1.5291754301353226,
          0.9965167862689587,
          -0.8002793081334799,
          1.1160758258201309,
          2.416553937349119,
          -0.7323025322245335,
          1.045911989237607,
          -2.3075278310782483,
          -0.11065972894159559,
          1.6167179621416072,
          -1.5706737901917416,
          -0.176117048077122,
          0.4745874051396574,
          -0.461148688308992,
          -0.1907540082939412,
          0.2099327698711436,
          -1.2321302971466992,
          0.6032727936313779,
          1.4648497803732206,
          0.3072917431775034,
          1.0415220041526154,
          0.15940004078617948,
          -0.8020956078401368,
          -0.5019052846097677,
          -0.8158122916130118,
          0.9735286018887148,
          0.49382864652704367,
          -0.149893623001522,
          0.7465151638614091,
          1.41789646851737,
          0.42684270812646524,
          -1.9110647146667514,
          -1.1593244688815125,
          -0.8502884309003719,
          -0.4656426710483235,
          1.7640395575750731,
          -0.7333153880908555,
          -0.6169666283105139,
          -1.4096884439956874,
          -0.3822792755757565,
          2.1510015077400606,
          -0.480261706871716,
          -0.5583127368388549,
          -0.332192650314338
         ],
         "yaxis": "y12"
        },
        {
         "line": {
          "color": "rgba(128, 128, 128, 1.0)",
          "dash": "solid",
          "shape": "linear",
          "width": 1.3
         },
         "marker": {
          "size": 2,
          "symbol": "circle"
         },
         "mode": "markers",
         "name": "D",
         "text": "",
         "type": "scatter",
         "x": [
          0.42860790047642905,
          -0.24150461408966148,
          0.8033352317583001,
          -0.4541726165268112,
          -0.9932670897240472,
          -1.6407185774656428,
          1.0292734271511936,
          0.717201122535486,
          -0.8328302557547055,
          -0.29479504395009437,
          -0.7876330322200155,
          1.013825910413848,
          -0.6145438366960542,
          -0.42143338248421097,
          1.0861506220781272,
          1.520376664474774,
          -0.01777198223317564,
          -1.6643908381651553,
          0.08997243361014205,
          0.1814431345228801,
          -0.7291269758207538,
          0.30441811909622163,
          -0.3331215193748714,
          -2.443509759910543,
          1.4038049617436101,
          -0.5289496253542012,
          0.5762209244034456,
          1.7473983249450766,
          1.1750635751298635,
          0.3439285942573213,
          0.06695512250429193,
          -1.358152089819541,
          1.3259956980602265,
          0.9230291574367999,
          2.1274268735237967,
          0.01609166317697218,
          -0.008794112180982546,
          -0.13078079279846982,
          -0.9773233004907493,
          0.42408560898470316,
          0.4781801921439303,
          -1.2302375288956056,
          -2.215534588013989,
          -0.6173209910577786,
          0.6873014952127062,
          -0.20768023471795324,
          1.3807411511048835,
          1.5676923985995384,
          -1.3535828954722193,
          0.6688398215891643,
          -1.9417660542959037,
          0.6086396296874507,
          -1.6891089331095988,
          0.8404967201254736,
          -0.25611772522792703,
          0.5649218453129284,
          -1.2455400184288734,
          0.08511126958214074,
          -1.2445956780254495,
          0.693274162901264,
          -0.555786574996747,
          0.014188061775017123,
          0.5756404633679048,
          -0.07502021616099822,
          0.8196550337696089,
          0.14719285707343466,
          2.0721531962168656,
          -0.05089514477070536,
          0.9178935846337136,
          0.8082192273766469,
          -0.9342785145415695,
          -0.7892361220520734,
          -1.0528167075806287,
          -0.900300147200952,
          -0.06378348260655418,
          -1.4058717991735044,
          -0.04637611154553381,
          -0.45343802555693713,
          0.3609959799788183,
          -0.9321964504655148,
          1.9639263256216999,
          -0.8513017162060174,
          -1.177257530160419,
          0.25079731529057353,
          -0.6455488140585096,
          -0.3597892849349049,
          -0.3522676026628601,
          0.03400583986455085,
          -0.4119885784095581,
          -0.668910236483875,
          0.6638172609013666,
          -0.09892944489312143,
          -1.9553751667413874,
          1.0932030834818462,
          0.7807217842469781,
          0.8029768142523035,
          -1.2272581484898053,
          -0.6477754460806492,
          1.9529843160513334,
          -0.84237910998657
         ],
         "xaxis": "x13",
         "y": [
          1.1927052467737471,
          0.6823505953261061,
          -1.7699977924906336,
          -0.4409417245274874,
          -0.4027560996259744,
          1.3855538454435494,
          0.25941520948138114,
          0.45409670225836857,
          -1.828238319014977,
          -0.2430449199174727,
          0.2647028823015733,
          1.4415053080261364,
          1.073705430987225,
          0.4866361960213816,
          1.4824416894323167,
          0.07105310534559514,
          0.13215237042095185,
          -1.2120350758827654,
          0.6581602382531442,
          -0.7675070609238718,
          0.9668208021638547,
          -0.7946618684229247,
          1.7144331828714836,
          0.6183624129108227,
          0.32792919874517806,
          -1.4384318058696666,
          -1.896424554138019,
          1.3936239781195967,
          -0.5608297156821659,
          0.6174363013840861,
          -0.3920373006091651,
          0.9361108376422885,
          -1.215021028570566,
          0.8401590571870553,
          2.3185983729391744,
          0.2455730696322708,
          0.19536172069491808,
          1.4623879346019342,
          1.6091859374219266,
          -1.1194909687215293,
          -1.2857377279485118,
          0.9585464930884179,
          -2.0409079776428296,
          -0.3516153660537357,
          1.1247468667742029,
          -0.6225409273299736,
          -0.881020925119876,
          -0.6288513210560867,
          1.0181706822135164,
          0.43486023954956127,
          1.0735404839177463,
          -0.8360456949946155,
          -1.3071731796213288,
          -0.07262526518920134,
          0.5259937944952808,
          0.7758932426331349,
          -1.2246509725047636,
          0.7812189441750645,
          -0.9343539498244041,
          -0.1670384776565554,
          1.090640883944806,
          -1.2034828032498064,
          0.25473828806871673,
          0.8635343083832683,
          0.3625951607961471,
          -0.2195462221424108,
          -0.7390148935282446,
          0.2050754290124465,
          -0.5872703781784867,
          0.6724208793894313,
          0.4445472943607837,
          0.6485431478865128,
          -0.013995098131496525,
          -1.8286239296369833,
          0.4379298665364222,
          0.36020393470459283,
          -0.055472205298219925,
          -0.9817455885806337,
          -1.0867258660214782,
          0.9792867549289266,
          -0.39095614962872743,
          -1.2431321852725168,
          0.6483194288423902,
          -0.7920970509807383,
          -0.3546536488679633,
          -1.6103360489908431,
          1.3053501829720535,
          1.145556735167566,
          -0.6264207226268598,
          -0.21363957491562746,
          -0.6847452297725517,
          1.2131865236514339,
          -1.7478252431183574,
          1.209465948879976,
          0.43519122902619073,
          -0.15306143209734444,
          -1.3114763939089504,
          -0.2031965018915055,
          -1.5469322006075121,
          0.45462915216522054
         ],
         "yaxis": "y13"
        },
        {
         "line": {
          "color": "rgba(128, 128, 128, 1.0)",
          "dash": "solid",
          "shape": "linear",
          "width": 1.3
         },
         "marker": {
          "size": 2,
          "symbol": "circle"
         },
         "mode": "markers",
         "name": "D",
         "text": "",
         "type": "scatter",
         "x": [
          -0.39325974971391525,
          0.05564646570619147,
          0.34780196590089396,
          1.6734131674208959,
          -0.023029982837105743,
          1.0012476696632717,
          0.18703713105734537,
          1.262120083305586,
          -0.8113828042042744,
          -0.36389618183312794,
          0.3182825345578306,
          0.26561207372775414,
          -0.31710083987767906,
          0.3307012661878355,
          -0.3827743646829566,
          -0.07784500406315373,
          0.07184939550950868,
          1.8600532821137243,
          -1.3966157050739068,
          0.6640713923826992,
          -0.8492037274388488,
          -0.6263363686461829,
          1.6250038488954621,
          -0.5236195883778583,
          -2.16345391306942,
          1.3029655695823983,
          0.2283173236958734,
          1.7370577014233897,
          -0.029732253191304518,
          -2.0533396952947993,
          -0.0015571473203474543,
          1.1581858115689212,
          0.6129394841978791,
          2.784380155305771,
          -0.7314673000828203,
          0.3385127274541624,
          -0.7687161829470321,
          1.543242396773852,
          -0.717193509958402,
          0.37699569673225664,
          -1.2396619940727844,
          0.4550492681869588,
          -2.0543094997835243,
          1.3600779678873771,
          -1.244574082682165,
          -2.1843312309789535,
          -0.6296399403616632,
          0.2871687175955069,
          -1.8976766970498358,
          -1.746810132351409,
          1.1721777502639719,
          0.12975308001389982,
          -0.906679091917525,
          -0.8235255560578126,
          1.629416680723812,
          -0.3258256193559577,
          0.3183405316268972,
          0.19960564744461226,
          -2.350317827213011,
          0.5704819720769283,
          -0.572177939912174,
          0.47504228909483914,
          0.9978013795099565,
          0.03284178097168736,
          1.7998520265955422,
          1.1791578061649604,
          0.6725374757403919,
          -0.18452181673013568,
          -1.3271976219839603,
          -1.4712235163192122,
          1.5058786374354427,
          0.20716152593826656,
          -0.8002141505754706,
          -0.23591613710914958,
          0.4176022846377921,
          -0.7322776036272107,
          -0.7501160039715231,
          0.2246809529639941,
          0.49107947550493974,
          -1.366060904827018,
          -1.873047410185736,
          0.5962151440823994,
          0.17473240351086952,
          -0.25176512171647975,
          0.8296301643863834,
          -0.17204697391626958,
          1.524750974056855,
          1.4053490752537185,
          -1.2809051231732484,
          0.49433207086912184,
          0.13477043390008417,
          -0.7369883578766098,
          -1.6833329347466606,
          -1.1611543228587384,
          0.16417302030913833,
          -2.55392965531275,
          0.554411998328491,
          0.9248809515936174,
          0.07974476121974629,
          1.244761109401404
         ],
         "xaxis": "x14",
         "y": [
          1.1927052467737471,
          0.6823505953261061,
          -1.7699977924906336,
          -0.4409417245274874,
          -0.4027560996259744,
          1.3855538454435494,
          0.25941520948138114,
          0.45409670225836857,
          -1.828238319014977,
          -0.2430449199174727,
          0.2647028823015733,
          1.4415053080261364,
          1.073705430987225,
          0.4866361960213816,
          1.4824416894323167,
          0.07105310534559514,
          0.13215237042095185,
          -1.2120350758827654,
          0.6581602382531442,
          -0.7675070609238718,
          0.9668208021638547,
          -0.7946618684229247,
          1.7144331828714836,
          0.6183624129108227,
          0.32792919874517806,
          -1.4384318058696666,
          -1.896424554138019,
          1.3936239781195967,
          -0.5608297156821659,
          0.6174363013840861,
          -0.3920373006091651,
          0.9361108376422885,
          -1.215021028570566,
          0.8401590571870553,
          2.3185983729391744,
          0.2455730696322708,
          0.19536172069491808,
          1.4623879346019342,
          1.6091859374219266,
          -1.1194909687215293,
          -1.2857377279485118,
          0.9585464930884179,
          -2.0409079776428296,
          -0.3516153660537357,
          1.1247468667742029,
          -0.6225409273299736,
          -0.881020925119876,
          -0.6288513210560867,
          1.0181706822135164,
          0.43486023954956127,
          1.0735404839177463,
          -0.8360456949946155,
          -1.3071731796213288,
          -0.07262526518920134,
          0.5259937944952808,
          0.7758932426331349,
          -1.2246509725047636,
          0.7812189441750645,
          -0.9343539498244041,
          -0.1670384776565554,
          1.090640883944806,
          -1.2034828032498064,
          0.25473828806871673,
          0.8635343083832683,
          0.3625951607961471,
          -0.2195462221424108,
          -0.7390148935282446,
          0.2050754290124465,
          -0.5872703781784867,
          0.6724208793894313,
          0.4445472943607837,
          0.6485431478865128,
          -0.013995098131496525,
          -1.8286239296369833,
          0.4379298665364222,
          0.36020393470459283,
          -0.055472205298219925,
          -0.9817455885806337,
          -1.0867258660214782,
          0.9792867549289266,
          -0.39095614962872743,
          -1.2431321852725168,
          0.6483194288423902,
          -0.7920970509807383,
          -0.3546536488679633,
          -1.6103360489908431,
          1.3053501829720535,
          1.145556735167566,
          -0.6264207226268598,
          -0.21363957491562746,
          -0.6847452297725517,
          1.2131865236514339,
          -1.7478252431183574,
          1.209465948879976,
          0.43519122902619073,
          -0.15306143209734444,
          -1.3114763939089504,
          -0.2031965018915055,
          -1.5469322006075121,
          0.45462915216522054
         ],
         "yaxis": "y14"
        },
        {
         "line": {
          "color": "rgba(128, 128, 128, 1.0)",
          "dash": "solid",
          "shape": "linear",
          "width": 1.3
         },
         "marker": {
          "size": 2,
          "symbol": "circle"
         },
         "mode": "markers",
         "name": "D",
         "text": "",
         "type": "scatter",
         "x": [
          0.20867975771520808,
          -0.539968732680375,
          -0.10451406860936421,
          0.6807906941541452,
          -0.6237061132537227,
          1.1645819493681946,
          -0.20319634501381628,
          -1.8719734890851034,
          0.19006397038468342,
          0.7426829780297319,
          1.5866853683306084,
          -0.8830991836928733,
          1.329381939728609,
          -0.36910943637848315,
          -0.1259704216318707,
          0.7599399179503843,
          0.2570493559742786,
          1.0102501201538379,
          -0.8301636846246374,
          0.9098700533567373,
          1.272308317853795,
          0.27644901365821556,
          -0.5307842275179776,
          0.6928510797756365,
          -0.7467081888636957,
          1.0864734312542663,
          -0.4088395415896088,
          -1.3297602651780072,
          -1.441235068785222,
          -0.15212789644905217,
          0.9578071542227202,
          -0.07460142157038534,
          0.5113698014381537,
          -0.7585669417479952,
          -1.7210677610542262,
          0.6458738210296548,
          -0.7221738362033334,
          -0.09708844896140927,
          0.34294090340127364,
          -1.0737713509953322,
          -1.3205133194548362,
          0.4033547123960727,
          0.06702499803391719,
          -0.3894870046425358,
          0.5545246926764152,
          -0.3936172349445884,
          0.5204415204166847,
          -2.296869709022682,
          -1.0722455437645189,
          -0.0076908262706479645,
          -0.8497611342012257,
          -0.5418473928237962,
          0.6825865011945559,
          1.528074978722198,
          0.7421162493465568,
          -1.0501963591592836,
          1.5291754301353226,
          0.9965167862689587,
          -0.8002793081334799,
          1.1160758258201309,
          2.416553937349119,
          -0.7323025322245335,
          1.045911989237607,
          -2.3075278310782483,
          -0.11065972894159559,
          1.6167179621416072,
          -1.5706737901917416,
          -0.176117048077122,
          0.4745874051396574,
          -0.461148688308992,
          -0.1907540082939412,
          0.2099327698711436,
          -1.2321302971466992,
          0.6032727936313779,
          1.4648497803732206,
          0.3072917431775034,
          1.0415220041526154,
          0.15940004078617948,
          -0.8020956078401368,
          -0.5019052846097677,
          -0.8158122916130118,
          0.9735286018887148,
          0.49382864652704367,
          -0.149893623001522,
          0.7465151638614091,
          1.41789646851737,
          0.42684270812646524,
          -1.9110647146667514,
          -1.1593244688815125,
          -0.8502884309003719,
          -0.4656426710483235,
          1.7640395575750731,
          -0.7333153880908555,
          -0.6169666283105139,
          -1.4096884439956874,
          -0.3822792755757565,
          2.1510015077400606,
          -0.480261706871716,
          -0.5583127368388549,
          -0.332192650314338
         ],
         "xaxis": "x15",
         "y": [
          1.1927052467737471,
          0.6823505953261061,
          -1.7699977924906336,
          -0.4409417245274874,
          -0.4027560996259744,
          1.3855538454435494,
          0.25941520948138114,
          0.45409670225836857,
          -1.828238319014977,
          -0.2430449199174727,
          0.2647028823015733,
          1.4415053080261364,
          1.073705430987225,
          0.4866361960213816,
          1.4824416894323167,
          0.07105310534559514,
          0.13215237042095185,
          -1.2120350758827654,
          0.6581602382531442,
          -0.7675070609238718,
          0.9668208021638547,
          -0.7946618684229247,
          1.7144331828714836,
          0.6183624129108227,
          0.32792919874517806,
          -1.4384318058696666,
          -1.896424554138019,
          1.3936239781195967,
          -0.5608297156821659,
          0.6174363013840861,
          -0.3920373006091651,
          0.9361108376422885,
          -1.215021028570566,
          0.8401590571870553,
          2.3185983729391744,
          0.2455730696322708,
          0.19536172069491808,
          1.4623879346019342,
          1.6091859374219266,
          -1.1194909687215293,
          -1.2857377279485118,
          0.9585464930884179,
          -2.0409079776428296,
          -0.3516153660537357,
          1.1247468667742029,
          -0.6225409273299736,
          -0.881020925119876,
          -0.6288513210560867,
          1.0181706822135164,
          0.43486023954956127,
          1.0735404839177463,
          -0.8360456949946155,
          -1.3071731796213288,
          -0.07262526518920134,
          0.5259937944952808,
          0.7758932426331349,
          -1.2246509725047636,
          0.7812189441750645,
          -0.9343539498244041,
          -0.1670384776565554,
          1.090640883944806,
          -1.2034828032498064,
          0.25473828806871673,
          0.8635343083832683,
          0.3625951607961471,
          -0.2195462221424108,
          -0.7390148935282446,
          0.2050754290124465,
          -0.5872703781784867,
          0.6724208793894313,
          0.4445472943607837,
          0.6485431478865128,
          -0.013995098131496525,
          -1.8286239296369833,
          0.4379298665364222,
          0.36020393470459283,
          -0.055472205298219925,
          -0.9817455885806337,
          -1.0867258660214782,
          0.9792867549289266,
          -0.39095614962872743,
          -1.2431321852725168,
          0.6483194288423902,
          -0.7920970509807383,
          -0.3546536488679633,
          -1.6103360489908431,
          1.3053501829720535,
          1.145556735167566,
          -0.6264207226268598,
          -0.21363957491562746,
          -0.6847452297725517,
          1.2131865236514339,
          -1.7478252431183574,
          1.209465948879976,
          0.43519122902619073,
          -0.15306143209734444,
          -1.3114763939089504,
          -0.2031965018915055,
          -1.5469322006075121,
          0.45462915216522054
         ],
         "yaxis": "y15"
        },
        {
         "histfunc": "count",
         "histnorm": "",
         "marker": {
          "color": "rgba(128, 0, 128, 1.0)",
          "line": {
           "color": "#4D5663",
           "width": 1.3
          }
         },
         "name": "D",
         "nbinsx": 10,
         "opacity": 0.8,
         "orientation": "v",
         "type": "histogram",
         "x": [
          1.1927052467737471,
          0.6823505953261061,
          -1.7699977924906336,
          -0.4409417245274874,
          -0.4027560996259744,
          1.3855538454435494,
          0.25941520948138114,
          0.45409670225836857,
          -1.828238319014977,
          -0.2430449199174727,
          0.2647028823015733,
          1.4415053080261364,
          1.073705430987225,
          0.4866361960213816,
          1.4824416894323167,
          0.07105310534559514,
          0.13215237042095185,
          -1.2120350758827654,
          0.6581602382531442,
          -0.7675070609238718,
          0.9668208021638547,
          -0.7946618684229247,
          1.7144331828714836,
          0.6183624129108227,
          0.32792919874517806,
          -1.4384318058696666,
          -1.896424554138019,
          1.3936239781195967,
          -0.5608297156821659,
          0.6174363013840861,
          -0.3920373006091651,
          0.9361108376422885,
          -1.215021028570566,
          0.8401590571870553,
          2.3185983729391744,
          0.2455730696322708,
          0.19536172069491808,
          1.4623879346019342,
          1.6091859374219266,
          -1.1194909687215293,
          -1.2857377279485118,
          0.9585464930884179,
          -2.0409079776428296,
          -0.3516153660537357,
          1.1247468667742029,
          -0.6225409273299736,
          -0.881020925119876,
          -0.6288513210560867,
          1.0181706822135164,
          0.43486023954956127,
          1.0735404839177463,
          -0.8360456949946155,
          -1.3071731796213288,
          -0.07262526518920134,
          0.5259937944952808,
          0.7758932426331349,
          -1.2246509725047636,
          0.7812189441750645,
          -0.9343539498244041,
          -0.1670384776565554,
          1.090640883944806,
          -1.2034828032498064,
          0.25473828806871673,
          0.8635343083832683,
          0.3625951607961471,
          -0.2195462221424108,
          -0.7390148935282446,
          0.2050754290124465,
          -0.5872703781784867,
          0.6724208793894313,
          0.4445472943607837,
          0.6485431478865128,
          -0.013995098131496525,
          -1.8286239296369833,
          0.4379298665364222,
          0.36020393470459283,
          -0.055472205298219925,
          -0.9817455885806337,
          -1.0867258660214782,
          0.9792867549289266,
          -0.39095614962872743,
          -1.2431321852725168,
          0.6483194288423902,
          -0.7920970509807383,
          -0.3546536488679633,
          -1.6103360489908431,
          1.3053501829720535,
          1.145556735167566,
          -0.6264207226268598,
          -0.21363957491562746,
          -0.6847452297725517,
          1.2131865236514339,
          -1.7478252431183574,
          1.209465948879976,
          0.43519122902619073,
          -0.15306143209734444,
          -1.3114763939089504,
          -0.2031965018915055,
          -1.5469322006075121,
          0.45462915216522054
         ],
         "xaxis": "x16",
         "yaxis": "y16"
        }
       ],
       "layout": {
        "bargap": 0.02,
        "legend": {
         "bgcolor": "#F5F6F9",
         "font": {
          "color": "#4D5663"
         }
        },
        "paper_bgcolor": "#F5F6F9",
        "plot_bgcolor": "#F5F6F9",
        "showlegend": false,
        "template": {
         "data": {
          "bar": [
           {
            "error_x": {
             "color": "#2a3f5f"
            },
            "error_y": {
             "color": "#2a3f5f"
            },
            "marker": {
             "line": {
              "color": "#E5ECF6",
              "width": 0.5
             },
             "pattern": {
              "fillmode": "overlay",
              "size": 10,
              "solidity": 0.2
             }
            },
            "type": "bar"
           }
          ],
          "barpolar": [
           {
            "marker": {
             "line": {
              "color": "#E5ECF6",
              "width": 0.5
             },
             "pattern": {
              "fillmode": "overlay",
              "size": 10,
              "solidity": 0.2
             }
            },
            "type": "barpolar"
           }
          ],
          "carpet": [
           {
            "aaxis": {
             "endlinecolor": "#2a3f5f",
             "gridcolor": "white",
             "linecolor": "white",
             "minorgridcolor": "white",
             "startlinecolor": "#2a3f5f"
            },
            "baxis": {
             "endlinecolor": "#2a3f5f",
             "gridcolor": "white",
             "linecolor": "white",
             "minorgridcolor": "white",
             "startlinecolor": "#2a3f5f"
            },
            "type": "carpet"
           }
          ],
          "choropleth": [
           {
            "colorbar": {
             "outlinewidth": 0,
             "ticks": ""
            },
            "type": "choropleth"
           }
          ],
          "contour": [
           {
            "colorbar": {
             "outlinewidth": 0,
             "ticks": ""
            },
            "colorscale": [
             [
              0,
              "#0d0887"
             ],
             [
              0.1111111111111111,
              "#46039f"
             ],
             [
              0.2222222222222222,
              "#7201a8"
             ],
             [
              0.3333333333333333,
              "#9c179e"
             ],
             [
              0.4444444444444444,
              "#bd3786"
             ],
             [
              0.5555555555555556,
              "#d8576b"
             ],
             [
              0.6666666666666666,
              "#ed7953"
             ],
             [
              0.7777777777777778,
              "#fb9f3a"
             ],
             [
              0.8888888888888888,
              "#fdca26"
             ],
             [
              1,
              "#f0f921"
             ]
            ],
            "type": "contour"
           }
          ],
          "contourcarpet": [
           {
            "colorbar": {
             "outlinewidth": 0,
             "ticks": ""
            },
            "type": "contourcarpet"
           }
          ],
          "heatmap": [
           {
            "colorbar": {
             "outlinewidth": 0,
             "ticks": ""
            },
            "colorscale": [
             [
              0,
              "#0d0887"
             ],
             [
              0.1111111111111111,
              "#46039f"
             ],
             [
              0.2222222222222222,
              "#7201a8"
             ],
             [
              0.3333333333333333,
              "#9c179e"
             ],
             [
              0.4444444444444444,
              "#bd3786"
             ],
             [
              0.5555555555555556,
              "#d8576b"
             ],
             [
              0.6666666666666666,
              "#ed7953"
             ],
             [
              0.7777777777777778,
              "#fb9f3a"
             ],
             [
              0.8888888888888888,
              "#fdca26"
             ],
             [
              1,
              "#f0f921"
             ]
            ],
            "type": "heatmap"
           }
          ],
          "heatmapgl": [
           {
            "colorbar": {
             "outlinewidth": 0,
             "ticks": ""
            },
            "colorscale": [
             [
              0,
              "#0d0887"
             ],
             [
              0.1111111111111111,
              "#46039f"
             ],
             [
              0.2222222222222222,
              "#7201a8"
             ],
             [
              0.3333333333333333,
              "#9c179e"
             ],
             [
              0.4444444444444444,
              "#bd3786"
             ],
             [
              0.5555555555555556,
              "#d8576b"
             ],
             [
              0.6666666666666666,
              "#ed7953"
             ],
             [
              0.7777777777777778,
              "#fb9f3a"
             ],
             [
              0.8888888888888888,
              "#fdca26"
             ],
             [
              1,
              "#f0f921"
             ]
            ],
            "type": "heatmapgl"
           }
          ],
          "histogram": [
           {
            "marker": {
             "pattern": {
              "fillmode": "overlay",
              "size": 10,
              "solidity": 0.2
             }
            },
            "type": "histogram"
           }
          ],
          "histogram2d": [
           {
            "colorbar": {
             "outlinewidth": 0,
             "ticks": ""
            },
            "colorscale": [
             [
              0,
              "#0d0887"
             ],
             [
              0.1111111111111111,
              "#46039f"
             ],
             [
              0.2222222222222222,
              "#7201a8"
             ],
             [
              0.3333333333333333,
              "#9c179e"
             ],
             [
              0.4444444444444444,
              "#bd3786"
             ],
             [
              0.5555555555555556,
              "#d8576b"
             ],
             [
              0.6666666666666666,
              "#ed7953"
             ],
             [
              0.7777777777777778,
              "#fb9f3a"
             ],
             [
              0.8888888888888888,
              "#fdca26"
             ],
             [
              1,
              "#f0f921"
             ]
            ],
            "type": "histogram2d"
           }
          ],
          "histogram2dcontour": [
           {
            "colorbar": {
             "outlinewidth": 0,
             "ticks": ""
            },
            "colorscale": [
             [
              0,
              "#0d0887"
             ],
             [
              0.1111111111111111,
              "#46039f"
             ],
             [
              0.2222222222222222,
              "#7201a8"
             ],
             [
              0.3333333333333333,
              "#9c179e"
             ],
             [
              0.4444444444444444,
              "#bd3786"
             ],
             [
              0.5555555555555556,
              "#d8576b"
             ],
             [
              0.6666666666666666,
              "#ed7953"
             ],
             [
              0.7777777777777778,
              "#fb9f3a"
             ],
             [
              0.8888888888888888,
              "#fdca26"
             ],
             [
              1,
              "#f0f921"
             ]
            ],
            "type": "histogram2dcontour"
           }
          ],
          "mesh3d": [
           {
            "colorbar": {
             "outlinewidth": 0,
             "ticks": ""
            },
            "type": "mesh3d"
           }
          ],
          "parcoords": [
           {
            "line": {
             "colorbar": {
              "outlinewidth": 0,
              "ticks": ""
             }
            },
            "type": "parcoords"
           }
          ],
          "pie": [
           {
            "automargin": true,
            "type": "pie"
           }
          ],
          "scatter": [
           {
            "marker": {
             "colorbar": {
              "outlinewidth": 0,
              "ticks": ""
             }
            },
            "type": "scatter"
           }
          ],
          "scatter3d": [
           {
            "line": {
             "colorbar": {
              "outlinewidth": 0,
              "ticks": ""
             }
            },
            "marker": {
             "colorbar": {
              "outlinewidth": 0,
              "ticks": ""
             }
            },
            "type": "scatter3d"
           }
          ],
          "scattercarpet": [
           {
            "marker": {
             "colorbar": {
              "outlinewidth": 0,
              "ticks": ""
             }
            },
            "type": "scattercarpet"
           }
          ],
          "scattergeo": [
           {
            "marker": {
             "colorbar": {
              "outlinewidth": 0,
              "ticks": ""
             }
            },
            "type": "scattergeo"
           }
          ],
          "scattergl": [
           {
            "marker": {
             "colorbar": {
              "outlinewidth": 0,
              "ticks": ""
             }
            },
            "type": "scattergl"
           }
          ],
          "scattermapbox": [
           {
            "marker": {
             "colorbar": {
              "outlinewidth": 0,
              "ticks": ""
             }
            },
            "type": "scattermapbox"
           }
          ],
          "scatterpolar": [
           {
            "marker": {
             "colorbar": {
              "outlinewidth": 0,
              "ticks": ""
             }
            },
            "type": "scatterpolar"
           }
          ],
          "scatterpolargl": [
           {
            "marker": {
             "colorbar": {
              "outlinewidth": 0,
              "ticks": ""
             }
            },
            "type": "scatterpolargl"
           }
          ],
          "scatterternary": [
           {
            "marker": {
             "colorbar": {
              "outlinewidth": 0,
              "ticks": ""
             }
            },
            "type": "scatterternary"
           }
          ],
          "surface": [
           {
            "colorbar": {
             "outlinewidth": 0,
             "ticks": ""
            },
            "colorscale": [
             [
              0,
              "#0d0887"
             ],
             [
              0.1111111111111111,
              "#46039f"
             ],
             [
              0.2222222222222222,
              "#7201a8"
             ],
             [
              0.3333333333333333,
              "#9c179e"
             ],
             [
              0.4444444444444444,
              "#bd3786"
             ],
             [
              0.5555555555555556,
              "#d8576b"
             ],
             [
              0.6666666666666666,
              "#ed7953"
             ],
             [
              0.7777777777777778,
              "#fb9f3a"
             ],
             [
              0.8888888888888888,
              "#fdca26"
             ],
             [
              1,
              "#f0f921"
             ]
            ],
            "type": "surface"
           }
          ],
          "table": [
           {
            "cells": {
             "fill": {
              "color": "#EBF0F8"
             },
             "line": {
              "color": "white"
             }
            },
            "header": {
             "fill": {
              "color": "#C8D4E3"
             },
             "line": {
              "color": "white"
             }
            },
            "type": "table"
           }
          ]
         },
         "layout": {
          "annotationdefaults": {
           "arrowcolor": "#2a3f5f",
           "arrowhead": 0,
           "arrowwidth": 1
          },
          "autotypenumbers": "strict",
          "coloraxis": {
           "colorbar": {
            "outlinewidth": 0,
            "ticks": ""
           }
          },
          "colorscale": {
           "diverging": [
            [
             0,
             "#8e0152"
            ],
            [
             0.1,
             "#c51b7d"
            ],
            [
             0.2,
             "#de77ae"
            ],
            [
             0.3,
             "#f1b6da"
            ],
            [
             0.4,
             "#fde0ef"
            ],
            [
             0.5,
             "#f7f7f7"
            ],
            [
             0.6,
             "#e6f5d0"
            ],
            [
             0.7,
             "#b8e186"
            ],
            [
             0.8,
             "#7fbc41"
            ],
            [
             0.9,
             "#4d9221"
            ],
            [
             1,
             "#276419"
            ]
           ],
           "sequential": [
            [
             0,
             "#0d0887"
            ],
            [
             0.1111111111111111,
             "#46039f"
            ],
            [
             0.2222222222222222,
             "#7201a8"
            ],
            [
             0.3333333333333333,
             "#9c179e"
            ],
            [
             0.4444444444444444,
             "#bd3786"
            ],
            [
             0.5555555555555556,
             "#d8576b"
            ],
            [
             0.6666666666666666,
             "#ed7953"
            ],
            [
             0.7777777777777778,
             "#fb9f3a"
            ],
            [
             0.8888888888888888,
             "#fdca26"
            ],
            [
             1,
             "#f0f921"
            ]
           ],
           "sequentialminus": [
            [
             0,
             "#0d0887"
            ],
            [
             0.1111111111111111,
             "#46039f"
            ],
            [
             0.2222222222222222,
             "#7201a8"
            ],
            [
             0.3333333333333333,
             "#9c179e"
            ],
            [
             0.4444444444444444,
             "#bd3786"
            ],
            [
             0.5555555555555556,
             "#d8576b"
            ],
            [
             0.6666666666666666,
             "#ed7953"
            ],
            [
             0.7777777777777778,
             "#fb9f3a"
            ],
            [
             0.8888888888888888,
             "#fdca26"
            ],
            [
             1,
             "#f0f921"
            ]
           ]
          },
          "colorway": [
           "#636efa",
           "#EF553B",
           "#00cc96",
           "#ab63fa",
           "#FFA15A",
           "#19d3f3",
           "#FF6692",
           "#B6E880",
           "#FF97FF",
           "#FECB52"
          ],
          "font": {
           "color": "#2a3f5f"
          },
          "geo": {
           "bgcolor": "white",
           "lakecolor": "white",
           "landcolor": "#E5ECF6",
           "showlakes": true,
           "showland": true,
           "subunitcolor": "white"
          },
          "hoverlabel": {
           "align": "left"
          },
          "hovermode": "closest",
          "mapbox": {
           "style": "light"
          },
          "paper_bgcolor": "white",
          "plot_bgcolor": "#E5ECF6",
          "polar": {
           "angularaxis": {
            "gridcolor": "white",
            "linecolor": "white",
            "ticks": ""
           },
           "bgcolor": "#E5ECF6",
           "radialaxis": {
            "gridcolor": "white",
            "linecolor": "white",
            "ticks": ""
           }
          },
          "scene": {
           "xaxis": {
            "backgroundcolor": "#E5ECF6",
            "gridcolor": "white",
            "gridwidth": 2,
            "linecolor": "white",
            "showbackground": true,
            "ticks": "",
            "zerolinecolor": "white"
           },
           "yaxis": {
            "backgroundcolor": "#E5ECF6",
            "gridcolor": "white",
            "gridwidth": 2,
            "linecolor": "white",
            "showbackground": true,
            "ticks": "",
            "zerolinecolor": "white"
           },
           "zaxis": {
            "backgroundcolor": "#E5ECF6",
            "gridcolor": "white",
            "gridwidth": 2,
            "linecolor": "white",
            "showbackground": true,
            "ticks": "",
            "zerolinecolor": "white"
           }
          },
          "shapedefaults": {
           "line": {
            "color": "#2a3f5f"
           }
          },
          "ternary": {
           "aaxis": {
            "gridcolor": "white",
            "linecolor": "white",
            "ticks": ""
           },
           "baxis": {
            "gridcolor": "white",
            "linecolor": "white",
            "ticks": ""
           },
           "bgcolor": "#E5ECF6",
           "caxis": {
            "gridcolor": "white",
            "linecolor": "white",
            "ticks": ""
           }
          },
          "title": {
           "x": 0.05
          },
          "xaxis": {
           "automargin": true,
           "gridcolor": "white",
           "linecolor": "white",
           "ticks": "",
           "title": {
            "standoff": 15
           },
           "zerolinecolor": "white",
           "zerolinewidth": 2
          },
          "yaxis": {
           "automargin": true,
           "gridcolor": "white",
           "linecolor": "white",
           "ticks": "",
           "title": {
            "standoff": 15
           },
           "zerolinecolor": "white",
           "zerolinewidth": 2
          }
         }
        },
        "title": {
         "font": {
          "color": "#4D5663"
         }
        },
        "xaxis": {
         "anchor": "y",
         "domain": [
          0,
          0.2125
         ],
         "gridcolor": "#E1E5ED",
         "showgrid": false,
         "tickfont": {
          "color": "#4D5663"
         },
         "title": {
          "font": {
           "color": "#4D5663"
          },
          "text": ""
         },
         "zerolinecolor": "#E1E5ED"
        },
        "xaxis10": {
         "anchor": "y10",
         "domain": [
          0.2625,
          0.475
         ],
         "gridcolor": "#E1E5ED",
         "showgrid": false,
         "tickfont": {
          "color": "#4D5663"
         },
         "title": {
          "font": {
           "color": "#4D5663"
          },
          "text": ""
         },
         "zerolinecolor": "#E1E5ED"
        },
        "xaxis11": {
         "anchor": "y11",
         "domain": [
          0.525,
          0.7375
         ],
         "gridcolor": "#E1E5ED",
         "showgrid": false,
         "tickfont": {
          "color": "#4D5663"
         },
         "title": {
          "font": {
           "color": "#4D5663"
          },
          "text": ""
         },
         "zerolinecolor": "#E1E5ED"
        },
        "xaxis12": {
         "anchor": "y12",
         "domain": [
          0.7875,
          1
         ],
         "gridcolor": "#E1E5ED",
         "showgrid": false,
         "tickfont": {
          "color": "#4D5663"
         },
         "title": {
          "font": {
           "color": "#4D5663"
          },
          "text": ""
         },
         "zerolinecolor": "#E1E5ED"
        },
        "xaxis13": {
         "anchor": "y13",
         "domain": [
          0,
          0.2125
         ],
         "gridcolor": "#E1E5ED",
         "showgrid": false,
         "tickfont": {
          "color": "#4D5663"
         },
         "title": {
          "font": {
           "color": "#4D5663"
          },
          "text": ""
         },
         "zerolinecolor": "#E1E5ED"
        },
        "xaxis14": {
         "anchor": "y14",
         "domain": [
          0.2625,
          0.475
         ],
         "gridcolor": "#E1E5ED",
         "showgrid": false,
         "tickfont": {
          "color": "#4D5663"
         },
         "title": {
          "font": {
           "color": "#4D5663"
          },
          "text": ""
         },
         "zerolinecolor": "#E1E5ED"
        },
        "xaxis15": {
         "anchor": "y15",
         "domain": [
          0.525,
          0.7375
         ],
         "gridcolor": "#E1E5ED",
         "showgrid": false,
         "tickfont": {
          "color": "#4D5663"
         },
         "title": {
          "font": {
           "color": "#4D5663"
          },
          "text": ""
         },
         "zerolinecolor": "#E1E5ED"
        },
        "xaxis16": {
         "anchor": "y16",
         "domain": [
          0.7875,
          1
         ],
         "gridcolor": "#E1E5ED",
         "showgrid": false,
         "tickfont": {
          "color": "#4D5663"
         },
         "title": {
          "font": {
           "color": "#4D5663"
          },
          "text": ""
         },
         "zerolinecolor": "#E1E5ED"
        },
        "xaxis2": {
         "anchor": "y2",
         "domain": [
          0.2625,
          0.475
         ],
         "gridcolor": "#E1E5ED",
         "showgrid": false,
         "tickfont": {
          "color": "#4D5663"
         },
         "title": {
          "font": {
           "color": "#4D5663"
          },
          "text": ""
         },
         "zerolinecolor": "#E1E5ED"
        },
        "xaxis3": {
         "anchor": "y3",
         "domain": [
          0.525,
          0.7375
         ],
         "gridcolor": "#E1E5ED",
         "showgrid": false,
         "tickfont": {
          "color": "#4D5663"
         },
         "title": {
          "font": {
           "color": "#4D5663"
          },
          "text": ""
         },
         "zerolinecolor": "#E1E5ED"
        },
        "xaxis4": {
         "anchor": "y4",
         "domain": [
          0.7875,
          1
         ],
         "gridcolor": "#E1E5ED",
         "showgrid": false,
         "tickfont": {
          "color": "#4D5663"
         },
         "title": {
          "font": {
           "color": "#4D5663"
          },
          "text": ""
         },
         "zerolinecolor": "#E1E5ED"
        },
        "xaxis5": {
         "anchor": "y5",
         "domain": [
          0,
          0.2125
         ],
         "gridcolor": "#E1E5ED",
         "showgrid": false,
         "tickfont": {
          "color": "#4D5663"
         },
         "title": {
          "font": {
           "color": "#4D5663"
          },
          "text": ""
         },
         "zerolinecolor": "#E1E5ED"
        },
        "xaxis6": {
         "anchor": "y6",
         "domain": [
          0.2625,
          0.475
         ],
         "gridcolor": "#E1E5ED",
         "showgrid": false,
         "tickfont": {
          "color": "#4D5663"
         },
         "title": {
          "font": {
           "color": "#4D5663"
          },
          "text": ""
         },
         "zerolinecolor": "#E1E5ED"
        },
        "xaxis7": {
         "anchor": "y7",
         "domain": [
          0.525,
          0.7375
         ],
         "gridcolor": "#E1E5ED",
         "showgrid": false,
         "tickfont": {
          "color": "#4D5663"
         },
         "title": {
          "font": {
           "color": "#4D5663"
          },
          "text": ""
         },
         "zerolinecolor": "#E1E5ED"
        },
        "xaxis8": {
         "anchor": "y8",
         "domain": [
          0.7875,
          1
         ],
         "gridcolor": "#E1E5ED",
         "showgrid": false,
         "tickfont": {
          "color": "#4D5663"
         },
         "title": {
          "font": {
           "color": "#4D5663"
          },
          "text": ""
         },
         "zerolinecolor": "#E1E5ED"
        },
        "xaxis9": {
         "anchor": "y9",
         "domain": [
          0,
          0.2125
         ],
         "gridcolor": "#E1E5ED",
         "showgrid": false,
         "tickfont": {
          "color": "#4D5663"
         },
         "title": {
          "font": {
           "color": "#4D5663"
          },
          "text": ""
         },
         "zerolinecolor": "#E1E5ED"
        },
        "yaxis": {
         "anchor": "x",
         "domain": [
          0.8025,
          1
         ],
         "gridcolor": "#E1E5ED",
         "showgrid": false,
         "tickfont": {
          "color": "#4D5663"
         },
         "title": {
          "font": {
           "color": "#4D5663"
          },
          "text": ""
         },
         "zerolinecolor": "#E1E5ED"
        },
        "yaxis10": {
         "anchor": "x10",
         "domain": [
          0.2675,
          0.465
         ],
         "gridcolor": "#E1E5ED",
         "showgrid": false,
         "tickfont": {
          "color": "#4D5663"
         },
         "title": {
          "font": {
           "color": "#4D5663"
          },
          "text": ""
         },
         "zerolinecolor": "#E1E5ED"
        },
        "yaxis11": {
         "anchor": "x11",
         "domain": [
          0.2675,
          0.465
         ],
         "gridcolor": "#E1E5ED",
         "showgrid": false,
         "tickfont": {
          "color": "#4D5663"
         },
         "title": {
          "font": {
           "color": "#4D5663"
          },
          "text": ""
         },
         "zerolinecolor": "#E1E5ED"
        },
        "yaxis12": {
         "anchor": "x12",
         "domain": [
          0.2675,
          0.465
         ],
         "gridcolor": "#E1E5ED",
         "showgrid": false,
         "tickfont": {
          "color": "#4D5663"
         },
         "title": {
          "font": {
           "color": "#4D5663"
          },
          "text": ""
         },
         "zerolinecolor": "#E1E5ED"
        },
        "yaxis13": {
         "anchor": "x13",
         "domain": [
          0,
          0.1975
         ],
         "gridcolor": "#E1E5ED",
         "showgrid": false,
         "tickfont": {
          "color": "#4D5663"
         },
         "title": {
          "font": {
           "color": "#4D5663"
          },
          "text": ""
         },
         "zerolinecolor": "#E1E5ED"
        },
        "yaxis14": {
         "anchor": "x14",
         "domain": [
          0,
          0.1975
         ],
         "gridcolor": "#E1E5ED",
         "showgrid": false,
         "tickfont": {
          "color": "#4D5663"
         },
         "title": {
          "font": {
           "color": "#4D5663"
          },
          "text": ""
         },
         "zerolinecolor": "#E1E5ED"
        },
        "yaxis15": {
         "anchor": "x15",
         "domain": [
          0,
          0.1975
         ],
         "gridcolor": "#E1E5ED",
         "showgrid": false,
         "tickfont": {
          "color": "#4D5663"
         },
         "title": {
          "font": {
           "color": "#4D5663"
          },
          "text": ""
         },
         "zerolinecolor": "#E1E5ED"
        },
        "yaxis16": {
         "anchor": "x16",
         "domain": [
          0,
          0.1975
         ],
         "gridcolor": "#E1E5ED",
         "showgrid": false,
         "tickfont": {
          "color": "#4D5663"
         },
         "title": {
          "font": {
           "color": "#4D5663"
          },
          "text": ""
         },
         "zerolinecolor": "#E1E5ED"
        },
        "yaxis2": {
         "anchor": "x2",
         "domain": [
          0.8025,
          1
         ],
         "gridcolor": "#E1E5ED",
         "showgrid": false,
         "tickfont": {
          "color": "#4D5663"
         },
         "title": {
          "font": {
           "color": "#4D5663"
          },
          "text": ""
         },
         "zerolinecolor": "#E1E5ED"
        },
        "yaxis3": {
         "anchor": "x3",
         "domain": [
          0.8025,
          1
         ],
         "gridcolor": "#E1E5ED",
         "showgrid": false,
         "tickfont": {
          "color": "#4D5663"
         },
         "title": {
          "font": {
           "color": "#4D5663"
          },
          "text": ""
         },
         "zerolinecolor": "#E1E5ED"
        },
        "yaxis4": {
         "anchor": "x4",
         "domain": [
          0.8025,
          1
         ],
         "gridcolor": "#E1E5ED",
         "showgrid": false,
         "tickfont": {
          "color": "#4D5663"
         },
         "title": {
          "font": {
           "color": "#4D5663"
          },
          "text": ""
         },
         "zerolinecolor": "#E1E5ED"
        },
        "yaxis5": {
         "anchor": "x5",
         "domain": [
          0.535,
          0.7325
         ],
         "gridcolor": "#E1E5ED",
         "showgrid": false,
         "tickfont": {
          "color": "#4D5663"
         },
         "title": {
          "font": {
           "color": "#4D5663"
          },
          "text": ""
         },
         "zerolinecolor": "#E1E5ED"
        },
        "yaxis6": {
         "anchor": "x6",
         "domain": [
          0.535,
          0.7325
         ],
         "gridcolor": "#E1E5ED",
         "showgrid": false,
         "tickfont": {
          "color": "#4D5663"
         },
         "title": {
          "font": {
           "color": "#4D5663"
          },
          "text": ""
         },
         "zerolinecolor": "#E1E5ED"
        },
        "yaxis7": {
         "anchor": "x7",
         "domain": [
          0.535,
          0.7325
         ],
         "gridcolor": "#E1E5ED",
         "showgrid": false,
         "tickfont": {
          "color": "#4D5663"
         },
         "title": {
          "font": {
           "color": "#4D5663"
          },
          "text": ""
         },
         "zerolinecolor": "#E1E5ED"
        },
        "yaxis8": {
         "anchor": "x8",
         "domain": [
          0.535,
          0.7325
         ],
         "gridcolor": "#E1E5ED",
         "showgrid": false,
         "tickfont": {
          "color": "#4D5663"
         },
         "title": {
          "font": {
           "color": "#4D5663"
          },
          "text": ""
         },
         "zerolinecolor": "#E1E5ED"
        },
        "yaxis9": {
         "anchor": "x9",
         "domain": [
          0.2675,
          0.465
         ],
         "gridcolor": "#E1E5ED",
         "showgrid": false,
         "tickfont": {
          "color": "#4D5663"
         },
         "title": {
          "font": {
           "color": "#4D5663"
          },
          "text": ""
         },
         "zerolinecolor": "#E1E5ED"
        }
       }
      }
     },
     "metadata": {}
    }
   ],
   "metadata": {}
  },
  {
   "cell_type": "code",
   "execution_count": null,
   "source": [],
   "outputs": [],
   "metadata": {}
  }
 ],
 "metadata": {
  "orig_nbformat": 4,
  "language_info": {
   "name": "python",
   "version": "3.8.5",
   "mimetype": "text/x-python",
   "codemirror_mode": {
    "name": "ipython",
    "version": 3
   },
   "pygments_lexer": "ipython3",
   "nbconvert_exporter": "python",
   "file_extension": ".py"
  },
  "kernelspec": {
   "name": "python3",
   "display_name": "Python 3.8.5 64-bit ('base': conda)"
  },
  "interpreter": {
   "hash": "3ebb3b5889f8b8ea9baf04abef8021eb32e5bc4aca22e9d8e3d938dbe8691048"
  }
 },
 "nbformat": 4,
 "nbformat_minor": 2
}