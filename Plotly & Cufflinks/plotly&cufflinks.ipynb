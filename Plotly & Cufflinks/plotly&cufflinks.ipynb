{
 "cells": [
  {
   "cell_type": "markdown",
   "source": [
    "## Plotly is interactive visualisation library\r\n",
    "## Cufflinks connects Plotly and Pandas\r\n",
    "\r\n",
    "Conda don't come with these so need to pip install these."
   ],
   "metadata": {}
  },
  {
   "cell_type": "code",
   "execution_count": 11,
   "source": [
    "import numpy as np\r\n",
    "import pandas as pd\r\n",
    "%matplotlib inline"
   ],
   "outputs": [],
   "metadata": {}
  },
  {
   "cell_type": "code",
   "execution_count": 12,
   "source": [
    "from plotly import __version__\r\n",
    "print(__version__)"
   ],
   "outputs": [
    {
     "output_type": "stream",
     "name": "stdout",
     "text": [
      "5.1.0\n"
     ]
    }
   ],
   "metadata": {}
  },
  {
   "cell_type": "code",
   "execution_count": 13,
   "source": [
    "import cufflinks as cf"
   ],
   "outputs": [],
   "metadata": {}
  },
  {
   "cell_type": "code",
   "execution_count": 14,
   "source": [
    "from plotly.offline import download_plotlyjs, init_notebook_mode, plot, iplot"
   ],
   "outputs": [],
   "metadata": {}
  },
  {
   "cell_type": "code",
   "execution_count": 15,
   "source": [
    "init_notebook_mode(connected= True) # will connect javascript to over notebook"
   ],
   "outputs": [
    {
     "output_type": "display_data",
     "data": {
      "text/html": [
       "        <script type=\"text/javascript\">\n",
       "        window.PlotlyConfig = {MathJaxConfig: 'local'};\n",
       "        if (window.MathJax) {MathJax.Hub.Config({SVG: {font: \"STIX-Web\"}});}\n",
       "        if (typeof require !== 'undefined') {\n",
       "        require.undef(\"plotly\");\n",
       "        requirejs.config({\n",
       "            paths: {\n",
       "                'plotly': ['https://cdn.plot.ly/plotly-2.2.0.min']\n",
       "            }\n",
       "        });\n",
       "        require(['plotly'], function(Plotly) {\n",
       "            window._Plotly = Plotly;\n",
       "        });\n",
       "        }\n",
       "        </script>\n",
       "        "
      ]
     },
     "metadata": {}
    }
   ],
   "metadata": {}
  },
  {
   "cell_type": "code",
   "execution_count": 16,
   "source": [
    "cf.go_offline()"
   ],
   "outputs": [
    {
     "output_type": "display_data",
     "data": {
      "text/html": [
       "        <script type=\"text/javascript\">\n",
       "        window.PlotlyConfig = {MathJaxConfig: 'local'};\n",
       "        if (window.MathJax) {MathJax.Hub.Config({SVG: {font: \"STIX-Web\"}});}\n",
       "        if (typeof require !== 'undefined') {\n",
       "        require.undef(\"plotly\");\n",
       "        requirejs.config({\n",
       "            paths: {\n",
       "                'plotly': ['https://cdn.plot.ly/plotly-2.2.0.min']\n",
       "            }\n",
       "        });\n",
       "        require(['plotly'], function(Plotly) {\n",
       "            window._Plotly = Plotly;\n",
       "        });\n",
       "        }\n",
       "        </script>\n",
       "        "
      ]
     },
     "metadata": {}
    }
   ],
   "metadata": {}
  },
  {
   "cell_type": "code",
   "execution_count": 17,
   "source": [
    "# DATA\r\n",
    "df = pd.DataFrame(np.random.randn(100,4), columns='A B C D'.split())\r\n",
    "df.head()"
   ],
   "outputs": [
    {
     "output_type": "execute_result",
     "data": {
      "text/plain": [
       "          A         B         C         D\n",
       "0  0.282607  0.022389  0.966497 -1.186642\n",
       "1  1.233222  1.829093 -0.467900 -1.986604\n",
       "2  0.435406 -1.509713 -0.240574  0.164675\n",
       "3  0.684760  1.695793 -3.590592 -1.130801\n",
       "4  0.820564 -0.752591  0.539543 -0.070764"
      ],
      "text/html": [
       "<div>\n",
       "<style scoped>\n",
       "    .dataframe tbody tr th:only-of-type {\n",
       "        vertical-align: middle;\n",
       "    }\n",
       "\n",
       "    .dataframe tbody tr th {\n",
       "        vertical-align: top;\n",
       "    }\n",
       "\n",
       "    .dataframe thead th {\n",
       "        text-align: right;\n",
       "    }\n",
       "</style>\n",
       "<table border=\"1\" class=\"dataframe\">\n",
       "  <thead>\n",
       "    <tr style=\"text-align: right;\">\n",
       "      <th></th>\n",
       "      <th>A</th>\n",
       "      <th>B</th>\n",
       "      <th>C</th>\n",
       "      <th>D</th>\n",
       "    </tr>\n",
       "  </thead>\n",
       "  <tbody>\n",
       "    <tr>\n",
       "      <th>0</th>\n",
       "      <td>0.282607</td>\n",
       "      <td>0.022389</td>\n",
       "      <td>0.966497</td>\n",
       "      <td>-1.186642</td>\n",
       "    </tr>\n",
       "    <tr>\n",
       "      <th>1</th>\n",
       "      <td>1.233222</td>\n",
       "      <td>1.829093</td>\n",
       "      <td>-0.467900</td>\n",
       "      <td>-1.986604</td>\n",
       "    </tr>\n",
       "    <tr>\n",
       "      <th>2</th>\n",
       "      <td>0.435406</td>\n",
       "      <td>-1.509713</td>\n",
       "      <td>-0.240574</td>\n",
       "      <td>0.164675</td>\n",
       "    </tr>\n",
       "    <tr>\n",
       "      <th>3</th>\n",
       "      <td>0.684760</td>\n",
       "      <td>1.695793</td>\n",
       "      <td>-3.590592</td>\n",
       "      <td>-1.130801</td>\n",
       "    </tr>\n",
       "    <tr>\n",
       "      <th>4</th>\n",
       "      <td>0.820564</td>\n",
       "      <td>-0.752591</td>\n",
       "      <td>0.539543</td>\n",
       "      <td>-0.070764</td>\n",
       "    </tr>\n",
       "  </tbody>\n",
       "</table>\n",
       "</div>"
      ]
     },
     "metadata": {},
     "execution_count": 17
    }
   ],
   "metadata": {}
  },
  {
   "cell_type": "code",
   "execution_count": 18,
   "source": [
    "df2 = pd.DataFrame({'Category':['A','B','C'], 'Values':[32,43,54]})\r\n",
    "df2"
   ],
   "outputs": [
    {
     "output_type": "execute_result",
     "data": {
      "text/plain": [
       "  Category  Values\n",
       "0        A      32\n",
       "1        B      43\n",
       "2        C      54"
      ],
      "text/html": [
       "<div>\n",
       "<style scoped>\n",
       "    .dataframe tbody tr th:only-of-type {\n",
       "        vertical-align: middle;\n",
       "    }\n",
       "\n",
       "    .dataframe tbody tr th {\n",
       "        vertical-align: top;\n",
       "    }\n",
       "\n",
       "    .dataframe thead th {\n",
       "        text-align: right;\n",
       "    }\n",
       "</style>\n",
       "<table border=\"1\" class=\"dataframe\">\n",
       "  <thead>\n",
       "    <tr style=\"text-align: right;\">\n",
       "      <th></th>\n",
       "      <th>Category</th>\n",
       "      <th>Values</th>\n",
       "    </tr>\n",
       "  </thead>\n",
       "  <tbody>\n",
       "    <tr>\n",
       "      <th>0</th>\n",
       "      <td>A</td>\n",
       "      <td>32</td>\n",
       "    </tr>\n",
       "    <tr>\n",
       "      <th>1</th>\n",
       "      <td>B</td>\n",
       "      <td>43</td>\n",
       "    </tr>\n",
       "    <tr>\n",
       "      <th>2</th>\n",
       "      <td>C</td>\n",
       "      <td>54</td>\n",
       "    </tr>\n",
       "  </tbody>\n",
       "</table>\n",
       "</div>"
      ]
     },
     "metadata": {},
     "execution_count": 18
    }
   ],
   "metadata": {}
  },
  {
   "cell_type": "code",
   "execution_count": 19,
   "source": [
    " df.plot()"
   ],
   "outputs": [
    {
     "output_type": "execute_result",
     "data": {
      "text/plain": [
       "<AxesSubplot:>"
      ]
     },
     "metadata": {},
     "execution_count": 19
    },
    {
     "output_type": "display_data",
     "data": {
      "text/plain": [
       "<Figure size 432x288 with 1 Axes>"
      ],
      "image/png": "[encoded data removed]"
     },
     "metadata": {
      "needs_background": "light"
     }
    }
   ],
   "metadata": {}
  },
  {
   "cell_type": "code",
   "execution_count": 20,
   "source": [
    "df.iplot()   # interactive plot(hover through the plot)"
   ],
   "outputs": [
    {
     "output_type": "display_data",
     "data": {
      "text/html": [
       "<div>                            <div id=\"8755693b-7afa-48a0-a05a-5d8021e11ca2\" class=\"plotly-graph-div\" style=\"height:525px; width:100%;\"></div>            <script type=\"text/javascript\">                require([\"plotly\"], function(Plotly) {                    window.PLOTLYENV=window.PLOTLYENV || {};\n",
       "                    window.PLOTLYENV.BASE_URL='https://plot.ly';                                    if (document.getElementById(\"8755693b-7afa-48a0-a05a-5d8021e11ca2\")) {                    Plotly.newPlot(                        \"8755693b-7afa-48a0-a05a-5d8021e11ca2\",                        [{\"line\":{\"color\":\"rgba(255, 153, 51, 1.0)\",\"dash\":\"solid\",\"shape\":\"linear\",\"width\":1.3},\"mode\":\"lines\",\"name\":\"A\",\"text\":\"\",\"type\":\"scatter\",\"x\":[0,1,2,3,4,5,6,7,8,9,10,11,12,13,14,15,16,17,18,19,20,21,22,23,24,25,26,27,28,29,30,31,32,33,34,35,36,37,38,39,40,41,42,43,44,45,46,47,48,49,50,51,52,53,54,55,56,57,58,59,60,61,62,63,64,65,66,67,68,69,70,71,72,73,74,75,76,77,78,79,80,81,82,83,84,85,86,87,88,89,90,91,92,93,94,95,96,97,98,99],\"y\":[0.28260698112987354,1.2332223035677228,0.4354055579200026,0.684759709370233,0.8205643427114727,-1.3123016078670058,-1.0421846170130413,-1.1778360357804665,0.6405227689851866,0.896953225143016,0.11502536825042851,0.7444667426123641,-0.6528328018776338,-1.2830692828784618,2.0908639299495677,1.0225481490851083,0.39322400446656125,-0.26124884511538443,-0.5835894078980552,-0.3372953485334146,1.6234150403275498,-1.587565794691716,-0.39776984283250594,-1.5549809730395452,-0.8452085757366412,1.072028303213556,0.10514751683865811,-0.33414899672733955,1.823432298747814,0.5206457012847417,0.03905996600218491,0.6269181907820459,-0.4954428658555747,-0.9386206717256824,0.28905040119432057,0.23492282067112114,0.1808943923291083,0.17236841093311492,0.6889906382309839,1.0288695980551976,-0.1569727768588622,-0.18358406368688263,-1.1457542570391193,-0.3910209258288129,-1.1600759745877143,0.5399508584664475,0.035059553730203676,-0.05262653537622572,0.5495157380190278,1.31770866372999,2.1464465179890344,0.7354720468756241,-0.6921949173682064,-0.7238121284211304,-0.854172743896826,-0.5877774789502859,-0.19084580594184739,1.845055188768299,0.10522959580844217,0.046210510303556905,-0.5130988757804416,-0.6277187349308498,-0.6151047163108688,0.6370638220645015,0.6883816792662871,0.18295167521838557,-1.9183851732628938,-0.28680238502899236,1.6553007959555133,0.7329632226103048,-1.3394236934620238,-0.09406533028228026,-1.382875638706075,-0.4120149910272494,0.6669267354930765,-2.32615065345653,-0.25313596136549654,-0.46372496132005736,-1.1870032215293345,-0.3550777187080226,1.1500933588304456,1.5482500175677016,0.9963449010314787,-2.020385639407404,0.32913362224647275,0.2051209366949203,-2.798672797831999,-0.5367480991818759,0.6864017113281099,0.4128662803645042,0.055040290098980336,-1.0374589348763255,0.0053545588567285455,0.8835500369540613,0.22846427633620606,0.04856207029981859,1.1858403102536184,-1.7535498535812377,-0.7127363357457197,0.1933573684257538]},{\"line\":{\"color\":\"rgba(55, 128, 191, 1.0)\",\"dash\":\"solid\",\"shape\":\"linear\",\"width\":1.3},\"mode\":\"lines\",\"name\":\"B\",\"text\":\"\",\"type\":\"scatter\",\"x\":[0,1,2,3,4,5,6,7,8,9,10,11,12,13,14,15,16,17,18,19,20,21,22,23,24,25,26,27,28,29,30,31,32,33,34,35,36,37,38,39,40,41,42,43,44,45,46,47,48,49,50,51,52,53,54,55,56,57,58,59,60,61,62,63,64,65,66,67,68,69,70,71,72,73,74,75,76,77,78,79,80,81,82,83,84,85,86,87,88,89,90,91,92,93,94,95,96,97,98,99],\"y\":[0.022389475048935265,1.8290928733468865,-1.509713460693209,1.6957931970667792,-0.7525906520212029,0.11609062449232817,1.7094863232497712,1.0292038619769324,1.2051691119090802,2.340947506602518,-0.0995787549567306,0.2466147179942447,0.9405189126029937,0.8517710193067809,-0.046404248058671396,-0.5925889521365969,0.8037227441228202,-2.7020787621549305,-0.341454510479606,0.7346526177611036,2.0895121816318025,-0.6780510485836285,-0.45224873011830086,0.7567129711846172,0.27897172913001933,-0.7860963376378569,-0.6811413636016931,-0.5050713733689921,-0.7722981634334856,-0.4839489448636563,0.060718220652621474,0.23212710687714627,-0.7040894564192428,0.29330221940466983,0.8851930583351505,-1.7693522616768054,1.5020741990856254,-0.07252055213386965,1.7343951351062281,-1.21545220170653,0.386642731141691,-0.05594625519108832,0.8461323832790876,-0.27269062945776495,0.4538322771748423,-1.277971973594255,-0.11861541261306813,0.09037222191981434,0.8562485677210195,0.6491691162513201,0.49583654523107756,-0.02821324373016544,2.573403054215749,1.4670735494433012,-0.985611289200857,-0.755763055241671,0.33839013750486807,-0.8168031458939141,-0.9003126775577408,0.13490490310417672,-0.08576411004279402,-0.18797279848370876,1.1241636135657675,0.15766639776641284,0.4377345760896562,-1.958428796015208,-0.30970281302374897,-0.891431028335931,-0.9031719582672437,0.47315352724287163,-0.20589326300666203,0.19712922366774394,0.8075527567906355,-1.6065534149782208,-0.9630292552323951,-1.1586930443247494,1.2873239198109414,-0.05217774060011166,0.39566885835071103,-0.09076734540981475,0.21120386157922594,0.33261537919842593,-0.8285287838464227,-0.5974587253058745,-0.7450451714389204,1.3789103744719413,0.04691738088613078,1.1736763700147501,-0.809295879158127,-0.4635961850231098,0.9152631634009001,0.04428667667072247,1.1219166050000338,0.07775544260463252,-0.2716090069282571,-0.14247107290405608,-0.8676658867073334,-0.1422026486725549,0.5392731498786643,1.3082619835490465]},{\"line\":{\"color\":\"rgba(50, 171, 96, 1.0)\",\"dash\":\"solid\",\"shape\":\"linear\",\"width\":1.3},\"mode\":\"lines\",\"name\":\"C\",\"text\":\"\",\"type\":\"scatter\",\"x\":[0,1,2,3,4,5,6,7,8,9,10,11,12,13,14,15,16,17,18,19,20,21,22,23,24,25,26,27,28,29,30,31,32,33,34,35,36,37,38,39,40,41,42,43,44,45,46,47,48,49,50,51,52,53,54,55,56,57,58,59,60,61,62,63,64,65,66,67,68,69,70,71,72,73,74,75,76,77,78,79,80,81,82,83,84,85,86,87,88,89,90,91,92,93,94,95,96,97,98,99],\"y\":[0.9664970582735563,-0.46789964918335525,-0.2405740754514376,-3.590591502189784,0.5395428929614711,-0.3367567285770683,-1.8714421107568917,-0.47491971129458,0.32042142514595096,-0.9676826608365573,-0.6642429842791522,-0.3034588970352596,0.08779168754751113,0.9533080396824566,-1.617331482127634,2.0756697397869894,-0.2555774491475544,0.31266024483565785,1.2418753671038367,-0.7516808978776661,-0.08022087607604463,-0.3051982959848779,-2.0157437419172926,0.3084589774620918,1.4038179097791412,-0.32121162089698846,-0.514684494287618,0.48337996426837,1.5903070018644074,-0.1882877648244508,0.5196648715430016,-0.9988201452723837,-0.16536368129273682,0.942395819996031,0.0634685834169639,-0.16832388969652273,-1.0702254082950113,0.13322735901964206,1.5124172551467532,-0.8495463001277032,-0.2677723912998057,0.4804365407718182,1.3268275947572932,0.8340384542453612,1.209652010985153,-0.0013091401058743617,-0.21108689198600727,2.6149952312836935,1.6258429303776016,1.0396993976101097,-1.1050898894946521,-1.2943994945614044,2.5035356234991135,1.1784481426711537,-2.623249402399246,-0.05907688448245229,-1.1114801966325114,1.5696885582438638,-1.157058515839244,-0.42746347807422935,-1.4057625049557723,0.1083803010705211,-0.4643993404370773,-1.0949889658152654,0.38951626307157217,-2.4054687475668186,0.06932609515539329,0.5633012479025268,2.386416007543127,0.008173492068420364,-0.577593905045356,-0.07212656914991908,0.11699421010102677,-1.0292534431522433,-0.5462473610232562,-0.9336214134898907,-0.6410237895480826,-1.508040248696955,-0.4518858516715683,-1.1196099993265436,-0.008889835117074214,-1.01194061906323,-1.9238348271008514,1.6532021744000869,0.14659514489707398,1.8636827761064763,0.5880498797095964,1.3595581644727863,0.8655213663063679,0.7012662790130755,-1.1635037101912447,1.1493955037224879,-0.9552905498115817,-1.0641249245743185,0.43369040695218797,-1.0242386221355413,-1.1169386385975968,-0.9502791189926046,-1.3389946305018539,1.089668094313534]},{\"line\":{\"color\":\"rgba(128, 0, 128, 1.0)\",\"dash\":\"solid\",\"shape\":\"linear\",\"width\":1.3},\"mode\":\"lines\",\"name\":\"D\",\"text\":\"\",\"type\":\"scatter\",\"x\":[0,1,2,3,4,5,6,7,8,9,10,11,12,13,14,15,16,17,18,19,20,21,22,23,24,25,26,27,28,29,30,31,32,33,34,35,36,37,38,39,40,41,42,43,44,45,46,47,48,49,50,51,52,53,54,55,56,57,58,59,60,61,62,63,64,65,66,67,68,69,70,71,72,73,74,75,76,77,78,79,80,81,82,83,84,85,86,87,88,89,90,91,92,93,94,95,96,97,98,99],\"y\":[-1.1866421575493031,-1.986604198888067,0.16467538595694206,-1.1308010782210471,-0.07076438123290851,0.724520593694783,-1.4761782874735025,0.08437566894782798,2.074129419648802,1.6069524262625694,-0.13908534295011282,-0.3003402860072987,0.6921702785416795,-1.9201622041067101,-1.3980074385332706,1.3350668270334851,1.2756263687959617,0.8739960966442463,-1.2641406083662499,0.42033988325675564,0.43899206983929123,-1.3129428112287669,0.610354291677373,-0.751635050584645,0.12903887543654288,1.6271053388502836,0.4182559111933804,-0.06552503497436252,1.3114727141307423,-0.37059158220462224,-1.1370972361825888,0.3880233854858336,0.6871228241460234,0.38475045181013534,-0.2763977889415171,-0.20738909323874996,-1.016040980655972,0.20389779709922765,0.1734376247271563,-1.3483275824297707,0.635044400064331,-0.362548538640103,1.1245839401687456,-1.0179219702001583,0.09612590992377998,-1.2682806513028568,0.5803937655676308,-0.19046597613235278,-0.5794391658285439,0.2016968884401208,-0.5730357971276588,1.3396995187114216,0.04459377004914965,0.6563713297858776,-0.9374267372303812,0.03829403249616747,-0.5416406889415903,-1.5711668326056059,-0.5620762189649057,-0.3995369576975491,2.002664353363975,1.7751957837142995,1.5737777141928229,-0.4501110009596937,0.07966299198469318,-0.8627016793193968,-0.6584494898205258,-0.22771228370325047,0.5124079006413969,0.04951229827699428,-1.669063992458228,-0.4096140549262819,1.5091057645364427,0.9510393845684826,-0.5673876398198321,-1.3394643292313082,-2.0231108493846968,-0.4176080531787797,1.574838309030109,-1.2168644682394885,-0.8924621448728103,-0.07821444966011008,-0.13878636004490671,1.7170910953292027,-0.6163367637532748,-1.413025708791589,0.8718750442254107,-2.794762506476646,2.1782072502003875,-0.8763708933468688,1.048898753323657,0.8768693352415778,0.2614097632621545,1.3845550601634644,-1.7071805199098733,0.849220709637832,0.493255182884632,-0.26065297996251663,0.491882868197805,-0.6193882312007187]}],                        {\"legend\":{\"bgcolor\":\"#F5F6F9\",\"font\":{\"color\":\"#4D5663\"}},\"paper_bgcolor\":\"#F5F6F9\",\"plot_bgcolor\":\"#F5F6F9\",\"template\":{\"data\":{\"bar\":[{\"error_x\":{\"color\":\"#2a3f5f\"},\"error_y\":{\"color\":\"#2a3f5f\"},\"marker\":{\"line\":{\"color\":\"#E5ECF6\",\"width\":0.5},\"pattern\":{\"fillmode\":\"overlay\",\"size\":10,\"solidity\":0.2}},\"type\":\"bar\"}],\"barpolar\":[{\"marker\":{\"line\":{\"color\":\"#E5ECF6\",\"width\":0.5},\"pattern\":{\"fillmode\":\"overlay\",\"size\":10,\"solidity\":0.2}},\"type\":\"barpolar\"}],\"carpet\":[{\"aaxis\":{\"endlinecolor\":\"#2a3f5f\",\"gridcolor\":\"white\",\"linecolor\":\"white\",\"minorgridcolor\":\"white\",\"startlinecolor\":\"#2a3f5f\"},\"baxis\":{\"endlinecolor\":\"#2a3f5f\",\"gridcolor\":\"white\",\"linecolor\":\"white\",\"minorgridcolor\":\"white\",\"startlinecolor\":\"#2a3f5f\"},\"type\":\"carpet\"}],\"choropleth\":[{\"colorbar\":{\"outlinewidth\":0,\"ticks\":\"\"},\"type\":\"choropleth\"}],\"contour\":[{\"colorbar\":{\"outlinewidth\":0,\"ticks\":\"\"},\"colorscale\":[[0.0,\"#0d0887\"],[0.1111111111111111,\"#46039f\"],[0.2222222222222222,\"#7201a8\"],[0.3333333333333333,\"#9c179e\"],[0.4444444444444444,\"#bd3786\"],[0.5555555555555556,\"#d8576b\"],[0.6666666666666666,\"#ed7953\"],[0.7777777777777778,\"#fb9f3a\"],[0.8888888888888888,\"#fdca26\"],[1.0,\"#f0f921\"]],\"type\":\"contour\"}],\"contourcarpet\":[{\"colorbar\":{\"outlinewidth\":0,\"ticks\":\"\"},\"type\":\"contourcarpet\"}],\"heatmap\":[{\"colorbar\":{\"outlinewidth\":0,\"ticks\":\"\"},\"colorscale\":[[0.0,\"#0d0887\"],[0.1111111111111111,\"#46039f\"],[0.2222222222222222,\"#7201a8\"],[0.3333333333333333,\"#9c179e\"],[0.4444444444444444,\"#bd3786\"],[0.5555555555555556,\"#d8576b\"],[0.6666666666666666,\"#ed7953\"],[0.7777777777777778,\"#fb9f3a\"],[0.8888888888888888,\"#fdca26\"],[1.0,\"#f0f921\"]],\"type\":\"heatmap\"}],\"heatmapgl\":[{\"colorbar\":{\"outlinewidth\":0,\"ticks\":\"\"},\"colorscale\":[[0.0,\"#0d0887\"],[0.1111111111111111,\"#46039f\"],[0.2222222222222222,\"#7201a8\"],[0.3333333333333333,\"#9c179e\"],[0.4444444444444444,\"#bd3786\"],[0.5555555555555556,\"#d8576b\"],[0.6666666666666666,\"#ed7953\"],[0.7777777777777778,\"#fb9f3a\"],[0.8888888888888888,\"#fdca26\"],[1.0,\"#f0f921\"]],\"type\":\"heatmapgl\"}],\"histogram\":[{\"marker\":{\"pattern\":{\"fillmode\":\"overlay\",\"size\":10,\"solidity\":0.2}},\"type\":\"histogram\"}],\"histogram2d\":[{\"colorbar\":{\"outlinewidth\":0,\"ticks\":\"\"},\"colorscale\":[[0.0,\"#0d0887\"],[0.1111111111111111,\"#46039f\"],[0.2222222222222222,\"#7201a8\"],[0.3333333333333333,\"#9c179e\"],[0.4444444444444444,\"#bd3786\"],[0.5555555555555556,\"#d8576b\"],[0.6666666666666666,\"#ed7953\"],[0.7777777777777778,\"#fb9f3a\"],[0.8888888888888888,\"#fdca26\"],[1.0,\"#f0f921\"]],\"type\":\"histogram2d\"}],\"histogram2dcontour\":[{\"colorbar\":{\"outlinewidth\":0,\"ticks\":\"\"},\"colorscale\":[[0.0,\"#0d0887\"],[0.1111111111111111,\"#46039f\"],[0.2222222222222222,\"#7201a8\"],[0.3333333333333333,\"#9c179e\"],[0.4444444444444444,\"#bd3786\"],[0.5555555555555556,\"#d8576b\"],[0.6666666666666666,\"#ed7953\"],[0.7777777777777778,\"#fb9f3a\"],[0.8888888888888888,\"#fdca26\"],[1.0,\"#f0f921\"]],\"type\":\"histogram2dcontour\"}],\"mesh3d\":[{\"colorbar\":{\"outlinewidth\":0,\"ticks\":\"\"},\"type\":\"mesh3d\"}],\"parcoords\":[{\"line\":{\"colorbar\":{\"outlinewidth\":0,\"ticks\":\"\"}},\"type\":\"parcoords\"}],\"pie\":[{\"automargin\":true,\"type\":\"pie\"}],\"scatter\":[{\"marker\":{\"colorbar\":{\"outlinewidth\":0,\"ticks\":\"\"}},\"type\":\"scatter\"}],\"scatter3d\":[{\"line\":{\"colorbar\":{\"outlinewidth\":0,\"ticks\":\"\"}},\"marker\":{\"colorbar\":{\"outlinewidth\":0,\"ticks\":\"\"}},\"type\":\"scatter3d\"}],\"scattercarpet\":[{\"marker\":{\"colorbar\":{\"outlinewidth\":0,\"ticks\":\"\"}},\"type\":\"scattercarpet\"}],\"scattergeo\":[{\"marker\":{\"colorbar\":{\"outlinewidth\":0,\"ticks\":\"\"}},\"type\":\"scattergeo\"}],\"scattergl\":[{\"marker\":{\"colorbar\":{\"outlinewidth\":0,\"ticks\":\"\"}},\"type\":\"scattergl\"}],\"scattermapbox\":[{\"marker\":{\"colorbar\":{\"outlinewidth\":0,\"ticks\":\"\"}},\"type\":\"scattermapbox\"}],\"scatterpolar\":[{\"marker\":{\"colorbar\":{\"outlinewidth\":0,\"ticks\":\"\"}},\"type\":\"scatterpolar\"}],\"scatterpolargl\":[{\"marker\":{\"colorbar\":{\"outlinewidth\":0,\"ticks\":\"\"}},\"type\":\"scatterpolargl\"}],\"scatterternary\":[{\"marker\":{\"colorbar\":{\"outlinewidth\":0,\"ticks\":\"\"}},\"type\":\"scatterternary\"}],\"surface\":[{\"colorbar\":{\"outlinewidth\":0,\"ticks\":\"\"},\"colorscale\":[[0.0,\"#0d0887\"],[0.1111111111111111,\"#46039f\"],[0.2222222222222222,\"#7201a8\"],[0.3333333333333333,\"#9c179e\"],[0.4444444444444444,\"#bd3786\"],[0.5555555555555556,\"#d8576b\"],[0.6666666666666666,\"#ed7953\"],[0.7777777777777778,\"#fb9f3a\"],[0.8888888888888888,\"#fdca26\"],[1.0,\"#f0f921\"]],\"type\":\"surface\"}],\"table\":[{\"cells\":{\"fill\":{\"color\":\"#EBF0F8\"},\"line\":{\"color\":\"white\"}},\"header\":{\"fill\":{\"color\":\"#C8D4E3\"},\"line\":{\"color\":\"white\"}},\"type\":\"table\"}]},\"layout\":{\"annotationdefaults\":{\"arrowcolor\":\"#2a3f5f\",\"arrowhead\":0,\"arrowwidth\":1},\"autotypenumbers\":\"strict\",\"coloraxis\":{\"colorbar\":{\"outlinewidth\":0,\"ticks\":\"\"}},\"colorscale\":{\"diverging\":[[0,\"#8e0152\"],[0.1,\"#c51b7d\"],[0.2,\"#de77ae\"],[0.3,\"#f1b6da\"],[0.4,\"#fde0ef\"],[0.5,\"#f7f7f7\"],[0.6,\"#e6f5d0\"],[0.7,\"#b8e186\"],[0.8,\"#7fbc41\"],[0.9,\"#4d9221\"],[1,\"#276419\"]],\"sequential\":[[0.0,\"#0d0887\"],[0.1111111111111111,\"#46039f\"],[0.2222222222222222,\"#7201a8\"],[0.3333333333333333,\"#9c179e\"],[0.4444444444444444,\"#bd3786\"],[0.5555555555555556,\"#d8576b\"],[0.6666666666666666,\"#ed7953\"],[0.7777777777777778,\"#fb9f3a\"],[0.8888888888888888,\"#fdca26\"],[1.0,\"#f0f921\"]],\"sequentialminus\":[[0.0,\"#0d0887\"],[0.1111111111111111,\"#46039f\"],[0.2222222222222222,\"#7201a8\"],[0.3333333333333333,\"#9c179e\"],[0.4444444444444444,\"#bd3786\"],[0.5555555555555556,\"#d8576b\"],[0.6666666666666666,\"#ed7953\"],[0.7777777777777778,\"#fb9f3a\"],[0.8888888888888888,\"#fdca26\"],[1.0,\"#f0f921\"]]},\"colorway\":[\"#636efa\",\"#EF553B\",\"#00cc96\",\"#ab63fa\",\"#FFA15A\",\"#19d3f3\",\"#FF6692\",\"#B6E880\",\"#FF97FF\",\"#FECB52\"],\"font\":{\"color\":\"#2a3f5f\"},\"geo\":{\"bgcolor\":\"white\",\"lakecolor\":\"white\",\"landcolor\":\"#E5ECF6\",\"showlakes\":true,\"showland\":true,\"subunitcolor\":\"white\"},\"hoverlabel\":{\"align\":\"left\"},\"hovermode\":\"closest\",\"mapbox\":{\"style\":\"light\"},\"paper_bgcolor\":\"white\",\"plot_bgcolor\":\"#E5ECF6\",\"polar\":{\"angularaxis\":{\"gridcolor\":\"white\",\"linecolor\":\"white\",\"ticks\":\"\"},\"bgcolor\":\"#E5ECF6\",\"radialaxis\":{\"gridcolor\":\"white\",\"linecolor\":\"white\",\"ticks\":\"\"}},\"scene\":{\"xaxis\":{\"backgroundcolor\":\"#E5ECF6\",\"gridcolor\":\"white\",\"gridwidth\":2,\"linecolor\":\"white\",\"showbackground\":true,\"ticks\":\"\",\"zerolinecolor\":\"white\"},\"yaxis\":{\"backgroundcolor\":\"#E5ECF6\",\"gridcolor\":\"white\",\"gridwidth\":2,\"linecolor\":\"white\",\"showbackground\":true,\"ticks\":\"\",\"zerolinecolor\":\"white\"},\"zaxis\":{\"backgroundcolor\":\"#E5ECF6\",\"gridcolor\":\"white\",\"gridwidth\":2,\"linecolor\":\"white\",\"showbackground\":true,\"ticks\":\"\",\"zerolinecolor\":\"white\"}},\"shapedefaults\":{\"line\":{\"color\":\"#2a3f5f\"}},\"ternary\":{\"aaxis\":{\"gridcolor\":\"white\",\"linecolor\":\"white\",\"ticks\":\"\"},\"baxis\":{\"gridcolor\":\"white\",\"linecolor\":\"white\",\"ticks\":\"\"},\"bgcolor\":\"#E5ECF6\",\"caxis\":{\"gridcolor\":\"white\",\"linecolor\":\"white\",\"ticks\":\"\"}},\"title\":{\"x\":0.05},\"xaxis\":{\"automargin\":true,\"gridcolor\":\"white\",\"linecolor\":\"white\",\"ticks\":\"\",\"title\":{\"standoff\":15},\"zerolinecolor\":\"white\",\"zerolinewidth\":2},\"yaxis\":{\"automargin\":true,\"gridcolor\":\"white\",\"linecolor\":\"white\",\"ticks\":\"\",\"title\":{\"standoff\":15},\"zerolinecolor\":\"white\",\"zerolinewidth\":2}}},\"title\":{\"font\":{\"color\":\"#4D5663\"}},\"xaxis\":{\"gridcolor\":\"#E1E5ED\",\"showgrid\":true,\"tickfont\":{\"color\":\"#4D5663\"},\"title\":{\"font\":{\"color\":\"#4D5663\"},\"text\":\"\"},\"zerolinecolor\":\"#E1E5ED\"},\"yaxis\":{\"gridcolor\":\"#E1E5ED\",\"showgrid\":true,\"tickfont\":{\"color\":\"#4D5663\"},\"title\":{\"font\":{\"color\":\"#4D5663\"},\"text\":\"\"},\"zerolinecolor\":\"#E1E5ED\"}},                        {\"showLink\": true, \"linkText\": \"Export to plot.ly\", \"plotlyServerURL\": \"https://plot.ly\", \"responsive\": true}                    ).then(function(){\n",
       "                            \n",
       "var gd = document.getElementById('8755693b-7afa-48a0-a05a-5d8021e11ca2');\n",
       "var x = new MutationObserver(function (mutations, observer) {{\n",
       "        var display = window.getComputedStyle(gd).display;\n",
       "        if (!display || display === 'none') {{\n",
       "            console.log([gd, 'removed!']);\n",
       "            Plotly.purge(gd);\n",
       "            observer.disconnect();\n",
       "        }}\n",
       "}});\n",
       "\n",
       "// Listen for the removal of the full notebook cells\n",
       "var notebookContainer = gd.closest('#notebook-container');\n",
       "if (notebookContainer) {{\n",
       "    x.observe(notebookContainer, {childList: true});\n",
       "}}\n",
       "\n",
       "// Listen for the clearing of the current output cell\n",
       "var outputEl = gd.closest('.output');\n",
       "if (outputEl) {{\n",
       "    x.observe(outputEl, {childList: true});\n",
       "}}\n",
       "\n",
       "                        })                };                });            </script>        </div>"
      ],
      "application/vnd.plotly.v1+json": {
       "config": {
        "linkText": "Export to plot.ly",
        "plotlyServerURL": "https://plot.ly",
        "showLink": true
       },
       "data": [
        {
         "line": {
          "color": "rgba(255, 153, 51, 1.0)",
          "dash": "solid",
          "shape": "linear",
          "width": 1.3
         },
         "mode": "lines",
         "name": "A",
         "text": "",
         "type": "scatter",
         "x": [
          0,
          1,
          2,
          3,
          4,
          5,
          6,
          7,
          8,
          9,
          10,
          11,
          12,
          13,
          14,
          15,
          16,
          17,
          18,
          19,
          20,
          21,
          22,
          23,
          24,
          25,
          26,
          27,
          28,
          29,
          30,
          31,
          32,
          33,
          34,
          35,
          36,
          37,
          38,
          39,
          40,
          41,
          42,
          43,
          44,
          45,
          46,
          47,
          48,
          49,
          50,
          51,
          52,
          53,
          54,
          55,
          56,
          57,
          58,
          59,
          60,
          61,
          62,
          63,
          64,
          65,
          66,
          67,
          68,
          69,
          70,
          71,
          72,
          73,
          74,
          75,
          76,
          77,
          78,
          79,
          80,
          81,
          82,
          83,
          84,
          85,
          86,
          87,
          88,
          89,
          90,
          91,
          92,
          93,
          94,
          95,
          96,
          97,
          98,
          99
         ],
         "y": [
          0.28260698112987354,
          1.2332223035677228,
          0.4354055579200026,
          0.684759709370233,
          0.8205643427114727,
          -1.3123016078670058,
          -1.0421846170130413,
          -1.1778360357804665,
          0.6405227689851866,
          0.896953225143016,
          0.11502536825042851,
          0.7444667426123641,
          -0.6528328018776338,
          -1.2830692828784618,
          2.0908639299495677,
          1.0225481490851083,
          0.39322400446656125,
          -0.26124884511538443,
          -0.5835894078980552,
          -0.3372953485334146,
          1.6234150403275498,
          -1.587565794691716,
          -0.39776984283250594,
          -1.5549809730395452,
          -0.8452085757366412,
          1.072028303213556,
          0.10514751683865811,
          -0.33414899672733955,
          1.823432298747814,
          0.5206457012847417,
          0.03905996600218491,
          0.6269181907820459,
          -0.4954428658555747,
          -0.9386206717256824,
          0.28905040119432057,
          0.23492282067112114,
          0.1808943923291083,
          0.17236841093311492,
          0.6889906382309839,
          1.0288695980551976,
          -0.1569727768588622,
          -0.18358406368688263,
          -1.1457542570391193,
          -0.3910209258288129,
          -1.1600759745877143,
          0.5399508584664475,
          0.035059553730203676,
          -0.05262653537622572,
          0.5495157380190278,
          1.31770866372999,
          2.1464465179890344,
          0.7354720468756241,
          -0.6921949173682064,
          -0.7238121284211304,
          -0.854172743896826,
          -0.5877774789502859,
          -0.19084580594184739,
          1.845055188768299,
          0.10522959580844217,
          0.046210510303556905,
          -0.5130988757804416,
          -0.6277187349308498,
          -0.6151047163108688,
          0.6370638220645015,
          0.6883816792662871,
          0.18295167521838557,
          -1.9183851732628938,
          -0.28680238502899236,
          1.6553007959555133,
          0.7329632226103048,
          -1.3394236934620238,
          -0.09406533028228026,
          -1.382875638706075,
          -0.4120149910272494,
          0.6669267354930765,
          -2.32615065345653,
          -0.25313596136549654,
          -0.46372496132005736,
          -1.1870032215293345,
          -0.3550777187080226,
          1.1500933588304456,
          1.5482500175677016,
          0.9963449010314787,
          -2.020385639407404,
          0.32913362224647275,
          0.2051209366949203,
          -2.798672797831999,
          -0.5367480991818759,
          0.6864017113281099,
          0.4128662803645042,
          0.055040290098980336,
          -1.0374589348763255,
          0.0053545588567285455,
          0.8835500369540613,
          0.22846427633620606,
          0.04856207029981859,
          1.1858403102536184,
          -1.7535498535812377,
          -0.7127363357457197,
          0.1933573684257538
         ]
        },
        {
         "line": {
          "color": "rgba(55, 128, 191, 1.0)",
          "dash": "solid",
          "shape": "linear",
          "width": 1.3
         },
         "mode": "lines",
         "name": "B",
         "text": "",
         "type": "scatter",
         "x": [
          0,
          1,
          2,
          3,
          4,
          5,
          6,
          7,
          8,
          9,
          10,
          11,
          12,
          13,
          14,
          15,
          16,
          17,
          18,
          19,
          20,
          21,
          22,
          23,
          24,
          25,
          26,
          27,
          28,
          29,
          30,
          31,
          32,
          33,
          34,
          35,
          36,
          37,
          38,
          39,
          40,
          41,
          42,
          43,
          44,
          45,
          46,
          47,
          48,
          49,
          50,
          51,
          52,
          53,
          54,
          55,
          56,
          57,
          58,
          59,
          60,
          61,
          62,
          63,
          64,
          65,
          66,
          67,
          68,
          69,
          70,
          71,
          72,
          73,
          74,
          75,
          76,
          77,
          78,
          79,
          80,
          81,
          82,
          83,
          84,
          85,
          86,
          87,
          88,
          89,
          90,
          91,
          92,
          93,
          94,
          95,
          96,
          97,
          98,
          99
         ],
         "y": [
          0.022389475048935265,
          1.8290928733468865,
          -1.509713460693209,
          1.6957931970667792,
          -0.7525906520212029,
          0.11609062449232817,
          1.7094863232497712,
          1.0292038619769324,
          1.2051691119090802,
          2.340947506602518,
          -0.0995787549567306,
          0.2466147179942447,
          0.9405189126029937,
          0.8517710193067809,
          -0.046404248058671396,
          -0.5925889521365969,
          0.8037227441228202,
          -2.7020787621549305,
          -0.341454510479606,
          0.7346526177611036,
          2.0895121816318025,
          -0.6780510485836285,
          -0.45224873011830086,
          0.7567129711846172,
          0.27897172913001933,
          -0.7860963376378569,
          -0.6811413636016931,
          -0.5050713733689921,
          -0.7722981634334856,
          -0.4839489448636563,
          0.060718220652621474,
          0.23212710687714627,
          -0.7040894564192428,
          0.29330221940466983,
          0.8851930583351505,
          -1.7693522616768054,
          1.5020741990856254,
          -0.07252055213386965,
          1.7343951351062281,
          -1.21545220170653,
          0.386642731141691,
          -0.05594625519108832,
          0.8461323832790876,
          -0.27269062945776495,
          0.4538322771748423,
          -1.277971973594255,
          -0.11861541261306813,
          0.09037222191981434,
          0.8562485677210195,
          0.6491691162513201,
          0.49583654523107756,
          -0.02821324373016544,
          2.573403054215749,
          1.4670735494433012,
          -0.985611289200857,
          -0.755763055241671,
          0.33839013750486807,
          -0.8168031458939141,
          -0.9003126775577408,
          0.13490490310417672,
          -0.08576411004279402,
          -0.18797279848370876,
          1.1241636135657675,
          0.15766639776641284,
          0.4377345760896562,
          -1.958428796015208,
          -0.30970281302374897,
          -0.891431028335931,
          -0.9031719582672437,
          0.47315352724287163,
          -0.20589326300666203,
          0.19712922366774394,
          0.8075527567906355,
          -1.6065534149782208,
          -0.9630292552323951,
          -1.1586930443247494,
          1.2873239198109414,
          -0.05217774060011166,
          0.39566885835071103,
          -0.09076734540981475,
          0.21120386157922594,
          0.33261537919842593,
          -0.8285287838464227,
          -0.5974587253058745,
          -0.7450451714389204,
          1.3789103744719413,
          0.04691738088613078,
          1.1736763700147501,
          -0.809295879158127,
          -0.4635961850231098,
          0.9152631634009001,
          0.04428667667072247,
          1.1219166050000338,
          0.07775544260463252,
          -0.2716090069282571,
          -0.14247107290405608,
          -0.8676658867073334,
          -0.1422026486725549,
          0.5392731498786643,
          1.3082619835490465
         ]
        },
        {
         "line": {
          "color": "rgba(50, 171, 96, 1.0)",
          "dash": "solid",
          "shape": "linear",
          "width": 1.3
         },
         "mode": "lines",
         "name": "C",
         "text": "",
         "type": "scatter",
         "x": [
          0,
          1,
          2,
          3,
          4,
          5,
          6,
          7,
          8,
          9,
          10,
          11,
          12,
          13,
          14,
          15,
          16,
          17,
          18,
          19,
          20,
          21,
          22,
          23,
          24,
          25,
          26,
          27,
          28,
          29,
          30,
          31,
          32,
          33,
          34,
          35,
          36,
          37,
          38,
          39,
          40,
          41,
          42,
          43,
          44,
          45,
          46,
          47,
          48,
          49,
          50,
          51,
          52,
          53,
          54,
          55,
          56,
          57,
          58,
          59,
          60,
          61,
          62,
          63,
          64,
          65,
          66,
          67,
          68,
          69,
          70,
          71,
          72,
          73,
          74,
          75,
          76,
          77,
          78,
          79,
          80,
          81,
          82,
          83,
          84,
          85,
          86,
          87,
          88,
          89,
          90,
          91,
          92,
          93,
          94,
          95,
          96,
          97,
          98,
          99
         ],
         "y": [
          0.9664970582735563,
          -0.46789964918335525,
          -0.2405740754514376,
          -3.590591502189784,
          0.5395428929614711,
          -0.3367567285770683,
          -1.8714421107568917,
          -0.47491971129458,
          0.32042142514595096,
          -0.9676826608365573,
          -0.6642429842791522,
          -0.3034588970352596,
          0.08779168754751113,
          0.9533080396824566,
          -1.617331482127634,
          2.0756697397869894,
          -0.2555774491475544,
          0.31266024483565785,
          1.2418753671038367,
          -0.7516808978776661,
          -0.08022087607604463,
          -0.3051982959848779,
          -2.0157437419172926,
          0.3084589774620918,
          1.4038179097791412,
          -0.32121162089698846,
          -0.514684494287618,
          0.48337996426837,
          1.5903070018644074,
          -0.1882877648244508,
          0.5196648715430016,
          -0.9988201452723837,
          -0.16536368129273682,
          0.942395819996031,
          0.0634685834169639,
          -0.16832388969652273,
          -1.0702254082950113,
          0.13322735901964206,
          1.5124172551467532,
          -0.8495463001277032,
          -0.2677723912998057,
          0.4804365407718182,
          1.3268275947572932,
          0.8340384542453612,
          1.209652010985153,
          -0.0013091401058743617,
          -0.21108689198600727,
          2.6149952312836935,
          1.6258429303776016,
          1.0396993976101097,
          -1.1050898894946521,
          -1.2943994945614044,
          2.5035356234991135,
          1.1784481426711537,
          -2.623249402399246,
          -0.05907688448245229,
          -1.1114801966325114,
          1.5696885582438638,
          -1.157058515839244,
          -0.42746347807422935,
          -1.4057625049557723,
          0.1083803010705211,
          -0.4643993404370773,
          -1.0949889658152654,
          0.38951626307157217,
          -2.4054687475668186,
          0.06932609515539329,
          0.5633012479025268,
          2.386416007543127,
          0.008173492068420364,
          -0.577593905045356,
          -0.07212656914991908,
          0.11699421010102677,
          -1.0292534431522433,
          -0.5462473610232562,
          -0.9336214134898907,
          -0.6410237895480826,
          -1.508040248696955,
          -0.4518858516715683,
          -1.1196099993265436,
          -0.008889835117074214,
          -1.01194061906323,
          -1.9238348271008514,
          1.6532021744000869,
          0.14659514489707398,
          1.8636827761064763,
          0.5880498797095964,
          1.3595581644727863,
          0.8655213663063679,
          0.7012662790130755,
          -1.1635037101912447,
          1.1493955037224879,
          -0.9552905498115817,
          -1.0641249245743185,
          0.43369040695218797,
          -1.0242386221355413,
          -1.1169386385975968,
          -0.9502791189926046,
          -1.3389946305018539,
          1.089668094313534
         ]
        },
        {
         "line": {
          "color": "rgba(128, 0, 128, 1.0)",
          "dash": "solid",
          "shape": "linear",
          "width": 1.3
         },
         "mode": "lines",
         "name": "D",
         "text": "",
         "type": "scatter",
         "x": [
          0,
          1,
          2,
          3,
          4,
          5,
          6,
          7,
          8,
          9,
          10,
          11,
          12,
          13,
          14,
          15,
          16,
          17,
          18,
          19,
          20,
          21,
          22,
          23,
          24,
          25,
          26,
          27,
          28,
          29,
          30,
          31,
          32,
          33,
          34,
          35,
          36,
          37,
          38,
          39,
          40,
          41,
          42,
          43,
          44,
          45,
          46,
          47,
          48,
          49,
          50,
          51,
          52,
          53,
          54,
          55,
          56,
          57,
          58,
          59,
          60,
          61,
          62,
          63,
          64,
          65,
          66,
          67,
          68,
          69,
          70,
          71,
          72,
          73,
          74,
          75,
          76,
          77,
          78,
          79,
          80,
          81,
          82,
          83,
          84,
          85,
          86,
          87,
          88,
          89,
          90,
          91,
          92,
          93,
          94,
          95,
          96,
          97,
          98,
          99
         ],
         "y": [
          -1.1866421575493031,
          -1.986604198888067,
          0.16467538595694206,
          -1.1308010782210471,
          -0.07076438123290851,
          0.724520593694783,
          -1.4761782874735025,
          0.08437566894782798,
          2.074129419648802,
          1.6069524262625694,
          -0.13908534295011282,
          -0.3003402860072987,
          0.6921702785416795,
          -1.9201622041067101,
          -1.3980074385332706,
          1.3350668270334851,
          1.2756263687959617,
          0.8739960966442463,
          -1.2641406083662499,
          0.42033988325675564,
          0.43899206983929123,
          -1.3129428112287669,
          0.610354291677373,
          -0.751635050584645,
          0.12903887543654288,
          1.6271053388502836,
          0.4182559111933804,
          -0.06552503497436252,
          1.3114727141307423,
          -0.37059158220462224,
          -1.1370972361825888,
          0.3880233854858336,
          0.6871228241460234,
          0.38475045181013534,
          -0.2763977889415171,
          -0.20738909323874996,
          -1.016040980655972,
          0.20389779709922765,
          0.1734376247271563,
          -1.3483275824297707,
          0.635044400064331,
          -0.362548538640103,
          1.1245839401687456,
          -1.0179219702001583,
          0.09612590992377998,
          -1.2682806513028568,
          0.5803937655676308,
          -0.19046597613235278,
          -0.5794391658285439,
          0.2016968884401208,
          -0.5730357971276588,
          1.3396995187114216,
          0.04459377004914965,
          0.6563713297858776,
          -0.9374267372303812,
          0.03829403249616747,
          -0.5416406889415903,
          -1.5711668326056059,
          -0.5620762189649057,
          -0.3995369576975491,
          2.002664353363975,
          1.7751957837142995,
          1.5737777141928229,
          -0.4501110009596937,
          0.07966299198469318,
          -0.8627016793193968,
          -0.6584494898205258,
          -0.22771228370325047,
          0.5124079006413969,
          0.04951229827699428,
          -1.669063992458228,
          -0.4096140549262819,
          1.5091057645364427,
          0.9510393845684826,
          -0.5673876398198321,
          -1.3394643292313082,
          -2.0231108493846968,
          -0.4176080531787797,
          1.574838309030109,
          -1.2168644682394885,
          -0.8924621448728103,
          -0.07821444966011008,
          -0.13878636004490671,
          1.7170910953292027,
          -0.6163367637532748,
          -1.413025708791589,
          0.8718750442254107,
          -2.794762506476646,
          2.1782072502003875,
          -0.8763708933468688,
          1.048898753323657,
          0.8768693352415778,
          0.2614097632621545,
          1.3845550601634644,
          -1.7071805199098733,
          0.849220709637832,
          0.493255182884632,
          -0.26065297996251663,
          0.491882868197805,
          -0.6193882312007187
         ]
        }
       ],
       "layout": {
        "legend": {
         "bgcolor": "#F5F6F9",
         "font": {
          "color": "#4D5663"
         }
        },
        "paper_bgcolor": "#F5F6F9",
        "plot_bgcolor": "#F5F6F9",
        "template": {
         "data": {
          "bar": [
           {
            "error_x": {
             "color": "#2a3f5f"
            },
            "error_y": {
             "color": "#2a3f5f"
            },
            "marker": {
             "line": {
              "color": "#E5ECF6",
              "width": 0.5
             },
             "pattern": {
              "fillmode": "overlay",
              "size": 10,
              "solidity": 0.2
             }
            },
            "type": "bar"
           }
          ],
          "barpolar": [
           {
            "marker": {
             "line": {
              "color": "#E5ECF6",
              "width": 0.5
             },
             "pattern": {
              "fillmode": "overlay",
              "size": 10,
              "solidity": 0.2
             }
            },
            "type": "barpolar"
           }
          ],
          "carpet": [
           {
            "aaxis": {
             "endlinecolor": "#2a3f5f",
             "gridcolor": "white",
             "linecolor": "white",
             "minorgridcolor": "white",
             "startlinecolor": "#2a3f5f"
            },
            "baxis": {
             "endlinecolor": "#2a3f5f",
             "gridcolor": "white",
             "linecolor": "white",
             "minorgridcolor": "white",
             "startlinecolor": "#2a3f5f"
            },
            "type": "carpet"
           }
          ],
          "choropleth": [
           {
            "colorbar": {
             "outlinewidth": 0,
             "ticks": ""
            },
            "type": "choropleth"
           }
          ],
          "contour": [
           {
            "colorbar": {
             "outlinewidth": 0,
             "ticks": ""
            },
            "colorscale": [
             [
              0,
              "#0d0887"
             ],
             [
              0.1111111111111111,
              "#46039f"
             ],
             [
              0.2222222222222222,
              "#7201a8"
             ],
             [
              0.3333333333333333,
              "#9c179e"
             ],
             [
              0.4444444444444444,
              "#bd3786"
             ],
             [
              0.5555555555555556,
              "#d8576b"
             ],
             [
              0.6666666666666666,
              "#ed7953"
             ],
             [
              0.7777777777777778,
              "#fb9f3a"
             ],
             [
              0.8888888888888888,
              "#fdca26"
             ],
             [
              1,
              "#f0f921"
             ]
            ],
            "type": "contour"
           }
          ],
          "contourcarpet": [
           {
            "colorbar": {
             "outlinewidth": 0,
             "ticks": ""
            },
            "type": "contourcarpet"
           }
          ],
          "heatmap": [
           {
            "colorbar": {
             "outlinewidth": 0,
             "ticks": ""
            },
            "colorscale": [
             [
              0,
              "#0d0887"
             ],
             [
              0.1111111111111111,
              "#46039f"
             ],
             [
              0.2222222222222222,
              "#7201a8"
             ],
             [
              0.3333333333333333,
              "#9c179e"
             ],
             [
              0.4444444444444444,
              "#bd3786"
             ],
             [
              0.5555555555555556,
              "#d8576b"
             ],
             [
              0.6666666666666666,
              "#ed7953"
             ],
             [
              0.7777777777777778,
              "#fb9f3a"
             ],
             [
              0.8888888888888888,
              "#fdca26"
             ],
             [
              1,
              "#f0f921"
             ]
            ],
            "type": "heatmap"
           }
          ],
          "heatmapgl": [
           {
            "colorbar": {
             "outlinewidth": 0,
             "ticks": ""
            },
            "colorscale": [
             [
              0,
              "#0d0887"
             ],
             [
              0.1111111111111111,
              "#46039f"
             ],
             [
              0.2222222222222222,
              "#7201a8"
             ],
             [
              0.3333333333333333,
              "#9c179e"
             ],
             [
              0.4444444444444444,
              "#bd3786"
             ],
             [
              0.5555555555555556,
              "#d8576b"
             ],
             [
              0.6666666666666666,
              "#ed7953"
             ],
             [
              0.7777777777777778,
              "#fb9f3a"
             ],
             [
              0.8888888888888888,
              "#fdca26"
             ],
             [
              1,
              "#f0f921"
             ]
            ],
            "type": "heatmapgl"
           }
          ],
          "histogram": [
           {
            "marker": {
             "pattern": {
              "fillmode": "overlay",
              "size": 10,
              "solidity": 0.2
             }
            },
            "type": "histogram"
           }
          ],
          "histogram2d": [
           {
            "colorbar": {
             "outlinewidth": 0,
             "ticks": ""
            },
            "colorscale": [
             [
              0,
              "#0d0887"
             ],
             [
              0.1111111111111111,
              "#46039f"
             ],
             [
              0.2222222222222222,
              "#7201a8"
             ],
             [
              0.3333333333333333,
              "#9c179e"
             ],
             [
              0.4444444444444444,
              "#bd3786"
             ],
             [
              0.5555555555555556,
              "#d8576b"
             ],
             [
              0.6666666666666666,
              "#ed7953"
             ],
             [
              0.7777777777777778,
              "#fb9f3a"
             ],
             [
              0.8888888888888888,
              "#fdca26"
             ],
             [
              1,
              "#f0f921"
             ]
            ],
            "type": "histogram2d"
           }
          ],
          "histogram2dcontour": [
           {
            "colorbar": {
             "outlinewidth": 0,
             "ticks": ""
            },
            "colorscale": [
             [
              0,
              "#0d0887"
             ],
             [
              0.1111111111111111,
              "#46039f"
             ],
             [
              0.2222222222222222,
              "#7201a8"
             ],
             [
              0.3333333333333333,
              "#9c179e"
             ],
             [
              0.4444444444444444,
              "#bd3786"
             ],
             [
              0.5555555555555556,
              "#d8576b"
             ],
             [
              0.6666666666666666,
              "#ed7953"
             ],
             [
              0.7777777777777778,
              "#fb9f3a"
             ],
             [
              0.8888888888888888,
              "#fdca26"
             ],
             [
              1,
              "#f0f921"
             ]
            ],
            "type": "histogram2dcontour"
           }
          ],
          "mesh3d": [
           {
            "colorbar": {
             "outlinewidth": 0,
             "ticks": ""
            },
            "type": "mesh3d"
           }
          ],
          "parcoords": [
           {
            "line": {
             "colorbar": {
              "outlinewidth": 0,
              "ticks": ""
             }
            },
            "type": "parcoords"
           }
          ],
          "pie": [
           {
            "automargin": true,
            "type": "pie"
           }
          ],
          "scatter": [
           {
            "marker": {
             "colorbar": {
              "outlinewidth": 0,
              "ticks": ""
             }
            },
            "type": "scatter"
           }
          ],
          "scatter3d": [
           {
            "line": {
             "colorbar": {
              "outlinewidth": 0,
              "ticks": ""
             }
            },
            "marker": {
             "colorbar": {
              "outlinewidth": 0,
              "ticks": ""
             }
            },
            "type": "scatter3d"
           }
          ],
          "scattercarpet": [
           {
            "marker": {
             "colorbar": {
              "outlinewidth": 0,
              "ticks": ""
             }
            },
            "type": "scattercarpet"
           }
          ],
          "scattergeo": [
           {
            "marker": {
             "colorbar": {
              "outlinewidth": 0,
              "ticks": ""
             }
            },
            "type": "scattergeo"
           }
          ],
          "scattergl": [
           {
            "marker": {
             "colorbar": {
              "outlinewidth": 0,
              "ticks": ""
             }
            },
            "type": "scattergl"
           }
          ],
          "scattermapbox": [
           {
            "marker": {
             "colorbar": {
              "outlinewidth": 0,
              "ticks": ""
             }
            },
            "type": "scattermapbox"
           }
          ],
          "scatterpolar": [
           {
            "marker": {
             "colorbar": {
              "outlinewidth": 0,
              "ticks": ""
             }
            },
            "type": "scatterpolar"
           }
          ],
          "scatterpolargl": [
           {
            "marker": {
             "colorbar": {
              "outlinewidth": 0,
              "ticks": ""
             }
            },
            "type": "scatterpolargl"
           }
          ],
          "scatterternary": [
           {
            "marker": {
             "colorbar": {
              "outlinewidth": 0,
              "ticks": ""
             }
            },
            "type": "scatterternary"
           }
          ],
          "surface": [
           {
            "colorbar": {
             "outlinewidth": 0,
             "ticks": ""
            },
            "colorscale": [
             [
              0,
              "#0d0887"
             ],
             [
              0.1111111111111111,
              "#46039f"
             ],
             [
              0.2222222222222222,
              "#7201a8"
             ],
             [
              0.3333333333333333,
              "#9c179e"
             ],
             [
              0.4444444444444444,
              "#bd3786"
             ],
             [
              0.5555555555555556,
              "#d8576b"
             ],
             [
              0.6666666666666666,
              "#ed7953"
             ],
             [
              0.7777777777777778,
              "#fb9f3a"
             ],
             [
              0.8888888888888888,
              "#fdca26"
             ],
             [
              1,
              "#f0f921"
             ]
            ],
            "type": "surface"
           }
          ],
          "table": [
           {
            "cells": {
             "fill": {
              "color": "#EBF0F8"
             },
             "line": {
              "color": "white"
             }
            },
            "header": {
             "fill": {
              "color": "#C8D4E3"
             },
             "line": {
              "color": "white"
             }
            },
            "type": "table"
           }
          ]
         },
         "layout": {
          "annotationdefaults": {
           "arrowcolor": "#2a3f5f",
           "arrowhead": 0,
           "arrowwidth": 1
          },
          "autotypenumbers": "strict",
          "coloraxis": {
           "colorbar": {
            "outlinewidth": 0,
            "ticks": ""
           }
          },
          "colorscale": {
           "diverging": [
            [
             0,
             "#8e0152"
            ],
            [
             0.1,
             "#c51b7d"
            ],
            [
             0.2,
             "#de77ae"
            ],
            [
             0.3,
             "#f1b6da"
            ],
            [
             0.4,
             "#fde0ef"
            ],
            [
             0.5,
             "#f7f7f7"
            ],
            [
             0.6,
             "#e6f5d0"
            ],
            [
             0.7,
             "#b8e186"
            ],
            [
             0.8,
             "#7fbc41"
            ],
            [
             0.9,
             "#4d9221"
            ],
            [
             1,
             "#276419"
            ]
           ],
           "sequential": [
            [
             0,
             "#0d0887"
            ],
            [
             0.1111111111111111,
             "#46039f"
            ],
            [
             0.2222222222222222,
             "#7201a8"
            ],
            [
             0.3333333333333333,
             "#9c179e"
            ],
            [
             0.4444444444444444,
             "#bd3786"
            ],
            [
             0.5555555555555556,
             "#d8576b"
            ],
            [
             0.6666666666666666,
             "#ed7953"
            ],
            [
             0.7777777777777778,
             "#fb9f3a"
            ],
            [
             0.8888888888888888,
             "#fdca26"
            ],
            [
             1,
             "#f0f921"
            ]
           ],
           "sequentialminus": [
            [
             0,
             "#0d0887"
            ],
            [
             0.1111111111111111,
             "#46039f"
            ],
            [
             0.2222222222222222,
             "#7201a8"
            ],
            [
             0.3333333333333333,
             "#9c179e"
            ],
            [
             0.4444444444444444,
             "#bd3786"
            ],
            [
             0.5555555555555556,
             "#d8576b"
            ],
            [
             0.6666666666666666,
             "#ed7953"
            ],
            [
             0.7777777777777778,
             "#fb9f3a"
            ],
            [
             0.8888888888888888,
             "#fdca26"
            ],
            [
             1,
             "#f0f921"
            ]
           ]
          },
          "colorway": [
           "#636efa",
           "#EF553B",
           "#00cc96",
           "#ab63fa",
           "#FFA15A",
           "#19d3f3",
           "#FF6692",
           "#B6E880",
           "#FF97FF",
           "#FECB52"
          ],
          "font": {
           "color": "#2a3f5f"
          },
          "geo": {
           "bgcolor": "white",
           "lakecolor": "white",
           "landcolor": "#E5ECF6",
           "showlakes": true,
           "showland": true,
           "subunitcolor": "white"
          },
          "hoverlabel": {
           "align": "left"
          },
          "hovermode": "closest",
          "mapbox": {
           "style": "light"
          },
          "paper_bgcolor": "white",
          "plot_bgcolor": "#E5ECF6",
          "polar": {
           "angularaxis": {
            "gridcolor": "white",
            "linecolor": "white",
            "ticks": ""
           },
           "bgcolor": "#E5ECF6",
           "radialaxis": {
            "gridcolor": "white",
            "linecolor": "white",
            "ticks": ""
           }
          },
          "scene": {
           "xaxis": {
            "backgroundcolor": "#E5ECF6",
            "gridcolor": "white",
            "gridwidth": 2,
            "linecolor": "white",
            "showbackground": true,
            "ticks": "",
            "zerolinecolor": "white"
           },
           "yaxis": {
            "backgroundcolor": "#E5ECF6",
            "gridcolor": "white",
            "gridwidth": 2,
            "linecolor": "white",
            "showbackground": true,
            "ticks": "",
            "zerolinecolor": "white"
           },
           "zaxis": {
            "backgroundcolor": "#E5ECF6",
            "gridcolor": "white",
            "gridwidth": 2,
            "linecolor": "white",
            "showbackground": true,
            "ticks": "",
            "zerolinecolor": "white"
           }
          },
          "shapedefaults": {
           "line": {
            "color": "#2a3f5f"
           }
          },
          "ternary": {
           "aaxis": {
            "gridcolor": "white",
            "linecolor": "white",
            "ticks": ""
           },
           "baxis": {
            "gridcolor": "white",
            "linecolor": "white",
            "ticks": ""
           },
           "bgcolor": "#E5ECF6",
           "caxis": {
            "gridcolor": "white",
            "linecolor": "white",
            "ticks": ""
           }
          },
          "title": {
           "x": 0.05
          },
          "xaxis": {
           "automargin": true,
           "gridcolor": "white",
           "linecolor": "white",
           "ticks": "",
           "title": {
            "standoff": 15
           },
           "zerolinecolor": "white",
           "zerolinewidth": 2
          },
          "yaxis": {
           "automargin": true,
           "gridcolor": "white",
           "linecolor": "white",
           "ticks": "",
           "title": {
            "standoff": 15
           },
           "zerolinecolor": "white",
           "zerolinewidth": 2
          }
         }
        },
        "title": {
         "font": {
          "color": "#4D5663"
         }
        },
        "xaxis": {
         "gridcolor": "#E1E5ED",
         "showgrid": true,
         "tickfont": {
          "color": "#4D5663"
         },
         "title": {
          "font": {
           "color": "#4D5663"
          },
          "text": ""
         },
         "zerolinecolor": "#E1E5ED"
        },
        "yaxis": {
         "gridcolor": "#E1E5ED",
         "showgrid": true,
         "tickfont": {
          "color": "#4D5663"
         },
         "title": {
          "font": {
           "color": "#4D5663"
          },
          "text": ""
         },
         "zerolinecolor": "#E1E5ED"
        }
       }
      }
     },
     "metadata": {}
    }
   ],
   "metadata": {}
  },
  {
   "cell_type": "code",
   "execution_count": null,
   "source": [],
   "outputs": [],
   "metadata": {}
  }
 ],
 "metadata": {
  "orig_nbformat": 4,
  "language_info": {
   "name": "python",
   "version": "3.8.5",
   "mimetype": "text/x-python",
   "codemirror_mode": {
    "name": "ipython",
    "version": 3
   },
   "pygments_lexer": "ipython3",
   "nbconvert_exporter": "python",
   "file_extension": ".py"
  },
  "kernelspec": {
   "name": "python3",
   "display_name": "Python 3.8.5 64-bit ('base': conda)"
  },
  "interpreter": {
   "hash": "3ebb3b5889f8b8ea9baf04abef8021eb32e5bc4aca22e9d8e3d938dbe8691048"
  }
 },
 "nbformat": 4,
 "nbformat_minor": 2
}